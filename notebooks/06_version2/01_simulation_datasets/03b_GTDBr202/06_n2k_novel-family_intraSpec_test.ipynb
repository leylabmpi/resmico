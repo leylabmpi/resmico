{
 "cells": [
  {
   "cell_type": "markdown",
   "metadata": {
    "toc": true
   },
   "source": [
    "<h1>Table of Contents<span class=\"tocSkip\"></span></h1>\n",
    "<div class=\"toc\"><ul class=\"toc-item\"><li><span><a href=\"#Goal\" data-toc-modified-id=\"Goal-1\"><span class=\"toc-item-num\">1&nbsp;&nbsp;</span>Goal</a></span></li><li><span><a href=\"#Var\" data-toc-modified-id=\"Var-2\"><span class=\"toc-item-num\">2&nbsp;&nbsp;</span>Var</a></span></li><li><span><a href=\"#Init\" data-toc-modified-id=\"Init-3\"><span class=\"toc-item-num\">3&nbsp;&nbsp;</span>Init</a></span></li><li><span><a href=\"#Check\" data-toc-modified-id=\"Check-4\"><span class=\"toc-item-num\">4&nbsp;&nbsp;</span>Check</a></span><ul class=\"toc-item\"><li><ul class=\"toc-item\"><li><span><a href=\"#Checking-overlap-with-Train\" data-toc-modified-id=\"Checking-overlap-with-Train-4.0.1\"><span class=\"toc-item-num\">4.0.1&nbsp;&nbsp;</span>Checking overlap with Train</a></span></li><li><span><a href=\"#Writing-table\" data-toc-modified-id=\"Writing-table-4.0.2\"><span class=\"toc-item-num\">4.0.2&nbsp;&nbsp;</span>Writing table</a></span></li></ul></li></ul></li><li><span><a href=\"#ResMiCo-SM\" data-toc-modified-id=\"ResMiCo-SM-5\"><span class=\"toc-item-num\">5&nbsp;&nbsp;</span>ResMiCo-SM</a></span><ul class=\"toc-item\"><li><span><a href=\"#Run1\" data-toc-modified-id=\"Run1-5.1\"><span class=\"toc-item-num\">5.1&nbsp;&nbsp;</span>Run1</a></span><ul class=\"toc-item\"><li><span><a href=\"#Config\" data-toc-modified-id=\"Config-5.1.1\"><span class=\"toc-item-num\">5.1.1&nbsp;&nbsp;</span>Config</a></span></li><li><span><a href=\"#Run\" data-toc-modified-id=\"Run-5.1.2\"><span class=\"toc-item-num\">5.1.2&nbsp;&nbsp;</span>Run</a></span></li></ul></li></ul></li><li><span><a href=\"#sessionInfo\" data-toc-modified-id=\"sessionInfo-6\"><span class=\"toc-item-num\">6&nbsp;&nbsp;</span>sessionInfo</a></span></li></ul></div>"
   ]
  },
  {
   "cell_type": "markdown",
   "metadata": {},
   "source": [
    "# Goal\n",
    "\n",
    "* Assesssing high intra-species diversity"
   ]
  },
  {
   "cell_type": "markdown",
   "metadata": {},
   "source": [
    "# Var"
   ]
  },
  {
   "cell_type": "code",
   "execution_count": 1,
   "metadata": {
    "ExecuteTime": {
     "end_time": "2022-02-09T12:39:43.833057Z",
     "start_time": "2022-02-09T12:39:43.766Z"
    }
   },
   "outputs": [],
   "source": [
    "work_dir = '/ebio/abt3_projects/databases_no-backup/DeepMAsED/version2/resmico-sm/GTDBr202_n2k_novel-family_test-intraSpec/'\n",
    "\n",
    "# reference genomes\n",
    "## test (from 01_simulation_datasets/01_selecting_ref_genomes/03a_GTDBr202_intra-spec.ipynb)\n",
    "ref_gen_file = '/ebio/abt3_projects/databases_no-backup/DeepMAsED/version2/ref_genomes/GTDBr202/metadata_n9k-novel-family_intraSpec2k.tsv'\n",
    "## train\n",
    "ref_gen_train_file = '/ebio/abt3_projects/databases_no-backup/DeepMAsED/version2/ref_genomes/GTDBr202/metadata_n9k-train.tsv'\n",
    "\n",
    "# params\n",
    "threads = 12"
   ]
  },
  {
   "cell_type": "markdown",
   "metadata": {},
   "source": [
    "# Init"
   ]
  },
  {
   "cell_type": "code",
   "execution_count": 3,
   "metadata": {
    "ExecuteTime": {
     "end_time": "2022-02-09T12:39:54.612847Z",
     "start_time": "2022-02-09T12:39:54.457Z"
    }
   },
   "outputs": [
    {
     "name": "stderr",
     "output_type": "stream",
     "text": [
      "Loading required package: clustermq\n",
      "\n"
     ]
    }
   ],
   "source": [
    "library(dplyr)\n",
    "library(tidyr)\n",
    "library(ggplot2)\n",
    "library(data.table)\n",
    "library(tidytable)\n",
    "library(LeyLabRMisc)\n",
    "Init()"
   ]
  },
  {
   "cell_type": "markdown",
   "metadata": {},
   "source": [
    "# Check"
   ]
  },
  {
   "cell_type": "code",
   "execution_count": 4,
   "metadata": {
    "ExecuteTime": {
     "end_time": "2022-02-09T12:40:03.530932Z",
     "start_time": "2022-02-09T12:40:03.432Z"
    }
   },
   "outputs": [
    {
     "data": {
      "text/html": [
       "<table class=\"dataframe\">\n",
       "<caption>A data.table: 2000 × 20</caption>\n",
       "<thead>\n",
       "\t<tr><th scope=col>accession</th><th scope=col>ncbi_genbank_assembly_accession</th><th scope=col>Domain</th><th scope=col>Phylum</th><th scope=col>Class</th><th scope=col>Order</th><th scope=col>Family</th><th scope=col>Genus</th><th scope=col>Species</th><th scope=col>fasta_file_path</th><th scope=col>dataset</th><th scope=col>checkm_completeness</th><th scope=col>checkm_contamination</th><th scope=col>contig_count</th><th scope=col>gc_percentage</th><th scope=col>genome_size</th><th scope=col>n50_contigs</th><th scope=col>ssu_count</th><th scope=col>X</th><th scope=col>Y</th></tr>\n",
       "\t<tr><th scope=col>&lt;chr&gt;</th><th scope=col>&lt;chr&gt;</th><th scope=col>&lt;chr&gt;</th><th scope=col>&lt;chr&gt;</th><th scope=col>&lt;chr&gt;</th><th scope=col>&lt;chr&gt;</th><th scope=col>&lt;chr&gt;</th><th scope=col>&lt;chr&gt;</th><th scope=col>&lt;chr&gt;</th><th scope=col>&lt;chr&gt;</th><th scope=col>&lt;chr&gt;</th><th scope=col>&lt;dbl&gt;</th><th scope=col>&lt;dbl&gt;</th><th scope=col>&lt;int&gt;</th><th scope=col>&lt;dbl&gt;</th><th scope=col>&lt;int&gt;</th><th scope=col>&lt;int&gt;</th><th scope=col>&lt;int&gt;</th><th scope=col>&lt;int&gt;</th><th scope=col>&lt;int&gt;</th></tr>\n",
       "</thead>\n",
       "<tbody>\n",
       "\t<tr><td>RS_GCF_000671495.1</td><td>GCA_000671495.1</td><td>Bacteria</td><td>Proteobacteria</td><td>Gammaproteobacteria</td><td>Pseudomonadales</td><td>Moraxellaceae</td><td>Acinetobacter</td><td>Acinetobacter baumannii</td><td>/ebio/abt3_projects/databases_no-backup/DeepMAsED/version2/ref_genomes/GTDBr202/genomes_fasta/genbank/bacteria/GCA_000671495.1/GCA_000671495.1_ASM67149v1_genomic.fna.gz </td><td>Novel-family</td><td>100.00</td><td>0.14</td><td>116</td><td>39.21204</td><td>4023027</td><td>74995</td><td>5</td><td>675</td><td>1</td></tr>\n",
       "\t<tr><td>RS_GCF_003356455.1</td><td>GCA_003356455.1</td><td>Bacteria</td><td>Proteobacteria</td><td>Gammaproteobacteria</td><td>Pseudomonadales</td><td>Moraxellaceae</td><td>Acinetobacter</td><td>Acinetobacter baumannii</td><td>/ebio/abt3_projects/databases_no-backup/DeepMAsED/version2/ref_genomes/GTDBr202/genomes_fasta/genbank/bacteria/GCA_003356455.1/GCA_003356455.1_ASM335645v1_genomic.fna.gz</td><td>Novel-family</td><td> 99.59</td><td>0.61</td><td>130</td><td>38.82852</td><td>3941977</td><td>75425</td><td>2</td><td>675</td><td>2</td></tr>\n",
       "\t<tr><td>⋮</td><td>⋮</td><td>⋮</td><td>⋮</td><td>⋮</td><td>⋮</td><td>⋮</td><td>⋮</td><td>⋮</td><td>⋮</td><td>⋮</td><td>⋮</td><td>⋮</td><td>⋮</td><td>⋮</td><td>⋮</td><td>⋮</td><td>⋮</td><td>⋮</td><td>⋮</td></tr>\n",
       "\t<tr><td>RS_GCF_013306745.1</td><td>GCA_013306745.1</td><td>Bacteria</td><td>Proteobacteria</td><td>Gammaproteobacteria</td><td>Burkholderiales</td><td>Burkholderiaceae</td><td>Ralstonia</td><td>Ralstonia pseudosolanacearum</td><td>/ebio/abt3_projects/databases_no-backup/DeepMAsED/version2/ref_genomes/GTDBr202/genomes_fasta/genbank/bacteria/GCA_013306745.1/GCA_013306745.1_ASM1330674v1_genomic.fna.gz</td><td>Novel-family</td><td>99.94</td><td>0.00</td><td>2</td><td>66.83661</td><td>5922123</td><td>3788096</td><td>4</td><td>19</td><td>1999</td></tr>\n",
       "\t<tr><td>RS_GCF_013306765.1</td><td>GCA_013306765.1</td><td>Bacteria</td><td>Proteobacteria</td><td>Gammaproteobacteria</td><td>Burkholderiales</td><td>Burkholderiaceae</td><td>Ralstonia</td><td>Ralstonia pseudosolanacearum</td><td>/ebio/abt3_projects/databases_no-backup/DeepMAsED/version2/ref_genomes/GTDBr202/genomes_fasta/genbank/bacteria/GCA_013306765.1/GCA_013306765.1_ASM1330676v1_genomic.fna.gz</td><td>Novel-family</td><td>99.94</td><td>0.11</td><td>2</td><td>66.78815</td><td>6059895</td><td>3984235</td><td>4</td><td>19</td><td>2000</td></tr>\n",
       "</tbody>\n",
       "</table>\n"
      ],
      "text/latex": [
       "A data.table: 2000 × 20\n",
       "\\begin{tabular}{llllllllllllllllllll}\n",
       " accession & ncbi\\_genbank\\_assembly\\_accession & Domain & Phylum & Class & Order & Family & Genus & Species & fasta\\_file\\_path & dataset & checkm\\_completeness & checkm\\_contamination & contig\\_count & gc\\_percentage & genome\\_size & n50\\_contigs & ssu\\_count & X & Y\\\\\n",
       " <chr> & <chr> & <chr> & <chr> & <chr> & <chr> & <chr> & <chr> & <chr> & <chr> & <chr> & <dbl> & <dbl> & <int> & <dbl> & <int> & <int> & <int> & <int> & <int>\\\\\n",
       "\\hline\n",
       "\t RS\\_GCF\\_000671495.1 & GCA\\_000671495.1 & Bacteria & Proteobacteria & Gammaproteobacteria & Pseudomonadales & Moraxellaceae & Acinetobacter & Acinetobacter baumannii & /ebio/abt3\\_projects/databases\\_no-backup/DeepMAsED/version2/ref\\_genomes/GTDBr202/genomes\\_fasta/genbank/bacteria/GCA\\_000671495.1/GCA\\_000671495.1\\_ASM67149v1\\_genomic.fna.gz  & Novel-family & 100.00 & 0.14 & 116 & 39.21204 & 4023027 & 74995 & 5 & 675 & 1\\\\\n",
       "\t RS\\_GCF\\_003356455.1 & GCA\\_003356455.1 & Bacteria & Proteobacteria & Gammaproteobacteria & Pseudomonadales & Moraxellaceae & Acinetobacter & Acinetobacter baumannii & /ebio/abt3\\_projects/databases\\_no-backup/DeepMAsED/version2/ref\\_genomes/GTDBr202/genomes\\_fasta/genbank/bacteria/GCA\\_003356455.1/GCA\\_003356455.1\\_ASM335645v1\\_genomic.fna.gz & Novel-family &  99.59 & 0.61 & 130 & 38.82852 & 3941977 & 75425 & 2 & 675 & 2\\\\\n",
       "\t ⋮ & ⋮ & ⋮ & ⋮ & ⋮ & ⋮ & ⋮ & ⋮ & ⋮ & ⋮ & ⋮ & ⋮ & ⋮ & ⋮ & ⋮ & ⋮ & ⋮ & ⋮ & ⋮ & ⋮\\\\\n",
       "\t RS\\_GCF\\_013306745.1 & GCA\\_013306745.1 & Bacteria & Proteobacteria & Gammaproteobacteria & Burkholderiales & Burkholderiaceae & Ralstonia & Ralstonia pseudosolanacearum & /ebio/abt3\\_projects/databases\\_no-backup/DeepMAsED/version2/ref\\_genomes/GTDBr202/genomes\\_fasta/genbank/bacteria/GCA\\_013306745.1/GCA\\_013306745.1\\_ASM1330674v1\\_genomic.fna.gz & Novel-family & 99.94 & 0.00 & 2 & 66.83661 & 5922123 & 3788096 & 4 & 19 & 1999\\\\\n",
       "\t RS\\_GCF\\_013306765.1 & GCA\\_013306765.1 & Bacteria & Proteobacteria & Gammaproteobacteria & Burkholderiales & Burkholderiaceae & Ralstonia & Ralstonia pseudosolanacearum & /ebio/abt3\\_projects/databases\\_no-backup/DeepMAsED/version2/ref\\_genomes/GTDBr202/genomes\\_fasta/genbank/bacteria/GCA\\_013306765.1/GCA\\_013306765.1\\_ASM1330676v1\\_genomic.fna.gz & Novel-family & 99.94 & 0.11 & 2 & 66.78815 & 6059895 & 3984235 & 4 & 19 & 2000\\\\\n",
       "\\end{tabular}\n"
      ],
      "text/markdown": [
       "\n",
       "A data.table: 2000 × 20\n",
       "\n",
       "| accession &lt;chr&gt; | ncbi_genbank_assembly_accession &lt;chr&gt; | Domain &lt;chr&gt; | Phylum &lt;chr&gt; | Class &lt;chr&gt; | Order &lt;chr&gt; | Family &lt;chr&gt; | Genus &lt;chr&gt; | Species &lt;chr&gt; | fasta_file_path &lt;chr&gt; | dataset &lt;chr&gt; | checkm_completeness &lt;dbl&gt; | checkm_contamination &lt;dbl&gt; | contig_count &lt;int&gt; | gc_percentage &lt;dbl&gt; | genome_size &lt;int&gt; | n50_contigs &lt;int&gt; | ssu_count &lt;int&gt; | X &lt;int&gt; | Y &lt;int&gt; |\n",
       "|---|---|---|---|---|---|---|---|---|---|---|---|---|---|---|---|---|---|---|---|\n",
       "| RS_GCF_000671495.1 | GCA_000671495.1 | Bacteria | Proteobacteria | Gammaproteobacteria | Pseudomonadales | Moraxellaceae | Acinetobacter | Acinetobacter baumannii | /ebio/abt3_projects/databases_no-backup/DeepMAsED/version2/ref_genomes/GTDBr202/genomes_fasta/genbank/bacteria/GCA_000671495.1/GCA_000671495.1_ASM67149v1_genomic.fna.gz  | Novel-family | 100.00 | 0.14 | 116 | 39.21204 | 4023027 | 74995 | 5 | 675 | 1 |\n",
       "| RS_GCF_003356455.1 | GCA_003356455.1 | Bacteria | Proteobacteria | Gammaproteobacteria | Pseudomonadales | Moraxellaceae | Acinetobacter | Acinetobacter baumannii | /ebio/abt3_projects/databases_no-backup/DeepMAsED/version2/ref_genomes/GTDBr202/genomes_fasta/genbank/bacteria/GCA_003356455.1/GCA_003356455.1_ASM335645v1_genomic.fna.gz | Novel-family |  99.59 | 0.61 | 130 | 38.82852 | 3941977 | 75425 | 2 | 675 | 2 |\n",
       "| ⋮ | ⋮ | ⋮ | ⋮ | ⋮ | ⋮ | ⋮ | ⋮ | ⋮ | ⋮ | ⋮ | ⋮ | ⋮ | ⋮ | ⋮ | ⋮ | ⋮ | ⋮ | ⋮ | ⋮ |\n",
       "| RS_GCF_013306745.1 | GCA_013306745.1 | Bacteria | Proteobacteria | Gammaproteobacteria | Burkholderiales | Burkholderiaceae | Ralstonia | Ralstonia pseudosolanacearum | /ebio/abt3_projects/databases_no-backup/DeepMAsED/version2/ref_genomes/GTDBr202/genomes_fasta/genbank/bacteria/GCA_013306745.1/GCA_013306745.1_ASM1330674v1_genomic.fna.gz | Novel-family | 99.94 | 0.00 | 2 | 66.83661 | 5922123 | 3788096 | 4 | 19 | 1999 |\n",
       "| RS_GCF_013306765.1 | GCA_013306765.1 | Bacteria | Proteobacteria | Gammaproteobacteria | Burkholderiales | Burkholderiaceae | Ralstonia | Ralstonia pseudosolanacearum | /ebio/abt3_projects/databases_no-backup/DeepMAsED/version2/ref_genomes/GTDBr202/genomes_fasta/genbank/bacteria/GCA_013306765.1/GCA_013306765.1_ASM1330676v1_genomic.fna.gz | Novel-family | 99.94 | 0.11 | 2 | 66.78815 | 6059895 | 3984235 | 4 | 19 | 2000 |\n",
       "\n"
      ],
      "text/plain": [
       "     accession          ncbi_genbank_assembly_accession Domain   Phylum        \n",
       "1    RS_GCF_000671495.1 GCA_000671495.1                 Bacteria Proteobacteria\n",
       "2    RS_GCF_003356455.1 GCA_003356455.1                 Bacteria Proteobacteria\n",
       "⋮    ⋮                  ⋮                               ⋮        ⋮             \n",
       "1999 RS_GCF_013306745.1 GCA_013306745.1                 Bacteria Proteobacteria\n",
       "2000 RS_GCF_013306765.1 GCA_013306765.1                 Bacteria Proteobacteria\n",
       "     Class               Order           Family           Genus        \n",
       "1    Gammaproteobacteria Pseudomonadales Moraxellaceae    Acinetobacter\n",
       "2    Gammaproteobacteria Pseudomonadales Moraxellaceae    Acinetobacter\n",
       "⋮    ⋮                   ⋮               ⋮                ⋮            \n",
       "1999 Gammaproteobacteria Burkholderiales Burkholderiaceae Ralstonia    \n",
       "2000 Gammaproteobacteria Burkholderiales Burkholderiaceae Ralstonia    \n",
       "     Species                     \n",
       "1    Acinetobacter baumannii     \n",
       "2    Acinetobacter baumannii     \n",
       "⋮    ⋮                           \n",
       "1999 Ralstonia pseudosolanacearum\n",
       "2000 Ralstonia pseudosolanacearum\n",
       "     fasta_file_path                                                                                                                                                           \n",
       "1    /ebio/abt3_projects/databases_no-backup/DeepMAsED/version2/ref_genomes/GTDBr202/genomes_fasta/genbank/bacteria/GCA_000671495.1/GCA_000671495.1_ASM67149v1_genomic.fna.gz  \n",
       "2    /ebio/abt3_projects/databases_no-backup/DeepMAsED/version2/ref_genomes/GTDBr202/genomes_fasta/genbank/bacteria/GCA_003356455.1/GCA_003356455.1_ASM335645v1_genomic.fna.gz \n",
       "⋮    ⋮                                                                                                                                                                         \n",
       "1999 /ebio/abt3_projects/databases_no-backup/DeepMAsED/version2/ref_genomes/GTDBr202/genomes_fasta/genbank/bacteria/GCA_013306745.1/GCA_013306745.1_ASM1330674v1_genomic.fna.gz\n",
       "2000 /ebio/abt3_projects/databases_no-backup/DeepMAsED/version2/ref_genomes/GTDBr202/genomes_fasta/genbank/bacteria/GCA_013306765.1/GCA_013306765.1_ASM1330676v1_genomic.fna.gz\n",
       "     dataset      checkm_completeness checkm_contamination contig_count\n",
       "1    Novel-family 100.00              0.14                 116         \n",
       "2    Novel-family  99.59              0.61                 130         \n",
       "⋮    ⋮            ⋮                   ⋮                    ⋮           \n",
       "1999 Novel-family 99.94               0.00                 2           \n",
       "2000 Novel-family 99.94               0.11                 2           \n",
       "     gc_percentage genome_size n50_contigs ssu_count X   Y   \n",
       "1    39.21204      4023027     74995       5         675 1   \n",
       "2    38.82852      3941977     75425       2         675 2   \n",
       "⋮    ⋮             ⋮           ⋮           ⋮         ⋮   ⋮   \n",
       "1999 66.83661      5922123     3788096     4         19  1999\n",
       "2000 66.78815      6059895     3984235     4         19  2000"
      ]
     },
     "metadata": {},
     "output_type": "display_data"
    }
   ],
   "source": [
    "# reference genomes\n",
    "ref_gen = Fread(ref_gen_file)\n",
    "ref_gen"
   ]
  },
  {
   "cell_type": "code",
   "execution_count": 5,
   "metadata": {
    "ExecuteTime": {
     "end_time": "2022-02-09T12:40:08.206605Z",
     "start_time": "2022-02-09T12:40:08.176Z"
    }
   },
   "outputs": [
    {
     "name": "stdout",
     "output_type": "stream",
     "text": [
      "No. of unique genomes: 2000 \n",
      "No. of unique NCBI accessions: 2000 \n"
     ]
    }
   ],
   "source": [
    "# number of genomes\n",
    "ref_gen$accession %>% unique_n('genomes')\n",
    "ref_gen$ncbi_genbank_assembly_accession %>% unique_n('NCBI accessions')"
   ]
  },
  {
   "cell_type": "code",
   "execution_count": 6,
   "metadata": {
    "ExecuteTime": {
     "end_time": "2022-02-09T12:40:11.640547Z",
     "start_time": "2022-02-09T12:40:11.616Z"
    }
   },
   "outputs": [
    {
     "name": "stdout",
     "output_type": "stream",
     "text": [
      "No. of unique species: 60 \n"
     ]
    }
   ],
   "source": [
    "# number of species\n",
    "ref_gen$Species %>% unique_n('species')"
   ]
  },
  {
   "cell_type": "markdown",
   "metadata": {},
   "source": [
    "### Checking overlap with Train"
   ]
  },
  {
   "cell_type": "code",
   "execution_count": 7,
   "metadata": {
    "ExecuteTime": {
     "end_time": "2022-02-09T12:40:22.143254Z",
     "start_time": "2022-02-09T12:40:22.044Z"
    }
   },
   "outputs": [
    {
     "data": {
      "text/html": [
       "<table class=\"dataframe\">\n",
       "<caption>A data.table: 9000 × 19</caption>\n",
       "<thead>\n",
       "\t<tr><th scope=col>accession</th><th scope=col>ncbi_genbank_assembly_accession</th><th scope=col>Domain</th><th scope=col>Phylum</th><th scope=col>Class</th><th scope=col>Order</th><th scope=col>Family</th><th scope=col>Genus</th><th scope=col>Species</th><th scope=col>fasta_file_path</th><th scope=col>dataset</th><th scope=col>checkm_completeness</th><th scope=col>checkm_contamination</th><th scope=col>contig_count</th><th scope=col>gc_percentage</th><th scope=col>genome_size</th><th scope=col>n50_contigs</th><th scope=col>ssu_count</th><th scope=col>X</th></tr>\n",
       "\t<tr><th scope=col>&lt;chr&gt;</th><th scope=col>&lt;chr&gt;</th><th scope=col>&lt;chr&gt;</th><th scope=col>&lt;chr&gt;</th><th scope=col>&lt;chr&gt;</th><th scope=col>&lt;chr&gt;</th><th scope=col>&lt;chr&gt;</th><th scope=col>&lt;chr&gt;</th><th scope=col>&lt;chr&gt;</th><th scope=col>&lt;chr&gt;</th><th scope=col>&lt;chr&gt;</th><th scope=col>&lt;dbl&gt;</th><th scope=col>&lt;dbl&gt;</th><th scope=col>&lt;int&gt;</th><th scope=col>&lt;dbl&gt;</th><th scope=col>&lt;int&gt;</th><th scope=col>&lt;int&gt;</th><th scope=col>&lt;int&gt;</th><th scope=col>&lt;int&gt;</th></tr>\n",
       "</thead>\n",
       "<tbody>\n",
       "\t<tr><td>RS_GCF_000328665.1</td><td>GCA_000328665.1</td><td>Archaea</td><td>Halobacteriota   </td><td>Methanosarcinia</td><td>Methanosarcinales </td><td>Methanosarcinaceae </td><td>Methanomethylovorans</td><td>Methanomethylovorans hollandica</td><td>/ebio/abt3_projects/databases_no-backup/DeepMAsED/version2/ref_genomes/GTDBr202/genomes_fasta/genbank/archaea/GCA_000328665.1/GCA_000328665.1_ASM32866v1_genomic.fna.gz </td><td>Train</td><td>99.84</td><td>0.33</td><td> 2</td><td>41.86704</td><td>2714013</td><td>2428904</td><td>2</td><td>1062</td></tr>\n",
       "\t<tr><td>RS_GCF_003149675.1</td><td>GCA_003149675.1</td><td>Archaea</td><td>Methanobacteriota</td><td>Methanobacteria</td><td>Methanobacteriales</td><td>Methanobacteriaceae</td><td>Methanosphaera      </td><td>Methanosphaera cuniculi        </td><td>/ebio/abt3_projects/databases_no-backup/DeepMAsED/version2/ref_genomes/GTDBr202/genomes_fasta/genbank/archaea/GCA_003149675.1/GCA_003149675.1_ASM314967v1_genomic.fna.gz</td><td>Train</td><td>96.00</td><td>0.00</td><td>48</td><td>28.08352</td><td>1881477</td><td>  86478</td><td>1</td><td>  39</td></tr>\n",
       "\t<tr><td>⋮</td><td>⋮</td><td>⋮</td><td>⋮</td><td>⋮</td><td>⋮</td><td>⋮</td><td>⋮</td><td>⋮</td><td>⋮</td><td>⋮</td><td>⋮</td><td>⋮</td><td>⋮</td><td>⋮</td><td>⋮</td><td>⋮</td><td>⋮</td><td>⋮</td></tr>\n",
       "\t<tr><td>RS_GCF_903931695.1</td><td>GCA_903931695.1</td><td>Bacteria</td><td>Proteobacteria</td><td>Gammaproteobacteria</td><td>Enterobacterales</td><td>Enterobacteriaceae</td><td>Salmonella    </td><td>Salmonella enterica        </td><td>/ebio/abt3_projects/databases_no-backup/DeepMAsED/version2/ref_genomes/GTDBr202/genomes_fasta/genbank/bacteria/GCA_903931695.1/GCA_903931695.1_0253_01_genomic.fna.gz</td><td>Train</td><td>99.85</td><td>0.04</td><td>134</td><td>52.23247</td><td>4810919</td><td> 68200</td><td>1</td><td>5465</td></tr>\n",
       "\t<tr><td>RS_GCF_903969785.1</td><td>GCA_903969785.1</td><td>Bacteria</td><td>Firmicutes    </td><td>Bacilli            </td><td>Staphylococcales</td><td>Staphylococcaceae </td><td>Staphylococcus</td><td>Staphylococcus haemolyticus</td><td>/ebio/abt3_projects/databases_no-backup/DeepMAsED/version2/ref_genomes/GTDBr202/genomes_fasta/genbank/bacteria/GCA_903969785.1/GCA_903969785.1_57-10_genomic.fna.gz  </td><td>Train</td><td>99.39</td><td>0.70</td><td> 88</td><td>32.67126</td><td>2470162</td><td>353079</td><td>1</td><td>3904</td></tr>\n",
       "</tbody>\n",
       "</table>\n"
      ],
      "text/latex": [
       "A data.table: 9000 × 19\n",
       "\\begin{tabular}{lllllllllllllllllll}\n",
       " accession & ncbi\\_genbank\\_assembly\\_accession & Domain & Phylum & Class & Order & Family & Genus & Species & fasta\\_file\\_path & dataset & checkm\\_completeness & checkm\\_contamination & contig\\_count & gc\\_percentage & genome\\_size & n50\\_contigs & ssu\\_count & X\\\\\n",
       " <chr> & <chr> & <chr> & <chr> & <chr> & <chr> & <chr> & <chr> & <chr> & <chr> & <chr> & <dbl> & <dbl> & <int> & <dbl> & <int> & <int> & <int> & <int>\\\\\n",
       "\\hline\n",
       "\t RS\\_GCF\\_000328665.1 & GCA\\_000328665.1 & Archaea & Halobacteriota    & Methanosarcinia & Methanosarcinales  & Methanosarcinaceae  & Methanomethylovorans & Methanomethylovorans hollandica & /ebio/abt3\\_projects/databases\\_no-backup/DeepMAsED/version2/ref\\_genomes/GTDBr202/genomes\\_fasta/genbank/archaea/GCA\\_000328665.1/GCA\\_000328665.1\\_ASM32866v1\\_genomic.fna.gz  & Train & 99.84 & 0.33 &  2 & 41.86704 & 2714013 & 2428904 & 2 & 1062\\\\\n",
       "\t RS\\_GCF\\_003149675.1 & GCA\\_003149675.1 & Archaea & Methanobacteriota & Methanobacteria & Methanobacteriales & Methanobacteriaceae & Methanosphaera       & Methanosphaera cuniculi         & /ebio/abt3\\_projects/databases\\_no-backup/DeepMAsED/version2/ref\\_genomes/GTDBr202/genomes\\_fasta/genbank/archaea/GCA\\_003149675.1/GCA\\_003149675.1\\_ASM314967v1\\_genomic.fna.gz & Train & 96.00 & 0.00 & 48 & 28.08352 & 1881477 &   86478 & 1 &   39\\\\\n",
       "\t ⋮ & ⋮ & ⋮ & ⋮ & ⋮ & ⋮ & ⋮ & ⋮ & ⋮ & ⋮ & ⋮ & ⋮ & ⋮ & ⋮ & ⋮ & ⋮ & ⋮ & ⋮ & ⋮\\\\\n",
       "\t RS\\_GCF\\_903931695.1 & GCA\\_903931695.1 & Bacteria & Proteobacteria & Gammaproteobacteria & Enterobacterales & Enterobacteriaceae & Salmonella     & Salmonella enterica         & /ebio/abt3\\_projects/databases\\_no-backup/DeepMAsED/version2/ref\\_genomes/GTDBr202/genomes\\_fasta/genbank/bacteria/GCA\\_903931695.1/GCA\\_903931695.1\\_0253\\_01\\_genomic.fna.gz & Train & 99.85 & 0.04 & 134 & 52.23247 & 4810919 &  68200 & 1 & 5465\\\\\n",
       "\t RS\\_GCF\\_903969785.1 & GCA\\_903969785.1 & Bacteria & Firmicutes     & Bacilli             & Staphylococcales & Staphylococcaceae  & Staphylococcus & Staphylococcus haemolyticus & /ebio/abt3\\_projects/databases\\_no-backup/DeepMAsED/version2/ref\\_genomes/GTDBr202/genomes\\_fasta/genbank/bacteria/GCA\\_903969785.1/GCA\\_903969785.1\\_57-10\\_genomic.fna.gz   & Train & 99.39 & 0.70 &  88 & 32.67126 & 2470162 & 353079 & 1 & 3904\\\\\n",
       "\\end{tabular}\n"
      ],
      "text/markdown": [
       "\n",
       "A data.table: 9000 × 19\n",
       "\n",
       "| accession &lt;chr&gt; | ncbi_genbank_assembly_accession &lt;chr&gt; | Domain &lt;chr&gt; | Phylum &lt;chr&gt; | Class &lt;chr&gt; | Order &lt;chr&gt; | Family &lt;chr&gt; | Genus &lt;chr&gt; | Species &lt;chr&gt; | fasta_file_path &lt;chr&gt; | dataset &lt;chr&gt; | checkm_completeness &lt;dbl&gt; | checkm_contamination &lt;dbl&gt; | contig_count &lt;int&gt; | gc_percentage &lt;dbl&gt; | genome_size &lt;int&gt; | n50_contigs &lt;int&gt; | ssu_count &lt;int&gt; | X &lt;int&gt; |\n",
       "|---|---|---|---|---|---|---|---|---|---|---|---|---|---|---|---|---|---|---|\n",
       "| RS_GCF_000328665.1 | GCA_000328665.1 | Archaea | Halobacteriota    | Methanosarcinia | Methanosarcinales  | Methanosarcinaceae  | Methanomethylovorans | Methanomethylovorans hollandica | /ebio/abt3_projects/databases_no-backup/DeepMAsED/version2/ref_genomes/GTDBr202/genomes_fasta/genbank/archaea/GCA_000328665.1/GCA_000328665.1_ASM32866v1_genomic.fna.gz  | Train | 99.84 | 0.33 |  2 | 41.86704 | 2714013 | 2428904 | 2 | 1062 |\n",
       "| RS_GCF_003149675.1 | GCA_003149675.1 | Archaea | Methanobacteriota | Methanobacteria | Methanobacteriales | Methanobacteriaceae | Methanosphaera       | Methanosphaera cuniculi         | /ebio/abt3_projects/databases_no-backup/DeepMAsED/version2/ref_genomes/GTDBr202/genomes_fasta/genbank/archaea/GCA_003149675.1/GCA_003149675.1_ASM314967v1_genomic.fna.gz | Train | 96.00 | 0.00 | 48 | 28.08352 | 1881477 |   86478 | 1 |   39 |\n",
       "| ⋮ | ⋮ | ⋮ | ⋮ | ⋮ | ⋮ | ⋮ | ⋮ | ⋮ | ⋮ | ⋮ | ⋮ | ⋮ | ⋮ | ⋮ | ⋮ | ⋮ | ⋮ | ⋮ |\n",
       "| RS_GCF_903931695.1 | GCA_903931695.1 | Bacteria | Proteobacteria | Gammaproteobacteria | Enterobacterales | Enterobacteriaceae | Salmonella     | Salmonella enterica         | /ebio/abt3_projects/databases_no-backup/DeepMAsED/version2/ref_genomes/GTDBr202/genomes_fasta/genbank/bacteria/GCA_903931695.1/GCA_903931695.1_0253_01_genomic.fna.gz | Train | 99.85 | 0.04 | 134 | 52.23247 | 4810919 |  68200 | 1 | 5465 |\n",
       "| RS_GCF_903969785.1 | GCA_903969785.1 | Bacteria | Firmicutes     | Bacilli             | Staphylococcales | Staphylococcaceae  | Staphylococcus | Staphylococcus haemolyticus | /ebio/abt3_projects/databases_no-backup/DeepMAsED/version2/ref_genomes/GTDBr202/genomes_fasta/genbank/bacteria/GCA_903969785.1/GCA_903969785.1_57-10_genomic.fna.gz   | Train | 99.39 | 0.70 |  88 | 32.67126 | 2470162 | 353079 | 1 | 3904 |\n",
       "\n"
      ],
      "text/plain": [
       "     accession          ncbi_genbank_assembly_accession Domain  \n",
       "1    RS_GCF_000328665.1 GCA_000328665.1                 Archaea \n",
       "2    RS_GCF_003149675.1 GCA_003149675.1                 Archaea \n",
       "⋮    ⋮                  ⋮                               ⋮       \n",
       "8999 RS_GCF_903931695.1 GCA_903931695.1                 Bacteria\n",
       "9000 RS_GCF_903969785.1 GCA_903969785.1                 Bacteria\n",
       "     Phylum            Class               Order             \n",
       "1    Halobacteriota    Methanosarcinia     Methanosarcinales \n",
       "2    Methanobacteriota Methanobacteria     Methanobacteriales\n",
       "⋮    ⋮                 ⋮                   ⋮                 \n",
       "8999 Proteobacteria    Gammaproteobacteria Enterobacterales  \n",
       "9000 Firmicutes        Bacilli             Staphylococcales  \n",
       "     Family              Genus                Species                        \n",
       "1    Methanosarcinaceae  Methanomethylovorans Methanomethylovorans hollandica\n",
       "2    Methanobacteriaceae Methanosphaera       Methanosphaera cuniculi        \n",
       "⋮    ⋮                   ⋮                    ⋮                              \n",
       "8999 Enterobacteriaceae  Salmonella           Salmonella enterica            \n",
       "9000 Staphylococcaceae   Staphylococcus       Staphylococcus haemolyticus    \n",
       "     fasta_file_path                                                                                                                                                         \n",
       "1    /ebio/abt3_projects/databases_no-backup/DeepMAsED/version2/ref_genomes/GTDBr202/genomes_fasta/genbank/archaea/GCA_000328665.1/GCA_000328665.1_ASM32866v1_genomic.fna.gz \n",
       "2    /ebio/abt3_projects/databases_no-backup/DeepMAsED/version2/ref_genomes/GTDBr202/genomes_fasta/genbank/archaea/GCA_003149675.1/GCA_003149675.1_ASM314967v1_genomic.fna.gz\n",
       "⋮    ⋮                                                                                                                                                                       \n",
       "8999 /ebio/abt3_projects/databases_no-backup/DeepMAsED/version2/ref_genomes/GTDBr202/genomes_fasta/genbank/bacteria/GCA_903931695.1/GCA_903931695.1_0253_01_genomic.fna.gz   \n",
       "9000 /ebio/abt3_projects/databases_no-backup/DeepMAsED/version2/ref_genomes/GTDBr202/genomes_fasta/genbank/bacteria/GCA_903969785.1/GCA_903969785.1_57-10_genomic.fna.gz     \n",
       "     dataset checkm_completeness checkm_contamination contig_count\n",
       "1    Train   99.84               0.33                  2          \n",
       "2    Train   96.00               0.00                 48          \n",
       "⋮    ⋮       ⋮                   ⋮                    ⋮           \n",
       "8999 Train   99.85               0.04                 134         \n",
       "9000 Train   99.39               0.70                  88         \n",
       "     gc_percentage genome_size n50_contigs ssu_count X   \n",
       "1    41.86704      2714013     2428904     2         1062\n",
       "2    28.08352      1881477       86478     1           39\n",
       "⋮    ⋮             ⋮           ⋮           ⋮         ⋮   \n",
       "8999 52.23247      4810919      68200      1         5465\n",
       "9000 32.67126      2470162     353079      1         3904"
      ]
     },
     "metadata": {},
     "output_type": "display_data"
    }
   ],
   "source": [
    "ref_gen_train = Fread(ref_gen_train_file)\n",
    "ref_gen_train"
   ]
  },
  {
   "cell_type": "code",
   "execution_count": 8,
   "metadata": {
    "ExecuteTime": {
     "end_time": "2022-02-09T12:40:26.112861Z",
     "start_time": "2022-02-09T12:40:26.082Z"
    }
   },
   "outputs": [
    {
     "name": "stdout",
     "output_type": "stream",
     "text": [
      "intersect(x,y): 0 \n",
      "setdiff(x,y): 2000 \n",
      "setdiff(y,x): 9000 \n",
      "union(x,y): 11000 \n"
     ]
    }
   ],
   "source": [
    "# overlapping genomes?\n",
    "overlap(ref_gen$accession, ref_gen_train$accession)"
   ]
  },
  {
   "cell_type": "code",
   "execution_count": 9,
   "metadata": {
    "ExecuteTime": {
     "end_time": "2022-02-09T12:40:31.293082Z",
     "start_time": "2022-02-09T12:40:31.232Z"
    }
   },
   "outputs": [
    {
     "name": "stdout",
     "output_type": "stream",
     "text": [
      "---Order--\n",
      "intersect(x,y): 10 \n",
      "setdiff(x,y): 4 \n",
      "setdiff(y,x): 94 \n",
      "union(x,y): 108 \n",
      "---Family--\n",
      "intersect(x,y): 0 \n",
      "setdiff(x,y): 18 \n",
      "setdiff(y,x): 186 \n",
      "union(x,y): 204 \n",
      "---Genus--\n",
      "intersect(x,y): 0 \n",
      "setdiff(x,y): 28 \n",
      "setdiff(y,x): 709 \n",
      "union(x,y): 737 \n"
     ]
    }
   ],
   "source": [
    "# overlapping taxonomies?\n",
    "cat('---Order--\\n')\n",
    "overlap(ref_gen$Order, ref_gen_train$Order)\n",
    "cat('---Family--\\n')\n",
    "overlap(ref_gen$Family, ref_gen_train$Family)\n",
    "cat('---Genus--\\n')\n",
    "overlap(ref_gen$Genus, ref_gen_train$Genus)"
   ]
  },
  {
   "cell_type": "markdown",
   "metadata": {},
   "source": [
    "### Writing table"
   ]
  },
  {
   "cell_type": "code",
   "execution_count": 10,
   "metadata": {
    "ExecuteTime": {
     "end_time": "2022-02-09T12:40:44.070121Z",
     "start_time": "2022-02-09T12:40:44.029Z"
    }
   },
   "outputs": [
    {
     "name": "stdout",
     "output_type": "stream",
     "text": [
      "File written: /ebio/abt3_projects/databases_no-backup/DeepMAsED/version2/resmico-sm/GTDBr202_n2k_novel-family_test-intraSpec//genomes.tsv \n"
     ]
    }
   ],
   "source": [
    "F = file.path(work_dir, 'genomes.tsv')\n",
    "ref_gen %>%\n",
    "    rename.('Taxon' = accession,\n",
    "            'Fasta' = fasta_file_path) %>%\n",
    "    write_table(F)"
   ]
  },
  {
   "cell_type": "markdown",
   "metadata": {},
   "source": [
    "# ResMiCo-SM"
   ]
  },
  {
   "cell_type": "markdown",
   "metadata": {},
   "source": [
    "## Run1"
   ]
  },
  {
   "cell_type": "markdown",
   "metadata": {},
   "source": [
    "### Config"
   ]
  },
  {
   "cell_type": "code",
   "execution_count": 12,
   "metadata": {
    "ExecuteTime": {
     "end_time": "2022-02-09T12:47:54.582749Z",
     "start_time": "2022-02-09T12:47:54.542Z"
    }
   },
   "outputs": [
    {
     "name": "stdout",
     "output_type": "stream",
     "text": [
      "# Input table\n",
      "## Table of genomes\n",
      "genomes_file: /ebio/abt3_projects/databases_no-backup/DeepMAsED/version2/resmico-sm/GTDBr202_n9k_novel-family_test/genomes.tsv\n",
      "## If using pre-generated reads\n",
      "reads_file: Skip\n",
      "\n",
      "# Output directory\n",
      "output_dir: /ebio/abt3_projects/databases_no-backup/DeepMAsED/version2/resmico-sm/GTDBr202_n9k_novel-family_test/\n",
      "\n",
      "# Temporary output directory (/dev/shm/ for shared memory)\n",
      "tmp_dir: /ebio/abt3_scratch/\n",
      "\n",
      "# Email for notifications (\"Skip\" to skip)\n",
      "email: nyoungblut@tuebingen.mpg.de\n",
      "\n",
      "# software parameters for data simulations\n",
      "## Use \"Skip\" to skip  steps. If no params for rule, use \"\"\n",
      "## `reps:` is the number of replicate simulations\n",
      "## If `keep_reads: True`, then simulated reads are kept\n",
      "params:\n",
      "  ionice: -c 3\n",
      "  # simulating metagenomes\n",
      "  MGSIM:\n",
      "    genome_download: \"\"\n",
      "    sim_reps: 1\n",
      "    community:\n",
      "      richness:\n",
      "        - 0.025\n",
      "        - 0.5\n",
      "      abundance_distribution:\n",
      "        - \"mean:10,sigma:0.5\"\n",
      "        - \"mean:10,sigma:1\"\n",
      "        - \"mean:10,sigma:2\"\n",
      "      random_seed: Skip #8192\n",
      "      other_sim_params: --group-bias 0\n",
      "    reads: \n",
      "      length:\n",
      "        - 100\n",
      "        - 150\n",
      "      depth:\n",
      "        - 2000000\n",
      "        - 8000000\n",
      "        - 12000000\n",
      "      other_sim_params: --art-paired --art-mflen 270 --art-sdev 50 --rndSeed 8712\n",
      "      skewer: -n -l 70 -q 25\n",
      "      keep_reads: False\n",
      "  # coverage\n",
      "  nonpareil:\n",
      "    params: -T kmer\n",
      "    summary: 1e9   # this is target seq. depth\n",
      "  # assemblying metagenomes\n",
      "  assemblers:\n",
      "    metaspades: -k auto --only-assembler\n",
      "    megahit: --min-count 1 --min-contig-len 1000\n",
      "  # assembly filtering\n",
      "  contigs:\n",
      "    length_cutoff: 1000       # length in bp \n",
      "  # assessing assembly errors\n",
      "  asmbl_errors:\n",
      "    metaquast: --max-ref-number 0 --min-contig 1000 --min-identity 95 --extensive-mis-size 100\n",
      "               --no-html --no-plots --no-icarus --no-gc --no-snps --no-sv\n",
      "    keep_genomes: True\n",
      "  # mapping reads to contigs\n",
      "  map:\n",
      "    samtools: \"\"\n",
      "    bowtie2: \"\"\n",
      "    max_coverage: 20\n",
      "    keep_bam: False\n",
      "    keep_faidx: False\n",
      "    create_bigwig: False    \n",
      "  # creating ResMiCo feature tables\n",
      "  feature_table:\n",
      "    make: --window 6\n",
      "  # state-of-the-art\n",
      "  SotA:\n",
      "    ALE: \"\"\n",
      "    VALET: Skip \n",
      "    metaMIC:\n",
      "      extract: --mlen 1000\n",
      "      predict: --mlen 1000 --slen 500 -a MEGAHIT\n",
      "\n",
      "# params just for creating feature tables for non-simulated data\n",
      "nonsim_params:\n",
      "  # max number of reads to use\n",
      "  subsample_reads: Skip #5000000\n",
      "\n",
      "# snakemake pipeline\n",
      "pipeline:\n",
      "  snakemake_folder: ./\n",
      "  script_folder: ./bin/scripts/\n",
      "  name: ResMiCo-SM"
     ]
    }
   ],
   "source": [
    "F = file.path(work_dir, 'config.yaml')\n",
    "cat_file(F)"
   ]
  },
  {
   "cell_type": "markdown",
   "metadata": {},
   "source": [
    "### Run"
   ]
  },
  {
   "cell_type": "markdown",
   "metadata": {},
   "source": [
    "```\n",
    "(snakemake) @ rick:/ebio/abt3_projects/DeepMAsED/version2/deepmased/ResMiCo-SM\n",
    "$ screen -L -S rmc-sm-novFam ./snakemake_sge.sh /ebio/abt3_projects/databases_no-backup/DeepMAsED/version2/resmico-sm/GTDBr202_n2k_novel-family_test-intraSpec/config.yaml 50 -F\n",
    "```"
   ]
  },
  {
   "cell_type": "markdown",
   "metadata": {},
   "source": [
    "# sessionInfo"
   ]
  },
  {
   "cell_type": "code",
   "execution_count": 14,
   "metadata": {
    "ExecuteTime": {
     "end_time": "2022-02-15T19:10:22.013985Z",
     "start_time": "2022-02-15T19:10:21.836Z"
    }
   },
   "outputs": [
    {
     "data": {
      "text/plain": [
       "R version 4.1.1 (2021-08-10)\n",
       "Platform: x86_64-conda-linux-gnu (64-bit)\n",
       "Running under: Ubuntu 18.04.6 LTS\n",
       "\n",
       "Matrix products: default\n",
       "BLAS/LAPACK: /tmp/global2/nyoungblut/code/general/conda_envs/general-tidyverse/lib/libopenblasp-r0.3.18.so\n",
       "\n",
       "locale:\n",
       " [1] LC_CTYPE=en_US.UTF-8       LC_NUMERIC=C              \n",
       " [3] LC_TIME=en_US.UTF-8        LC_COLLATE=en_US.UTF-8    \n",
       " [5] LC_MONETARY=en_US.UTF-8    LC_MESSAGES=en_US.UTF-8   \n",
       " [7] LC_PAPER=en_US.UTF-8       LC_NAME=C                 \n",
       " [9] LC_ADDRESS=C               LC_TELEPHONE=C            \n",
       "[11] LC_MEASUREMENT=en_US.UTF-8 LC_IDENTIFICATION=C       \n",
       "\n",
       "attached base packages:\n",
       "[1] stats     graphics  grDevices utils     datasets  methods   base     \n",
       "\n",
       "other attached packages:\n",
       "[1] clustermq_0.8.95.2 LeyLabRMisc_0.2.1  tidytable_0.6.6    data.table_1.14.2 \n",
       "[5] ggplot2_3.3.5      tidyr_1.1.4        dplyr_1.0.7       \n",
       "\n",
       "loaded via a namespace (and not attached):\n",
       " [1] Rcpp_1.0.7       plyr_1.8.6       pillar_1.6.4     compiler_4.1.1  \n",
       " [5] base64enc_0.1-3  tools_4.1.1      digest_0.6.29    uuid_1.0-3      \n",
       " [9] jsonlite_1.7.2   evaluate_0.14    lifecycle_1.0.1  tibble_3.1.6    \n",
       "[13] gtable_0.3.0     pkgconfig_2.0.3  rlang_0.4.12     IRdisplay_1.1   \n",
       "[17] IRkernel_1.3     fastmap_1.1.0    repr_1.1.4       withr_2.4.3     \n",
       "[21] generics_0.1.1   vctrs_0.3.8      grid_4.1.1       tidyselect_1.1.1\n",
       "[25] glue_1.6.0       R6_2.5.1         fansi_1.0.0      pbdZMQ_0.3-6    \n",
       "[29] purrr_0.3.4      magrittr_2.0.1   codetools_0.2-18 scales_1.1.1    \n",
       "[33] ellipsis_0.3.2   htmltools_0.5.2  colorspace_2.0-2 utf8_1.2.2      \n",
       "[37] munsell_0.5.0    crayon_1.4.2    "
      ]
     },
     "metadata": {},
     "output_type": "display_data"
    }
   ],
   "source": [
    "sessionInfo()"
   ]
  },
  {
   "cell_type": "code",
   "execution_count": null,
   "metadata": {},
   "outputs": [],
   "source": []
  }
 ],
 "metadata": {
  "kernelspec": {
   "display_name": "R [conda env:general-tidyverse]",
   "language": "R",
   "name": "conda-env-general-tidyverse-r"
  },
  "language_info": {
   "codemirror_mode": "r",
   "file_extension": ".r",
   "mimetype": "text/x-r-source",
   "name": "R",
   "pygments_lexer": "r",
   "version": "4.1.1"
  },
  "notify_time": "30",
  "toc": {
   "base_numbering": 1,
   "nav_menu": {},
   "number_sections": true,
   "sideBar": true,
   "skip_h1_title": false,
   "title_cell": "Table of Contents",
   "title_sidebar": "Contents",
   "toc_cell": true,
   "toc_position": {},
   "toc_section_display": true,
   "toc_window_display": true
  }
 },
 "nbformat": 4,
 "nbformat_minor": 4
}
