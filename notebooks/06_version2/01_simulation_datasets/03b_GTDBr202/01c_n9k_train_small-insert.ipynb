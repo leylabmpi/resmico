{
 "cells": [
  {
   "cell_type": "markdown",
   "metadata": {
    "toc": true
   },
   "source": [
    "<h1>Table of Contents<span class=\"tocSkip\"></span></h1>\n",
    "<div class=\"toc\"><ul class=\"toc-item\"><li><span><a href=\"#Goal\" data-toc-modified-id=\"Goal-1\"><span class=\"toc-item-num\">1&nbsp;&nbsp;</span>Goal</a></span></li><li><span><a href=\"#Var\" data-toc-modified-id=\"Var-2\"><span class=\"toc-item-num\">2&nbsp;&nbsp;</span>Var</a></span></li><li><span><a href=\"#Init\" data-toc-modified-id=\"Init-3\"><span class=\"toc-item-num\">3&nbsp;&nbsp;</span>Init</a></span></li><li><span><a href=\"#ResMiCo-sm\" data-toc-modified-id=\"ResMiCo-sm-4\"><span class=\"toc-item-num\">4&nbsp;&nbsp;</span>ResMiCo-sm</a></span><ul class=\"toc-item\"><li><span><a href=\"#Run1:-CAMI-error\" data-toc-modified-id=\"Run1:-CAMI-error-4.1\"><span class=\"toc-item-num\">4.1&nbsp;&nbsp;</span>Run1: CAMI-error</a></span><ul class=\"toc-item\"><li><span><a href=\"#Config\" data-toc-modified-id=\"Config-4.1.1\"><span class=\"toc-item-num\">4.1.1&nbsp;&nbsp;</span>Config</a></span></li><li><span><a href=\"#Run\" data-toc-modified-id=\"Run-4.1.2\"><span class=\"toc-item-num\">4.1.2&nbsp;&nbsp;</span>Run</a></span></li><li><span><a href=\"#Summary\" data-toc-modified-id=\"Summary-4.1.3\"><span class=\"toc-item-num\">4.1.3&nbsp;&nbsp;</span>Summary</a></span><ul class=\"toc-item\"><li><span><a href=\"#Feature-file-table\" data-toc-modified-id=\"Feature-file-table-4.1.3.1\"><span class=\"toc-item-num\">4.1.3.1&nbsp;&nbsp;</span>Feature file table</a></span></li><li><span><a href=\"#Missing?\" data-toc-modified-id=\"Missing?-4.1.3.2\"><span class=\"toc-item-num\">4.1.3.2&nbsp;&nbsp;</span>Missing?</a></span></li></ul></li></ul></li><li><span><a href=\"#Run2:-standard-error\" data-toc-modified-id=\"Run2:-standard-error-4.2\"><span class=\"toc-item-num\">4.2&nbsp;&nbsp;</span>Run2: standard-error</a></span><ul class=\"toc-item\"><li><span><a href=\"#Config\" data-toc-modified-id=\"Config-4.2.1\"><span class=\"toc-item-num\">4.2.1&nbsp;&nbsp;</span>Config</a></span></li><li><span><a href=\"#Run\" data-toc-modified-id=\"Run-4.2.2\"><span class=\"toc-item-num\">4.2.2&nbsp;&nbsp;</span>Run</a></span></li></ul></li><li><span><a href=\"#Run2a:-standard-error-(reps-2-&amp;-3)\" data-toc-modified-id=\"Run2a:-standard-error-(reps-2-&amp;-3)-4.3\"><span class=\"toc-item-num\">4.3&nbsp;&nbsp;</span>Run2a: standard-error (reps 2 &amp; 3)</a></span><ul class=\"toc-item\"><li><span><a href=\"#Config\" data-toc-modified-id=\"Config-4.3.1\"><span class=\"toc-item-num\">4.3.1&nbsp;&nbsp;</span>Config</a></span></li><li><span><a href=\"#Run\" data-toc-modified-id=\"Run-4.3.2\"><span class=\"toc-item-num\">4.3.2&nbsp;&nbsp;</span>Run</a></span></li><li><span><a href=\"#Summary\" data-toc-modified-id=\"Summary-4.3.3\"><span class=\"toc-item-num\">4.3.3&nbsp;&nbsp;</span>Summary</a></span></li></ul></li></ul></li><li><span><a href=\"#sessionInfo\" data-toc-modified-id=\"sessionInfo-5\"><span class=\"toc-item-num\">5&nbsp;&nbsp;</span>sessionInfo</a></span></li></ul></div>"
   ]
  },
  {
   "cell_type": "markdown",
   "metadata": {},
   "source": [
    "# Goal\n",
    "\n",
    "* GTDBr202 n9k train dataset with CAMI-error rates for simulated reads\n",
    "  * Using error rates obtained from the [CAMISIM repo](https://github.com/CAMI-challenge/CAMISIM)\n",
    "* Using a larger insert size distribution used in the original simulations"
   ]
  },
  {
   "cell_type": "markdown",
   "metadata": {},
   "source": [
    "# Var"
   ]
  },
  {
   "cell_type": "code",
   "execution_count": 1,
   "metadata": {
    "ExecuteTime": {
     "end_time": "2022-07-11T12:09:24.309979Z",
     "start_time": "2022-07-11T12:09:23.979Z"
    }
   },
   "outputs": [],
   "source": [
    "work_dir = '/ebio/abt3_projects/databases_no-backup/DeepMAsED/version2/resmico-sm/GTDBr202_n9k_train_sm-ins_CAMI-err/'\n",
    "\n",
    "ref_gen_file = '/ebio/abt3_projects/databases_no-backup/DeepMAsED/version2/ref_genomes/GTDBr202/metadata_n9k-train.tsv'\n",
    "\n",
    "# params\n",
    "threads = 12"
   ]
  },
  {
   "cell_type": "markdown",
   "metadata": {},
   "source": [
    "# Init"
   ]
  },
  {
   "cell_type": "code",
   "execution_count": 5,
   "metadata": {
    "ExecuteTime": {
     "end_time": "2022-07-11T12:09:29.033390Z",
     "start_time": "2022-07-11T12:09:29.047Z"
    }
   },
   "outputs": [],
   "source": [
    "library(dplyr)\n",
    "library(tidyr)\n",
    "library(ggplot2)\n",
    "library(data.table)\n",
    "library(tidytable)\n",
    "library(LeyLabRMisc)"
   ]
  },
  {
   "cell_type": "code",
   "execution_count": 6,
   "metadata": {
    "ExecuteTime": {
     "end_time": "2022-07-11T12:09:29.485827Z",
     "start_time": "2022-07-11T12:09:29.511Z"
    }
   },
   "outputs": [],
   "source": [
    "library(PRROC)"
   ]
  },
  {
   "cell_type": "code",
   "execution_count": 7,
   "metadata": {
    "ExecuteTime": {
     "end_time": "2022-07-11T12:09:29.719673Z",
     "start_time": "2022-07-11T12:09:29.742Z"
    }
   },
   "outputs": [
    {
     "name": "stdout",
     "output_type": "stream",
     "text": [
      "Directory already exists: /ebio/abt3_projects/databases_no-backup/DeepMAsED/version2/resmico-sm/GTDBr202_n9k_train_sm-ins_CAMI-err/ \n"
     ]
    }
   ],
   "source": [
    "clustermq_setup(scheduler = c(\"multicore\"))\n",
    "df.dims()\n",
    "setDTthreads(threads)\n",
    "make_dir(work_dir)"
   ]
  },
  {
   "cell_type": "markdown",
   "metadata": {},
   "source": [
    "# ResMiCo-sm"
   ]
  },
  {
   "cell_type": "markdown",
   "metadata": {},
   "source": [
    "## Run1: CAMI-error\n",
    "\n",
    "* cami error profiles"
   ]
  },
  {
   "cell_type": "markdown",
   "metadata": {},
   "source": [
    "### Config"
   ]
  },
  {
   "cell_type": "code",
   "execution_count": 8,
   "metadata": {
    "ExecuteTime": {
     "end_time": "2022-07-11T12:09:33.773262Z",
     "start_time": "2022-07-11T12:09:33.790Z"
    }
   },
   "outputs": [
    {
     "name": "stdout",
     "output_type": "stream",
     "text": [
      "# Input table\n",
      "## Table of genomes\n",
      "genomes_file: /ebio/abt3_projects/databases_no-backup/DeepMAsED/version2/resmico-sm/GTDBr202_n9k_train/genomes.tsv\n",
      "#genomes_file: tests/data/Samp2-MAG3.tsv\n",
      "## If using pre-generated reads\n",
      "reads_file: Skip\n",
      "\n",
      "# Output directory\n",
      "output_dir: /ebio/abt3_projects/databases_no-backup/DeepMAsED/version2/resmico-sm/GTDBr202_n9k_train_sm-ins_CAMI-err/\n",
      "\n",
      "# Temporary output directory (/dev/shm/ for shared memory)\n",
      "tmp_dir: /ebio/abt3_scratch/nyoungblut/\n",
      "\n",
      "# Email for notifications (\"Skip\" to skip)\n",
      "email: nyoungblut@tuebingen.mpg.de\n",
      "\n",
      "# software parameters for data simulations\n",
      "## Use \"Skip\" to skip  steps. If no params for rule, use \"\"\n",
      "## `reps:` is the number of replicate simulations\n",
      "## If `keep_reads: True`, then simulated reads are kept\n",
      "params:\n",
      "  ionice: -c 3\n",
      "  # simulating metagenomes\n",
      "  MGSIM:\n",
      "    genome_download: \"\"\n",
      "    sim_reps: 3\n",
      "    community:\n",
      "      richness:\n",
      "        - 0.005555\n",
      "        - 0.111111\n",
      "        - 0.333333\n",
      "        - 0.555555\n",
      "      abundance_distribution:\n",
      "        - \"mean:10,sigma:0.5\"\n",
      "        - \"mean:10,sigma:1\"\n",
      "        - \"mean:10,sigma:2\"\n",
      "      random_seed: Skip #8192\n",
      "      other_sim_params: --group-bias 0\n",
      "    reads: \n",
      "      length:\n",
      "        - 100\n",
      "        - 150\n",
      "      depth:\n",
      "        - 500000\n",
      "        - 2000000\n",
      "        - 8000000\n",
      "        - 12000000\n",
      "        - 20000000\n",
      "      other_sim_params: --art-paired --art-mflen 190 --art-sdev 35 --rndSeed 8712\n",
      "                        --art-qprof1 data/art_error_profiles/HiSeq2500L150R1.txt\n",
      "                        --art-qprof2 data/art_error_profiles/HiSeq2500L150R2.txt       \n",
      "      skewer: -n -l 70 -q 25\n",
      "      keep_reads: False\n",
      "  # coverage\n",
      "  nonpareil:\n",
      "    params: -T kmer\n",
      "    summary: 1e9   # this is target seq. depth\n",
      "  # assemblying metagenomes\n",
      "  assemblers:\n",
      "    metaspades: -k auto --only-assembler\n",
      "    megahit: --min-count 1 --min-contig-len 1000\n",
      "  # assembly filtering\n",
      "  contigs:\n",
      "    length_cutoff: 1000       # length in bp \n",
      "  # assessing assembly errors\n",
      "  asmbl_errors:\n",
      "    metaquast: --max-ref-number 0 --min-contig 1000 --min-identity 95 --extensive-mis-size 100\n",
      "               --no-html --no-plots --no-icarus --no-gc --no-snps --no-sv\n",
      "    keep_genomes: True\n",
      "  # mapping reads to contigs\n",
      "  map:\n",
      "    samtools: \"\"\n",
      "    bowtie2: \"\"\n",
      "    max_coverage: 20\n",
      "    keep_bam: False #True\n",
      "  # creating ResMiCo feature tables\n",
      "  feature_table:\n",
      "    make: --window 6\n",
      "  # state-of-the-art\n",
      "  SotA:\n",
      "    ALE: \"\"\n",
      "    VALET: Skip #\"\"  \n",
      "    metaMIC:\n",
      "      extract: --mlen 1000\n",
      "      predict: --mlen 1000 --slen 500 -a MEGAHIT\n",
      "\n",
      "# params just for creating feature tables for non-simulated data\n",
      "nonsim_params:\n",
      "  # max number of reads to use\n",
      "  subsample_reads: 5000000\n",
      "  # read quality filtering\n",
      "  skewer: -n -l 70 -q 25\n",
      "  # max per-contig coverage\n",
      "  max_coverage: 20\n",
      "  # keep bam files?\n",
      "  keep_bam: True\n",
      "  # feature tables\n",
      "  make_features: --window 6\n",
      "\n",
      "# snakemake pipeline\n",
      "pipeline:\n",
      "  snakemake_folder: ./\n",
      "  script_folder: ./bin/scripts/\n",
      "  name: ResMiCo-SM"
     ]
    }
   ],
   "source": [
    "F = file.path(work_dir, 'config.yaml')\n",
    "cat_file(F)"
   ]
  },
  {
   "cell_type": "markdown",
   "metadata": {},
   "source": [
    "### Run"
   ]
  },
  {
   "cell_type": "markdown",
   "metadata": {},
   "source": [
    "```\n",
    "(snakemake) @ rick:/ebio/abt3_projects/databases_no-backup/DeepMAsED/version2/resmico-sm/bin/old_compile/ResMiCo/ResMiCo-SM\n",
    "$ screen -L -S rmc-sm-smIns ./snakemake_sge.sh /ebio/abt3_projects/databases_no-backup/DeepMAsED/version2/resmico-sm/GTDBr202_n9k_train_sm-ins_CAMI-err/config.yaml 50 -F\n",
    "```"
   ]
  },
  {
   "cell_type": "markdown",
   "metadata": {},
   "source": [
    "### Summary\n",
    "\n",
    "* number of total parameter combinations: 720"
   ]
  },
  {
   "cell_type": "markdown",
   "metadata": {},
   "source": [
    "#### Feature file table"
   ]
  },
  {
   "cell_type": "code",
   "execution_count": 26,
   "metadata": {
    "ExecuteTime": {
     "end_time": "2022-08-03T07:09:29.920526Z",
     "start_time": "2022-08-03T07:09:27.961Z"
    }
   },
   "outputs": [
    {
     "data": {
      "text/html": [
       "720"
      ],
      "text/latex": [
       "720"
      ],
      "text/markdown": [
       "720"
      ],
      "text/plain": [
       "[1] 720"
      ]
     },
     "metadata": {},
     "output_type": "display_data"
    },
    {
     "data": {
      "text/html": [
       "<style>\n",
       ".list-inline {list-style: none; margin:0; padding: 0}\n",
       ".list-inline>li {display: inline-block}\n",
       ".list-inline>li:not(:last-child)::after {content: \"\\00b7\"; padding: 0 .5ex}\n",
       "</style>\n",
       "<ol class=list-inline><li>'/ebio/abt3_projects/databases_no-backup/DeepMAsED/version2/resmico-sm/GTDBr202_n9k_train_sm-ins_CAMI-err//features/0.005555/mean-10-sigma-0.5/1/100/12000000/megahit/features.tsv.gz'</li><li>'/ebio/abt3_projects/databases_no-backup/DeepMAsED/version2/resmico-sm/GTDBr202_n9k_train_sm-ins_CAMI-err//features/0.005555/mean-10-sigma-0.5/1/100/12000000/metaspades/features.tsv.gz'</li><li>'/ebio/abt3_projects/databases_no-backup/DeepMAsED/version2/resmico-sm/GTDBr202_n9k_train_sm-ins_CAMI-err//features/0.005555/mean-10-sigma-0.5/1/100/2000000/megahit/features.tsv.gz'</li></ol>\n"
      ],
      "text/latex": [
       "\\begin{enumerate*}\n",
       "\\item '/ebio/abt3\\_projects/databases\\_no-backup/DeepMAsED/version2/resmico-sm/GTDBr202\\_n9k\\_train\\_sm-ins\\_CAMI-err//features/0.005555/mean-10-sigma-0.5/1/100/12000000/megahit/features.tsv.gz'\n",
       "\\item '/ebio/abt3\\_projects/databases\\_no-backup/DeepMAsED/version2/resmico-sm/GTDBr202\\_n9k\\_train\\_sm-ins\\_CAMI-err//features/0.005555/mean-10-sigma-0.5/1/100/12000000/metaspades/features.tsv.gz'\n",
       "\\item '/ebio/abt3\\_projects/databases\\_no-backup/DeepMAsED/version2/resmico-sm/GTDBr202\\_n9k\\_train\\_sm-ins\\_CAMI-err//features/0.005555/mean-10-sigma-0.5/1/100/2000000/megahit/features.tsv.gz'\n",
       "\\end{enumerate*}\n"
      ],
      "text/markdown": [
       "1. '/ebio/abt3_projects/databases_no-backup/DeepMAsED/version2/resmico-sm/GTDBr202_n9k_train_sm-ins_CAMI-err//features/0.005555/mean-10-sigma-0.5/1/100/12000000/megahit/features.tsv.gz'\n",
       "2. '/ebio/abt3_projects/databases_no-backup/DeepMAsED/version2/resmico-sm/GTDBr202_n9k_train_sm-ins_CAMI-err//features/0.005555/mean-10-sigma-0.5/1/100/12000000/metaspades/features.tsv.gz'\n",
       "3. '/ebio/abt3_projects/databases_no-backup/DeepMAsED/version2/resmico-sm/GTDBr202_n9k_train_sm-ins_CAMI-err//features/0.005555/mean-10-sigma-0.5/1/100/2000000/megahit/features.tsv.gz'\n",
       "\n",
       "\n"
      ],
      "text/plain": [
       "[1] \"/ebio/abt3_projects/databases_no-backup/DeepMAsED/version2/resmico-sm/GTDBr202_n9k_train_sm-ins_CAMI-err//features/0.005555/mean-10-sigma-0.5/1/100/12000000/megahit/features.tsv.gz\"   \n",
       "[2] \"/ebio/abt3_projects/databases_no-backup/DeepMAsED/version2/resmico-sm/GTDBr202_n9k_train_sm-ins_CAMI-err//features/0.005555/mean-10-sigma-0.5/1/100/12000000/metaspades/features.tsv.gz\"\n",
       "[3] \"/ebio/abt3_projects/databases_no-backup/DeepMAsED/version2/resmico-sm/GTDBr202_n9k_train_sm-ins_CAMI-err//features/0.005555/mean-10-sigma-0.5/1/100/2000000/megahit/features.tsv.gz\"    "
      ]
     },
     "metadata": {},
     "output_type": "display_data"
    }
   ],
   "source": [
    "feat_files = list_files(file.path(work_dir, 'features'), 'features.tsv.gz')\n",
    "feat_files %>% length\n",
    "feat_files %>% head(n=3)"
   ]
  },
  {
   "cell_type": "code",
   "execution_count": 27,
   "metadata": {
    "ExecuteTime": {
     "end_time": "2022-08-03T07:09:35.053159Z",
     "start_time": "2022-08-03T07:09:34.460Z"
    }
   },
   "outputs": [
    {
     "data": {
      "text/html": [
       "<table class=\"dataframe\">\n",
       "<caption>A data.table: 720 × 8</caption>\n",
       "<thead>\n",
       "\t<tr><th scope=col>richness</th><th scope=col>abundance_distribution</th><th scope=col>rep</th><th scope=col>read_length</th><th scope=col>read_depth</th><th scope=col>assembler</th><th scope=col>feature_file</th><th scope=col>MGSIM_reads_params</th></tr>\n",
       "\t<tr><th scope=col>&lt;chr&gt;</th><th scope=col>&lt;chr&gt;</th><th scope=col>&lt;chr&gt;</th><th scope=col>&lt;chr&gt;</th><th scope=col>&lt;chr&gt;</th><th scope=col>&lt;chr&gt;</th><th scope=col>&lt;chr&gt;</th><th scope=col>&lt;chr&gt;</th></tr>\n",
       "</thead>\n",
       "<tbody>\n",
       "\t<tr><td>0.005555</td><td>mean-10-sigma-0.5</td><td>1</td><td>100</td><td>12000000</td><td>megahit   </td><td>/ebio/abt3_projects/databases_no-backup/DeepMAsED/version2/resmico-sm/GTDBr202_n9k_train_sm-ins_CAMI-err//features/0.005555/mean-10-sigma-0.5/1/100/12000000/megahit/features.tsv.gz   </td><td>NA</td></tr>\n",
       "\t<tr><td>0.005555</td><td>mean-10-sigma-0.5</td><td>1</td><td>100</td><td>12000000</td><td>metaspades</td><td>/ebio/abt3_projects/databases_no-backup/DeepMAsED/version2/resmico-sm/GTDBr202_n9k_train_sm-ins_CAMI-err//features/0.005555/mean-10-sigma-0.5/1/100/12000000/metaspades/features.tsv.gz</td><td>NA</td></tr>\n",
       "\t<tr><td>⋮</td><td>⋮</td><td>⋮</td><td>⋮</td><td>⋮</td><td>⋮</td><td>⋮</td><td>⋮</td></tr>\n",
       "\t<tr><td>0.555555</td><td>mean-10-sigma-2</td><td>3</td><td>150</td><td>8000000</td><td>megahit   </td><td>/ebio/abt3_projects/databases_no-backup/DeepMAsED/version2/resmico-sm/GTDBr202_n9k_train_sm-ins_CAMI-err//features/0.555555/mean-10-sigma-2/3/150/8000000/megahit/features.tsv.gz   </td><td>NA</td></tr>\n",
       "\t<tr><td>0.555555</td><td>mean-10-sigma-2</td><td>3</td><td>150</td><td>8000000</td><td>metaspades</td><td>/ebio/abt3_projects/databases_no-backup/DeepMAsED/version2/resmico-sm/GTDBr202_n9k_train_sm-ins_CAMI-err//features/0.555555/mean-10-sigma-2/3/150/8000000/metaspades/features.tsv.gz</td><td>NA</td></tr>\n",
       "</tbody>\n",
       "</table>\n"
      ],
      "text/latex": [
       "A data.table: 720 × 8\n",
       "\\begin{tabular}{llllllll}\n",
       " richness & abundance\\_distribution & rep & read\\_length & read\\_depth & assembler & feature\\_file & MGSIM\\_reads\\_params\\\\\n",
       " <chr> & <chr> & <chr> & <chr> & <chr> & <chr> & <chr> & <chr>\\\\\n",
       "\\hline\n",
       "\t 0.005555 & mean-10-sigma-0.5 & 1 & 100 & 12000000 & megahit    & /ebio/abt3\\_projects/databases\\_no-backup/DeepMAsED/version2/resmico-sm/GTDBr202\\_n9k\\_train\\_sm-ins\\_CAMI-err//features/0.005555/mean-10-sigma-0.5/1/100/12000000/megahit/features.tsv.gz    & NA\\\\\n",
       "\t 0.005555 & mean-10-sigma-0.5 & 1 & 100 & 12000000 & metaspades & /ebio/abt3\\_projects/databases\\_no-backup/DeepMAsED/version2/resmico-sm/GTDBr202\\_n9k\\_train\\_sm-ins\\_CAMI-err//features/0.005555/mean-10-sigma-0.5/1/100/12000000/metaspades/features.tsv.gz & NA\\\\\n",
       "\t ⋮ & ⋮ & ⋮ & ⋮ & ⋮ & ⋮ & ⋮ & ⋮\\\\\n",
       "\t 0.555555 & mean-10-sigma-2 & 3 & 150 & 8000000 & megahit    & /ebio/abt3\\_projects/databases\\_no-backup/DeepMAsED/version2/resmico-sm/GTDBr202\\_n9k\\_train\\_sm-ins\\_CAMI-err//features/0.555555/mean-10-sigma-2/3/150/8000000/megahit/features.tsv.gz    & NA\\\\\n",
       "\t 0.555555 & mean-10-sigma-2 & 3 & 150 & 8000000 & metaspades & /ebio/abt3\\_projects/databases\\_no-backup/DeepMAsED/version2/resmico-sm/GTDBr202\\_n9k\\_train\\_sm-ins\\_CAMI-err//features/0.555555/mean-10-sigma-2/3/150/8000000/metaspades/features.tsv.gz & NA\\\\\n",
       "\\end{tabular}\n"
      ],
      "text/markdown": [
       "\n",
       "A data.table: 720 × 8\n",
       "\n",
       "| richness &lt;chr&gt; | abundance_distribution &lt;chr&gt; | rep &lt;chr&gt; | read_length &lt;chr&gt; | read_depth &lt;chr&gt; | assembler &lt;chr&gt; | feature_file &lt;chr&gt; | MGSIM_reads_params &lt;chr&gt; |\n",
       "|---|---|---|---|---|---|---|---|\n",
       "| 0.005555 | mean-10-sigma-0.5 | 1 | 100 | 12000000 | megahit    | /ebio/abt3_projects/databases_no-backup/DeepMAsED/version2/resmico-sm/GTDBr202_n9k_train_sm-ins_CAMI-err//features/0.005555/mean-10-sigma-0.5/1/100/12000000/megahit/features.tsv.gz    | NA |\n",
       "| 0.005555 | mean-10-sigma-0.5 | 1 | 100 | 12000000 | metaspades | /ebio/abt3_projects/databases_no-backup/DeepMAsED/version2/resmico-sm/GTDBr202_n9k_train_sm-ins_CAMI-err//features/0.005555/mean-10-sigma-0.5/1/100/12000000/metaspades/features.tsv.gz | NA |\n",
       "| ⋮ | ⋮ | ⋮ | ⋮ | ⋮ | ⋮ | ⋮ | ⋮ |\n",
       "| 0.555555 | mean-10-sigma-2 | 3 | 150 | 8000000 | megahit    | /ebio/abt3_projects/databases_no-backup/DeepMAsED/version2/resmico-sm/GTDBr202_n9k_train_sm-ins_CAMI-err//features/0.555555/mean-10-sigma-2/3/150/8000000/megahit/features.tsv.gz    | NA |\n",
       "| 0.555555 | mean-10-sigma-2 | 3 | 150 | 8000000 | metaspades | /ebio/abt3_projects/databases_no-backup/DeepMAsED/version2/resmico-sm/GTDBr202_n9k_train_sm-ins_CAMI-err//features/0.555555/mean-10-sigma-2/3/150/8000000/metaspades/features.tsv.gz | NA |\n",
       "\n"
      ],
      "text/plain": [
       "    richness abundance_distribution rep read_length read_depth assembler \n",
       "1   0.005555 mean-10-sigma-0.5      1   100         12000000   megahit   \n",
       "2   0.005555 mean-10-sigma-0.5      1   100         12000000   metaspades\n",
       "⋮   ⋮        ⋮                      ⋮   ⋮           ⋮          ⋮         \n",
       "719 0.555555 mean-10-sigma-2        3   150         8000000    megahit   \n",
       "720 0.555555 mean-10-sigma-2        3   150         8000000    metaspades\n",
       "    feature_file                                                                                                                                                                           \n",
       "1   /ebio/abt3_projects/databases_no-backup/DeepMAsED/version2/resmico-sm/GTDBr202_n9k_train_sm-ins_CAMI-err//features/0.005555/mean-10-sigma-0.5/1/100/12000000/megahit/features.tsv.gz   \n",
       "2   /ebio/abt3_projects/databases_no-backup/DeepMAsED/version2/resmico-sm/GTDBr202_n9k_train_sm-ins_CAMI-err//features/0.005555/mean-10-sigma-0.5/1/100/12000000/metaspades/features.tsv.gz\n",
       "⋮   ⋮                                                                                                                                                                                      \n",
       "719 /ebio/abt3_projects/databases_no-backup/DeepMAsED/version2/resmico-sm/GTDBr202_n9k_train_sm-ins_CAMI-err//features/0.555555/mean-10-sigma-2/3/150/8000000/megahit/features.tsv.gz      \n",
       "720 /ebio/abt3_projects/databases_no-backup/DeepMAsED/version2/resmico-sm/GTDBr202_n9k_train_sm-ins_CAMI-err//features/0.555555/mean-10-sigma-2/3/150/8000000/metaspades/features.tsv.gz   \n",
       "    MGSIM_reads_params\n",
       "1   NA                \n",
       "2   NA                \n",
       "⋮   ⋮                 \n",
       "719 NA                \n",
       "720 NA                "
      ]
     },
     "metadata": {},
     "output_type": "display_data"
    }
   ],
   "source": [
    "parse_path = function(F){\n",
    "    p = F %>% gsub('/+', '/', .) %>% strsplit('/') %>% unlist\n",
    "    d = data.frame(\n",
    "        'richness' = p[10],\n",
    "        'abundance_distribution' = p[11], \n",
    "        'rep' = p[12], \n",
    "        'read_length' = p[13], \n",
    "        'read_depth' = p[14], \n",
    "        'assembler' = p[15],\n",
    "        'feature_file' = F, \n",
    "        'MGSIM_reads_params' = 'NA'\n",
    "    )\n",
    "    return(d)\n",
    "}\n",
    "feat_files = feat_files %>%\n",
    "    lapply(parse_path) %>%\n",
    "    rbindlist(use.names=TRUE)\n",
    "feat_files"
   ]
  },
  {
   "cell_type": "code",
   "execution_count": 28,
   "metadata": {
    "ExecuteTime": {
     "end_time": "2022-08-03T07:09:41.361785Z",
     "start_time": "2022-08-03T07:09:41.269Z"
    }
   },
   "outputs": [
    {
     "name": "stdout",
     "output_type": "stream",
     "text": [
      "File written: /ebio/abt3_projects/databases_no-backup/DeepMAsED/version2/resmico-sm/GTDBr202_n9k_train_sm-ins_CAMI-err//features/feature_files.tsv \n"
     ]
    }
   ],
   "source": [
    "F = file.path(work_dir, 'features', 'feature_files.tsv')\n",
    "write_table(feat_files, F)"
   ]
  },
  {
   "cell_type": "markdown",
   "metadata": {},
   "source": [
    "#### Missing?"
   ]
  },
  {
   "cell_type": "code",
   "execution_count": 29,
   "metadata": {
    "ExecuteTime": {
     "end_time": "2022-08-03T07:09:43.304604Z",
     "start_time": "2022-08-03T07:09:43.237Z"
    }
   },
   "outputs": [
    {
     "data": {
      "text/html": [
       "<table class=\"dataframe\">\n",
       "<caption>A data.frame: 720 × 6</caption>\n",
       "<thead>\n",
       "\t<tr><th scope=col>richness</th><th scope=col>abundance_distribution</th><th scope=col>rep</th><th scope=col>read_length</th><th scope=col>read_depth</th><th scope=col>assembler</th></tr>\n",
       "\t<tr><th scope=col>&lt;dbl&gt;</th><th scope=col>&lt;fct&gt;</th><th scope=col>&lt;fct&gt;</th><th scope=col>&lt;dbl&gt;</th><th scope=col>&lt;dbl&gt;</th><th scope=col>&lt;fct&gt;</th></tr>\n",
       "</thead>\n",
       "<tbody>\n",
       "\t<tr><td>0.005555</td><td>mean-10-sigma-0.5</td><td>1</td><td>100</td><td>5e+05</td><td>megahit</td></tr>\n",
       "\t<tr><td>0.111111</td><td>mean-10-sigma-0.5</td><td>1</td><td>100</td><td>5e+05</td><td>megahit</td></tr>\n",
       "\t<tr><td>⋮</td><td>⋮</td><td>⋮</td><td>⋮</td><td>⋮</td><td>⋮</td></tr>\n",
       "\t<tr><td>0.333333</td><td>mean-10-sigma-2</td><td>3</td><td>150</td><td>2e+07</td><td>metaspades</td></tr>\n",
       "\t<tr><td>0.555555</td><td>mean-10-sigma-2</td><td>3</td><td>150</td><td>2e+07</td><td>metaspades</td></tr>\n",
       "</tbody>\n",
       "</table>\n"
      ],
      "text/latex": [
       "A data.frame: 720 × 6\n",
       "\\begin{tabular}{llllll}\n",
       " richness & abundance\\_distribution & rep & read\\_length & read\\_depth & assembler\\\\\n",
       " <dbl> & <fct> & <fct> & <dbl> & <dbl> & <fct>\\\\\n",
       "\\hline\n",
       "\t 0.005555 & mean-10-sigma-0.5 & 1 & 100 & 5e+05 & megahit\\\\\n",
       "\t 0.111111 & mean-10-sigma-0.5 & 1 & 100 & 5e+05 & megahit\\\\\n",
       "\t ⋮ & ⋮ & ⋮ & ⋮ & ⋮ & ⋮\\\\\n",
       "\t 0.333333 & mean-10-sigma-2 & 3 & 150 & 2e+07 & metaspades\\\\\n",
       "\t 0.555555 & mean-10-sigma-2 & 3 & 150 & 2e+07 & metaspades\\\\\n",
       "\\end{tabular}\n"
      ],
      "text/markdown": [
       "\n",
       "A data.frame: 720 × 6\n",
       "\n",
       "| richness &lt;dbl&gt; | abundance_distribution &lt;fct&gt; | rep &lt;fct&gt; | read_length &lt;dbl&gt; | read_depth &lt;dbl&gt; | assembler &lt;fct&gt; |\n",
       "|---|---|---|---|---|---|\n",
       "| 0.005555 | mean-10-sigma-0.5 | 1 | 100 | 5e+05 | megahit |\n",
       "| 0.111111 | mean-10-sigma-0.5 | 1 | 100 | 5e+05 | megahit |\n",
       "| ⋮ | ⋮ | ⋮ | ⋮ | ⋮ | ⋮ |\n",
       "| 0.333333 | mean-10-sigma-2 | 3 | 150 | 2e+07 | metaspades |\n",
       "| 0.555555 | mean-10-sigma-2 | 3 | 150 | 2e+07 | metaspades |\n",
       "\n"
      ],
      "text/plain": [
       "    richness abundance_distribution rep read_length read_depth assembler \n",
       "1   0.005555 mean-10-sigma-0.5      1   100         5e+05      megahit   \n",
       "2   0.111111 mean-10-sigma-0.5      1   100         5e+05      megahit   \n",
       "⋮   ⋮        ⋮                      ⋮   ⋮           ⋮          ⋮         \n",
       "719 0.333333 mean-10-sigma-2        3   150         2e+07      metaspades\n",
       "720 0.555555 mean-10-sigma-2        3   150         2e+07      metaspades"
      ]
     },
     "metadata": {},
     "output_type": "display_data"
    }
   ],
   "source": [
    "richness = c(0.005555, 0.111111, 0.333333, 0.555555)\n",
    "abund_dist = c(\"mean-10-sigma-0.5\", \"mean-10-sigma-1\", \"mean-10-sigma-2\")\n",
    "read_length = c(100, 150)\n",
    "read_depth = c(500000, 2000000, 8000000, 12000000, 20000000)\n",
    "assembler = c('megahit', 'metaspades')\n",
    "reps = as.character(c(1,2,3))\n",
    "all_params = expand.grid(richness, abund_dist, reps, read_length, read_depth, assembler) \n",
    "colnames(all_params) = c('richness', 'abundance_distribution', 'rep', 'read_length', 'read_depth', 'assembler')\n",
    "all_params"
   ]
  },
  {
   "cell_type": "code",
   "execution_count": 30,
   "metadata": {
    "ExecuteTime": {
     "end_time": "2022-08-03T07:09:46.350334Z",
     "start_time": "2022-08-03T07:09:46.270Z"
    }
   },
   "outputs": [
    {
     "data": {
      "text/html": [
       "<table class=\"dataframe\">\n",
       "<caption>A tidytable: 0 × 6</caption>\n",
       "<thead>\n",
       "\t<tr><th scope=col>richness</th><th scope=col>abundance_distribution</th><th scope=col>rep</th><th scope=col>read_length</th><th scope=col>read_depth</th><th scope=col>assembler</th></tr>\n",
       "\t<tr><th scope=col>&lt;dbl&gt;</th><th scope=col>&lt;fct&gt;</th><th scope=col>&lt;fct&gt;</th><th scope=col>&lt;dbl&gt;</th><th scope=col>&lt;dbl&gt;</th><th scope=col>&lt;fct&gt;</th></tr>\n",
       "</thead>\n",
       "<tbody>\n",
       "</tbody>\n",
       "</table>\n"
      ],
      "text/latex": [
       "A tidytable: 0 × 6\n",
       "\\begin{tabular}{llllll}\n",
       " richness & abundance\\_distribution & rep & read\\_length & read\\_depth & assembler\\\\\n",
       " <dbl> & <fct> & <fct> & <dbl> & <dbl> & <fct>\\\\\n",
       "\\hline\n",
       "\\end{tabular}\n"
      ],
      "text/markdown": [
       "\n",
       "A tidytable: 0 × 6\n",
       "\n",
       "| richness &lt;dbl&gt; | abundance_distribution &lt;fct&gt; | rep &lt;fct&gt; | read_length &lt;dbl&gt; | read_depth &lt;dbl&gt; | assembler &lt;fct&gt; |\n",
       "|---|---|---|---|---|---|\n",
       "\n"
      ],
      "text/plain": [
       "     richness abundance_distribution rep read_length read_depth assembler"
      ]
     },
     "metadata": {},
     "output_type": "display_data"
    }
   ],
   "source": [
    "# filtering\n",
    "all_params_f = all_params %>%\n",
    "    anti_join.(feat_files %>%\n",
    "                   mutate.(richness = as.Num(richness),\n",
    "                           read_length = as.Num(read_length),\n",
    "                           read_depth = as.Num(read_depth)),\n",
    "               c('richness', 'abundance_distribution', 'rep', 'read_length', \n",
    "                 'read_depth', 'assembler'))\n",
    "all_params_f"
   ]
  },
  {
   "cell_type": "markdown",
   "metadata": {},
   "source": [
    "## Run2: standard-error\n",
    "\n",
    "* \"standard\" error profile"
   ]
  },
  {
   "cell_type": "code",
   "execution_count": null,
   "metadata": {
    "ExecuteTime": {
     "end_time": "2022-02-28T12:31:31.527686Z",
     "start_time": "2022-02-28T12:31:31.336Z"
    }
   },
   "outputs": [],
   "source": [
    "D = '/ebio/abt3_projects/databases_no-backup/DeepMAsED/version2/resmico-sm/GTDBr202_n9k_train_sm-ins/'"
   ]
  },
  {
   "cell_type": "markdown",
   "metadata": {},
   "source": [
    "### Config"
   ]
  },
  {
   "cell_type": "code",
   "execution_count": null,
   "metadata": {
    "ExecuteTime": {
     "end_time": "2022-02-28T12:31:46.303215Z",
     "start_time": "2022-02-28T12:31:46.220Z"
    }
   },
   "outputs": [],
   "source": [
    "F = file.path(D, 'config.yaml')\n",
    "cat_file(F)"
   ]
  },
  {
   "cell_type": "markdown",
   "metadata": {},
   "source": [
    "### Run"
   ]
  },
  {
   "cell_type": "markdown",
   "metadata": {},
   "source": [
    "```\n",
    "(snakemake) @ rick:/ebio/abt3_projects/databases_no-backup/DeepMAsED/version2/resmico- sm/bin/old_compile/ResMiCo/ResMiCo-SM\n",
    "$ screen -L -S rmc-sm-smIns ./snakemake_sge.sh /ebio/abt3_projects/databases_no-backup/DeepMAsED/version2/resmico-sm/GTDBr202_n9k_train_sm-ins/config.yaml 50 -F\n",
    "```"
   ]
  },
  {
   "cell_type": "markdown",
   "metadata": {},
   "source": [
    "## Run2a: standard-error (reps 2 & 3)\n",
    "\n",
    "* Increasing the number of simulation replicates"
   ]
  },
  {
   "cell_type": "code",
   "execution_count": 32,
   "metadata": {
    "ExecuteTime": {
     "end_time": "2022-08-03T07:16:39.267245Z",
     "start_time": "2022-08-03T07:16:39.184Z"
    }
   },
   "outputs": [],
   "source": [
    "D = '/ebio/abt3_projects/databases_no-backup/DeepMAsED/version2/resmico-sm/GTDBr202_n9k_train_sm-ins_r23/'"
   ]
  },
  {
   "cell_type": "markdown",
   "metadata": {},
   "source": [
    "### Config"
   ]
  },
  {
   "cell_type": "code",
   "execution_count": 33,
   "metadata": {
    "ExecuteTime": {
     "end_time": "2022-08-03T07:16:40.756009Z",
     "start_time": "2022-08-03T07:16:40.627Z"
    }
   },
   "outputs": [
    {
     "name": "stdout",
     "output_type": "stream",
     "text": [
      "# Input table\n",
      "## Table of genomes\n",
      "genomes_file: /ebio/abt3_projects/databases_no-backup/DeepMAsED/version2/resmico-sm/GTDBr202_n9k_train/genomes.tsv\n",
      "#genomes_file: tests/data/Samp2-MAG3.tsv\n",
      "## If using pre-generated reads\n",
      "reads_file: Skip\n",
      "\n",
      "# Output directory\n",
      "output_dir: /ebio/abt3_projects/databases_no-backup/DeepMAsED/version2/resmico-sm/GTDBr202_n9k_train_sm-ins_r23/\n",
      "\n",
      "# Temporary output directory (/dev/shm/ for shared memory)\n",
      "tmp_dir: /ebio/abt3_scratch/nyoungblut/\n",
      "\n",
      "# Email for notifications (\"Skip\" to skip)\n",
      "email: nyoungblut@tuebingen.mpg.de\n",
      "\n",
      "# software parameters for data simulations\n",
      "## Use \"Skip\" to skip  steps. If no params for rule, use \"\"\n",
      "## `reps:` is the number of replicate simulations\n",
      "## If `keep_reads: True`, then simulated reads are kept\n",
      "params:\n",
      "  ionice: -c 3\n",
      "  # simulating metagenomes\n",
      "  MGSIM:\n",
      "    genome_download: \"\"\n",
      "    sim_reps: 2\n",
      "    community:\n",
      "      richness:\n",
      "        - 0.005555\n",
      "        - 0.111111\n",
      "        - 0.333333\n",
      "        - 0.555555\n",
      "      abundance_distribution:\n",
      "        - \"mean:10,sigma:0.5\"\n",
      "        - \"mean:10,sigma:1\"\n",
      "        - \"mean:10,sigma:2\"\n",
      "      random_seed: Skip #8192\n",
      "      other_sim_params: --group-bias 0\n",
      "    reads: \n",
      "      length:\n",
      "        - 100\n",
      "        - 150\n",
      "      depth:\n",
      "        - 500000\n",
      "        - 2000000\n",
      "        - 8000000\n",
      "        - 12000000\n",
      "        - 20000000\n",
      "      other_sim_params: --art-paired --art-mflen 190 --art-sdev 75 --rndSeed 8712\n",
      "      skewer: -n -l 70 -q 25\n",
      "      keep_reads: False\n",
      "  # coverage\n",
      "  nonpareil:\n",
      "    params: -T kmer\n",
      "    summary: 1e9   # this is target seq. depth\n",
      "  # assemblying metagenomes\n",
      "  assemblers:\n",
      "    metaspades: -k auto --only-assembler\n",
      "    megahit: --min-count 1 --min-contig-len 1000\n",
      "  # assembly filtering\n",
      "  contigs:\n",
      "    length_cutoff: 1000       # length in bp \n",
      "  # assessing assembly errors\n",
      "  asmbl_errors:\n",
      "    metaquast: --max-ref-number 0 --min-contig 1000 --min-identity 95 --extensive-mis-size 100\n",
      "               --no-html --no-plots --no-icarus --no-gc --no-snps --no-sv\n",
      "    keep_genomes: True\n",
      "  # mapping reads to contigs\n",
      "  map:\n",
      "    samtools: \"\"\n",
      "    bowtie2: \"\"\n",
      "    max_coverage: 20\n",
      "    keep_bam: False #True\n",
      "  # creating ResMiCo feature tables\n",
      "  feature_table:\n",
      "    make: --window 6\n",
      "  # state-of-the-art\n",
      "  SotA:\n",
      "    ALE: Skip #\"\"\n",
      "    VALET: Skip #\"\"  \n",
      "    metaMIC:\n",
      "      extract: Skip #--mlen 1000\n",
      "      predict: --mlen 1000 --slen 500 -a MEGAHIT\n",
      "\n",
      "# params just for creating feature tables for non-simulated data\n",
      "nonsim_params:\n",
      "  # max number of reads to use\n",
      "  subsample_reads: 5000000\n",
      "  # read quality filtering\n",
      "  skewer: -n -l 70 -q 25\n",
      "  # max per-contig coverage\n",
      "  max_coverage: 20\n",
      "  # keep bam files?\n",
      "  keep_bam: True\n",
      "  # feature tables\n",
      "  make_features: --window 6\n",
      "\n",
      "# snakemake pipeline\n",
      "pipeline:\n",
      "  snakemake_folder: ./\n",
      "  script_folder: ./bin/scripts/\n",
      "  name: ResMiCo-SM"
     ]
    }
   ],
   "source": [
    "F = file.path(D, 'config.yaml')\n",
    "cat_file(F)"
   ]
  },
  {
   "cell_type": "markdown",
   "metadata": {},
   "source": [
    "### Run"
   ]
  },
  {
   "cell_type": "markdown",
   "metadata": {},
   "source": [
    "```\n",
    "(snakemake) @ rick:/ebio/abt3_projects/databases_no-backup/DeepMAsED/version2/resmico- sm/bin/old_compile/ResMiCo/ResMiCo-SM\n",
    "$ screen -L -S rmc-sm-smIns-r23 ./snakemake_sge.sh /ebio/abt3_projects/databases_no-backup/DeepMAsED/version2/resmico-sm/GTDBr202_n9k_train_sm-ins_r23/config.yaml 50 --notemp -F\n",
    "```"
   ]
  },
  {
   "cell_type": "markdown",
   "metadata": {},
   "source": [
    "### Summary"
   ]
  },
  {
   "cell_type": "code",
   "execution_count": 35,
   "metadata": {
    "ExecuteTime": {
     "end_time": "2022-08-09T07:22:33.745551Z",
     "start_time": "2022-08-09T07:22:32.478Z"
    }
   },
   "outputs": [
    {
     "data": {
      "text/html": [
       "480"
      ],
      "text/latex": [
       "480"
      ],
      "text/markdown": [
       "480"
      ],
      "text/plain": [
       "[1] 480"
      ]
     },
     "metadata": {},
     "output_type": "display_data"
    },
    {
     "data": {
      "text/html": [
       "<style>\n",
       ".list-inline {list-style: none; margin:0; padding: 0}\n",
       ".list-inline>li {display: inline-block}\n",
       ".list-inline>li:not(:last-child)::after {content: \"\\00b7\"; padding: 0 .5ex}\n",
       "</style>\n",
       "<ol class=list-inline><li>'/ebio/abt3_projects/databases_no-backup/DeepMAsED/version2/resmico-sm/GTDBr202_n9k_train_sm-ins_r23//features/0.005555/mean-10-sigma-0.5/1/100/12000000/megahit/features.tsv.gz'</li><li>'/ebio/abt3_projects/databases_no-backup/DeepMAsED/version2/resmico-sm/GTDBr202_n9k_train_sm-ins_r23//features/0.005555/mean-10-sigma-0.5/1/100/12000000/metaspades/features.tsv.gz'</li><li>'/ebio/abt3_projects/databases_no-backup/DeepMAsED/version2/resmico-sm/GTDBr202_n9k_train_sm-ins_r23//features/0.005555/mean-10-sigma-0.5/1/100/2000000/megahit/features.tsv.gz'</li></ol>\n"
      ],
      "text/latex": [
       "\\begin{enumerate*}\n",
       "\\item '/ebio/abt3\\_projects/databases\\_no-backup/DeepMAsED/version2/resmico-sm/GTDBr202\\_n9k\\_train\\_sm-ins\\_r23//features/0.005555/mean-10-sigma-0.5/1/100/12000000/megahit/features.tsv.gz'\n",
       "\\item '/ebio/abt3\\_projects/databases\\_no-backup/DeepMAsED/version2/resmico-sm/GTDBr202\\_n9k\\_train\\_sm-ins\\_r23//features/0.005555/mean-10-sigma-0.5/1/100/12000000/metaspades/features.tsv.gz'\n",
       "\\item '/ebio/abt3\\_projects/databases\\_no-backup/DeepMAsED/version2/resmico-sm/GTDBr202\\_n9k\\_train\\_sm-ins\\_r23//features/0.005555/mean-10-sigma-0.5/1/100/2000000/megahit/features.tsv.gz'\n",
       "\\end{enumerate*}\n"
      ],
      "text/markdown": [
       "1. '/ebio/abt3_projects/databases_no-backup/DeepMAsED/version2/resmico-sm/GTDBr202_n9k_train_sm-ins_r23//features/0.005555/mean-10-sigma-0.5/1/100/12000000/megahit/features.tsv.gz'\n",
       "2. '/ebio/abt3_projects/databases_no-backup/DeepMAsED/version2/resmico-sm/GTDBr202_n9k_train_sm-ins_r23//features/0.005555/mean-10-sigma-0.5/1/100/12000000/metaspades/features.tsv.gz'\n",
       "3. '/ebio/abt3_projects/databases_no-backup/DeepMAsED/version2/resmico-sm/GTDBr202_n9k_train_sm-ins_r23//features/0.005555/mean-10-sigma-0.5/1/100/2000000/megahit/features.tsv.gz'\n",
       "\n",
       "\n"
      ],
      "text/plain": [
       "[1] \"/ebio/abt3_projects/databases_no-backup/DeepMAsED/version2/resmico-sm/GTDBr202_n9k_train_sm-ins_r23//features/0.005555/mean-10-sigma-0.5/1/100/12000000/megahit/features.tsv.gz\"   \n",
       "[2] \"/ebio/abt3_projects/databases_no-backup/DeepMAsED/version2/resmico-sm/GTDBr202_n9k_train_sm-ins_r23//features/0.005555/mean-10-sigma-0.5/1/100/12000000/metaspades/features.tsv.gz\"\n",
       "[3] \"/ebio/abt3_projects/databases_no-backup/DeepMAsED/version2/resmico-sm/GTDBr202_n9k_train_sm-ins_r23//features/0.005555/mean-10-sigma-0.5/1/100/2000000/megahit/features.tsv.gz\"    "
      ]
     },
     "metadata": {},
     "output_type": "display_data"
    }
   ],
   "source": [
    "feat_files = list_files(file.path(D, 'features'), 'features.tsv.gz')\n",
    "feat_files %>% length\n",
    "feat_files %>% head(n=3)"
   ]
  },
  {
   "cell_type": "code",
   "execution_count": 36,
   "metadata": {
    "ExecuteTime": {
     "end_time": "2022-08-09T07:23:05.071860Z",
     "start_time": "2022-08-09T07:23:04.765Z"
    }
   },
   "outputs": [
    {
     "data": {
      "text/html": [
       "<table class=\"dataframe\">\n",
       "<caption>A data.table: 480 × 8</caption>\n",
       "<thead>\n",
       "\t<tr><th scope=col>richness</th><th scope=col>abundance_distribution</th><th scope=col>rep</th><th scope=col>read_length</th><th scope=col>read_depth</th><th scope=col>assembler</th><th scope=col>feature_file</th><th scope=col>MGSIM_reads_params</th></tr>\n",
       "\t<tr><th scope=col>&lt;dbl&gt;</th><th scope=col>&lt;chr&gt;</th><th scope=col>&lt;int&gt;</th><th scope=col>&lt;int&gt;</th><th scope=col>&lt;int&gt;</th><th scope=col>&lt;chr&gt;</th><th scope=col>&lt;chr&gt;</th><th scope=col>&lt;chr&gt;</th></tr>\n",
       "</thead>\n",
       "<tbody>\n",
       "\t<tr><td>0.005555</td><td>mean-10-sigma-0.5</td><td>1</td><td>100</td><td>500000</td><td>metaspades</td><td>0.005555/mean-10-sigma-0.5/1/100/500000/metaspades/features.tsv.gz</td><td>--art-paired --art-mflen 190 --art-sdev 75 --rndSeed 8712</td></tr>\n",
       "\t<tr><td>0.005555</td><td>mean-10-sigma-0.5</td><td>1</td><td>100</td><td>500000</td><td>megahit   </td><td>0.005555/mean-10-sigma-0.5/1/100/500000/megahit/features.tsv.gz   </td><td>--art-paired --art-mflen 190 --art-sdev 75 --rndSeed 8712</td></tr>\n",
       "\t<tr><td>⋮</td><td>⋮</td><td>⋮</td><td>⋮</td><td>⋮</td><td>⋮</td><td>⋮</td><td>⋮</td></tr>\n",
       "\t<tr><td>0.555555</td><td>mean-10-sigma-2</td><td>2</td><td>150</td><td>20000000</td><td>metaspades</td><td>0.555555/mean-10-sigma-2/2/150/20000000/metaspades/features.tsv.gz</td><td>--art-paired --art-mflen 190 --art-sdev 75 --rndSeed 8712</td></tr>\n",
       "\t<tr><td>0.555555</td><td>mean-10-sigma-2</td><td>2</td><td>150</td><td>20000000</td><td>megahit   </td><td>0.555555/mean-10-sigma-2/2/150/20000000/megahit/features.tsv.gz   </td><td>--art-paired --art-mflen 190 --art-sdev 75 --rndSeed 8712</td></tr>\n",
       "</tbody>\n",
       "</table>\n"
      ],
      "text/latex": [
       "A data.table: 480 × 8\n",
       "\\begin{tabular}{llllllll}\n",
       " richness & abundance\\_distribution & rep & read\\_length & read\\_depth & assembler & feature\\_file & MGSIM\\_reads\\_params\\\\\n",
       " <dbl> & <chr> & <int> & <int> & <int> & <chr> & <chr> & <chr>\\\\\n",
       "\\hline\n",
       "\t 0.005555 & mean-10-sigma-0.5 & 1 & 100 & 500000 & metaspades & 0.005555/mean-10-sigma-0.5/1/100/500000/metaspades/features.tsv.gz & --art-paired --art-mflen 190 --art-sdev 75 --rndSeed 8712\\\\\n",
       "\t 0.005555 & mean-10-sigma-0.5 & 1 & 100 & 500000 & megahit    & 0.005555/mean-10-sigma-0.5/1/100/500000/megahit/features.tsv.gz    & --art-paired --art-mflen 190 --art-sdev 75 --rndSeed 8712\\\\\n",
       "\t ⋮ & ⋮ & ⋮ & ⋮ & ⋮ & ⋮ & ⋮ & ⋮\\\\\n",
       "\t 0.555555 & mean-10-sigma-2 & 2 & 150 & 20000000 & metaspades & 0.555555/mean-10-sigma-2/2/150/20000000/metaspades/features.tsv.gz & --art-paired --art-mflen 190 --art-sdev 75 --rndSeed 8712\\\\\n",
       "\t 0.555555 & mean-10-sigma-2 & 2 & 150 & 20000000 & megahit    & 0.555555/mean-10-sigma-2/2/150/20000000/megahit/features.tsv.gz    & --art-paired --art-mflen 190 --art-sdev 75 --rndSeed 8712\\\\\n",
       "\\end{tabular}\n"
      ],
      "text/markdown": [
       "\n",
       "A data.table: 480 × 8\n",
       "\n",
       "| richness &lt;dbl&gt; | abundance_distribution &lt;chr&gt; | rep &lt;int&gt; | read_length &lt;int&gt; | read_depth &lt;int&gt; | assembler &lt;chr&gt; | feature_file &lt;chr&gt; | MGSIM_reads_params &lt;chr&gt; |\n",
       "|---|---|---|---|---|---|---|---|\n",
       "| 0.005555 | mean-10-sigma-0.5 | 1 | 100 | 500000 | metaspades | 0.005555/mean-10-sigma-0.5/1/100/500000/metaspades/features.tsv.gz | --art-paired --art-mflen 190 --art-sdev 75 --rndSeed 8712 |\n",
       "| 0.005555 | mean-10-sigma-0.5 | 1 | 100 | 500000 | megahit    | 0.005555/mean-10-sigma-0.5/1/100/500000/megahit/features.tsv.gz    | --art-paired --art-mflen 190 --art-sdev 75 --rndSeed 8712 |\n",
       "| ⋮ | ⋮ | ⋮ | ⋮ | ⋮ | ⋮ | ⋮ | ⋮ |\n",
       "| 0.555555 | mean-10-sigma-2 | 2 | 150 | 20000000 | metaspades | 0.555555/mean-10-sigma-2/2/150/20000000/metaspades/features.tsv.gz | --art-paired --art-mflen 190 --art-sdev 75 --rndSeed 8712 |\n",
       "| 0.555555 | mean-10-sigma-2 | 2 | 150 | 20000000 | megahit    | 0.555555/mean-10-sigma-2/2/150/20000000/megahit/features.tsv.gz    | --art-paired --art-mflen 190 --art-sdev 75 --rndSeed 8712 |\n",
       "\n"
      ],
      "text/plain": [
       "    richness abundance_distribution rep read_length read_depth assembler \n",
       "1   0.005555 mean-10-sigma-0.5      1   100         500000     metaspades\n",
       "2   0.005555 mean-10-sigma-0.5      1   100         500000     megahit   \n",
       "⋮   ⋮        ⋮                      ⋮   ⋮           ⋮          ⋮         \n",
       "479 0.555555 mean-10-sigma-2        2   150         20000000   metaspades\n",
       "480 0.555555 mean-10-sigma-2        2   150         20000000   megahit   \n",
       "    feature_file                                                      \n",
       "1   0.005555/mean-10-sigma-0.5/1/100/500000/metaspades/features.tsv.gz\n",
       "2   0.005555/mean-10-sigma-0.5/1/100/500000/megahit/features.tsv.gz   \n",
       "⋮   ⋮                                                                 \n",
       "479 0.555555/mean-10-sigma-2/2/150/20000000/metaspades/features.tsv.gz\n",
       "480 0.555555/mean-10-sigma-2/2/150/20000000/megahit/features.tsv.gz   \n",
       "    MGSIM_reads_params                                       \n",
       "1   --art-paired --art-mflen 190 --art-sdev 75 --rndSeed 8712\n",
       "2   --art-paired --art-mflen 190 --art-sdev 75 --rndSeed 8712\n",
       "⋮   ⋮                                                        \n",
       "479 --art-paired --art-mflen 190 --art-sdev 75 --rndSeed 8712\n",
       "480 --art-paired --art-mflen 190 --art-sdev 75 --rndSeed 8712"
      ]
     },
     "metadata": {},
     "output_type": "display_data"
    }
   ],
   "source": [
    "F = file.path(D, 'features', 'feature_files.tsv')\n",
    "feats = Fread(F)\n",
    "feats"
   ]
  },
  {
   "cell_type": "code",
   "execution_count": 39,
   "metadata": {
    "ExecuteTime": {
     "end_time": "2022-08-09T07:25:10.506371Z",
     "start_time": "2022-08-09T07:25:10.413Z"
    }
   },
   "outputs": [
    {
     "name": "stdout",
     "output_type": "stream",
     "text": [
      "File written: /ebio/abt3_projects/databases_no-backup/DeepMAsED/version2/resmico-sm/GTDBr202_n9k_train_sm-ins_r23//features/feature_files.tsv \n"
     ]
    }
   ],
   "source": [
    "F = file.path(D, 'features', 'feature_files.tsv')\n",
    "feats %>%\n",
    "    mutate.(rep = rep + 1) %>%\n",
    "    write_table(F)"
   ]
  },
  {
   "cell_type": "markdown",
   "metadata": {},
   "source": [
    "# sessionInfo"
   ]
  },
  {
   "cell_type": "code",
   "execution_count": 40,
   "metadata": {
    "ExecuteTime": {
     "end_time": "2022-08-09T07:26:06.364882Z",
     "start_time": "2022-08-09T07:26:03.757Z"
    }
   },
   "outputs": [
    {
     "data": {
      "text/plain": [
       "R version 4.1.0 (2021-05-18)\n",
       "Platform: x86_64-conda-linux-gnu (64-bit)\n",
       "Running under: Ubuntu 20.04.4 LTS\n",
       "\n",
       "Matrix products: default\n",
       "BLAS/LAPACK: /ebio/abt3_projects/DeepMAsED/envs/tidyverse/lib/libopenblasp-r0.3.15.so\n",
       "\n",
       "locale:\n",
       " [1] LC_CTYPE=en_US.UTF-8       LC_NUMERIC=C              \n",
       " [3] LC_TIME=en_US.UTF-8        LC_COLLATE=en_US.UTF-8    \n",
       " [5] LC_MONETARY=en_US.UTF-8    LC_MESSAGES=en_US.UTF-8   \n",
       " [7] LC_PAPER=en_US.UTF-8       LC_NAME=C                 \n",
       " [9] LC_ADDRESS=C               LC_TELEPHONE=C            \n",
       "[11] LC_MEASUREMENT=en_US.UTF-8 LC_IDENTIFICATION=C       \n",
       "\n",
       "attached base packages:\n",
       "[1] stats     graphics  grDevices utils     datasets  methods   base     \n",
       "\n",
       "other attached packages:\n",
       "[1] clustermq_0.8.95.1 PRROC_1.3.1        LeyLabRMisc_0.1.9  tidytable_0.6.3   \n",
       "[5] data.table_1.14.0  ggplot2_3.3.5      tidyr_1.1.3        dplyr_1.0.7       \n",
       "\n",
       "loaded via a namespace (and not attached):\n",
       " [1] Rcpp_1.0.7        pillar_1.6.1      compiler_4.1.0    base64enc_0.1-3  \n",
       " [5] tools_4.1.0       digest_0.6.27     uuid_0.1-4        jsonlite_1.7.2   \n",
       " [9] evaluate_0.14     lifecycle_1.0.0   tibble_3.1.2      gtable_0.3.0     \n",
       "[13] pkgconfig_2.0.3   rlang_0.4.11      IRdisplay_1.0     IRkernel_1.2     \n",
       "[17] repr_1.1.3        withr_2.4.2       generics_0.1.0    vctrs_0.3.8      \n",
       "[21] grid_4.1.0        tidyselect_1.1.1  glue_1.4.2        R6_2.5.0         \n",
       "[25] fansi_0.4.2       pbdZMQ_0.3-5      purrr_0.3.4       magrittr_2.0.1   \n",
       "[29] codetools_0.2-18  scales_1.1.1      ellipsis_0.3.2    htmltools_0.5.1.1\n",
       "[33] colorspace_2.0-2  utf8_1.2.1        munsell_0.5.0     crayon_1.4.1     "
      ]
     },
     "metadata": {},
     "output_type": "display_data"
    }
   ],
   "source": [
    "sessionInfo()"
   ]
  }
 ],
 "metadata": {
  "kernelspec": {
   "display_name": "R [conda env:DeepMAsED-tidyverse]",
   "language": "R",
   "name": "conda-env-DeepMAsED-tidyverse-r"
  },
  "language_info": {
   "codemirror_mode": "r",
   "file_extension": ".r",
   "mimetype": "text/x-r-source",
   "name": "R",
   "pygments_lexer": "r",
   "version": "4.1.0"
  },
  "notify_time": "30",
  "toc": {
   "base_numbering": 1,
   "nav_menu": {},
   "number_sections": true,
   "sideBar": true,
   "skip_h1_title": false,
   "title_cell": "Table of Contents",
   "title_sidebar": "Contents",
   "toc_cell": true,
   "toc_position": {
    "height": "calc(100% - 180px)",
    "left": "10px",
    "top": "150px",
    "width": "345.594px"
   },
   "toc_section_display": true,
   "toc_window_display": true
  }
 },
 "nbformat": 4,
 "nbformat_minor": 4
}
