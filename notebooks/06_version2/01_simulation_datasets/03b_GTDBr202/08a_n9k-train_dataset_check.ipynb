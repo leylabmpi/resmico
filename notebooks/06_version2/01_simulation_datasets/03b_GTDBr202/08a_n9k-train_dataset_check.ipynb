{
 "cells": [
  {
   "cell_type": "markdown",
   "metadata": {
    "toc": true
   },
   "source": [
    "<h1>Table of Contents<span class=\"tocSkip\"></span></h1>\n",
    "<div class=\"toc\"><ul class=\"toc-item\"><li><span><a href=\"#Var\" data-toc-modified-id=\"Var-1\"><span class=\"toc-item-num\">1&nbsp;&nbsp;</span>Var</a></span></li><li><span><a href=\"#Init\" data-toc-modified-id=\"Init-2\"><span class=\"toc-item-num\">2&nbsp;&nbsp;</span>Init</a></span></li><li><span><a href=\"#Features\" data-toc-modified-id=\"Features-3\"><span class=\"toc-item-num\">3&nbsp;&nbsp;</span>Features</a></span></li><li><span><a href=\"#Params\" data-toc-modified-id=\"Params-4\"><span class=\"toc-item-num\">4&nbsp;&nbsp;</span>Params</a></span><ul class=\"toc-item\"><li><ul class=\"toc-item\"><li><span><a href=\"#1st-insert-size\" data-toc-modified-id=\"1st-insert-size-4.0.1\"><span class=\"toc-item-num\">4.0.1&nbsp;&nbsp;</span>1st insert size</a></span></li><li><span><a href=\"#2nd-insert-size\" data-toc-modified-id=\"2nd-insert-size-4.0.2\"><span class=\"toc-item-num\">4.0.2&nbsp;&nbsp;</span>2nd insert size</a></span></li><li><span><a href=\"#Merged\" data-toc-modified-id=\"Merged-4.0.3\"><span class=\"toc-item-num\">4.0.3&nbsp;&nbsp;</span>Merged</a></span></li><li><span><a href=\"#Missing\" data-toc-modified-id=\"Missing-4.0.4\"><span class=\"toc-item-num\">4.0.4&nbsp;&nbsp;</span>Missing</a></span></li></ul></li></ul></li><li><span><a href=\"#ResMiCo-SM\" data-toc-modified-id=\"ResMiCo-SM-5\"><span class=\"toc-item-num\">5&nbsp;&nbsp;</span>ResMiCo-SM</a></span><ul class=\"toc-item\"><li><span><a href=\"#Feature-tables\" data-toc-modified-id=\"Feature-tables-5.1\"><span class=\"toc-item-num\">5.1&nbsp;&nbsp;</span>Feature tables</a></span><ul class=\"toc-item\"><li><span><a href=\"#mean270-stdev50\" data-toc-modified-id=\"mean270-stdev50-5.1.1\"><span class=\"toc-item-num\">5.1.1&nbsp;&nbsp;</span>mean270-stdev50</a></span></li><li><span><a href=\"#mean350-stdev75\" data-toc-modified-id=\"mean350-stdev75-5.1.2\"><span class=\"toc-item-num\">5.1.2&nbsp;&nbsp;</span>mean350-stdev75</a></span></li><li><span><a href=\"#Overlap\" data-toc-modified-id=\"Overlap-5.1.3\"><span class=\"toc-item-num\">5.1.3&nbsp;&nbsp;</span>Overlap</a></span></li><li><span><a href=\"#Copying-samples\" data-toc-modified-id=\"Copying-samples-5.1.4\"><span class=\"toc-item-num\">5.1.4&nbsp;&nbsp;</span>Copying samples</a></span></li><li><span><a href=\"#Creating-new-feature-table\" data-toc-modified-id=\"Creating-new-feature-table-5.1.5\"><span class=\"toc-item-num\">5.1.5&nbsp;&nbsp;</span>Creating new feature table</a></span></li></ul></li></ul></li><li><span><a href=\"#--OLD--\" data-toc-modified-id=\"--OLD---6\"><span class=\"toc-item-num\">6&nbsp;&nbsp;</span>--OLD--</a></span><ul class=\"toc-item\"><li><ul class=\"toc-item\"><li><span><a href=\"#TODO-samples\" data-toc-modified-id=\"TODO-samples-6.0.1\"><span class=\"toc-item-num\">6.0.1&nbsp;&nbsp;</span>TODO samples</a></span></li></ul></li></ul></li><li><span><a href=\"#sessionInfo\" data-toc-modified-id=\"sessionInfo-7\"><span class=\"toc-item-num\">7&nbsp;&nbsp;</span>sessionInfo</a></span></li></ul></div>"
   ]
  },
  {
   "cell_type": "markdown",
   "metadata": {},
   "source": [
    "# Var"
   ]
  },
  {
   "cell_type": "code",
   "execution_count": 11,
   "metadata": {
    "ExecuteTime": {
     "end_time": "2022-06-08T12:14:33.350303Z",
     "start_time": "2022-06-08T12:14:33.262Z"
    }
   },
   "outputs": [],
   "source": [
    "work_dir = '/ebio/abt3_projects/databases_no-backup/DeepMAsED/version2/resmico-sm/ftp/n9k-train/'\n",
    "\n",
    "# params\n",
    "threads = 4"
   ]
  },
  {
   "cell_type": "markdown",
   "metadata": {},
   "source": [
    "# Init"
   ]
  },
  {
   "cell_type": "code",
   "execution_count": 12,
   "metadata": {
    "ExecuteTime": {
     "end_time": "2022-06-08T12:14:33.567671Z",
     "start_time": "2022-06-08T12:14:33.474Z"
    }
   },
   "outputs": [],
   "source": [
    "library(dplyr)\n",
    "library(tidyr)\n",
    "library(ggplot2)\n",
    "library(data.table)\n",
    "library(tidytable)\n",
    "library(LeyLabRMisc)\n",
    "Init(threads=threads)"
   ]
  },
  {
   "cell_type": "markdown",
   "metadata": {},
   "source": [
    "# Features"
   ]
  },
  {
   "cell_type": "code",
   "execution_count": 19,
   "metadata": {
    "ExecuteTime": {
     "end_time": "2022-06-08T12:17:47.273448Z",
     "start_time": "2022-06-08T12:17:47.145Z"
    }
   },
   "outputs": [
    {
     "data": {
      "text/html": [
       "<table class=\"dataframe\">\n",
       "<caption>A data.table: 2374 × 9</caption>\n",
       "<thead>\n",
       "\t<tr><th scope=col>richness</th><th scope=col>abundance_distribution</th><th scope=col>insert_size</th><th scope=col>error_profile</th><th scope=col>rep</th><th scope=col>read_length</th><th scope=col>read_depth</th><th scope=col>assembler</th><th scope=col>feature_file</th></tr>\n",
       "\t<tr><th scope=col>&lt;dbl&gt;</th><th scope=col>&lt;chr&gt;</th><th scope=col>&lt;chr&gt;</th><th scope=col>&lt;chr&gt;</th><th scope=col>&lt;int&gt;</th><th scope=col>&lt;int&gt;</th><th scope=col>&lt;int&gt;</th><th scope=col>&lt;chr&gt;</th><th scope=col>&lt;chr&gt;</th></tr>\n",
       "</thead>\n",
       "<tbody>\n",
       "\t<tr><td>0.005555</td><td>mean-10-sigma-0.5</td><td>mean270-stdev50</td><td>cami_err</td><td>1</td><td>100</td><td>12000000</td><td>megahit   </td><td>features/cami_err/0.005555/mean-10-sigma-0.5/mean270-stdev50/1/100/12000000/megahit/features.tsv.gz   </td></tr>\n",
       "\t<tr><td>0.005555</td><td>mean-10-sigma-0.5</td><td>mean270-stdev50</td><td>cami_err</td><td>1</td><td>100</td><td>12000000</td><td>metaspades</td><td>features/cami_err/0.005555/mean-10-sigma-0.5/mean270-stdev50/1/100/12000000/metaspades/features.tsv.gz</td></tr>\n",
       "\t<tr><td>⋮</td><td>⋮</td><td>⋮</td><td>⋮</td><td>⋮</td><td>⋮</td><td>⋮</td><td>⋮</td><td>⋮</td></tr>\n",
       "\t<tr><td>0.555555</td><td>mean-10-sigma-2</td><td>mean350-stdev75</td><td>cami_err</td><td>3</td><td>150</td><td>8000000</td><td>megahit   </td><td>features/cami_err/0.555555/mean-10-sigma-2/mean350-stdev75/3/150/8000000/megahit/features.tsv.gz   </td></tr>\n",
       "\t<tr><td>0.555555</td><td>mean-10-sigma-2</td><td>mean350-stdev75</td><td>cami_err</td><td>3</td><td>150</td><td>8000000</td><td>metaspades</td><td>features/cami_err/0.555555/mean-10-sigma-2/mean350-stdev75/3/150/8000000/metaspades/features.tsv.gz</td></tr>\n",
       "</tbody>\n",
       "</table>\n"
      ],
      "text/latex": [
       "A data.table: 2374 × 9\n",
       "\\begin{tabular}{lllllllll}\n",
       " richness & abundance\\_distribution & insert\\_size & error\\_profile & rep & read\\_length & read\\_depth & assembler & feature\\_file\\\\\n",
       " <dbl> & <chr> & <chr> & <chr> & <int> & <int> & <int> & <chr> & <chr>\\\\\n",
       "\\hline\n",
       "\t 0.005555 & mean-10-sigma-0.5 & mean270-stdev50 & cami\\_err & 1 & 100 & 12000000 & megahit    & features/cami\\_err/0.005555/mean-10-sigma-0.5/mean270-stdev50/1/100/12000000/megahit/features.tsv.gz   \\\\\n",
       "\t 0.005555 & mean-10-sigma-0.5 & mean270-stdev50 & cami\\_err & 1 & 100 & 12000000 & metaspades & features/cami\\_err/0.005555/mean-10-sigma-0.5/mean270-stdev50/1/100/12000000/metaspades/features.tsv.gz\\\\\n",
       "\t ⋮ & ⋮ & ⋮ & ⋮ & ⋮ & ⋮ & ⋮ & ⋮ & ⋮\\\\\n",
       "\t 0.555555 & mean-10-sigma-2 & mean350-stdev75 & cami\\_err & 3 & 150 & 8000000 & megahit    & features/cami\\_err/0.555555/mean-10-sigma-2/mean350-stdev75/3/150/8000000/megahit/features.tsv.gz   \\\\\n",
       "\t 0.555555 & mean-10-sigma-2 & mean350-stdev75 & cami\\_err & 3 & 150 & 8000000 & metaspades & features/cami\\_err/0.555555/mean-10-sigma-2/mean350-stdev75/3/150/8000000/metaspades/features.tsv.gz\\\\\n",
       "\\end{tabular}\n"
      ],
      "text/markdown": [
       "\n",
       "A data.table: 2374 × 9\n",
       "\n",
       "| richness &lt;dbl&gt; | abundance_distribution &lt;chr&gt; | insert_size &lt;chr&gt; | error_profile &lt;chr&gt; | rep &lt;int&gt; | read_length &lt;int&gt; | read_depth &lt;int&gt; | assembler &lt;chr&gt; | feature_file &lt;chr&gt; |\n",
       "|---|---|---|---|---|---|---|---|---|\n",
       "| 0.005555 | mean-10-sigma-0.5 | mean270-stdev50 | cami_err | 1 | 100 | 12000000 | megahit    | features/cami_err/0.005555/mean-10-sigma-0.5/mean270-stdev50/1/100/12000000/megahit/features.tsv.gz    |\n",
       "| 0.005555 | mean-10-sigma-0.5 | mean270-stdev50 | cami_err | 1 | 100 | 12000000 | metaspades | features/cami_err/0.005555/mean-10-sigma-0.5/mean270-stdev50/1/100/12000000/metaspades/features.tsv.gz |\n",
       "| ⋮ | ⋮ | ⋮ | ⋮ | ⋮ | ⋮ | ⋮ | ⋮ | ⋮ |\n",
       "| 0.555555 | mean-10-sigma-2 | mean350-stdev75 | cami_err | 3 | 150 | 8000000 | megahit    | features/cami_err/0.555555/mean-10-sigma-2/mean350-stdev75/3/150/8000000/megahit/features.tsv.gz    |\n",
       "| 0.555555 | mean-10-sigma-2 | mean350-stdev75 | cami_err | 3 | 150 | 8000000 | metaspades | features/cami_err/0.555555/mean-10-sigma-2/mean350-stdev75/3/150/8000000/metaspades/features.tsv.gz |\n",
       "\n"
      ],
      "text/plain": [
       "     richness abundance_distribution insert_size     error_profile rep\n",
       "1    0.005555 mean-10-sigma-0.5      mean270-stdev50 cami_err      1  \n",
       "2    0.005555 mean-10-sigma-0.5      mean270-stdev50 cami_err      1  \n",
       "⋮    ⋮        ⋮                      ⋮               ⋮             ⋮  \n",
       "2373 0.555555 mean-10-sigma-2        mean350-stdev75 cami_err      3  \n",
       "2374 0.555555 mean-10-sigma-2        mean350-stdev75 cami_err      3  \n",
       "     read_length read_depth assembler \n",
       "1    100         12000000   megahit   \n",
       "2    100         12000000   metaspades\n",
       "⋮    ⋮           ⋮          ⋮         \n",
       "2373 150         8000000    megahit   \n",
       "2374 150         8000000    metaspades\n",
       "     feature_file                                                                                          \n",
       "1    features/cami_err/0.005555/mean-10-sigma-0.5/mean270-stdev50/1/100/12000000/megahit/features.tsv.gz   \n",
       "2    features/cami_err/0.005555/mean-10-sigma-0.5/mean270-stdev50/1/100/12000000/metaspades/features.tsv.gz\n",
       "⋮    ⋮                                                                                                     \n",
       "2373 features/cami_err/0.555555/mean-10-sigma-2/mean350-stdev75/3/150/8000000/megahit/features.tsv.gz      \n",
       "2374 features/cami_err/0.555555/mean-10-sigma-2/mean350-stdev75/3/150/8000000/metaspades/features.tsv.gz   "
      ]
     },
     "metadata": {},
     "output_type": "display_data"
    }
   ],
   "source": [
    "F = file.path(work_dir, 'feature_files.tsv')\n",
    "train = Fread(F)\n",
    "train"
   ]
  },
  {
   "cell_type": "code",
   "execution_count": 46,
   "metadata": {
    "ExecuteTime": {
     "end_time": "2022-06-08T12:24:08.152777Z",
     "start_time": "2022-06-08T12:24:08.050Z"
    }
   },
   "outputs": [
    {
     "data": {
      "text/plain": [
       ".\n",
       "  cami_err normal_err \n",
       "      1414        960 "
      ]
     },
     "metadata": {},
     "output_type": "display_data"
    },
    {
     "data": {
      "text/plain": [
       ".\n",
       "mean270-stdev50 mean350-stdev75 \n",
       "           1434             940 "
      ]
     },
     "metadata": {},
     "output_type": "display_data"
    },
    {
     "data": {
      "text/plain": [
       ".\n",
       "  1   2   3 \n",
       "937 717 720 "
      ]
     },
     "metadata": {},
     "output_type": "display_data"
    }
   ],
   "source": [
    "train$error_profile %>% table\n",
    "train$insert_size %>% table\n",
    "train$rep %>% table"
   ]
  },
  {
   "cell_type": "markdown",
   "metadata": {},
   "source": [
    "# Params"
   ]
  },
  {
   "cell_type": "code",
   "execution_count": 63,
   "metadata": {
    "ExecuteTime": {
     "end_time": "2022-06-08T12:31:30.274878Z",
     "start_time": "2022-06-08T12:31:30.195Z"
    }
   },
   "outputs": [
    {
     "data": {
      "text/html": [
       "<table class=\"dataframe\">\n",
       "<caption>A data.frame: 2880 × 8</caption>\n",
       "<thead>\n",
       "\t<tr><th scope=col>rep</th><th scope=col>richness</th><th scope=col>read_length</th><th scope=col>read_depth</th><th scope=col>abundance_distribution</th><th scope=col>assembler</th><th scope=col>error_profile</th><th scope=col>insert_size</th></tr>\n",
       "\t<tr><th scope=col>&lt;dbl&gt;</th><th scope=col>&lt;dbl&gt;</th><th scope=col>&lt;dbl&gt;</th><th scope=col>&lt;dbl&gt;</th><th scope=col>&lt;fct&gt;</th><th scope=col>&lt;fct&gt;</th><th scope=col>&lt;fct&gt;</th><th scope=col>&lt;fct&gt;</th></tr>\n",
       "</thead>\n",
       "<tbody>\n",
       "\t<tr><td>1</td><td>0.005555</td><td>100</td><td>5e+05</td><td>mean-10-sigma-0.5</td><td>metaspades</td><td>normal_err</td><td>mean270-stdev50</td></tr>\n",
       "\t<tr><td>2</td><td>0.005555</td><td>100</td><td>5e+05</td><td>mean-10-sigma-0.5</td><td>metaspades</td><td>normal_err</td><td>mean270-stdev50</td></tr>\n",
       "\t<tr><td>⋮</td><td>⋮</td><td>⋮</td><td>⋮</td><td>⋮</td><td>⋮</td><td>⋮</td><td>⋮</td></tr>\n",
       "\t<tr><td>2</td><td>0.555555</td><td>150</td><td>2e+07</td><td>mean-10-sigma-2</td><td>megahit</td><td>cami_err</td><td>mean350-stdev75</td></tr>\n",
       "\t<tr><td>3</td><td>0.555555</td><td>150</td><td>2e+07</td><td>mean-10-sigma-2</td><td>megahit</td><td>cami_err</td><td>mean350-stdev75</td></tr>\n",
       "</tbody>\n",
       "</table>\n"
      ],
      "text/latex": [
       "A data.frame: 2880 × 8\n",
       "\\begin{tabular}{llllllll}\n",
       " rep & richness & read\\_length & read\\_depth & abundance\\_distribution & assembler & error\\_profile & insert\\_size\\\\\n",
       " <dbl> & <dbl> & <dbl> & <dbl> & <fct> & <fct> & <fct> & <fct>\\\\\n",
       "\\hline\n",
       "\t 1 & 0.005555 & 100 & 5e+05 & mean-10-sigma-0.5 & metaspades & normal\\_err & mean270-stdev50\\\\\n",
       "\t 2 & 0.005555 & 100 & 5e+05 & mean-10-sigma-0.5 & metaspades & normal\\_err & mean270-stdev50\\\\\n",
       "\t ⋮ & ⋮ & ⋮ & ⋮ & ⋮ & ⋮ & ⋮ & ⋮\\\\\n",
       "\t 2 & 0.555555 & 150 & 2e+07 & mean-10-sigma-2 & megahit & cami\\_err & mean350-stdev75\\\\\n",
       "\t 3 & 0.555555 & 150 & 2e+07 & mean-10-sigma-2 & megahit & cami\\_err & mean350-stdev75\\\\\n",
       "\\end{tabular}\n"
      ],
      "text/markdown": [
       "\n",
       "A data.frame: 2880 × 8\n",
       "\n",
       "| rep &lt;dbl&gt; | richness &lt;dbl&gt; | read_length &lt;dbl&gt; | read_depth &lt;dbl&gt; | abundance_distribution &lt;fct&gt; | assembler &lt;fct&gt; | error_profile &lt;fct&gt; | insert_size &lt;fct&gt; |\n",
       "|---|---|---|---|---|---|---|---|\n",
       "| 1 | 0.005555 | 100 | 5e+05 | mean-10-sigma-0.5 | metaspades | normal_err | mean270-stdev50 |\n",
       "| 2 | 0.005555 | 100 | 5e+05 | mean-10-sigma-0.5 | metaspades | normal_err | mean270-stdev50 |\n",
       "| ⋮ | ⋮ | ⋮ | ⋮ | ⋮ | ⋮ | ⋮ | ⋮ |\n",
       "| 2 | 0.555555 | 150 | 2e+07 | mean-10-sigma-2 | megahit | cami_err | mean350-stdev75 |\n",
       "| 3 | 0.555555 | 150 | 2e+07 | mean-10-sigma-2 | megahit | cami_err | mean350-stdev75 |\n",
       "\n"
      ],
      "text/plain": [
       "     rep richness read_length read_depth abundance_distribution assembler \n",
       "1    1   0.005555 100         5e+05      mean-10-sigma-0.5      metaspades\n",
       "2    2   0.005555 100         5e+05      mean-10-sigma-0.5      metaspades\n",
       "⋮    ⋮   ⋮        ⋮           ⋮          ⋮                      ⋮         \n",
       "2879 2   0.555555 150         2e+07      mean-10-sigma-2        megahit   \n",
       "2880 3   0.555555 150         2e+07      mean-10-sigma-2        megahit   \n",
       "     error_profile insert_size    \n",
       "1    normal_err    mean270-stdev50\n",
       "2    normal_err    mean270-stdev50\n",
       "⋮    ⋮             ⋮              \n",
       "2879 cami_err      mean350-stdev75\n",
       "2880 cami_err      mean350-stdev75"
      ]
     },
     "metadata": {},
     "output_type": "display_data"
    }
   ],
   "source": [
    "# all pairwise comparisons\n",
    "params = list(\n",
    "    rep = c(1,2,3),\n",
    "    richness = c(0.005555, 0.111111, 0.333333, 0.555555),\n",
    "    read_length = c(100, 150),\n",
    "    read_depth = c(500000, 2000000, 8000000, 12000000, 20000000),\n",
    "    abundance_distribution = c('mean-10-sigma-0.5', 'mean-10-sigma-1', 'mean-10-sigma-2'),\n",
    "    assembler = c('metaspades', 'megahit'),\n",
    "    error_profile = c('normal_err', 'cami_err'),\n",
    "    insert_size = c('mean270-stdev50', 'mean350-stdev75')\n",
    ")\n",
    "do.call(expand.grid, params)"
   ]
  },
  {
   "cell_type": "markdown",
   "metadata": {},
   "source": [
    "### 1st insert size"
   ]
  },
  {
   "cell_type": "code",
   "execution_count": 64,
   "metadata": {
    "ExecuteTime": {
     "end_time": "2022-06-08T12:31:30.487920Z",
     "start_time": "2022-06-08T12:31:30.408Z"
    }
   },
   "outputs": [
    {
     "data": {
      "text/html": [
       "<table class=\"dataframe\">\n",
       "<caption>A data.frame: 1440 × 8</caption>\n",
       "<thead>\n",
       "\t<tr><th scope=col>rep</th><th scope=col>richness</th><th scope=col>read_length</th><th scope=col>read_depth</th><th scope=col>abundance_distribution</th><th scope=col>assembler</th><th scope=col>error_profile</th><th scope=col>insert_size</th></tr>\n",
       "\t<tr><th scope=col>&lt;dbl&gt;</th><th scope=col>&lt;dbl&gt;</th><th scope=col>&lt;dbl&gt;</th><th scope=col>&lt;dbl&gt;</th><th scope=col>&lt;fct&gt;</th><th scope=col>&lt;fct&gt;</th><th scope=col>&lt;fct&gt;</th><th scope=col>&lt;fct&gt;</th></tr>\n",
       "</thead>\n",
       "<tbody>\n",
       "\t<tr><td>1</td><td>0.005555</td><td>100</td><td>5e+05</td><td>mean-10-sigma-0.5</td><td>metaspades</td><td>normal_err</td><td>mean270-stdev50</td></tr>\n",
       "\t<tr><td>2</td><td>0.005555</td><td>100</td><td>5e+05</td><td>mean-10-sigma-0.5</td><td>metaspades</td><td>normal_err</td><td>mean270-stdev50</td></tr>\n",
       "\t<tr><td>⋮</td><td>⋮</td><td>⋮</td><td>⋮</td><td>⋮</td><td>⋮</td><td>⋮</td><td>⋮</td></tr>\n",
       "\t<tr><td>2</td><td>0.555555</td><td>150</td><td>2e+07</td><td>mean-10-sigma-2</td><td>megahit</td><td>cami_err</td><td>mean270-stdev50</td></tr>\n",
       "\t<tr><td>3</td><td>0.555555</td><td>150</td><td>2e+07</td><td>mean-10-sigma-2</td><td>megahit</td><td>cami_err</td><td>mean270-stdev50</td></tr>\n",
       "</tbody>\n",
       "</table>\n"
      ],
      "text/latex": [
       "A data.frame: 1440 × 8\n",
       "\\begin{tabular}{llllllll}\n",
       " rep & richness & read\\_length & read\\_depth & abundance\\_distribution & assembler & error\\_profile & insert\\_size\\\\\n",
       " <dbl> & <dbl> & <dbl> & <dbl> & <fct> & <fct> & <fct> & <fct>\\\\\n",
       "\\hline\n",
       "\t 1 & 0.005555 & 100 & 5e+05 & mean-10-sigma-0.5 & metaspades & normal\\_err & mean270-stdev50\\\\\n",
       "\t 2 & 0.005555 & 100 & 5e+05 & mean-10-sigma-0.5 & metaspades & normal\\_err & mean270-stdev50\\\\\n",
       "\t ⋮ & ⋮ & ⋮ & ⋮ & ⋮ & ⋮ & ⋮ & ⋮\\\\\n",
       "\t 2 & 0.555555 & 150 & 2e+07 & mean-10-sigma-2 & megahit & cami\\_err & mean270-stdev50\\\\\n",
       "\t 3 & 0.555555 & 150 & 2e+07 & mean-10-sigma-2 & megahit & cami\\_err & mean270-stdev50\\\\\n",
       "\\end{tabular}\n"
      ],
      "text/markdown": [
       "\n",
       "A data.frame: 1440 × 8\n",
       "\n",
       "| rep &lt;dbl&gt; | richness &lt;dbl&gt; | read_length &lt;dbl&gt; | read_depth &lt;dbl&gt; | abundance_distribution &lt;fct&gt; | assembler &lt;fct&gt; | error_profile &lt;fct&gt; | insert_size &lt;fct&gt; |\n",
       "|---|---|---|---|---|---|---|---|\n",
       "| 1 | 0.005555 | 100 | 5e+05 | mean-10-sigma-0.5 | metaspades | normal_err | mean270-stdev50 |\n",
       "| 2 | 0.005555 | 100 | 5e+05 | mean-10-sigma-0.5 | metaspades | normal_err | mean270-stdev50 |\n",
       "| ⋮ | ⋮ | ⋮ | ⋮ | ⋮ | ⋮ | ⋮ | ⋮ |\n",
       "| 2 | 0.555555 | 150 | 2e+07 | mean-10-sigma-2 | megahit | cami_err | mean270-stdev50 |\n",
       "| 3 | 0.555555 | 150 | 2e+07 | mean-10-sigma-2 | megahit | cami_err | mean270-stdev50 |\n",
       "\n"
      ],
      "text/plain": [
       "     rep richness read_length read_depth abundance_distribution assembler \n",
       "1    1   0.005555 100         5e+05      mean-10-sigma-0.5      metaspades\n",
       "2    2   0.005555 100         5e+05      mean-10-sigma-0.5      metaspades\n",
       "⋮    ⋮   ⋮        ⋮           ⋮          ⋮                      ⋮         \n",
       "1439 2   0.555555 150         2e+07      mean-10-sigma-2        megahit   \n",
       "1440 3   0.555555 150         2e+07      mean-10-sigma-2        megahit   \n",
       "     error_profile insert_size    \n",
       "1    normal_err    mean270-stdev50\n",
       "2    normal_err    mean270-stdev50\n",
       "⋮    ⋮             ⋮              \n",
       "1439 cami_err      mean270-stdev50\n",
       "1440 cami_err      mean270-stdev50"
      ]
     },
     "metadata": {},
     "output_type": "display_data"
    }
   ],
   "source": [
    "# all pairwise comparisons\n",
    "params = list(\n",
    "    rep = c(1,2,3),\n",
    "    richness = c(0.005555, 0.111111, 0.333333, 0.555555),\n",
    "    read_length = c(100, 150),\n",
    "    read_depth = c(500000, 2000000, 8000000, 12000000, 20000000),\n",
    "    abundance_distribution = c('mean-10-sigma-0.5', 'mean-10-sigma-1', 'mean-10-sigma-2'),\n",
    "    assembler = c('metaspades', 'megahit'),\n",
    "    error_profile = c('normal_err', 'cami_err'),\n",
    "    insert_size = c('mean270-stdev50')\n",
    ")\n",
    "train1 = do.call(expand.grid, params)\n",
    "train1"
   ]
  },
  {
   "cell_type": "markdown",
   "metadata": {},
   "source": [
    "### 2nd insert size"
   ]
  },
  {
   "cell_type": "code",
   "execution_count": 65,
   "metadata": {
    "ExecuteTime": {
     "end_time": "2022-06-08T12:31:30.729516Z",
     "start_time": "2022-06-08T12:31:30.652Z"
    }
   },
   "outputs": [
    {
     "data": {
      "text/html": [
       "<table class=\"dataframe\">\n",
       "<caption>A data.frame: 720 × 8</caption>\n",
       "<thead>\n",
       "\t<tr><th scope=col>rep</th><th scope=col>richness</th><th scope=col>read_length</th><th scope=col>read_depth</th><th scope=col>abundance_distribution</th><th scope=col>assembler</th><th scope=col>error_profile</th><th scope=col>insert_size</th></tr>\n",
       "\t<tr><th scope=col>&lt;dbl&gt;</th><th scope=col>&lt;dbl&gt;</th><th scope=col>&lt;dbl&gt;</th><th scope=col>&lt;dbl&gt;</th><th scope=col>&lt;fct&gt;</th><th scope=col>&lt;fct&gt;</th><th scope=col>&lt;fct&gt;</th><th scope=col>&lt;fct&gt;</th></tr>\n",
       "</thead>\n",
       "<tbody>\n",
       "\t<tr><td>1</td><td>0.005555</td><td>100</td><td>5e+05</td><td>mean-10-sigma-0.5</td><td>metaspades</td><td>cami_err</td><td>mean350-stdev75</td></tr>\n",
       "\t<tr><td>2</td><td>0.005555</td><td>100</td><td>5e+05</td><td>mean-10-sigma-0.5</td><td>metaspades</td><td>cami_err</td><td>mean350-stdev75</td></tr>\n",
       "\t<tr><td>⋮</td><td>⋮</td><td>⋮</td><td>⋮</td><td>⋮</td><td>⋮</td><td>⋮</td><td>⋮</td></tr>\n",
       "\t<tr><td>2</td><td>0.555555</td><td>150</td><td>2e+07</td><td>mean-10-sigma-2</td><td>megahit</td><td>cami_err</td><td>mean350-stdev75</td></tr>\n",
       "\t<tr><td>3</td><td>0.555555</td><td>150</td><td>2e+07</td><td>mean-10-sigma-2</td><td>megahit</td><td>cami_err</td><td>mean350-stdev75</td></tr>\n",
       "</tbody>\n",
       "</table>\n"
      ],
      "text/latex": [
       "A data.frame: 720 × 8\n",
       "\\begin{tabular}{llllllll}\n",
       " rep & richness & read\\_length & read\\_depth & abundance\\_distribution & assembler & error\\_profile & insert\\_size\\\\\n",
       " <dbl> & <dbl> & <dbl> & <dbl> & <fct> & <fct> & <fct> & <fct>\\\\\n",
       "\\hline\n",
       "\t 1 & 0.005555 & 100 & 5e+05 & mean-10-sigma-0.5 & metaspades & cami\\_err & mean350-stdev75\\\\\n",
       "\t 2 & 0.005555 & 100 & 5e+05 & mean-10-sigma-0.5 & metaspades & cami\\_err & mean350-stdev75\\\\\n",
       "\t ⋮ & ⋮ & ⋮ & ⋮ & ⋮ & ⋮ & ⋮ & ⋮\\\\\n",
       "\t 2 & 0.555555 & 150 & 2e+07 & mean-10-sigma-2 & megahit & cami\\_err & mean350-stdev75\\\\\n",
       "\t 3 & 0.555555 & 150 & 2e+07 & mean-10-sigma-2 & megahit & cami\\_err & mean350-stdev75\\\\\n",
       "\\end{tabular}\n"
      ],
      "text/markdown": [
       "\n",
       "A data.frame: 720 × 8\n",
       "\n",
       "| rep &lt;dbl&gt; | richness &lt;dbl&gt; | read_length &lt;dbl&gt; | read_depth &lt;dbl&gt; | abundance_distribution &lt;fct&gt; | assembler &lt;fct&gt; | error_profile &lt;fct&gt; | insert_size &lt;fct&gt; |\n",
       "|---|---|---|---|---|---|---|---|\n",
       "| 1 | 0.005555 | 100 | 5e+05 | mean-10-sigma-0.5 | metaspades | cami_err | mean350-stdev75 |\n",
       "| 2 | 0.005555 | 100 | 5e+05 | mean-10-sigma-0.5 | metaspades | cami_err | mean350-stdev75 |\n",
       "| ⋮ | ⋮ | ⋮ | ⋮ | ⋮ | ⋮ | ⋮ | ⋮ |\n",
       "| 2 | 0.555555 | 150 | 2e+07 | mean-10-sigma-2 | megahit | cami_err | mean350-stdev75 |\n",
       "| 3 | 0.555555 | 150 | 2e+07 | mean-10-sigma-2 | megahit | cami_err | mean350-stdev75 |\n",
       "\n"
      ],
      "text/plain": [
       "    rep richness read_length read_depth abundance_distribution assembler \n",
       "1   1   0.005555 100         5e+05      mean-10-sigma-0.5      metaspades\n",
       "2   2   0.005555 100         5e+05      mean-10-sigma-0.5      metaspades\n",
       "⋮   ⋮   ⋮        ⋮           ⋮          ⋮                      ⋮         \n",
       "719 2   0.555555 150         2e+07      mean-10-sigma-2        megahit   \n",
       "720 3   0.555555 150         2e+07      mean-10-sigma-2        megahit   \n",
       "    error_profile insert_size    \n",
       "1   cami_err      mean350-stdev75\n",
       "2   cami_err      mean350-stdev75\n",
       "⋮   ⋮             ⋮              \n",
       "719 cami_err      mean350-stdev75\n",
       "720 cami_err      mean350-stdev75"
      ]
     },
     "metadata": {},
     "output_type": "display_data"
    }
   ],
   "source": [
    "# all pairwise comparisons\n",
    "params = list(\n",
    "    rep = c(1,2,3),\n",
    "    richness = c(0.005555, 0.111111, 0.333333, 0.555555),\n",
    "    read_length = c(100, 150),\n",
    "    read_depth = c(500000, 2000000, 8000000, 12000000, 20000000),\n",
    "    abundance_distribution = c('mean-10-sigma-0.5', 'mean-10-sigma-1', 'mean-10-sigma-2'),\n",
    "    assembler = c('metaspades', 'megahit'),\n",
    "    error_profile = c('cami_err'),\n",
    "    insert_size = c('mean350-stdev75')\n",
    ")\n",
    "train2a = do.call(expand.grid, params)\n",
    "train2a"
   ]
  },
  {
   "cell_type": "code",
   "execution_count": 66,
   "metadata": {
    "ExecuteTime": {
     "end_time": "2022-06-08T12:31:31.401767Z",
     "start_time": "2022-06-08T12:31:31.318Z"
    }
   },
   "outputs": [
    {
     "data": {
      "text/html": [
       "<table class=\"dataframe\">\n",
       "<caption>A data.frame: 240 × 8</caption>\n",
       "<thead>\n",
       "\t<tr><th scope=col>rep</th><th scope=col>richness</th><th scope=col>read_length</th><th scope=col>read_depth</th><th scope=col>abundance_distribution</th><th scope=col>assembler</th><th scope=col>error_profile</th><th scope=col>insert_size</th></tr>\n",
       "\t<tr><th scope=col>&lt;dbl&gt;</th><th scope=col>&lt;dbl&gt;</th><th scope=col>&lt;dbl&gt;</th><th scope=col>&lt;dbl&gt;</th><th scope=col>&lt;fct&gt;</th><th scope=col>&lt;fct&gt;</th><th scope=col>&lt;fct&gt;</th><th scope=col>&lt;fct&gt;</th></tr>\n",
       "</thead>\n",
       "<tbody>\n",
       "\t<tr><td>1</td><td>0.005555</td><td>100</td><td>5e+05</td><td>mean-10-sigma-0.5</td><td>metaspades</td><td>normal_err</td><td>mean350-stdev75</td></tr>\n",
       "\t<tr><td>1</td><td>0.111111</td><td>100</td><td>5e+05</td><td>mean-10-sigma-0.5</td><td>metaspades</td><td>normal_err</td><td>mean350-stdev75</td></tr>\n",
       "\t<tr><td>⋮</td><td>⋮</td><td>⋮</td><td>⋮</td><td>⋮</td><td>⋮</td><td>⋮</td><td>⋮</td></tr>\n",
       "\t<tr><td>1</td><td>0.333333</td><td>150</td><td>2e+07</td><td>mean-10-sigma-2</td><td>megahit</td><td>normal_err</td><td>mean350-stdev75</td></tr>\n",
       "\t<tr><td>1</td><td>0.555555</td><td>150</td><td>2e+07</td><td>mean-10-sigma-2</td><td>megahit</td><td>normal_err</td><td>mean350-stdev75</td></tr>\n",
       "</tbody>\n",
       "</table>\n"
      ],
      "text/latex": [
       "A data.frame: 240 × 8\n",
       "\\begin{tabular}{llllllll}\n",
       " rep & richness & read\\_length & read\\_depth & abundance\\_distribution & assembler & error\\_profile & insert\\_size\\\\\n",
       " <dbl> & <dbl> & <dbl> & <dbl> & <fct> & <fct> & <fct> & <fct>\\\\\n",
       "\\hline\n",
       "\t 1 & 0.005555 & 100 & 5e+05 & mean-10-sigma-0.5 & metaspades & normal\\_err & mean350-stdev75\\\\\n",
       "\t 1 & 0.111111 & 100 & 5e+05 & mean-10-sigma-0.5 & metaspades & normal\\_err & mean350-stdev75\\\\\n",
       "\t ⋮ & ⋮ & ⋮ & ⋮ & ⋮ & ⋮ & ⋮ & ⋮\\\\\n",
       "\t 1 & 0.333333 & 150 & 2e+07 & mean-10-sigma-2 & megahit & normal\\_err & mean350-stdev75\\\\\n",
       "\t 1 & 0.555555 & 150 & 2e+07 & mean-10-sigma-2 & megahit & normal\\_err & mean350-stdev75\\\\\n",
       "\\end{tabular}\n"
      ],
      "text/markdown": [
       "\n",
       "A data.frame: 240 × 8\n",
       "\n",
       "| rep &lt;dbl&gt; | richness &lt;dbl&gt; | read_length &lt;dbl&gt; | read_depth &lt;dbl&gt; | abundance_distribution &lt;fct&gt; | assembler &lt;fct&gt; | error_profile &lt;fct&gt; | insert_size &lt;fct&gt; |\n",
       "|---|---|---|---|---|---|---|---|\n",
       "| 1 | 0.005555 | 100 | 5e+05 | mean-10-sigma-0.5 | metaspades | normal_err | mean350-stdev75 |\n",
       "| 1 | 0.111111 | 100 | 5e+05 | mean-10-sigma-0.5 | metaspades | normal_err | mean350-stdev75 |\n",
       "| ⋮ | ⋮ | ⋮ | ⋮ | ⋮ | ⋮ | ⋮ | ⋮ |\n",
       "| 1 | 0.333333 | 150 | 2e+07 | mean-10-sigma-2 | megahit | normal_err | mean350-stdev75 |\n",
       "| 1 | 0.555555 | 150 | 2e+07 | mean-10-sigma-2 | megahit | normal_err | mean350-stdev75 |\n",
       "\n"
      ],
      "text/plain": [
       "    rep richness read_length read_depth abundance_distribution assembler \n",
       "1   1   0.005555 100         5e+05      mean-10-sigma-0.5      metaspades\n",
       "2   1   0.111111 100         5e+05      mean-10-sigma-0.5      metaspades\n",
       "⋮   ⋮   ⋮        ⋮           ⋮          ⋮                      ⋮         \n",
       "239 1   0.333333 150         2e+07      mean-10-sigma-2        megahit   \n",
       "240 1   0.555555 150         2e+07      mean-10-sigma-2        megahit   \n",
       "    error_profile insert_size    \n",
       "1   normal_err    mean350-stdev75\n",
       "2   normal_err    mean350-stdev75\n",
       "⋮   ⋮             ⋮              \n",
       "239 normal_err    mean350-stdev75\n",
       "240 normal_err    mean350-stdev75"
      ]
     },
     "metadata": {},
     "output_type": "display_data"
    }
   ],
   "source": [
    "# all pairwise comparisons\n",
    "params = list(\n",
    "    rep = c(1),\n",
    "    richness = c(0.005555, 0.111111, 0.333333, 0.555555),\n",
    "    read_length = c(100, 150),\n",
    "    read_depth = c(500000, 2000000, 8000000, 12000000, 20000000),\n",
    "    abundance_distribution = c('mean-10-sigma-0.5', 'mean-10-sigma-1', 'mean-10-sigma-2'),\n",
    "    assembler = c('metaspades', 'megahit'),\n",
    "    error_profile = c('normal_err'),\n",
    "    insert_size = c('mean350-stdev75')\n",
    ")\n",
    "train2b = do.call(expand.grid, params)\n",
    "train2b"
   ]
  },
  {
   "cell_type": "markdown",
   "metadata": {},
   "source": [
    "### Merged"
   ]
  },
  {
   "cell_type": "code",
   "execution_count": 67,
   "metadata": {
    "ExecuteTime": {
     "end_time": "2022-06-08T12:31:31.645907Z",
     "start_time": "2022-06-08T12:31:31.564Z"
    }
   },
   "outputs": [
    {
     "data": {
      "text/html": [
       "<table class=\"dataframe\">\n",
       "<caption>A data.table: 2400 × 8</caption>\n",
       "<thead>\n",
       "\t<tr><th scope=col>rep</th><th scope=col>richness</th><th scope=col>read_length</th><th scope=col>read_depth</th><th scope=col>abundance_distribution</th><th scope=col>assembler</th><th scope=col>error_profile</th><th scope=col>insert_size</th></tr>\n",
       "\t<tr><th scope=col>&lt;dbl&gt;</th><th scope=col>&lt;dbl&gt;</th><th scope=col>&lt;dbl&gt;</th><th scope=col>&lt;dbl&gt;</th><th scope=col>&lt;fct&gt;</th><th scope=col>&lt;fct&gt;</th><th scope=col>&lt;fct&gt;</th><th scope=col>&lt;fct&gt;</th></tr>\n",
       "</thead>\n",
       "<tbody>\n",
       "\t<tr><td>1</td><td>0.005555</td><td>100</td><td>5e+05</td><td>mean-10-sigma-0.5</td><td>metaspades</td><td>normal_err</td><td>mean270-stdev50</td></tr>\n",
       "\t<tr><td>2</td><td>0.005555</td><td>100</td><td>5e+05</td><td>mean-10-sigma-0.5</td><td>metaspades</td><td>normal_err</td><td>mean270-stdev50</td></tr>\n",
       "\t<tr><td>⋮</td><td>⋮</td><td>⋮</td><td>⋮</td><td>⋮</td><td>⋮</td><td>⋮</td><td>⋮</td></tr>\n",
       "\t<tr><td>1</td><td>0.333333</td><td>150</td><td>2e+07</td><td>mean-10-sigma-2</td><td>megahit</td><td>normal_err</td><td>mean350-stdev75</td></tr>\n",
       "\t<tr><td>1</td><td>0.555555</td><td>150</td><td>2e+07</td><td>mean-10-sigma-2</td><td>megahit</td><td>normal_err</td><td>mean350-stdev75</td></tr>\n",
       "</tbody>\n",
       "</table>\n"
      ],
      "text/latex": [
       "A data.table: 2400 × 8\n",
       "\\begin{tabular}{llllllll}\n",
       " rep & richness & read\\_length & read\\_depth & abundance\\_distribution & assembler & error\\_profile & insert\\_size\\\\\n",
       " <dbl> & <dbl> & <dbl> & <dbl> & <fct> & <fct> & <fct> & <fct>\\\\\n",
       "\\hline\n",
       "\t 1 & 0.005555 & 100 & 5e+05 & mean-10-sigma-0.5 & metaspades & normal\\_err & mean270-stdev50\\\\\n",
       "\t 2 & 0.005555 & 100 & 5e+05 & mean-10-sigma-0.5 & metaspades & normal\\_err & mean270-stdev50\\\\\n",
       "\t ⋮ & ⋮ & ⋮ & ⋮ & ⋮ & ⋮ & ⋮ & ⋮\\\\\n",
       "\t 1 & 0.333333 & 150 & 2e+07 & mean-10-sigma-2 & megahit & normal\\_err & mean350-stdev75\\\\\n",
       "\t 1 & 0.555555 & 150 & 2e+07 & mean-10-sigma-2 & megahit & normal\\_err & mean350-stdev75\\\\\n",
       "\\end{tabular}\n"
      ],
      "text/markdown": [
       "\n",
       "A data.table: 2400 × 8\n",
       "\n",
       "| rep &lt;dbl&gt; | richness &lt;dbl&gt; | read_length &lt;dbl&gt; | read_depth &lt;dbl&gt; | abundance_distribution &lt;fct&gt; | assembler &lt;fct&gt; | error_profile &lt;fct&gt; | insert_size &lt;fct&gt; |\n",
       "|---|---|---|---|---|---|---|---|\n",
       "| 1 | 0.005555 | 100 | 5e+05 | mean-10-sigma-0.5 | metaspades | normal_err | mean270-stdev50 |\n",
       "| 2 | 0.005555 | 100 | 5e+05 | mean-10-sigma-0.5 | metaspades | normal_err | mean270-stdev50 |\n",
       "| ⋮ | ⋮ | ⋮ | ⋮ | ⋮ | ⋮ | ⋮ | ⋮ |\n",
       "| 1 | 0.333333 | 150 | 2e+07 | mean-10-sigma-2 | megahit | normal_err | mean350-stdev75 |\n",
       "| 1 | 0.555555 | 150 | 2e+07 | mean-10-sigma-2 | megahit | normal_err | mean350-stdev75 |\n",
       "\n"
      ],
      "text/plain": [
       "     rep richness read_length read_depth abundance_distribution assembler \n",
       "1    1   0.005555 100         5e+05      mean-10-sigma-0.5      metaspades\n",
       "2    2   0.005555 100         5e+05      mean-10-sigma-0.5      metaspades\n",
       "⋮    ⋮   ⋮        ⋮           ⋮          ⋮                      ⋮         \n",
       "2399 1   0.333333 150         2e+07      mean-10-sigma-2        megahit   \n",
       "2400 1   0.555555 150         2e+07      mean-10-sigma-2        megahit   \n",
       "     error_profile insert_size    \n",
       "1    normal_err    mean270-stdev50\n",
       "2    normal_err    mean270-stdev50\n",
       "⋮    ⋮             ⋮              \n",
       "2399 normal_err    mean350-stdev75\n",
       "2400 normal_err    mean350-stdev75"
      ]
     },
     "metadata": {},
     "output_type": "display_data"
    }
   ],
   "source": [
    "train_all = rbindlist(list(train1, train2a, train2b), use.names=TRUE)\n",
    "train_all"
   ]
  },
  {
   "cell_type": "code",
   "execution_count": 68,
   "metadata": {
    "ExecuteTime": {
     "end_time": "2022-06-08T12:31:32.363974Z",
     "start_time": "2022-06-08T12:31:32.290Z"
    }
   },
   "outputs": [
    {
     "data": {
      "text/plain": [
       ".\n",
       "  cami_err normal_err \n",
       "      1414        960 "
      ]
     },
     "metadata": {},
     "output_type": "display_data"
    },
    {
     "data": {
      "text/plain": [
       ".\n",
       "mean270-stdev50 mean350-stdev75 \n",
       "           1434             940 "
      ]
     },
     "metadata": {},
     "output_type": "display_data"
    },
    {
     "data": {
      "text/plain": [
       ".\n",
       "  1   2   3 \n",
       "937 717 720 "
      ]
     },
     "metadata": {},
     "output_type": "display_data"
    }
   ],
   "source": [
    "train$error_profile %>% table\n",
    "train$insert_size %>% table\n",
    "train$rep %>% table"
   ]
  },
  {
   "cell_type": "code",
   "execution_count": 69,
   "metadata": {
    "ExecuteTime": {
     "end_time": "2022-06-08T12:31:32.845519Z",
     "start_time": "2022-06-08T12:31:32.769Z"
    }
   },
   "outputs": [
    {
     "data": {
      "text/plain": [
       ".\n",
       "normal_err   cami_err \n",
       "       960       1440 "
      ]
     },
     "metadata": {},
     "output_type": "display_data"
    },
    {
     "data": {
      "text/plain": [
       ".\n",
       "mean270-stdev50 mean350-stdev75 \n",
       "           1440             960 "
      ]
     },
     "metadata": {},
     "output_type": "display_data"
    },
    {
     "data": {
      "text/plain": [
       ".\n",
       "  1   2   3 \n",
       "960 720 720 "
      ]
     },
     "metadata": {},
     "output_type": "display_data"
    }
   ],
   "source": [
    "train_all$error_profile %>% table\n",
    "train_all$insert_size %>% table\n",
    "train_all$rep %>% table"
   ]
  },
  {
   "cell_type": "markdown",
   "metadata": {},
   "source": [
    "### Missing"
   ]
  },
  {
   "cell_type": "code",
   "execution_count": 70,
   "metadata": {
    "ExecuteTime": {
     "end_time": "2022-06-08T12:31:34.246224Z",
     "start_time": "2022-06-08T12:31:34.183Z"
    }
   },
   "outputs": [
    {
     "data": {
      "text/html": [
       "26"
      ],
      "text/latex": [
       "26"
      ],
      "text/markdown": [
       "26"
      ],
      "text/plain": [
       "[1] 26"
      ]
     },
     "metadata": {},
     "output_type": "display_data"
    }
   ],
   "source": [
    "nrow(train_all) - nrow(train)"
   ]
  },
  {
   "cell_type": "code",
   "execution_count": 79,
   "metadata": {
    "ExecuteTime": {
     "end_time": "2022-06-08T12:39:23.102920Z",
     "start_time": "2022-06-08T12:39:23.005Z"
    }
   },
   "outputs": [
    {
     "data": {
      "text/html": [
       "<table class=\"dataframe\">\n",
       "<caption>A tidytable: 26 × 8</caption>\n",
       "<thead>\n",
       "\t<tr><th scope=col>rep</th><th scope=col>richness</th><th scope=col>read_length</th><th scope=col>read_depth</th><th scope=col>abundance_distribution</th><th scope=col>assembler</th><th scope=col>error_profile</th><th scope=col>insert_size</th></tr>\n",
       "\t<tr><th scope=col>&lt;dbl&gt;</th><th scope=col>&lt;dbl&gt;</th><th scope=col>&lt;dbl&gt;</th><th scope=col>&lt;dbl&gt;</th><th scope=col>&lt;fct&gt;</th><th scope=col>&lt;fct&gt;</th><th scope=col>&lt;fct&gt;</th><th scope=col>&lt;fct&gt;</th></tr>\n",
       "</thead>\n",
       "<tbody>\n",
       "\t<tr><td>2</td><td>0.005555</td><td>100</td><td>1.2e+07</td><td>mean-10-sigma-0.5</td><td>megahit   </td><td>cami_err</td><td>mean270-stdev50</td></tr>\n",
       "\t<tr><td>2</td><td>0.555555</td><td>150</td><td>1.2e+07</td><td>mean-10-sigma-0.5</td><td>metaspades</td><td>cami_err</td><td>mean270-stdev50</td></tr>\n",
       "\t<tr><td>2</td><td>0.555555</td><td>150</td><td>1.2e+07</td><td>mean-10-sigma-0.5</td><td>megahit   </td><td>cami_err</td><td>mean270-stdev50</td></tr>\n",
       "\t<tr><td>1</td><td>0.333333</td><td>100</td><td>2.0e+06</td><td>mean-10-sigma-2  </td><td>metaspades</td><td>cami_err</td><td>mean270-stdev50</td></tr>\n",
       "\t<tr><td>1</td><td>0.333333</td><td>100</td><td>2.0e+06</td><td>mean-10-sigma-2  </td><td>megahit   </td><td>cami_err</td><td>mean270-stdev50</td></tr>\n",
       "\t<tr><td>1</td><td>0.333333</td><td>150</td><td>2.0e+06</td><td>mean-10-sigma-2  </td><td>megahit   </td><td>cami_err</td><td>mean270-stdev50</td></tr>\n",
       "\t<tr><td>1</td><td>0.005555</td><td>100</td><td>5.0e+05</td><td>mean-10-sigma-0.5</td><td>metaspades</td><td>cami_err</td><td>mean350-stdev75</td></tr>\n",
       "\t<tr><td>1</td><td>0.005555</td><td>100</td><td>5.0e+05</td><td>mean-10-sigma-0.5</td><td>megahit   </td><td>cami_err</td><td>mean350-stdev75</td></tr>\n",
       "\t<tr><td>1</td><td>0.005555</td><td>150</td><td>5.0e+05</td><td>mean-10-sigma-0.5</td><td>megahit   </td><td>cami_err</td><td>mean350-stdev75</td></tr>\n",
       "\t<tr><td>1</td><td>0.555555</td><td>150</td><td>5.0e+05</td><td>mean-10-sigma-0.5</td><td>megahit   </td><td>cami_err</td><td>mean350-stdev75</td></tr>\n",
       "\t<tr><td>1</td><td>0.005555</td><td>150</td><td>2.0e+06</td><td>mean-10-sigma-0.5</td><td>metaspades</td><td>cami_err</td><td>mean350-stdev75</td></tr>\n",
       "\t<tr><td>1</td><td>0.005555</td><td>100</td><td>8.0e+06</td><td>mean-10-sigma-0.5</td><td>megahit   </td><td>cami_err</td><td>mean350-stdev75</td></tr>\n",
       "\t<tr><td>1</td><td>0.555555</td><td>100</td><td>8.0e+06</td><td>mean-10-sigma-0.5</td><td>megahit   </td><td>cami_err</td><td>mean350-stdev75</td></tr>\n",
       "\t<tr><td>1</td><td>0.005555</td><td>150</td><td>8.0e+06</td><td>mean-10-sigma-0.5</td><td>megahit   </td><td>cami_err</td><td>mean350-stdev75</td></tr>\n",
       "\t<tr><td>1</td><td>0.555555</td><td>100</td><td>1.2e+07</td><td>mean-10-sigma-0.5</td><td>metaspades</td><td>cami_err</td><td>mean350-stdev75</td></tr>\n",
       "\t<tr><td>1</td><td>0.005555</td><td>150</td><td>1.2e+07</td><td>mean-10-sigma-0.5</td><td>megahit   </td><td>cami_err</td><td>mean350-stdev75</td></tr>\n",
       "\t<tr><td>1</td><td>0.555555</td><td>150</td><td>1.2e+07</td><td>mean-10-sigma-0.5</td><td>metaspades</td><td>cami_err</td><td>mean350-stdev75</td></tr>\n",
       "\t<tr><td>1</td><td>0.005555</td><td>100</td><td>2.0e+07</td><td>mean-10-sigma-0.5</td><td>megahit   </td><td>cami_err</td><td>mean350-stdev75</td></tr>\n",
       "\t<tr><td>1</td><td>0.005555</td><td>150</td><td>2.0e+07</td><td>mean-10-sigma-0.5</td><td>megahit   </td><td>cami_err</td><td>mean350-stdev75</td></tr>\n",
       "\t<tr><td>1</td><td>0.555555</td><td>150</td><td>2.0e+07</td><td>mean-10-sigma-0.5</td><td>metaspades</td><td>cami_err</td><td>mean350-stdev75</td></tr>\n",
       "\t<tr><td>1</td><td>0.555555</td><td>150</td><td>2.0e+07</td><td>mean-10-sigma-0.5</td><td>megahit   </td><td>cami_err</td><td>mean350-stdev75</td></tr>\n",
       "\t<tr><td>1</td><td>0.005555</td><td>100</td><td>2.0e+06</td><td>mean-10-sigma-1  </td><td>megahit   </td><td>cami_err</td><td>mean350-stdev75</td></tr>\n",
       "\t<tr><td>1</td><td>0.005555</td><td>150</td><td>8.0e+06</td><td>mean-10-sigma-1  </td><td>megahit   </td><td>cami_err</td><td>mean350-stdev75</td></tr>\n",
       "\t<tr><td>1</td><td>0.005555</td><td>100</td><td>2.0e+07</td><td>mean-10-sigma-1  </td><td>megahit   </td><td>cami_err</td><td>mean350-stdev75</td></tr>\n",
       "\t<tr><td>1</td><td>0.333333</td><td>100</td><td>2.0e+07</td><td>mean-10-sigma-1  </td><td>metaspades</td><td>cami_err</td><td>mean350-stdev75</td></tr>\n",
       "\t<tr><td>1</td><td>0.111111</td><td>150</td><td>2.0e+06</td><td>mean-10-sigma-2  </td><td>megahit   </td><td>cami_err</td><td>mean350-stdev75</td></tr>\n",
       "</tbody>\n",
       "</table>\n"
      ],
      "text/latex": [
       "A tidytable: 26 × 8\n",
       "\\begin{tabular}{llllllll}\n",
       " rep & richness & read\\_length & read\\_depth & abundance\\_distribution & assembler & error\\_profile & insert\\_size\\\\\n",
       " <dbl> & <dbl> & <dbl> & <dbl> & <fct> & <fct> & <fct> & <fct>\\\\\n",
       "\\hline\n",
       "\t 2 & 0.005555 & 100 & 1.2e+07 & mean-10-sigma-0.5 & megahit    & cami\\_err & mean270-stdev50\\\\\n",
       "\t 2 & 0.555555 & 150 & 1.2e+07 & mean-10-sigma-0.5 & metaspades & cami\\_err & mean270-stdev50\\\\\n",
       "\t 2 & 0.555555 & 150 & 1.2e+07 & mean-10-sigma-0.5 & megahit    & cami\\_err & mean270-stdev50\\\\\n",
       "\t 1 & 0.333333 & 100 & 2.0e+06 & mean-10-sigma-2   & metaspades & cami\\_err & mean270-stdev50\\\\\n",
       "\t 1 & 0.333333 & 100 & 2.0e+06 & mean-10-sigma-2   & megahit    & cami\\_err & mean270-stdev50\\\\\n",
       "\t 1 & 0.333333 & 150 & 2.0e+06 & mean-10-sigma-2   & megahit    & cami\\_err & mean270-stdev50\\\\\n",
       "\t 1 & 0.005555 & 100 & 5.0e+05 & mean-10-sigma-0.5 & metaspades & cami\\_err & mean350-stdev75\\\\\n",
       "\t 1 & 0.005555 & 100 & 5.0e+05 & mean-10-sigma-0.5 & megahit    & cami\\_err & mean350-stdev75\\\\\n",
       "\t 1 & 0.005555 & 150 & 5.0e+05 & mean-10-sigma-0.5 & megahit    & cami\\_err & mean350-stdev75\\\\\n",
       "\t 1 & 0.555555 & 150 & 5.0e+05 & mean-10-sigma-0.5 & megahit    & cami\\_err & mean350-stdev75\\\\\n",
       "\t 1 & 0.005555 & 150 & 2.0e+06 & mean-10-sigma-0.5 & metaspades & cami\\_err & mean350-stdev75\\\\\n",
       "\t 1 & 0.005555 & 100 & 8.0e+06 & mean-10-sigma-0.5 & megahit    & cami\\_err & mean350-stdev75\\\\\n",
       "\t 1 & 0.555555 & 100 & 8.0e+06 & mean-10-sigma-0.5 & megahit    & cami\\_err & mean350-stdev75\\\\\n",
       "\t 1 & 0.005555 & 150 & 8.0e+06 & mean-10-sigma-0.5 & megahit    & cami\\_err & mean350-stdev75\\\\\n",
       "\t 1 & 0.555555 & 100 & 1.2e+07 & mean-10-sigma-0.5 & metaspades & cami\\_err & mean350-stdev75\\\\\n",
       "\t 1 & 0.005555 & 150 & 1.2e+07 & mean-10-sigma-0.5 & megahit    & cami\\_err & mean350-stdev75\\\\\n",
       "\t 1 & 0.555555 & 150 & 1.2e+07 & mean-10-sigma-0.5 & metaspades & cami\\_err & mean350-stdev75\\\\\n",
       "\t 1 & 0.005555 & 100 & 2.0e+07 & mean-10-sigma-0.5 & megahit    & cami\\_err & mean350-stdev75\\\\\n",
       "\t 1 & 0.005555 & 150 & 2.0e+07 & mean-10-sigma-0.5 & megahit    & cami\\_err & mean350-stdev75\\\\\n",
       "\t 1 & 0.555555 & 150 & 2.0e+07 & mean-10-sigma-0.5 & metaspades & cami\\_err & mean350-stdev75\\\\\n",
       "\t 1 & 0.555555 & 150 & 2.0e+07 & mean-10-sigma-0.5 & megahit    & cami\\_err & mean350-stdev75\\\\\n",
       "\t 1 & 0.005555 & 100 & 2.0e+06 & mean-10-sigma-1   & megahit    & cami\\_err & mean350-stdev75\\\\\n",
       "\t 1 & 0.005555 & 150 & 8.0e+06 & mean-10-sigma-1   & megahit    & cami\\_err & mean350-stdev75\\\\\n",
       "\t 1 & 0.005555 & 100 & 2.0e+07 & mean-10-sigma-1   & megahit    & cami\\_err & mean350-stdev75\\\\\n",
       "\t 1 & 0.333333 & 100 & 2.0e+07 & mean-10-sigma-1   & metaspades & cami\\_err & mean350-stdev75\\\\\n",
       "\t 1 & 0.111111 & 150 & 2.0e+06 & mean-10-sigma-2   & megahit    & cami\\_err & mean350-stdev75\\\\\n",
       "\\end{tabular}\n"
      ],
      "text/markdown": [
       "\n",
       "A tidytable: 26 × 8\n",
       "\n",
       "| rep &lt;dbl&gt; | richness &lt;dbl&gt; | read_length &lt;dbl&gt; | read_depth &lt;dbl&gt; | abundance_distribution &lt;fct&gt; | assembler &lt;fct&gt; | error_profile &lt;fct&gt; | insert_size &lt;fct&gt; |\n",
       "|---|---|---|---|---|---|---|---|\n",
       "| 2 | 0.005555 | 100 | 1.2e+07 | mean-10-sigma-0.5 | megahit    | cami_err | mean270-stdev50 |\n",
       "| 2 | 0.555555 | 150 | 1.2e+07 | mean-10-sigma-0.5 | metaspades | cami_err | mean270-stdev50 |\n",
       "| 2 | 0.555555 | 150 | 1.2e+07 | mean-10-sigma-0.5 | megahit    | cami_err | mean270-stdev50 |\n",
       "| 1 | 0.333333 | 100 | 2.0e+06 | mean-10-sigma-2   | metaspades | cami_err | mean270-stdev50 |\n",
       "| 1 | 0.333333 | 100 | 2.0e+06 | mean-10-sigma-2   | megahit    | cami_err | mean270-stdev50 |\n",
       "| 1 | 0.333333 | 150 | 2.0e+06 | mean-10-sigma-2   | megahit    | cami_err | mean270-stdev50 |\n",
       "| 1 | 0.005555 | 100 | 5.0e+05 | mean-10-sigma-0.5 | metaspades | cami_err | mean350-stdev75 |\n",
       "| 1 | 0.005555 | 100 | 5.0e+05 | mean-10-sigma-0.5 | megahit    | cami_err | mean350-stdev75 |\n",
       "| 1 | 0.005555 | 150 | 5.0e+05 | mean-10-sigma-0.5 | megahit    | cami_err | mean350-stdev75 |\n",
       "| 1 | 0.555555 | 150 | 5.0e+05 | mean-10-sigma-0.5 | megahit    | cami_err | mean350-stdev75 |\n",
       "| 1 | 0.005555 | 150 | 2.0e+06 | mean-10-sigma-0.5 | metaspades | cami_err | mean350-stdev75 |\n",
       "| 1 | 0.005555 | 100 | 8.0e+06 | mean-10-sigma-0.5 | megahit    | cami_err | mean350-stdev75 |\n",
       "| 1 | 0.555555 | 100 | 8.0e+06 | mean-10-sigma-0.5 | megahit    | cami_err | mean350-stdev75 |\n",
       "| 1 | 0.005555 | 150 | 8.0e+06 | mean-10-sigma-0.5 | megahit    | cami_err | mean350-stdev75 |\n",
       "| 1 | 0.555555 | 100 | 1.2e+07 | mean-10-sigma-0.5 | metaspades | cami_err | mean350-stdev75 |\n",
       "| 1 | 0.005555 | 150 | 1.2e+07 | mean-10-sigma-0.5 | megahit    | cami_err | mean350-stdev75 |\n",
       "| 1 | 0.555555 | 150 | 1.2e+07 | mean-10-sigma-0.5 | metaspades | cami_err | mean350-stdev75 |\n",
       "| 1 | 0.005555 | 100 | 2.0e+07 | mean-10-sigma-0.5 | megahit    | cami_err | mean350-stdev75 |\n",
       "| 1 | 0.005555 | 150 | 2.0e+07 | mean-10-sigma-0.5 | megahit    | cami_err | mean350-stdev75 |\n",
       "| 1 | 0.555555 | 150 | 2.0e+07 | mean-10-sigma-0.5 | metaspades | cami_err | mean350-stdev75 |\n",
       "| 1 | 0.555555 | 150 | 2.0e+07 | mean-10-sigma-0.5 | megahit    | cami_err | mean350-stdev75 |\n",
       "| 1 | 0.005555 | 100 | 2.0e+06 | mean-10-sigma-1   | megahit    | cami_err | mean350-stdev75 |\n",
       "| 1 | 0.005555 | 150 | 8.0e+06 | mean-10-sigma-1   | megahit    | cami_err | mean350-stdev75 |\n",
       "| 1 | 0.005555 | 100 | 2.0e+07 | mean-10-sigma-1   | megahit    | cami_err | mean350-stdev75 |\n",
       "| 1 | 0.333333 | 100 | 2.0e+07 | mean-10-sigma-1   | metaspades | cami_err | mean350-stdev75 |\n",
       "| 1 | 0.111111 | 150 | 2.0e+06 | mean-10-sigma-2   | megahit    | cami_err | mean350-stdev75 |\n",
       "\n"
      ],
      "text/plain": [
       "   rep richness read_length read_depth abundance_distribution assembler \n",
       "1  2   0.005555 100         1.2e+07    mean-10-sigma-0.5      megahit   \n",
       "2  2   0.555555 150         1.2e+07    mean-10-sigma-0.5      metaspades\n",
       "3  2   0.555555 150         1.2e+07    mean-10-sigma-0.5      megahit   \n",
       "4  1   0.333333 100         2.0e+06    mean-10-sigma-2        metaspades\n",
       "5  1   0.333333 100         2.0e+06    mean-10-sigma-2        megahit   \n",
       "6  1   0.333333 150         2.0e+06    mean-10-sigma-2        megahit   \n",
       "7  1   0.005555 100         5.0e+05    mean-10-sigma-0.5      metaspades\n",
       "8  1   0.005555 100         5.0e+05    mean-10-sigma-0.5      megahit   \n",
       "9  1   0.005555 150         5.0e+05    mean-10-sigma-0.5      megahit   \n",
       "10 1   0.555555 150         5.0e+05    mean-10-sigma-0.5      megahit   \n",
       "11 1   0.005555 150         2.0e+06    mean-10-sigma-0.5      metaspades\n",
       "12 1   0.005555 100         8.0e+06    mean-10-sigma-0.5      megahit   \n",
       "13 1   0.555555 100         8.0e+06    mean-10-sigma-0.5      megahit   \n",
       "14 1   0.005555 150         8.0e+06    mean-10-sigma-0.5      megahit   \n",
       "15 1   0.555555 100         1.2e+07    mean-10-sigma-0.5      metaspades\n",
       "16 1   0.005555 150         1.2e+07    mean-10-sigma-0.5      megahit   \n",
       "17 1   0.555555 150         1.2e+07    mean-10-sigma-0.5      metaspades\n",
       "18 1   0.005555 100         2.0e+07    mean-10-sigma-0.5      megahit   \n",
       "19 1   0.005555 150         2.0e+07    mean-10-sigma-0.5      megahit   \n",
       "20 1   0.555555 150         2.0e+07    mean-10-sigma-0.5      metaspades\n",
       "21 1   0.555555 150         2.0e+07    mean-10-sigma-0.5      megahit   \n",
       "22 1   0.005555 100         2.0e+06    mean-10-sigma-1        megahit   \n",
       "23 1   0.005555 150         8.0e+06    mean-10-sigma-1        megahit   \n",
       "24 1   0.005555 100         2.0e+07    mean-10-sigma-1        megahit   \n",
       "25 1   0.333333 100         2.0e+07    mean-10-sigma-1        metaspades\n",
       "26 1   0.111111 150         2.0e+06    mean-10-sigma-2        megahit   \n",
       "   error_profile insert_size    \n",
       "1  cami_err      mean270-stdev50\n",
       "2  cami_err      mean270-stdev50\n",
       "3  cami_err      mean270-stdev50\n",
       "4  cami_err      mean270-stdev50\n",
       "5  cami_err      mean270-stdev50\n",
       "6  cami_err      mean270-stdev50\n",
       "7  cami_err      mean350-stdev75\n",
       "8  cami_err      mean350-stdev75\n",
       "9  cami_err      mean350-stdev75\n",
       "10 cami_err      mean350-stdev75\n",
       "11 cami_err      mean350-stdev75\n",
       "12 cami_err      mean350-stdev75\n",
       "13 cami_err      mean350-stdev75\n",
       "14 cami_err      mean350-stdev75\n",
       "15 cami_err      mean350-stdev75\n",
       "16 cami_err      mean350-stdev75\n",
       "17 cami_err      mean350-stdev75\n",
       "18 cami_err      mean350-stdev75\n",
       "19 cami_err      mean350-stdev75\n",
       "20 cami_err      mean350-stdev75\n",
       "21 cami_err      mean350-stdev75\n",
       "22 cami_err      mean350-stdev75\n",
       "23 cami_err      mean350-stdev75\n",
       "24 cami_err      mean350-stdev75\n",
       "25 cami_err      mean350-stdev75\n",
       "26 cami_err      mean350-stdev75"
      ]
     },
     "metadata": {},
     "output_type": "display_data"
    }
   ],
   "source": [
    "train_f = train_all %>%\n",
    "    anti_join.(train, c('rep', 'richness', 'read_length', 'read_depth', \n",
    "                        'abundance_distribution', 'assembler', 'error_profile',\n",
    "                        'insert_size'))\n",
    "df.dims(30)\n",
    "train_f %>% arrange.(insert_size, error_profile, abundance_distribution, read_depth, read_length, richness)\n",
    "df.dims()"
   ]
  },
  {
   "cell_type": "code",
   "execution_count": 80,
   "metadata": {
    "ExecuteTime": {
     "end_time": "2022-06-08T12:39:37.144414Z",
     "start_time": "2022-06-08T12:39:37.062Z"
    }
   },
   "outputs": [
    {
     "name": "stdout",
     "output_type": "stream",
     "text": [
      "File written: /ebio/abt3_projects/databases_no-backup/DeepMAsED/version2/resmico-sm/ftp/n9k-train_missing/todo.tsv \n"
     ]
    }
   ],
   "source": [
    "F = file.path('/ebio/abt3_projects/databases_no-backup/DeepMAsED/version2/resmico-sm/ftp/n9k-train_missing/todo.tsv')\n",
    "train_f %>% \n",
    "    arrange.(insert_size, error_profile, abundance_distribution, read_depth, read_length, richness) %>%\n",
    "    write_table(F)"
   ]
  },
  {
   "cell_type": "markdown",
   "metadata": {},
   "source": [
    "# ResMiCo-SM"
   ]
  },
  {
   "cell_type": "markdown",
   "metadata": {},
   "source": [
    "```\n",
    "(snakemake) rick: /ebio/abt3_projects/databases_no-backup/DeepMAsED/version2/resmico-sm/bin/old_compile/ResMiCo/ResMiCo-SM\n",
    "$ screen -L -S rmc-train-c1 ./snakemake_sge.sh /ebio/abt3_projects/databases_no-backup/DeepMAsED/version2/resmico-sm/ftp/n9k-train_missing/1/config.yaml 30 -F\n",
    "\n",
    "# ...and similar for other iterations\n",
    "```"
   ]
  },
  {
   "cell_type": "markdown",
   "metadata": {},
   "source": [
    "## Feature tables"
   ]
  },
  {
   "cell_type": "code",
   "execution_count": 91,
   "metadata": {
    "ExecuteTime": {
     "end_time": "2022-06-10T10:50:55.765585Z",
     "start_time": "2022-06-10T10:50:55.619Z"
    }
   },
   "outputs": [
    {
     "data": {
      "text/html": [
       "1"
      ],
      "text/latex": [
       "1"
      ],
      "text/markdown": [
       "1"
      ],
      "text/plain": [
       "[1] 1"
      ]
     },
     "metadata": {},
     "output_type": "display_data"
    },
    {
     "data": {
      "text/html": [
       "'/ebio/abt3_projects/databases_no-backup/DeepMAsED/version2/resmico-sm/ftp/n9k-train_missing//mean270-stdev50/1/features/feature_files.tsv'"
      ],
      "text/latex": [
       "'/ebio/abt3\\_projects/databases\\_no-backup/DeepMAsED/version2/resmico-sm/ftp/n9k-train\\_missing//mean270-stdev50/1/features/feature\\_files.tsv'"
      ],
      "text/markdown": [
       "'/ebio/abt3_projects/databases_no-backup/DeepMAsED/version2/resmico-sm/ftp/n9k-train_missing//mean270-stdev50/1/features/feature_files.tsv'"
      ],
      "text/plain": [
       "[1] \"/ebio/abt3_projects/databases_no-backup/DeepMAsED/version2/resmico-sm/ftp/n9k-train_missing//mean270-stdev50/1/features/feature_files.tsv\""
      ]
     },
     "metadata": {},
     "output_type": "display_data"
    }
   ],
   "source": [
    "base_dir = '/ebio/abt3_projects/databases_no-backup/DeepMAsED/version2/resmico-sm/ftp/n9k-train_missing/'"
   ]
  },
  {
   "cell_type": "code",
   "execution_count": 115,
   "metadata": {
    "ExecuteTime": {
     "end_time": "2022-06-13T12:10:34.711685Z",
     "start_time": "2022-06-13T12:10:34.698Z"
    }
   },
   "outputs": [],
   "source": [
    "keys = c('rep', 'richness', 'read_length', 'read_depth', \n",
    "         'abundance_distribution', 'assembler', 'error_profile',\n",
    "         'insert_size')"
   ]
  },
  {
   "cell_type": "markdown",
   "metadata": {},
   "source": [
    "### mean270-stdev50"
   ]
  },
  {
   "cell_type": "code",
   "execution_count": 154,
   "metadata": {
    "ExecuteTime": {
     "end_time": "2022-06-27T14:07:45.749638Z",
     "start_time": "2022-06-27T14:07:44.517Z"
    }
   },
   "outputs": [
    {
     "data": {
      "text/html": [
       "4"
      ],
      "text/latex": [
       "4"
      ],
      "text/markdown": [
       "4"
      ],
      "text/plain": [
       "[1] 4"
      ]
     },
     "metadata": {},
     "output_type": "display_data"
    },
    {
     "data": {
      "text/html": [
       "<style>\n",
       ".list-inline {list-style: none; margin:0; padding: 0}\n",
       ".list-inline>li {display: inline-block}\n",
       ".list-inline>li:not(:last-child)::after {content: \"\\00b7\"; padding: 0 .5ex}\n",
       "</style>\n",
       "<ol class=list-inline><li>'/ebio/abt3_projects/databases_no-backup/DeepMAsED/version2/resmico-sm/ftp/n9k-train_missing//mean270-stdev50/1/features/feature_files.tsv'</li><li>'/ebio/abt3_projects/databases_no-backup/DeepMAsED/version2/resmico-sm/ftp/n9k-train_missing//mean270-stdev50/2/features/feature_files.tsv'</li><li>'/ebio/abt3_projects/databases_no-backup/DeepMAsED/version2/resmico-sm/ftp/n9k-train_missing//mean270-stdev50/3/features/feature_files.tsv'</li></ol>\n"
      ],
      "text/latex": [
       "\\begin{enumerate*}\n",
       "\\item '/ebio/abt3\\_projects/databases\\_no-backup/DeepMAsED/version2/resmico-sm/ftp/n9k-train\\_missing//mean270-stdev50/1/features/feature\\_files.tsv'\n",
       "\\item '/ebio/abt3\\_projects/databases\\_no-backup/DeepMAsED/version2/resmico-sm/ftp/n9k-train\\_missing//mean270-stdev50/2/features/feature\\_files.tsv'\n",
       "\\item '/ebio/abt3\\_projects/databases\\_no-backup/DeepMAsED/version2/resmico-sm/ftp/n9k-train\\_missing//mean270-stdev50/3/features/feature\\_files.tsv'\n",
       "\\end{enumerate*}\n"
      ],
      "text/markdown": [
       "1. '/ebio/abt3_projects/databases_no-backup/DeepMAsED/version2/resmico-sm/ftp/n9k-train_missing//mean270-stdev50/1/features/feature_files.tsv'\n",
       "2. '/ebio/abt3_projects/databases_no-backup/DeepMAsED/version2/resmico-sm/ftp/n9k-train_missing//mean270-stdev50/2/features/feature_files.tsv'\n",
       "3. '/ebio/abt3_projects/databases_no-backup/DeepMAsED/version2/resmico-sm/ftp/n9k-train_missing//mean270-stdev50/3/features/feature_files.tsv'\n",
       "\n",
       "\n"
      ],
      "text/plain": [
       "[1] \"/ebio/abt3_projects/databases_no-backup/DeepMAsED/version2/resmico-sm/ftp/n9k-train_missing//mean270-stdev50/1/features/feature_files.tsv\"\n",
       "[2] \"/ebio/abt3_projects/databases_no-backup/DeepMAsED/version2/resmico-sm/ftp/n9k-train_missing//mean270-stdev50/2/features/feature_files.tsv\"\n",
       "[3] \"/ebio/abt3_projects/databases_no-backup/DeepMAsED/version2/resmico-sm/ftp/n9k-train_missing//mean270-stdev50/3/features/feature_files.tsv\""
      ]
     },
     "metadata": {},
     "output_type": "display_data"
    }
   ],
   "source": [
    "# listing feature files\n",
    "files = list_files(file.path(base_dir, 'mean270-stdev50'), 'feature_files.tsv')\n",
    "files %>% length\n",
    "files %>% head(n=3)"
   ]
  },
  {
   "cell_type": "code",
   "execution_count": 155,
   "metadata": {
    "ExecuteTime": {
     "end_time": "2022-06-27T14:07:45.797183Z",
     "start_time": "2022-06-27T14:07:45.422Z"
    }
   },
   "outputs": [
    {
     "data": {
      "text/html": [
       "<table class=\"dataframe\">\n",
       "<caption>A tidytable: 6 × 10</caption>\n",
       "<thead>\n",
       "\t<tr><th scope=col>richness</th><th scope=col>abundance_distribution</th><th scope=col>rep</th><th scope=col>read_length</th><th scope=col>read_depth</th><th scope=col>assembler</th><th scope=col>feature_file</th><th scope=col>MGSIM_reads_params</th><th scope=col>error_profile</th><th scope=col>insert_size</th></tr>\n",
       "\t<tr><th scope=col>&lt;dbl&gt;</th><th scope=col>&lt;chr&gt;</th><th scope=col>&lt;int&gt;</th><th scope=col>&lt;int&gt;</th><th scope=col>&lt;int&gt;</th><th scope=col>&lt;chr&gt;</th><th scope=col>&lt;chr&gt;</th><th scope=col>&lt;chr&gt;</th><th scope=col>&lt;chr&gt;</th><th scope=col>&lt;chr&gt;</th></tr>\n",
       "</thead>\n",
       "<tbody>\n",
       "\t<tr><td>0.555555</td><td>mean-10-sigma-0.5</td><td>2</td><td>150</td><td>12000000</td><td>metaspades</td><td>0.555555/mean-10-sigma-0.5/2/150/12000000/metaspades/features.tsv.gz</td><td>--art-paired --art-mflen 270 --art-sdev 50 --rndSeed 8712 --art-qprof1 data/art_error_profiles/HiSeq2500L150R1.txt --art-qprof2 data/art_error_profiles/HiSeq2500L150R2.txt</td><td>cami_err</td><td>mean270-stdev50</td></tr>\n",
       "\t<tr><td>0.555555</td><td>mean-10-sigma-0.5</td><td>2</td><td>150</td><td>12000000</td><td>megahit   </td><td>0.555555/mean-10-sigma-0.5/2/150/12000000/megahit/features.tsv.gz   </td><td>--art-paired --art-mflen 270 --art-sdev 50 --rndSeed 8712 --art-qprof1 data/art_error_profiles/HiSeq2500L150R1.txt --art-qprof2 data/art_error_profiles/HiSeq2500L150R2.txt</td><td>cami_err</td><td>mean270-stdev50</td></tr>\n",
       "\t<tr><td>⋮</td><td>⋮</td><td>⋮</td><td>⋮</td><td>⋮</td><td>⋮</td><td>⋮</td><td>⋮</td><td>⋮</td><td>⋮</td></tr>\n",
       "\t<tr><td>0.333333</td><td>mean-10-sigma-2</td><td>1</td><td>100</td><td>2000000</td><td>megahit</td><td>0.333333/mean-10-sigma-2/1/100/2000000/megahit/features.tsv.gz</td><td>--art-paired --art-mflen 270 --art-sdev 50 --rndSeed 8712 --art-qprof1 data/art_error_profiles/HiSeq2500L150R1.txt --art-qprof2 data/art_error_profiles/HiSeq2500L150R2.txt</td><td>cami_err</td><td>mean270-stdev50</td></tr>\n",
       "\t<tr><td>0.333333</td><td>mean-10-sigma-2</td><td>1</td><td>150</td><td>2000000</td><td>megahit</td><td>0.333333/mean-10-sigma-2/1/150/2000000/megahit/features.tsv.gz</td><td>--art-paired --art-mflen 270 --art-sdev 50 --rndSeed 8712 --art-qprof1 data/art_error_profiles/HiSeq2500L150R1.txt --art-qprof2 data/art_error_profiles/HiSeq2500L150R2.txt</td><td>cami_err</td><td>mean270-stdev50</td></tr>\n",
       "</tbody>\n",
       "</table>\n"
      ],
      "text/latex": [
       "A tidytable: 6 × 10\n",
       "\\begin{tabular}{llllllllll}\n",
       " richness & abundance\\_distribution & rep & read\\_length & read\\_depth & assembler & feature\\_file & MGSIM\\_reads\\_params & error\\_profile & insert\\_size\\\\\n",
       " <dbl> & <chr> & <int> & <int> & <int> & <chr> & <chr> & <chr> & <chr> & <chr>\\\\\n",
       "\\hline\n",
       "\t 0.555555 & mean-10-sigma-0.5 & 2 & 150 & 12000000 & metaspades & 0.555555/mean-10-sigma-0.5/2/150/12000000/metaspades/features.tsv.gz & --art-paired --art-mflen 270 --art-sdev 50 --rndSeed 8712 --art-qprof1 data/art\\_error\\_profiles/HiSeq2500L150R1.txt --art-qprof2 data/art\\_error\\_profiles/HiSeq2500L150R2.txt & cami\\_err & mean270-stdev50\\\\\n",
       "\t 0.555555 & mean-10-sigma-0.5 & 2 & 150 & 12000000 & megahit    & 0.555555/mean-10-sigma-0.5/2/150/12000000/megahit/features.tsv.gz    & --art-paired --art-mflen 270 --art-sdev 50 --rndSeed 8712 --art-qprof1 data/art\\_error\\_profiles/HiSeq2500L150R1.txt --art-qprof2 data/art\\_error\\_profiles/HiSeq2500L150R2.txt & cami\\_err & mean270-stdev50\\\\\n",
       "\t ⋮ & ⋮ & ⋮ & ⋮ & ⋮ & ⋮ & ⋮ & ⋮ & ⋮ & ⋮\\\\\n",
       "\t 0.333333 & mean-10-sigma-2 & 1 & 100 & 2000000 & megahit & 0.333333/mean-10-sigma-2/1/100/2000000/megahit/features.tsv.gz & --art-paired --art-mflen 270 --art-sdev 50 --rndSeed 8712 --art-qprof1 data/art\\_error\\_profiles/HiSeq2500L150R1.txt --art-qprof2 data/art\\_error\\_profiles/HiSeq2500L150R2.txt & cami\\_err & mean270-stdev50\\\\\n",
       "\t 0.333333 & mean-10-sigma-2 & 1 & 150 & 2000000 & megahit & 0.333333/mean-10-sigma-2/1/150/2000000/megahit/features.tsv.gz & --art-paired --art-mflen 270 --art-sdev 50 --rndSeed 8712 --art-qprof1 data/art\\_error\\_profiles/HiSeq2500L150R1.txt --art-qprof2 data/art\\_error\\_profiles/HiSeq2500L150R2.txt & cami\\_err & mean270-stdev50\\\\\n",
       "\\end{tabular}\n"
      ],
      "text/markdown": [
       "\n",
       "A tidytable: 6 × 10\n",
       "\n",
       "| richness &lt;dbl&gt; | abundance_distribution &lt;chr&gt; | rep &lt;int&gt; | read_length &lt;int&gt; | read_depth &lt;int&gt; | assembler &lt;chr&gt; | feature_file &lt;chr&gt; | MGSIM_reads_params &lt;chr&gt; | error_profile &lt;chr&gt; | insert_size &lt;chr&gt; |\n",
       "|---|---|---|---|---|---|---|---|---|---|\n",
       "| 0.555555 | mean-10-sigma-0.5 | 2 | 150 | 12000000 | metaspades | 0.555555/mean-10-sigma-0.5/2/150/12000000/metaspades/features.tsv.gz | --art-paired --art-mflen 270 --art-sdev 50 --rndSeed 8712 --art-qprof1 data/art_error_profiles/HiSeq2500L150R1.txt --art-qprof2 data/art_error_profiles/HiSeq2500L150R2.txt | cami_err | mean270-stdev50 |\n",
       "| 0.555555 | mean-10-sigma-0.5 | 2 | 150 | 12000000 | megahit    | 0.555555/mean-10-sigma-0.5/2/150/12000000/megahit/features.tsv.gz    | --art-paired --art-mflen 270 --art-sdev 50 --rndSeed 8712 --art-qprof1 data/art_error_profiles/HiSeq2500L150R1.txt --art-qprof2 data/art_error_profiles/HiSeq2500L150R2.txt | cami_err | mean270-stdev50 |\n",
       "| ⋮ | ⋮ | ⋮ | ⋮ | ⋮ | ⋮ | ⋮ | ⋮ | ⋮ | ⋮ |\n",
       "| 0.333333 | mean-10-sigma-2 | 1 | 100 | 2000000 | megahit | 0.333333/mean-10-sigma-2/1/100/2000000/megahit/features.tsv.gz | --art-paired --art-mflen 270 --art-sdev 50 --rndSeed 8712 --art-qprof1 data/art_error_profiles/HiSeq2500L150R1.txt --art-qprof2 data/art_error_profiles/HiSeq2500L150R2.txt | cami_err | mean270-stdev50 |\n",
       "| 0.333333 | mean-10-sigma-2 | 1 | 150 | 2000000 | megahit | 0.333333/mean-10-sigma-2/1/150/2000000/megahit/features.tsv.gz | --art-paired --art-mflen 270 --art-sdev 50 --rndSeed 8712 --art-qprof1 data/art_error_profiles/HiSeq2500L150R1.txt --art-qprof2 data/art_error_profiles/HiSeq2500L150R2.txt | cami_err | mean270-stdev50 |\n",
       "\n"
      ],
      "text/plain": [
       "  richness abundance_distribution rep read_length read_depth assembler \n",
       "1 0.555555 mean-10-sigma-0.5      2   150         12000000   metaspades\n",
       "2 0.555555 mean-10-sigma-0.5      2   150         12000000   megahit   \n",
       "⋮ ⋮        ⋮                      ⋮   ⋮           ⋮          ⋮         \n",
       "5 0.333333 mean-10-sigma-2        1   100         2000000    megahit   \n",
       "6 0.333333 mean-10-sigma-2        1   150         2000000    megahit   \n",
       "  feature_file                                                        \n",
       "1 0.555555/mean-10-sigma-0.5/2/150/12000000/metaspades/features.tsv.gz\n",
       "2 0.555555/mean-10-sigma-0.5/2/150/12000000/megahit/features.tsv.gz   \n",
       "⋮ ⋮                                                                   \n",
       "5 0.333333/mean-10-sigma-2/1/100/2000000/megahit/features.tsv.gz      \n",
       "6 0.333333/mean-10-sigma-2/1/150/2000000/megahit/features.tsv.gz      \n",
       "  MGSIM_reads_params                                                                                                                                                         \n",
       "1 --art-paired --art-mflen 270 --art-sdev 50 --rndSeed 8712 --art-qprof1 data/art_error_profiles/HiSeq2500L150R1.txt --art-qprof2 data/art_error_profiles/HiSeq2500L150R2.txt\n",
       "2 --art-paired --art-mflen 270 --art-sdev 50 --rndSeed 8712 --art-qprof1 data/art_error_profiles/HiSeq2500L150R1.txt --art-qprof2 data/art_error_profiles/HiSeq2500L150R2.txt\n",
       "⋮ ⋮                                                                                                                                                                          \n",
       "5 --art-paired --art-mflen 270 --art-sdev 50 --rndSeed 8712 --art-qprof1 data/art_error_profiles/HiSeq2500L150R1.txt --art-qprof2 data/art_error_profiles/HiSeq2500L150R2.txt\n",
       "6 --art-paired --art-mflen 270 --art-sdev 50 --rndSeed 8712 --art-qprof1 data/art_error_profiles/HiSeq2500L150R1.txt --art-qprof2 data/art_error_profiles/HiSeq2500L150R2.txt\n",
       "  error_profile insert_size    \n",
       "1 cami_err      mean270-stdev50\n",
       "2 cami_err      mean270-stdev50\n",
       "⋮ ⋮             ⋮              \n",
       "5 cami_err      mean270-stdev50\n",
       "6 cami_err      mean270-stdev50"
      ]
     },
     "metadata": {},
     "output_type": "display_data"
    }
   ],
   "source": [
    "# reading, merging, & formatting\n",
    "fillers1 = files %>%\n",
    "    lapply(Fread) %>%\n",
    "    rbindlist(use.names=TRUE) %>%\n",
    "    mutate.(error_profile = 'cami_err',\n",
    "            insert_size = 'mean270-stdev50')\n",
    "fillers1"
   ]
  },
  {
   "cell_type": "markdown",
   "metadata": {},
   "source": [
    "### mean350-stdev75"
   ]
  },
  {
   "cell_type": "code",
   "execution_count": 162,
   "metadata": {
    "ExecuteTime": {
     "end_time": "2022-06-27T14:09:11.684818Z",
     "start_time": "2022-06-27T14:09:10.036Z"
    }
   },
   "outputs": [
    {
     "data": {
      "text/html": [
       "17"
      ],
      "text/latex": [
       "17"
      ],
      "text/markdown": [
       "17"
      ],
      "text/plain": [
       "[1] 17"
      ]
     },
     "metadata": {},
     "output_type": "display_data"
    },
    {
     "data": {
      "text/html": [
       "<style>\n",
       ".list-inline {list-style: none; margin:0; padding: 0}\n",
       ".list-inline>li {display: inline-block}\n",
       ".list-inline>li:not(:last-child)::after {content: \"\\00b7\"; padding: 0 .5ex}\n",
       "</style>\n",
       "<ol class=list-inline><li>'/ebio/abt3_projects/databases_no-backup/DeepMAsED/version2/resmico-sm/ftp/n9k-train_missing//mean350-stdev75/10/features/feature_files.tsv'</li><li>'/ebio/abt3_projects/databases_no-backup/DeepMAsED/version2/resmico-sm/ftp/n9k-train_missing//mean350-stdev75/11/features/feature_files.tsv'</li><li>'/ebio/abt3_projects/databases_no-backup/DeepMAsED/version2/resmico-sm/ftp/n9k-train_missing//mean350-stdev75/12/features/feature_files.tsv'</li></ol>\n"
      ],
      "text/latex": [
       "\\begin{enumerate*}\n",
       "\\item '/ebio/abt3\\_projects/databases\\_no-backup/DeepMAsED/version2/resmico-sm/ftp/n9k-train\\_missing//mean350-stdev75/10/features/feature\\_files.tsv'\n",
       "\\item '/ebio/abt3\\_projects/databases\\_no-backup/DeepMAsED/version2/resmico-sm/ftp/n9k-train\\_missing//mean350-stdev75/11/features/feature\\_files.tsv'\n",
       "\\item '/ebio/abt3\\_projects/databases\\_no-backup/DeepMAsED/version2/resmico-sm/ftp/n9k-train\\_missing//mean350-stdev75/12/features/feature\\_files.tsv'\n",
       "\\end{enumerate*}\n"
      ],
      "text/markdown": [
       "1. '/ebio/abt3_projects/databases_no-backup/DeepMAsED/version2/resmico-sm/ftp/n9k-train_missing//mean350-stdev75/10/features/feature_files.tsv'\n",
       "2. '/ebio/abt3_projects/databases_no-backup/DeepMAsED/version2/resmico-sm/ftp/n9k-train_missing//mean350-stdev75/11/features/feature_files.tsv'\n",
       "3. '/ebio/abt3_projects/databases_no-backup/DeepMAsED/version2/resmico-sm/ftp/n9k-train_missing//mean350-stdev75/12/features/feature_files.tsv'\n",
       "\n",
       "\n"
      ],
      "text/plain": [
       "[1] \"/ebio/abt3_projects/databases_no-backup/DeepMAsED/version2/resmico-sm/ftp/n9k-train_missing//mean350-stdev75/10/features/feature_files.tsv\"\n",
       "[2] \"/ebio/abt3_projects/databases_no-backup/DeepMAsED/version2/resmico-sm/ftp/n9k-train_missing//mean350-stdev75/11/features/feature_files.tsv\"\n",
       "[3] \"/ebio/abt3_projects/databases_no-backup/DeepMAsED/version2/resmico-sm/ftp/n9k-train_missing//mean350-stdev75/12/features/feature_files.tsv\""
      ]
     },
     "metadata": {},
     "output_type": "display_data"
    }
   ],
   "source": [
    "# listing feature files\n",
    "files = list_files(file.path(base_dir, 'mean350-stdev75'), 'feature_files.tsv')\n",
    "files %>% length\n",
    "files %>% head(n=3)"
   ]
  },
  {
   "cell_type": "code",
   "execution_count": 163,
   "metadata": {
    "ExecuteTime": {
     "end_time": "2022-06-27T14:09:12.334815Z",
     "start_time": "2022-06-27T14:09:12.238Z"
    }
   },
   "outputs": [
    {
     "data": {
      "text/html": [
       "<table class=\"dataframe\">\n",
       "<caption>A tidytable: 20 × 10</caption>\n",
       "<thead>\n",
       "\t<tr><th scope=col>richness</th><th scope=col>abundance_distribution</th><th scope=col>rep</th><th scope=col>read_length</th><th scope=col>read_depth</th><th scope=col>assembler</th><th scope=col>feature_file</th><th scope=col>MGSIM_reads_params</th><th scope=col>error_profile</th><th scope=col>insert_size</th></tr>\n",
       "\t<tr><th scope=col>&lt;dbl&gt;</th><th scope=col>&lt;chr&gt;</th><th scope=col>&lt;int&gt;</th><th scope=col>&lt;int&gt;</th><th scope=col>&lt;int&gt;</th><th scope=col>&lt;chr&gt;</th><th scope=col>&lt;chr&gt;</th><th scope=col>&lt;chr&gt;</th><th scope=col>&lt;chr&gt;</th><th scope=col>&lt;chr&gt;</th></tr>\n",
       "</thead>\n",
       "<tbody>\n",
       "\t<tr><td>0.555555</td><td>mean-10-sigma-0.5</td><td>1</td><td>100</td><td>8000000</td><td>megahit</td><td>0.555555/mean-10-sigma-0.5/1/100/8000000/megahit/features.tsv.gz</td><td>--art-paired --art-mflen 350 --art-sdev 75 --rndSeed 8712 --art-qprof1 data/art_error_profiles/HiSeq2500L150R1.txt --art-qprof2 data/art_error_profiles/HiSeq2500L150R2.txt</td><td>cami_err</td><td>mean350-stdev75</td></tr>\n",
       "\t<tr><td>0.005555</td><td>mean-10-sigma-0.5</td><td>1</td><td>150</td><td>8000000</td><td>megahit</td><td>0.005555/mean-10-sigma-0.5/1/150/8000000/megahit/features.tsv.gz</td><td>--art-paired --art-mflen 350 --art-sdev 75 --rndSeed 8712 --art-qprof1 data/art_error_profiles/HiSeq2500L150R1.txt --art-qprof2 data/art_error_profiles/HiSeq2500L150R2.txt</td><td>cami_err</td><td>mean350-stdev75</td></tr>\n",
       "\t<tr><td>⋮</td><td>⋮</td><td>⋮</td><td>⋮</td><td>⋮</td><td>⋮</td><td>⋮</td><td>⋮</td><td>⋮</td><td>⋮</td></tr>\n",
       "\t<tr><td>0.005555</td><td>mean-10-sigma-0.5</td><td>1</td><td>150</td><td>2000000</td><td>metaspades</td><td>0.005555/mean-10-sigma-0.5/1/150/2000000/metaspades/features.tsv.gz</td><td>--art-paired --art-mflen 350 --art-sdev 75 --rndSeed 8712 --art-qprof1 data/art_error_profiles/HiSeq2500L150R1.txt --art-qprof2 data/art_error_profiles/HiSeq2500L150R2.txt</td><td>cami_err</td><td>mean350-stdev75</td></tr>\n",
       "\t<tr><td>0.005555</td><td>mean-10-sigma-0.5</td><td>1</td><td>100</td><td>8000000</td><td>megahit   </td><td>0.005555/mean-10-sigma-0.5/1/100/8000000/megahit/features.tsv.gz   </td><td>--art-paired --art-mflen 350 --art-sdev 75 --rndSeed 8712 --art-qprof1 data/art_error_profiles/HiSeq2500L150R1.txt --art-qprof2 data/art_error_profiles/HiSeq2500L150R2.txt</td><td>cami_err</td><td>mean350-stdev75</td></tr>\n",
       "</tbody>\n",
       "</table>\n"
      ],
      "text/latex": [
       "A tidytable: 20 × 10\n",
       "\\begin{tabular}{llllllllll}\n",
       " richness & abundance\\_distribution & rep & read\\_length & read\\_depth & assembler & feature\\_file & MGSIM\\_reads\\_params & error\\_profile & insert\\_size\\\\\n",
       " <dbl> & <chr> & <int> & <int> & <int> & <chr> & <chr> & <chr> & <chr> & <chr>\\\\\n",
       "\\hline\n",
       "\t 0.555555 & mean-10-sigma-0.5 & 1 & 100 & 8000000 & megahit & 0.555555/mean-10-sigma-0.5/1/100/8000000/megahit/features.tsv.gz & --art-paired --art-mflen 350 --art-sdev 75 --rndSeed 8712 --art-qprof1 data/art\\_error\\_profiles/HiSeq2500L150R1.txt --art-qprof2 data/art\\_error\\_profiles/HiSeq2500L150R2.txt & cami\\_err & mean350-stdev75\\\\\n",
       "\t 0.005555 & mean-10-sigma-0.5 & 1 & 150 & 8000000 & megahit & 0.005555/mean-10-sigma-0.5/1/150/8000000/megahit/features.tsv.gz & --art-paired --art-mflen 350 --art-sdev 75 --rndSeed 8712 --art-qprof1 data/art\\_error\\_profiles/HiSeq2500L150R1.txt --art-qprof2 data/art\\_error\\_profiles/HiSeq2500L150R2.txt & cami\\_err & mean350-stdev75\\\\\n",
       "\t ⋮ & ⋮ & ⋮ & ⋮ & ⋮ & ⋮ & ⋮ & ⋮ & ⋮ & ⋮\\\\\n",
       "\t 0.005555 & mean-10-sigma-0.5 & 1 & 150 & 2000000 & metaspades & 0.005555/mean-10-sigma-0.5/1/150/2000000/metaspades/features.tsv.gz & --art-paired --art-mflen 350 --art-sdev 75 --rndSeed 8712 --art-qprof1 data/art\\_error\\_profiles/HiSeq2500L150R1.txt --art-qprof2 data/art\\_error\\_profiles/HiSeq2500L150R2.txt & cami\\_err & mean350-stdev75\\\\\n",
       "\t 0.005555 & mean-10-sigma-0.5 & 1 & 100 & 8000000 & megahit    & 0.005555/mean-10-sigma-0.5/1/100/8000000/megahit/features.tsv.gz    & --art-paired --art-mflen 350 --art-sdev 75 --rndSeed 8712 --art-qprof1 data/art\\_error\\_profiles/HiSeq2500L150R1.txt --art-qprof2 data/art\\_error\\_profiles/HiSeq2500L150R2.txt & cami\\_err & mean350-stdev75\\\\\n",
       "\\end{tabular}\n"
      ],
      "text/markdown": [
       "\n",
       "A tidytable: 20 × 10\n",
       "\n",
       "| richness &lt;dbl&gt; | abundance_distribution &lt;chr&gt; | rep &lt;int&gt; | read_length &lt;int&gt; | read_depth &lt;int&gt; | assembler &lt;chr&gt; | feature_file &lt;chr&gt; | MGSIM_reads_params &lt;chr&gt; | error_profile &lt;chr&gt; | insert_size &lt;chr&gt; |\n",
       "|---|---|---|---|---|---|---|---|---|---|\n",
       "| 0.555555 | mean-10-sigma-0.5 | 1 | 100 | 8000000 | megahit | 0.555555/mean-10-sigma-0.5/1/100/8000000/megahit/features.tsv.gz | --art-paired --art-mflen 350 --art-sdev 75 --rndSeed 8712 --art-qprof1 data/art_error_profiles/HiSeq2500L150R1.txt --art-qprof2 data/art_error_profiles/HiSeq2500L150R2.txt | cami_err | mean350-stdev75 |\n",
       "| 0.005555 | mean-10-sigma-0.5 | 1 | 150 | 8000000 | megahit | 0.005555/mean-10-sigma-0.5/1/150/8000000/megahit/features.tsv.gz | --art-paired --art-mflen 350 --art-sdev 75 --rndSeed 8712 --art-qprof1 data/art_error_profiles/HiSeq2500L150R1.txt --art-qprof2 data/art_error_profiles/HiSeq2500L150R2.txt | cami_err | mean350-stdev75 |\n",
       "| ⋮ | ⋮ | ⋮ | ⋮ | ⋮ | ⋮ | ⋮ | ⋮ | ⋮ | ⋮ |\n",
       "| 0.005555 | mean-10-sigma-0.5 | 1 | 150 | 2000000 | metaspades | 0.005555/mean-10-sigma-0.5/1/150/2000000/metaspades/features.tsv.gz | --art-paired --art-mflen 350 --art-sdev 75 --rndSeed 8712 --art-qprof1 data/art_error_profiles/HiSeq2500L150R1.txt --art-qprof2 data/art_error_profiles/HiSeq2500L150R2.txt | cami_err | mean350-stdev75 |\n",
       "| 0.005555 | mean-10-sigma-0.5 | 1 | 100 | 8000000 | megahit    | 0.005555/mean-10-sigma-0.5/1/100/8000000/megahit/features.tsv.gz    | --art-paired --art-mflen 350 --art-sdev 75 --rndSeed 8712 --art-qprof1 data/art_error_profiles/HiSeq2500L150R1.txt --art-qprof2 data/art_error_profiles/HiSeq2500L150R2.txt | cami_err | mean350-stdev75 |\n",
       "\n"
      ],
      "text/plain": [
       "   richness abundance_distribution rep read_length read_depth assembler \n",
       "1  0.555555 mean-10-sigma-0.5      1   100         8000000    megahit   \n",
       "2  0.005555 mean-10-sigma-0.5      1   150         8000000    megahit   \n",
       "⋮  ⋮        ⋮                      ⋮   ⋮           ⋮          ⋮         \n",
       "19 0.005555 mean-10-sigma-0.5      1   150         2000000    metaspades\n",
       "20 0.005555 mean-10-sigma-0.5      1   100         8000000    megahit   \n",
       "   feature_file                                                       \n",
       "1  0.555555/mean-10-sigma-0.5/1/100/8000000/megahit/features.tsv.gz   \n",
       "2  0.005555/mean-10-sigma-0.5/1/150/8000000/megahit/features.tsv.gz   \n",
       "⋮  ⋮                                                                  \n",
       "19 0.005555/mean-10-sigma-0.5/1/150/2000000/metaspades/features.tsv.gz\n",
       "20 0.005555/mean-10-sigma-0.5/1/100/8000000/megahit/features.tsv.gz   \n",
       "   MGSIM_reads_params                                                                                                                                                         \n",
       "1  --art-paired --art-mflen 350 --art-sdev 75 --rndSeed 8712 --art-qprof1 data/art_error_profiles/HiSeq2500L150R1.txt --art-qprof2 data/art_error_profiles/HiSeq2500L150R2.txt\n",
       "2  --art-paired --art-mflen 350 --art-sdev 75 --rndSeed 8712 --art-qprof1 data/art_error_profiles/HiSeq2500L150R1.txt --art-qprof2 data/art_error_profiles/HiSeq2500L150R2.txt\n",
       "⋮  ⋮                                                                                                                                                                          \n",
       "19 --art-paired --art-mflen 350 --art-sdev 75 --rndSeed 8712 --art-qprof1 data/art_error_profiles/HiSeq2500L150R1.txt --art-qprof2 data/art_error_profiles/HiSeq2500L150R2.txt\n",
       "20 --art-paired --art-mflen 350 --art-sdev 75 --rndSeed 8712 --art-qprof1 data/art_error_profiles/HiSeq2500L150R1.txt --art-qprof2 data/art_error_profiles/HiSeq2500L150R2.txt\n",
       "   error_profile insert_size    \n",
       "1  cami_err      mean350-stdev75\n",
       "2  cami_err      mean350-stdev75\n",
       "⋮  ⋮             ⋮              \n",
       "19 cami_err      mean350-stdev75\n",
       "20 cami_err      mean350-stdev75"
      ]
     },
     "metadata": {},
     "output_type": "display_data"
    }
   ],
   "source": [
    "# reading, merging, & formatting\n",
    "fillers2 = files %>%\n",
    "    lapply(Fread) %>%\n",
    "    rbindlist(use.names=TRUE) %>%\n",
    "    mutate.(error_profile = 'cami_err',\n",
    "            insert_size = 'mean350-stdev75')\n",
    "fillers2"
   ]
  },
  {
   "cell_type": "markdown",
   "metadata": {},
   "source": [
    "### Overlap"
   ]
  },
  {
   "cell_type": "code",
   "execution_count": 164,
   "metadata": {
    "ExecuteTime": {
     "end_time": "2022-06-27T14:09:12.960356Z",
     "start_time": "2022-06-27T14:09:12.890Z"
    }
   },
   "outputs": [
    {
     "data": {
      "text/html": [
       "<table class=\"dataframe\">\n",
       "<caption>A data.table: 26 × 10</caption>\n",
       "<thead>\n",
       "\t<tr><th scope=col>richness</th><th scope=col>abundance_distribution</th><th scope=col>rep</th><th scope=col>read_length</th><th scope=col>read_depth</th><th scope=col>assembler</th><th scope=col>feature_file</th><th scope=col>MGSIM_reads_params</th><th scope=col>error_profile</th><th scope=col>insert_size</th></tr>\n",
       "\t<tr><th scope=col>&lt;dbl&gt;</th><th scope=col>&lt;chr&gt;</th><th scope=col>&lt;int&gt;</th><th scope=col>&lt;int&gt;</th><th scope=col>&lt;int&gt;</th><th scope=col>&lt;chr&gt;</th><th scope=col>&lt;chr&gt;</th><th scope=col>&lt;chr&gt;</th><th scope=col>&lt;chr&gt;</th><th scope=col>&lt;chr&gt;</th></tr>\n",
       "</thead>\n",
       "<tbody>\n",
       "\t<tr><td>0.555555</td><td>mean-10-sigma-0.5</td><td>2</td><td>150</td><td>12000000</td><td>metaspades</td><td>0.555555/mean-10-sigma-0.5/2/150/12000000/metaspades/features.tsv.gz</td><td>--art-paired --art-mflen 270 --art-sdev 50 --rndSeed 8712 --art-qprof1 data/art_error_profiles/HiSeq2500L150R1.txt --art-qprof2 data/art_error_profiles/HiSeq2500L150R2.txt</td><td>cami_err</td><td>mean270-stdev50</td></tr>\n",
       "\t<tr><td>0.555555</td><td>mean-10-sigma-0.5</td><td>2</td><td>150</td><td>12000000</td><td>megahit   </td><td>0.555555/mean-10-sigma-0.5/2/150/12000000/megahit/features.tsv.gz   </td><td>--art-paired --art-mflen 270 --art-sdev 50 --rndSeed 8712 --art-qprof1 data/art_error_profiles/HiSeq2500L150R1.txt --art-qprof2 data/art_error_profiles/HiSeq2500L150R2.txt</td><td>cami_err</td><td>mean270-stdev50</td></tr>\n",
       "\t<tr><td>⋮</td><td>⋮</td><td>⋮</td><td>⋮</td><td>⋮</td><td>⋮</td><td>⋮</td><td>⋮</td><td>⋮</td><td>⋮</td></tr>\n",
       "\t<tr><td>0.005555</td><td>mean-10-sigma-0.5</td><td>1</td><td>150</td><td>2000000</td><td>metaspades</td><td>0.005555/mean-10-sigma-0.5/1/150/2000000/metaspades/features.tsv.gz</td><td>--art-paired --art-mflen 350 --art-sdev 75 --rndSeed 8712 --art-qprof1 data/art_error_profiles/HiSeq2500L150R1.txt --art-qprof2 data/art_error_profiles/HiSeq2500L150R2.txt</td><td>cami_err</td><td>mean350-stdev75</td></tr>\n",
       "\t<tr><td>0.005555</td><td>mean-10-sigma-0.5</td><td>1</td><td>100</td><td>8000000</td><td>megahit   </td><td>0.005555/mean-10-sigma-0.5/1/100/8000000/megahit/features.tsv.gz   </td><td>--art-paired --art-mflen 350 --art-sdev 75 --rndSeed 8712 --art-qprof1 data/art_error_profiles/HiSeq2500L150R1.txt --art-qprof2 data/art_error_profiles/HiSeq2500L150R2.txt</td><td>cami_err</td><td>mean350-stdev75</td></tr>\n",
       "</tbody>\n",
       "</table>\n"
      ],
      "text/latex": [
       "A data.table: 26 × 10\n",
       "\\begin{tabular}{llllllllll}\n",
       " richness & abundance\\_distribution & rep & read\\_length & read\\_depth & assembler & feature\\_file & MGSIM\\_reads\\_params & error\\_profile & insert\\_size\\\\\n",
       " <dbl> & <chr> & <int> & <int> & <int> & <chr> & <chr> & <chr> & <chr> & <chr>\\\\\n",
       "\\hline\n",
       "\t 0.555555 & mean-10-sigma-0.5 & 2 & 150 & 12000000 & metaspades & 0.555555/mean-10-sigma-0.5/2/150/12000000/metaspades/features.tsv.gz & --art-paired --art-mflen 270 --art-sdev 50 --rndSeed 8712 --art-qprof1 data/art\\_error\\_profiles/HiSeq2500L150R1.txt --art-qprof2 data/art\\_error\\_profiles/HiSeq2500L150R2.txt & cami\\_err & mean270-stdev50\\\\\n",
       "\t 0.555555 & mean-10-sigma-0.5 & 2 & 150 & 12000000 & megahit    & 0.555555/mean-10-sigma-0.5/2/150/12000000/megahit/features.tsv.gz    & --art-paired --art-mflen 270 --art-sdev 50 --rndSeed 8712 --art-qprof1 data/art\\_error\\_profiles/HiSeq2500L150R1.txt --art-qprof2 data/art\\_error\\_profiles/HiSeq2500L150R2.txt & cami\\_err & mean270-stdev50\\\\\n",
       "\t ⋮ & ⋮ & ⋮ & ⋮ & ⋮ & ⋮ & ⋮ & ⋮ & ⋮ & ⋮\\\\\n",
       "\t 0.005555 & mean-10-sigma-0.5 & 1 & 150 & 2000000 & metaspades & 0.005555/mean-10-sigma-0.5/1/150/2000000/metaspades/features.tsv.gz & --art-paired --art-mflen 350 --art-sdev 75 --rndSeed 8712 --art-qprof1 data/art\\_error\\_profiles/HiSeq2500L150R1.txt --art-qprof2 data/art\\_error\\_profiles/HiSeq2500L150R2.txt & cami\\_err & mean350-stdev75\\\\\n",
       "\t 0.005555 & mean-10-sigma-0.5 & 1 & 100 & 8000000 & megahit    & 0.005555/mean-10-sigma-0.5/1/100/8000000/megahit/features.tsv.gz    & --art-paired --art-mflen 350 --art-sdev 75 --rndSeed 8712 --art-qprof1 data/art\\_error\\_profiles/HiSeq2500L150R1.txt --art-qprof2 data/art\\_error\\_profiles/HiSeq2500L150R2.txt & cami\\_err & mean350-stdev75\\\\\n",
       "\\end{tabular}\n"
      ],
      "text/markdown": [
       "\n",
       "A data.table: 26 × 10\n",
       "\n",
       "| richness &lt;dbl&gt; | abundance_distribution &lt;chr&gt; | rep &lt;int&gt; | read_length &lt;int&gt; | read_depth &lt;int&gt; | assembler &lt;chr&gt; | feature_file &lt;chr&gt; | MGSIM_reads_params &lt;chr&gt; | error_profile &lt;chr&gt; | insert_size &lt;chr&gt; |\n",
       "|---|---|---|---|---|---|---|---|---|---|\n",
       "| 0.555555 | mean-10-sigma-0.5 | 2 | 150 | 12000000 | metaspades | 0.555555/mean-10-sigma-0.5/2/150/12000000/metaspades/features.tsv.gz | --art-paired --art-mflen 270 --art-sdev 50 --rndSeed 8712 --art-qprof1 data/art_error_profiles/HiSeq2500L150R1.txt --art-qprof2 data/art_error_profiles/HiSeq2500L150R2.txt | cami_err | mean270-stdev50 |\n",
       "| 0.555555 | mean-10-sigma-0.5 | 2 | 150 | 12000000 | megahit    | 0.555555/mean-10-sigma-0.5/2/150/12000000/megahit/features.tsv.gz    | --art-paired --art-mflen 270 --art-sdev 50 --rndSeed 8712 --art-qprof1 data/art_error_profiles/HiSeq2500L150R1.txt --art-qprof2 data/art_error_profiles/HiSeq2500L150R2.txt | cami_err | mean270-stdev50 |\n",
       "| ⋮ | ⋮ | ⋮ | ⋮ | ⋮ | ⋮ | ⋮ | ⋮ | ⋮ | ⋮ |\n",
       "| 0.005555 | mean-10-sigma-0.5 | 1 | 150 | 2000000 | metaspades | 0.005555/mean-10-sigma-0.5/1/150/2000000/metaspades/features.tsv.gz | --art-paired --art-mflen 350 --art-sdev 75 --rndSeed 8712 --art-qprof1 data/art_error_profiles/HiSeq2500L150R1.txt --art-qprof2 data/art_error_profiles/HiSeq2500L150R2.txt | cami_err | mean350-stdev75 |\n",
       "| 0.005555 | mean-10-sigma-0.5 | 1 | 100 | 8000000 | megahit    | 0.005555/mean-10-sigma-0.5/1/100/8000000/megahit/features.tsv.gz    | --art-paired --art-mflen 350 --art-sdev 75 --rndSeed 8712 --art-qprof1 data/art_error_profiles/HiSeq2500L150R1.txt --art-qprof2 data/art_error_profiles/HiSeq2500L150R2.txt | cami_err | mean350-stdev75 |\n",
       "\n"
      ],
      "text/plain": [
       "   richness abundance_distribution rep read_length read_depth assembler \n",
       "1  0.555555 mean-10-sigma-0.5      2   150         12000000   metaspades\n",
       "2  0.555555 mean-10-sigma-0.5      2   150         12000000   megahit   \n",
       "⋮  ⋮        ⋮                      ⋮   ⋮           ⋮          ⋮         \n",
       "25 0.005555 mean-10-sigma-0.5      1   150         2000000    metaspades\n",
       "26 0.005555 mean-10-sigma-0.5      1   100         8000000    megahit   \n",
       "   feature_file                                                        \n",
       "1  0.555555/mean-10-sigma-0.5/2/150/12000000/metaspades/features.tsv.gz\n",
       "2  0.555555/mean-10-sigma-0.5/2/150/12000000/megahit/features.tsv.gz   \n",
       "⋮  ⋮                                                                   \n",
       "25 0.005555/mean-10-sigma-0.5/1/150/2000000/metaspades/features.tsv.gz \n",
       "26 0.005555/mean-10-sigma-0.5/1/100/8000000/megahit/features.tsv.gz    \n",
       "   MGSIM_reads_params                                                                                                                                                         \n",
       "1  --art-paired --art-mflen 270 --art-sdev 50 --rndSeed 8712 --art-qprof1 data/art_error_profiles/HiSeq2500L150R1.txt --art-qprof2 data/art_error_profiles/HiSeq2500L150R2.txt\n",
       "2  --art-paired --art-mflen 270 --art-sdev 50 --rndSeed 8712 --art-qprof1 data/art_error_profiles/HiSeq2500L150R1.txt --art-qprof2 data/art_error_profiles/HiSeq2500L150R2.txt\n",
       "⋮  ⋮                                                                                                                                                                          \n",
       "25 --art-paired --art-mflen 350 --art-sdev 75 --rndSeed 8712 --art-qprof1 data/art_error_profiles/HiSeq2500L150R1.txt --art-qprof2 data/art_error_profiles/HiSeq2500L150R2.txt\n",
       "26 --art-paired --art-mflen 350 --art-sdev 75 --rndSeed 8712 --art-qprof1 data/art_error_profiles/HiSeq2500L150R1.txt --art-qprof2 data/art_error_profiles/HiSeq2500L150R2.txt\n",
       "   error_profile insert_size    \n",
       "1  cami_err      mean270-stdev50\n",
       "2  cami_err      mean270-stdev50\n",
       "⋮  ⋮             ⋮              \n",
       "25 cami_err      mean350-stdev75\n",
       "26 cami_err      mean350-stdev75"
      ]
     },
     "metadata": {},
     "output_type": "display_data"
    }
   ],
   "source": [
    "fillers = rbindlist(list(fillers1, fillers2))\n",
    "fillers"
   ]
  },
  {
   "cell_type": "code",
   "execution_count": 165,
   "metadata": {
    "ExecuteTime": {
     "end_time": "2022-06-27T14:09:13.221220Z",
     "start_time": "2022-06-27T14:09:13.146Z"
    }
   },
   "outputs": [
    {
     "data": {
      "text/html": [
       "<table class=\"dataframe\">\n",
       "<caption>A tidytable: 26 × 10</caption>\n",
       "<thead>\n",
       "\t<tr><th scope=col>richness</th><th scope=col>abundance_distribution</th><th scope=col>rep</th><th scope=col>read_length</th><th scope=col>read_depth</th><th scope=col>assembler</th><th scope=col>feature_file</th><th scope=col>MGSIM_reads_params</th><th scope=col>error_profile</th><th scope=col>insert_size</th></tr>\n",
       "\t<tr><th scope=col>&lt;dbl&gt;</th><th scope=col>&lt;chr&gt;</th><th scope=col>&lt;int&gt;</th><th scope=col>&lt;int&gt;</th><th scope=col>&lt;int&gt;</th><th scope=col>&lt;chr&gt;</th><th scope=col>&lt;chr&gt;</th><th scope=col>&lt;chr&gt;</th><th scope=col>&lt;chr&gt;</th><th scope=col>&lt;chr&gt;</th></tr>\n",
       "</thead>\n",
       "<tbody>\n",
       "\t<tr><td>0.555555</td><td>mean-10-sigma-0.5</td><td>2</td><td>150</td><td>12000000</td><td>metaspades</td><td>0.555555/mean-10-sigma-0.5/2/150/12000000/metaspades/features.tsv.gz</td><td>--art-paired --art-mflen 270 --art-sdev 50 --rndSeed 8712 --art-qprof1 data/art_error_profiles/HiSeq2500L150R1.txt --art-qprof2 data/art_error_profiles/HiSeq2500L150R2.txt</td><td>cami_err</td><td>mean270-stdev50</td></tr>\n",
       "\t<tr><td>0.333333</td><td>mean-10-sigma-2  </td><td>1</td><td>100</td><td> 2000000</td><td>metaspades</td><td>0.333333/mean-10-sigma-2/1/100/2000000/metaspades/features.tsv.gz   </td><td>--art-paired --art-mflen 270 --art-sdev 50 --rndSeed 8712 --art-qprof1 data/art_error_profiles/HiSeq2500L150R1.txt --art-qprof2 data/art_error_profiles/HiSeq2500L150R2.txt</td><td>cami_err</td><td>mean270-stdev50</td></tr>\n",
       "\t<tr><td>⋮</td><td>⋮</td><td>⋮</td><td>⋮</td><td>⋮</td><td>⋮</td><td>⋮</td><td>⋮</td><td>⋮</td><td>⋮</td></tr>\n",
       "\t<tr><td>0.005555</td><td>mean-10-sigma-1</td><td>1</td><td>100</td><td>20000000</td><td>megahit</td><td>0.005555/mean-10-sigma-1/1/100/20000000/megahit/features.tsv.gz</td><td>--art-paired --art-mflen 350 --art-sdev 75 --rndSeed 8712 --art-qprof1 data/art_error_profiles/HiSeq2500L150R1.txt --art-qprof2 data/art_error_profiles/HiSeq2500L150R2.txt</td><td>cami_err</td><td>mean350-stdev75</td></tr>\n",
       "\t<tr><td>0.111111</td><td>mean-10-sigma-2</td><td>1</td><td>150</td><td> 2000000</td><td>megahit</td><td>0.111111/mean-10-sigma-2/1/150/2000000/megahit/features.tsv.gz </td><td>--art-paired --art-mflen 350 --art-sdev 75 --rndSeed 8712 --art-qprof1 data/art_error_profiles/HiSeq2500L150R1.txt --art-qprof2 data/art_error_profiles/HiSeq2500L150R2.txt</td><td>cami_err</td><td>mean350-stdev75</td></tr>\n",
       "</tbody>\n",
       "</table>\n"
      ],
      "text/latex": [
       "A tidytable: 26 × 10\n",
       "\\begin{tabular}{llllllllll}\n",
       " richness & abundance\\_distribution & rep & read\\_length & read\\_depth & assembler & feature\\_file & MGSIM\\_reads\\_params & error\\_profile & insert\\_size\\\\\n",
       " <dbl> & <chr> & <int> & <int> & <int> & <chr> & <chr> & <chr> & <chr> & <chr>\\\\\n",
       "\\hline\n",
       "\t 0.555555 & mean-10-sigma-0.5 & 2 & 150 & 12000000 & metaspades & 0.555555/mean-10-sigma-0.5/2/150/12000000/metaspades/features.tsv.gz & --art-paired --art-mflen 270 --art-sdev 50 --rndSeed 8712 --art-qprof1 data/art\\_error\\_profiles/HiSeq2500L150R1.txt --art-qprof2 data/art\\_error\\_profiles/HiSeq2500L150R2.txt & cami\\_err & mean270-stdev50\\\\\n",
       "\t 0.333333 & mean-10-sigma-2   & 1 & 100 &  2000000 & metaspades & 0.333333/mean-10-sigma-2/1/100/2000000/metaspades/features.tsv.gz    & --art-paired --art-mflen 270 --art-sdev 50 --rndSeed 8712 --art-qprof1 data/art\\_error\\_profiles/HiSeq2500L150R1.txt --art-qprof2 data/art\\_error\\_profiles/HiSeq2500L150R2.txt & cami\\_err & mean270-stdev50\\\\\n",
       "\t ⋮ & ⋮ & ⋮ & ⋮ & ⋮ & ⋮ & ⋮ & ⋮ & ⋮ & ⋮\\\\\n",
       "\t 0.005555 & mean-10-sigma-1 & 1 & 100 & 20000000 & megahit & 0.005555/mean-10-sigma-1/1/100/20000000/megahit/features.tsv.gz & --art-paired --art-mflen 350 --art-sdev 75 --rndSeed 8712 --art-qprof1 data/art\\_error\\_profiles/HiSeq2500L150R1.txt --art-qprof2 data/art\\_error\\_profiles/HiSeq2500L150R2.txt & cami\\_err & mean350-stdev75\\\\\n",
       "\t 0.111111 & mean-10-sigma-2 & 1 & 150 &  2000000 & megahit & 0.111111/mean-10-sigma-2/1/150/2000000/megahit/features.tsv.gz  & --art-paired --art-mflen 350 --art-sdev 75 --rndSeed 8712 --art-qprof1 data/art\\_error\\_profiles/HiSeq2500L150R1.txt --art-qprof2 data/art\\_error\\_profiles/HiSeq2500L150R2.txt & cami\\_err & mean350-stdev75\\\\\n",
       "\\end{tabular}\n"
      ],
      "text/markdown": [
       "\n",
       "A tidytable: 26 × 10\n",
       "\n",
       "| richness &lt;dbl&gt; | abundance_distribution &lt;chr&gt; | rep &lt;int&gt; | read_length &lt;int&gt; | read_depth &lt;int&gt; | assembler &lt;chr&gt; | feature_file &lt;chr&gt; | MGSIM_reads_params &lt;chr&gt; | error_profile &lt;chr&gt; | insert_size &lt;chr&gt; |\n",
       "|---|---|---|---|---|---|---|---|---|---|\n",
       "| 0.555555 | mean-10-sigma-0.5 | 2 | 150 | 12000000 | metaspades | 0.555555/mean-10-sigma-0.5/2/150/12000000/metaspades/features.tsv.gz | --art-paired --art-mflen 270 --art-sdev 50 --rndSeed 8712 --art-qprof1 data/art_error_profiles/HiSeq2500L150R1.txt --art-qprof2 data/art_error_profiles/HiSeq2500L150R2.txt | cami_err | mean270-stdev50 |\n",
       "| 0.333333 | mean-10-sigma-2   | 1 | 100 |  2000000 | metaspades | 0.333333/mean-10-sigma-2/1/100/2000000/metaspades/features.tsv.gz    | --art-paired --art-mflen 270 --art-sdev 50 --rndSeed 8712 --art-qprof1 data/art_error_profiles/HiSeq2500L150R1.txt --art-qprof2 data/art_error_profiles/HiSeq2500L150R2.txt | cami_err | mean270-stdev50 |\n",
       "| ⋮ | ⋮ | ⋮ | ⋮ | ⋮ | ⋮ | ⋮ | ⋮ | ⋮ | ⋮ |\n",
       "| 0.005555 | mean-10-sigma-1 | 1 | 100 | 20000000 | megahit | 0.005555/mean-10-sigma-1/1/100/20000000/megahit/features.tsv.gz | --art-paired --art-mflen 350 --art-sdev 75 --rndSeed 8712 --art-qprof1 data/art_error_profiles/HiSeq2500L150R1.txt --art-qprof2 data/art_error_profiles/HiSeq2500L150R2.txt | cami_err | mean350-stdev75 |\n",
       "| 0.111111 | mean-10-sigma-2 | 1 | 150 |  2000000 | megahit | 0.111111/mean-10-sigma-2/1/150/2000000/megahit/features.tsv.gz  | --art-paired --art-mflen 350 --art-sdev 75 --rndSeed 8712 --art-qprof1 data/art_error_profiles/HiSeq2500L150R1.txt --art-qprof2 data/art_error_profiles/HiSeq2500L150R2.txt | cami_err | mean350-stdev75 |\n",
       "\n"
      ],
      "text/plain": [
       "   richness abundance_distribution rep read_length read_depth assembler \n",
       "1  0.555555 mean-10-sigma-0.5      2   150         12000000   metaspades\n",
       "2  0.333333 mean-10-sigma-2        1   100          2000000   metaspades\n",
       "⋮  ⋮        ⋮                      ⋮   ⋮           ⋮          ⋮         \n",
       "25 0.005555 mean-10-sigma-1        1   100         20000000   megahit   \n",
       "26 0.111111 mean-10-sigma-2        1   150          2000000   megahit   \n",
       "   feature_file                                                        \n",
       "1  0.555555/mean-10-sigma-0.5/2/150/12000000/metaspades/features.tsv.gz\n",
       "2  0.333333/mean-10-sigma-2/1/100/2000000/metaspades/features.tsv.gz   \n",
       "⋮  ⋮                                                                   \n",
       "25 0.005555/mean-10-sigma-1/1/100/20000000/megahit/features.tsv.gz     \n",
       "26 0.111111/mean-10-sigma-2/1/150/2000000/megahit/features.tsv.gz      \n",
       "   MGSIM_reads_params                                                                                                                                                         \n",
       "1  --art-paired --art-mflen 270 --art-sdev 50 --rndSeed 8712 --art-qprof1 data/art_error_profiles/HiSeq2500L150R1.txt --art-qprof2 data/art_error_profiles/HiSeq2500L150R2.txt\n",
       "2  --art-paired --art-mflen 270 --art-sdev 50 --rndSeed 8712 --art-qprof1 data/art_error_profiles/HiSeq2500L150R1.txt --art-qprof2 data/art_error_profiles/HiSeq2500L150R2.txt\n",
       "⋮  ⋮                                                                                                                                                                          \n",
       "25 --art-paired --art-mflen 350 --art-sdev 75 --rndSeed 8712 --art-qprof1 data/art_error_profiles/HiSeq2500L150R1.txt --art-qprof2 data/art_error_profiles/HiSeq2500L150R2.txt\n",
       "26 --art-paired --art-mflen 350 --art-sdev 75 --rndSeed 8712 --art-qprof1 data/art_error_profiles/HiSeq2500L150R1.txt --art-qprof2 data/art_error_profiles/HiSeq2500L150R2.txt\n",
       "   error_profile insert_size    \n",
       "1  cami_err      mean270-stdev50\n",
       "2  cami_err      mean270-stdev50\n",
       "⋮  ⋮             ⋮              \n",
       "25 cami_err      mean350-stdev75\n",
       "26 cami_err      mean350-stdev75"
      ]
     },
     "metadata": {},
     "output_type": "display_data"
    }
   ],
   "source": [
    "# checking overlap with to-do parameter sets\n",
    "fillers %>%\n",
    "    inner_join.(train_f, keys)"
   ]
  },
  {
   "cell_type": "code",
   "execution_count": 166,
   "metadata": {
    "ExecuteTime": {
     "end_time": "2022-06-27T14:09:13.667482Z",
     "start_time": "2022-06-27T14:09:13.605Z"
    }
   },
   "outputs": [
    {
     "data": {
      "text/html": [
       "<table class=\"dataframe\">\n",
       "<caption>A tidytable: 0 × 8</caption>\n",
       "<thead>\n",
       "\t<tr><th scope=col>rep</th><th scope=col>richness</th><th scope=col>read_length</th><th scope=col>read_depth</th><th scope=col>abundance_distribution</th><th scope=col>assembler</th><th scope=col>error_profile</th><th scope=col>insert_size</th></tr>\n",
       "\t<tr><th scope=col>&lt;dbl&gt;</th><th scope=col>&lt;dbl&gt;</th><th scope=col>&lt;dbl&gt;</th><th scope=col>&lt;dbl&gt;</th><th scope=col>&lt;fct&gt;</th><th scope=col>&lt;fct&gt;</th><th scope=col>&lt;fct&gt;</th><th scope=col>&lt;fct&gt;</th></tr>\n",
       "</thead>\n",
       "<tbody>\n",
       "</tbody>\n",
       "</table>\n"
      ],
      "text/latex": [
       "A tidytable: 0 × 8\n",
       "\\begin{tabular}{llllllll}\n",
       " rep & richness & read\\_length & read\\_depth & abundance\\_distribution & assembler & error\\_profile & insert\\_size\\\\\n",
       " <dbl> & <dbl> & <dbl> & <dbl> & <fct> & <fct> & <fct> & <fct>\\\\\n",
       "\\hline\n",
       "\\end{tabular}\n"
      ],
      "text/markdown": [
       "\n",
       "A tidytable: 0 × 8\n",
       "\n",
       "| rep &lt;dbl&gt; | richness &lt;dbl&gt; | read_length &lt;dbl&gt; | read_depth &lt;dbl&gt; | abundance_distribution &lt;fct&gt; | assembler &lt;fct&gt; | error_profile &lt;fct&gt; | insert_size &lt;fct&gt; |\n",
       "|---|---|---|---|---|---|---|---|\n",
       "\n"
      ],
      "text/plain": [
       "     rep richness read_length read_depth abundance_distribution assembler\n",
       "     error_profile insert_size"
      ]
     },
     "metadata": {},
     "output_type": "display_data"
    }
   ],
   "source": [
    "# any remaining?\n",
    "train_f %>%\n",
    "    anti_join.(fillers, keys)"
   ]
  },
  {
   "cell_type": "markdown",
   "metadata": {},
   "source": [
    "### Copying samples"
   ]
  },
  {
   "cell_type": "code",
   "execution_count": 198,
   "metadata": {
    "ExecuteTime": {
     "end_time": "2022-06-27T14:23:56.902923Z",
     "start_time": "2022-06-27T14:23:56.823Z"
    }
   },
   "outputs": [
    {
     "data": {
      "text/html": [
       "<table class=\"dataframe\">\n",
       "<caption>A data.table: 26 × 9</caption>\n",
       "<thead>\n",
       "\t<tr><th scope=col>config</th><th scope=col>rep</th><th scope=col>richness</th><th scope=col>read_length</th><th scope=col>read_depth</th><th scope=col>abundance_distribution</th><th scope=col>assembler</th><th scope=col>error_profile</th><th scope=col>insert_size</th></tr>\n",
       "\t<tr><th scope=col>&lt;int&gt;</th><th scope=col>&lt;int&gt;</th><th scope=col>&lt;dbl&gt;</th><th scope=col>&lt;int&gt;</th><th scope=col>&lt;dbl&gt;</th><th scope=col>&lt;chr&gt;</th><th scope=col>&lt;chr&gt;</th><th scope=col>&lt;chr&gt;</th><th scope=col>&lt;chr&gt;</th></tr>\n",
       "</thead>\n",
       "<tbody>\n",
       "\t<tr><td>1</td><td>2</td><td>0.555555</td><td>150</td><td>1.2e+07</td><td>mean-10-sigma-0.5</td><td>metaspades</td><td>cami_err</td><td>mean270-stdev50</td></tr>\n",
       "\t<tr><td>1</td><td>2</td><td>0.555555</td><td>150</td><td>1.2e+07</td><td>mean-10-sigma-0.5</td><td>megahit   </td><td>cami_err</td><td>mean270-stdev50</td></tr>\n",
       "\t<tr><td>⋮</td><td>⋮</td><td>⋮</td><td>⋮</td><td>⋮</td><td>⋮</td><td>⋮</td><td>⋮</td><td>⋮</td></tr>\n",
       "\t<tr><td>20</td><td>1</td><td>0.333333</td><td>100</td><td>2e+07</td><td>mean-10-sigma-1</td><td>metaspades</td><td>cami_err</td><td>mean350-stdev75</td></tr>\n",
       "\t<tr><td>21</td><td>1</td><td>0.111111</td><td>150</td><td>2e+06</td><td>mean-10-sigma-2</td><td>megahit   </td><td>cami_err</td><td>mean350-stdev75</td></tr>\n",
       "</tbody>\n",
       "</table>\n"
      ],
      "text/latex": [
       "A data.table: 26 × 9\n",
       "\\begin{tabular}{lllllllll}\n",
       " config & rep & richness & read\\_length & read\\_depth & abundance\\_distribution & assembler & error\\_profile & insert\\_size\\\\\n",
       " <int> & <int> & <dbl> & <int> & <dbl> & <chr> & <chr> & <chr> & <chr>\\\\\n",
       "\\hline\n",
       "\t 1 & 2 & 0.555555 & 150 & 1.2e+07 & mean-10-sigma-0.5 & metaspades & cami\\_err & mean270-stdev50\\\\\n",
       "\t 1 & 2 & 0.555555 & 150 & 1.2e+07 & mean-10-sigma-0.5 & megahit    & cami\\_err & mean270-stdev50\\\\\n",
       "\t ⋮ & ⋮ & ⋮ & ⋮ & ⋮ & ⋮ & ⋮ & ⋮ & ⋮\\\\\n",
       "\t 20 & 1 & 0.333333 & 100 & 2e+07 & mean-10-sigma-1 & metaspades & cami\\_err & mean350-stdev75\\\\\n",
       "\t 21 & 1 & 0.111111 & 150 & 2e+06 & mean-10-sigma-2 & megahit    & cami\\_err & mean350-stdev75\\\\\n",
       "\\end{tabular}\n"
      ],
      "text/markdown": [
       "\n",
       "A data.table: 26 × 9\n",
       "\n",
       "| config &lt;int&gt; | rep &lt;int&gt; | richness &lt;dbl&gt; | read_length &lt;int&gt; | read_depth &lt;dbl&gt; | abundance_distribution &lt;chr&gt; | assembler &lt;chr&gt; | error_profile &lt;chr&gt; | insert_size &lt;chr&gt; |\n",
       "|---|---|---|---|---|---|---|---|---|\n",
       "| 1 | 2 | 0.555555 | 150 | 1.2e+07 | mean-10-sigma-0.5 | metaspades | cami_err | mean270-stdev50 |\n",
       "| 1 | 2 | 0.555555 | 150 | 1.2e+07 | mean-10-sigma-0.5 | megahit    | cami_err | mean270-stdev50 |\n",
       "| ⋮ | ⋮ | ⋮ | ⋮ | ⋮ | ⋮ | ⋮ | ⋮ | ⋮ |\n",
       "| 20 | 1 | 0.333333 | 100 | 2e+07 | mean-10-sigma-1 | metaspades | cami_err | mean350-stdev75 |\n",
       "| 21 | 1 | 0.111111 | 150 | 2e+06 | mean-10-sigma-2 | megahit    | cami_err | mean350-stdev75 |\n",
       "\n"
      ],
      "text/plain": [
       "   config rep richness read_length read_depth abundance_distribution assembler \n",
       "1  1      2   0.555555 150         1.2e+07    mean-10-sigma-0.5      metaspades\n",
       "2  1      2   0.555555 150         1.2e+07    mean-10-sigma-0.5      megahit   \n",
       "⋮  ⋮      ⋮   ⋮        ⋮           ⋮          ⋮                      ⋮         \n",
       "25 20     1   0.333333 100         2e+07      mean-10-sigma-1        metaspades\n",
       "26 21     1   0.111111 150         2e+06      mean-10-sigma-2        megahit   \n",
       "   error_profile insert_size    \n",
       "1  cami_err      mean270-stdev50\n",
       "2  cami_err      mean270-stdev50\n",
       "⋮  ⋮             ⋮              \n",
       "25 cami_err      mean350-stdev75\n",
       "26 cami_err      mean350-stdev75"
      ]
     },
     "metadata": {},
     "output_type": "display_data"
    }
   ],
   "source": [
    "F = '/ebio/abt3_projects/databases_no-backup/DeepMAsED/version2/resmico-sm/ftp/n9k-train_missing/todo.tsv'\n",
    "todo = Fread(F)\n",
    "todo"
   ]
  },
  {
   "cell_type": "code",
   "execution_count": 199,
   "metadata": {
    "ExecuteTime": {
     "end_time": "2022-06-27T14:23:58.363876Z",
     "start_time": "2022-06-27T14:23:58.305Z"
    }
   },
   "outputs": [],
   "source": [
    "filler_dir = '/ebio/abt3_projects/databases_no-backup/DeepMAsED/version2/resmico-sm/ftp/n9k-train_missing'\n",
    "target_dir = '/ebio/abt3_projects/databases_no-backup/DeepMAsED/version2/resmico-sm/ftp/n9k-train/features'"
   ]
  },
  {
   "cell_type": "code",
   "execution_count": 206,
   "metadata": {
    "ExecuteTime": {
     "end_time": "2022-06-27T14:34:39.365554Z",
     "start_time": "2022-06-27T14:32:05.312Z"
    }
   },
   "outputs": [
    {
     "data": {
      "text/html": [
       "26"
      ],
      "text/latex": [
       "26"
      ],
      "text/markdown": [
       "26"
      ],
      "text/plain": [
       "[1] 26"
      ]
     },
     "metadata": {},
     "output_type": "display_data"
    }
   ],
   "source": [
    "cp_fillers = function(x, filler_dir, target_dir){\n",
    "    # files to copy\n",
    "    file_names = c('features_binary', 'features.tsv.gz', 'stats', 'toc')\n",
    "    # source\n",
    "    src_dir = file.path(filler_dir, x['insert_size'], x['config'],\n",
    "                        'features', x['richness'], x['abundance_distribution'],\n",
    "                        x['rep'], x['read_length'], as.integer(x['read_depth']),\n",
    "                        x['assembler']) \n",
    "    src_dir = gsub(' +', '', src_dir)\n",
    "    if(! dir.exists(src_dir)){\n",
    "        stop('Source directory does not exist: ', src_dir)\n",
    "    }\n",
    "    # destination\n",
    "    dst_dir = file.path(target_dir, x['error_profile'], x['richness'],\n",
    "                        x['abundance_distribution'], x['insert_size'],\n",
    "                        x['rep'], x['read_length'], as.integer(x['read_depth']),\n",
    "                        x['assembler'])\n",
    "    # creating destination directory\n",
    "    if(!dir.exists(dst_dir)){\n",
    "        make_dir(dst_dir, quiet=TRUE)\n",
    "    }\n",
    "    # for each file, copy\n",
    "    for(F in file_names){\n",
    "        # source\n",
    "        src_file = file.path(src_dir, F)\n",
    "        if(! file.exists(src_file)){\n",
    "            stop('Source file not found: ', src_file)\n",
    "        }\n",
    "        # destination\n",
    "        dst_file = file.path(dst_dir, F)\n",
    "        if(file.exists(dst_file)){\n",
    "            stop('Dest. file already exists: ', dst_file)\n",
    "        }\n",
    "        # copying\n",
    "        file.copy(src_file, dst_file)\n",
    "    }\n",
    "    return(dst_dir)\n",
    "}\n",
    "# running\n",
    "dst_dirs = todo %>%\n",
    "    apply(1, cp_fillers, filler_dir=filler_dir, target_dir=target_dir)\n",
    "dst_dirs %>% length"
   ]
  },
  {
   "cell_type": "markdown",
   "metadata": {},
   "source": [
    "### Creating new feature table"
   ]
  },
  {
   "cell_type": "code",
   "execution_count": 217,
   "metadata": {
    "ExecuteTime": {
     "end_time": "2022-06-27T14:40:11.513084Z",
     "start_time": "2022-06-27T14:40:11.417Z"
    }
   },
   "outputs": [
    {
     "name": "stdout",
     "output_type": "stream",
     "text": [
      "File written: /ebio/abt3_projects/databases_no-backup/DeepMAsED/version2/resmico-sm/ftp/n9k-train/feature_files.tsv \n"
     ]
    }
   ],
   "source": [
    "outfile = '/ebio/abt3_projects/databases_no-backup/DeepMAsED/version2/resmico-sm/ftp/n9k-train'\n",
    "outfile = file.path(outfile, 'feature_files.tsv')\n",
    "\n",
    "train_all %>%\n",
    "    select.(richness, abundance_distribution, insert_size, error_profile, \n",
    "            rep, read_length, read_depth, assembler) %>%\n",
    "    mutate.(read_depth = as.integer(read_depth)) %>%\n",
    "    mutate.(feature_file = file.path('features', error_profile, richness, \n",
    "                                     abundance_distribution, insert_size,\n",
    "                                     rep, read_length, read_depth,\n",
    "                                     assembler, 'features.tsv.gz')) %>%\n",
    "    write_table(outfile)"
   ]
  },
  {
   "cell_type": "code",
   "execution_count": null,
   "metadata": {},
   "outputs": [],
   "source": []
  },
  {
   "cell_type": "markdown",
   "metadata": {},
   "source": [
    "# --OLD--"
   ]
  },
  {
   "cell_type": "markdown",
   "metadata": {},
   "source": [
    "### TODO samples"
   ]
  },
  {
   "cell_type": "code",
   "execution_count": 197,
   "metadata": {
    "ExecuteTime": {
     "end_time": "2022-06-27T14:23:50.896893Z",
     "start_time": "2022-06-27T14:23:50.819Z"
    }
   },
   "outputs": [
    {
     "data": {
      "text/html": [
       "<table class=\"dataframe\">\n",
       "<caption>A data.table: 26 × 9</caption>\n",
       "<thead>\n",
       "\t<tr><th scope=col>config</th><th scope=col>rep</th><th scope=col>richness</th><th scope=col>read_length</th><th scope=col>read_depth</th><th scope=col>abundance_distribution</th><th scope=col>assembler</th><th scope=col>error_profile</th><th scope=col>insert_size</th></tr>\n",
       "\t<tr><th scope=col>&lt;int&gt;</th><th scope=col>&lt;int&gt;</th><th scope=col>&lt;dbl&gt;</th><th scope=col>&lt;int&gt;</th><th scope=col>&lt;dbl&gt;</th><th scope=col>&lt;chr&gt;</th><th scope=col>&lt;chr&gt;</th><th scope=col>&lt;chr&gt;</th><th scope=col>&lt;chr&gt;</th></tr>\n",
       "</thead>\n",
       "<tbody>\n",
       "\t<tr><td>1</td><td>2</td><td>0.555555</td><td>150</td><td>1.2e+07</td><td>mean-10-sigma-0.5</td><td>metaspades</td><td>cami_err</td><td>mean270-stdev50</td></tr>\n",
       "\t<tr><td>1</td><td>2</td><td>0.555555</td><td>150</td><td>1.2e+07</td><td>mean-10-sigma-0.5</td><td>megahit   </td><td>cami_err</td><td>mean270-stdev50</td></tr>\n",
       "\t<tr><td>⋮</td><td>⋮</td><td>⋮</td><td>⋮</td><td>⋮</td><td>⋮</td><td>⋮</td><td>⋮</td><td>⋮</td></tr>\n",
       "\t<tr><td>20</td><td>1</td><td>0.333333</td><td>100</td><td>2e+07</td><td>mean-10-sigma-1</td><td>metaspades</td><td>cami_err</td><td>mean350-stdev75</td></tr>\n",
       "\t<tr><td>21</td><td>1</td><td>0.111111</td><td>150</td><td>2e+06</td><td>mean-10-sigma-2</td><td>megahit   </td><td>cami_err</td><td>mean350-stdev75</td></tr>\n",
       "</tbody>\n",
       "</table>\n"
      ],
      "text/latex": [
       "A data.table: 26 × 9\n",
       "\\begin{tabular}{lllllllll}\n",
       " config & rep & richness & read\\_length & read\\_depth & abundance\\_distribution & assembler & error\\_profile & insert\\_size\\\\\n",
       " <int> & <int> & <dbl> & <int> & <dbl> & <chr> & <chr> & <chr> & <chr>\\\\\n",
       "\\hline\n",
       "\t 1 & 2 & 0.555555 & 150 & 1.2e+07 & mean-10-sigma-0.5 & metaspades & cami\\_err & mean270-stdev50\\\\\n",
       "\t 1 & 2 & 0.555555 & 150 & 1.2e+07 & mean-10-sigma-0.5 & megahit    & cami\\_err & mean270-stdev50\\\\\n",
       "\t ⋮ & ⋮ & ⋮ & ⋮ & ⋮ & ⋮ & ⋮ & ⋮ & ⋮\\\\\n",
       "\t 20 & 1 & 0.333333 & 100 & 2e+07 & mean-10-sigma-1 & metaspades & cami\\_err & mean350-stdev75\\\\\n",
       "\t 21 & 1 & 0.111111 & 150 & 2e+06 & mean-10-sigma-2 & megahit    & cami\\_err & mean350-stdev75\\\\\n",
       "\\end{tabular}\n"
      ],
      "text/markdown": [
       "\n",
       "A data.table: 26 × 9\n",
       "\n",
       "| config &lt;int&gt; | rep &lt;int&gt; | richness &lt;dbl&gt; | read_length &lt;int&gt; | read_depth &lt;dbl&gt; | abundance_distribution &lt;chr&gt; | assembler &lt;chr&gt; | error_profile &lt;chr&gt; | insert_size &lt;chr&gt; |\n",
       "|---|---|---|---|---|---|---|---|---|\n",
       "| 1 | 2 | 0.555555 | 150 | 1.2e+07 | mean-10-sigma-0.5 | metaspades | cami_err | mean270-stdev50 |\n",
       "| 1 | 2 | 0.555555 | 150 | 1.2e+07 | mean-10-sigma-0.5 | megahit    | cami_err | mean270-stdev50 |\n",
       "| ⋮ | ⋮ | ⋮ | ⋮ | ⋮ | ⋮ | ⋮ | ⋮ | ⋮ |\n",
       "| 20 | 1 | 0.333333 | 100 | 2e+07 | mean-10-sigma-1 | metaspades | cami_err | mean350-stdev75 |\n",
       "| 21 | 1 | 0.111111 | 150 | 2e+06 | mean-10-sigma-2 | megahit    | cami_err | mean350-stdev75 |\n",
       "\n"
      ],
      "text/plain": [
       "   config rep richness read_length read_depth abundance_distribution assembler \n",
       "1  1      2   0.555555 150         1.2e+07    mean-10-sigma-0.5      metaspades\n",
       "2  1      2   0.555555 150         1.2e+07    mean-10-sigma-0.5      megahit   \n",
       "⋮  ⋮      ⋮   ⋮        ⋮           ⋮          ⋮                      ⋮         \n",
       "25 20     1   0.333333 100         2e+07      mean-10-sigma-1        metaspades\n",
       "26 21     1   0.111111 150         2e+06      mean-10-sigma-2        megahit   \n",
       "   error_profile insert_size    \n",
       "1  cami_err      mean270-stdev50\n",
       "2  cami_err      mean270-stdev50\n",
       "⋮  ⋮             ⋮              \n",
       "25 cami_err      mean350-stdev75\n",
       "26 cami_err      mean350-stdev75"
      ]
     },
     "metadata": {},
     "output_type": "display_data"
    }
   ],
   "source": [
    "F = '/ebio/abt3_projects/databases_no-backup/DeepMAsED/version2/resmico-sm/ftp/n9k-train_missing/todo.tsv'\n",
    "todo = Fread(F)\n",
    "todo"
   ]
  },
  {
   "cell_type": "code",
   "execution_count": 147,
   "metadata": {
    "ExecuteTime": {
     "end_time": "2022-06-26T12:21:16.112466Z",
     "start_time": "2022-06-26T12:21:16.040Z"
    }
   },
   "outputs": [
    {
     "data": {
      "text/html": [
       "<table class=\"dataframe\">\n",
       "<caption>A tidytable: 22 × 9</caption>\n",
       "<thead>\n",
       "\t<tr><th scope=col>config</th><th scope=col>rep</th><th scope=col>richness</th><th scope=col>read_length</th><th scope=col>read_depth</th><th scope=col>abundance_distribution</th><th scope=col>assembler</th><th scope=col>error_profile</th><th scope=col>insert_size</th></tr>\n",
       "\t<tr><th scope=col>&lt;int&gt;</th><th scope=col>&lt;int&gt;</th><th scope=col>&lt;dbl&gt;</th><th scope=col>&lt;int&gt;</th><th scope=col>&lt;dbl&gt;</th><th scope=col>&lt;chr&gt;</th><th scope=col>&lt;chr&gt;</th><th scope=col>&lt;chr&gt;</th><th scope=col>&lt;chr&gt;</th></tr>\n",
       "</thead>\n",
       "<tbody>\n",
       "\t<tr><td>2</td><td>2</td><td>0.005555</td><td>100</td><td>1.2e+07</td><td>mean-10-sigma-0.5</td><td>megahit   </td><td>cami_err</td><td>mean270-stdev50</td></tr>\n",
       "\t<tr><td>1</td><td>2</td><td>0.555555</td><td>150</td><td>1.2e+07</td><td>mean-10-sigma-0.5</td><td>metaspades</td><td>cami_err</td><td>mean270-stdev50</td></tr>\n",
       "\t<tr><td>⋮</td><td>⋮</td><td>⋮</td><td>⋮</td><td>⋮</td><td>⋮</td><td>⋮</td><td>⋮</td><td>⋮</td></tr>\n",
       "\t<tr><td>20</td><td>1</td><td>0.333333</td><td>100</td><td>2e+07</td><td>mean-10-sigma-1</td><td>metaspades</td><td>cami_err</td><td>mean350-stdev75</td></tr>\n",
       "\t<tr><td> 0</td><td>1</td><td>0.111111</td><td>150</td><td>2e+06</td><td>mean-10-sigma-2</td><td>megahit   </td><td>cami_err</td><td>mean350-stdev75</td></tr>\n",
       "</tbody>\n",
       "</table>\n"
      ],
      "text/latex": [
       "A tidytable: 22 × 9\n",
       "\\begin{tabular}{lllllllll}\n",
       " config & rep & richness & read\\_length & read\\_depth & abundance\\_distribution & assembler & error\\_profile & insert\\_size\\\\\n",
       " <int> & <int> & <dbl> & <int> & <dbl> & <chr> & <chr> & <chr> & <chr>\\\\\n",
       "\\hline\n",
       "\t 2 & 2 & 0.005555 & 100 & 1.2e+07 & mean-10-sigma-0.5 & megahit    & cami\\_err & mean270-stdev50\\\\\n",
       "\t 1 & 2 & 0.555555 & 150 & 1.2e+07 & mean-10-sigma-0.5 & metaspades & cami\\_err & mean270-stdev50\\\\\n",
       "\t ⋮ & ⋮ & ⋮ & ⋮ & ⋮ & ⋮ & ⋮ & ⋮ & ⋮\\\\\n",
       "\t 20 & 1 & 0.333333 & 100 & 2e+07 & mean-10-sigma-1 & metaspades & cami\\_err & mean350-stdev75\\\\\n",
       "\t  0 & 1 & 0.111111 & 150 & 2e+06 & mean-10-sigma-2 & megahit    & cami\\_err & mean350-stdev75\\\\\n",
       "\\end{tabular}\n"
      ],
      "text/markdown": [
       "\n",
       "A tidytable: 22 × 9\n",
       "\n",
       "| config &lt;int&gt; | rep &lt;int&gt; | richness &lt;dbl&gt; | read_length &lt;int&gt; | read_depth &lt;dbl&gt; | abundance_distribution &lt;chr&gt; | assembler &lt;chr&gt; | error_profile &lt;chr&gt; | insert_size &lt;chr&gt; |\n",
       "|---|---|---|---|---|---|---|---|---|\n",
       "| 2 | 2 | 0.005555 | 100 | 1.2e+07 | mean-10-sigma-0.5 | megahit    | cami_err | mean270-stdev50 |\n",
       "| 1 | 2 | 0.555555 | 150 | 1.2e+07 | mean-10-sigma-0.5 | metaspades | cami_err | mean270-stdev50 |\n",
       "| ⋮ | ⋮ | ⋮ | ⋮ | ⋮ | ⋮ | ⋮ | ⋮ | ⋮ |\n",
       "| 20 | 1 | 0.333333 | 100 | 2e+07 | mean-10-sigma-1 | metaspades | cami_err | mean350-stdev75 |\n",
       "|  0 | 1 | 0.111111 | 150 | 2e+06 | mean-10-sigma-2 | megahit    | cami_err | mean350-stdev75 |\n",
       "\n"
      ],
      "text/plain": [
       "   config rep richness read_length read_depth abundance_distribution assembler \n",
       "1  2      2   0.005555 100         1.2e+07    mean-10-sigma-0.5      megahit   \n",
       "2  1      2   0.555555 150         1.2e+07    mean-10-sigma-0.5      metaspades\n",
       "⋮  ⋮      ⋮   ⋮        ⋮           ⋮          ⋮                      ⋮         \n",
       "21 20     1   0.333333 100         2e+07      mean-10-sigma-1        metaspades\n",
       "22  0     1   0.111111 150         2e+06      mean-10-sigma-2        megahit   \n",
       "   error_profile insert_size    \n",
       "1  cami_err      mean270-stdev50\n",
       "2  cami_err      mean270-stdev50\n",
       "⋮  ⋮             ⋮              \n",
       "21 cami_err      mean350-stdev75\n",
       "22 cami_err      mean350-stdev75"
      ]
     },
     "metadata": {},
     "output_type": "display_data"
    }
   ],
   "source": [
    "todo %>%\n",
    "    semi_join.(fillers, keys) %>%\n",
    "    arrange.(insert_size, error_profile, abundance_distribution, read_depth, read_length, richness)"
   ]
  },
  {
   "cell_type": "code",
   "execution_count": 148,
   "metadata": {
    "ExecuteTime": {
     "end_time": "2022-06-26T12:21:17.155486Z",
     "start_time": "2022-06-26T12:21:17.094Z"
    }
   },
   "outputs": [
    {
     "data": {
      "text/html": [
       "<table class=\"dataframe\">\n",
       "<caption>A tidytable: 4 × 9</caption>\n",
       "<thead>\n",
       "\t<tr><th scope=col>config</th><th scope=col>rep</th><th scope=col>richness</th><th scope=col>read_length</th><th scope=col>read_depth</th><th scope=col>abundance_distribution</th><th scope=col>assembler</th><th scope=col>error_profile</th><th scope=col>insert_size</th></tr>\n",
       "\t<tr><th scope=col>&lt;int&gt;</th><th scope=col>&lt;int&gt;</th><th scope=col>&lt;dbl&gt;</th><th scope=col>&lt;int&gt;</th><th scope=col>&lt;dbl&gt;</th><th scope=col>&lt;chr&gt;</th><th scope=col>&lt;chr&gt;</th><th scope=col>&lt;chr&gt;</th><th scope=col>&lt;chr&gt;</th></tr>\n",
       "</thead>\n",
       "<tbody>\n",
       "\t<tr><td>5</td><td>1</td><td>0.005555</td><td>100</td><td>5e+05</td><td>mean-10-sigma-0.5</td><td>metaspades</td><td>cami_err</td><td>mean350-stdev75</td></tr>\n",
       "\t<tr><td>5</td><td>1</td><td>0.005555</td><td>100</td><td>5e+05</td><td>mean-10-sigma-0.5</td><td>megahit   </td><td>cami_err</td><td>mean350-stdev75</td></tr>\n",
       "\t<tr><td>6</td><td>1</td><td>0.005555</td><td>150</td><td>5e+05</td><td>mean-10-sigma-0.5</td><td>megahit   </td><td>cami_err</td><td>mean350-stdev75</td></tr>\n",
       "\t<tr><td>7</td><td>1</td><td>0.555555</td><td>150</td><td>5e+05</td><td>mean-10-sigma-0.5</td><td>megahit   </td><td>cami_err</td><td>mean350-stdev75</td></tr>\n",
       "</tbody>\n",
       "</table>\n"
      ],
      "text/latex": [
       "A tidytable: 4 × 9\n",
       "\\begin{tabular}{lllllllll}\n",
       " config & rep & richness & read\\_length & read\\_depth & abundance\\_distribution & assembler & error\\_profile & insert\\_size\\\\\n",
       " <int> & <int> & <dbl> & <int> & <dbl> & <chr> & <chr> & <chr> & <chr>\\\\\n",
       "\\hline\n",
       "\t 5 & 1 & 0.005555 & 100 & 5e+05 & mean-10-sigma-0.5 & metaspades & cami\\_err & mean350-stdev75\\\\\n",
       "\t 5 & 1 & 0.005555 & 100 & 5e+05 & mean-10-sigma-0.5 & megahit    & cami\\_err & mean350-stdev75\\\\\n",
       "\t 6 & 1 & 0.005555 & 150 & 5e+05 & mean-10-sigma-0.5 & megahit    & cami\\_err & mean350-stdev75\\\\\n",
       "\t 7 & 1 & 0.555555 & 150 & 5e+05 & mean-10-sigma-0.5 & megahit    & cami\\_err & mean350-stdev75\\\\\n",
       "\\end{tabular}\n"
      ],
      "text/markdown": [
       "\n",
       "A tidytable: 4 × 9\n",
       "\n",
       "| config &lt;int&gt; | rep &lt;int&gt; | richness &lt;dbl&gt; | read_length &lt;int&gt; | read_depth &lt;dbl&gt; | abundance_distribution &lt;chr&gt; | assembler &lt;chr&gt; | error_profile &lt;chr&gt; | insert_size &lt;chr&gt; |\n",
       "|---|---|---|---|---|---|---|---|---|\n",
       "| 5 | 1 | 0.005555 | 100 | 5e+05 | mean-10-sigma-0.5 | metaspades | cami_err | mean350-stdev75 |\n",
       "| 5 | 1 | 0.005555 | 100 | 5e+05 | mean-10-sigma-0.5 | megahit    | cami_err | mean350-stdev75 |\n",
       "| 6 | 1 | 0.005555 | 150 | 5e+05 | mean-10-sigma-0.5 | megahit    | cami_err | mean350-stdev75 |\n",
       "| 7 | 1 | 0.555555 | 150 | 5e+05 | mean-10-sigma-0.5 | megahit    | cami_err | mean350-stdev75 |\n",
       "\n"
      ],
      "text/plain": [
       "  config rep richness read_length read_depth abundance_distribution assembler \n",
       "1 5      1   0.005555 100         5e+05      mean-10-sigma-0.5      metaspades\n",
       "2 5      1   0.005555 100         5e+05      mean-10-sigma-0.5      megahit   \n",
       "3 6      1   0.005555 150         5e+05      mean-10-sigma-0.5      megahit   \n",
       "4 7      1   0.555555 150         5e+05      mean-10-sigma-0.5      megahit   \n",
       "  error_profile insert_size    \n",
       "1 cami_err      mean350-stdev75\n",
       "2 cami_err      mean350-stdev75\n",
       "3 cami_err      mean350-stdev75\n",
       "4 cami_err      mean350-stdev75"
      ]
     },
     "metadata": {},
     "output_type": "display_data"
    }
   ],
   "source": [
    "# still to do\n",
    "df.dims(30)\n",
    "todo %>%\n",
    "    anti_join.(fillers, keys) %>%\n",
    "    arrange.(insert_size, error_profile, abundance_distribution, read_depth, read_length, richness)\n",
    "df.dims()"
   ]
  },
  {
   "cell_type": "code",
   "execution_count": 150,
   "metadata": {
    "ExecuteTime": {
     "end_time": "2022-06-26T12:23:11.206931Z",
     "start_time": "2022-06-26T12:23:11.075Z"
    }
   },
   "outputs": [
    {
     "data": {
      "text/html": [
       "<table class=\"dataframe\">\n",
       "<caption>A tidytable: 2 × 9</caption>\n",
       "<thead>\n",
       "\t<tr><th scope=col>config</th><th scope=col>rep</th><th scope=col>richness</th><th scope=col>read_length</th><th scope=col>read_depth</th><th scope=col>abundance_distribution</th><th scope=col>assembler</th><th scope=col>error_profile</th><th scope=col>insert_size</th></tr>\n",
       "\t<tr><th scope=col>&lt;int&gt;</th><th scope=col>&lt;int&gt;</th><th scope=col>&lt;dbl&gt;</th><th scope=col>&lt;int&gt;</th><th scope=col>&lt;dbl&gt;</th><th scope=col>&lt;chr&gt;</th><th scope=col>&lt;chr&gt;</th><th scope=col>&lt;chr&gt;</th><th scope=col>&lt;chr&gt;</th></tr>\n",
       "</thead>\n",
       "<tbody>\n",
       "\t<tr><td>5</td><td>1</td><td>0.005555</td><td>100</td><td>5e+05</td><td>mean-10-sigma-0.5</td><td>metaspades</td><td>cami_err</td><td>mean350-stdev75</td></tr>\n",
       "\t<tr><td>5</td><td>1</td><td>0.005555</td><td>100</td><td>5e+05</td><td>mean-10-sigma-0.5</td><td>megahit   </td><td>cami_err</td><td>mean350-stdev75</td></tr>\n",
       "</tbody>\n",
       "</table>\n"
      ],
      "text/latex": [
       "A tidytable: 2 × 9\n",
       "\\begin{tabular}{lllllllll}\n",
       " config & rep & richness & read\\_length & read\\_depth & abundance\\_distribution & assembler & error\\_profile & insert\\_size\\\\\n",
       " <int> & <int> & <dbl> & <int> & <dbl> & <chr> & <chr> & <chr> & <chr>\\\\\n",
       "\\hline\n",
       "\t 5 & 1 & 0.005555 & 100 & 5e+05 & mean-10-sigma-0.5 & metaspades & cami\\_err & mean350-stdev75\\\\\n",
       "\t 5 & 1 & 0.005555 & 100 & 5e+05 & mean-10-sigma-0.5 & megahit    & cami\\_err & mean350-stdev75\\\\\n",
       "\\end{tabular}\n"
      ],
      "text/markdown": [
       "\n",
       "A tidytable: 2 × 9\n",
       "\n",
       "| config &lt;int&gt; | rep &lt;int&gt; | richness &lt;dbl&gt; | read_length &lt;int&gt; | read_depth &lt;dbl&gt; | abundance_distribution &lt;chr&gt; | assembler &lt;chr&gt; | error_profile &lt;chr&gt; | insert_size &lt;chr&gt; |\n",
       "|---|---|---|---|---|---|---|---|---|\n",
       "| 5 | 1 | 0.005555 | 100 | 5e+05 | mean-10-sigma-0.5 | metaspades | cami_err | mean350-stdev75 |\n",
       "| 5 | 1 | 0.005555 | 100 | 5e+05 | mean-10-sigma-0.5 | megahit    | cami_err | mean350-stdev75 |\n",
       "\n"
      ],
      "text/plain": [
       "  config rep richness read_length read_depth abundance_distribution assembler \n",
       "1 5      1   0.005555 100         5e+05      mean-10-sigma-0.5      metaspades\n",
       "2 5      1   0.005555 100         5e+05      mean-10-sigma-0.5      megahit   \n",
       "  error_profile insert_size    \n",
       "1 cami_err      mean350-stdev75\n",
       "2 cami_err      mean350-stdev75"
      ]
     },
     "metadata": {},
     "output_type": "display_data"
    }
   ],
   "source": [
    "todo %>%\n",
    "    filter.(config == 5)"
   ]
  },
  {
   "cell_type": "markdown",
   "metadata": {},
   "source": [
    "# sessionInfo"
   ]
  },
  {
   "cell_type": "code",
   "execution_count": 15,
   "metadata": {
    "ExecuteTime": {
     "end_time": "2022-06-08T12:15:21.605839Z",
     "start_time": "2022-06-08T12:15:21.432Z"
    }
   },
   "outputs": [
    {
     "data": {
      "text/plain": [
       "R version 4.1.1 (2021-08-10)\n",
       "Platform: x86_64-conda-linux-gnu (64-bit)\n",
       "Running under: Ubuntu 18.04.6 LTS\n",
       "\n",
       "Matrix products: default\n",
       "BLAS/LAPACK: /tmp/global2/nyoungblut/code/general/conda_envs/general-tidyverse/lib/libopenblasp-r0.3.18.so\n",
       "\n",
       "locale:\n",
       " [1] LC_CTYPE=en_US.UTF-8       LC_NUMERIC=C              \n",
       " [3] LC_TIME=en_US.UTF-8        LC_COLLATE=en_US.UTF-8    \n",
       " [5] LC_MONETARY=en_US.UTF-8    LC_MESSAGES=en_US.UTF-8   \n",
       " [7] LC_PAPER=en_US.UTF-8       LC_NAME=C                 \n",
       " [9] LC_ADDRESS=C               LC_TELEPHONE=C            \n",
       "[11] LC_MEASUREMENT=en_US.UTF-8 LC_IDENTIFICATION=C       \n",
       "\n",
       "attached base packages:\n",
       "[1] stats     graphics  grDevices utils     datasets  methods   base     \n",
       "\n",
       "other attached packages:\n",
       "[1] clustermq_0.8.95.2 LeyLabRMisc_0.2.1  tidytable_0.6.6    data.table_1.14.2 \n",
       "[5] ggplot2_3.3.5      tidyr_1.1.4        dplyr_1.0.7       \n",
       "\n",
       "loaded via a namespace (and not attached):\n",
       " [1] Rcpp_1.0.7       plyr_1.8.6       pillar_1.6.4     compiler_4.1.1  \n",
       " [5] base64enc_0.1-3  tools_4.1.1      digest_0.6.29    uuid_1.0-3      \n",
       " [9] jsonlite_1.7.2   evaluate_0.14    lifecycle_1.0.1  tibble_3.1.6    \n",
       "[13] gtable_0.3.0     pkgconfig_2.0.3  rlang_0.4.12     IRdisplay_1.1   \n",
       "[17] IRkernel_1.3     fastmap_1.1.0    repr_1.1.4       withr_2.4.3     \n",
       "[21] generics_0.1.1   vctrs_0.3.8      grid_4.1.1       tidyselect_1.1.1\n",
       "[25] glue_1.6.0       R6_2.5.1         fansi_1.0.0      pbdZMQ_0.3-6    \n",
       "[29] purrr_0.3.4      magrittr_2.0.1   codetools_0.2-18 scales_1.1.1    \n",
       "[33] ellipsis_0.3.2   htmltools_0.5.2  colorspace_2.0-2 utf8_1.2.2      \n",
       "[37] munsell_0.5.0    crayon_1.4.2    "
      ]
     },
     "metadata": {},
     "output_type": "display_data"
    }
   ],
   "source": [
    "sessionInfo()"
   ]
  }
 ],
 "metadata": {
  "kernelspec": {
   "display_name": "R [conda env:general-tidyverse]",
   "language": "R",
   "name": "conda-env-general-tidyverse-r"
  },
  "language_info": {
   "codemirror_mode": "r",
   "file_extension": ".r",
   "mimetype": "text/x-r-source",
   "name": "R",
   "pygments_lexer": "r",
   "version": "4.1.1"
  },
  "toc": {
   "base_numbering": 1,
   "nav_menu": {},
   "number_sections": true,
   "sideBar": true,
   "skip_h1_title": false,
   "title_cell": "Table of Contents",
   "title_sidebar": "Contents",
   "toc_cell": true,
   "toc_position": {},
   "toc_section_display": true,
   "toc_window_display": true
  }
 },
 "nbformat": 4,
 "nbformat_minor": 4
}
