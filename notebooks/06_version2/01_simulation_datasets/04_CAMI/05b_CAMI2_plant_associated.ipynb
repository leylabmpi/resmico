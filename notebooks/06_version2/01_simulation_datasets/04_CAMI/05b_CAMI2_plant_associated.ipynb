{
 "cells": [
  {
   "cell_type": "markdown",
   "metadata": {
    "toc": true
   },
   "source": [
    "<h1>Table of Contents<span class=\"tocSkip\"></span></h1>\n",
    "<div class=\"toc\"><ul class=\"toc-item\"><li><span><a href=\"#Goal\" data-toc-modified-id=\"Goal-1\"><span class=\"toc-item-num\">1&nbsp;&nbsp;</span>Goal</a></span></li><li><span><a href=\"#Var\" data-toc-modified-id=\"Var-2\"><span class=\"toc-item-num\">2&nbsp;&nbsp;</span>Var</a></span></li><li><span><a href=\"#Init\" data-toc-modified-id=\"Init-3\"><span class=\"toc-item-num\">3&nbsp;&nbsp;</span>Init</a></span></li><li><span><a href=\"#Sample-table\" data-toc-modified-id=\"Sample-table-4\"><span class=\"toc-item-num\">4&nbsp;&nbsp;</span>Sample table</a></span></li><li><span><a href=\"#ResMiCo-SM\" data-toc-modified-id=\"ResMiCo-SM-5\"><span class=\"toc-item-num\">5&nbsp;&nbsp;</span>ResMiCo-SM</a></span><ul class=\"toc-item\"><li><ul class=\"toc-item\"><li><span><a href=\"#deinterleave-reads\" data-toc-modified-id=\"deinterleave-reads-5.0.1\"><span class=\"toc-item-num\">5.0.1&nbsp;&nbsp;</span>deinterleave reads</a></span></li><li><span><a href=\"#Config\" data-toc-modified-id=\"Config-5.0.2\"><span class=\"toc-item-num\">5.0.2&nbsp;&nbsp;</span>Config</a></span></li><li><span><a href=\"#Run\" data-toc-modified-id=\"Run-5.0.3\"><span class=\"toc-item-num\">5.0.3&nbsp;&nbsp;</span>Run</a></span></li></ul></li></ul></li><li><span><a href=\"#sessionInfo\" data-toc-modified-id=\"sessionInfo-6\"><span class=\"toc-item-num\">6&nbsp;&nbsp;</span>sessionInfo</a></span></li></ul></div>"
   ]
  },
  {
   "cell_type": "markdown",
   "metadata": {},
   "source": [
    "# Goal\n",
    "\n",
    "* Create feature tables for the `CAMI2_plant_associated` dataset"
   ]
  },
  {
   "cell_type": "markdown",
   "metadata": {},
   "source": [
    "# Var"
   ]
  },
  {
   "cell_type": "code",
   "execution_count": 1,
   "metadata": {
    "ExecuteTime": {
     "end_time": "2022-09-28T00:43:05.617039Z",
     "start_time": "2022-09-28T00:43:05.413Z"
    }
   },
   "outputs": [],
   "source": [
    "work_dir = '/ebio/abt3_projects/databases_no-backup/CAMI/CAMI2_plant_associated/short_read/ResMiCo-SM/'"
   ]
  },
  {
   "cell_type": "markdown",
   "metadata": {},
   "source": [
    "# Init"
   ]
  },
  {
   "cell_type": "code",
   "execution_count": 4,
   "metadata": {
    "ExecuteTime": {
     "end_time": "2022-09-28T00:43:08.974142Z",
     "start_time": "2022-09-28T00:43:08.814Z"
    }
   },
   "outputs": [],
   "source": [
    "library(dplyr)\n",
    "library(tidyr)\n",
    "library(ggplot2)\n",
    "library(data.table)\n",
    "library(tidytable)\n",
    "library(LeyLabRMisc)"
   ]
  },
  {
   "cell_type": "code",
   "execution_count": 5,
   "metadata": {
    "ExecuteTime": {
     "end_time": "2022-09-28T00:43:11.334281Z",
     "start_time": "2022-09-28T00:43:11.197Z"
    }
   },
   "outputs": [],
   "source": [
    "Init()"
   ]
  },
  {
   "cell_type": "markdown",
   "metadata": {},
   "source": [
    "# Sample table"
   ]
  },
  {
   "cell_type": "code",
   "execution_count": 6,
   "metadata": {
    "ExecuteTime": {
     "end_time": "2022-09-28T00:43:19.640864Z",
     "start_time": "2022-09-28T00:43:19.455Z"
    }
   },
   "outputs": [
    {
     "data": {
      "text/html": [
       "<table class=\"dataframe\">\n",
       "<caption>A tidytable: 21 × 4</caption>\n",
       "<thead>\n",
       "\t<tr><th scope=col>Sample</th><th scope=col>Read1</th><th scope=col>Read2</th><th scope=col>X</th></tr>\n",
       "\t<tr><th scope=col>&lt;chr&gt;</th><th scope=col>&lt;chr&gt;</th><th scope=col>&lt;chr&gt;</th><th scope=col>&lt;dbl&gt;</th></tr>\n",
       "</thead>\n",
       "<tbody>\n",
       "\t<tr><td>2019_09_27_13_59_10_sample_0 </td><td>/ebio/abt3_scratch/nyoungblut/CAMI/CAMI2_plant_associated/2019.09.27_13.59.10_sample_0_R1.fq </td><td>/ebio/abt3_scratch/nyoungblut/CAMI/CAMI2_plant_associated/2019.09.27_13.59.10_sample_0_R2.fq </td><td>1</td></tr>\n",
       "\t<tr><td>2019_09_27_13_59_10_sample_10</td><td>/ebio/abt3_scratch/nyoungblut/CAMI/CAMI2_plant_associated/2019.09.27_13.59.10_sample_10_R1.fq</td><td>/ebio/abt3_scratch/nyoungblut/CAMI/CAMI2_plant_associated/2019.09.27_13.59.10_sample_10_R2.fq</td><td>1</td></tr>\n",
       "\t<tr><td>⋮</td><td>⋮</td><td>⋮</td><td>⋮</td></tr>\n",
       "\t<tr><td>2019_09_27_13_59_10_sample_8</td><td>/ebio/abt3_scratch/nyoungblut/CAMI/CAMI2_plant_associated/2019.09.27_13.59.10_sample_8_R1.fq</td><td>/ebio/abt3_scratch/nyoungblut/CAMI/CAMI2_plant_associated/2019.09.27_13.59.10_sample_8_R2.fq</td><td>1</td></tr>\n",
       "\t<tr><td>2019_09_27_13_59_10_sample_9</td><td>/ebio/abt3_scratch/nyoungblut/CAMI/CAMI2_plant_associated/2019.09.27_13.59.10_sample_9_R1.fq</td><td>/ebio/abt3_scratch/nyoungblut/CAMI/CAMI2_plant_associated/2019.09.27_13.59.10_sample_9_R2.fq</td><td>1</td></tr>\n",
       "</tbody>\n",
       "</table>\n"
      ],
      "text/latex": [
       "A tidytable: 21 × 4\n",
       "\\begin{tabular}{llll}\n",
       " Sample & Read1 & Read2 & X\\\\\n",
       " <chr> & <chr> & <chr> & <dbl>\\\\\n",
       "\\hline\n",
       "\t 2019\\_09\\_27\\_13\\_59\\_10\\_sample\\_0  & /ebio/abt3\\_scratch/nyoungblut/CAMI/CAMI2\\_plant\\_associated/2019.09.27\\_13.59.10\\_sample\\_0\\_R1.fq  & /ebio/abt3\\_scratch/nyoungblut/CAMI/CAMI2\\_plant\\_associated/2019.09.27\\_13.59.10\\_sample\\_0\\_R2.fq  & 1\\\\\n",
       "\t 2019\\_09\\_27\\_13\\_59\\_10\\_sample\\_10 & /ebio/abt3\\_scratch/nyoungblut/CAMI/CAMI2\\_plant\\_associated/2019.09.27\\_13.59.10\\_sample\\_10\\_R1.fq & /ebio/abt3\\_scratch/nyoungblut/CAMI/CAMI2\\_plant\\_associated/2019.09.27\\_13.59.10\\_sample\\_10\\_R2.fq & 1\\\\\n",
       "\t ⋮ & ⋮ & ⋮ & ⋮\\\\\n",
       "\t 2019\\_09\\_27\\_13\\_59\\_10\\_sample\\_8 & /ebio/abt3\\_scratch/nyoungblut/CAMI/CAMI2\\_plant\\_associated/2019.09.27\\_13.59.10\\_sample\\_8\\_R1.fq & /ebio/abt3\\_scratch/nyoungblut/CAMI/CAMI2\\_plant\\_associated/2019.09.27\\_13.59.10\\_sample\\_8\\_R2.fq & 1\\\\\n",
       "\t 2019\\_09\\_27\\_13\\_59\\_10\\_sample\\_9 & /ebio/abt3\\_scratch/nyoungblut/CAMI/CAMI2\\_plant\\_associated/2019.09.27\\_13.59.10\\_sample\\_9\\_R1.fq & /ebio/abt3\\_scratch/nyoungblut/CAMI/CAMI2\\_plant\\_associated/2019.09.27\\_13.59.10\\_sample\\_9\\_R2.fq & 1\\\\\n",
       "\\end{tabular}\n"
      ],
      "text/markdown": [
       "\n",
       "A tidytable: 21 × 4\n",
       "\n",
       "| Sample &lt;chr&gt; | Read1 &lt;chr&gt; | Read2 &lt;chr&gt; | X &lt;dbl&gt; |\n",
       "|---|---|---|---|\n",
       "| 2019_09_27_13_59_10_sample_0  | /ebio/abt3_scratch/nyoungblut/CAMI/CAMI2_plant_associated/2019.09.27_13.59.10_sample_0_R1.fq  | /ebio/abt3_scratch/nyoungblut/CAMI/CAMI2_plant_associated/2019.09.27_13.59.10_sample_0_R2.fq  | 1 |\n",
       "| 2019_09_27_13_59_10_sample_10 | /ebio/abt3_scratch/nyoungblut/CAMI/CAMI2_plant_associated/2019.09.27_13.59.10_sample_10_R1.fq | /ebio/abt3_scratch/nyoungblut/CAMI/CAMI2_plant_associated/2019.09.27_13.59.10_sample_10_R2.fq | 1 |\n",
       "| ⋮ | ⋮ | ⋮ | ⋮ |\n",
       "| 2019_09_27_13_59_10_sample_8 | /ebio/abt3_scratch/nyoungblut/CAMI/CAMI2_plant_associated/2019.09.27_13.59.10_sample_8_R1.fq | /ebio/abt3_scratch/nyoungblut/CAMI/CAMI2_plant_associated/2019.09.27_13.59.10_sample_8_R2.fq | 1 |\n",
       "| 2019_09_27_13_59_10_sample_9 | /ebio/abt3_scratch/nyoungblut/CAMI/CAMI2_plant_associated/2019.09.27_13.59.10_sample_9_R1.fq | /ebio/abt3_scratch/nyoungblut/CAMI/CAMI2_plant_associated/2019.09.27_13.59.10_sample_9_R2.fq | 1 |\n",
       "\n"
      ],
      "text/plain": [
       "   Sample                       \n",
       "1  2019_09_27_13_59_10_sample_0 \n",
       "2  2019_09_27_13_59_10_sample_10\n",
       "⋮  ⋮                            \n",
       "20 2019_09_27_13_59_10_sample_8 \n",
       "21 2019_09_27_13_59_10_sample_9 \n",
       "   Read1                                                                                        \n",
       "1  /ebio/abt3_scratch/nyoungblut/CAMI/CAMI2_plant_associated/2019.09.27_13.59.10_sample_0_R1.fq \n",
       "2  /ebio/abt3_scratch/nyoungblut/CAMI/CAMI2_plant_associated/2019.09.27_13.59.10_sample_10_R1.fq\n",
       "⋮  ⋮                                                                                            \n",
       "20 /ebio/abt3_scratch/nyoungblut/CAMI/CAMI2_plant_associated/2019.09.27_13.59.10_sample_8_R1.fq \n",
       "21 /ebio/abt3_scratch/nyoungblut/CAMI/CAMI2_plant_associated/2019.09.27_13.59.10_sample_9_R1.fq \n",
       "   Read2                                                                                        \n",
       "1  /ebio/abt3_scratch/nyoungblut/CAMI/CAMI2_plant_associated/2019.09.27_13.59.10_sample_0_R2.fq \n",
       "2  /ebio/abt3_scratch/nyoungblut/CAMI/CAMI2_plant_associated/2019.09.27_13.59.10_sample_10_R2.fq\n",
       "⋮  ⋮                                                                                            \n",
       "20 /ebio/abt3_scratch/nyoungblut/CAMI/CAMI2_plant_associated/2019.09.27_13.59.10_sample_8_R2.fq \n",
       "21 /ebio/abt3_scratch/nyoungblut/CAMI/CAMI2_plant_associated/2019.09.27_13.59.10_sample_9_R2.fq \n",
       "   X\n",
       "1  1\n",
       "2  1\n",
       "⋮  ⋮\n",
       "20 1\n",
       "21 1"
      ]
     },
     "metadata": {},
     "output_type": "display_data"
    }
   ],
   "source": [
    "F = '/ebio/abt3_scratch/nyoungblut/CAMI/CAMI2_plant_associated/samples.tsv'\n",
    "reads = Fread(F) %>%\n",
    "    mutate.(Sample = gsub('\\\\.', '_', Sample)) %>%\n",
    "    mutate.(X = 1)\n",
    "reads"
   ]
  },
  {
   "cell_type": "code",
   "execution_count": 7,
   "metadata": {
    "ExecuteTime": {
     "end_time": "2022-09-28T00:43:21.586084Z",
     "start_time": "2022-09-28T00:43:21.418Z"
    }
   },
   "outputs": [
    {
     "data": {
      "text/html": [
       "<table class=\"dataframe\">\n",
       "<caption>A tidytable: 816 × 3</caption>\n",
       "<thead>\n",
       "\t<tr><th scope=col>Taxon</th><th scope=col>Fasta</th><th scope=col>X</th></tr>\n",
       "\t<tr><th scope=col>&lt;chr&gt;</th><th scope=col>&lt;chr&gt;</th><th scope=col>&lt;dbl&gt;</th></tr>\n",
       "</thead>\n",
       "<tbody>\n",
       "\t<tr><td>LjRoot48</td><td>/ebio/abt3_projects/databases_no-backup/CAMI/CAMI2_plant_associated/short_read/genomes/LjRoot48.fasta.gz</td><td>1</td></tr>\n",
       "\t<tr><td>3823_N  </td><td>/ebio/abt3_projects/databases_no-backup/CAMI/CAMI2_plant_associated/short_read/genomes/3823_N.fasta.gz  </td><td>1</td></tr>\n",
       "\t<tr><td>⋮</td><td>⋮</td><td>⋮</td></tr>\n",
       "\t<tr><td>RNODE_354_length_3591_cov_3.85010</td><td>/ebio/abt3_projects/databases_no-backup/CAMI/CAMI2_plant_associated/short_read/genomes/RNODE_354_length_3591_cov_3.85010.fasta.gz</td><td>1</td></tr>\n",
       "\t<tr><td>RNODE_310_length_7241_cov_7.51586</td><td>/ebio/abt3_projects/databases_no-backup/CAMI/CAMI2_plant_associated/short_read/genomes/RNODE_310_length_7241_cov_7.51586.fasta.gz</td><td>1</td></tr>\n",
       "</tbody>\n",
       "</table>\n"
      ],
      "text/latex": [
       "A tidytable: 816 × 3\n",
       "\\begin{tabular}{lll}\n",
       " Taxon & Fasta & X\\\\\n",
       " <chr> & <chr> & <dbl>\\\\\n",
       "\\hline\n",
       "\t LjRoot48 & /ebio/abt3\\_projects/databases\\_no-backup/CAMI/CAMI2\\_plant\\_associated/short\\_read/genomes/LjRoot48.fasta.gz & 1\\\\\n",
       "\t 3823\\_N   & /ebio/abt3\\_projects/databases\\_no-backup/CAMI/CAMI2\\_plant\\_associated/short\\_read/genomes/3823\\_N.fasta.gz   & 1\\\\\n",
       "\t ⋮ & ⋮ & ⋮\\\\\n",
       "\t RNODE\\_354\\_length\\_3591\\_cov\\_3.85010 & /ebio/abt3\\_projects/databases\\_no-backup/CAMI/CAMI2\\_plant\\_associated/short\\_read/genomes/RNODE\\_354\\_length\\_3591\\_cov\\_3.85010.fasta.gz & 1\\\\\n",
       "\t RNODE\\_310\\_length\\_7241\\_cov\\_7.51586 & /ebio/abt3\\_projects/databases\\_no-backup/CAMI/CAMI2\\_plant\\_associated/short\\_read/genomes/RNODE\\_310\\_length\\_7241\\_cov\\_7.51586.fasta.gz & 1\\\\\n",
       "\\end{tabular}\n"
      ],
      "text/markdown": [
       "\n",
       "A tidytable: 816 × 3\n",
       "\n",
       "| Taxon &lt;chr&gt; | Fasta &lt;chr&gt; | X &lt;dbl&gt; |\n",
       "|---|---|---|\n",
       "| LjRoot48 | /ebio/abt3_projects/databases_no-backup/CAMI/CAMI2_plant_associated/short_read/genomes/LjRoot48.fasta.gz | 1 |\n",
       "| 3823_N   | /ebio/abt3_projects/databases_no-backup/CAMI/CAMI2_plant_associated/short_read/genomes/3823_N.fasta.gz   | 1 |\n",
       "| ⋮ | ⋮ | ⋮ |\n",
       "| RNODE_354_length_3591_cov_3.85010 | /ebio/abt3_projects/databases_no-backup/CAMI/CAMI2_plant_associated/short_read/genomes/RNODE_354_length_3591_cov_3.85010.fasta.gz | 1 |\n",
       "| RNODE_310_length_7241_cov_7.51586 | /ebio/abt3_projects/databases_no-backup/CAMI/CAMI2_plant_associated/short_read/genomes/RNODE_310_length_7241_cov_7.51586.fasta.gz | 1 |\n",
       "\n"
      ],
      "text/plain": [
       "    Taxon                            \n",
       "1   LjRoot48                         \n",
       "2   3823_N                           \n",
       "⋮   ⋮                                \n",
       "815 RNODE_354_length_3591_cov_3.85010\n",
       "816 RNODE_310_length_7241_cov_7.51586\n",
       "    Fasta                                                                                                                            \n",
       "1   /ebio/abt3_projects/databases_no-backup/CAMI/CAMI2_plant_associated/short_read/genomes/LjRoot48.fasta.gz                         \n",
       "2   /ebio/abt3_projects/databases_no-backup/CAMI/CAMI2_plant_associated/short_read/genomes/3823_N.fasta.gz                           \n",
       "⋮   ⋮                                                                                                                                \n",
       "815 /ebio/abt3_projects/databases_no-backup/CAMI/CAMI2_plant_associated/short_read/genomes/RNODE_354_length_3591_cov_3.85010.fasta.gz\n",
       "816 /ebio/abt3_projects/databases_no-backup/CAMI/CAMI2_plant_associated/short_read/genomes/RNODE_310_length_7241_cov_7.51586.fasta.gz\n",
       "    X\n",
       "1   1\n",
       "2   1\n",
       "⋮   ⋮\n",
       "815 1\n",
       "816 1"
      ]
     },
     "metadata": {},
     "output_type": "display_data"
    }
   ],
   "source": [
    "F = file.path(dirname(work_dir), 'genomes.tsv')\n",
    "genomes = Fread(F) %>%\n",
    "    mutate.(X = 1)\n",
    "genomes"
   ]
  },
  {
   "cell_type": "markdown",
   "metadata": {},
   "source": [
    "# ResMiCo-SM"
   ]
  },
  {
   "cell_type": "markdown",
   "metadata": {},
   "source": [
    "### deinterleave reads\n",
    "\n",
    "```\n",
    " /ebio/abt3_projects/databases_no-backup/CAMI/CAMI2_plant_associated/short_read/deinterleave.sh\n",
    "```"
   ]
  },
  {
   "cell_type": "markdown",
   "metadata": {},
   "source": [
    "### Config"
   ]
  },
  {
   "cell_type": "code",
   "execution_count": 8,
   "metadata": {
    "ExecuteTime": {
     "end_time": "2022-09-28T00:43:33.578075Z",
     "start_time": "2022-09-28T00:43:33.426Z"
    }
   },
   "outputs": [
    {
     "name": "stdout",
     "output_type": "stream",
     "text": [
      "# Input table\n",
      "## Table of genomes\n",
      "genomes_file: /ebio/abt3_projects/databases_no-backup/CAMI/CAMI2_plant_associated/short_read/genomes.tsv\n",
      "## If using pre-generated reads\n",
      "reads_file: /ebio/abt3_scratch/nyoungblut/CAMI/CAMI2_plant_associated/samples.tsv\n",
      "\n",
      "# Output directory\n",
      "output_dir: /ebio/abt3_projects/databases_no-backup/CAMI/CAMI2_plant_associated/short_read/ResMiCo-SM/\n",
      "\n",
      "# Temporary output directory (/dev/shm/ for shared memory)\n",
      "#tmp_dir: /tmp/\n",
      "tmp_dir: /ebio/abt3_scratch/nyoungblut/ResMiCo_CAMI2-plant_associated_TMP/\n",
      "\n",
      "# Email for notifications (\"Skip\" to skip)\n",
      "email: nyoungblut@tuebingen.mpg.de\n",
      "\n",
      "# software parameters for data simulations\n",
      "## Use \"Skip\" to skip  steps. If no params for rule, use \"\"\n",
      "## `reps:` is the number of replicate simulations\n",
      "## If `keep_reads: True`, then simulated reads are kept\n",
      "params:\n",
      "  ionice: -c 3\n",
      "  # simulating metagenomes\n",
      "  MGSIM:\n",
      "    genome_download: \"\"\n",
      "    sim_reps: 3\n",
      "    community:\n",
      "      richness:\n",
      "        - 0.8        \n",
      "      abundance_distribution:\n",
      "        - \"mean:10,sigma:2\"\n",
      "      random_seed: 8192\n",
      "      other_sim_params: --group-bias 0\n",
      "    reads: \n",
      "      length:\n",
      "        - 100\n",
      "        - 150\n",
      "      depth:\n",
      "        - 1000000\n",
      "      other_sim_params: --art-paired --art-mflen 270 --art-sdev 50 --rndSeed 8712\n",
      "      skewer: -n -l 70 -q 25\n",
      "      keep_reads: True # False\n",
      "  # coverage\n",
      "  nonpareil:\n",
      "    params: -T kmer\n",
      "    summary: 1e9   # this is target seq. depth\n",
      "  # assemblying metagenomes\n",
      "  assemblers:\n",
      "    metaspades: -k auto --only-assembler\n",
      "    megahit: --min-count 1 --min-contig-len 1000\n",
      "  # assembly filtering\n",
      "  contigs:\n",
      "    length_cutoff: 1000       # length in bp \n",
      "  # assessing assembly errors\n",
      "  asmbl_errors:\n",
      "    metaquast: --max-ref-number 0 --min-contig 1000 --min-identity 95 --extensive-mis-size 100\n",
      "               --no-html --no-plots --no-icarus --no-gc --no-snps --no-sv\n",
      "    keep_genomes: True\n",
      "  # mapping reads to contigs\n",
      "  map:\n",
      "    samtools: \"\"\n",
      "    bowtie2: \"\"\n",
      "    max_coverage: 20\n",
      "    keep_bam: True\n",
      "  # creating ResMiCo feature tables\n",
      "  feature_table:\n",
      "    make: --window 6\n",
      "  # state-of-the-art\n",
      "  SotA:\n",
      "    ALE: Skip #\"\"\n",
      "    VALET: Skip #\"\"  \n",
      "    metaMIC:\n",
      "      extract: Skip #--mlen 1000\n",
      "      predict: --mlen 1000 --slen 500 -a MEGAHIT\n",
      "\n",
      "# params just for creating feature tables for non-simulated data\n",
      "nonsim_params:\n",
      "  # max number of reads to use\n",
      "  subsample_reads: 5000000\n",
      "  # read quality filtering\n",
      "  skewer: -n -l 70 -q 25\n",
      "  # max per-contig coverage\n",
      "  max_coverage: 20\n",
      "  # keep bam files?\n",
      "  keep_bam: True\n",
      "  # feature tables\n",
      "  make_features: --window 6\n",
      "\n",
      "# snakemake pipeline\n",
      "pipeline:\n",
      "  snakemake_folder: ./\n",
      "  script_folder: ./bin/scripts/\n",
      "  name: ResMiCo-SM"
     ]
    }
   ],
   "source": [
    "F = file.path(work_dir, 'config.yaml')\n",
    "cat_file(F)"
   ]
  },
  {
   "cell_type": "markdown",
   "metadata": {},
   "source": [
    "### Run"
   ]
  },
  {
   "cell_type": "markdown",
   "metadata": {},
   "source": [
    "```\n",
    "(snakemake) rick: /ebio/abt3_projects/databases_no-backup/DeepMAsED/version2/resmico-sm/bin/new_compile/ResMiCo/ResMiCo-SM\n",
    "$ screen -L -S rmc-sm-plant ./snakemake_sge.sh /ebio/abt3_projects/databases_no-backup/CAMI/CAMI2_plant_associated/short_read/ResMiCo-SM/config.yaml 30 -F\n",
    "```"
   ]
  },
  {
   "cell_type": "markdown",
   "metadata": {},
   "source": [
    "# sessionInfo"
   ]
  },
  {
   "cell_type": "code",
   "execution_count": 9,
   "metadata": {
    "ExecuteTime": {
     "end_time": "2022-09-28T00:43:47.492615Z",
     "start_time": "2022-09-28T00:43:47.314Z"
    }
   },
   "outputs": [
    {
     "data": {
      "text/plain": [
       "R version 4.1.1 (2021-08-10)\n",
       "Platform: x86_64-conda-linux-gnu (64-bit)\n",
       "Running under: Ubuntu 20.04.5 LTS\n",
       "\n",
       "Matrix products: default\n",
       "BLAS/LAPACK: /tmp/global2/nyoungblut/code/general/conda_envs/general-tidyverse/lib/libopenblasp-r0.3.18.so\n",
       "\n",
       "locale:\n",
       " [1] LC_CTYPE=en_US.UTF-8       LC_NUMERIC=C              \n",
       " [3] LC_TIME=en_US.UTF-8        LC_COLLATE=en_US.UTF-8    \n",
       " [5] LC_MONETARY=en_US.UTF-8    LC_MESSAGES=en_US.UTF-8   \n",
       " [7] LC_PAPER=en_US.UTF-8       LC_NAME=C                 \n",
       " [9] LC_ADDRESS=C               LC_TELEPHONE=C            \n",
       "[11] LC_MEASUREMENT=en_US.UTF-8 LC_IDENTIFICATION=C       \n",
       "\n",
       "attached base packages:\n",
       "[1] stats     graphics  grDevices utils     datasets  methods   base     \n",
       "\n",
       "other attached packages:\n",
       "[1] clustermq_0.8.95.2 LeyLabRMisc_0.2.1  tidytable_0.6.6    data.table_1.14.2 \n",
       "[5] ggplot2_3.3.5      tidyr_1.1.4        dplyr_1.0.7       \n",
       "\n",
       "loaded via a namespace (and not attached):\n",
       " [1] Rcpp_1.0.7       plyr_1.8.6       pillar_1.6.4     compiler_4.1.1  \n",
       " [5] base64enc_0.1-3  tools_4.1.1      digest_0.6.29    uuid_1.0-3      \n",
       " [9] jsonlite_1.7.2   evaluate_0.14    lifecycle_1.0.1  tibble_3.1.6    \n",
       "[13] gtable_0.3.0     pkgconfig_2.0.3  rlang_0.4.12     IRdisplay_1.1   \n",
       "[17] IRkernel_1.3     fastmap_1.1.0    repr_1.1.4       withr_2.4.3     \n",
       "[21] generics_0.1.1   vctrs_0.3.8      grid_4.1.1       tidyselect_1.1.1\n",
       "[25] glue_1.6.0       R6_2.5.1         fansi_1.0.0      pbdZMQ_0.3-6    \n",
       "[29] purrr_0.3.4      magrittr_2.0.1   codetools_0.2-18 scales_1.1.1    \n",
       "[33] ellipsis_0.3.2   htmltools_0.5.2  colorspace_2.0-2 utf8_1.2.2      \n",
       "[37] munsell_0.5.0    crayon_1.4.2    "
      ]
     },
     "metadata": {},
     "output_type": "display_data"
    }
   ],
   "source": [
    "sessionInfo()"
   ]
  },
  {
   "cell_type": "code",
   "execution_count": null,
   "metadata": {},
   "outputs": [],
   "source": []
  }
 ],
 "metadata": {
  "kernelspec": {
   "display_name": "R [conda env:general-tidyverse]",
   "language": "R",
   "name": "conda-env-general-tidyverse-r"
  },
  "language_info": {
   "codemirror_mode": "r",
   "file_extension": ".r",
   "mimetype": "text/x-r-source",
   "name": "R",
   "pygments_lexer": "r",
   "version": "4.1.1"
  },
  "notify_time": "30",
  "toc": {
   "base_numbering": 1,
   "nav_menu": {},
   "number_sections": true,
   "sideBar": true,
   "skip_h1_title": false,
   "title_cell": "Table of Contents",
   "title_sidebar": "Contents",
   "toc_cell": true,
   "toc_position": {},
   "toc_section_display": true,
   "toc_window_display": true
  }
 },
 "nbformat": 4,
 "nbformat_minor": 4
}
