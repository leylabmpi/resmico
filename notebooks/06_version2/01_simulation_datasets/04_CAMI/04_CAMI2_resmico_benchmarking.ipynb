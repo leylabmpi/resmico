{
 "cells": [
  {
   "cell_type": "markdown",
   "metadata": {
    "toc": true
   },
   "source": [
    "<h1>Table of Contents<span class=\"tocSkip\"></span></h1>\n",
    "<div class=\"toc\"><ul class=\"toc-item\"><li><span><a href=\"#Goal\" data-toc-modified-id=\"Goal-1\"><span class=\"toc-item-num\">1&nbsp;&nbsp;</span>Goal</a></span></li><li><span><a href=\"#Var\" data-toc-modified-id=\"Var-2\"><span class=\"toc-item-num\">2&nbsp;&nbsp;</span>Var</a></span></li><li><span><a href=\"#Init\" data-toc-modified-id=\"Init-3\"><span class=\"toc-item-num\">3&nbsp;&nbsp;</span>Init</a></span></li><li><span><a href=\"#LLMGA\" data-toc-modified-id=\"LLMGA-4\"><span class=\"toc-item-num\">4&nbsp;&nbsp;</span>LLMGA</a></span><ul class=\"toc-item\"><li><span><a href=\"#w/-GPU\" data-toc-modified-id=\"w/-GPU-4.1\"><span class=\"toc-item-num\">4.1&nbsp;&nbsp;</span>w/ GPU</a></span><ul class=\"toc-item\"><li><span><a href=\"#Config\" data-toc-modified-id=\"Config-4.1.1\"><span class=\"toc-item-num\">4.1.1&nbsp;&nbsp;</span>Config</a></span></li><li><span><a href=\"#Run\" data-toc-modified-id=\"Run-4.1.2\"><span class=\"toc-item-num\">4.1.2&nbsp;&nbsp;</span>Run</a></span><ul class=\"toc-item\"><li><span><a href=\"#Renamed-output\" data-toc-modified-id=\"Renamed-output-4.1.2.1\"><span class=\"toc-item-num\">4.1.2.1&nbsp;&nbsp;</span>Renamed output</a></span></li></ul></li></ul></li><li><span><a href=\"#w/out-GPU\" data-toc-modified-id=\"w/out-GPU-4.2\"><span class=\"toc-item-num\">4.2&nbsp;&nbsp;</span>w/out GPU</a></span><ul class=\"toc-item\"><li><span><a href=\"#Config\" data-toc-modified-id=\"Config-4.2.1\"><span class=\"toc-item-num\">4.2.1&nbsp;&nbsp;</span>Config</a></span></li><li><span><a href=\"#Run\" data-toc-modified-id=\"Run-4.2.2\"><span class=\"toc-item-num\">4.2.2&nbsp;&nbsp;</span>Run</a></span></li></ul></li><li><span><a href=\"#Benchmarking\" data-toc-modified-id=\"Benchmarking-4.3\"><span class=\"toc-item-num\">4.3&nbsp;&nbsp;</span>Benchmarking</a></span></li></ul></li><li><span><a href=\"#sessionInfo\" data-toc-modified-id=\"sessionInfo-5\"><span class=\"toc-item-num\">5&nbsp;&nbsp;</span>sessionInfo</a></span></li></ul></div>"
   ]
  },
  {
   "cell_type": "markdown",
   "metadata": {},
   "source": [
    "# Goal\n",
    "\n",
    "* Benchmark resmico with CAMI2 datasets\n",
    "* Integrate resmico into the LL assembly pipeline & run w/ & w/out GPUs"
   ]
  },
  {
   "cell_type": "markdown",
   "metadata": {},
   "source": [
    "# Var"
   ]
  },
  {
   "cell_type": "code",
   "execution_count": 37,
   "metadata": {
    "ExecuteTime": {
     "end_time": "2022-09-17T23:41:01.300727Z",
     "start_time": "2022-09-17T23:41:01.188Z"
    }
   },
   "outputs": [],
   "source": [
    "work_dir = '/ebio/abt3_projects/databases_no-backup/DeepMAsED/version2/CAMI/CAMI2_HMP-gut/short_read/LLMGA/'"
   ]
  },
  {
   "cell_type": "markdown",
   "metadata": {},
   "source": [
    "# Init"
   ]
  },
  {
   "cell_type": "code",
   "execution_count": 38,
   "metadata": {
    "ExecuteTime": {
     "end_time": "2022-09-17T23:41:01.570310Z",
     "start_time": "2022-09-17T23:41:01.442Z"
    }
   },
   "outputs": [],
   "source": [
    "library(dplyr)\n",
    "library(tidyr)\n",
    "library(ggplot2)\n",
    "library(data.table)\n",
    "library(tidytable)\n",
    "library(LeyLabRMisc)\n",
    "Init()"
   ]
  },
  {
   "cell_type": "markdown",
   "metadata": {},
   "source": [
    "# LLMGA"
   ]
  },
  {
   "cell_type": "markdown",
   "metadata": {},
   "source": [
    "## w/ GPU"
   ]
  },
  {
   "cell_type": "markdown",
   "metadata": {},
   "source": [
    "### Config"
   ]
  },
  {
   "cell_type": "code",
   "execution_count": 39,
   "metadata": {
    "ExecuteTime": {
     "end_time": "2022-09-17T23:41:03.206903Z",
     "start_time": "2022-09-17T23:41:03.088Z"
    }
   },
   "outputs": [
    {
     "name": "stdout",
     "output_type": "stream",
     "text": [
      "#-- I/O --#\n",
      "# table with sample --> read_file information\n",
      "samples_file: /ebio/abt3_projects/databases_no-backup/CAMI/CAMI2_HMP-gut/short_read/LLMGA/samples.tsv\n",
      "\n",
      "# output location\n",
      "output_dir: /ebio/abt3_projects/databases_no-backup/CAMI/CAMI2_HMP-gut/short_read/LLMGA/\n",
      "\n",
      "# temporary file directory (your username will be added automatically)\n",
      "tmp_dir: /ebio/abt3_scratch/\n",
      "\n",
      "#-- reference genomes for metacompass --#\n",
      "metacompass_ref: /ebio/abt3_projects/Anxiety_Twins_Metagenomes/data/metagenome/TUKMZ-BGI250/llmga-find-refs/references/drep/dereplicated_genomes.fna\n",
      "\n",
      "#-- master control --#\n",
      "# which major parts of the pipline to run \n",
      "run_assembly: True\n",
      "run_binning: False\n",
      "run_other_assembly: False\n",
      "\n",
      "#-- software parameters --#\n",
      "# Notes:\n",
      "## see \"Notes on the `config.yaml` file\" in the README\n",
      "params:\n",
      "  # misc\n",
      "  ionice: -c 3\n",
      "  use_gpu: True\n",
      "  # raw reads\n",
      "  reads:\n",
      "    subsample: 80000000\n",
      "    fastqc: \"\"  \n",
      "  # metacompass (per-sample ref-based assembly); skipped if using graphbin2\n",
      "  metacompass:\n",
      "    buildcontig: Skip #--pickref breadth --mincov 3 -l 1000 -n T -b F -u F\n",
      "    pilon: \"\"\n",
      "  # denovo per-sample assembly (unmapped if metacompass used, else all reads)\n",
      "  denovo_assembly:\n",
      "    metaspades: -k auto --only-assembler\n",
      "    megahit: Skip #--min-count 3 --min-contig-len 500 --presets meta-sensitive\n",
      "  # combined, final contigs from assemblies\n",
      "  final_contigs:\n",
      "    derep_contigs: minidentity=100 minscaf=1000 minoverlappercent=95\n",
      "    contig_rename: \"\"\n",
      "    min_contig_len: 1000            # min contig length retained\n",
      "    metaquast: --max-ref-number 0   # job run on rick to use internet if `--max-ref-number` > 0\n",
      "  # contig filtering\n",
      "  contig_filtering:\n",
      "    resmico:\n",
      "      bowtie2:\n",
      "        build: \"\"\n",
      "        map: \"\"\n",
      "      bam2feat: --max-coverage 20\n",
      "      evaluate: --batch-size 100 --gpu-eval-mem-gb 1 --max-len 20000\n",
      "                --min-contig-len 1000 --min-avg-coverage 1 --seed 12\n",
      "      filter: --score-cutoff 0.8 --min-length 0\n",
      "    metaquast: --max-ref-number 0\n",
      "  # contig binning\n",
      "  binning:\n",
      "    subsample: 5000000       # how many reads per sample to use for dif-cov binning?\n",
      "    # mapping\n",
      "    map:\n",
      "      num_map_samples: 40    # how many samples to use for dif-cov. binning ('all' = all samples)\n",
      "      minimap2:\n",
      "        index: -k 15 -w 10 -I 12G\n",
      "        map: -N 5 -F 800\n",
      "      samtools_view: -q 0 -F 3584                 # -q = MAPQ cutoff\n",
      "      bam_to_depth: --percentIdentity 97\n",
      "      keep_bam: False                       # keep all BAM files?\n",
      "    # binning\n",
      "    binners:\n",
      "      maxbin2:\n",
      "        Low: -min_contig_length 1500 -markerset 40 -prob_threshold 0.6\n",
      "        Med: -min_contig_length 1500 -markerset 40 -prob_threshold 0.7\n",
      "        High: -min_contig_length 1500 -markerset 40 -prob_threshold 0.8\n",
      "      metabat2:\n",
      "        Low: --minContig 1500 --minCV 0.5 --minCVSum 0.5 --maxP 92\n",
      "             --maxEdges 150 --seed 8394\n",
      "        Med: --minContig 1500 --minCV 0.5 --minCVSum 0.5 --maxP 94\n",
      "             --maxEdges 325 --seed 8394\n",
      "        High: --minContig 1500 --minCV 0.5 --minCVSum 0.5 --maxP 97\n",
      "              --maxEdges 500 --seed 8394\n",
      "        LowNoCov: --minContig 1500 --minCV 0.5 --minCVSum 0.5 --maxP 92\n",
      "                  --maxEdges 150 --seed 8394 NOCOV\n",
      "        MedNoCov: --minContig 1500 --minCV 0.5 --minCVSum 0.5 --maxP 94\n",
      "                  --maxEdges 325 --seed 8394 NOCOV\n",
      "        HighNoCov: --minContig 1500 --minCV 0.5 --minCVSum 0.5 --maxP 97\n",
      "                   --maxEdges 500 --seed 8394 NOCOV\n",
      "      vamb:\n",
      "        Low: -c 10000 -m 1500 -l 24 -n 384 384\n",
      "        Med: -c 10000 -m 1500 -l 32 -n 512 512\n",
      "        High: -c 10000 -m 1500 -l 40 -n 768 768\n",
      "    # selecting final bins (MAGs)\n",
      "    select:\n",
      "      das_tool: --search_engine diamond\n",
      "      genome_table: \"\"\n",
      "  # denovo assembly of other genetic components\n",
      "  denovo_other_assembly:\n",
      "    min_contig_len: 1000\n",
      "    metaplasmidspades: -k auto --only-assembler\n",
      "    metabiosyntheticspades: -k auto --only-assembler\n",
      "  \n",
      "#-- snakemake pipeline --#\n",
      "pipeline:\n",
      "  snakemake_folder: ./\n",
      "  script_folder: bin/scripts/\n",
      "  random_number_seed: 83421\n",
      "  name: LLMGA\n"
     ]
    }
   ],
   "source": [
    "F = file.path(work_dir, 'config_gpu.yaml')\n",
    "cat_file(F)"
   ]
  },
  {
   "cell_type": "markdown",
   "metadata": {},
   "source": [
    "### Run "
   ]
  },
  {
   "cell_type": "markdown",
   "metadata": {
    "ExecuteTime": {
     "end_time": "2022-09-17T13:49:50.688925Z",
     "start_time": "2022-09-17T13:49:50.512Z"
    }
   },
   "source": [
    "```\n",
    "(snakemake) rick: /tmp/global2/nyoungblut/code/dev/ll_pipelines/llmga\n",
    "$ screen -L -S llmga-bmk ./snakemake_sge.sh /ebio/abt3_projects/databases_no-backup/DeepMAsED/version2/CAMI/CAMI2_HMP-gut/short_read/LLMGA/config_gpu.yaml 30 -F --notemp\n",
    "```"
   ]
  },
  {
   "cell_type": "markdown",
   "metadata": {},
   "source": [
    "#### Renamed output\n",
    "\n",
    "```\n",
    "mv benchmarks/resmico benchmarks/resmico_gpu\n",
    "mv filtered_contigs filtered_contigs_gpu\n",
    "```"
   ]
  },
  {
   "cell_type": "markdown",
   "metadata": {},
   "source": [
    "## w/out GPU\n",
    "\n",
    "* Just CPUs for ResMiCo"
   ]
  },
  {
   "cell_type": "markdown",
   "metadata": {},
   "source": [
    "### Config"
   ]
  },
  {
   "cell_type": "code",
   "execution_count": 22,
   "metadata": {
    "ExecuteTime": {
     "end_time": "2022-09-17T14:07:16.307501Z",
     "start_time": "2022-09-17T14:07:16.103Z"
    }
   },
   "outputs": [
    {
     "name": "stdout",
     "output_type": "stream",
     "text": [
      "#-- I/O --#\n",
      "# table with sample --> read_file information\n",
      "samples_file: /ebio/abt3_projects/databases_no-backup/CAMI/CAMI2_HMP-gut/short_read/LLMGA/samples.tsv\n",
      "\n",
      "# output location\n",
      "output_dir: /ebio/abt3_projects/databases_no-backup/CAMI/CAMI2_HMP-gut/short_read/LLMGA/\n",
      "\n",
      "# temporary file directory (your username will be added automatically)\n",
      "tmp_dir: /ebio/abt3_scratch/\n",
      "\n",
      "#-- reference genomes for metacompass --#\n",
      "metacompass_ref: /ebio/abt3_projects/Anxiety_Twins_Metagenomes/data/metagenome/TUKMZ-BGI250/llmga-find-refs/references/drep/dereplicated_genomes.fna\n",
      "\n",
      "#-- master control --#\n",
      "# which major parts of the pipline to run \n",
      "run_assembly: True\n",
      "run_binning: False\n",
      "run_other_assembly: False\n",
      "\n",
      "#-- software parameters --#\n",
      "# Notes:\n",
      "## see \"Notes on the `config.yaml` file\" in the README\n",
      "params:\n",
      "  # misc\n",
      "  ionice: -c 3\n",
      "  use_gpu: False\n",
      "  # raw reads\n",
      "  reads:\n",
      "    subsample: 80000000\n",
      "    fastqc: \"\"  \n",
      "  # metacompass (per-sample ref-based assembly); skipped if using graphbin2\n",
      "  metacompass:\n",
      "    buildcontig: Skip #--pickref breadth --mincov 3 -l 1000 -n T -b F -u F\n",
      "    pilon: \"\"\n",
      "  # denovo per-sample assembly (unmapped if metacompass used, else all reads)\n",
      "  denovo_assembly:\n",
      "    metaspades: -k auto --only-assembler\n",
      "    megahit: Skip #--min-count 3 --min-contig-len 500 --presets meta-sensitive\n",
      "  # combined, final contigs from assemblies\n",
      "  final_contigs:\n",
      "    derep_contigs: minidentity=100 minscaf=1000 minoverlappercent=95\n",
      "    contig_rename: \"\"\n",
      "    min_contig_len: 1500            # min contig length retained\n",
      "    metaquast: --max-ref-number 0   # job run on rick to use internet if `--max-ref-number` > 0\n",
      "  # contig filtering\n",
      "  contig_filtering:\n",
      "    resmico:\n",
      "      bowtie2:\n",
      "        build: \"\"\n",
      "        map: \"\"\n",
      "      bam2feat: --max-coverage 20\n",
      "      evaluate: --batch-size 100 --gpu-eval-mem-gb 1 --max-len 20000\n",
      "                --min-contig-len 1000 --min-avg-coverage 1 --seed 12\n",
      "      filter: --score-cutoff 0.8 --min-length 0\n",
      "    metaquast: --max-ref-number 0\n",
      "  # contig binning\n",
      "  binning:\n",
      "    subsample: 5000000       # how many reads per sample to use for dif-cov binning?\n",
      "    # mapping\n",
      "    map:\n",
      "      num_map_samples: 40    # how many samples to use for dif-cov. binning ('all' = all samples)\n",
      "      minimap2:\n",
      "        index: -k 15 -w 10 -I 12G\n",
      "        map: -N 5 -F 800\n",
      "      samtools_view: -q 0 -F 3584                 # -q = MAPQ cutoff\n",
      "      bam_to_depth: --percentIdentity 97\n",
      "      keep_bam: False                       # keep all BAM files?\n",
      "    # binning\n",
      "    binners:\n",
      "      maxbin2:\n",
      "        Low: -min_contig_length 1500 -markerset 40 -prob_threshold 0.6\n",
      "        Med: -min_contig_length 1500 -markerset 40 -prob_threshold 0.7\n",
      "        High: -min_contig_length 1500 -markerset 40 -prob_threshold 0.8\n",
      "      metabat2:\n",
      "        Low: --minContig 1500 --minCV 0.5 --minCVSum 0.5 --maxP 92\n",
      "             --maxEdges 150 --seed 8394\n",
      "        Med: --minContig 1500 --minCV 0.5 --minCVSum 0.5 --maxP 94\n",
      "             --maxEdges 325 --seed 8394\n",
      "        High: --minContig 1500 --minCV 0.5 --minCVSum 0.5 --maxP 97\n",
      "              --maxEdges 500 --seed 8394\n",
      "        LowNoCov: --minContig 1500 --minCV 0.5 --minCVSum 0.5 --maxP 92\n",
      "                  --maxEdges 150 --seed 8394 NOCOV\n",
      "        MedNoCov: --minContig 1500 --minCV 0.5 --minCVSum 0.5 --maxP 94\n",
      "                  --maxEdges 325 --seed 8394 NOCOV\n",
      "        HighNoCov: --minContig 1500 --minCV 0.5 --minCVSum 0.5 --maxP 97\n",
      "                   --maxEdges 500 --seed 8394 NOCOV\n",
      "      vamb:\n",
      "        Low: -c 10000 -m 1500 -l 24 -n 384 384\n",
      "        Med: -c 10000 -m 1500 -l 32 -n 512 512\n",
      "        High: -c 10000 -m 1500 -l 40 -n 768 768\n",
      "    # selecting final bins (MAGs)\n",
      "    select:\n",
      "      das_tool: --search_engine diamond\n",
      "      genome_table: \"\"\n",
      "  # denovo assembly of other genetic components\n",
      "  denovo_other_assembly:\n",
      "    min_contig_len: 1000\n",
      "    metaplasmidspades: -k auto --only-assembler\n",
      "    metabiosyntheticspades: -k auto --only-assembler\n",
      "  \n",
      "#-- snakemake pipeline --#\n",
      "pipeline:\n",
      "  snakemake_folder: ./\n",
      "  script_folder: bin/scripts/\n",
      "  random_number_seed: 83421\n",
      "  name: LLMGA\n"
     ]
    }
   ],
   "source": [
    "F = file.path(work_dir, 'config_cpu.yaml')\n",
    "cat_file(F)"
   ]
  },
  {
   "cell_type": "markdown",
   "metadata": {},
   "source": [
    "### Run "
   ]
  },
  {
   "cell_type": "markdown",
   "metadata": {},
   "source": [
    "```\n",
    "(snakemake) rick: /tmp/global2/nyoungblut/code/dev/ll_pipelines/llmga\n",
    "$ screen -L -S llmga-cami-gut ./snakemake_sge.sh /ebio/abt3_projects/databases_no-backup/DeepMAsED/version2/CAMI/CAMI2_HMP-gut/short_read/LLMGA/config_cpu.yaml 40 --notemp\n",
    "```"
   ]
  },
  {
   "cell_type": "markdown",
   "metadata": {},
   "source": [
    "## Benchmarking"
   ]
  },
  {
   "cell_type": "code",
   "execution_count": 45,
   "metadata": {
    "ExecuteTime": {
     "end_time": "2022-09-19T03:03:12.061483Z",
     "start_time": "2022-09-19T03:03:11.908Z"
    }
   },
   "outputs": [
    {
     "data": {
      "text/html": [
       "<table class=\"dataframe\">\n",
       "<caption>A data.table: 10 × 16</caption>\n",
       "<thead>\n",
       "\t<tr><th scope=col>Sample</th><th scope=col>file</th><th scope=col>format</th><th scope=col>type</th><th scope=col>num_seqs</th><th scope=col>sum_len</th><th scope=col>min_len</th><th scope=col>avg_len</th><th scope=col>max_len</th><th scope=col>Q1</th><th scope=col>Q2</th><th scope=col>Q3</th><th scope=col>sum_gap</th><th scope=col>N50</th><th scope=col>Q20...</th><th scope=col>Q30...</th></tr>\n",
       "\t<tr><th scope=col>&lt;chr&gt;</th><th scope=col>&lt;chr&gt;</th><th scope=col>&lt;chr&gt;</th><th scope=col>&lt;chr&gt;</th><th scope=col>&lt;int&gt;</th><th scope=col>&lt;int&gt;</th><th scope=col>&lt;int&gt;</th><th scope=col>&lt;dbl&gt;</th><th scope=col>&lt;int&gt;</th><th scope=col>&lt;dbl&gt;</th><th scope=col>&lt;dbl&gt;</th><th scope=col>&lt;dbl&gt;</th><th scope=col>&lt;int&gt;</th><th scope=col>&lt;int&gt;</th><th scope=col>&lt;dbl&gt;</th><th scope=col>&lt;dbl&gt;</th></tr>\n",
       "</thead>\n",
       "<tbody>\n",
       "\t<tr><td>2017_12_04_18_45_54_sample_0 </td><td>/ebio/abt3_scratch/nyoungblut/LLMGA_122597181487/all_contigs/2017_12_04_18_45_54_sample_0/contigs_final.fasta </td><td>FASTA</td><td>DNA</td><td>11432</td><td>50406118</td><td>1000</td><td>4409.2</td><td>916452</td><td>1177</td><td>1476</td><td>2185</td><td>0</td><td>30295</td><td>0</td><td>0</td></tr>\n",
       "\t<tr><td>2017_12_04_18_45_54_sample_10</td><td>/ebio/abt3_scratch/nyoungblut/LLMGA_122597181487/all_contigs/2017_12_04_18_45_54_sample_10/contigs_final.fasta</td><td>FASTA</td><td>DNA</td><td>29634</td><td>87038916</td><td>1000</td><td>2937.1</td><td>947036</td><td>1160</td><td>1422</td><td>2104</td><td>0</td><td> 4152</td><td>0</td><td>0</td></tr>\n",
       "\t<tr><td>⋮</td><td>⋮</td><td>⋮</td><td>⋮</td><td>⋮</td><td>⋮</td><td>⋮</td><td>⋮</td><td>⋮</td><td>⋮</td><td>⋮</td><td>⋮</td><td>⋮</td><td>⋮</td><td>⋮</td><td>⋮</td></tr>\n",
       "\t<tr><td>2017_12_04_18_45_54_sample_5</td><td>/ebio/abt3_scratch/nyoungblut/LLMGA_122597181487/all_contigs/2017_12_04_18_45_54_sample_5/contigs_final.fasta</td><td>FASTA</td><td>DNA</td><td> 8928</td><td>53200167</td><td>1000</td><td>5958.8</td><td>1284450</td><td>1191</td><td>1573.5</td><td>3042</td><td>0</td><td>36309</td><td>0</td><td>0</td></tr>\n",
       "\t<tr><td>2017_12_04_18_45_54_sample_9</td><td>/ebio/abt3_scratch/nyoungblut/LLMGA_122597181487/all_contigs/2017_12_04_18_45_54_sample_9/contigs_final.fasta</td><td>FASTA</td><td>DNA</td><td>23667</td><td>75932986</td><td>1000</td><td>3208.4</td><td> 550302</td><td>1158</td><td>1426.0</td><td>2118</td><td>0</td><td> 5649</td><td>0</td><td>0</td></tr>\n",
       "</tbody>\n",
       "</table>\n"
      ],
      "text/latex": [
       "A data.table: 10 × 16\n",
       "\\begin{tabular}{llllllllllllllll}\n",
       " Sample & file & format & type & num\\_seqs & sum\\_len & min\\_len & avg\\_len & max\\_len & Q1 & Q2 & Q3 & sum\\_gap & N50 & Q20... & Q30...\\\\\n",
       " <chr> & <chr> & <chr> & <chr> & <int> & <int> & <int> & <dbl> & <int> & <dbl> & <dbl> & <dbl> & <int> & <int> & <dbl> & <dbl>\\\\\n",
       "\\hline\n",
       "\t 2017\\_12\\_04\\_18\\_45\\_54\\_sample\\_0  & /ebio/abt3\\_scratch/nyoungblut/LLMGA\\_122597181487/all\\_contigs/2017\\_12\\_04\\_18\\_45\\_54\\_sample\\_0/contigs\\_final.fasta  & FASTA & DNA & 11432 & 50406118 & 1000 & 4409.2 & 916452 & 1177 & 1476 & 2185 & 0 & 30295 & 0 & 0\\\\\n",
       "\t 2017\\_12\\_04\\_18\\_45\\_54\\_sample\\_10 & /ebio/abt3\\_scratch/nyoungblut/LLMGA\\_122597181487/all\\_contigs/2017\\_12\\_04\\_18\\_45\\_54\\_sample\\_10/contigs\\_final.fasta & FASTA & DNA & 29634 & 87038916 & 1000 & 2937.1 & 947036 & 1160 & 1422 & 2104 & 0 &  4152 & 0 & 0\\\\\n",
       "\t ⋮ & ⋮ & ⋮ & ⋮ & ⋮ & ⋮ & ⋮ & ⋮ & ⋮ & ⋮ & ⋮ & ⋮ & ⋮ & ⋮ & ⋮ & ⋮\\\\\n",
       "\t 2017\\_12\\_04\\_18\\_45\\_54\\_sample\\_5 & /ebio/abt3\\_scratch/nyoungblut/LLMGA\\_122597181487/all\\_contigs/2017\\_12\\_04\\_18\\_45\\_54\\_sample\\_5/contigs\\_final.fasta & FASTA & DNA &  8928 & 53200167 & 1000 & 5958.8 & 1284450 & 1191 & 1573.5 & 3042 & 0 & 36309 & 0 & 0\\\\\n",
       "\t 2017\\_12\\_04\\_18\\_45\\_54\\_sample\\_9 & /ebio/abt3\\_scratch/nyoungblut/LLMGA\\_122597181487/all\\_contigs/2017\\_12\\_04\\_18\\_45\\_54\\_sample\\_9/contigs\\_final.fasta & FASTA & DNA & 23667 & 75932986 & 1000 & 3208.4 &  550302 & 1158 & 1426.0 & 2118 & 0 &  5649 & 0 & 0\\\\\n",
       "\\end{tabular}\n"
      ],
      "text/markdown": [
       "\n",
       "A data.table: 10 × 16\n",
       "\n",
       "| Sample &lt;chr&gt; | file &lt;chr&gt; | format &lt;chr&gt; | type &lt;chr&gt; | num_seqs &lt;int&gt; | sum_len &lt;int&gt; | min_len &lt;int&gt; | avg_len &lt;dbl&gt; | max_len &lt;int&gt; | Q1 &lt;dbl&gt; | Q2 &lt;dbl&gt; | Q3 &lt;dbl&gt; | sum_gap &lt;int&gt; | N50 &lt;int&gt; | Q20... &lt;dbl&gt; | Q30... &lt;dbl&gt; |\n",
       "|---|---|---|---|---|---|---|---|---|---|---|---|---|---|---|---|\n",
       "| 2017_12_04_18_45_54_sample_0  | /ebio/abt3_scratch/nyoungblut/LLMGA_122597181487/all_contigs/2017_12_04_18_45_54_sample_0/contigs_final.fasta  | FASTA | DNA | 11432 | 50406118 | 1000 | 4409.2 | 916452 | 1177 | 1476 | 2185 | 0 | 30295 | 0 | 0 |\n",
       "| 2017_12_04_18_45_54_sample_10 | /ebio/abt3_scratch/nyoungblut/LLMGA_122597181487/all_contigs/2017_12_04_18_45_54_sample_10/contigs_final.fasta | FASTA | DNA | 29634 | 87038916 | 1000 | 2937.1 | 947036 | 1160 | 1422 | 2104 | 0 |  4152 | 0 | 0 |\n",
       "| ⋮ | ⋮ | ⋮ | ⋮ | ⋮ | ⋮ | ⋮ | ⋮ | ⋮ | ⋮ | ⋮ | ⋮ | ⋮ | ⋮ | ⋮ | ⋮ |\n",
       "| 2017_12_04_18_45_54_sample_5 | /ebio/abt3_scratch/nyoungblut/LLMGA_122597181487/all_contigs/2017_12_04_18_45_54_sample_5/contigs_final.fasta | FASTA | DNA |  8928 | 53200167 | 1000 | 5958.8 | 1284450 | 1191 | 1573.5 | 3042 | 0 | 36309 | 0 | 0 |\n",
       "| 2017_12_04_18_45_54_sample_9 | /ebio/abt3_scratch/nyoungblut/LLMGA_122597181487/all_contigs/2017_12_04_18_45_54_sample_9/contigs_final.fasta | FASTA | DNA | 23667 | 75932986 | 1000 | 3208.4 |  550302 | 1158 | 1426.0 | 2118 | 0 |  5649 | 0 | 0 |\n",
       "\n"
      ],
      "text/plain": [
       "   Sample                       \n",
       "1  2017_12_04_18_45_54_sample_0 \n",
       "2  2017_12_04_18_45_54_sample_10\n",
       "⋮  ⋮                            \n",
       "9  2017_12_04_18_45_54_sample_5 \n",
       "10 2017_12_04_18_45_54_sample_9 \n",
       "   file                                                                                                          \n",
       "1  /ebio/abt3_scratch/nyoungblut/LLMGA_122597181487/all_contigs/2017_12_04_18_45_54_sample_0/contigs_final.fasta \n",
       "2  /ebio/abt3_scratch/nyoungblut/LLMGA_122597181487/all_contigs/2017_12_04_18_45_54_sample_10/contigs_final.fasta\n",
       "⋮  ⋮                                                                                                             \n",
       "9  /ebio/abt3_scratch/nyoungblut/LLMGA_122597181487/all_contigs/2017_12_04_18_45_54_sample_5/contigs_final.fasta \n",
       "10 /ebio/abt3_scratch/nyoungblut/LLMGA_122597181487/all_contigs/2017_12_04_18_45_54_sample_9/contigs_final.fasta \n",
       "   format type num_seqs sum_len  min_len avg_len max_len Q1   Q2     Q3  \n",
       "1  FASTA  DNA  11432    50406118 1000    4409.2  916452  1177 1476   2185\n",
       "2  FASTA  DNA  29634    87038916 1000    2937.1  947036  1160 1422   2104\n",
       "⋮  ⋮      ⋮    ⋮        ⋮        ⋮       ⋮       ⋮       ⋮    ⋮      ⋮   \n",
       "9  FASTA  DNA   8928    53200167 1000    5958.8  1284450 1191 1573.5 3042\n",
       "10 FASTA  DNA  23667    75932986 1000    3208.4   550302 1158 1426.0 2118\n",
       "   sum_gap N50   Q20... Q30...\n",
       "1  0       30295 0      0     \n",
       "2  0        4152 0      0     \n",
       "⋮  ⋮       ⋮     ⋮      ⋮     \n",
       "9  0       36309 0      0     \n",
       "10 0        5649 0      0     "
      ]
     },
     "metadata": {},
     "output_type": "display_data"
    }
   ],
   "source": [
    "F = file.path(work_dir, 'final_contigs', 'contig_stats.tsv')\n",
    "contig_stats = Fread(F)\n",
    "contig_stats"
   ]
  },
  {
   "cell_type": "code",
   "execution_count": 57,
   "metadata": {
    "ExecuteTime": {
     "end_time": "2022-09-19T03:08:58.842415Z",
     "start_time": "2022-09-19T03:08:58.712Z"
    }
   },
   "outputs": [
    {
     "data": {
      "text/html": [
       "<table class=\"dataframe\">\n",
       "<caption>A matrix: 1 × 8 of type dbl</caption>\n",
       "<thead>\n",
       "\t<tr><th></th><th scope=col>Min.</th><th scope=col>1st Qu.</th><th scope=col>Median</th><th scope=col>Mean</th><th scope=col>3rd Qu.</th><th scope=col>Max.</th><th scope=col>sd</th><th scope=col>sd_err_of_mean</th></tr>\n",
       "</thead>\n",
       "<tbody>\n",
       "\t<tr><th scope=row>num_seqs</th><td>8928</td><td>12673</td><td>17883</td><td>17933.5</td><td>21435.5</td><td>29634</td><td>6381.728</td><td>2605.329</td></tr>\n",
       "</tbody>\n",
       "</table>\n"
      ],
      "text/latex": [
       "A matrix: 1 × 8 of type dbl\n",
       "\\begin{tabular}{r|llllllll}\n",
       "  & Min. & 1st Qu. & Median & Mean & 3rd Qu. & Max. & sd & sd\\_err\\_of\\_mean\\\\\n",
       "\\hline\n",
       "\tnum\\_seqs & 8928 & 12673 & 17883 & 17933.5 & 21435.5 & 29634 & 6381.728 & 2605.329\\\\\n",
       "\\end{tabular}\n"
      ],
      "text/markdown": [
       "\n",
       "A matrix: 1 × 8 of type dbl\n",
       "\n",
       "| <!--/--> | Min. | 1st Qu. | Median | Mean | 3rd Qu. | Max. | sd | sd_err_of_mean |\n",
       "|---|---|---|---|---|---|---|---|---|\n",
       "| num_seqs | 8928 | 12673 | 17883 | 17933.5 | 21435.5 | 29634 | 6381.728 | 2605.329 |\n",
       "\n"
      ],
      "text/plain": [
       "         Min. 1st Qu. Median Mean    3rd Qu. Max.  sd       sd_err_of_mean\n",
       "num_seqs 8928 12673   17883  17933.5 21435.5 29634 6381.728 2605.329      "
      ]
     },
     "metadata": {},
     "output_type": "display_data"
    },
    {
     "data": {
      "text/html": [
       "<table class=\"dataframe\">\n",
       "<caption>A matrix: 1 × 8 of type dbl</caption>\n",
       "<thead>\n",
       "\t<tr><th></th><th scope=col>Min.</th><th scope=col>1st Qu.</th><th scope=col>Median</th><th scope=col>Mean</th><th scope=col>3rd Qu.</th><th scope=col>Max.</th><th scope=col>sd</th><th scope=col>sd_err_of_mean</th></tr>\n",
       "</thead>\n",
       "<tbody>\n",
       "\t<tr><th scope=row>avg_len</th><td>2937.1</td><td>3456.375</td><td>3823.95</td><td>4051.85</td><td>4357.325</td><td>5958.8</td><td>911.299</td><td>372.036</td></tr>\n",
       "</tbody>\n",
       "</table>\n"
      ],
      "text/latex": [
       "A matrix: 1 × 8 of type dbl\n",
       "\\begin{tabular}{r|llllllll}\n",
       "  & Min. & 1st Qu. & Median & Mean & 3rd Qu. & Max. & sd & sd\\_err\\_of\\_mean\\\\\n",
       "\\hline\n",
       "\tavg\\_len & 2937.1 & 3456.375 & 3823.95 & 4051.85 & 4357.325 & 5958.8 & 911.299 & 372.036\\\\\n",
       "\\end{tabular}\n"
      ],
      "text/markdown": [
       "\n",
       "A matrix: 1 × 8 of type dbl\n",
       "\n",
       "| <!--/--> | Min. | 1st Qu. | Median | Mean | 3rd Qu. | Max. | sd | sd_err_of_mean |\n",
       "|---|---|---|---|---|---|---|---|---|\n",
       "| avg_len | 2937.1 | 3456.375 | 3823.95 | 4051.85 | 4357.325 | 5958.8 | 911.299 | 372.036 |\n",
       "\n"
      ],
      "text/plain": [
       "        Min.   1st Qu.  Median  Mean    3rd Qu.  Max.   sd      sd_err_of_mean\n",
       "avg_len 2937.1 3456.375 3823.95 4051.85 4357.325 5958.8 911.299 372.036       "
      ]
     },
     "metadata": {},
     "output_type": "display_data"
    }
   ],
   "source": [
    "summary_x(contig_stats$num_seqs)\n",
    "summary_x(contig_stats$avg_len)"
   ]
  },
  {
   "cell_type": "code",
   "execution_count": 46,
   "metadata": {
    "ExecuteTime": {
     "end_time": "2022-09-19T03:03:12.190043Z",
     "start_time": "2022-09-19T03:03:12.067Z"
    }
   },
   "outputs": [],
   "source": [
    "read_table = function(F){\n",
    "    df = Fread(F)\n",
    "    df$Sample = gsub('\\\\.txt$', '', basename(F))\n",
    "    return(df)\n",
    "}"
   ]
  },
  {
   "cell_type": "code",
   "execution_count": 53,
   "metadata": {
    "ExecuteTime": {
     "end_time": "2022-09-19T03:04:40.894339Z",
     "start_time": "2022-09-19T03:04:40.721Z"
    }
   },
   "outputs": [
    {
     "data": {
      "text/html": [
       "<table class=\"dataframe\">\n",
       "<caption>A matrix: 1 × 8 of type dbl</caption>\n",
       "<thead>\n",
       "\t<tr><th></th><th scope=col>Min.</th><th scope=col>1st Qu.</th><th scope=col>Median</th><th scope=col>Mean</th><th scope=col>3rd Qu.</th><th scope=col>Max.</th><th scope=col>sd</th><th scope=col>sd_err_of_mean</th></tr>\n",
       "</thead>\n",
       "<tbody>\n",
       "\t<tr><th scope=row>s</th><td>53.2947</td><td>64.66317</td><td>69.1279</td><td>69.38026</td><td>76.76232</td><td>79.7853</td><td>8.349</td><td>3.408</td></tr>\n",
       "</tbody>\n",
       "</table>\n"
      ],
      "text/latex": [
       "A matrix: 1 × 8 of type dbl\n",
       "\\begin{tabular}{r|llllllll}\n",
       "  & Min. & 1st Qu. & Median & Mean & 3rd Qu. & Max. & sd & sd\\_err\\_of\\_mean\\\\\n",
       "\\hline\n",
       "\ts & 53.2947 & 64.66317 & 69.1279 & 69.38026 & 76.76232 & 79.7853 & 8.349 & 3.408\\\\\n",
       "\\end{tabular}\n"
      ],
      "text/markdown": [
       "\n",
       "A matrix: 1 × 8 of type dbl\n",
       "\n",
       "| <!--/--> | Min. | 1st Qu. | Median | Mean | 3rd Qu. | Max. | sd | sd_err_of_mean |\n",
       "|---|---|---|---|---|---|---|---|---|\n",
       "| s | 53.2947 | 64.66317 | 69.1279 | 69.38026 | 76.76232 | 79.7853 | 8.349 | 3.408 |\n",
       "\n"
      ],
      "text/plain": [
       "  Min.    1st Qu.  Median  Mean     3rd Qu.  Max.    sd    sd_err_of_mean\n",
       "s 53.2947 64.66317 69.1279 69.38026 76.76232 79.7853 8.349 3.408         "
      ]
     },
     "metadata": {},
     "output_type": "display_data"
    },
    {
     "data": {
      "text/html": [
       "<table class=\"dataframe\">\n",
       "<caption>A tidytable: 10 × 12</caption>\n",
       "<thead>\n",
       "\t<tr><th scope=col>s</th><th scope=col>h.m.s</th><th scope=col>max_rss</th><th scope=col>max_vms</th><th scope=col>max_uss</th><th scope=col>max_pss</th><th scope=col>io_in</th><th scope=col>io_out</th><th scope=col>mean_load</th><th scope=col>cpu_time</th><th scope=col>Sample</th><th scope=col>Compute</th></tr>\n",
       "\t<tr><th scope=col>&lt;dbl&gt;</th><th scope=col>&lt;chr&gt;</th><th scope=col>&lt;dbl&gt;</th><th scope=col>&lt;dbl&gt;</th><th scope=col>&lt;dbl&gt;</th><th scope=col>&lt;dbl&gt;</th><th scope=col>&lt;dbl&gt;</th><th scope=col>&lt;dbl&gt;</th><th scope=col>&lt;dbl&gt;</th><th scope=col>&lt;dbl&gt;</th><th scope=col>&lt;chr&gt;</th><th scope=col>&lt;chr&gt;</th></tr>\n",
       "</thead>\n",
       "<tbody>\n",
       "\t<tr><td>64.4134</td><td>0:01:04</td><td>7838.57</td><td>108628.9</td><td>7856.66</td><td>7857.75</td><td>609.21</td><td>0.09</td><td>152.47</td><td> 98.42</td><td>2017_12_04_18_45_54_sample_0</td><td>GPU</td></tr>\n",
       "\t<tr><td>68.4430</td><td>0:01:08</td><td>8019.08</td><td>108534.1</td><td>7992.43</td><td>7993.55</td><td>665.16</td><td>0.09</td><td>167.63</td><td>114.94</td><td>2017_12_04_18_45_54_sample_1</td><td>GPU</td></tr>\n",
       "\t<tr><td>⋮</td><td>⋮</td><td>⋮</td><td>⋮</td><td>⋮</td><td>⋮</td><td>⋮</td><td>⋮</td><td>⋮</td><td>⋮</td><td>⋮</td><td>⋮</td></tr>\n",
       "\t<tr><td>65.4125</td><td>0:01:05</td><td>7101.16</td><td>107954.0</td><td>7104.93</td><td>7106.04</td><td>966.41</td><td>0.07</td><td>141.32</td><td> 92.64</td><td>2017_12_04_18_45_54_sample_5</td><td>GPU</td></tr>\n",
       "\t<tr><td>69.8558</td><td>0:01:09</td><td>7787.32</td><td>108815.6</td><td>7809.76</td><td>7810.89</td><td>594.96</td><td>0.09</td><td>162.79</td><td>113.96</td><td>2017_12_04_18_45_54_sample_9</td><td>GPU</td></tr>\n",
       "</tbody>\n",
       "</table>\n"
      ],
      "text/latex": [
       "A tidytable: 10 × 12\n",
       "\\begin{tabular}{llllllllllll}\n",
       " s & h.m.s & max\\_rss & max\\_vms & max\\_uss & max\\_pss & io\\_in & io\\_out & mean\\_load & cpu\\_time & Sample & Compute\\\\\n",
       " <dbl> & <chr> & <dbl> & <dbl> & <dbl> & <dbl> & <dbl> & <dbl> & <dbl> & <dbl> & <chr> & <chr>\\\\\n",
       "\\hline\n",
       "\t 64.4134 & 0:01:04 & 7838.57 & 108628.9 & 7856.66 & 7857.75 & 609.21 & 0.09 & 152.47 &  98.42 & 2017\\_12\\_04\\_18\\_45\\_54\\_sample\\_0 & GPU\\\\\n",
       "\t 68.4430 & 0:01:08 & 8019.08 & 108534.1 & 7992.43 & 7993.55 & 665.16 & 0.09 & 167.63 & 114.94 & 2017\\_12\\_04\\_18\\_45\\_54\\_sample\\_1 & GPU\\\\\n",
       "\t ⋮ & ⋮ & ⋮ & ⋮ & ⋮ & ⋮ & ⋮ & ⋮ & ⋮ & ⋮ & ⋮ & ⋮\\\\\n",
       "\t 65.4125 & 0:01:05 & 7101.16 & 107954.0 & 7104.93 & 7106.04 & 966.41 & 0.07 & 141.32 &  92.64 & 2017\\_12\\_04\\_18\\_45\\_54\\_sample\\_5 & GPU\\\\\n",
       "\t 69.8558 & 0:01:09 & 7787.32 & 108815.6 & 7809.76 & 7810.89 & 594.96 & 0.09 & 162.79 & 113.96 & 2017\\_12\\_04\\_18\\_45\\_54\\_sample\\_9 & GPU\\\\\n",
       "\\end{tabular}\n"
      ],
      "text/markdown": [
       "\n",
       "A tidytable: 10 × 12\n",
       "\n",
       "| s &lt;dbl&gt; | h.m.s &lt;chr&gt; | max_rss &lt;dbl&gt; | max_vms &lt;dbl&gt; | max_uss &lt;dbl&gt; | max_pss &lt;dbl&gt; | io_in &lt;dbl&gt; | io_out &lt;dbl&gt; | mean_load &lt;dbl&gt; | cpu_time &lt;dbl&gt; | Sample &lt;chr&gt; | Compute &lt;chr&gt; |\n",
       "|---|---|---|---|---|---|---|---|---|---|---|---|\n",
       "| 64.4134 | 0:01:04 | 7838.57 | 108628.9 | 7856.66 | 7857.75 | 609.21 | 0.09 | 152.47 |  98.42 | 2017_12_04_18_45_54_sample_0 | GPU |\n",
       "| 68.4430 | 0:01:08 | 8019.08 | 108534.1 | 7992.43 | 7993.55 | 665.16 | 0.09 | 167.63 | 114.94 | 2017_12_04_18_45_54_sample_1 | GPU |\n",
       "| ⋮ | ⋮ | ⋮ | ⋮ | ⋮ | ⋮ | ⋮ | ⋮ | ⋮ | ⋮ | ⋮ | ⋮ |\n",
       "| 65.4125 | 0:01:05 | 7101.16 | 107954.0 | 7104.93 | 7106.04 | 966.41 | 0.07 | 141.32 |  92.64 | 2017_12_04_18_45_54_sample_5 | GPU |\n",
       "| 69.8558 | 0:01:09 | 7787.32 | 108815.6 | 7809.76 | 7810.89 | 594.96 | 0.09 | 162.79 | 113.96 | 2017_12_04_18_45_54_sample_9 | GPU |\n",
       "\n"
      ],
      "text/plain": [
       "   s       h.m.s   max_rss max_vms  max_uss max_pss io_in  io_out mean_load\n",
       "1  64.4134 0:01:04 7838.57 108628.9 7856.66 7857.75 609.21 0.09   152.47   \n",
       "2  68.4430 0:01:08 8019.08 108534.1 7992.43 7993.55 665.16 0.09   167.63   \n",
       "⋮  ⋮       ⋮       ⋮       ⋮        ⋮       ⋮       ⋮      ⋮      ⋮        \n",
       "9  65.4125 0:01:05 7101.16 107954.0 7104.93 7106.04 966.41 0.07   141.32   \n",
       "10 69.8558 0:01:09 7787.32 108815.6 7809.76 7810.89 594.96 0.09   162.79   \n",
       "   cpu_time Sample                       Compute\n",
       "1   98.42   2017_12_04_18_45_54_sample_0 GPU    \n",
       "2  114.94   2017_12_04_18_45_54_sample_1 GPU    \n",
       "⋮  ⋮        ⋮                            ⋮      \n",
       "9   92.64   2017_12_04_18_45_54_sample_5 GPU    \n",
       "10 113.96   2017_12_04_18_45_54_sample_9 GPU    "
      ]
     },
     "metadata": {},
     "output_type": "display_data"
    }
   ],
   "source": [
    "# GPU runs\n",
    "P = file.path(work_dir, 'benchmarks', 'resmico_gpu', 'evaluate')\n",
    "bmk_files = list_files(P, '*.txt')\n",
    "\n",
    "bmk_gpu = bmk_files %>%\n",
    "    lapply(read_table) %>%\n",
    "    rbindlist(use.names=TRUE) %>%\n",
    "    mutate.(Compute = 'GPU')\n",
    "summary_x(bmk_gpu$s)\n",
    "bmk_gpu"
   ]
  },
  {
   "cell_type": "code",
   "execution_count": 52,
   "metadata": {
    "ExecuteTime": {
     "end_time": "2022-09-19T03:04:35.128361Z",
     "start_time": "2022-09-19T03:04:34.951Z"
    }
   },
   "outputs": [
    {
     "data": {
      "text/html": [
       "<table class=\"dataframe\">\n",
       "<caption>A matrix: 1 × 8 of type dbl</caption>\n",
       "<thead>\n",
       "\t<tr><th></th><th scope=col>Min.</th><th scope=col>1st Qu.</th><th scope=col>Median</th><th scope=col>Mean</th><th scope=col>3rd Qu.</th><th scope=col>Max.</th><th scope=col>sd</th><th scope=col>sd_err_of_mean</th></tr>\n",
       "</thead>\n",
       "<tbody>\n",
       "\t<tr><th scope=row>s</th><td>88.6417</td><td>96.53518</td><td>134.7045</td><td>143.9863</td><td>151.3987</td><td>271.0488</td><td>60.999</td><td>24.903</td></tr>\n",
       "</tbody>\n",
       "</table>\n"
      ],
      "text/latex": [
       "A matrix: 1 × 8 of type dbl\n",
       "\\begin{tabular}{r|llllllll}\n",
       "  & Min. & 1st Qu. & Median & Mean & 3rd Qu. & Max. & sd & sd\\_err\\_of\\_mean\\\\\n",
       "\\hline\n",
       "\ts & 88.6417 & 96.53518 & 134.7045 & 143.9863 & 151.3987 & 271.0488 & 60.999 & 24.903\\\\\n",
       "\\end{tabular}\n"
      ],
      "text/markdown": [
       "\n",
       "A matrix: 1 × 8 of type dbl\n",
       "\n",
       "| <!--/--> | Min. | 1st Qu. | Median | Mean | 3rd Qu. | Max. | sd | sd_err_of_mean |\n",
       "|---|---|---|---|---|---|---|---|---|\n",
       "| s | 88.6417 | 96.53518 | 134.7045 | 143.9863 | 151.3987 | 271.0488 | 60.999 | 24.903 |\n",
       "\n"
      ],
      "text/plain": [
       "  Min.    1st Qu.  Median   Mean     3rd Qu.  Max.     sd     sd_err_of_mean\n",
       "s 88.6417 96.53518 134.7045 143.9863 151.3987 271.0488 60.999 24.903        "
      ]
     },
     "metadata": {},
     "output_type": "display_data"
    },
    {
     "data": {
      "text/html": [
       "<table class=\"dataframe\">\n",
       "<caption>A tidytable: 10 × 12</caption>\n",
       "<thead>\n",
       "\t<tr><th scope=col>s</th><th scope=col>h.m.s</th><th scope=col>max_rss</th><th scope=col>max_vms</th><th scope=col>max_uss</th><th scope=col>max_pss</th><th scope=col>io_in</th><th scope=col>io_out</th><th scope=col>mean_load</th><th scope=col>cpu_time</th><th scope=col>Sample</th><th scope=col>Compute</th></tr>\n",
       "\t<tr><th scope=col>&lt;dbl&gt;</th><th scope=col>&lt;chr&gt;</th><th scope=col>&lt;dbl&gt;</th><th scope=col>&lt;dbl&gt;</th><th scope=col>&lt;dbl&gt;</th><th scope=col>&lt;dbl&gt;</th><th scope=col>&lt;dbl&gt;</th><th scope=col>&lt;dbl&gt;</th><th scope=col>&lt;dbl&gt;</th><th scope=col>&lt;dbl&gt;</th><th scope=col>&lt;chr&gt;</th><th scope=col>&lt;chr&gt;</th></tr>\n",
       "</thead>\n",
       "<tbody>\n",
       "\t<tr><td>271.0488</td><td>0:04:31</td><td>5717.88</td><td>35830.25</td><td>5844.40</td><td>5916.33</td><td>668.89</td><td>0.13</td><td>1968.74</td><td>5336.18</td><td>2017_12_04_18_45_54_sample_0</td><td>CPU</td></tr>\n",
       "\t<tr><td> 95.0128</td><td>0:01:35</td><td>4085.37</td><td>34914.27</td><td>4104.25</td><td>4104.70</td><td>741.28</td><td>0.04</td><td>3287.71</td><td>3124.05</td><td>2017_12_04_18_45_54_sample_1</td><td>CPU</td></tr>\n",
       "\t<tr><td>⋮</td><td>⋮</td><td>⋮</td><td>⋮</td><td>⋮</td><td>⋮</td><td>⋮</td><td>⋮</td><td>⋮</td><td>⋮</td><td>⋮</td><td>⋮</td></tr>\n",
       "\t<tr><td>226.4350</td><td>0:03:46</td><td>4845.77</td><td>34677.70</td><td>4665.42</td><td>4732.73</td><td>696.30</td><td>0.11</td><td>2335.25</td><td>5288.32</td><td>2017_12_04_18_45_54_sample_5</td><td>CPU</td></tr>\n",
       "\t<tr><td> 88.6417</td><td>0:01:28</td><td>3199.64</td><td>32373.94</td><td>3207.58</td><td>3208.03</td><td>903.02</td><td>0.04</td><td>3517.34</td><td>3118.10</td><td>2017_12_04_18_45_54_sample_9</td><td>CPU</td></tr>\n",
       "</tbody>\n",
       "</table>\n"
      ],
      "text/latex": [
       "A tidytable: 10 × 12\n",
       "\\begin{tabular}{llllllllllll}\n",
       " s & h.m.s & max\\_rss & max\\_vms & max\\_uss & max\\_pss & io\\_in & io\\_out & mean\\_load & cpu\\_time & Sample & Compute\\\\\n",
       " <dbl> & <chr> & <dbl> & <dbl> & <dbl> & <dbl> & <dbl> & <dbl> & <dbl> & <dbl> & <chr> & <chr>\\\\\n",
       "\\hline\n",
       "\t 271.0488 & 0:04:31 & 5717.88 & 35830.25 & 5844.40 & 5916.33 & 668.89 & 0.13 & 1968.74 & 5336.18 & 2017\\_12\\_04\\_18\\_45\\_54\\_sample\\_0 & CPU\\\\\n",
       "\t  95.0128 & 0:01:35 & 4085.37 & 34914.27 & 4104.25 & 4104.70 & 741.28 & 0.04 & 3287.71 & 3124.05 & 2017\\_12\\_04\\_18\\_45\\_54\\_sample\\_1 & CPU\\\\\n",
       "\t ⋮ & ⋮ & ⋮ & ⋮ & ⋮ & ⋮ & ⋮ & ⋮ & ⋮ & ⋮ & ⋮ & ⋮\\\\\n",
       "\t 226.4350 & 0:03:46 & 4845.77 & 34677.70 & 4665.42 & 4732.73 & 696.30 & 0.11 & 2335.25 & 5288.32 & 2017\\_12\\_04\\_18\\_45\\_54\\_sample\\_5 & CPU\\\\\n",
       "\t  88.6417 & 0:01:28 & 3199.64 & 32373.94 & 3207.58 & 3208.03 & 903.02 & 0.04 & 3517.34 & 3118.10 & 2017\\_12\\_04\\_18\\_45\\_54\\_sample\\_9 & CPU\\\\\n",
       "\\end{tabular}\n"
      ],
      "text/markdown": [
       "\n",
       "A tidytable: 10 × 12\n",
       "\n",
       "| s &lt;dbl&gt; | h.m.s &lt;chr&gt; | max_rss &lt;dbl&gt; | max_vms &lt;dbl&gt; | max_uss &lt;dbl&gt; | max_pss &lt;dbl&gt; | io_in &lt;dbl&gt; | io_out &lt;dbl&gt; | mean_load &lt;dbl&gt; | cpu_time &lt;dbl&gt; | Sample &lt;chr&gt; | Compute &lt;chr&gt; |\n",
       "|---|---|---|---|---|---|---|---|---|---|---|---|\n",
       "| 271.0488 | 0:04:31 | 5717.88 | 35830.25 | 5844.40 | 5916.33 | 668.89 | 0.13 | 1968.74 | 5336.18 | 2017_12_04_18_45_54_sample_0 | CPU |\n",
       "|  95.0128 | 0:01:35 | 4085.37 | 34914.27 | 4104.25 | 4104.70 | 741.28 | 0.04 | 3287.71 | 3124.05 | 2017_12_04_18_45_54_sample_1 | CPU |\n",
       "| ⋮ | ⋮ | ⋮ | ⋮ | ⋮ | ⋮ | ⋮ | ⋮ | ⋮ | ⋮ | ⋮ | ⋮ |\n",
       "| 226.4350 | 0:03:46 | 4845.77 | 34677.70 | 4665.42 | 4732.73 | 696.30 | 0.11 | 2335.25 | 5288.32 | 2017_12_04_18_45_54_sample_5 | CPU |\n",
       "|  88.6417 | 0:01:28 | 3199.64 | 32373.94 | 3207.58 | 3208.03 | 903.02 | 0.04 | 3517.34 | 3118.10 | 2017_12_04_18_45_54_sample_9 | CPU |\n",
       "\n"
      ],
      "text/plain": [
       "   s        h.m.s   max_rss max_vms  max_uss max_pss io_in  io_out mean_load\n",
       "1  271.0488 0:04:31 5717.88 35830.25 5844.40 5916.33 668.89 0.13   1968.74  \n",
       "2   95.0128 0:01:35 4085.37 34914.27 4104.25 4104.70 741.28 0.04   3287.71  \n",
       "⋮  ⋮        ⋮       ⋮       ⋮        ⋮       ⋮       ⋮      ⋮      ⋮        \n",
       "9  226.4350 0:03:46 4845.77 34677.70 4665.42 4732.73 696.30 0.11   2335.25  \n",
       "10  88.6417 0:01:28 3199.64 32373.94 3207.58 3208.03 903.02 0.04   3517.34  \n",
       "   cpu_time Sample                       Compute\n",
       "1  5336.18  2017_12_04_18_45_54_sample_0 CPU    \n",
       "2  3124.05  2017_12_04_18_45_54_sample_1 CPU    \n",
       "⋮  ⋮        ⋮                            ⋮      \n",
       "9  5288.32  2017_12_04_18_45_54_sample_5 CPU    \n",
       "10 3118.10  2017_12_04_18_45_54_sample_9 CPU    "
      ]
     },
     "metadata": {},
     "output_type": "display_data"
    }
   ],
   "source": [
    "# CPU runs\n",
    "P = file.path(work_dir, 'benchmarks', 'resmico_cpu', 'evaluate')\n",
    "bmk_files = list_files(P, '*.txt')\n",
    "\n",
    "bmk_cpu = bmk_files %>%\n",
    "    lapply(read_table) %>%\n",
    "    rbindlist(use.names=TRUE) %>%\n",
    "    mutate.(Compute = 'CPU')\n",
    "summary_x(bmk_cpu$s)\n",
    "bmk_cpu"
   ]
  },
  {
   "cell_type": "code",
   "execution_count": 49,
   "metadata": {
    "ExecuteTime": {
     "end_time": "2022-09-19T03:03:16.777693Z",
     "start_time": "2022-09-19T03:03:16.636Z"
    }
   },
   "outputs": [
    {
     "data": {
      "text/html": [
       "<table class=\"dataframe\">\n",
       "<caption>A data.table: 20 × 12</caption>\n",
       "<thead>\n",
       "\t<tr><th scope=col>s</th><th scope=col>h.m.s</th><th scope=col>max_rss</th><th scope=col>max_vms</th><th scope=col>max_uss</th><th scope=col>max_pss</th><th scope=col>io_in</th><th scope=col>io_out</th><th scope=col>mean_load</th><th scope=col>cpu_time</th><th scope=col>Sample</th><th scope=col>Compute</th></tr>\n",
       "\t<tr><th scope=col>&lt;dbl&gt;</th><th scope=col>&lt;chr&gt;</th><th scope=col>&lt;dbl&gt;</th><th scope=col>&lt;dbl&gt;</th><th scope=col>&lt;dbl&gt;</th><th scope=col>&lt;dbl&gt;</th><th scope=col>&lt;dbl&gt;</th><th scope=col>&lt;dbl&gt;</th><th scope=col>&lt;dbl&gt;</th><th scope=col>&lt;dbl&gt;</th><th scope=col>&lt;chr&gt;</th><th scope=col>&lt;chr&gt;</th></tr>\n",
       "</thead>\n",
       "<tbody>\n",
       "\t<tr><td>64.4134</td><td>0:01:04</td><td>7838.57</td><td>108628.9</td><td>7856.66</td><td>7857.75</td><td>609.21</td><td>0.09</td><td>152.47</td><td> 98.42</td><td>2017_12_04_18_45_54_sample_0</td><td>GPU</td></tr>\n",
       "\t<tr><td>68.4430</td><td>0:01:08</td><td>8019.08</td><td>108534.1</td><td>7992.43</td><td>7993.55</td><td>665.16</td><td>0.09</td><td>167.63</td><td>114.94</td><td>2017_12_04_18_45_54_sample_1</td><td>GPU</td></tr>\n",
       "\t<tr><td>⋮</td><td>⋮</td><td>⋮</td><td>⋮</td><td>⋮</td><td>⋮</td><td>⋮</td><td>⋮</td><td>⋮</td><td>⋮</td><td>⋮</td><td>⋮</td></tr>\n",
       "\t<tr><td>226.4350</td><td>0:03:46</td><td>4845.77</td><td>34677.70</td><td>4665.42</td><td>4732.73</td><td>696.30</td><td>0.11</td><td>2335.25</td><td>5288.32</td><td>2017_12_04_18_45_54_sample_5</td><td>CPU</td></tr>\n",
       "\t<tr><td> 88.6417</td><td>0:01:28</td><td>3199.64</td><td>32373.94</td><td>3207.58</td><td>3208.03</td><td>903.02</td><td>0.04</td><td>3517.34</td><td>3118.10</td><td>2017_12_04_18_45_54_sample_9</td><td>CPU</td></tr>\n",
       "</tbody>\n",
       "</table>\n"
      ],
      "text/latex": [
       "A data.table: 20 × 12\n",
       "\\begin{tabular}{llllllllllll}\n",
       " s & h.m.s & max\\_rss & max\\_vms & max\\_uss & max\\_pss & io\\_in & io\\_out & mean\\_load & cpu\\_time & Sample & Compute\\\\\n",
       " <dbl> & <chr> & <dbl> & <dbl> & <dbl> & <dbl> & <dbl> & <dbl> & <dbl> & <dbl> & <chr> & <chr>\\\\\n",
       "\\hline\n",
       "\t 64.4134 & 0:01:04 & 7838.57 & 108628.9 & 7856.66 & 7857.75 & 609.21 & 0.09 & 152.47 &  98.42 & 2017\\_12\\_04\\_18\\_45\\_54\\_sample\\_0 & GPU\\\\\n",
       "\t 68.4430 & 0:01:08 & 8019.08 & 108534.1 & 7992.43 & 7993.55 & 665.16 & 0.09 & 167.63 & 114.94 & 2017\\_12\\_04\\_18\\_45\\_54\\_sample\\_1 & GPU\\\\\n",
       "\t ⋮ & ⋮ & ⋮ & ⋮ & ⋮ & ⋮ & ⋮ & ⋮ & ⋮ & ⋮ & ⋮ & ⋮\\\\\n",
       "\t 226.4350 & 0:03:46 & 4845.77 & 34677.70 & 4665.42 & 4732.73 & 696.30 & 0.11 & 2335.25 & 5288.32 & 2017\\_12\\_04\\_18\\_45\\_54\\_sample\\_5 & CPU\\\\\n",
       "\t  88.6417 & 0:01:28 & 3199.64 & 32373.94 & 3207.58 & 3208.03 & 903.02 & 0.04 & 3517.34 & 3118.10 & 2017\\_12\\_04\\_18\\_45\\_54\\_sample\\_9 & CPU\\\\\n",
       "\\end{tabular}\n"
      ],
      "text/markdown": [
       "\n",
       "A data.table: 20 × 12\n",
       "\n",
       "| s &lt;dbl&gt; | h.m.s &lt;chr&gt; | max_rss &lt;dbl&gt; | max_vms &lt;dbl&gt; | max_uss &lt;dbl&gt; | max_pss &lt;dbl&gt; | io_in &lt;dbl&gt; | io_out &lt;dbl&gt; | mean_load &lt;dbl&gt; | cpu_time &lt;dbl&gt; | Sample &lt;chr&gt; | Compute &lt;chr&gt; |\n",
       "|---|---|---|---|---|---|---|---|---|---|---|---|\n",
       "| 64.4134 | 0:01:04 | 7838.57 | 108628.9 | 7856.66 | 7857.75 | 609.21 | 0.09 | 152.47 |  98.42 | 2017_12_04_18_45_54_sample_0 | GPU |\n",
       "| 68.4430 | 0:01:08 | 8019.08 | 108534.1 | 7992.43 | 7993.55 | 665.16 | 0.09 | 167.63 | 114.94 | 2017_12_04_18_45_54_sample_1 | GPU |\n",
       "| ⋮ | ⋮ | ⋮ | ⋮ | ⋮ | ⋮ | ⋮ | ⋮ | ⋮ | ⋮ | ⋮ | ⋮ |\n",
       "| 226.4350 | 0:03:46 | 4845.77 | 34677.70 | 4665.42 | 4732.73 | 696.30 | 0.11 | 2335.25 | 5288.32 | 2017_12_04_18_45_54_sample_5 | CPU |\n",
       "|  88.6417 | 0:01:28 | 3199.64 | 32373.94 | 3207.58 | 3208.03 | 903.02 | 0.04 | 3517.34 | 3118.10 | 2017_12_04_18_45_54_sample_9 | CPU |\n",
       "\n"
      ],
      "text/plain": [
       "   s        h.m.s   max_rss max_vms  max_uss max_pss io_in  io_out mean_load\n",
       "1  64.4134  0:01:04 7838.57 108628.9 7856.66 7857.75 609.21 0.09   152.47   \n",
       "2  68.4430  0:01:08 8019.08 108534.1 7992.43 7993.55 665.16 0.09   167.63   \n",
       "⋮  ⋮        ⋮       ⋮       ⋮        ⋮       ⋮       ⋮      ⋮      ⋮        \n",
       "19 226.4350 0:03:46 4845.77 34677.70 4665.42 4732.73 696.30 0.11   2335.25  \n",
       "20  88.6417 0:01:28 3199.64 32373.94 3207.58 3208.03 903.02 0.04   3517.34  \n",
       "   cpu_time Sample                       Compute\n",
       "1   98.42   2017_12_04_18_45_54_sample_0 GPU    \n",
       "2  114.94   2017_12_04_18_45_54_sample_1 GPU    \n",
       "⋮  ⋮        ⋮                            ⋮      \n",
       "19 5288.32  2017_12_04_18_45_54_sample_5 CPU    \n",
       "20 3118.10  2017_12_04_18_45_54_sample_9 CPU    "
      ]
     },
     "metadata": {},
     "output_type": "display_data"
    }
   ],
   "source": [
    "# merging\n",
    "bmk = rbindlist(list(bmk_gpu, bmk_cpu), use.names=TRUE)\n",
    "bmk"
   ]
  },
  {
   "cell_type": "code",
   "execution_count": 55,
   "metadata": {
    "ExecuteTime": {
     "end_time": "2022-09-19T03:05:08.006922Z",
     "start_time": "2022-09-19T03:05:07.855Z"
    }
   },
   "outputs": [
    {
     "name": "stdout",
     "output_type": "stream",
     "text": [
      "intersect(x,y): 10 \n",
      "setdiff(x,y): 0 \n",
      "setdiff(y,x): 0 \n",
      "union(x,y): 10 \n"
     ]
    },
    {
     "data": {
      "text/html": [
       "<table class=\"dataframe\">\n",
       "<caption>A matrix: 1 × 8 of type dbl</caption>\n",
       "<thead>\n",
       "\t<tr><th></th><th scope=col>Min.</th><th scope=col>1st Qu.</th><th scope=col>Median</th><th scope=col>Mean</th><th scope=col>3rd Qu.</th><th scope=col>Max.</th><th scope=col>sd</th><th scope=col>sd_err_of_mean</th></tr>\n",
       "</thead>\n",
       "<tbody>\n",
       "\t<tr><th scope=row>sec_per_contig</th><td>39.42853</td><td>92.68854</td><td>150.1898</td><td>150.2699</td><td>211.6714</td><td>266.9962</td><td>80.285</td><td>32.776</td></tr>\n",
       "</tbody>\n",
       "</table>\n"
      ],
      "text/latex": [
       "A matrix: 1 × 8 of type dbl\n",
       "\\begin{tabular}{r|llllllll}\n",
       "  & Min. & 1st Qu. & Median & Mean & 3rd Qu. & Max. & sd & sd\\_err\\_of\\_mean\\\\\n",
       "\\hline\n",
       "\tsec\\_per\\_contig & 39.42853 & 92.68854 & 150.1898 & 150.2699 & 211.6714 & 266.9962 & 80.285 & 32.776\\\\\n",
       "\\end{tabular}\n"
      ],
      "text/markdown": [
       "\n",
       "A matrix: 1 × 8 of type dbl\n",
       "\n",
       "| <!--/--> | Min. | 1st Qu. | Median | Mean | 3rd Qu. | Max. | sd | sd_err_of_mean |\n",
       "|---|---|---|---|---|---|---|---|---|\n",
       "| sec_per_contig | 39.42853 | 92.68854 | 150.1898 | 150.2699 | 211.6714 | 266.9962 | 80.285 | 32.776 |\n",
       "\n"
      ],
      "text/plain": [
       "               Min.     1st Qu.  Median   Mean     3rd Qu.  Max.     sd    \n",
       "sec_per_contig 39.42853 92.68854 150.1898 150.2699 211.6714 266.9962 80.285\n",
       "               sd_err_of_mean\n",
       "sec_per_contig 32.776        "
      ]
     },
     "metadata": {},
     "output_type": "display_data"
    },
    {
     "data": {
      "text/html": [
       "<table class=\"dataframe\">\n",
       "<caption>A matrix: 1 × 8 of type dbl</caption>\n",
       "<thead>\n",
       "\t<tr><th></th><th scope=col>Min.</th><th scope=col>1st Qu.</th><th scope=col>Median</th><th scope=col>Mean</th><th scope=col>3rd Qu.</th><th scope=col>Max.</th><th scope=col>sd</th><th scope=col>sd_err_of_mean</th></tr>\n",
       "</thead>\n",
       "<tbody>\n",
       "\t<tr><th scope=row>sec_per_contig</th><td>136.4877</td><td>184.9527</td><td>259.0974</td><td>257.5598</td><td>328.415</td><td>371.4218</td><td>83.063</td><td>33.91</td></tr>\n",
       "</tbody>\n",
       "</table>\n"
      ],
      "text/latex": [
       "A matrix: 1 × 8 of type dbl\n",
       "\\begin{tabular}{r|llllllll}\n",
       "  & Min. & 1st Qu. & Median & Mean & 3rd Qu. & Max. & sd & sd\\_err\\_of\\_mean\\\\\n",
       "\\hline\n",
       "\tsec\\_per\\_contig & 136.4877 & 184.9527 & 259.0974 & 257.5598 & 328.415 & 371.4218 & 83.063 & 33.91\\\\\n",
       "\\end{tabular}\n"
      ],
      "text/markdown": [
       "\n",
       "A matrix: 1 × 8 of type dbl\n",
       "\n",
       "| <!--/--> | Min. | 1st Qu. | Median | Mean | 3rd Qu. | Max. | sd | sd_err_of_mean |\n",
       "|---|---|---|---|---|---|---|---|---|\n",
       "| sec_per_contig | 136.4877 | 184.9527 | 259.0974 | 257.5598 | 328.415 | 371.4218 | 83.063 | 33.91 |\n",
       "\n"
      ],
      "text/plain": [
       "               Min.     1st Qu.  Median   Mean     3rd Qu. Max.     sd    \n",
       "sec_per_contig 136.4877 184.9527 259.0974 257.5598 328.415 371.4218 83.063\n",
       "               sd_err_of_mean\n",
       "sec_per_contig 33.91         "
      ]
     },
     "metadata": {},
     "output_type": "display_data"
    }
   ],
   "source": [
    "# joining bmk w/ contigs & calculating time per contig\n",
    "overlap(contig_stats$Sample, bmk$Sample)\n",
    "bmk_j = bmk %>%\n",
    "    inner_join.(contig_stats, c('Sample')) %>%\n",
    "    mutate.(sec_per_contig = num_seqs / s )\n",
    "summary_x(bmk_j %>% filter.(Compute == 'CPU') %>% .$sec_per_contig)\n",
    "summary_x(bmk_j %>% filter.(Compute == 'GPU') %>% .$sec_per_contig)"
   ]
  },
  {
   "cell_type": "code",
   "execution_count": 56,
   "metadata": {
    "ExecuteTime": {
     "end_time": "2022-09-19T03:05:09.517301Z",
     "start_time": "2022-09-19T03:05:09.369Z"
    }
   },
   "outputs": [
    {
     "data": {
      "text/html": [
       "<table class=\"dataframe\">\n",
       "<caption>A matrix: 1 × 8 of type dbl</caption>\n",
       "<thead>\n",
       "\t<tr><th></th><th scope=col>Min.</th><th scope=col>1st Qu.</th><th scope=col>Median</th><th scope=col>Mean</th><th scope=col>3rd Qu.</th><th scope=col>Max.</th><th scope=col>sd</th><th scope=col>sd_err_of_mean</th></tr>\n",
       "</thead>\n",
       "<tbody>\n",
       "\t<tr><th scope=row>max_vms/1000</th><td>32.37394</td><td>33.10455</td><td>34.15817</td><td>38.71962</td><td>35.60125</td><td>59.08379</td><td>10.354</td><td>4.227</td></tr>\n",
       "</tbody>\n",
       "</table>\n"
      ],
      "text/latex": [
       "A matrix: 1 × 8 of type dbl\n",
       "\\begin{tabular}{r|llllllll}\n",
       "  & Min. & 1st Qu. & Median & Mean & 3rd Qu. & Max. & sd & sd\\_err\\_of\\_mean\\\\\n",
       "\\hline\n",
       "\tmax\\_vms/1000 & 32.37394 & 33.10455 & 34.15817 & 38.71962 & 35.60125 & 59.08379 & 10.354 & 4.227\\\\\n",
       "\\end{tabular}\n"
      ],
      "text/markdown": [
       "\n",
       "A matrix: 1 × 8 of type dbl\n",
       "\n",
       "| <!--/--> | Min. | 1st Qu. | Median | Mean | 3rd Qu. | Max. | sd | sd_err_of_mean |\n",
       "|---|---|---|---|---|---|---|---|---|\n",
       "| max_vms/1000 | 32.37394 | 33.10455 | 34.15817 | 38.71962 | 35.60125 | 59.08379 | 10.354 | 4.227 |\n",
       "\n"
      ],
      "text/plain": [
       "             Min.     1st Qu.  Median   Mean     3rd Qu.  Max.     sd    \n",
       "max_vms/1000 32.37394 33.10455 34.15817 38.71962 35.60125 59.08379 10.354\n",
       "             sd_err_of_mean\n",
       "max_vms/1000 4.227         "
      ]
     },
     "metadata": {},
     "output_type": "display_data"
    },
    {
     "data": {
      "text/html": [
       "<table class=\"dataframe\">\n",
       "<caption>A matrix: 1 × 8 of type dbl</caption>\n",
       "<thead>\n",
       "\t<tr><th></th><th scope=col>Min.</th><th scope=col>1st Qu.</th><th scope=col>Median</th><th scope=col>Mean</th><th scope=col>3rd Qu.</th><th scope=col>Max.</th><th scope=col>sd</th><th scope=col>sd_err_of_mean</th></tr>\n",
       "</thead>\n",
       "<tbody>\n",
       "\t<tr><th scope=row>max_vms/1000</th><td>106.4293</td><td>107.9729</td><td>108.4012</td><td>108.1809</td><td>108.6132</td><td>108.8156</td><td>0.708</td><td>0.289</td></tr>\n",
       "</tbody>\n",
       "</table>\n"
      ],
      "text/latex": [
       "A matrix: 1 × 8 of type dbl\n",
       "\\begin{tabular}{r|llllllll}\n",
       "  & Min. & 1st Qu. & Median & Mean & 3rd Qu. & Max. & sd & sd\\_err\\_of\\_mean\\\\\n",
       "\\hline\n",
       "\tmax\\_vms/1000 & 106.4293 & 107.9729 & 108.4012 & 108.1809 & 108.6132 & 108.8156 & 0.708 & 0.289\\\\\n",
       "\\end{tabular}\n"
      ],
      "text/markdown": [
       "\n",
       "A matrix: 1 × 8 of type dbl\n",
       "\n",
       "| <!--/--> | Min. | 1st Qu. | Median | Mean | 3rd Qu. | Max. | sd | sd_err_of_mean |\n",
       "|---|---|---|---|---|---|---|---|---|\n",
       "| max_vms/1000 | 106.4293 | 107.9729 | 108.4012 | 108.1809 | 108.6132 | 108.8156 | 0.708 | 0.289 |\n",
       "\n"
      ],
      "text/plain": [
       "             Min.     1st Qu.  Median   Mean     3rd Qu.  Max.     sd   \n",
       "max_vms/1000 106.4293 107.9729 108.4012 108.1809 108.6132 108.8156 0.708\n",
       "             sd_err_of_mean\n",
       "max_vms/1000 0.289         "
      ]
     },
     "metadata": {},
     "output_type": "display_data"
    }
   ],
   "source": [
    "# max memory (Gb)\n",
    "summary_x(bmk_j %>% filter.(Compute == 'CPU') %>% .$max_vms / 1000)\n",
    "summary_x(bmk_j %>% filter.(Compute == 'GPU') %>% .$max_vms / 1000)"
   ]
  },
  {
   "cell_type": "markdown",
   "metadata": {},
   "source": [
    "# sessionInfo"
   ]
  },
  {
   "cell_type": "code",
   "execution_count": 36,
   "metadata": {
    "ExecuteTime": {
     "end_time": "2022-09-17T16:53:18.966161Z",
     "start_time": "2022-09-17T16:53:18.799Z"
    }
   },
   "outputs": [
    {
     "data": {
      "text/plain": [
       "R version 4.1.1 (2021-08-10)\n",
       "Platform: x86_64-conda-linux-gnu (64-bit)\n",
       "Running under: Ubuntu 20.04.5 LTS\n",
       "\n",
       "Matrix products: default\n",
       "BLAS/LAPACK: /tmp/global2/nyoungblut/code/general/conda_envs/general-tidyverse/lib/libopenblasp-r0.3.18.so\n",
       "\n",
       "locale:\n",
       " [1] LC_CTYPE=en_US.UTF-8       LC_NUMERIC=C              \n",
       " [3] LC_TIME=en_US.UTF-8        LC_COLLATE=en_US.UTF-8    \n",
       " [5] LC_MONETARY=en_US.UTF-8    LC_MESSAGES=en_US.UTF-8   \n",
       " [7] LC_PAPER=en_US.UTF-8       LC_NAME=C                 \n",
       " [9] LC_ADDRESS=C               LC_TELEPHONE=C            \n",
       "[11] LC_MEASUREMENT=en_US.UTF-8 LC_IDENTIFICATION=C       \n",
       "\n",
       "attached base packages:\n",
       "[1] stats     graphics  grDevices utils     datasets  methods   base     \n",
       "\n",
       "other attached packages:\n",
       "[1] clustermq_0.8.95.2 LeyLabRMisc_0.2.1  tidytable_0.6.6    data.table_1.14.2 \n",
       "[5] ggplot2_3.3.5      tidyr_1.1.4        dplyr_1.0.7       \n",
       "\n",
       "loaded via a namespace (and not attached):\n",
       " [1] Rcpp_1.0.7       plyr_1.8.6       pillar_1.6.4     compiler_4.1.1  \n",
       " [5] base64enc_0.1-3  tools_4.1.1      digest_0.6.29    uuid_1.0-3      \n",
       " [9] jsonlite_1.7.2   evaluate_0.14    lifecycle_1.0.1  tibble_3.1.6    \n",
       "[13] gtable_0.3.0     pkgconfig_2.0.3  rlang_0.4.12     IRdisplay_1.1   \n",
       "[17] IRkernel_1.3     fastmap_1.1.0    repr_1.1.4       withr_2.4.3     \n",
       "[21] generics_0.1.1   vctrs_0.3.8      grid_4.1.1       tidyselect_1.1.1\n",
       "[25] glue_1.6.0       R6_2.5.1         fansi_1.0.0      pbdZMQ_0.3-6    \n",
       "[29] purrr_0.3.4      magrittr_2.0.1   codetools_0.2-18 scales_1.1.1    \n",
       "[33] ellipsis_0.3.2   htmltools_0.5.2  colorspace_2.0-2 utf8_1.2.2      \n",
       "[37] munsell_0.5.0    crayon_1.4.2    "
      ]
     },
     "metadata": {},
     "output_type": "display_data"
    }
   ],
   "source": [
    "sessionInfo()"
   ]
  },
  {
   "cell_type": "code",
   "execution_count": null,
   "metadata": {},
   "outputs": [],
   "source": []
  }
 ],
 "metadata": {
  "kernelspec": {
   "display_name": "R [conda env:general-tidyverse]",
   "language": "R",
   "name": "conda-env-general-tidyverse-r"
  },
  "language_info": {
   "codemirror_mode": "r",
   "file_extension": ".r",
   "mimetype": "text/x-r-source",
   "name": "R",
   "pygments_lexer": "r",
   "version": "4.1.1"
  },
  "toc": {
   "base_numbering": 1,
   "nav_menu": {},
   "number_sections": true,
   "sideBar": true,
   "skip_h1_title": false,
   "title_cell": "Table of Contents",
   "title_sidebar": "Contents",
   "toc_cell": true,
   "toc_position": {},
   "toc_section_display": true,
   "toc_window_display": true
  }
 },
 "nbformat": 4,
 "nbformat_minor": 4
}
