{
 "cells": [
  {
   "cell_type": "markdown",
   "metadata": {
    "toc": true
   },
   "source": [
    "<h1>Table of Contents<span class=\"tocSkip\"></span></h1>\n",
    "<div class=\"toc\"><ul class=\"toc-item\"><li><span><a href=\"#Goal\" data-toc-modified-id=\"Goal-1\"><span class=\"toc-item-num\">1&nbsp;&nbsp;</span>Goal</a></span></li><li><span><a href=\"#Var\" data-toc-modified-id=\"Var-2\"><span class=\"toc-item-num\">2&nbsp;&nbsp;</span>Var</a></span></li><li><span><a href=\"#Init\" data-toc-modified-id=\"Init-3\"><span class=\"toc-item-num\">3&nbsp;&nbsp;</span>Init</a></span></li><li><span><a href=\"#Sample-table\" data-toc-modified-id=\"Sample-table-4\"><span class=\"toc-item-num\">4&nbsp;&nbsp;</span>Sample table</a></span></li><li><span><a href=\"#ResMiCo-SM\" data-toc-modified-id=\"ResMiCo-SM-5\"><span class=\"toc-item-num\">5&nbsp;&nbsp;</span>ResMiCo-SM</a></span><ul class=\"toc-item\"><li><ul class=\"toc-item\"><li><span><a href=\"#deinterleave-reads\" data-toc-modified-id=\"deinterleave-reads-5.0.1\"><span class=\"toc-item-num\">5.0.1&nbsp;&nbsp;</span>deinterleave reads</a></span></li><li><span><a href=\"#Config\" data-toc-modified-id=\"Config-5.0.2\"><span class=\"toc-item-num\">5.0.2&nbsp;&nbsp;</span>Config</a></span></li><li><span><a href=\"#Run\" data-toc-modified-id=\"Run-5.0.3\"><span class=\"toc-item-num\">5.0.3&nbsp;&nbsp;</span>Run</a></span></li></ul></li></ul></li><li><span><a href=\"#sessionInfo\" data-toc-modified-id=\"sessionInfo-6\"><span class=\"toc-item-num\">6&nbsp;&nbsp;</span>sessionInfo</a></span></li></ul></div>"
   ]
  },
  {
   "cell_type": "markdown",
   "metadata": {},
   "source": [
    "# Goal\n",
    "\n",
    "* Create feature tables for the CAMI2-marine dataset"
   ]
  },
  {
   "cell_type": "markdown",
   "metadata": {},
   "source": [
    "# Var"
   ]
  },
  {
   "cell_type": "code",
   "execution_count": 19,
   "metadata": {
    "ExecuteTime": {
     "end_time": "2022-09-25T14:32:22.713922Z",
     "start_time": "2022-09-25T14:32:22.503Z"
    }
   },
   "outputs": [],
   "source": [
    "work_dir = '/ebio/abt3_projects/databases_no-backup/CAMI/CAMI2_marine/short_read/ResMiCo-SM/'"
   ]
  },
  {
   "cell_type": "markdown",
   "metadata": {},
   "source": [
    "# Init"
   ]
  },
  {
   "cell_type": "code",
   "execution_count": 20,
   "metadata": {
    "ExecuteTime": {
     "end_time": "2022-09-25T14:32:24.328084Z",
     "start_time": "2022-09-25T14:32:24.106Z"
    }
   },
   "outputs": [],
   "source": [
    "library(dplyr)\n",
    "library(tidyr)\n",
    "library(ggplot2)\n",
    "library(data.table)\n",
    "library(tidytable)\n",
    "library(LeyLabRMisc)"
   ]
  },
  {
   "cell_type": "code",
   "execution_count": 21,
   "metadata": {
    "ExecuteTime": {
     "end_time": "2022-09-25T14:32:24.420379Z",
     "start_time": "2022-09-25T14:32:24.220Z"
    }
   },
   "outputs": [],
   "source": [
    "Init()"
   ]
  },
  {
   "cell_type": "markdown",
   "metadata": {},
   "source": [
    "# Sample table"
   ]
  },
  {
   "cell_type": "code",
   "execution_count": 35,
   "metadata": {
    "ExecuteTime": {
     "end_time": "2022-09-25T14:40:20.453502Z",
     "start_time": "2022-09-25T14:40:20.207Z"
    }
   },
   "outputs": [
    {
     "data": {
      "text/html": [
       "<table class=\"dataframe\">\n",
       "<caption>A tidytable: 10 × 4</caption>\n",
       "<thead>\n",
       "\t<tr><th scope=col>Sample</th><th scope=col>Read1</th><th scope=col>Read2</th><th scope=col>X</th></tr>\n",
       "\t<tr><th scope=col>&lt;chr&gt;</th><th scope=col>&lt;chr&gt;</th><th scope=col>&lt;chr&gt;</th><th scope=col>&lt;dbl&gt;</th></tr>\n",
       "</thead>\n",
       "<tbody>\n",
       "\t<tr><td>2018_08_15_09_49_32_sample_0</td><td>/ebio/abt3_scratch/nyoungblut/CAMI/CAMI2_marine/2018.08.15_09.49.32_sample_0_R1.fq</td><td>/ebio/abt3_scratch/nyoungblut/CAMI/CAMI2_marine/2018.08.15_09.49.32_sample_0_R2.fq</td><td>1</td></tr>\n",
       "\t<tr><td>2018_08_15_09_49_32_sample_1</td><td>/ebio/abt3_scratch/nyoungblut/CAMI/CAMI2_marine/2018.08.15_09.49.32_sample_1_R1.fq</td><td>/ebio/abt3_scratch/nyoungblut/CAMI/CAMI2_marine/2018.08.15_09.49.32_sample_1_R2.fq</td><td>1</td></tr>\n",
       "\t<tr><td>⋮</td><td>⋮</td><td>⋮</td><td>⋮</td></tr>\n",
       "\t<tr><td>2018_08_15_09_49_32_sample_8</td><td>/ebio/abt3_scratch/nyoungblut/CAMI/CAMI2_marine/2018.08.15_09.49.32_sample_8_R1.fq</td><td>/ebio/abt3_scratch/nyoungblut/CAMI/CAMI2_marine/2018.08.15_09.49.32_sample_8_R2.fq</td><td>1</td></tr>\n",
       "\t<tr><td>2018_08_15_09_49_32_sample_9</td><td>/ebio/abt3_scratch/nyoungblut/CAMI/CAMI2_marine/2018.08.15_09.49.32_sample_9_R1.fq</td><td>/ebio/abt3_scratch/nyoungblut/CAMI/CAMI2_marine/2018.08.15_09.49.32_sample_9_R2.fq</td><td>1</td></tr>\n",
       "</tbody>\n",
       "</table>\n"
      ],
      "text/latex": [
       "A tidytable: 10 × 4\n",
       "\\begin{tabular}{llll}\n",
       " Sample & Read1 & Read2 & X\\\\\n",
       " <chr> & <chr> & <chr> & <dbl>\\\\\n",
       "\\hline\n",
       "\t 2018\\_08\\_15\\_09\\_49\\_32\\_sample\\_0 & /ebio/abt3\\_scratch/nyoungblut/CAMI/CAMI2\\_marine/2018.08.15\\_09.49.32\\_sample\\_0\\_R1.fq & /ebio/abt3\\_scratch/nyoungblut/CAMI/CAMI2\\_marine/2018.08.15\\_09.49.32\\_sample\\_0\\_R2.fq & 1\\\\\n",
       "\t 2018\\_08\\_15\\_09\\_49\\_32\\_sample\\_1 & /ebio/abt3\\_scratch/nyoungblut/CAMI/CAMI2\\_marine/2018.08.15\\_09.49.32\\_sample\\_1\\_R1.fq & /ebio/abt3\\_scratch/nyoungblut/CAMI/CAMI2\\_marine/2018.08.15\\_09.49.32\\_sample\\_1\\_R2.fq & 1\\\\\n",
       "\t ⋮ & ⋮ & ⋮ & ⋮\\\\\n",
       "\t 2018\\_08\\_15\\_09\\_49\\_32\\_sample\\_8 & /ebio/abt3\\_scratch/nyoungblut/CAMI/CAMI2\\_marine/2018.08.15\\_09.49.32\\_sample\\_8\\_R1.fq & /ebio/abt3\\_scratch/nyoungblut/CAMI/CAMI2\\_marine/2018.08.15\\_09.49.32\\_sample\\_8\\_R2.fq & 1\\\\\n",
       "\t 2018\\_08\\_15\\_09\\_49\\_32\\_sample\\_9 & /ebio/abt3\\_scratch/nyoungblut/CAMI/CAMI2\\_marine/2018.08.15\\_09.49.32\\_sample\\_9\\_R1.fq & /ebio/abt3\\_scratch/nyoungblut/CAMI/CAMI2\\_marine/2018.08.15\\_09.49.32\\_sample\\_9\\_R2.fq & 1\\\\\n",
       "\\end{tabular}\n"
      ],
      "text/markdown": [
       "\n",
       "A tidytable: 10 × 4\n",
       "\n",
       "| Sample &lt;chr&gt; | Read1 &lt;chr&gt; | Read2 &lt;chr&gt; | X &lt;dbl&gt; |\n",
       "|---|---|---|---|\n",
       "| 2018_08_15_09_49_32_sample_0 | /ebio/abt3_scratch/nyoungblut/CAMI/CAMI2_marine/2018.08.15_09.49.32_sample_0_R1.fq | /ebio/abt3_scratch/nyoungblut/CAMI/CAMI2_marine/2018.08.15_09.49.32_sample_0_R2.fq | 1 |\n",
       "| 2018_08_15_09_49_32_sample_1 | /ebio/abt3_scratch/nyoungblut/CAMI/CAMI2_marine/2018.08.15_09.49.32_sample_1_R1.fq | /ebio/abt3_scratch/nyoungblut/CAMI/CAMI2_marine/2018.08.15_09.49.32_sample_1_R2.fq | 1 |\n",
       "| ⋮ | ⋮ | ⋮ | ⋮ |\n",
       "| 2018_08_15_09_49_32_sample_8 | /ebio/abt3_scratch/nyoungblut/CAMI/CAMI2_marine/2018.08.15_09.49.32_sample_8_R1.fq | /ebio/abt3_scratch/nyoungblut/CAMI/CAMI2_marine/2018.08.15_09.49.32_sample_8_R2.fq | 1 |\n",
       "| 2018_08_15_09_49_32_sample_9 | /ebio/abt3_scratch/nyoungblut/CAMI/CAMI2_marine/2018.08.15_09.49.32_sample_9_R1.fq | /ebio/abt3_scratch/nyoungblut/CAMI/CAMI2_marine/2018.08.15_09.49.32_sample_9_R2.fq | 1 |\n",
       "\n"
      ],
      "text/plain": [
       "   Sample                      \n",
       "1  2018_08_15_09_49_32_sample_0\n",
       "2  2018_08_15_09_49_32_sample_1\n",
       "⋮  ⋮                           \n",
       "9  2018_08_15_09_49_32_sample_8\n",
       "10 2018_08_15_09_49_32_sample_9\n",
       "   Read1                                                                             \n",
       "1  /ebio/abt3_scratch/nyoungblut/CAMI/CAMI2_marine/2018.08.15_09.49.32_sample_0_R1.fq\n",
       "2  /ebio/abt3_scratch/nyoungblut/CAMI/CAMI2_marine/2018.08.15_09.49.32_sample_1_R1.fq\n",
       "⋮  ⋮                                                                                 \n",
       "9  /ebio/abt3_scratch/nyoungblut/CAMI/CAMI2_marine/2018.08.15_09.49.32_sample_8_R1.fq\n",
       "10 /ebio/abt3_scratch/nyoungblut/CAMI/CAMI2_marine/2018.08.15_09.49.32_sample_9_R1.fq\n",
       "   Read2                                                                             \n",
       "1  /ebio/abt3_scratch/nyoungblut/CAMI/CAMI2_marine/2018.08.15_09.49.32_sample_0_R2.fq\n",
       "2  /ebio/abt3_scratch/nyoungblut/CAMI/CAMI2_marine/2018.08.15_09.49.32_sample_1_R2.fq\n",
       "⋮  ⋮                                                                                 \n",
       "9  /ebio/abt3_scratch/nyoungblut/CAMI/CAMI2_marine/2018.08.15_09.49.32_sample_8_R2.fq\n",
       "10 /ebio/abt3_scratch/nyoungblut/CAMI/CAMI2_marine/2018.08.15_09.49.32_sample_9_R2.fq\n",
       "   X\n",
       "1  1\n",
       "2  1\n",
       "⋮  ⋮\n",
       "9  1\n",
       "10 1"
      ]
     },
     "metadata": {},
     "output_type": "display_data"
    }
   ],
   "source": [
    "F = '/ebio/abt3_scratch/nyoungblut/CAMI/CAMI2_marine/samples.tsv'\n",
    "reads = Fread(F) %>%\n",
    "    mutate.(Sample = gsub('\\\\.', '_', Sample)) %>%\n",
    "    mutate.(X = 1)\n",
    "reads"
   ]
  },
  {
   "cell_type": "code",
   "execution_count": 36,
   "metadata": {
    "ExecuteTime": {
     "end_time": "2022-09-25T14:40:20.561736Z",
     "start_time": "2022-09-25T14:40:20.311Z"
    }
   },
   "outputs": [
    {
     "data": {
      "text/html": [
       "<table class=\"dataframe\">\n",
       "<caption>A tidytable: 977 × 3</caption>\n",
       "<thead>\n",
       "\t<tr><th scope=col>Taxon</th><th scope=col>Fasta</th><th scope=col>X</th></tr>\n",
       "\t<tr><th scope=col>&lt;chr&gt;</th><th scope=col>&lt;chr&gt;</th><th scope=col>&lt;dbl&gt;</th></tr>\n",
       "</thead>\n",
       "<tbody>\n",
       "\t<tr><td>A8_S8_contigs               </td><td>/ebio/abt3_projects/databases_no-backup/CAMI/CAMI2_marine/short_read/genomes/A8_S8_contigs.fasta.gz               </td><td>1</td></tr>\n",
       "\t<tr><td>Moorea_producens_JHB_genomic</td><td>/ebio/abt3_projects/databases_no-backup/CAMI/CAMI2_marine/short_read/genomes/Moorea_producens_JHB_genomic.fasta.gz</td><td>1</td></tr>\n",
       "\t<tr><td>⋮</td><td>⋮</td><td>⋮</td></tr>\n",
       "\t<tr><td>Cellulophaga_lytica_strain_HI1_genomic         </td><td>/ebio/abt3_projects/databases_no-backup/CAMI/CAMI2_marine/short_read/genomes/Cellulophaga_lytica_strain_HI1_genomic.fasta.gz         </td><td>1</td></tr>\n",
       "\t<tr><td>Candidatus_Endolissoclinum_faulkneri_L5_genomic</td><td>/ebio/abt3_projects/databases_no-backup/CAMI/CAMI2_marine/short_read/genomes/Candidatus_Endolissoclinum_faulkneri_L5_genomic.fasta.gz</td><td>1</td></tr>\n",
       "</tbody>\n",
       "</table>\n"
      ],
      "text/latex": [
       "A tidytable: 977 × 3\n",
       "\\begin{tabular}{lll}\n",
       " Taxon & Fasta & X\\\\\n",
       " <chr> & <chr> & <dbl>\\\\\n",
       "\\hline\n",
       "\t A8\\_S8\\_contigs                & /ebio/abt3\\_projects/databases\\_no-backup/CAMI/CAMI2\\_marine/short\\_read/genomes/A8\\_S8\\_contigs.fasta.gz                & 1\\\\\n",
       "\t Moorea\\_producens\\_JHB\\_genomic & /ebio/abt3\\_projects/databases\\_no-backup/CAMI/CAMI2\\_marine/short\\_read/genomes/Moorea\\_producens\\_JHB\\_genomic.fasta.gz & 1\\\\\n",
       "\t ⋮ & ⋮ & ⋮\\\\\n",
       "\t Cellulophaga\\_lytica\\_strain\\_HI1\\_genomic          & /ebio/abt3\\_projects/databases\\_no-backup/CAMI/CAMI2\\_marine/short\\_read/genomes/Cellulophaga\\_lytica\\_strain\\_HI1\\_genomic.fasta.gz          & 1\\\\\n",
       "\t Candidatus\\_Endolissoclinum\\_faulkneri\\_L5\\_genomic & /ebio/abt3\\_projects/databases\\_no-backup/CAMI/CAMI2\\_marine/short\\_read/genomes/Candidatus\\_Endolissoclinum\\_faulkneri\\_L5\\_genomic.fasta.gz & 1\\\\\n",
       "\\end{tabular}\n"
      ],
      "text/markdown": [
       "\n",
       "A tidytable: 977 × 3\n",
       "\n",
       "| Taxon &lt;chr&gt; | Fasta &lt;chr&gt; | X &lt;dbl&gt; |\n",
       "|---|---|---|\n",
       "| A8_S8_contigs                | /ebio/abt3_projects/databases_no-backup/CAMI/CAMI2_marine/short_read/genomes/A8_S8_contigs.fasta.gz                | 1 |\n",
       "| Moorea_producens_JHB_genomic | /ebio/abt3_projects/databases_no-backup/CAMI/CAMI2_marine/short_read/genomes/Moorea_producens_JHB_genomic.fasta.gz | 1 |\n",
       "| ⋮ | ⋮ | ⋮ |\n",
       "| Cellulophaga_lytica_strain_HI1_genomic          | /ebio/abt3_projects/databases_no-backup/CAMI/CAMI2_marine/short_read/genomes/Cellulophaga_lytica_strain_HI1_genomic.fasta.gz          | 1 |\n",
       "| Candidatus_Endolissoclinum_faulkneri_L5_genomic | /ebio/abt3_projects/databases_no-backup/CAMI/CAMI2_marine/short_read/genomes/Candidatus_Endolissoclinum_faulkneri_L5_genomic.fasta.gz | 1 |\n",
       "\n"
      ],
      "text/plain": [
       "    Taxon                                          \n",
       "1   A8_S8_contigs                                  \n",
       "2   Moorea_producens_JHB_genomic                   \n",
       "⋮   ⋮                                              \n",
       "976 Cellulophaga_lytica_strain_HI1_genomic         \n",
       "977 Candidatus_Endolissoclinum_faulkneri_L5_genomic\n",
       "    Fasta                                                                                                                                \n",
       "1   /ebio/abt3_projects/databases_no-backup/CAMI/CAMI2_marine/short_read/genomes/A8_S8_contigs.fasta.gz                                  \n",
       "2   /ebio/abt3_projects/databases_no-backup/CAMI/CAMI2_marine/short_read/genomes/Moorea_producens_JHB_genomic.fasta.gz                   \n",
       "⋮   ⋮                                                                                                                                    \n",
       "976 /ebio/abt3_projects/databases_no-backup/CAMI/CAMI2_marine/short_read/genomes/Cellulophaga_lytica_strain_HI1_genomic.fasta.gz         \n",
       "977 /ebio/abt3_projects/databases_no-backup/CAMI/CAMI2_marine/short_read/genomes/Candidatus_Endolissoclinum_faulkneri_L5_genomic.fasta.gz\n",
       "    X\n",
       "1   1\n",
       "2   1\n",
       "⋮   ⋮\n",
       "976 1\n",
       "977 1"
      ]
     },
     "metadata": {},
     "output_type": "display_data"
    }
   ],
   "source": [
    "F = file.path(dirname(work_dir), 'genomes.tsv')\n",
    "genomes = Fread(F) %>%\n",
    "    mutate.(X = 1)\n",
    "genomes"
   ]
  },
  {
   "cell_type": "code",
   "execution_count": 39,
   "metadata": {
    "ExecuteTime": {
     "end_time": "2022-09-25T18:08:30.082180Z",
     "start_time": "2022-09-25T18:08:29.970Z"
    }
   },
   "outputs": [],
   "source": [
    "# samps = reads %>%\n",
    "#     inner_join.(genomes, c('X'))\n",
    "# samps"
   ]
  },
  {
   "cell_type": "code",
   "execution_count": 40,
   "metadata": {
    "ExecuteTime": {
     "end_time": "2022-09-25T18:08:30.980293Z",
     "start_time": "2022-09-25T18:08:30.874Z"
    }
   },
   "outputs": [],
   "source": [
    "# F = file.path(work_dir, 'samples.tsv')\n",
    "# write_table(samps, F)"
   ]
  },
  {
   "cell_type": "markdown",
   "metadata": {},
   "source": [
    "# ResMiCo-SM"
   ]
  },
  {
   "cell_type": "markdown",
   "metadata": {},
   "source": [
    "### deinterleave reads\n",
    "\n",
    "```\n",
    " /ebio/abt3_projects/databases_no-backup/CAMI/CAMI2_marine/short_read/deinterleave.sh\n",
    "```"
   ]
  },
  {
   "cell_type": "markdown",
   "metadata": {},
   "source": [
    "### Config"
   ]
  },
  {
   "cell_type": "code",
   "execution_count": 41,
   "metadata": {
    "ExecuteTime": {
     "end_time": "2022-09-25T18:08:34.757395Z",
     "start_time": "2022-09-25T18:08:34.634Z"
    }
   },
   "outputs": [
    {
     "name": "stdout",
     "output_type": "stream",
     "text": [
      "# Input table\n",
      "## Table of genomes\n",
      "genomes_file: /ebio/abt3_projects/databases_no-backup/CAMI/CAMI2_marine/short_read/genomes.tsv\n",
      "## If using pre-generated reads\n",
      "reads_file: /ebio/abt3_scratch/nyoungblut/CAMI/CAMI2_marine/samples.tsv\n",
      "\n",
      "# Output directory\n",
      "output_dir: /ebio/abt3_projects/databases_no-backup/CAMI/CAMI2_marine/short_read/ResMiCo-SM/\n",
      "#output_dir: tests/output_Samp2-MAG3/\n",
      "\n",
      "# Temporary output directory (/dev/shm/ for shared memory)\n",
      "#tmp_dir: /tmp/\n",
      "tmp_dir: /ebio/abt3_scratch/nyoungblut/ResMiCo_CAMI2-marine_TMP/\n",
      "\n",
      "# Email for notifications (\"Skip\" to skip)\n",
      "email: nyoungblut@tuebingen.mpg.de\n",
      "\n",
      "# software parameters for data simulations\n",
      "## Use \"Skip\" to skip  steps. If no params for rule, use \"\"\n",
      "## `reps:` is the number of replicate simulations\n",
      "## If `keep_reads: True`, then simulated reads are kept\n",
      "params:\n",
      "  ionice: -c 3\n",
      "  # simulating metagenomes\n",
      "  MGSIM:\n",
      "    genome_download: \"\"\n",
      "    sim_reps: 3\n",
      "    community:\n",
      "      richness:\n",
      "        - 0.8        \n",
      "      abundance_distribution:\n",
      "        - \"mean:10,sigma:2\"\n",
      "      random_seed: 8192\n",
      "      other_sim_params: --group-bias 0\n",
      "    reads: \n",
      "      length:\n",
      "        - 100\n",
      "        - 150\n",
      "      depth:\n",
      "        - 1000000\n",
      "      other_sim_params: --art-paired --art-mflen 270 --art-sdev 50 --rndSeed 8712\n",
      "      skewer: -n -l 70 -q 25\n",
      "      keep_reads: True # False\n",
      "  # coverage\n",
      "  nonpareil:\n",
      "    params: -T kmer\n",
      "    summary: 1e9   # this is target seq. depth\n",
      "  # assemblying metagenomes\n",
      "  assemblers:\n",
      "    metaspades: -k auto --only-assembler\n",
      "    megahit: --min-count 1 --min-contig-len 1000\n",
      "  # assembly filtering\n",
      "  contigs:\n",
      "    length_cutoff: 1000       # length in bp \n",
      "  # assessing assembly errors\n",
      "  asmbl_errors:\n",
      "    metaquast: --max-ref-number 0 --min-contig 1000 --min-identity 95 --extensive-mis-size 100\n",
      "               --no-html --no-plots --no-icarus --no-gc --no-snps --no-sv\n",
      "    keep_genomes: False\n",
      "  # mapping reads to contigs\n",
      "  map:\n",
      "    samtools: \"\"\n",
      "    bowtie2: \"\"\n",
      "    max_coverage: 20\n",
      "    keep_bam: True\n",
      "  # creating ResMiCo feature tables\n",
      "  feature_table:\n",
      "    make: --window 6\n",
      "  # state-of-the-art\n",
      "  SotA:\n",
      "    ALE: Skip #\"\"\n",
      "    VALET: Skip #\"\"  \n",
      "    metaMIC:\n",
      "      extract: Skip #--mlen 1000\n",
      "      predict: --mlen 1000 --slen 500 -a MEGAHIT\n",
      "\n",
      "# params just for creating feature tables for non-simulated data\n",
      "nonsim_params:\n",
      "  # max number of reads to use\n",
      "  subsample_reads: 5000000\n",
      "  # read quality filtering\n",
      "  skewer: -n -l 70 -q 25\n",
      "  # max per-contig coverage\n",
      "  max_coverage: 20\n",
      "  # keep bam files?\n",
      "  keep_bam: True\n",
      "  # feature tables\n",
      "  make_features: --window 6\n",
      "\n",
      "# snakemake pipeline\n",
      "pipeline:\n",
      "  snakemake_folder: ./\n",
      "  script_folder: ./bin/scripts/\n",
      "  name: ResMiCo-SM"
     ]
    }
   ],
   "source": [
    "F = file.path(work_dir, 'config.yaml')\n",
    "cat_file(F)"
   ]
  },
  {
   "cell_type": "markdown",
   "metadata": {},
   "source": [
    "### Run"
   ]
  },
  {
   "cell_type": "markdown",
   "metadata": {},
   "source": [
    "```\n",
    "(snakemake) rick: /ebio/abt3_projects/databases_no-backup/DeepMAsED/version2/resmico-sm/bin/new_compile/ResMiCo/ResMiCo-SM\n",
    "$ screen -L -S rmc-sm-marine ./snakemake_sge.sh /ebio/abt3_projects/databases_no-backup/CAMI/CAMI2_marine/short_read/ResMiCo-SM/config.yaml 30 -F\n",
    "```"
   ]
  },
  {
   "cell_type": "markdown",
   "metadata": {},
   "source": [
    "# sessionInfo"
   ]
  },
  {
   "cell_type": "code",
   "execution_count": 42,
   "metadata": {
    "ExecuteTime": {
     "end_time": "2022-09-28T00:42:01.379172Z",
     "start_time": "2022-09-28T00:42:00.857Z"
    }
   },
   "outputs": [
    {
     "data": {
      "text/plain": [
       "R version 4.1.1 (2021-08-10)\n",
       "Platform: x86_64-conda-linux-gnu (64-bit)\n",
       "Running under: Ubuntu 20.04.5 LTS\n",
       "\n",
       "Matrix products: default\n",
       "BLAS/LAPACK: /tmp/global2/nyoungblut/code/general/conda_envs/general-tidyverse/lib/libopenblasp-r0.3.18.so\n",
       "\n",
       "locale:\n",
       " [1] LC_CTYPE=en_US.UTF-8       LC_NUMERIC=C              \n",
       " [3] LC_TIME=en_US.UTF-8        LC_COLLATE=en_US.UTF-8    \n",
       " [5] LC_MONETARY=en_US.UTF-8    LC_MESSAGES=en_US.UTF-8   \n",
       " [7] LC_PAPER=en_US.UTF-8       LC_NAME=C                 \n",
       " [9] LC_ADDRESS=C               LC_TELEPHONE=C            \n",
       "[11] LC_MEASUREMENT=en_US.UTF-8 LC_IDENTIFICATION=C       \n",
       "\n",
       "attached base packages:\n",
       "[1] stats     graphics  grDevices utils     datasets  methods   base     \n",
       "\n",
       "other attached packages:\n",
       "[1] clustermq_0.8.95.2 LeyLabRMisc_0.2.1  tidytable_0.6.6    data.table_1.14.2 \n",
       "[5] ggplot2_3.3.5      tidyr_1.1.4        dplyr_1.0.7       \n",
       "\n",
       "loaded via a namespace (and not attached):\n",
       " [1] Rcpp_1.0.7       plyr_1.8.6       pillar_1.6.4     compiler_4.1.1  \n",
       " [5] base64enc_0.1-3  tools_4.1.1      digest_0.6.29    uuid_1.0-3      \n",
       " [9] jsonlite_1.7.2   evaluate_0.14    lifecycle_1.0.1  tibble_3.1.6    \n",
       "[13] gtable_0.3.0     pkgconfig_2.0.3  rlang_0.4.12     IRdisplay_1.1   \n",
       "[17] IRkernel_1.3     fastmap_1.1.0    repr_1.1.4       withr_2.4.3     \n",
       "[21] generics_0.1.1   vctrs_0.3.8      grid_4.1.1       tidyselect_1.1.1\n",
       "[25] glue_1.6.0       R6_2.5.1         fansi_1.0.0      pbdZMQ_0.3-6    \n",
       "[29] purrr_0.3.4      magrittr_2.0.1   codetools_0.2-18 scales_1.1.1    \n",
       "[33] ellipsis_0.3.2   htmltools_0.5.2  colorspace_2.0-2 utf8_1.2.2      \n",
       "[37] munsell_0.5.0    crayon_1.4.2    "
      ]
     },
     "metadata": {},
     "output_type": "display_data"
    }
   ],
   "source": [
    "sessionInfo()"
   ]
  },
  {
   "cell_type": "code",
   "execution_count": null,
   "metadata": {},
   "outputs": [],
   "source": []
  }
 ],
 "metadata": {
  "kernelspec": {
   "display_name": "R [conda env:general-tidyverse]",
   "language": "R",
   "name": "conda-env-general-tidyverse-r"
  },
  "language_info": {
   "codemirror_mode": "r",
   "file_extension": ".r",
   "mimetype": "text/x-r-source",
   "name": "R",
   "pygments_lexer": "r",
   "version": "4.1.1"
  },
  "notify_time": "30",
  "toc": {
   "base_numbering": 1,
   "nav_menu": {},
   "number_sections": true,
   "sideBar": true,
   "skip_h1_title": false,
   "title_cell": "Table of Contents",
   "title_sidebar": "Contents",
   "toc_cell": true,
   "toc_position": {},
   "toc_section_display": true,
   "toc_window_display": true
  }
 },
 "nbformat": 4,
 "nbformat_minor": 4
}
