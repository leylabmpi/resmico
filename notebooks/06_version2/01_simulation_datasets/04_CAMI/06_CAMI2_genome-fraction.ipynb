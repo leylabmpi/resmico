{
 "cells": [
  {
   "cell_type": "markdown",
   "metadata": {
    "toc": true
   },
   "source": [
    "<h1>Table of Contents<span class=\"tocSkip\"></span></h1>\n",
    "<div class=\"toc\"><ul class=\"toc-item\"><li><span><a href=\"#Goal\" data-toc-modified-id=\"Goal-1\"><span class=\"toc-item-num\">1&nbsp;&nbsp;</span>Goal</a></span></li><li><span><a href=\"#Var\" data-toc-modified-id=\"Var-2\"><span class=\"toc-item-num\">2&nbsp;&nbsp;</span>Var</a></span></li><li><span><a href=\"#Init\" data-toc-modified-id=\"Init-3\"><span class=\"toc-item-num\">3&nbsp;&nbsp;</span>Init</a></span></li><li><span><a href=\"#CAMI2-HMP-gut\" data-toc-modified-id=\"CAMI2-HMP-gut-4\"><span class=\"toc-item-num\">4&nbsp;&nbsp;</span>CAMI2 HMP-gut</a></span><ul class=\"toc-item\"><li><span><a href=\"#LLMGA\" data-toc-modified-id=\"LLMGA-4.1\"><span class=\"toc-item-num\">4.1&nbsp;&nbsp;</span>LLMGA</a></span><ul class=\"toc-item\"><li><span><a href=\"#Config\" data-toc-modified-id=\"Config-4.1.1\"><span class=\"toc-item-num\">4.1.1&nbsp;&nbsp;</span>Config</a></span></li><li><span><a href=\"#Run\" data-toc-modified-id=\"Run-4.1.2\"><span class=\"toc-item-num\">4.1.2&nbsp;&nbsp;</span>Run</a></span></li><li><span><a href=\"#Summary\" data-toc-modified-id=\"Summary-4.1.3\"><span class=\"toc-item-num\">4.1.3&nbsp;&nbsp;</span>Summary</a></span><ul class=\"toc-item\"><li><span><a href=\"#Stats\" data-toc-modified-id=\"Stats-4.1.3.1\"><span class=\"toc-item-num\">4.1.3.1&nbsp;&nbsp;</span>Stats</a></span></li></ul></li></ul></li></ul></li><li><span><a href=\"#CAMI2-marine\" data-toc-modified-id=\"CAMI2-marine-5\"><span class=\"toc-item-num\">5&nbsp;&nbsp;</span>CAMI2 marine</a></span><ul class=\"toc-item\"><li><span><a href=\"#LLMGA\" data-toc-modified-id=\"LLMGA-5.1\"><span class=\"toc-item-num\">5.1&nbsp;&nbsp;</span>LLMGA</a></span><ul class=\"toc-item\"><li><span><a href=\"#Config\" data-toc-modified-id=\"Config-5.1.1\"><span class=\"toc-item-num\">5.1.1&nbsp;&nbsp;</span>Config</a></span></li><li><span><a href=\"#Run\" data-toc-modified-id=\"Run-5.1.2\"><span class=\"toc-item-num\">5.1.2&nbsp;&nbsp;</span>Run</a></span></li><li><span><a href=\"#Summary\" data-toc-modified-id=\"Summary-5.1.3\"><span class=\"toc-item-num\">5.1.3&nbsp;&nbsp;</span>Summary</a></span><ul class=\"toc-item\"><li><span><a href=\"#Stats\" data-toc-modified-id=\"Stats-5.1.3.1\"><span class=\"toc-item-num\">5.1.3.1&nbsp;&nbsp;</span>Stats</a></span></li></ul></li></ul></li></ul></li><li><span><a href=\"#sessionInfo\" data-toc-modified-id=\"sessionInfo-6\"><span class=\"toc-item-num\">6&nbsp;&nbsp;</span>sessionInfo</a></span></li></ul></div>"
   ]
  },
  {
   "cell_type": "markdown",
   "metadata": {},
   "source": [
    "# Goal\n",
    "\n",
    "* Assessing change in metaQUAST-defined `genome fraction` pre- and post- ResMiCo filtering\n",
    "* Using the CAMI2 datasets, which include reference genomes for metaQUAST\n",
    "* Method: run assembly pipeline, which produces metaQUAST info on pre- and post- filtering"
   ]
  },
  {
   "cell_type": "markdown",
   "metadata": {},
   "source": [
    "# Var"
   ]
  },
  {
   "cell_type": "code",
   "execution_count": 13,
   "metadata": {
    "ExecuteTime": {
     "end_time": "2022-09-28T00:25:39.687803Z",
     "start_time": "2022-09-28T00:25:39.572Z"
    }
   },
   "outputs": [],
   "source": [
    "work_dir = '/ebio/abt3_projects/databases_no-backup/CAMI/'"
   ]
  },
  {
   "cell_type": "markdown",
   "metadata": {},
   "source": [
    "# Init"
   ]
  },
  {
   "cell_type": "code",
   "execution_count": 4,
   "metadata": {
    "ExecuteTime": {
     "end_time": "2022-09-25T22:41:59.569488Z",
     "start_time": "2022-09-25T22:41:59.200Z"
    }
   },
   "outputs": [],
   "source": [
    "library(dplyr)\n",
    "library(tidyr)\n",
    "library(ggplot2)\n",
    "library(data.table)\n",
    "library(tidytable)\n",
    "library(LeyLabRMisc)"
   ]
  },
  {
   "cell_type": "code",
   "execution_count": 5,
   "metadata": {
    "ExecuteTime": {
     "end_time": "2022-09-25T22:41:59.675451Z",
     "start_time": "2022-09-25T22:41:59.317Z"
    }
   },
   "outputs": [],
   "source": [
    "Init()"
   ]
  },
  {
   "cell_type": "markdown",
   "metadata": {},
   "source": [
    "# CAMI2 HMP-gut"
   ]
  },
  {
   "cell_type": "markdown",
   "metadata": {},
   "source": [
    "## LLMGA"
   ]
  },
  {
   "cell_type": "code",
   "execution_count": 14,
   "metadata": {
    "ExecuteTime": {
     "end_time": "2022-09-28T00:25:41.467000Z",
     "start_time": "2022-09-28T00:25:41.346Z"
    }
   },
   "outputs": [],
   "source": [
    "base_dir = file.path(work_dir, 'CAMI2_HMP-gut', 'short_read', 'LLMGA_genome-frac')"
   ]
  },
  {
   "cell_type": "markdown",
   "metadata": {},
   "source": [
    "### Config"
   ]
  },
  {
   "cell_type": "code",
   "execution_count": 19,
   "metadata": {
    "ExecuteTime": {
     "end_time": "2022-09-28T00:28:28.411295Z",
     "start_time": "2022-09-28T00:28:28.163Z"
    }
   },
   "outputs": [
    {
     "name": "stdout",
     "output_type": "stream",
     "text": [
      "#-- I/O --#\n",
      "# table with sample --> read_file information\n",
      "samples_file: /ebio/abt3_projects/databases_no-backup/CAMI/CAMI2_HMP-gut/short_read/LLMGA_genome-frac/samples.tsv\n",
      "\n",
      "# output location\n",
      "output_dir: /ebio/abt3_projects/databases_no-backup/CAMI/CAMI2_HMP-gut/short_read/LLMGA_genome-frac/\n",
      "\n",
      "# temporary file directory (your username will be added automatically)\n",
      "tmp_dir: /ebio/abt3_scratch/\n",
      "\n",
      "#-- reference genomes for metacompass --#\n",
      "metacompass_ref: /ebio/abt3_projects/Anxiety_Twins_Metagenomes/data/metagenome/TUKMZ-BGI250/llmga-find-refs/references/drep/dereplicated_genomes.fna\n",
      "\n",
      "#-- master control --#\n",
      "# which major parts of the pipline to run \n",
      "run_assembly: True\n",
      "run_binning: False\n",
      "run_other_assembly: False\n",
      "\n",
      "#-- software parameters --#\n",
      "# Notes:\n",
      "## see \"Notes on the `config.yaml` file\" in the README\n",
      "params:\n",
      "  # misc\n",
      "  ionice: -c 3\n",
      "  use_gpu: True\n",
      "  # raw reads\n",
      "  reads:\n",
      "    subsample: 80000000\n",
      "    fastqc: \"\"  \n",
      "  # metacompass (per-sample ref-based assembly); skipped if using graphbin2\n",
      "  metacompass:\n",
      "    buildcontig: Skip #--pickref breadth --mincov 3 -l 1000 -n T -b F -u F\n",
      "    pilon: \"\"\n",
      "  # denovo per-sample assembly (unmapped if metacompass used, else all reads)\n",
      "  denovo_assembly:\n",
      "    metaspades: -k auto --only-assembler\n",
      "    megahit: Skip #--min-count 3 --min-contig-len 500 --presets meta-sensitive\n",
      "  # combined, final contigs from assemblies\n",
      "  final_contigs:\n",
      "    derep_contigs: minidentity=100 minscaf=1000 minoverlappercent=95\n",
      "    contig_rename: \"\"\n",
      "    min_contig_len: 1000            # min contig length retained\n",
      "    metaquast: -r /ebio/abt3_projects/databases_no-backup/CAMI/CAMI2_HMP-gut/short_read/genomes\n",
      "  # contig filtering\n",
      "  contig_filtering:\n",
      "    resmico:\n",
      "      bowtie2:\n",
      "        build: \"\"\n",
      "        map: \"\"\n",
      "      bam2feat: --max-coverage 20\n",
      "      evaluate: --batch-size 100 --gpu-eval-mem-gb 1 --max-len 20000\n",
      "                --min-contig-len 1000 --min-avg-coverage 1 --seed 12\n",
      "      filter: --score-cutoff 0.8 --min-length 0\n",
      "    metaquast: -r /ebio/abt3_projects/databases_no-backup/CAMI/CAMI2_HMP-gut/short_read/genomes\n",
      "  # contig binning\n",
      "  binning:\n",
      "    subsample: 5000000       # how many reads per sample to use for dif-cov binning?\n",
      "    # mapping\n",
      "    map:\n",
      "      num_map_samples: 40    # how many samples to use for dif-cov. binning ('all' = all samples)\n",
      "      minimap2:\n",
      "        index: -k 15 -w 10 -I 12G\n",
      "        map: -N 5 -F 800\n",
      "      samtools_view: -q 0 -F 3584                 # -q = MAPQ cutoff\n",
      "      bam_to_depth: --percentIdentity 97\n",
      "      keep_bam: False                       # keep all BAM files?\n",
      "    # binning\n",
      "    binners:\n",
      "      maxbin2:\n",
      "        Low: -min_contig_length 1500 -markerset 40 -prob_threshold 0.6\n",
      "        Med: -min_contig_length 1500 -markerset 40 -prob_threshold 0.7\n",
      "        High: -min_contig_length 1500 -markerset 40 -prob_threshold 0.8\n",
      "      metabat2:\n",
      "        Low: --minContig 1500 --minCV 0.5 --minCVSum 0.5 --maxP 92\n",
      "             --maxEdges 150 --seed 8394\n",
      "        Med: --minContig 1500 --minCV 0.5 --minCVSum 0.5 --maxP 94\n",
      "             --maxEdges 325 --seed 8394\n",
      "        High: --minContig 1500 --minCV 0.5 --minCVSum 0.5 --maxP 97\n",
      "              --maxEdges 500 --seed 8394\n",
      "        LowNoCov: --minContig 1500 --minCV 0.5 --minCVSum 0.5 --maxP 92\n",
      "                  --maxEdges 150 --seed 8394 NOCOV\n",
      "        MedNoCov: --minContig 1500 --minCV 0.5 --minCVSum 0.5 --maxP 94\n",
      "                  --maxEdges 325 --seed 8394 NOCOV\n",
      "        HighNoCov: --minContig 1500 --minCV 0.5 --minCVSum 0.5 --maxP 97\n",
      "                   --maxEdges 500 --seed 8394 NOCOV\n",
      "      vamb:\n",
      "        Low: -c 10000 -m 1500 -l 24 -n 384 384\n",
      "        Med: -c 10000 -m 1500 -l 32 -n 512 512\n",
      "        High: -c 10000 -m 1500 -l 40 -n 768 768\n",
      "    # selecting final bins (MAGs)\n",
      "    select:\n",
      "      das_tool: --search_engine diamond\n",
      "      genome_table: \"\"\n",
      "  # denovo assembly of other genetic components\n",
      "  denovo_other_assembly:\n",
      "    min_contig_len: 1000\n",
      "    metaplasmidspades: -k auto --only-assembler\n",
      "    metabiosyntheticspades: -k auto --only-assembler\n",
      "  \n",
      "#-- snakemake pipeline --#\n",
      "pipeline:\n",
      "  snakemake_folder: ./\n",
      "  script_folder: bin/scripts/\n",
      "  random_number_seed: 83421\n",
      "  name: LLMGA\n"
     ]
    }
   ],
   "source": [
    "F = file.path(base_dir, 'config.yaml')\n",
    "cat_file(F)"
   ]
  },
  {
   "cell_type": "markdown",
   "metadata": {},
   "source": [
    "### Run"
   ]
  },
  {
   "cell_type": "markdown",
   "metadata": {},
   "source": [
    "```\n",
    "(snakemake) rick: /tmp/global2/nyoungblut/code/dev/ll_pipelines/llmga\n",
    "$ screen -L -S llmga-genome-frac ./snakemake_sge.sh /ebio/abt3_projects/databases_no-backup/CAMI/CAMI2_HMP-gut/short_read/LLMGA_genome-frac/config.yaml 30 --notemp -F\n",
    "```"
   ]
  },
  {
   "cell_type": "markdown",
   "metadata": {},
   "source": [
    "### Summary"
   ]
  },
  {
   "cell_type": "code",
   "execution_count": 29,
   "metadata": {
    "ExecuteTime": {
     "end_time": "2022-09-29T00:43:18.732201Z",
     "start_time": "2022-09-29T00:42:59.401Z"
    }
   },
   "outputs": [
    {
     "data": {
      "text/html": [
       "10"
      ],
      "text/latex": [
       "10"
      ],
      "text/markdown": [
       "10"
      ],
      "text/plain": [
       "[1] 10"
      ]
     },
     "metadata": {},
     "output_type": "display_data"
    },
    {
     "data": {
      "text/html": [
       "<style>\n",
       ".list-inline {list-style: none; margin:0; padding: 0}\n",
       ".list-inline>li {display: inline-block}\n",
       ".list-inline>li:not(:last-child)::after {content: \"\\00b7\"; padding: 0 .5ex}\n",
       "</style>\n",
       "<ol class=list-inline><li>'/ebio/abt3_projects/databases_no-backup/CAMI//CAMI2_HMP-gut/short_read/LLMGA_genome-frac/final_contigs/2017_12_04_18_45_54_sample_0/metaquast/combined_reference/report.tsv'</li><li>'/ebio/abt3_projects/databases_no-backup/CAMI//CAMI2_HMP-gut/short_read/LLMGA_genome-frac/final_contigs/2017_12_04_18_45_54_sample_1/metaquast/combined_reference/report.tsv'</li><li>'/ebio/abt3_projects/databases_no-backup/CAMI//CAMI2_HMP-gut/short_read/LLMGA_genome-frac/final_contigs/2017_12_04_18_45_54_sample_10/metaquast/combined_reference/report.tsv'</li></ol>\n"
      ],
      "text/latex": [
       "\\begin{enumerate*}\n",
       "\\item '/ebio/abt3\\_projects/databases\\_no-backup/CAMI//CAMI2\\_HMP-gut/short\\_read/LLMGA\\_genome-frac/final\\_contigs/2017\\_12\\_04\\_18\\_45\\_54\\_sample\\_0/metaquast/combined\\_reference/report.tsv'\n",
       "\\item '/ebio/abt3\\_projects/databases\\_no-backup/CAMI//CAMI2\\_HMP-gut/short\\_read/LLMGA\\_genome-frac/final\\_contigs/2017\\_12\\_04\\_18\\_45\\_54\\_sample\\_1/metaquast/combined\\_reference/report.tsv'\n",
       "\\item '/ebio/abt3\\_projects/databases\\_no-backup/CAMI//CAMI2\\_HMP-gut/short\\_read/LLMGA\\_genome-frac/final\\_contigs/2017\\_12\\_04\\_18\\_45\\_54\\_sample\\_10/metaquast/combined\\_reference/report.tsv'\n",
       "\\end{enumerate*}\n"
      ],
      "text/markdown": [
       "1. '/ebio/abt3_projects/databases_no-backup/CAMI//CAMI2_HMP-gut/short_read/LLMGA_genome-frac/final_contigs/2017_12_04_18_45_54_sample_0/metaquast/combined_reference/report.tsv'\n",
       "2. '/ebio/abt3_projects/databases_no-backup/CAMI//CAMI2_HMP-gut/short_read/LLMGA_genome-frac/final_contigs/2017_12_04_18_45_54_sample_1/metaquast/combined_reference/report.tsv'\n",
       "3. '/ebio/abt3_projects/databases_no-backup/CAMI//CAMI2_HMP-gut/short_read/LLMGA_genome-frac/final_contigs/2017_12_04_18_45_54_sample_10/metaquast/combined_reference/report.tsv'\n",
       "\n",
       "\n"
      ],
      "text/plain": [
       "[1] \"/ebio/abt3_projects/databases_no-backup/CAMI//CAMI2_HMP-gut/short_read/LLMGA_genome-frac/final_contigs/2017_12_04_18_45_54_sample_0/metaquast/combined_reference/report.tsv\" \n",
       "[2] \"/ebio/abt3_projects/databases_no-backup/CAMI//CAMI2_HMP-gut/short_read/LLMGA_genome-frac/final_contigs/2017_12_04_18_45_54_sample_1/metaquast/combined_reference/report.tsv\" \n",
       "[3] \"/ebio/abt3_projects/databases_no-backup/CAMI//CAMI2_HMP-gut/short_read/LLMGA_genome-frac/final_contigs/2017_12_04_18_45_54_sample_10/metaquast/combined_reference/report.tsv\""
      ]
     },
     "metadata": {},
     "output_type": "display_data"
    }
   ],
   "source": [
    "# listing files\n",
    "D = file.path(base_dir, 'final_contigs')\n",
    "F = list_files(D, 'report.tsv')\n",
    "F = F[grep('combined_reference/report.tsv', F)]\n",
    "F %>% length\n",
    "F %>% head(n=3)"
   ]
  },
  {
   "cell_type": "code",
   "execution_count": 31,
   "metadata": {
    "ExecuteTime": {
     "end_time": "2022-09-29T00:43:24.485312Z",
     "start_time": "2022-09-29T00:43:24.323Z"
    }
   },
   "outputs": [
    {
     "data": {
      "text/html": [
       "<table class=\"dataframe\">\n",
       "<caption>A data.table: 420 × 3</caption>\n",
       "<thead>\n",
       "\t<tr><th scope=col>Assembly</th><th scope=col>contigs_final</th><th scope=col>Sample</th></tr>\n",
       "\t<tr><th scope=col>&lt;chr&gt;</th><th scope=col>&lt;chr&gt;</th><th scope=col>&lt;chr&gt;</th></tr>\n",
       "</thead>\n",
       "<tbody>\n",
       "\t<tr><td><span style=white-space:pre-wrap># contigs (&gt;= 0 bp)   </span></td><td>11432</td><td>2017_12_04_18_45_54_sample_0</td></tr>\n",
       "\t<tr><td># contigs (&gt;= 1000 bp)</td><td>11432</td><td>2017_12_04_18_45_54_sample_0</td></tr>\n",
       "\t<tr><td>⋮</td><td>⋮</td><td>⋮</td></tr>\n",
       "\t<tr><td>LA50</td><td>1544 </td><td>2017_12_04_18_45_54_sample_9</td></tr>\n",
       "\t<tr><td>LA90</td><td>16832</td><td>2017_12_04_18_45_54_sample_9</td></tr>\n",
       "</tbody>\n",
       "</table>\n"
      ],
      "text/latex": [
       "A data.table: 420 × 3\n",
       "\\begin{tabular}{lll}\n",
       " Assembly & contigs\\_final & Sample\\\\\n",
       " <chr> & <chr> & <chr>\\\\\n",
       "\\hline\n",
       "\t \\# contigs (>= 0 bp)    & 11432 & 2017\\_12\\_04\\_18\\_45\\_54\\_sample\\_0\\\\\n",
       "\t \\# contigs (>= 1000 bp) & 11432 & 2017\\_12\\_04\\_18\\_45\\_54\\_sample\\_0\\\\\n",
       "\t ⋮ & ⋮ & ⋮\\\\\n",
       "\t LA50 & 1544  & 2017\\_12\\_04\\_18\\_45\\_54\\_sample\\_9\\\\\n",
       "\t LA90 & 16832 & 2017\\_12\\_04\\_18\\_45\\_54\\_sample\\_9\\\\\n",
       "\\end{tabular}\n"
      ],
      "text/markdown": [
       "\n",
       "A data.table: 420 × 3\n",
       "\n",
       "| Assembly &lt;chr&gt; | contigs_final &lt;chr&gt; | Sample &lt;chr&gt; |\n",
       "|---|---|---|\n",
       "| # contigs (&gt;= 0 bp)    | 11432 | 2017_12_04_18_45_54_sample_0 |\n",
       "| # contigs (&gt;= 1000 bp) | 11432 | 2017_12_04_18_45_54_sample_0 |\n",
       "| ⋮ | ⋮ | ⋮ |\n",
       "| LA50 | 1544  | 2017_12_04_18_45_54_sample_9 |\n",
       "| LA90 | 16832 | 2017_12_04_18_45_54_sample_9 |\n",
       "\n"
      ],
      "text/plain": [
       "    Assembly               contigs_final Sample                      \n",
       "1   # contigs (>= 0 bp)    11432         2017_12_04_18_45_54_sample_0\n",
       "2   # contigs (>= 1000 bp) 11432         2017_12_04_18_45_54_sample_0\n",
       "⋮   ⋮                      ⋮             ⋮                           \n",
       "419 LA50                   1544          2017_12_04_18_45_54_sample_9\n",
       "420 LA90                   16832         2017_12_04_18_45_54_sample_9"
      ]
     },
     "metadata": {},
     "output_type": "display_data"
    }
   ],
   "source": [
    "# reading tables\n",
    "read_table = function(F){\n",
    "    dt = Fread(F)\n",
    "    dt$Sample = gsub('.+final_contigs/([^/]+)/.+', '\\\\1', F)\n",
    "    return(dt)\n",
    "}\n",
    "contigs = F %>%\n",
    "    lapply(read_table) %>%\n",
    "    rbindlist(use.names=TRUE)\n",
    "contigs"
   ]
  },
  {
   "cell_type": "code",
   "execution_count": 32,
   "metadata": {
    "ExecuteTime": {
     "end_time": "2022-09-29T00:44:19.133118Z",
     "start_time": "2022-09-29T00:43:30.484Z"
    }
   },
   "outputs": [
    {
     "data": {
      "text/html": [
       "10"
      ],
      "text/latex": [
       "10"
      ],
      "text/markdown": [
       "10"
      ],
      "text/plain": [
       "[1] 10"
      ]
     },
     "metadata": {},
     "output_type": "display_data"
    },
    {
     "data": {
      "text/html": [
       "<style>\n",
       ".list-inline {list-style: none; margin:0; padding: 0}\n",
       ".list-inline>li {display: inline-block}\n",
       ".list-inline>li:not(:last-child)::after {content: \"\\00b7\"; padding: 0 .5ex}\n",
       "</style>\n",
       "<ol class=list-inline><li>'/ebio/abt3_projects/databases_no-backup/CAMI//CAMI2_HMP-gut/short_read/LLMGA_genome-frac/filtered_contigs/2017_12_04_18_45_54_sample_0/metaquast/combined_reference/report.tsv'</li><li>'/ebio/abt3_projects/databases_no-backup/CAMI//CAMI2_HMP-gut/short_read/LLMGA_genome-frac/filtered_contigs/2017_12_04_18_45_54_sample_1/metaquast/combined_reference/report.tsv'</li><li>'/ebio/abt3_projects/databases_no-backup/CAMI//CAMI2_HMP-gut/short_read/LLMGA_genome-frac/filtered_contigs/2017_12_04_18_45_54_sample_10/metaquast/combined_reference/report.tsv'</li></ol>\n"
      ],
      "text/latex": [
       "\\begin{enumerate*}\n",
       "\\item '/ebio/abt3\\_projects/databases\\_no-backup/CAMI//CAMI2\\_HMP-gut/short\\_read/LLMGA\\_genome-frac/filtered\\_contigs/2017\\_12\\_04\\_18\\_45\\_54\\_sample\\_0/metaquast/combined\\_reference/report.tsv'\n",
       "\\item '/ebio/abt3\\_projects/databases\\_no-backup/CAMI//CAMI2\\_HMP-gut/short\\_read/LLMGA\\_genome-frac/filtered\\_contigs/2017\\_12\\_04\\_18\\_45\\_54\\_sample\\_1/metaquast/combined\\_reference/report.tsv'\n",
       "\\item '/ebio/abt3\\_projects/databases\\_no-backup/CAMI//CAMI2\\_HMP-gut/short\\_read/LLMGA\\_genome-frac/filtered\\_contigs/2017\\_12\\_04\\_18\\_45\\_54\\_sample\\_10/metaquast/combined\\_reference/report.tsv'\n",
       "\\end{enumerate*}\n"
      ],
      "text/markdown": [
       "1. '/ebio/abt3_projects/databases_no-backup/CAMI//CAMI2_HMP-gut/short_read/LLMGA_genome-frac/filtered_contigs/2017_12_04_18_45_54_sample_0/metaquast/combined_reference/report.tsv'\n",
       "2. '/ebio/abt3_projects/databases_no-backup/CAMI//CAMI2_HMP-gut/short_read/LLMGA_genome-frac/filtered_contigs/2017_12_04_18_45_54_sample_1/metaquast/combined_reference/report.tsv'\n",
       "3. '/ebio/abt3_projects/databases_no-backup/CAMI//CAMI2_HMP-gut/short_read/LLMGA_genome-frac/filtered_contigs/2017_12_04_18_45_54_sample_10/metaquast/combined_reference/report.tsv'\n",
       "\n",
       "\n"
      ],
      "text/plain": [
       "[1] \"/ebio/abt3_projects/databases_no-backup/CAMI//CAMI2_HMP-gut/short_read/LLMGA_genome-frac/filtered_contigs/2017_12_04_18_45_54_sample_0/metaquast/combined_reference/report.tsv\" \n",
       "[2] \"/ebio/abt3_projects/databases_no-backup/CAMI//CAMI2_HMP-gut/short_read/LLMGA_genome-frac/filtered_contigs/2017_12_04_18_45_54_sample_1/metaquast/combined_reference/report.tsv\" \n",
       "[3] \"/ebio/abt3_projects/databases_no-backup/CAMI//CAMI2_HMP-gut/short_read/LLMGA_genome-frac/filtered_contigs/2017_12_04_18_45_54_sample_10/metaquast/combined_reference/report.tsv\""
      ]
     },
     "metadata": {},
     "output_type": "display_data"
    }
   ],
   "source": [
    "# listing files\n",
    "D = file.path(base_dir, 'filtered_contigs')\n",
    "F = list_files(D, 'report.tsv')\n",
    "F = F[grep('combined_reference/report', F)]\n",
    "F %>% length\n",
    "F %>% head(n=3)"
   ]
  },
  {
   "cell_type": "code",
   "execution_count": 34,
   "metadata": {
    "ExecuteTime": {
     "end_time": "2022-09-29T00:44:32.005119Z",
     "start_time": "2022-09-29T00:44:31.840Z"
    }
   },
   "outputs": [
    {
     "data": {
      "text/html": [
       "<table class=\"dataframe\">\n",
       "<caption>A data.table: 420 × 3</caption>\n",
       "<thead>\n",
       "\t<tr><th scope=col>Assembly</th><th scope=col>contigs_filtered</th><th scope=col>Sample</th></tr>\n",
       "\t<tr><th scope=col>&lt;chr&gt;</th><th scope=col>&lt;chr&gt;</th><th scope=col>&lt;chr&gt;</th></tr>\n",
       "</thead>\n",
       "<tbody>\n",
       "\t<tr><td><span style=white-space:pre-wrap># contigs (&gt;= 0 bp)   </span></td><td>11283</td><td>2017_12_04_18_45_54_sample_0</td></tr>\n",
       "\t<tr><td># contigs (&gt;= 1000 bp)</td><td>11283</td><td>2017_12_04_18_45_54_sample_0</td></tr>\n",
       "\t<tr><td>⋮</td><td>⋮</td><td>⋮</td></tr>\n",
       "\t<tr><td>LA50</td><td>1703 </td><td>2017_12_04_18_45_54_sample_9</td></tr>\n",
       "\t<tr><td>LA90</td><td>16813</td><td>2017_12_04_18_45_54_sample_9</td></tr>\n",
       "</tbody>\n",
       "</table>\n"
      ],
      "text/latex": [
       "A data.table: 420 × 3\n",
       "\\begin{tabular}{lll}\n",
       " Assembly & contigs\\_filtered & Sample\\\\\n",
       " <chr> & <chr> & <chr>\\\\\n",
       "\\hline\n",
       "\t \\# contigs (>= 0 bp)    & 11283 & 2017\\_12\\_04\\_18\\_45\\_54\\_sample\\_0\\\\\n",
       "\t \\# contigs (>= 1000 bp) & 11283 & 2017\\_12\\_04\\_18\\_45\\_54\\_sample\\_0\\\\\n",
       "\t ⋮ & ⋮ & ⋮\\\\\n",
       "\t LA50 & 1703  & 2017\\_12\\_04\\_18\\_45\\_54\\_sample\\_9\\\\\n",
       "\t LA90 & 16813 & 2017\\_12\\_04\\_18\\_45\\_54\\_sample\\_9\\\\\n",
       "\\end{tabular}\n"
      ],
      "text/markdown": [
       "\n",
       "A data.table: 420 × 3\n",
       "\n",
       "| Assembly &lt;chr&gt; | contigs_filtered &lt;chr&gt; | Sample &lt;chr&gt; |\n",
       "|---|---|---|\n",
       "| # contigs (&gt;= 0 bp)    | 11283 | 2017_12_04_18_45_54_sample_0 |\n",
       "| # contigs (&gt;= 1000 bp) | 11283 | 2017_12_04_18_45_54_sample_0 |\n",
       "| ⋮ | ⋮ | ⋮ |\n",
       "| LA50 | 1703  | 2017_12_04_18_45_54_sample_9 |\n",
       "| LA90 | 16813 | 2017_12_04_18_45_54_sample_9 |\n",
       "\n"
      ],
      "text/plain": [
       "    Assembly               contigs_filtered Sample                      \n",
       "1   # contigs (>= 0 bp)    11283            2017_12_04_18_45_54_sample_0\n",
       "2   # contigs (>= 1000 bp) 11283            2017_12_04_18_45_54_sample_0\n",
       "⋮   ⋮                      ⋮                ⋮                           \n",
       "419 LA50                   1703             2017_12_04_18_45_54_sample_9\n",
       "420 LA90                   16813            2017_12_04_18_45_54_sample_9"
      ]
     },
     "metadata": {},
     "output_type": "display_data"
    }
   ],
   "source": [
    "# reading tables\n",
    "read_table = function(F){\n",
    "    dt = Fread(F)\n",
    "    dt$Sample = gsub('.+filtered_contigs/([^/]+)/.+', '\\\\1', F)\n",
    "    return(dt)\n",
    "}\n",
    "contigs_filt = F %>%\n",
    "    lapply(read_table) %>%\n",
    "    rbindlist(use.names=TRUE)\n",
    "contigs_filt"
   ]
  },
  {
   "cell_type": "code",
   "execution_count": 56,
   "metadata": {
    "ExecuteTime": {
     "end_time": "2022-09-30T04:00:53.347505Z",
     "start_time": "2022-09-30T04:00:53.140Z"
    }
   },
   "outputs": [
    {
     "name": "stderr",
     "output_type": "stream",
     "text": [
      "Warning message in as.Num(.):\n",
      "“NAs introduced by coercion”\n"
     ]
    },
    {
     "data": {
      "text/html": [
       "<table class=\"dataframe\">\n",
       "<caption>A tidytable: 840 × 4</caption>\n",
       "<thead>\n",
       "\t<tr><th scope=col>Assembly</th><th scope=col>value</th><th scope=col>Sample</th><th scope=col>stage</th></tr>\n",
       "\t<tr><th scope=col>&lt;chr&gt;</th><th scope=col>&lt;dbl&gt;</th><th scope=col>&lt;chr&gt;</th><th scope=col>&lt;fct&gt;</th></tr>\n",
       "</thead>\n",
       "<tbody>\n",
       "\t<tr><td><span style=white-space:pre-wrap># contigs (&gt;= 0 bp)   </span></td><td>11432</td><td>2017_12_04_18_45_54_sample_0</td><td>contigs (pre-filter)</td></tr>\n",
       "\t<tr><td># contigs (&gt;= 1000 bp)</td><td>11432</td><td>2017_12_04_18_45_54_sample_0</td><td>contigs (pre-filter)</td></tr>\n",
       "\t<tr><td>⋮</td><td>⋮</td><td>⋮</td><td>⋮</td></tr>\n",
       "\t<tr><td>LA50</td><td> 1703</td><td>2017_12_04_18_45_54_sample_9</td><td>contigs (post-filter)</td></tr>\n",
       "\t<tr><td>LA90</td><td>16813</td><td>2017_12_04_18_45_54_sample_9</td><td>contigs (post-filter)</td></tr>\n",
       "</tbody>\n",
       "</table>\n"
      ],
      "text/latex": [
       "A tidytable: 840 × 4\n",
       "\\begin{tabular}{llll}\n",
       " Assembly & value & Sample & stage\\\\\n",
       " <chr> & <dbl> & <chr> & <fct>\\\\\n",
       "\\hline\n",
       "\t \\# contigs (>= 0 bp)    & 11432 & 2017\\_12\\_04\\_18\\_45\\_54\\_sample\\_0 & contigs (pre-filter)\\\\\n",
       "\t \\# contigs (>= 1000 bp) & 11432 & 2017\\_12\\_04\\_18\\_45\\_54\\_sample\\_0 & contigs (pre-filter)\\\\\n",
       "\t ⋮ & ⋮ & ⋮ & ⋮\\\\\n",
       "\t LA50 &  1703 & 2017\\_12\\_04\\_18\\_45\\_54\\_sample\\_9 & contigs (post-filter)\\\\\n",
       "\t LA90 & 16813 & 2017\\_12\\_04\\_18\\_45\\_54\\_sample\\_9 & contigs (post-filter)\\\\\n",
       "\\end{tabular}\n"
      ],
      "text/markdown": [
       "\n",
       "A tidytable: 840 × 4\n",
       "\n",
       "| Assembly &lt;chr&gt; | value &lt;dbl&gt; | Sample &lt;chr&gt; | stage &lt;fct&gt; |\n",
       "|---|---|---|---|\n",
       "| # contigs (&gt;= 0 bp)    | 11432 | 2017_12_04_18_45_54_sample_0 | contigs (pre-filter) |\n",
       "| # contigs (&gt;= 1000 bp) | 11432 | 2017_12_04_18_45_54_sample_0 | contigs (pre-filter) |\n",
       "| ⋮ | ⋮ | ⋮ | ⋮ |\n",
       "| LA50 |  1703 | 2017_12_04_18_45_54_sample_9 | contigs (post-filter) |\n",
       "| LA90 | 16813 | 2017_12_04_18_45_54_sample_9 | contigs (post-filter) |\n",
       "\n"
      ],
      "text/plain": [
       "    Assembly               value Sample                      \n",
       "1   # contigs (>= 0 bp)    11432 2017_12_04_18_45_54_sample_0\n",
       "2   # contigs (>= 1000 bp) 11432 2017_12_04_18_45_54_sample_0\n",
       "⋮   ⋮                      ⋮     ⋮                           \n",
       "839 LA50                    1703 2017_12_04_18_45_54_sample_9\n",
       "840 LA90                   16813 2017_12_04_18_45_54_sample_9\n",
       "    stage                \n",
       "1   contigs (pre-filter) \n",
       "2   contigs (pre-filter) \n",
       "⋮   ⋮                    \n",
       "839 contigs (post-filter)\n",
       "840 contigs (post-filter)"
      ]
     },
     "metadata": {},
     "output_type": "display_data"
    }
   ],
   "source": [
    "# merging\n",
    "contigs_j = rbindlist(list(\n",
    "    contigs %>% \n",
    "        rename.('value' = 'contigs_final') %>%\n",
    "        mutate.(stage = 'contigs (pre-filter)'),\n",
    "    contigs_filt %>% \n",
    "        rename.('value' = 'contigs_filtered') %>%\n",
    "        mutate.(stage = 'contigs (post-filter)')\n",
    "    )) %>%\n",
    "    mutate.(stage = factor(stage, c('contigs (pre-filter)', 'contigs (post-filter)')),\n",
    "            value = value %>% as.Num)\n",
    "contigs_j"
   ]
  },
  {
   "cell_type": "code",
   "execution_count": 57,
   "metadata": {
    "ExecuteTime": {
     "end_time": "2022-09-30T04:00:58.582029Z",
     "start_time": "2022-09-30T04:00:58.138Z"
    }
   },
   "outputs": [
    {
     "data": {
      "image/png": "[encoded data removed]",
      "text/plain": [
       "plot without title"
      ]
     },
     "metadata": {
      "image/png": {
       "height": 300,
       "width": 350
      }
     },
     "output_type": "display_data"
    }
   ],
   "source": [
    "# plotting results\n",
    "p = contigs_j %>%\n",
    "    filter.(Assembly == 'Genome fraction (%)') %>%\n",
    "    ggplot(aes(stage, value)) +\n",
    "    geom_boxplot() +\n",
    "    geom_jitter(height=0, width=0.2, alpha=0.2, color='red') +\n",
    "    labs(y='Genome fraction (%)') +\n",
    "    theme_bw()\n",
    "p.dims(3.5,3)\n",
    "p"
   ]
  },
  {
   "cell_type": "markdown",
   "metadata": {},
   "source": [
    "#### Stats"
   ]
  },
  {
   "cell_type": "code",
   "execution_count": 58,
   "metadata": {
    "ExecuteTime": {
     "end_time": "2022-09-30T04:01:03.590178Z",
     "start_time": "2022-09-30T04:01:03.408Z"
    }
   },
   "outputs": [
    {
     "data": {
      "text/plain": [
       "\n",
       "\tWilcoxon rank sum test with continuity correction\n",
       "\n",
       "data:  value by stage\n",
       "W = 85541, p-value = 0.6601\n",
       "alternative hypothesis: true location shift is not equal to 0\n"
      ]
     },
     "metadata": {},
     "output_type": "display_data"
    }
   ],
   "source": [
    "wilcox.test(value ~ stage, data=contigs_j)"
   ]
  },
  {
   "cell_type": "markdown",
   "metadata": {},
   "source": [
    "# CAMI2 marine"
   ]
  },
  {
   "cell_type": "markdown",
   "metadata": {},
   "source": [
    "## LLMGA"
   ]
  },
  {
   "cell_type": "code",
   "execution_count": 62,
   "metadata": {
    "ExecuteTime": {
     "end_time": "2022-09-30T23:50:02.135802Z",
     "start_time": "2022-09-30T23:50:01.993Z"
    }
   },
   "outputs": [
    {
     "name": "stdout",
     "output_type": "stream",
     "text": [
      "Directory already exists: /ebio/abt3_projects/databases_no-backup/CAMI//CAMI2_marine/short_read/LLMGA_genome-frac \n"
     ]
    }
   ],
   "source": [
    "base_dir = file.path(work_dir, 'CAMI2_marine', 'short_read', 'LLMGA_genome-frac')\n",
    "make_dir(base_dir)"
   ]
  },
  {
   "cell_type": "markdown",
   "metadata": {},
   "source": [
    "### Config"
   ]
  },
  {
   "cell_type": "code",
   "execution_count": 63,
   "metadata": {
    "ExecuteTime": {
     "end_time": "2022-09-30T23:50:02.402967Z",
     "start_time": "2022-09-30T23:50:02.254Z"
    }
   },
   "outputs": [
    {
     "name": "stdout",
     "output_type": "stream",
     "text": [
      "#-- I/O --#\n",
      "# table with sample --> read_file information\n",
      "samples_file: /ebio/abt3_projects/databases_no-backup/CAMI/CAMI2_marine/short_read/LLMGA_genome-frac/samples.tsv\n",
      "\n",
      "# output location\n",
      "output_dir: /ebio/abt3_projects/databases_no-backup/CAMI/CAMI2_marine/short_read/LLMGA_genome-frac/\n",
      "\n",
      "# temporary file directory (your username will be added automatically)\n",
      "tmp_dir: /ebio/abt3_scratch/\n",
      "\n",
      "#-- reference genomes for metacompass --#\n",
      "metacompass_ref: /ebio/abt3_projects/Anxiety_Twins_Metagenomes/data/metagenome/TUKMZ-BGI250/llmga-find-refs/references/drep/dereplicated_genomes.fna\n",
      "\n",
      "#-- master control --#\n",
      "# which major parts of the pipline to run \n",
      "run_assembly: True\n",
      "run_binning: False\n",
      "run_other_assembly: False\n",
      "\n",
      "#-- software parameters --#\n",
      "# Notes:\n",
      "## see \"Notes on the `config.yaml` file\" in the README\n",
      "params:\n",
      "  # misc\n",
      "  ionice: -c 3\n",
      "  use_gpu: True\n",
      "  # raw reads\n",
      "  reads:\n",
      "    subsample: 80000000\n",
      "    fastqc: \"\"  \n",
      "  # metacompass (per-sample ref-based assembly); skipped if using graphbin2\n",
      "  metacompass:\n",
      "    buildcontig: Skip #--pickref breadth --mincov 3 -l 1000 -n T -b F -u F\n",
      "    pilon: \"\"\n",
      "  # denovo per-sample assembly (unmapped if metacompass used, else all reads)\n",
      "  denovo_assembly:\n",
      "    metaspades: -k auto --only-assembler\n",
      "    megahit: Skip #--min-count 3 --min-contig-len 500 --presets meta-sensitive\n",
      "  # combined, final contigs from assemblies\n",
      "  final_contigs:\n",
      "    derep_contigs: minidentity=100 minscaf=1000 minoverlappercent=95\n",
      "    contig_rename: \"\"\n",
      "    min_contig_len: 1000            # min contig length retained\n",
      "    metaquast: -r /ebio/abt3_projects/databases_no-backup/CAMI/CAMI2_HMP-gut/short_read/genomes\n",
      "  # contig filtering\n",
      "  contig_filtering:\n",
      "    resmico:\n",
      "      bowtie2:\n",
      "        build: \"\"\n",
      "        map: \"\"\n",
      "      bam2feat: --max-coverage 20\n",
      "      evaluate: --batch-size 100 --gpu-eval-mem-gb 1 --max-len 20000\n",
      "                --min-contig-len 1000 --min-avg-coverage 1 --seed 12\n",
      "      filter: --score-cutoff 0.8 --min-length 0\n",
      "    metaquast: -r /ebio/abt3_projects/databases_no-backup/CAMI/CAMI2_HMP-gut/short_read/genomes\n",
      "  # contig binning\n",
      "  binning:\n",
      "    subsample: 5000000       # how many reads per sample to use for dif-cov binning?\n",
      "    # mapping\n",
      "    map:\n",
      "      num_map_samples: 40    # how many samples to use for dif-cov. binning ('all' = all samples)\n",
      "      minimap2:\n",
      "        index: -k 15 -w 10 -I 12G\n",
      "        map: -N 5 -F 800\n",
      "      samtools_view: -q 0 -F 3584                 # -q = MAPQ cutoff\n",
      "      bam_to_depth: --percentIdentity 97\n",
      "      keep_bam: False                       # keep all BAM files?\n",
      "    # binning\n",
      "    binners:\n",
      "      maxbin2:\n",
      "        Low: -min_contig_length 1500 -markerset 40 -prob_threshold 0.6\n",
      "        Med: -min_contig_length 1500 -markerset 40 -prob_threshold 0.7\n",
      "        High: -min_contig_length 1500 -markerset 40 -prob_threshold 0.8\n",
      "      metabat2:\n",
      "        Low: --minContig 1500 --minCV 0.5 --minCVSum 0.5 --maxP 92\n",
      "             --maxEdges 150 --seed 8394\n",
      "        Med: --minContig 1500 --minCV 0.5 --minCVSum 0.5 --maxP 94\n",
      "             --maxEdges 325 --seed 8394\n",
      "        High: --minContig 1500 --minCV 0.5 --minCVSum 0.5 --maxP 97\n",
      "              --maxEdges 500 --seed 8394\n",
      "        LowNoCov: --minContig 1500 --minCV 0.5 --minCVSum 0.5 --maxP 92\n",
      "                  --maxEdges 150 --seed 8394 NOCOV\n",
      "        MedNoCov: --minContig 1500 --minCV 0.5 --minCVSum 0.5 --maxP 94\n",
      "                  --maxEdges 325 --seed 8394 NOCOV\n",
      "        HighNoCov: --minContig 1500 --minCV 0.5 --minCVSum 0.5 --maxP 97\n",
      "                   --maxEdges 500 --seed 8394 NOCOV\n",
      "      vamb:\n",
      "        Low: -c 10000 -m 1500 -l 24 -n 384 384\n",
      "        Med: -c 10000 -m 1500 -l 32 -n 512 512\n",
      "        High: -c 10000 -m 1500 -l 40 -n 768 768\n",
      "    # selecting final bins (MAGs)\n",
      "    select:\n",
      "      das_tool: --search_engine diamond\n",
      "      genome_table: \"\"\n",
      "  # denovo assembly of other genetic components\n",
      "  denovo_other_assembly:\n",
      "    min_contig_len: 1000\n",
      "    metaplasmidspades: -k auto --only-assembler\n",
      "    metabiosyntheticspades: -k auto --only-assembler\n",
      "  \n",
      "#-- snakemake pipeline --#\n",
      "pipeline:\n",
      "  snakemake_folder: ./\n",
      "  script_folder: bin/scripts/\n",
      "  random_number_seed: 83421\n",
      "  name: LLMGA\n"
     ]
    }
   ],
   "source": [
    "F = file.path(base_dir, 'config.yaml')\n",
    "cat_file(F)"
   ]
  },
  {
   "cell_type": "markdown",
   "metadata": {},
   "source": [
    "### Run"
   ]
  },
  {
   "cell_type": "markdown",
   "metadata": {
    "ExecuteTime": {
     "end_time": "2022-09-30T23:50:20.842423Z",
     "start_time": "2022-09-30T23:50:20.691Z"
    }
   },
   "source": [
    "```\n",
    "(snakemake) rick: /tmp/global2/nyoungblut/code/dev/ll_pipelines/llmga\n",
    "$ screen -L -S llmga-marine ./snakemake_sge.sh /ebio/abt3_projects/databases_no-backup/CAMI/CAMI2_marine/short_read/LLMGA_genome-frac/config.yaml 30\n",
    "```"
   ]
  },
  {
   "cell_type": "markdown",
   "metadata": {},
   "source": [
    "### Summary"
   ]
  },
  {
   "cell_type": "code",
   "execution_count": 66,
   "metadata": {
    "ExecuteTime": {
     "end_time": "2022-10-01T16:16:35.519330Z",
     "start_time": "2022-10-01T16:16:01.809Z"
    }
   },
   "outputs": [
    {
     "data": {
      "text/html": [
       "10"
      ],
      "text/latex": [
       "10"
      ],
      "text/markdown": [
       "10"
      ],
      "text/plain": [
       "[1] 10"
      ]
     },
     "metadata": {},
     "output_type": "display_data"
    },
    {
     "data": {
      "text/html": [
       "<style>\n",
       ".list-inline {list-style: none; margin:0; padding: 0}\n",
       ".list-inline>li {display: inline-block}\n",
       ".list-inline>li:not(:last-child)::after {content: \"\\00b7\"; padding: 0 .5ex}\n",
       "</style>\n",
       "<ol class=list-inline><li>'/ebio/abt3_projects/databases_no-backup/CAMI//CAMI2_marine/short_read/LLMGA_genome-frac/final_contigs/2018_08_15_09_49_32_sample_0/metaquast/combined_reference/report.tsv'</li><li>'/ebio/abt3_projects/databases_no-backup/CAMI//CAMI2_marine/short_read/LLMGA_genome-frac/final_contigs/2018_08_15_09_49_32_sample_1/metaquast/combined_reference/report.tsv'</li><li>'/ebio/abt3_projects/databases_no-backup/CAMI//CAMI2_marine/short_read/LLMGA_genome-frac/final_contigs/2018_08_15_09_49_32_sample_2/metaquast/combined_reference/report.tsv'</li></ol>\n"
      ],
      "text/latex": [
       "\\begin{enumerate*}\n",
       "\\item '/ebio/abt3\\_projects/databases\\_no-backup/CAMI//CAMI2\\_marine/short\\_read/LLMGA\\_genome-frac/final\\_contigs/2018\\_08\\_15\\_09\\_49\\_32\\_sample\\_0/metaquast/combined\\_reference/report.tsv'\n",
       "\\item '/ebio/abt3\\_projects/databases\\_no-backup/CAMI//CAMI2\\_marine/short\\_read/LLMGA\\_genome-frac/final\\_contigs/2018\\_08\\_15\\_09\\_49\\_32\\_sample\\_1/metaquast/combined\\_reference/report.tsv'\n",
       "\\item '/ebio/abt3\\_projects/databases\\_no-backup/CAMI//CAMI2\\_marine/short\\_read/LLMGA\\_genome-frac/final\\_contigs/2018\\_08\\_15\\_09\\_49\\_32\\_sample\\_2/metaquast/combined\\_reference/report.tsv'\n",
       "\\end{enumerate*}\n"
      ],
      "text/markdown": [
       "1. '/ebio/abt3_projects/databases_no-backup/CAMI//CAMI2_marine/short_read/LLMGA_genome-frac/final_contigs/2018_08_15_09_49_32_sample_0/metaquast/combined_reference/report.tsv'\n",
       "2. '/ebio/abt3_projects/databases_no-backup/CAMI//CAMI2_marine/short_read/LLMGA_genome-frac/final_contigs/2018_08_15_09_49_32_sample_1/metaquast/combined_reference/report.tsv'\n",
       "3. '/ebio/abt3_projects/databases_no-backup/CAMI//CAMI2_marine/short_read/LLMGA_genome-frac/final_contigs/2018_08_15_09_49_32_sample_2/metaquast/combined_reference/report.tsv'\n",
       "\n",
       "\n"
      ],
      "text/plain": [
       "[1] \"/ebio/abt3_projects/databases_no-backup/CAMI//CAMI2_marine/short_read/LLMGA_genome-frac/final_contigs/2018_08_15_09_49_32_sample_0/metaquast/combined_reference/report.tsv\"\n",
       "[2] \"/ebio/abt3_projects/databases_no-backup/CAMI//CAMI2_marine/short_read/LLMGA_genome-frac/final_contigs/2018_08_15_09_49_32_sample_1/metaquast/combined_reference/report.tsv\"\n",
       "[3] \"/ebio/abt3_projects/databases_no-backup/CAMI//CAMI2_marine/short_read/LLMGA_genome-frac/final_contigs/2018_08_15_09_49_32_sample_2/metaquast/combined_reference/report.tsv\""
      ]
     },
     "metadata": {},
     "output_type": "display_data"
    }
   ],
   "source": [
    "# listing files\n",
    "D = file.path(base_dir, 'final_contigs')\n",
    "F = list_files(D, 'report.tsv')\n",
    "F = F[grep('combined_reference/report.tsv', F)]\n",
    "F %>% length\n",
    "F %>% head(n=3)"
   ]
  },
  {
   "cell_type": "code",
   "execution_count": 67,
   "metadata": {
    "ExecuteTime": {
     "end_time": "2022-10-01T16:16:35.577241Z",
     "start_time": "2022-10-01T16:16:09.319Z"
    }
   },
   "outputs": [
    {
     "data": {
      "text/html": [
       "<table class=\"dataframe\">\n",
       "<caption>A data.table: 420 × 3</caption>\n",
       "<thead>\n",
       "\t<tr><th scope=col>Assembly</th><th scope=col>contigs_final</th><th scope=col>Sample</th></tr>\n",
       "\t<tr><th scope=col>&lt;chr&gt;</th><th scope=col>&lt;chr&gt;</th><th scope=col>&lt;chr&gt;</th></tr>\n",
       "</thead>\n",
       "<tbody>\n",
       "\t<tr><td><span style=white-space:pre-wrap># contigs (&gt;= 0 bp)   </span></td><td>34991</td><td>2018_08_15_09_49_32_sample_0</td></tr>\n",
       "\t<tr><td># contigs (&gt;= 1000 bp)</td><td>34991</td><td>2018_08_15_09_49_32_sample_0</td></tr>\n",
       "\t<tr><td>⋮</td><td>⋮</td><td>⋮</td></tr>\n",
       "\t<tr><td>LA50</td><td>-</td><td>2018_08_15_09_49_32_sample_9</td></tr>\n",
       "\t<tr><td>LA90</td><td>-</td><td>2018_08_15_09_49_32_sample_9</td></tr>\n",
       "</tbody>\n",
       "</table>\n"
      ],
      "text/latex": [
       "A data.table: 420 × 3\n",
       "\\begin{tabular}{lll}\n",
       " Assembly & contigs\\_final & Sample\\\\\n",
       " <chr> & <chr> & <chr>\\\\\n",
       "\\hline\n",
       "\t \\# contigs (>= 0 bp)    & 34991 & 2018\\_08\\_15\\_09\\_49\\_32\\_sample\\_0\\\\\n",
       "\t \\# contigs (>= 1000 bp) & 34991 & 2018\\_08\\_15\\_09\\_49\\_32\\_sample\\_0\\\\\n",
       "\t ⋮ & ⋮ & ⋮\\\\\n",
       "\t LA50 & - & 2018\\_08\\_15\\_09\\_49\\_32\\_sample\\_9\\\\\n",
       "\t LA90 & - & 2018\\_08\\_15\\_09\\_49\\_32\\_sample\\_9\\\\\n",
       "\\end{tabular}\n"
      ],
      "text/markdown": [
       "\n",
       "A data.table: 420 × 3\n",
       "\n",
       "| Assembly &lt;chr&gt; | contigs_final &lt;chr&gt; | Sample &lt;chr&gt; |\n",
       "|---|---|---|\n",
       "| # contigs (&gt;= 0 bp)    | 34991 | 2018_08_15_09_49_32_sample_0 |\n",
       "| # contigs (&gt;= 1000 bp) | 34991 | 2018_08_15_09_49_32_sample_0 |\n",
       "| ⋮ | ⋮ | ⋮ |\n",
       "| LA50 | - | 2018_08_15_09_49_32_sample_9 |\n",
       "| LA90 | - | 2018_08_15_09_49_32_sample_9 |\n",
       "\n"
      ],
      "text/plain": [
       "    Assembly               contigs_final Sample                      \n",
       "1   # contigs (>= 0 bp)    34991         2018_08_15_09_49_32_sample_0\n",
       "2   # contigs (>= 1000 bp) 34991         2018_08_15_09_49_32_sample_0\n",
       "⋮   ⋮                      ⋮             ⋮                           \n",
       "419 LA50                   -             2018_08_15_09_49_32_sample_9\n",
       "420 LA90                   -             2018_08_15_09_49_32_sample_9"
      ]
     },
     "metadata": {},
     "output_type": "display_data"
    }
   ],
   "source": [
    "# reading tables\n",
    "read_table = function(F){\n",
    "    dt = Fread(F)\n",
    "    dt$Sample = gsub('.+final_contigs/([^/]+)/.+', '\\\\1', F)\n",
    "    return(dt)\n",
    "}\n",
    "contigs = F %>%\n",
    "    lapply(read_table) %>%\n",
    "    rbindlist(use.names=TRUE)\n",
    "contigs"
   ]
  },
  {
   "cell_type": "code",
   "execution_count": 68,
   "metadata": {
    "ExecuteTime": {
     "end_time": "2022-10-01T16:17:03.379592Z",
     "start_time": "2022-10-01T16:16:28.271Z"
    }
   },
   "outputs": [
    {
     "data": {
      "text/html": [
       "10"
      ],
      "text/latex": [
       "10"
      ],
      "text/markdown": [
       "10"
      ],
      "text/plain": [
       "[1] 10"
      ]
     },
     "metadata": {},
     "output_type": "display_data"
    },
    {
     "data": {
      "text/html": [
       "<style>\n",
       ".list-inline {list-style: none; margin:0; padding: 0}\n",
       ".list-inline>li {display: inline-block}\n",
       ".list-inline>li:not(:last-child)::after {content: \"\\00b7\"; padding: 0 .5ex}\n",
       "</style>\n",
       "<ol class=list-inline><li>'/ebio/abt3_projects/databases_no-backup/CAMI//CAMI2_marine/short_read/LLMGA_genome-frac/filtered_contigs/2018_08_15_09_49_32_sample_0/metaquast/combined_reference/report.tsv'</li><li>'/ebio/abt3_projects/databases_no-backup/CAMI//CAMI2_marine/short_read/LLMGA_genome-frac/filtered_contigs/2018_08_15_09_49_32_sample_1/metaquast/combined_reference/report.tsv'</li><li>'/ebio/abt3_projects/databases_no-backup/CAMI//CAMI2_marine/short_read/LLMGA_genome-frac/filtered_contigs/2018_08_15_09_49_32_sample_2/metaquast/combined_reference/report.tsv'</li></ol>\n"
      ],
      "text/latex": [
       "\\begin{enumerate*}\n",
       "\\item '/ebio/abt3\\_projects/databases\\_no-backup/CAMI//CAMI2\\_marine/short\\_read/LLMGA\\_genome-frac/filtered\\_contigs/2018\\_08\\_15\\_09\\_49\\_32\\_sample\\_0/metaquast/combined\\_reference/report.tsv'\n",
       "\\item '/ebio/abt3\\_projects/databases\\_no-backup/CAMI//CAMI2\\_marine/short\\_read/LLMGA\\_genome-frac/filtered\\_contigs/2018\\_08\\_15\\_09\\_49\\_32\\_sample\\_1/metaquast/combined\\_reference/report.tsv'\n",
       "\\item '/ebio/abt3\\_projects/databases\\_no-backup/CAMI//CAMI2\\_marine/short\\_read/LLMGA\\_genome-frac/filtered\\_contigs/2018\\_08\\_15\\_09\\_49\\_32\\_sample\\_2/metaquast/combined\\_reference/report.tsv'\n",
       "\\end{enumerate*}\n"
      ],
      "text/markdown": [
       "1. '/ebio/abt3_projects/databases_no-backup/CAMI//CAMI2_marine/short_read/LLMGA_genome-frac/filtered_contigs/2018_08_15_09_49_32_sample_0/metaquast/combined_reference/report.tsv'\n",
       "2. '/ebio/abt3_projects/databases_no-backup/CAMI//CAMI2_marine/short_read/LLMGA_genome-frac/filtered_contigs/2018_08_15_09_49_32_sample_1/metaquast/combined_reference/report.tsv'\n",
       "3. '/ebio/abt3_projects/databases_no-backup/CAMI//CAMI2_marine/short_read/LLMGA_genome-frac/filtered_contigs/2018_08_15_09_49_32_sample_2/metaquast/combined_reference/report.tsv'\n",
       "\n",
       "\n"
      ],
      "text/plain": [
       "[1] \"/ebio/abt3_projects/databases_no-backup/CAMI//CAMI2_marine/short_read/LLMGA_genome-frac/filtered_contigs/2018_08_15_09_49_32_sample_0/metaquast/combined_reference/report.tsv\"\n",
       "[2] \"/ebio/abt3_projects/databases_no-backup/CAMI//CAMI2_marine/short_read/LLMGA_genome-frac/filtered_contigs/2018_08_15_09_49_32_sample_1/metaquast/combined_reference/report.tsv\"\n",
       "[3] \"/ebio/abt3_projects/databases_no-backup/CAMI//CAMI2_marine/short_read/LLMGA_genome-frac/filtered_contigs/2018_08_15_09_49_32_sample_2/metaquast/combined_reference/report.tsv\""
      ]
     },
     "metadata": {},
     "output_type": "display_data"
    }
   ],
   "source": [
    "# listing files\n",
    "D = file.path(base_dir, 'filtered_contigs')\n",
    "F = list_files(D, 'report.tsv')\n",
    "F = F[grep('combined_reference/report', F)]\n",
    "F %>% length\n",
    "F %>% head(n=3)"
   ]
  },
  {
   "cell_type": "code",
   "execution_count": 69,
   "metadata": {
    "ExecuteTime": {
     "end_time": "2022-10-01T16:17:03.446351Z",
     "start_time": "2022-10-01T16:16:42.590Z"
    }
   },
   "outputs": [
    {
     "data": {
      "text/html": [
       "<table class=\"dataframe\">\n",
       "<caption>A data.table: 420 × 3</caption>\n",
       "<thead>\n",
       "\t<tr><th scope=col>Assembly</th><th scope=col>contigs_filtered</th><th scope=col>Sample</th></tr>\n",
       "\t<tr><th scope=col>&lt;chr&gt;</th><th scope=col>&lt;chr&gt;</th><th scope=col>&lt;chr&gt;</th></tr>\n",
       "</thead>\n",
       "<tbody>\n",
       "\t<tr><td><span style=white-space:pre-wrap># contigs (&gt;= 0 bp)   </span></td><td>34224</td><td>2018_08_15_09_49_32_sample_0</td></tr>\n",
       "\t<tr><td># contigs (&gt;= 1000 bp)</td><td>34224</td><td>2018_08_15_09_49_32_sample_0</td></tr>\n",
       "\t<tr><td>⋮</td><td>⋮</td><td>⋮</td></tr>\n",
       "\t<tr><td>LA50</td><td>-</td><td>2018_08_15_09_49_32_sample_9</td></tr>\n",
       "\t<tr><td>LA90</td><td>-</td><td>2018_08_15_09_49_32_sample_9</td></tr>\n",
       "</tbody>\n",
       "</table>\n"
      ],
      "text/latex": [
       "A data.table: 420 × 3\n",
       "\\begin{tabular}{lll}\n",
       " Assembly & contigs\\_filtered & Sample\\\\\n",
       " <chr> & <chr> & <chr>\\\\\n",
       "\\hline\n",
       "\t \\# contigs (>= 0 bp)    & 34224 & 2018\\_08\\_15\\_09\\_49\\_32\\_sample\\_0\\\\\n",
       "\t \\# contigs (>= 1000 bp) & 34224 & 2018\\_08\\_15\\_09\\_49\\_32\\_sample\\_0\\\\\n",
       "\t ⋮ & ⋮ & ⋮\\\\\n",
       "\t LA50 & - & 2018\\_08\\_15\\_09\\_49\\_32\\_sample\\_9\\\\\n",
       "\t LA90 & - & 2018\\_08\\_15\\_09\\_49\\_32\\_sample\\_9\\\\\n",
       "\\end{tabular}\n"
      ],
      "text/markdown": [
       "\n",
       "A data.table: 420 × 3\n",
       "\n",
       "| Assembly &lt;chr&gt; | contigs_filtered &lt;chr&gt; | Sample &lt;chr&gt; |\n",
       "|---|---|---|\n",
       "| # contigs (&gt;= 0 bp)    | 34224 | 2018_08_15_09_49_32_sample_0 |\n",
       "| # contigs (&gt;= 1000 bp) | 34224 | 2018_08_15_09_49_32_sample_0 |\n",
       "| ⋮ | ⋮ | ⋮ |\n",
       "| LA50 | - | 2018_08_15_09_49_32_sample_9 |\n",
       "| LA90 | - | 2018_08_15_09_49_32_sample_9 |\n",
       "\n"
      ],
      "text/plain": [
       "    Assembly               contigs_filtered Sample                      \n",
       "1   # contigs (>= 0 bp)    34224            2018_08_15_09_49_32_sample_0\n",
       "2   # contigs (>= 1000 bp) 34224            2018_08_15_09_49_32_sample_0\n",
       "⋮   ⋮                      ⋮                ⋮                           \n",
       "419 LA50                   -                2018_08_15_09_49_32_sample_9\n",
       "420 LA90                   -                2018_08_15_09_49_32_sample_9"
      ]
     },
     "metadata": {},
     "output_type": "display_data"
    }
   ],
   "source": [
    "# reading tables\n",
    "read_table = function(F){\n",
    "    dt = Fread(F)\n",
    "    dt$Sample = gsub('.+filtered_contigs/([^/]+)/.+', '\\\\1', F)\n",
    "    return(dt)\n",
    "}\n",
    "contigs_filt = F %>%\n",
    "    lapply(read_table) %>%\n",
    "    rbindlist(use.names=TRUE)\n",
    "contigs_filt"
   ]
  },
  {
   "cell_type": "code",
   "execution_count": 70,
   "metadata": {
    "ExecuteTime": {
     "end_time": "2022-10-01T16:17:08.824399Z",
     "start_time": "2022-10-01T16:17:08.661Z"
    }
   },
   "outputs": [
    {
     "name": "stderr",
     "output_type": "stream",
     "text": [
      "Warning message in as.Num(.):\n",
      "“NAs introduced by coercion”\n"
     ]
    },
    {
     "data": {
      "text/html": [
       "<table class=\"dataframe\">\n",
       "<caption>A tidytable: 840 × 4</caption>\n",
       "<thead>\n",
       "\t<tr><th scope=col>Assembly</th><th scope=col>value</th><th scope=col>Sample</th><th scope=col>stage</th></tr>\n",
       "\t<tr><th scope=col>&lt;chr&gt;</th><th scope=col>&lt;dbl&gt;</th><th scope=col>&lt;chr&gt;</th><th scope=col>&lt;fct&gt;</th></tr>\n",
       "</thead>\n",
       "<tbody>\n",
       "\t<tr><td><span style=white-space:pre-wrap># contigs (&gt;= 0 bp)   </span></td><td>34991</td><td>2018_08_15_09_49_32_sample_0</td><td>contigs (pre-filter)</td></tr>\n",
       "\t<tr><td># contigs (&gt;= 1000 bp)</td><td>34991</td><td>2018_08_15_09_49_32_sample_0</td><td>contigs (pre-filter)</td></tr>\n",
       "\t<tr><td>⋮</td><td>⋮</td><td>⋮</td><td>⋮</td></tr>\n",
       "\t<tr><td>LA50</td><td>NA</td><td>2018_08_15_09_49_32_sample_9</td><td>contigs (post-filter)</td></tr>\n",
       "\t<tr><td>LA90</td><td>NA</td><td>2018_08_15_09_49_32_sample_9</td><td>contigs (post-filter)</td></tr>\n",
       "</tbody>\n",
       "</table>\n"
      ],
      "text/latex": [
       "A tidytable: 840 × 4\n",
       "\\begin{tabular}{llll}\n",
       " Assembly & value & Sample & stage\\\\\n",
       " <chr> & <dbl> & <chr> & <fct>\\\\\n",
       "\\hline\n",
       "\t \\# contigs (>= 0 bp)    & 34991 & 2018\\_08\\_15\\_09\\_49\\_32\\_sample\\_0 & contigs (pre-filter)\\\\\n",
       "\t \\# contigs (>= 1000 bp) & 34991 & 2018\\_08\\_15\\_09\\_49\\_32\\_sample\\_0 & contigs (pre-filter)\\\\\n",
       "\t ⋮ & ⋮ & ⋮ & ⋮\\\\\n",
       "\t LA50 & NA & 2018\\_08\\_15\\_09\\_49\\_32\\_sample\\_9 & contigs (post-filter)\\\\\n",
       "\t LA90 & NA & 2018\\_08\\_15\\_09\\_49\\_32\\_sample\\_9 & contigs (post-filter)\\\\\n",
       "\\end{tabular}\n"
      ],
      "text/markdown": [
       "\n",
       "A tidytable: 840 × 4\n",
       "\n",
       "| Assembly &lt;chr&gt; | value &lt;dbl&gt; | Sample &lt;chr&gt; | stage &lt;fct&gt; |\n",
       "|---|---|---|---|\n",
       "| # contigs (&gt;= 0 bp)    | 34991 | 2018_08_15_09_49_32_sample_0 | contigs (pre-filter) |\n",
       "| # contigs (&gt;= 1000 bp) | 34991 | 2018_08_15_09_49_32_sample_0 | contigs (pre-filter) |\n",
       "| ⋮ | ⋮ | ⋮ | ⋮ |\n",
       "| LA50 | NA | 2018_08_15_09_49_32_sample_9 | contigs (post-filter) |\n",
       "| LA90 | NA | 2018_08_15_09_49_32_sample_9 | contigs (post-filter) |\n",
       "\n"
      ],
      "text/plain": [
       "    Assembly               value Sample                      \n",
       "1   # contigs (>= 0 bp)    34991 2018_08_15_09_49_32_sample_0\n",
       "2   # contigs (>= 1000 bp) 34991 2018_08_15_09_49_32_sample_0\n",
       "⋮   ⋮                      ⋮     ⋮                           \n",
       "839 LA50                   NA    2018_08_15_09_49_32_sample_9\n",
       "840 LA90                   NA    2018_08_15_09_49_32_sample_9\n",
       "    stage                \n",
       "1   contigs (pre-filter) \n",
       "2   contigs (pre-filter) \n",
       "⋮   ⋮                    \n",
       "839 contigs (post-filter)\n",
       "840 contigs (post-filter)"
      ]
     },
     "metadata": {},
     "output_type": "display_data"
    }
   ],
   "source": [
    "# merging\n",
    "contigs_j = rbindlist(list(\n",
    "    contigs %>% \n",
    "        rename.('value' = 'contigs_final') %>%\n",
    "        mutate.(stage = 'contigs (pre-filter)'),\n",
    "    contigs_filt %>% \n",
    "        rename.('value' = 'contigs_filtered') %>%\n",
    "        mutate.(stage = 'contigs (post-filter)')\n",
    "    )) %>%\n",
    "    mutate.(stage = factor(stage, c('contigs (pre-filter)', 'contigs (post-filter)')),\n",
    "            value = value %>% as.Num)\n",
    "contigs_j"
   ]
  },
  {
   "cell_type": "code",
   "execution_count": 71,
   "metadata": {
    "ExecuteTime": {
     "end_time": "2022-10-01T16:17:10.517844Z",
     "start_time": "2022-10-01T16:17:10.176Z"
    }
   },
   "outputs": [
    {
     "data": {
      "image/png": "[encoded data removed]",
      "text/plain": [
       "plot without title"
      ]
     },
     "metadata": {
      "image/png": {
       "height": 300,
       "width": 350
      }
     },
     "output_type": "display_data"
    }
   ],
   "source": [
    "# plotting results\n",
    "p = contigs_j %>%\n",
    "    filter.(Assembly == 'Genome fraction (%)') %>%\n",
    "    ggplot(aes(stage, value)) +\n",
    "    geom_boxplot() +\n",
    "    geom_jitter(height=0, width=0.2, alpha=0.2, color='red') +\n",
    "    labs(y='Genome fraction (%)') +\n",
    "    theme_bw()\n",
    "p.dims(3.5,3)\n",
    "p"
   ]
  },
  {
   "cell_type": "markdown",
   "metadata": {},
   "source": [
    "#### Stats"
   ]
  },
  {
   "cell_type": "code",
   "execution_count": 74,
   "metadata": {
    "ExecuteTime": {
     "end_time": "2022-10-01T16:17:41.150293Z",
     "start_time": "2022-10-01T16:17:41.014Z"
    }
   },
   "outputs": [
    {
     "data": {
      "text/plain": [
       "\n",
       "\tWilcoxon rank sum test with continuity correction\n",
       "\n",
       "data:  value by stage\n",
       "W = 69666, p-value = 0.6758\n",
       "alternative hypothesis: true location shift is not equal to 0\n"
      ]
     },
     "metadata": {},
     "output_type": "display_data"
    }
   ],
   "source": [
    "wilcox.test(value ~ stage, data=contigs_j)"
   ]
  },
  {
   "cell_type": "markdown",
   "metadata": {},
   "source": [
    "# sessionInfo"
   ]
  },
  {
   "cell_type": "code",
   "execution_count": 49,
   "metadata": {
    "ExecuteTime": {
     "end_time": "2022-09-30T02:26:23.850288Z",
     "start_time": "2022-09-30T02:26:23.022Z"
    }
   },
   "outputs": [
    {
     "data": {
      "text/plain": [
       "R version 4.1.1 (2021-08-10)\n",
       "Platform: x86_64-conda-linux-gnu (64-bit)\n",
       "Running under: Ubuntu 20.04.5 LTS\n",
       "\n",
       "Matrix products: default\n",
       "BLAS/LAPACK: /tmp/global2/nyoungblut/code/general/conda_envs/general-tidyverse/lib/libopenblasp-r0.3.18.so\n",
       "\n",
       "locale:\n",
       " [1] LC_CTYPE=en_US.UTF-8       LC_NUMERIC=C              \n",
       " [3] LC_TIME=en_US.UTF-8        LC_COLLATE=en_US.UTF-8    \n",
       " [5] LC_MONETARY=en_US.UTF-8    LC_MESSAGES=en_US.UTF-8   \n",
       " [7] LC_PAPER=en_US.UTF-8       LC_NAME=C                 \n",
       " [9] LC_ADDRESS=C               LC_TELEPHONE=C            \n",
       "[11] LC_MEASUREMENT=en_US.UTF-8 LC_IDENTIFICATION=C       \n",
       "\n",
       "attached base packages:\n",
       "[1] stats     graphics  grDevices utils     datasets  methods   base     \n",
       "\n",
       "other attached packages:\n",
       "[1] clustermq_0.8.95.2 LeyLabRMisc_0.2.1  tidytable_0.6.6    data.table_1.14.2 \n",
       "[5] ggplot2_3.3.5      tidyr_1.1.4        dplyr_1.0.7       \n",
       "\n",
       "loaded via a namespace (and not attached):\n",
       " [1] Rcpp_1.0.7       plyr_1.8.6       pillar_1.6.4     compiler_4.1.1  \n",
       " [5] base64enc_0.1-3  tools_4.1.1      bit_4.0.4        digest_0.6.29   \n",
       " [9] uuid_1.0-3       jsonlite_1.7.2   evaluate_0.14    lifecycle_1.0.1 \n",
       "[13] tibble_3.1.6     gtable_0.3.0     pkgconfig_2.0.3  rlang_0.4.12    \n",
       "[17] IRdisplay_1.1    IRkernel_1.3     fastmap_1.1.0    repr_1.1.4      \n",
       "[21] withr_2.4.3      generics_0.1.1   vctrs_0.3.8      bit64_4.0.5     \n",
       "[25] grid_4.1.1       tidyselect_1.1.1 glue_1.6.0       R6_2.5.1        \n",
       "[29] fansi_1.0.0      pbdZMQ_0.3-6     farver_2.1.0     purrr_0.3.4     \n",
       "[33] magrittr_2.0.1   codetools_0.2-18 scales_1.1.1     ellipsis_0.3.2  \n",
       "[37] htmltools_0.5.2  colorspace_2.0-2 labeling_0.4.2   utf8_1.2.2      \n",
       "[41] munsell_0.5.0    crayon_1.4.2    "
      ]
     },
     "metadata": {},
     "output_type": "display_data"
    }
   ],
   "source": [
    "sessionInfo()"
   ]
  }
 ],
 "metadata": {
  "kernelspec": {
   "display_name": "R [conda env:general-tidyverse]",
   "language": "R",
   "name": "conda-env-general-tidyverse-r"
  },
  "language_info": {
   "codemirror_mode": "r",
   "file_extension": ".r",
   "mimetype": "text/x-r-source",
   "name": "R",
   "pygments_lexer": "r",
   "version": "4.1.1"
  },
  "toc": {
   "base_numbering": 1,
   "nav_menu": {},
   "number_sections": true,
   "sideBar": true,
   "skip_h1_title": false,
   "title_cell": "Table of Contents",
   "title_sidebar": "Contents",
   "toc_cell": true,
   "toc_position": {
    "height": "calc(100% - 180px)",
    "left": "10px",
    "top": "150px",
    "width": "294px"
   },
   "toc_section_display": true,
   "toc_window_display": true
  }
 },
 "nbformat": 4,
 "nbformat_minor": 4
}
