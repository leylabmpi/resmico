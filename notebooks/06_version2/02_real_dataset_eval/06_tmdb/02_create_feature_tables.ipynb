{
 "cells": [
  {
   "cell_type": "markdown",
   "metadata": {
    "toc": true
   },
   "source": [
    "<h1>Table of Contents<span class=\"tocSkip\"></span></h1>\n",
    "<div class=\"toc\"><ul class=\"toc-item\"><li><span><a href=\"#Goal\" data-toc-modified-id=\"Goal-1\"><span class=\"toc-item-num\">1&nbsp;&nbsp;</span>Goal</a></span></li><li><span><a href=\"#Var\" data-toc-modified-id=\"Var-2\"><span class=\"toc-item-num\">2&nbsp;&nbsp;</span>Var</a></span></li><li><span><a href=\"#Init\" data-toc-modified-id=\"Init-3\"><span class=\"toc-item-num\">3&nbsp;&nbsp;</span>Init</a></span></li><li><span><a href=\"#LLMGA\" data-toc-modified-id=\"LLMGA-4\"><span class=\"toc-item-num\">4&nbsp;&nbsp;</span>LLMGA</a></span><ul class=\"toc-item\"><li><ul class=\"toc-item\"><li><span><a href=\"#Config\" data-toc-modified-id=\"Config-4.0.1\"><span class=\"toc-item-num\">4.0.1&nbsp;&nbsp;</span>Config</a></span></li><li><span><a href=\"#Run\" data-toc-modified-id=\"Run-4.0.2\"><span class=\"toc-item-num\">4.0.2&nbsp;&nbsp;</span>Run</a></span></li></ul></li><li><span><a href=\"#Summary\" data-toc-modified-id=\"Summary-4.1\"><span class=\"toc-item-num\">4.1&nbsp;&nbsp;</span>Summary</a></span></li><li><span><a href=\"#Filtering\" data-toc-modified-id=\"Filtering-4.2\"><span class=\"toc-item-num\">4.2&nbsp;&nbsp;</span>Filtering</a></span></li></ul></li><li><span><a href=\"#resmico-bam2feat\" data-toc-modified-id=\"resmico-bam2feat-5\"><span class=\"toc-item-num\">5&nbsp;&nbsp;</span>resmico bam2feat</a></span><ul class=\"toc-item\"><li><ul class=\"toc-item\"><li><span><a href=\"#Writing-samples-table\" data-toc-modified-id=\"Writing-samples-table-5.0.1\"><span class=\"toc-item-num\">5.0.1&nbsp;&nbsp;</span>Writing samples table</a></span></li><li><span><a href=\"#Config\" data-toc-modified-id=\"Config-5.0.2\"><span class=\"toc-item-num\">5.0.2&nbsp;&nbsp;</span>Config</a></span></li><li><span><a href=\"#Run\" data-toc-modified-id=\"Run-5.0.3\"><span class=\"toc-item-num\">5.0.3&nbsp;&nbsp;</span>Run</a></span></li></ul></li></ul></li><li><span><a href=\"#--WAITING--\" data-toc-modified-id=\"--WAITING---6\"><span class=\"toc-item-num\">6&nbsp;&nbsp;</span>--WAITING--</a></span><ul class=\"toc-item\"><li><span><a href=\"#Summary\" data-toc-modified-id=\"Summary-6.1\"><span class=\"toc-item-num\">6.1&nbsp;&nbsp;</span>Summary</a></span></li></ul></li><li><span><a href=\"#sessionInfo\" data-toc-modified-id=\"sessionInfo-7\"><span class=\"toc-item-num\">7&nbsp;&nbsp;</span>sessionInfo</a></span></li></ul></div>"
   ]
  },
  {
   "cell_type": "markdown",
   "metadata": {},
   "source": [
    "# Goal\n",
    "\n",
    "* Assembly of metagenomes\n",
    "* Create feature tables"
   ]
  },
  {
   "cell_type": "markdown",
   "metadata": {},
   "source": [
    "# Var"
   ]
  },
  {
   "cell_type": "code",
   "execution_count": 31,
   "metadata": {
    "ExecuteTime": {
     "end_time": "2022-09-19T15:22:59.961508Z",
     "start_time": "2022-09-19T15:22:59.852Z"
    }
   },
   "outputs": [],
   "source": [
    "samps_file = '/ebio/abt3_projects/databases_no-backup/DeepMAsED/version2/real_data_eval/tmdb/LLMGQC/final/samples_final.tsv'\n",
    "work_dir = '/ebio/abt3_projects/databases_no-backup/DeepMAsED/version2/real_data_eval/tmdb/LLMGA/'"
   ]
  },
  {
   "cell_type": "markdown",
   "metadata": {},
   "source": [
    "# Init"
   ]
  },
  {
   "cell_type": "code",
   "execution_count": 32,
   "metadata": {
    "ExecuteTime": {
     "end_time": "2022-09-19T15:23:00.208438Z",
     "start_time": "2022-09-19T15:23:00.081Z"
    }
   },
   "outputs": [],
   "source": [
    "library(dplyr)\n",
    "library(tidyr)\n",
    "library(ggplot2)\n",
    "library(data.table)\n",
    "library(tidytable)\n",
    "library(LeyLabRMisc)\n",
    "Init()"
   ]
  },
  {
   "cell_type": "markdown",
   "metadata": {},
   "source": [
    "# LLMGA"
   ]
  },
  {
   "cell_type": "markdown",
   "metadata": {},
   "source": [
    "### Config"
   ]
  },
  {
   "cell_type": "code",
   "execution_count": 4,
   "metadata": {
    "ExecuteTime": {
     "end_time": "2022-09-17T17:17:36.448310Z",
     "start_time": "2022-09-17T17:17:36.300Z"
    }
   },
   "outputs": [
    {
     "name": "stdout",
     "output_type": "stream",
     "text": [
      "#-- I/O --#\n",
      "# table with sample --> read_file information\n",
      "samples_file: /ebio/abt3_projects/databases_no-backup/DeepMAsED/version2/real_data_eval/tmdb/LLMGQC/final/samples_final.tsv\n",
      "\n",
      "# output location\n",
      "output_dir: /ebio/abt3_projects/databases_no-backup/DeepMAsED/version2/real_data_eval/tmdb/LLMGA/\n",
      "\n",
      "# temporary file directory (your username will be added automatically)\n",
      "tmp_dir: /ebio/abt3_scratch/\n",
      "\n",
      "#-- reference genomes for metacompass --#\n",
      "metacompass_ref: /ebio/abt3_projects/Anxiety_Twins_Metagenomes/data/metagenome/TUKMZ-BGI250/llmga-find-refs/references/drep/dereplicated_genomes.fna\n",
      "\n",
      "#-- master control --#\n",
      "# which major parts of the pipline to run \n",
      "run_assembly: True\n",
      "run_binning: False\n",
      "run_other_assembly: False\n",
      "\n",
      "#-- software parameters --#\n",
      "# Notes:\n",
      "## see \"Notes on the `config.yaml` file\" in the README\n",
      "params:\n",
      "  # misc\n",
      "  ionice: -c 3\n",
      "  use_gpu: True\n",
      "  # raw reads\n",
      "  reads:\n",
      "    subsample: 80000000\n",
      "    fastqc: \"\"  \n",
      "  # metacompass (per-sample ref-based assembly); skipped if using graphbin2\n",
      "  metacompass:\n",
      "    buildcontig: Skip #--pickref breadth --mincov 3 -l 1000 -n T -b F -u F\n",
      "    pilon: \"\"\n",
      "  # denovo per-sample assembly (unmapped if metacompass used, else all reads)\n",
      "  denovo_assembly:\n",
      "    metaspades: -k auto --only-assembler\n",
      "    megahit: Skip #--min-count 3 --min-contig-len 500 --presets meta-sensitive\n",
      "  # combined, final contigs from assemblies\n",
      "  final_contigs:\n",
      "    derep_contigs: minidentity=100 minscaf=1000 minoverlappercent=95\n",
      "    contig_rename: \"\"\n",
      "    min_contig_len: 1000            # min contig length retained\n",
      "    metaquast: --max-ref-number 0   # job run on rick to use internet if `--max-ref-number` > 0\n",
      "  # contig filtering\n",
      "  contig_filtering:\n",
      "    resmico:\n",
      "      bowtie2:\n",
      "        build: Skip\n",
      "        map: \"\"\n",
      "      bam2feat: --max-coverage 20\n",
      "      evaluate: --batch-size 100 --gpu-eval-mem-gb 1 --max-len 20000\n",
      "                --min-contig-len 1000 --min-avg-coverage 1 --seed 12\n",
      "      filter: --score-cutoff 0.8 --min-length 0\n",
      "    metaquast: --max-ref-number 0\n",
      "  # contig binning\n",
      "  binning:\n",
      "    subsample: 5000000       # how many reads per sample to use for dif-cov binning?\n",
      "    # mapping\n",
      "    map:\n",
      "      num_map_samples: 40    # how many samples to use for dif-cov. binning ('all' = all samples)\n",
      "      minimap2:\n",
      "        index: -k 15 -w 10 -I 12G\n",
      "        map: -N 5 -F 800\n",
      "      samtools_view: -q 0 -F 3584                 # -q = MAPQ cutoff\n",
      "      bam_to_depth: --percentIdentity 97\n",
      "      keep_bam: False                       # keep all BAM files?\n",
      "    # binning\n",
      "    binners:\n",
      "      maxbin2:\n",
      "        Low: -min_contig_length 1500 -markerset 40 -prob_threshold 0.6\n",
      "        Med: -min_contig_length 1500 -markerset 40 -prob_threshold 0.7\n",
      "        High: -min_contig_length 1500 -markerset 40 -prob_threshold 0.8\n",
      "      metabat2:\n",
      "        Low: --minContig 1500 --minCV 0.5 --minCVSum 0.5 --maxP 92\n",
      "             --maxEdges 150 --seed 8394\n",
      "        Med: --minContig 1500 --minCV 0.5 --minCVSum 0.5 --maxP 94\n",
      "             --maxEdges 325 --seed 8394\n",
      "        High: --minContig 1500 --minCV 0.5 --minCVSum 0.5 --maxP 97\n",
      "              --maxEdges 500 --seed 8394\n",
      "        LowNoCov: --minContig 1500 --minCV 0.5 --minCVSum 0.5 --maxP 92\n",
      "                  --maxEdges 150 --seed 8394 NOCOV\n",
      "        MedNoCov: --minContig 1500 --minCV 0.5 --minCVSum 0.5 --maxP 94\n",
      "                  --maxEdges 325 --seed 8394 NOCOV\n",
      "        HighNoCov: --minContig 1500 --minCV 0.5 --minCVSum 0.5 --maxP 97\n",
      "                   --maxEdges 500 --seed 8394 NOCOV\n",
      "      vamb:\n",
      "        Low: -c 10000 -m 1500 -l 24 -n 384 384\n",
      "        Med: -c 10000 -m 1500 -l 32 -n 512 512\n",
      "        High: -c 10000 -m 1500 -l 40 -n 768 768\n",
      "    # selecting final bins (MAGs)\n",
      "    select:\n",
      "      das_tool: --search_engine diamond\n",
      "      genome_table: \"\"\n",
      "  # denovo assembly of other genetic components\n",
      "  denovo_other_assembly:\n",
      "    min_contig_len: 1000\n",
      "    metaplasmidspades: -k auto --only-assembler\n",
      "    metabiosyntheticspades: -k auto --only-assembler\n",
      "  \n",
      "#-- snakemake pipeline --#\n",
      "pipeline:\n",
      "  snakemake_folder: ./\n",
      "  script_folder: bin/scripts/\n",
      "  random_number_seed: 83421\n",
      "  name: LLMGA\n"
     ]
    }
   ],
   "source": [
    "F = file.path(work_dir, 'config.yaml')\n",
    "cat_file(F)"
   ]
  },
  {
   "cell_type": "markdown",
   "metadata": {},
   "source": [
    "### Run"
   ]
  },
  {
   "cell_type": "markdown",
   "metadata": {},
   "source": [
    "```\n",
    "(snakemake) rick: /tmp/global2/nyoungblut/code/dev/ll_pipelines/llmga\n",
    "$ screen -L -S llmga-tmdb ./snakemake_sge.sh /ebio/abt3_projects/databases_no-backup/DeepMAsED/version2/real_data_eval/tmdb/LLMGA/config.yaml 30 -F\n",
    "```"
   ]
  },
  {
   "cell_type": "markdown",
   "metadata": {},
   "source": [
    "## Summary"
   ]
  },
  {
   "cell_type": "code",
   "execution_count": 33,
   "metadata": {
    "ExecuteTime": {
     "end_time": "2022-09-19T23:29:30.573678Z",
     "start_time": "2022-09-19T23:29:30.368Z"
    }
   },
   "outputs": [
    {
     "data": {
      "text/html": [
       "<table class=\"dataframe\">\n",
       "<caption>A matrix: 1 × 8 of type dbl</caption>\n",
       "<thead>\n",
       "\t<tr><th></th><th scope=col>Min.</th><th scope=col>1st Qu.</th><th scope=col>Median</th><th scope=col>Mean</th><th scope=col>3rd Qu.</th><th scope=col>Max.</th><th scope=col>sd</th><th scope=col>sd_err_of_mean</th></tr>\n",
       "</thead>\n",
       "<tbody>\n",
       "\t<tr><th scope=row>num_seqs</th><td>0</td><td>220</td><td>1311.5</td><td>2643.256</td><td>4805.25</td><td>11157</td><td>2871.873</td><td>1172.437</td></tr>\n",
       "</tbody>\n",
       "</table>\n"
      ],
      "text/latex": [
       "A matrix: 1 × 8 of type dbl\n",
       "\\begin{tabular}{r|llllllll}\n",
       "  & Min. & 1st Qu. & Median & Mean & 3rd Qu. & Max. & sd & sd\\_err\\_of\\_mean\\\\\n",
       "\\hline\n",
       "\tnum\\_seqs & 0 & 220 & 1311.5 & 2643.256 & 4805.25 & 11157 & 2871.873 & 1172.437\\\\\n",
       "\\end{tabular}\n"
      ],
      "text/markdown": [
       "\n",
       "A matrix: 1 × 8 of type dbl\n",
       "\n",
       "| <!--/--> | Min. | 1st Qu. | Median | Mean | 3rd Qu. | Max. | sd | sd_err_of_mean |\n",
       "|---|---|---|---|---|---|---|---|---|\n",
       "| num_seqs | 0 | 220 | 1311.5 | 2643.256 | 4805.25 | 11157 | 2871.873 | 1172.437 |\n",
       "\n"
      ],
      "text/plain": [
       "         Min. 1st Qu. Median Mean     3rd Qu. Max.  sd       sd_err_of_mean\n",
       "num_seqs 0    220     1311.5 2643.256 4805.25 11157 2871.873 1172.437      "
      ]
     },
     "metadata": {},
     "output_type": "display_data"
    },
    {
     "data": {
      "text/html": [
       "<table class=\"dataframe\">\n",
       "<caption>A matrix: 1 × 8 of type dbl</caption>\n",
       "<thead>\n",
       "\t<tr><th></th><th scope=col>Min.</th><th scope=col>1st Qu.</th><th scope=col>Median</th><th scope=col>Mean</th><th scope=col>3rd Qu.</th><th scope=col>Max.</th><th scope=col>sd</th><th scope=col>sd_err_of_mean</th></tr>\n",
       "</thead>\n",
       "<tbody>\n",
       "\t<tr><th scope=row>sum_len</th><td>0</td><td>270953.8</td><td>2961469</td><td>5473931</td><td>8268664</td><td>27920400</td><td>6563511</td><td>2679542</td></tr>\n",
       "</tbody>\n",
       "</table>\n"
      ],
      "text/latex": [
       "A matrix: 1 × 8 of type dbl\n",
       "\\begin{tabular}{r|llllllll}\n",
       "  & Min. & 1st Qu. & Median & Mean & 3rd Qu. & Max. & sd & sd\\_err\\_of\\_mean\\\\\n",
       "\\hline\n",
       "\tsum\\_len & 0 & 270953.8 & 2961469 & 5473931 & 8268664 & 27920400 & 6563511 & 2679542\\\\\n",
       "\\end{tabular}\n"
      ],
      "text/markdown": [
       "\n",
       "A matrix: 1 × 8 of type dbl\n",
       "\n",
       "| <!--/--> | Min. | 1st Qu. | Median | Mean | 3rd Qu. | Max. | sd | sd_err_of_mean |\n",
       "|---|---|---|---|---|---|---|---|---|\n",
       "| sum_len | 0 | 270953.8 | 2961469 | 5473931 | 8268664 | 27920400 | 6563511 | 2679542 |\n",
       "\n"
      ],
      "text/plain": [
       "        Min. 1st Qu.  Median  Mean    3rd Qu. Max.     sd      sd_err_of_mean\n",
       "sum_len 0    270953.8 2961469 5473931 8268664 27920400 6563511 2679542       "
      ]
     },
     "metadata": {},
     "output_type": "display_data"
    },
    {
     "data": {
      "text/html": [
       "<table class=\"dataframe\">\n",
       "<caption>A matrix: 1 × 8 of type dbl</caption>\n",
       "<thead>\n",
       "\t<tr><th></th><th scope=col>Min.</th><th scope=col>1st Qu.</th><th scope=col>Median</th><th scope=col>Mean</th><th scope=col>3rd Qu.</th><th scope=col>Max.</th><th scope=col>sd</th><th scope=col>sd_err_of_mean</th></tr>\n",
       "</thead>\n",
       "<tbody>\n",
       "\t<tr><th scope=row>avg_len</th><td>0</td><td>1298.225</td><td>1604.2</td><td>1775.396</td><td>1965.5</td><td>3622.5</td><td>651.734</td><td>266.069</td></tr>\n",
       "</tbody>\n",
       "</table>\n"
      ],
      "text/latex": [
       "A matrix: 1 × 8 of type dbl\n",
       "\\begin{tabular}{r|llllllll}\n",
       "  & Min. & 1st Qu. & Median & Mean & 3rd Qu. & Max. & sd & sd\\_err\\_of\\_mean\\\\\n",
       "\\hline\n",
       "\tavg\\_len & 0 & 1298.225 & 1604.2 & 1775.396 & 1965.5 & 3622.5 & 651.734 & 266.069\\\\\n",
       "\\end{tabular}\n"
      ],
      "text/markdown": [
       "\n",
       "A matrix: 1 × 8 of type dbl\n",
       "\n",
       "| <!--/--> | Min. | 1st Qu. | Median | Mean | 3rd Qu. | Max. | sd | sd_err_of_mean |\n",
       "|---|---|---|---|---|---|---|---|---|\n",
       "| avg_len | 0 | 1298.225 | 1604.2 | 1775.396 | 1965.5 | 3622.5 | 651.734 | 266.069 |\n",
       "\n"
      ],
      "text/plain": [
       "        Min. 1st Qu.  Median Mean     3rd Qu. Max.   sd      sd_err_of_mean\n",
       "avg_len 0    1298.225 1604.2 1775.396 1965.5  3622.5 651.734 266.069       "
      ]
     },
     "metadata": {},
     "output_type": "display_data"
    }
   ],
   "source": [
    "F = file.path(work_dir, 'final_contigs', 'contig_stats.tsv')\n",
    "contig_stats = Fread(F)\n",
    "summary_x(contig_stats$num_seqs)\n",
    "summary_x(contig_stats$sum_len)\n",
    "summary_x(contig_stats$avg_len)"
   ]
  },
  {
   "cell_type": "markdown",
   "metadata": {},
   "source": [
    "## Filtering"
   ]
  },
  {
   "cell_type": "code",
   "execution_count": 45,
   "metadata": {
    "ExecuteTime": {
     "end_time": "2022-09-19T23:31:51.575608Z",
     "start_time": "2022-09-19T23:31:51.418Z"
    }
   },
   "outputs": [
    {
     "data": {
      "text/html": [
       "<table class=\"dataframe\">\n",
       "<caption>A data.table: 78 × 2</caption>\n",
       "<thead>\n",
       "\t<tr><th scope=col>Sample</th><th scope=col>Fasta</th></tr>\n",
       "\t<tr><th scope=col>&lt;chr&gt;</th><th scope=col>&lt;chr&gt;</th></tr>\n",
       "</thead>\n",
       "<tbody>\n",
       "\t<tr><td>SRS497392</td><td>/ebio/abt3_projects/databases_no-backup/DeepMAsED/version2/real_data_eval/tmdb/LLMGA/final_contigs/SRS497392/contigs.fna.gz</td></tr>\n",
       "\t<tr><td>SRS497473</td><td>/ebio/abt3_projects/databases_no-backup/DeepMAsED/version2/real_data_eval/tmdb/LLMGA/final_contigs/SRS497473/contigs.fna.gz</td></tr>\n",
       "\t<tr><td>⋮</td><td>⋮</td></tr>\n",
       "\t<tr><td>SRS4302118</td><td>/ebio/abt3_projects/databases_no-backup/DeepMAsED/version2/real_data_eval/tmdb/LLMGA/final_contigs/SRS4302118/contigs.fna.gz</td></tr>\n",
       "\t<tr><td>SRS4302113</td><td>/ebio/abt3_projects/databases_no-backup/DeepMAsED/version2/real_data_eval/tmdb/LLMGA/final_contigs/SRS4302113/contigs.fna.gz</td></tr>\n",
       "</tbody>\n",
       "</table>\n"
      ],
      "text/latex": [
       "A data.table: 78 × 2\n",
       "\\begin{tabular}{ll}\n",
       " Sample & Fasta\\\\\n",
       " <chr> & <chr>\\\\\n",
       "\\hline\n",
       "\t SRS497392 & /ebio/abt3\\_projects/databases\\_no-backup/DeepMAsED/version2/real\\_data\\_eval/tmdb/LLMGA/final\\_contigs/SRS497392/contigs.fna.gz\\\\\n",
       "\t SRS497473 & /ebio/abt3\\_projects/databases\\_no-backup/DeepMAsED/version2/real\\_data\\_eval/tmdb/LLMGA/final\\_contigs/SRS497473/contigs.fna.gz\\\\\n",
       "\t ⋮ & ⋮\\\\\n",
       "\t SRS4302118 & /ebio/abt3\\_projects/databases\\_no-backup/DeepMAsED/version2/real\\_data\\_eval/tmdb/LLMGA/final\\_contigs/SRS4302118/contigs.fna.gz\\\\\n",
       "\t SRS4302113 & /ebio/abt3\\_projects/databases\\_no-backup/DeepMAsED/version2/real\\_data\\_eval/tmdb/LLMGA/final\\_contigs/SRS4302113/contigs.fna.gz\\\\\n",
       "\\end{tabular}\n"
      ],
      "text/markdown": [
       "\n",
       "A data.table: 78 × 2\n",
       "\n",
       "| Sample &lt;chr&gt; | Fasta &lt;chr&gt; |\n",
       "|---|---|\n",
       "| SRS497392 | /ebio/abt3_projects/databases_no-backup/DeepMAsED/version2/real_data_eval/tmdb/LLMGA/final_contigs/SRS497392/contigs.fna.gz |\n",
       "| SRS497473 | /ebio/abt3_projects/databases_no-backup/DeepMAsED/version2/real_data_eval/tmdb/LLMGA/final_contigs/SRS497473/contigs.fna.gz |\n",
       "| ⋮ | ⋮ |\n",
       "| SRS4302118 | /ebio/abt3_projects/databases_no-backup/DeepMAsED/version2/real_data_eval/tmdb/LLMGA/final_contigs/SRS4302118/contigs.fna.gz |\n",
       "| SRS4302113 | /ebio/abt3_projects/databases_no-backup/DeepMAsED/version2/real_data_eval/tmdb/LLMGA/final_contigs/SRS4302113/contigs.fna.gz |\n",
       "\n"
      ],
      "text/plain": [
       "   Sample    \n",
       "1  SRS497392 \n",
       "2  SRS497473 \n",
       "⋮  ⋮         \n",
       "77 SRS4302118\n",
       "78 SRS4302113\n",
       "   Fasta                                                                                                                       \n",
       "1  /ebio/abt3_projects/databases_no-backup/DeepMAsED/version2/real_data_eval/tmdb/LLMGA/final_contigs/SRS497392/contigs.fna.gz \n",
       "2  /ebio/abt3_projects/databases_no-backup/DeepMAsED/version2/real_data_eval/tmdb/LLMGA/final_contigs/SRS497473/contigs.fna.gz \n",
       "⋮  ⋮                                                                                                                           \n",
       "77 /ebio/abt3_projects/databases_no-backup/DeepMAsED/version2/real_data_eval/tmdb/LLMGA/final_contigs/SRS4302118/contigs.fna.gz\n",
       "78 /ebio/abt3_projects/databases_no-backup/DeepMAsED/version2/real_data_eval/tmdb/LLMGA/final_contigs/SRS4302113/contigs.fna.gz"
      ]
     },
     "metadata": {},
     "output_type": "display_data"
    }
   ],
   "source": [
    "F = file.path(work_dir, 'final_contigs', 'contig_data.tsv')\n",
    "contig_data = Fread(F)\n",
    "contig_data"
   ]
  },
  {
   "cell_type": "code",
   "execution_count": 46,
   "metadata": {
    "ExecuteTime": {
     "end_time": "2022-09-19T23:31:51.737333Z",
     "start_time": "2022-09-19T23:31:51.575Z"
    }
   },
   "outputs": [
    {
     "name": "stdout",
     "output_type": "stream",
     "text": [
      "intersect(x,y): 78 \n",
      "setdiff(x,y): 0 \n",
      "setdiff(y,x): 0 \n",
      "union(x,y): 78 \n"
     ]
    },
    {
     "data": {
      "text/html": [
       "<table class=\"dataframe\">\n",
       "<caption>A tidytable: 72 × 17</caption>\n",
       "<thead>\n",
       "\t<tr><th scope=col>Sample</th><th scope=col>Fasta</th><th scope=col>file</th><th scope=col>format</th><th scope=col>type</th><th scope=col>num_seqs</th><th scope=col>sum_len</th><th scope=col>min_len</th><th scope=col>avg_len</th><th scope=col>max_len</th><th scope=col>Q1</th><th scope=col>Q2</th><th scope=col>Q3</th><th scope=col>sum_gap</th><th scope=col>N50</th><th scope=col>Q20...</th><th scope=col>Q30...</th></tr>\n",
       "\t<tr><th scope=col>&lt;chr&gt;</th><th scope=col>&lt;chr&gt;</th><th scope=col>&lt;chr&gt;</th><th scope=col>&lt;chr&gt;</th><th scope=col>&lt;chr&gt;</th><th scope=col>&lt;int&gt;</th><th scope=col>&lt;int&gt;</th><th scope=col>&lt;int&gt;</th><th scope=col>&lt;dbl&gt;</th><th scope=col>&lt;int&gt;</th><th scope=col>&lt;dbl&gt;</th><th scope=col>&lt;dbl&gt;</th><th scope=col>&lt;dbl&gt;</th><th scope=col>&lt;int&gt;</th><th scope=col>&lt;int&gt;</th><th scope=col>&lt;dbl&gt;</th><th scope=col>&lt;dbl&gt;</th></tr>\n",
       "</thead>\n",
       "<tbody>\n",
       "\t<tr><td>SRS497392</td><td>/ebio/abt3_projects/databases_no-backup/DeepMAsED/version2/real_data_eval/tmdb/LLMGA/final_contigs/SRS497392/contigs.fna.gz</td><td>/ebio/abt3_scratch/nyoungblut/LLMGA_122597181487/all_contigs/SRS497392/contigs_final.fasta</td><td>FASTA</td><td>DNA</td><td>612</td><td>775909</td><td>1002</td><td>1267.8</td><td>3038</td><td>1069</td><td>1188.5</td><td>1375.5</td><td>0</td><td>1230</td><td>0</td><td>0</td></tr>\n",
       "\t<tr><td>SRS497705</td><td>/ebio/abt3_projects/databases_no-backup/DeepMAsED/version2/real_data_eval/tmdb/LLMGA/final_contigs/SRS497705/contigs.fna.gz</td><td>/ebio/abt3_scratch/nyoungblut/LLMGA_122597181487/all_contigs/SRS497705/contigs_final.fasta</td><td>FASTA</td><td>DNA</td><td> 34</td><td> 40040</td><td>1012</td><td>1177.6</td><td>1839</td><td>1034</td><td>1111.5</td><td>1217.0</td><td>0</td><td>1159</td><td>0</td><td>0</td></tr>\n",
       "\t<tr><td>⋮</td><td>⋮</td><td>⋮</td><td>⋮</td><td>⋮</td><td>⋮</td><td>⋮</td><td>⋮</td><td>⋮</td><td>⋮</td><td>⋮</td><td>⋮</td><td>⋮</td><td>⋮</td><td>⋮</td><td>⋮</td><td>⋮</td></tr>\n",
       "\t<tr><td>SRS4302118</td><td>/ebio/abt3_projects/databases_no-backup/DeepMAsED/version2/real_data_eval/tmdb/LLMGA/final_contigs/SRS4302118/contigs.fna.gz</td><td>/ebio/abt3_scratch/nyoungblut/LLMGA_122597181487/all_contigs/SRS4302118/contigs_final.fasta</td><td>FASTA</td><td>DNA</td><td>1509</td><td>3664037</td><td>1000</td><td>2428.1</td><td>24611</td><td>1259</td><td>1710.0</td><td>2770</td><td>0</td><td>2866</td><td>0</td><td>0</td></tr>\n",
       "\t<tr><td>SRS4302113</td><td>/ebio/abt3_projects/databases_no-backup/DeepMAsED/version2/real_data_eval/tmdb/LLMGA/final_contigs/SRS4302113/contigs.fna.gz</td><td>/ebio/abt3_scratch/nyoungblut/LLMGA_122597181487/all_contigs/SRS4302113/contigs_final.fasta</td><td>FASTA</td><td>DNA</td><td> 938</td><td>3255571</td><td>1000</td><td>3470.8</td><td>45431</td><td>1163</td><td>1646.5</td><td>3284</td><td>0</td><td>6294</td><td>0</td><td>0</td></tr>\n",
       "</tbody>\n",
       "</table>\n"
      ],
      "text/latex": [
       "A tidytable: 72 × 17\n",
       "\\begin{tabular}{lllllllllllllllll}\n",
       " Sample & Fasta & file & format & type & num\\_seqs & sum\\_len & min\\_len & avg\\_len & max\\_len & Q1 & Q2 & Q3 & sum\\_gap & N50 & Q20... & Q30...\\\\\n",
       " <chr> & <chr> & <chr> & <chr> & <chr> & <int> & <int> & <int> & <dbl> & <int> & <dbl> & <dbl> & <dbl> & <int> & <int> & <dbl> & <dbl>\\\\\n",
       "\\hline\n",
       "\t SRS497392 & /ebio/abt3\\_projects/databases\\_no-backup/DeepMAsED/version2/real\\_data\\_eval/tmdb/LLMGA/final\\_contigs/SRS497392/contigs.fna.gz & /ebio/abt3\\_scratch/nyoungblut/LLMGA\\_122597181487/all\\_contigs/SRS497392/contigs\\_final.fasta & FASTA & DNA & 612 & 775909 & 1002 & 1267.8 & 3038 & 1069 & 1188.5 & 1375.5 & 0 & 1230 & 0 & 0\\\\\n",
       "\t SRS497705 & /ebio/abt3\\_projects/databases\\_no-backup/DeepMAsED/version2/real\\_data\\_eval/tmdb/LLMGA/final\\_contigs/SRS497705/contigs.fna.gz & /ebio/abt3\\_scratch/nyoungblut/LLMGA\\_122597181487/all\\_contigs/SRS497705/contigs\\_final.fasta & FASTA & DNA &  34 &  40040 & 1012 & 1177.6 & 1839 & 1034 & 1111.5 & 1217.0 & 0 & 1159 & 0 & 0\\\\\n",
       "\t ⋮ & ⋮ & ⋮ & ⋮ & ⋮ & ⋮ & ⋮ & ⋮ & ⋮ & ⋮ & ⋮ & ⋮ & ⋮ & ⋮ & ⋮ & ⋮ & ⋮\\\\\n",
       "\t SRS4302118 & /ebio/abt3\\_projects/databases\\_no-backup/DeepMAsED/version2/real\\_data\\_eval/tmdb/LLMGA/final\\_contigs/SRS4302118/contigs.fna.gz & /ebio/abt3\\_scratch/nyoungblut/LLMGA\\_122597181487/all\\_contigs/SRS4302118/contigs\\_final.fasta & FASTA & DNA & 1509 & 3664037 & 1000 & 2428.1 & 24611 & 1259 & 1710.0 & 2770 & 0 & 2866 & 0 & 0\\\\\n",
       "\t SRS4302113 & /ebio/abt3\\_projects/databases\\_no-backup/DeepMAsED/version2/real\\_data\\_eval/tmdb/LLMGA/final\\_contigs/SRS4302113/contigs.fna.gz & /ebio/abt3\\_scratch/nyoungblut/LLMGA\\_122597181487/all\\_contigs/SRS4302113/contigs\\_final.fasta & FASTA & DNA &  938 & 3255571 & 1000 & 3470.8 & 45431 & 1163 & 1646.5 & 3284 & 0 & 6294 & 0 & 0\\\\\n",
       "\\end{tabular}\n"
      ],
      "text/markdown": [
       "\n",
       "A tidytable: 72 × 17\n",
       "\n",
       "| Sample &lt;chr&gt; | Fasta &lt;chr&gt; | file &lt;chr&gt; | format &lt;chr&gt; | type &lt;chr&gt; | num_seqs &lt;int&gt; | sum_len &lt;int&gt; | min_len &lt;int&gt; | avg_len &lt;dbl&gt; | max_len &lt;int&gt; | Q1 &lt;dbl&gt; | Q2 &lt;dbl&gt; | Q3 &lt;dbl&gt; | sum_gap &lt;int&gt; | N50 &lt;int&gt; | Q20... &lt;dbl&gt; | Q30... &lt;dbl&gt; |\n",
       "|---|---|---|---|---|---|---|---|---|---|---|---|---|---|---|---|---|\n",
       "| SRS497392 | /ebio/abt3_projects/databases_no-backup/DeepMAsED/version2/real_data_eval/tmdb/LLMGA/final_contigs/SRS497392/contigs.fna.gz | /ebio/abt3_scratch/nyoungblut/LLMGA_122597181487/all_contigs/SRS497392/contigs_final.fasta | FASTA | DNA | 612 | 775909 | 1002 | 1267.8 | 3038 | 1069 | 1188.5 | 1375.5 | 0 | 1230 | 0 | 0 |\n",
       "| SRS497705 | /ebio/abt3_projects/databases_no-backup/DeepMAsED/version2/real_data_eval/tmdb/LLMGA/final_contigs/SRS497705/contigs.fna.gz | /ebio/abt3_scratch/nyoungblut/LLMGA_122597181487/all_contigs/SRS497705/contigs_final.fasta | FASTA | DNA |  34 |  40040 | 1012 | 1177.6 | 1839 | 1034 | 1111.5 | 1217.0 | 0 | 1159 | 0 | 0 |\n",
       "| ⋮ | ⋮ | ⋮ | ⋮ | ⋮ | ⋮ | ⋮ | ⋮ | ⋮ | ⋮ | ⋮ | ⋮ | ⋮ | ⋮ | ⋮ | ⋮ | ⋮ |\n",
       "| SRS4302118 | /ebio/abt3_projects/databases_no-backup/DeepMAsED/version2/real_data_eval/tmdb/LLMGA/final_contigs/SRS4302118/contigs.fna.gz | /ebio/abt3_scratch/nyoungblut/LLMGA_122597181487/all_contigs/SRS4302118/contigs_final.fasta | FASTA | DNA | 1509 | 3664037 | 1000 | 2428.1 | 24611 | 1259 | 1710.0 | 2770 | 0 | 2866 | 0 | 0 |\n",
       "| SRS4302113 | /ebio/abt3_projects/databases_no-backup/DeepMAsED/version2/real_data_eval/tmdb/LLMGA/final_contigs/SRS4302113/contigs.fna.gz | /ebio/abt3_scratch/nyoungblut/LLMGA_122597181487/all_contigs/SRS4302113/contigs_final.fasta | FASTA | DNA |  938 | 3255571 | 1000 | 3470.8 | 45431 | 1163 | 1646.5 | 3284 | 0 | 6294 | 0 | 0 |\n",
       "\n"
      ],
      "text/plain": [
       "   Sample    \n",
       "1  SRS497392 \n",
       "2  SRS497705 \n",
       "⋮  ⋮         \n",
       "71 SRS4302118\n",
       "72 SRS4302113\n",
       "   Fasta                                                                                                                       \n",
       "1  /ebio/abt3_projects/databases_no-backup/DeepMAsED/version2/real_data_eval/tmdb/LLMGA/final_contigs/SRS497392/contigs.fna.gz \n",
       "2  /ebio/abt3_projects/databases_no-backup/DeepMAsED/version2/real_data_eval/tmdb/LLMGA/final_contigs/SRS497705/contigs.fna.gz \n",
       "⋮  ⋮                                                                                                                           \n",
       "71 /ebio/abt3_projects/databases_no-backup/DeepMAsED/version2/real_data_eval/tmdb/LLMGA/final_contigs/SRS4302118/contigs.fna.gz\n",
       "72 /ebio/abt3_projects/databases_no-backup/DeepMAsED/version2/real_data_eval/tmdb/LLMGA/final_contigs/SRS4302113/contigs.fna.gz\n",
       "   file                                                                                       \n",
       "1  /ebio/abt3_scratch/nyoungblut/LLMGA_122597181487/all_contigs/SRS497392/contigs_final.fasta \n",
       "2  /ebio/abt3_scratch/nyoungblut/LLMGA_122597181487/all_contigs/SRS497705/contigs_final.fasta \n",
       "⋮  ⋮                                                                                          \n",
       "71 /ebio/abt3_scratch/nyoungblut/LLMGA_122597181487/all_contigs/SRS4302118/contigs_final.fasta\n",
       "72 /ebio/abt3_scratch/nyoungblut/LLMGA_122597181487/all_contigs/SRS4302113/contigs_final.fasta\n",
       "   format type num_seqs sum_len min_len avg_len max_len Q1   Q2     Q3    \n",
       "1  FASTA  DNA  612      775909  1002    1267.8  3038    1069 1188.5 1375.5\n",
       "2  FASTA  DNA   34       40040  1012    1177.6  1839    1034 1111.5 1217.0\n",
       "⋮  ⋮      ⋮    ⋮        ⋮       ⋮       ⋮       ⋮       ⋮    ⋮      ⋮     \n",
       "71 FASTA  DNA  1509     3664037 1000    2428.1  24611   1259 1710.0 2770  \n",
       "72 FASTA  DNA   938     3255571 1000    3470.8  45431   1163 1646.5 3284  \n",
       "   sum_gap N50  Q20... Q30...\n",
       "1  0       1230 0      0     \n",
       "2  0       1159 0      0     \n",
       "⋮  ⋮       ⋮    ⋮      ⋮     \n",
       "71 0       2866 0      0     \n",
       "72 0       6294 0      0     "
      ]
     },
     "metadata": {},
     "output_type": "display_data"
    }
   ],
   "source": [
    "overlap(contig_data$Sample, contig_stats$Sample)\n",
    "contig_data = contig_data %>%\n",
    "    inner_join.(contig_stats, c('Sample')) %>%\n",
    "    filter.(num_seqs >= 10)\n",
    "contig_data"
   ]
  },
  {
   "cell_type": "code",
   "execution_count": 47,
   "metadata": {
    "ExecuteTime": {
     "end_time": "2022-09-19T23:31:53.077476Z",
     "start_time": "2022-09-19T23:31:52.923Z"
    }
   },
   "outputs": [
    {
     "data": {
      "text/html": [
       "<table class=\"dataframe\">\n",
       "<caption>A matrix: 1 × 8 of type dbl</caption>\n",
       "<thead>\n",
       "\t<tr><th></th><th scope=col>Min.</th><th scope=col>1st Qu.</th><th scope=col>Median</th><th scope=col>Mean</th><th scope=col>3rd Qu.</th><th scope=col>Max.</th><th scope=col>sd</th><th scope=col>sd_err_of_mean</th></tr>\n",
       "</thead>\n",
       "<tbody>\n",
       "\t<tr><th scope=row>num_seqs</th><td>15</td><td>417</td><td>1617</td><td>2863.111</td><td>4916</td><td>11157</td><td>2882.259</td><td>1176.677</td></tr>\n",
       "</tbody>\n",
       "</table>\n"
      ],
      "text/latex": [
       "A matrix: 1 × 8 of type dbl\n",
       "\\begin{tabular}{r|llllllll}\n",
       "  & Min. & 1st Qu. & Median & Mean & 3rd Qu. & Max. & sd & sd\\_err\\_of\\_mean\\\\\n",
       "\\hline\n",
       "\tnum\\_seqs & 15 & 417 & 1617 & 2863.111 & 4916 & 11157 & 2882.259 & 1176.677\\\\\n",
       "\\end{tabular}\n"
      ],
      "text/markdown": [
       "\n",
       "A matrix: 1 × 8 of type dbl\n",
       "\n",
       "| <!--/--> | Min. | 1st Qu. | Median | Mean | 3rd Qu. | Max. | sd | sd_err_of_mean |\n",
       "|---|---|---|---|---|---|---|---|---|\n",
       "| num_seqs | 15 | 417 | 1617 | 2863.111 | 4916 | 11157 | 2882.259 | 1176.677 |\n",
       "\n"
      ],
      "text/plain": [
       "         Min. 1st Qu. Median Mean     3rd Qu. Max.  sd       sd_err_of_mean\n",
       "num_seqs 15   417     1617   2863.111 4916    11157 2882.259 1176.677      "
      ]
     },
     "metadata": {},
     "output_type": "display_data"
    },
    {
     "data": {
      "text/html": [
       "<table class=\"dataframe\">\n",
       "<caption>A matrix: 1 × 8 of type dbl</caption>\n",
       "<thead>\n",
       "\t<tr><th></th><th scope=col>Min.</th><th scope=col>1st Qu.</th><th scope=col>Median</th><th scope=col>Mean</th><th scope=col>3rd Qu.</th><th scope=col>Max.</th><th scope=col>sd</th><th scope=col>sd_err_of_mean</th></tr>\n",
       "</thead>\n",
       "<tbody>\n",
       "\t<tr><th scope=row>sum_len</th><td>28660</td><td>532639</td><td>3267666</td><td>5929588</td><td>9389062</td><td>27920400</td><td>6631975</td><td>2707493</td></tr>\n",
       "</tbody>\n",
       "</table>\n"
      ],
      "text/latex": [
       "A matrix: 1 × 8 of type dbl\n",
       "\\begin{tabular}{r|llllllll}\n",
       "  & Min. & 1st Qu. & Median & Mean & 3rd Qu. & Max. & sd & sd\\_err\\_of\\_mean\\\\\n",
       "\\hline\n",
       "\tsum\\_len & 28660 & 532639 & 3267666 & 5929588 & 9389062 & 27920400 & 6631975 & 2707493\\\\\n",
       "\\end{tabular}\n"
      ],
      "text/markdown": [
       "\n",
       "A matrix: 1 × 8 of type dbl\n",
       "\n",
       "| <!--/--> | Min. | 1st Qu. | Median | Mean | 3rd Qu. | Max. | sd | sd_err_of_mean |\n",
       "|---|---|---|---|---|---|---|---|---|\n",
       "| sum_len | 28660 | 532639 | 3267666 | 5929588 | 9389062 | 27920400 | 6631975 | 2707493 |\n",
       "\n"
      ],
      "text/plain": [
       "        Min.  1st Qu. Median  Mean    3rd Qu. Max.     sd      sd_err_of_mean\n",
       "sum_len 28660 532639  3267666 5929588 9389062 27920400 6631975 2707493       "
      ]
     },
     "metadata": {},
     "output_type": "display_data"
    },
    {
     "data": {
      "text/html": [
       "<table class=\"dataframe\">\n",
       "<caption>A matrix: 1 × 8 of type dbl</caption>\n",
       "<thead>\n",
       "\t<tr><th></th><th scope=col>Min.</th><th scope=col>1st Qu.</th><th scope=col>Median</th><th scope=col>Mean</th><th scope=col>3rd Qu.</th><th scope=col>Max.</th><th scope=col>sd</th><th scope=col>sd_err_of_mean</th></tr>\n",
       "</thead>\n",
       "<tbody>\n",
       "\t<tr><th scope=row>avg_len</th><td>1177.6</td><td>1370.475</td><td>1664</td><td>1841.461</td><td>2031.725</td><td>3622.5</td><td>621.461</td><td>253.71</td></tr>\n",
       "</tbody>\n",
       "</table>\n"
      ],
      "text/latex": [
       "A matrix: 1 × 8 of type dbl\n",
       "\\begin{tabular}{r|llllllll}\n",
       "  & Min. & 1st Qu. & Median & Mean & 3rd Qu. & Max. & sd & sd\\_err\\_of\\_mean\\\\\n",
       "\\hline\n",
       "\tavg\\_len & 1177.6 & 1370.475 & 1664 & 1841.461 & 2031.725 & 3622.5 & 621.461 & 253.71\\\\\n",
       "\\end{tabular}\n"
      ],
      "text/markdown": [
       "\n",
       "A matrix: 1 × 8 of type dbl\n",
       "\n",
       "| <!--/--> | Min. | 1st Qu. | Median | Mean | 3rd Qu. | Max. | sd | sd_err_of_mean |\n",
       "|---|---|---|---|---|---|---|---|---|\n",
       "| avg_len | 1177.6 | 1370.475 | 1664 | 1841.461 | 2031.725 | 3622.5 | 621.461 | 253.71 |\n",
       "\n"
      ],
      "text/plain": [
       "        Min.   1st Qu.  Median Mean     3rd Qu.  Max.   sd      sd_err_of_mean\n",
       "avg_len 1177.6 1370.475 1664   1841.461 2031.725 3622.5 621.461 253.71        "
      ]
     },
     "metadata": {},
     "output_type": "display_data"
    }
   ],
   "source": [
    "# stats\n",
    "summary_x(contig_data$num_seqs)\n",
    "summary_x(contig_data$sum_len)\n",
    "summary_x(contig_data$avg_len)"
   ]
  },
  {
   "cell_type": "code",
   "execution_count": 48,
   "metadata": {
    "ExecuteTime": {
     "end_time": "2022-09-19T23:32:34.570092Z",
     "start_time": "2022-09-19T23:32:34.426Z"
    }
   },
   "outputs": [
    {
     "name": "stdout",
     "output_type": "stream",
     "text": [
      "File written: /ebio/abt3_projects/databases_no-backup/DeepMAsED/version2/real_data_eval/tmdb/LLMGA//final_contigs/contig_data_filt.tsv \n"
     ]
    }
   ],
   "source": [
    "# writing table\n",
    "F = file.path(work_dir, 'final_contigs', 'contig_data_filt.tsv')\n",
    "write_table(contig_data, F)"
   ]
  },
  {
   "cell_type": "markdown",
   "metadata": {
    "ExecuteTime": {
     "end_time": "2022-09-17T21:30:09.674544Z",
     "start_time": "2022-09-17T21:30:09.506Z"
    }
   },
   "source": [
    "# resmico bam2feat"
   ]
  },
  {
   "cell_type": "code",
   "execution_count": 50,
   "metadata": {
    "ExecuteTime": {
     "end_time": "2022-09-19T23:32:43.286436Z",
     "start_time": "2022-09-19T23:32:43.124Z"
    }
   },
   "outputs": [
    {
     "data": {
      "text/html": [
       "<table class=\"dataframe\">\n",
       "<caption>A data.table: 72 × 17</caption>\n",
       "<thead>\n",
       "\t<tr><th scope=col>Sample</th><th scope=col>Fasta</th><th scope=col>file</th><th scope=col>format</th><th scope=col>type</th><th scope=col>num_seqs</th><th scope=col>sum_len</th><th scope=col>min_len</th><th scope=col>avg_len</th><th scope=col>max_len</th><th scope=col>Q1</th><th scope=col>Q2</th><th scope=col>Q3</th><th scope=col>sum_gap</th><th scope=col>N50</th><th scope=col>Q20...</th><th scope=col>Q30...</th></tr>\n",
       "\t<tr><th scope=col>&lt;chr&gt;</th><th scope=col>&lt;chr&gt;</th><th scope=col>&lt;chr&gt;</th><th scope=col>&lt;chr&gt;</th><th scope=col>&lt;chr&gt;</th><th scope=col>&lt;int&gt;</th><th scope=col>&lt;int&gt;</th><th scope=col>&lt;int&gt;</th><th scope=col>&lt;dbl&gt;</th><th scope=col>&lt;int&gt;</th><th scope=col>&lt;dbl&gt;</th><th scope=col>&lt;dbl&gt;</th><th scope=col>&lt;dbl&gt;</th><th scope=col>&lt;int&gt;</th><th scope=col>&lt;int&gt;</th><th scope=col>&lt;int&gt;</th><th scope=col>&lt;int&gt;</th></tr>\n",
       "</thead>\n",
       "<tbody>\n",
       "\t<tr><td>SRS497392</td><td>/ebio/abt3_projects/databases_no-backup/DeepMAsED/version2/real_data_eval/tmdb/LLMGA/final_contigs/SRS497392/contigs.fna.gz</td><td>/ebio/abt3_scratch/nyoungblut/LLMGA_122597181487/all_contigs/SRS497392/contigs_final.fasta</td><td>FASTA</td><td>DNA</td><td>612</td><td>775909</td><td>1002</td><td>1267.8</td><td>3038</td><td>1069</td><td>1188.5</td><td>1375.5</td><td>0</td><td>1230</td><td>0</td><td>0</td></tr>\n",
       "\t<tr><td>SRS497705</td><td>/ebio/abt3_projects/databases_no-backup/DeepMAsED/version2/real_data_eval/tmdb/LLMGA/final_contigs/SRS497705/contigs.fna.gz</td><td>/ebio/abt3_scratch/nyoungblut/LLMGA_122597181487/all_contigs/SRS497705/contigs_final.fasta</td><td>FASTA</td><td>DNA</td><td> 34</td><td> 40040</td><td>1012</td><td>1177.6</td><td>1839</td><td>1034</td><td>1111.5</td><td>1217.0</td><td>0</td><td>1159</td><td>0</td><td>0</td></tr>\n",
       "\t<tr><td>⋮</td><td>⋮</td><td>⋮</td><td>⋮</td><td>⋮</td><td>⋮</td><td>⋮</td><td>⋮</td><td>⋮</td><td>⋮</td><td>⋮</td><td>⋮</td><td>⋮</td><td>⋮</td><td>⋮</td><td>⋮</td><td>⋮</td></tr>\n",
       "\t<tr><td>SRS4302118</td><td>/ebio/abt3_projects/databases_no-backup/DeepMAsED/version2/real_data_eval/tmdb/LLMGA/final_contigs/SRS4302118/contigs.fna.gz</td><td>/ebio/abt3_scratch/nyoungblut/LLMGA_122597181487/all_contigs/SRS4302118/contigs_final.fasta</td><td>FASTA</td><td>DNA</td><td>1509</td><td>3664037</td><td>1000</td><td>2428.1</td><td>24611</td><td>1259</td><td>1710.0</td><td>2770</td><td>0</td><td>2866</td><td>0</td><td>0</td></tr>\n",
       "\t<tr><td>SRS4302113</td><td>/ebio/abt3_projects/databases_no-backup/DeepMAsED/version2/real_data_eval/tmdb/LLMGA/final_contigs/SRS4302113/contigs.fna.gz</td><td>/ebio/abt3_scratch/nyoungblut/LLMGA_122597181487/all_contigs/SRS4302113/contigs_final.fasta</td><td>FASTA</td><td>DNA</td><td> 938</td><td>3255571</td><td>1000</td><td>3470.8</td><td>45431</td><td>1163</td><td>1646.5</td><td>3284</td><td>0</td><td>6294</td><td>0</td><td>0</td></tr>\n",
       "</tbody>\n",
       "</table>\n"
      ],
      "text/latex": [
       "A data.table: 72 × 17\n",
       "\\begin{tabular}{lllllllllllllllll}\n",
       " Sample & Fasta & file & format & type & num\\_seqs & sum\\_len & min\\_len & avg\\_len & max\\_len & Q1 & Q2 & Q3 & sum\\_gap & N50 & Q20... & Q30...\\\\\n",
       " <chr> & <chr> & <chr> & <chr> & <chr> & <int> & <int> & <int> & <dbl> & <int> & <dbl> & <dbl> & <dbl> & <int> & <int> & <int> & <int>\\\\\n",
       "\\hline\n",
       "\t SRS497392 & /ebio/abt3\\_projects/databases\\_no-backup/DeepMAsED/version2/real\\_data\\_eval/tmdb/LLMGA/final\\_contigs/SRS497392/contigs.fna.gz & /ebio/abt3\\_scratch/nyoungblut/LLMGA\\_122597181487/all\\_contigs/SRS497392/contigs\\_final.fasta & FASTA & DNA & 612 & 775909 & 1002 & 1267.8 & 3038 & 1069 & 1188.5 & 1375.5 & 0 & 1230 & 0 & 0\\\\\n",
       "\t SRS497705 & /ebio/abt3\\_projects/databases\\_no-backup/DeepMAsED/version2/real\\_data\\_eval/tmdb/LLMGA/final\\_contigs/SRS497705/contigs.fna.gz & /ebio/abt3\\_scratch/nyoungblut/LLMGA\\_122597181487/all\\_contigs/SRS497705/contigs\\_final.fasta & FASTA & DNA &  34 &  40040 & 1012 & 1177.6 & 1839 & 1034 & 1111.5 & 1217.0 & 0 & 1159 & 0 & 0\\\\\n",
       "\t ⋮ & ⋮ & ⋮ & ⋮ & ⋮ & ⋮ & ⋮ & ⋮ & ⋮ & ⋮ & ⋮ & ⋮ & ⋮ & ⋮ & ⋮ & ⋮ & ⋮\\\\\n",
       "\t SRS4302118 & /ebio/abt3\\_projects/databases\\_no-backup/DeepMAsED/version2/real\\_data\\_eval/tmdb/LLMGA/final\\_contigs/SRS4302118/contigs.fna.gz & /ebio/abt3\\_scratch/nyoungblut/LLMGA\\_122597181487/all\\_contigs/SRS4302118/contigs\\_final.fasta & FASTA & DNA & 1509 & 3664037 & 1000 & 2428.1 & 24611 & 1259 & 1710.0 & 2770 & 0 & 2866 & 0 & 0\\\\\n",
       "\t SRS4302113 & /ebio/abt3\\_projects/databases\\_no-backup/DeepMAsED/version2/real\\_data\\_eval/tmdb/LLMGA/final\\_contigs/SRS4302113/contigs.fna.gz & /ebio/abt3\\_scratch/nyoungblut/LLMGA\\_122597181487/all\\_contigs/SRS4302113/contigs\\_final.fasta & FASTA & DNA &  938 & 3255571 & 1000 & 3470.8 & 45431 & 1163 & 1646.5 & 3284 & 0 & 6294 & 0 & 0\\\\\n",
       "\\end{tabular}\n"
      ],
      "text/markdown": [
       "\n",
       "A data.table: 72 × 17\n",
       "\n",
       "| Sample &lt;chr&gt; | Fasta &lt;chr&gt; | file &lt;chr&gt; | format &lt;chr&gt; | type &lt;chr&gt; | num_seqs &lt;int&gt; | sum_len &lt;int&gt; | min_len &lt;int&gt; | avg_len &lt;dbl&gt; | max_len &lt;int&gt; | Q1 &lt;dbl&gt; | Q2 &lt;dbl&gt; | Q3 &lt;dbl&gt; | sum_gap &lt;int&gt; | N50 &lt;int&gt; | Q20... &lt;int&gt; | Q30... &lt;int&gt; |\n",
       "|---|---|---|---|---|---|---|---|---|---|---|---|---|---|---|---|---|\n",
       "| SRS497392 | /ebio/abt3_projects/databases_no-backup/DeepMAsED/version2/real_data_eval/tmdb/LLMGA/final_contigs/SRS497392/contigs.fna.gz | /ebio/abt3_scratch/nyoungblut/LLMGA_122597181487/all_contigs/SRS497392/contigs_final.fasta | FASTA | DNA | 612 | 775909 | 1002 | 1267.8 | 3038 | 1069 | 1188.5 | 1375.5 | 0 | 1230 | 0 | 0 |\n",
       "| SRS497705 | /ebio/abt3_projects/databases_no-backup/DeepMAsED/version2/real_data_eval/tmdb/LLMGA/final_contigs/SRS497705/contigs.fna.gz | /ebio/abt3_scratch/nyoungblut/LLMGA_122597181487/all_contigs/SRS497705/contigs_final.fasta | FASTA | DNA |  34 |  40040 | 1012 | 1177.6 | 1839 | 1034 | 1111.5 | 1217.0 | 0 | 1159 | 0 | 0 |\n",
       "| ⋮ | ⋮ | ⋮ | ⋮ | ⋮ | ⋮ | ⋮ | ⋮ | ⋮ | ⋮ | ⋮ | ⋮ | ⋮ | ⋮ | ⋮ | ⋮ | ⋮ |\n",
       "| SRS4302118 | /ebio/abt3_projects/databases_no-backup/DeepMAsED/version2/real_data_eval/tmdb/LLMGA/final_contigs/SRS4302118/contigs.fna.gz | /ebio/abt3_scratch/nyoungblut/LLMGA_122597181487/all_contigs/SRS4302118/contigs_final.fasta | FASTA | DNA | 1509 | 3664037 | 1000 | 2428.1 | 24611 | 1259 | 1710.0 | 2770 | 0 | 2866 | 0 | 0 |\n",
       "| SRS4302113 | /ebio/abt3_projects/databases_no-backup/DeepMAsED/version2/real_data_eval/tmdb/LLMGA/final_contigs/SRS4302113/contigs.fna.gz | /ebio/abt3_scratch/nyoungblut/LLMGA_122597181487/all_contigs/SRS4302113/contigs_final.fasta | FASTA | DNA |  938 | 3255571 | 1000 | 3470.8 | 45431 | 1163 | 1646.5 | 3284 | 0 | 6294 | 0 | 0 |\n",
       "\n"
      ],
      "text/plain": [
       "   Sample    \n",
       "1  SRS497392 \n",
       "2  SRS497705 \n",
       "⋮  ⋮         \n",
       "71 SRS4302118\n",
       "72 SRS4302113\n",
       "   Fasta                                                                                                                       \n",
       "1  /ebio/abt3_projects/databases_no-backup/DeepMAsED/version2/real_data_eval/tmdb/LLMGA/final_contigs/SRS497392/contigs.fna.gz \n",
       "2  /ebio/abt3_projects/databases_no-backup/DeepMAsED/version2/real_data_eval/tmdb/LLMGA/final_contigs/SRS497705/contigs.fna.gz \n",
       "⋮  ⋮                                                                                                                           \n",
       "71 /ebio/abt3_projects/databases_no-backup/DeepMAsED/version2/real_data_eval/tmdb/LLMGA/final_contigs/SRS4302118/contigs.fna.gz\n",
       "72 /ebio/abt3_projects/databases_no-backup/DeepMAsED/version2/real_data_eval/tmdb/LLMGA/final_contigs/SRS4302113/contigs.fna.gz\n",
       "   file                                                                                       \n",
       "1  /ebio/abt3_scratch/nyoungblut/LLMGA_122597181487/all_contigs/SRS497392/contigs_final.fasta \n",
       "2  /ebio/abt3_scratch/nyoungblut/LLMGA_122597181487/all_contigs/SRS497705/contigs_final.fasta \n",
       "⋮  ⋮                                                                                          \n",
       "71 /ebio/abt3_scratch/nyoungblut/LLMGA_122597181487/all_contigs/SRS4302118/contigs_final.fasta\n",
       "72 /ebio/abt3_scratch/nyoungblut/LLMGA_122597181487/all_contigs/SRS4302113/contigs_final.fasta\n",
       "   format type num_seqs sum_len min_len avg_len max_len Q1   Q2     Q3    \n",
       "1  FASTA  DNA  612      775909  1002    1267.8  3038    1069 1188.5 1375.5\n",
       "2  FASTA  DNA   34       40040  1012    1177.6  1839    1034 1111.5 1217.0\n",
       "⋮  ⋮      ⋮    ⋮        ⋮       ⋮       ⋮       ⋮       ⋮    ⋮      ⋮     \n",
       "71 FASTA  DNA  1509     3664037 1000    2428.1  24611   1259 1710.0 2770  \n",
       "72 FASTA  DNA   938     3255571 1000    3470.8  45431   1163 1646.5 3284  \n",
       "   sum_gap N50  Q20... Q30...\n",
       "1  0       1230 0      0     \n",
       "2  0       1159 0      0     \n",
       "⋮  ⋮       ⋮    ⋮      ⋮     \n",
       "71 0       2866 0      0     \n",
       "72 0       6294 0      0     "
      ]
     },
     "metadata": {},
     "output_type": "display_data"
    }
   ],
   "source": [
    "F = file.path(work_dir, 'final_contigs', 'contig_data_filt.tsv')\n",
    "contigs = Fread(F)\n",
    "contigs"
   ]
  },
  {
   "cell_type": "code",
   "execution_count": 51,
   "metadata": {
    "ExecuteTime": {
     "end_time": "2022-09-19T23:32:43.493856Z",
     "start_time": "2022-09-19T23:32:43.292Z"
    }
   },
   "outputs": [
    {
     "data": {
      "text/html": [
       "<table class=\"dataframe\">\n",
       "<caption>A data.table: 78 × 44</caption>\n",
       "<thead>\n",
       "\t<tr><th scope=col>Sample</th><th scope=col>Read1</th><th scope=col>Read2</th><th scope=col>Notes</th><th scope=col>library_id</th><th scope=col>project_id</th><th scope=col>TMDB_material</th><th scope=col>TMDB_biome</th><th scope=col>project_name</th><th scope=col>sample_location</th><th scope=col>⋯</th><th scope=col>average_length</th><th scope=col>quality_above_30_SRA</th><th scope=col>mean_quality_SRA</th><th scope=col>drisee_score_raw_MGRAST</th><th scope=col>creation_date</th><th scope=col>source_database</th><th scope=col>n_samples</th><th scope=col>num_seqs</th><th scope=col>avg_len</th><th scope=col>Q30...</th></tr>\n",
       "\t<tr><th scope=col>&lt;chr&gt;</th><th scope=col>&lt;chr&gt;</th><th scope=col>&lt;chr&gt;</th><th scope=col>&lt;lgl&gt;</th><th scope=col>&lt;chr&gt;</th><th scope=col>&lt;chr&gt;</th><th scope=col>&lt;chr&gt;</th><th scope=col>&lt;chr&gt;</th><th scope=col>&lt;chr&gt;</th><th scope=col>&lt;chr&gt;</th><th scope=col>⋯</th><th scope=col>&lt;int&gt;</th><th scope=col>&lt;int&gt;</th><th scope=col>&lt;dbl&gt;</th><th scope=col>&lt;lgl&gt;</th><th scope=col>&lt;date&gt;</th><th scope=col>&lt;chr&gt;</th><th scope=col>&lt;int&gt;</th><th scope=col>&lt;int&gt;</th><th scope=col>&lt;dbl&gt;</th><th scope=col>&lt;dbl&gt;</th></tr>\n",
       "</thead>\n",
       "<tbody>\n",
       "\t<tr><td>SRS497392</td><td>/ebio/abt3_projects/databases_no-backup/DeepMAsED/version2/real_data_eval/tmdb/LLMGQC/final/SRS497392/R1_final.fq.gz</td><td>/ebio/abt3_projects/databases_no-backup/DeepMAsED/version2/real_data_eval/tmdb/LLMGQC/final/SRS497392/R2_final.fq.gz</td><td>NA</td><td>SRR1022653</td><td>SRX371704</td><td>soil</td><td>grassland</td><td>F2U Metagenome</td><td>China</td><td>⋯</td><td>202</td><td>83</td><td>32.74</td><td>NA</td><td>2013-12-09</td><td>SRA</td><td>12</td><td>4274808</td><td>99.9</td><td>89.26</td></tr>\n",
       "\t<tr><td>SRS497473</td><td>/ebio/abt3_projects/databases_no-backup/DeepMAsED/version2/real_data_eval/tmdb/LLMGQC/final/SRS497473/R1_final.fq.gz</td><td>/ebio/abt3_projects/databases_no-backup/DeepMAsED/version2/real_data_eval/tmdb/LLMGQC/final/SRS497473/R2_final.fq.gz</td><td>NA</td><td>SRR1022935</td><td>SRX372043</td><td>soil</td><td>grassland</td><td>F2U Metagenome</td><td>China</td><td>⋯</td><td>202</td><td>83</td><td>32.57</td><td>NA</td><td>2013-12-09</td><td>SRA</td><td>12</td><td>4245732</td><td>99.8</td><td>89.11</td></tr>\n",
       "\t<tr><td>⋮</td><td>⋮</td><td>⋮</td><td>⋮</td><td>⋮</td><td>⋮</td><td>⋮</td><td>⋮</td><td>⋮</td><td>⋮</td><td>⋱</td><td>⋮</td><td>⋮</td><td>⋮</td><td>⋮</td><td>⋮</td><td>⋮</td><td>⋮</td><td>⋮</td><td>⋮</td><td>⋮</td></tr>\n",
       "\t<tr><td>SRS4302118</td><td>/ebio/abt3_projects/databases_no-backup/DeepMAsED/version2/real_data_eval/tmdb/LLMGQC/final/SRS4302118/R1_final.fq.gz</td><td>/ebio/abt3_projects/databases_no-backup/DeepMAsED/version2/real_data_eval/tmdb/LLMGQC/final/SRS4302118/R2_final.fq.gz</td><td>NA</td><td>SRR8500479</td><td>SRX5304465</td><td>soil</td><td>forest</td><td>Soil metagenome Metagenome</td><td></td><td>⋯</td><td>300</td><td>93</td><td>39.17</td><td>NA</td><td>2019-01-28</td><td>SRA</td><td>11</td><td>4770059</td><td>149.5</td><td>95.67</td></tr>\n",
       "\t<tr><td>SRS4302113</td><td>/ebio/abt3_projects/databases_no-backup/DeepMAsED/version2/real_data_eval/tmdb/LLMGQC/final/SRS4302113/R1_final.fq.gz</td><td>/ebio/abt3_projects/databases_no-backup/DeepMAsED/version2/real_data_eval/tmdb/LLMGQC/final/SRS4302113/R2_final.fq.gz</td><td>NA</td><td>SRR8500484</td><td>SRX5304460</td><td>soil</td><td>forest</td><td>Soil metagenome Metagenome</td><td></td><td>⋯</td><td>300</td><td>93</td><td>39.28</td><td>NA</td><td>2019-01-28</td><td>SRA</td><td>11</td><td>4538119</td><td>149.2</td><td>95.90</td></tr>\n",
       "</tbody>\n",
       "</table>\n"
      ],
      "text/latex": [
       "A data.table: 78 × 44\n",
       "\\begin{tabular}{lllllllllllllllllllll}\n",
       " Sample & Read1 & Read2 & Notes & library\\_id & project\\_id & TMDB\\_material & TMDB\\_biome & project\\_name & sample\\_location & ⋯ & average\\_length & quality\\_above\\_30\\_SRA & mean\\_quality\\_SRA & drisee\\_score\\_raw\\_MGRAST & creation\\_date & source\\_database & n\\_samples & num\\_seqs & avg\\_len & Q30...\\\\\n",
       " <chr> & <chr> & <chr> & <lgl> & <chr> & <chr> & <chr> & <chr> & <chr> & <chr> & ⋯ & <int> & <int> & <dbl> & <lgl> & <date> & <chr> & <int> & <int> & <dbl> & <dbl>\\\\\n",
       "\\hline\n",
       "\t SRS497392 & /ebio/abt3\\_projects/databases\\_no-backup/DeepMAsED/version2/real\\_data\\_eval/tmdb/LLMGQC/final/SRS497392/R1\\_final.fq.gz & /ebio/abt3\\_projects/databases\\_no-backup/DeepMAsED/version2/real\\_data\\_eval/tmdb/LLMGQC/final/SRS497392/R2\\_final.fq.gz & NA & SRR1022653 & SRX371704 & soil & grassland & F2U Metagenome & China & ⋯ & 202 & 83 & 32.74 & NA & 2013-12-09 & SRA & 12 & 4274808 & 99.9 & 89.26\\\\\n",
       "\t SRS497473 & /ebio/abt3\\_projects/databases\\_no-backup/DeepMAsED/version2/real\\_data\\_eval/tmdb/LLMGQC/final/SRS497473/R1\\_final.fq.gz & /ebio/abt3\\_projects/databases\\_no-backup/DeepMAsED/version2/real\\_data\\_eval/tmdb/LLMGQC/final/SRS497473/R2\\_final.fq.gz & NA & SRR1022935 & SRX372043 & soil & grassland & F2U Metagenome & China & ⋯ & 202 & 83 & 32.57 & NA & 2013-12-09 & SRA & 12 & 4245732 & 99.8 & 89.11\\\\\n",
       "\t ⋮ & ⋮ & ⋮ & ⋮ & ⋮ & ⋮ & ⋮ & ⋮ & ⋮ & ⋮ & ⋱ & ⋮ & ⋮ & ⋮ & ⋮ & ⋮ & ⋮ & ⋮ & ⋮ & ⋮ & ⋮\\\\\n",
       "\t SRS4302118 & /ebio/abt3\\_projects/databases\\_no-backup/DeepMAsED/version2/real\\_data\\_eval/tmdb/LLMGQC/final/SRS4302118/R1\\_final.fq.gz & /ebio/abt3\\_projects/databases\\_no-backup/DeepMAsED/version2/real\\_data\\_eval/tmdb/LLMGQC/final/SRS4302118/R2\\_final.fq.gz & NA & SRR8500479 & SRX5304465 & soil & forest & Soil metagenome Metagenome &  & ⋯ & 300 & 93 & 39.17 & NA & 2019-01-28 & SRA & 11 & 4770059 & 149.5 & 95.67\\\\\n",
       "\t SRS4302113 & /ebio/abt3\\_projects/databases\\_no-backup/DeepMAsED/version2/real\\_data\\_eval/tmdb/LLMGQC/final/SRS4302113/R1\\_final.fq.gz & /ebio/abt3\\_projects/databases\\_no-backup/DeepMAsED/version2/real\\_data\\_eval/tmdb/LLMGQC/final/SRS4302113/R2\\_final.fq.gz & NA & SRR8500484 & SRX5304460 & soil & forest & Soil metagenome Metagenome &  & ⋯ & 300 & 93 & 39.28 & NA & 2019-01-28 & SRA & 11 & 4538119 & 149.2 & 95.90\\\\\n",
       "\\end{tabular}\n"
      ],
      "text/markdown": [
       "\n",
       "A data.table: 78 × 44\n",
       "\n",
       "| Sample &lt;chr&gt; | Read1 &lt;chr&gt; | Read2 &lt;chr&gt; | Notes &lt;lgl&gt; | library_id &lt;chr&gt; | project_id &lt;chr&gt; | TMDB_material &lt;chr&gt; | TMDB_biome &lt;chr&gt; | project_name &lt;chr&gt; | sample_location &lt;chr&gt; | ⋯ ⋯ | average_length &lt;int&gt; | quality_above_30_SRA &lt;int&gt; | mean_quality_SRA &lt;dbl&gt; | drisee_score_raw_MGRAST &lt;lgl&gt; | creation_date &lt;date&gt; | source_database &lt;chr&gt; | n_samples &lt;int&gt; | num_seqs &lt;int&gt; | avg_len &lt;dbl&gt; | Q30... &lt;dbl&gt; |\n",
       "|---|---|---|---|---|---|---|---|---|---|---|---|---|---|---|---|---|---|---|---|---|\n",
       "| SRS497392 | /ebio/abt3_projects/databases_no-backup/DeepMAsED/version2/real_data_eval/tmdb/LLMGQC/final/SRS497392/R1_final.fq.gz | /ebio/abt3_projects/databases_no-backup/DeepMAsED/version2/real_data_eval/tmdb/LLMGQC/final/SRS497392/R2_final.fq.gz | NA | SRR1022653 | SRX371704 | soil | grassland | F2U Metagenome | China | ⋯ | 202 | 83 | 32.74 | NA | 2013-12-09 | SRA | 12 | 4274808 | 99.9 | 89.26 |\n",
       "| SRS497473 | /ebio/abt3_projects/databases_no-backup/DeepMAsED/version2/real_data_eval/tmdb/LLMGQC/final/SRS497473/R1_final.fq.gz | /ebio/abt3_projects/databases_no-backup/DeepMAsED/version2/real_data_eval/tmdb/LLMGQC/final/SRS497473/R2_final.fq.gz | NA | SRR1022935 | SRX372043 | soil | grassland | F2U Metagenome | China | ⋯ | 202 | 83 | 32.57 | NA | 2013-12-09 | SRA | 12 | 4245732 | 99.8 | 89.11 |\n",
       "| ⋮ | ⋮ | ⋮ | ⋮ | ⋮ | ⋮ | ⋮ | ⋮ | ⋮ | ⋮ | ⋱ | ⋮ | ⋮ | ⋮ | ⋮ | ⋮ | ⋮ | ⋮ | ⋮ | ⋮ | ⋮ |\n",
       "| SRS4302118 | /ebio/abt3_projects/databases_no-backup/DeepMAsED/version2/real_data_eval/tmdb/LLMGQC/final/SRS4302118/R1_final.fq.gz | /ebio/abt3_projects/databases_no-backup/DeepMAsED/version2/real_data_eval/tmdb/LLMGQC/final/SRS4302118/R2_final.fq.gz | NA | SRR8500479 | SRX5304465 | soil | forest | Soil metagenome Metagenome | <!----> | ⋯ | 300 | 93 | 39.17 | NA | 2019-01-28 | SRA | 11 | 4770059 | 149.5 | 95.67 |\n",
       "| SRS4302113 | /ebio/abt3_projects/databases_no-backup/DeepMAsED/version2/real_data_eval/tmdb/LLMGQC/final/SRS4302113/R1_final.fq.gz | /ebio/abt3_projects/databases_no-backup/DeepMAsED/version2/real_data_eval/tmdb/LLMGQC/final/SRS4302113/R2_final.fq.gz | NA | SRR8500484 | SRX5304460 | soil | forest | Soil metagenome Metagenome | <!----> | ⋯ | 300 | 93 | 39.28 | NA | 2019-01-28 | SRA | 11 | 4538119 | 149.2 | 95.90 |\n",
       "\n"
      ],
      "text/plain": [
       "   Sample    \n",
       "1  SRS497392 \n",
       "2  SRS497473 \n",
       "⋮  ⋮         \n",
       "77 SRS4302118\n",
       "78 SRS4302113\n",
       "   Read1                                                                                                                \n",
       "1  /ebio/abt3_projects/databases_no-backup/DeepMAsED/version2/real_data_eval/tmdb/LLMGQC/final/SRS497392/R1_final.fq.gz \n",
       "2  /ebio/abt3_projects/databases_no-backup/DeepMAsED/version2/real_data_eval/tmdb/LLMGQC/final/SRS497473/R1_final.fq.gz \n",
       "⋮  ⋮                                                                                                                    \n",
       "77 /ebio/abt3_projects/databases_no-backup/DeepMAsED/version2/real_data_eval/tmdb/LLMGQC/final/SRS4302118/R1_final.fq.gz\n",
       "78 /ebio/abt3_projects/databases_no-backup/DeepMAsED/version2/real_data_eval/tmdb/LLMGQC/final/SRS4302113/R1_final.fq.gz\n",
       "   Read2                                                                                                                \n",
       "1  /ebio/abt3_projects/databases_no-backup/DeepMAsED/version2/real_data_eval/tmdb/LLMGQC/final/SRS497392/R2_final.fq.gz \n",
       "2  /ebio/abt3_projects/databases_no-backup/DeepMAsED/version2/real_data_eval/tmdb/LLMGQC/final/SRS497473/R2_final.fq.gz \n",
       "⋮  ⋮                                                                                                                    \n",
       "77 /ebio/abt3_projects/databases_no-backup/DeepMAsED/version2/real_data_eval/tmdb/LLMGQC/final/SRS4302118/R2_final.fq.gz\n",
       "78 /ebio/abt3_projects/databases_no-backup/DeepMAsED/version2/real_data_eval/tmdb/LLMGQC/final/SRS4302113/R2_final.fq.gz\n",
       "   Notes library_id project_id TMDB_material TMDB_biome\n",
       "1  NA    SRR1022653 SRX371704  soil          grassland \n",
       "2  NA    SRR1022935 SRX372043  soil          grassland \n",
       "⋮  ⋮     ⋮          ⋮          ⋮             ⋮         \n",
       "77 NA    SRR8500479 SRX5304465 soil          forest    \n",
       "78 NA    SRR8500484 SRX5304460 soil          forest    \n",
       "   project_name               sample_location ⋯ average_length\n",
       "1  F2U Metagenome             China           ⋯ 202           \n",
       "2  F2U Metagenome             China           ⋯ 202           \n",
       "⋮  ⋮                          ⋮               ⋱ ⋮             \n",
       "77 Soil metagenome Metagenome                 ⋯ 300           \n",
       "78 Soil metagenome Metagenome                 ⋯ 300           \n",
       "   quality_above_30_SRA mean_quality_SRA drisee_score_raw_MGRAST creation_date\n",
       "1  83                   32.74            NA                      2013-12-09   \n",
       "2  83                   32.57            NA                      2013-12-09   \n",
       "⋮  ⋮                    ⋮                ⋮                       ⋮            \n",
       "77 93                   39.17            NA                      2019-01-28   \n",
       "78 93                   39.28            NA                      2019-01-28   \n",
       "   source_database n_samples num_seqs avg_len Q30...\n",
       "1  SRA             12        4274808  99.9    89.26 \n",
       "2  SRA             12        4245732  99.8    89.11 \n",
       "⋮  ⋮               ⋮         ⋮        ⋮       ⋮     \n",
       "77 SRA             11        4770059  149.5   95.67 \n",
       "78 SRA             11        4538119  149.2   95.90 "
      ]
     },
     "metadata": {},
     "output_type": "display_data"
    }
   ],
   "source": [
    "# read files\n",
    "reads = Fread(samps_file)\n",
    "reads"
   ]
  },
  {
   "cell_type": "code",
   "execution_count": 52,
   "metadata": {
    "ExecuteTime": {
     "end_time": "2022-09-19T23:32:50.347017Z",
     "start_time": "2022-09-19T23:32:50.165Z"
    }
   },
   "outputs": [
    {
     "data": {
      "text/html": [
       "<table class=\"dataframe\">\n",
       "<caption>A tidytable: 72 × 61</caption>\n",
       "<thead>\n",
       "\t<tr><th scope=col>Sample</th><th scope=col>Fasta</th><th scope=col>file</th><th scope=col>format</th><th scope=col>type</th><th scope=col>num_seqs</th><th scope=col>sum_len</th><th scope=col>min_len</th><th scope=col>avg_len</th><th scope=col>max_len</th><th scope=col>⋯</th><th scope=col>quality_above_30_SRA</th><th scope=col>mean_quality_SRA</th><th scope=col>drisee_score_raw_MGRAST</th><th scope=col>creation_date</th><th scope=col>source_database</th><th scope=col>n_samples</th><th scope=col>i.num_seqs</th><th scope=col>i.avg_len</th><th scope=col>i.Q30...</th><th scope=col>Taxon</th></tr>\n",
       "\t<tr><th scope=col>&lt;chr&gt;</th><th scope=col>&lt;chr&gt;</th><th scope=col>&lt;chr&gt;</th><th scope=col>&lt;chr&gt;</th><th scope=col>&lt;chr&gt;</th><th scope=col>&lt;int&gt;</th><th scope=col>&lt;int&gt;</th><th scope=col>&lt;int&gt;</th><th scope=col>&lt;dbl&gt;</th><th scope=col>&lt;int&gt;</th><th scope=col>⋯</th><th scope=col>&lt;int&gt;</th><th scope=col>&lt;dbl&gt;</th><th scope=col>&lt;lgl&gt;</th><th scope=col>&lt;date&gt;</th><th scope=col>&lt;chr&gt;</th><th scope=col>&lt;int&gt;</th><th scope=col>&lt;int&gt;</th><th scope=col>&lt;dbl&gt;</th><th scope=col>&lt;dbl&gt;</th><th scope=col>&lt;chr&gt;</th></tr>\n",
       "</thead>\n",
       "<tbody>\n",
       "\t<tr><td>SRS497392</td><td>/ebio/abt3_projects/databases_no-backup/DeepMAsED/version2/real_data_eval/tmdb/LLMGA/final_contigs/SRS497392/contigs.fna.gz</td><td>/ebio/abt3_scratch/nyoungblut/LLMGA_122597181487/all_contigs/SRS497392/contigs_final.fasta</td><td>FASTA</td><td>DNA</td><td>612</td><td>775909</td><td>1002</td><td>1267.8</td><td>3038</td><td>⋯</td><td>83</td><td>32.74</td><td>NA</td><td>2013-12-09</td><td>SRA</td><td>12</td><td>4274808</td><td>99.9</td><td>89.26</td><td>SRS497392</td></tr>\n",
       "\t<tr><td>SRS497705</td><td>/ebio/abt3_projects/databases_no-backup/DeepMAsED/version2/real_data_eval/tmdb/LLMGA/final_contigs/SRS497705/contigs.fna.gz</td><td>/ebio/abt3_scratch/nyoungblut/LLMGA_122597181487/all_contigs/SRS497705/contigs_final.fasta</td><td>FASTA</td><td>DNA</td><td> 34</td><td> 40040</td><td>1012</td><td>1177.6</td><td>1839</td><td>⋯</td><td>82</td><td>32.50</td><td>NA</td><td>2013-12-09</td><td>SRA</td><td>12</td><td>4214703</td><td>99.7</td><td>88.88</td><td>SRS497705</td></tr>\n",
       "\t<tr><td>⋮</td><td>⋮</td><td>⋮</td><td>⋮</td><td>⋮</td><td>⋮</td><td>⋮</td><td>⋮</td><td>⋮</td><td>⋮</td><td>⋱</td><td>⋮</td><td>⋮</td><td>⋮</td><td>⋮</td><td>⋮</td><td>⋮</td><td>⋮</td><td>⋮</td><td>⋮</td><td>⋮</td></tr>\n",
       "\t<tr><td>SRS4302118</td><td>/ebio/abt3_projects/databases_no-backup/DeepMAsED/version2/real_data_eval/tmdb/LLMGA/final_contigs/SRS4302118/contigs.fna.gz</td><td>/ebio/abt3_scratch/nyoungblut/LLMGA_122597181487/all_contigs/SRS4302118/contigs_final.fasta</td><td>FASTA</td><td>DNA</td><td>1509</td><td>3664037</td><td>1000</td><td>2428.1</td><td>24611</td><td>⋯</td><td>93</td><td>39.17</td><td>NA</td><td>2019-01-28</td><td>SRA</td><td>11</td><td>4770059</td><td>149.5</td><td>95.67</td><td>SRS4302118</td></tr>\n",
       "\t<tr><td>SRS4302113</td><td>/ebio/abt3_projects/databases_no-backup/DeepMAsED/version2/real_data_eval/tmdb/LLMGA/final_contigs/SRS4302113/contigs.fna.gz</td><td>/ebio/abt3_scratch/nyoungblut/LLMGA_122597181487/all_contigs/SRS4302113/contigs_final.fasta</td><td>FASTA</td><td>DNA</td><td> 938</td><td>3255571</td><td>1000</td><td>3470.8</td><td>45431</td><td>⋯</td><td>93</td><td>39.28</td><td>NA</td><td>2019-01-28</td><td>SRA</td><td>11</td><td>4538119</td><td>149.2</td><td>95.90</td><td>SRS4302113</td></tr>\n",
       "</tbody>\n",
       "</table>\n"
      ],
      "text/latex": [
       "A tidytable: 72 × 61\n",
       "\\begin{tabular}{lllllllllllllllllllll}\n",
       " Sample & Fasta & file & format & type & num\\_seqs & sum\\_len & min\\_len & avg\\_len & max\\_len & ⋯ & quality\\_above\\_30\\_SRA & mean\\_quality\\_SRA & drisee\\_score\\_raw\\_MGRAST & creation\\_date & source\\_database & n\\_samples & i.num\\_seqs & i.avg\\_len & i.Q30... & Taxon\\\\\n",
       " <chr> & <chr> & <chr> & <chr> & <chr> & <int> & <int> & <int> & <dbl> & <int> & ⋯ & <int> & <dbl> & <lgl> & <date> & <chr> & <int> & <int> & <dbl> & <dbl> & <chr>\\\\\n",
       "\\hline\n",
       "\t SRS497392 & /ebio/abt3\\_projects/databases\\_no-backup/DeepMAsED/version2/real\\_data\\_eval/tmdb/LLMGA/final\\_contigs/SRS497392/contigs.fna.gz & /ebio/abt3\\_scratch/nyoungblut/LLMGA\\_122597181487/all\\_contigs/SRS497392/contigs\\_final.fasta & FASTA & DNA & 612 & 775909 & 1002 & 1267.8 & 3038 & ⋯ & 83 & 32.74 & NA & 2013-12-09 & SRA & 12 & 4274808 & 99.9 & 89.26 & SRS497392\\\\\n",
       "\t SRS497705 & /ebio/abt3\\_projects/databases\\_no-backup/DeepMAsED/version2/real\\_data\\_eval/tmdb/LLMGA/final\\_contigs/SRS497705/contigs.fna.gz & /ebio/abt3\\_scratch/nyoungblut/LLMGA\\_122597181487/all\\_contigs/SRS497705/contigs\\_final.fasta & FASTA & DNA &  34 &  40040 & 1012 & 1177.6 & 1839 & ⋯ & 82 & 32.50 & NA & 2013-12-09 & SRA & 12 & 4214703 & 99.7 & 88.88 & SRS497705\\\\\n",
       "\t ⋮ & ⋮ & ⋮ & ⋮ & ⋮ & ⋮ & ⋮ & ⋮ & ⋮ & ⋮ & ⋱ & ⋮ & ⋮ & ⋮ & ⋮ & ⋮ & ⋮ & ⋮ & ⋮ & ⋮ & ⋮\\\\\n",
       "\t SRS4302118 & /ebio/abt3\\_projects/databases\\_no-backup/DeepMAsED/version2/real\\_data\\_eval/tmdb/LLMGA/final\\_contigs/SRS4302118/contigs.fna.gz & /ebio/abt3\\_scratch/nyoungblut/LLMGA\\_122597181487/all\\_contigs/SRS4302118/contigs\\_final.fasta & FASTA & DNA & 1509 & 3664037 & 1000 & 2428.1 & 24611 & ⋯ & 93 & 39.17 & NA & 2019-01-28 & SRA & 11 & 4770059 & 149.5 & 95.67 & SRS4302118\\\\\n",
       "\t SRS4302113 & /ebio/abt3\\_projects/databases\\_no-backup/DeepMAsED/version2/real\\_data\\_eval/tmdb/LLMGA/final\\_contigs/SRS4302113/contigs.fna.gz & /ebio/abt3\\_scratch/nyoungblut/LLMGA\\_122597181487/all\\_contigs/SRS4302113/contigs\\_final.fasta & FASTA & DNA &  938 & 3255571 & 1000 & 3470.8 & 45431 & ⋯ & 93 & 39.28 & NA & 2019-01-28 & SRA & 11 & 4538119 & 149.2 & 95.90 & SRS4302113\\\\\n",
       "\\end{tabular}\n"
      ],
      "text/markdown": [
       "\n",
       "A tidytable: 72 × 61\n",
       "\n",
       "| Sample &lt;chr&gt; | Fasta &lt;chr&gt; | file &lt;chr&gt; | format &lt;chr&gt; | type &lt;chr&gt; | num_seqs &lt;int&gt; | sum_len &lt;int&gt; | min_len &lt;int&gt; | avg_len &lt;dbl&gt; | max_len &lt;int&gt; | ⋯ ⋯ | quality_above_30_SRA &lt;int&gt; | mean_quality_SRA &lt;dbl&gt; | drisee_score_raw_MGRAST &lt;lgl&gt; | creation_date &lt;date&gt; | source_database &lt;chr&gt; | n_samples &lt;int&gt; | i.num_seqs &lt;int&gt; | i.avg_len &lt;dbl&gt; | i.Q30... &lt;dbl&gt; | Taxon &lt;chr&gt; |\n",
       "|---|---|---|---|---|---|---|---|---|---|---|---|---|---|---|---|---|---|---|---|---|\n",
       "| SRS497392 | /ebio/abt3_projects/databases_no-backup/DeepMAsED/version2/real_data_eval/tmdb/LLMGA/final_contigs/SRS497392/contigs.fna.gz | /ebio/abt3_scratch/nyoungblut/LLMGA_122597181487/all_contigs/SRS497392/contigs_final.fasta | FASTA | DNA | 612 | 775909 | 1002 | 1267.8 | 3038 | ⋯ | 83 | 32.74 | NA | 2013-12-09 | SRA | 12 | 4274808 | 99.9 | 89.26 | SRS497392 |\n",
       "| SRS497705 | /ebio/abt3_projects/databases_no-backup/DeepMAsED/version2/real_data_eval/tmdb/LLMGA/final_contigs/SRS497705/contigs.fna.gz | /ebio/abt3_scratch/nyoungblut/LLMGA_122597181487/all_contigs/SRS497705/contigs_final.fasta | FASTA | DNA |  34 |  40040 | 1012 | 1177.6 | 1839 | ⋯ | 82 | 32.50 | NA | 2013-12-09 | SRA | 12 | 4214703 | 99.7 | 88.88 | SRS497705 |\n",
       "| ⋮ | ⋮ | ⋮ | ⋮ | ⋮ | ⋮ | ⋮ | ⋮ | ⋮ | ⋮ | ⋱ | ⋮ | ⋮ | ⋮ | ⋮ | ⋮ | ⋮ | ⋮ | ⋮ | ⋮ | ⋮ |\n",
       "| SRS4302118 | /ebio/abt3_projects/databases_no-backup/DeepMAsED/version2/real_data_eval/tmdb/LLMGA/final_contigs/SRS4302118/contigs.fna.gz | /ebio/abt3_scratch/nyoungblut/LLMGA_122597181487/all_contigs/SRS4302118/contigs_final.fasta | FASTA | DNA | 1509 | 3664037 | 1000 | 2428.1 | 24611 | ⋯ | 93 | 39.17 | NA | 2019-01-28 | SRA | 11 | 4770059 | 149.5 | 95.67 | SRS4302118 |\n",
       "| SRS4302113 | /ebio/abt3_projects/databases_no-backup/DeepMAsED/version2/real_data_eval/tmdb/LLMGA/final_contigs/SRS4302113/contigs.fna.gz | /ebio/abt3_scratch/nyoungblut/LLMGA_122597181487/all_contigs/SRS4302113/contigs_final.fasta | FASTA | DNA |  938 | 3255571 | 1000 | 3470.8 | 45431 | ⋯ | 93 | 39.28 | NA | 2019-01-28 | SRA | 11 | 4538119 | 149.2 | 95.90 | SRS4302113 |\n",
       "\n"
      ],
      "text/plain": [
       "   Sample    \n",
       "1  SRS497392 \n",
       "2  SRS497705 \n",
       "⋮  ⋮         \n",
       "71 SRS4302118\n",
       "72 SRS4302113\n",
       "   Fasta                                                                                                                       \n",
       "1  /ebio/abt3_projects/databases_no-backup/DeepMAsED/version2/real_data_eval/tmdb/LLMGA/final_contigs/SRS497392/contigs.fna.gz \n",
       "2  /ebio/abt3_projects/databases_no-backup/DeepMAsED/version2/real_data_eval/tmdb/LLMGA/final_contigs/SRS497705/contigs.fna.gz \n",
       "⋮  ⋮                                                                                                                           \n",
       "71 /ebio/abt3_projects/databases_no-backup/DeepMAsED/version2/real_data_eval/tmdb/LLMGA/final_contigs/SRS4302118/contigs.fna.gz\n",
       "72 /ebio/abt3_projects/databases_no-backup/DeepMAsED/version2/real_data_eval/tmdb/LLMGA/final_contigs/SRS4302113/contigs.fna.gz\n",
       "   file                                                                                       \n",
       "1  /ebio/abt3_scratch/nyoungblut/LLMGA_122597181487/all_contigs/SRS497392/contigs_final.fasta \n",
       "2  /ebio/abt3_scratch/nyoungblut/LLMGA_122597181487/all_contigs/SRS497705/contigs_final.fasta \n",
       "⋮  ⋮                                                                                          \n",
       "71 /ebio/abt3_scratch/nyoungblut/LLMGA_122597181487/all_contigs/SRS4302118/contigs_final.fasta\n",
       "72 /ebio/abt3_scratch/nyoungblut/LLMGA_122597181487/all_contigs/SRS4302113/contigs_final.fasta\n",
       "   format type num_seqs sum_len min_len avg_len max_len ⋯ quality_above_30_SRA\n",
       "1  FASTA  DNA  612      775909  1002    1267.8  3038    ⋯ 83                  \n",
       "2  FASTA  DNA   34       40040  1012    1177.6  1839    ⋯ 82                  \n",
       "⋮  ⋮      ⋮    ⋮        ⋮       ⋮       ⋮       ⋮       ⋱ ⋮                   \n",
       "71 FASTA  DNA  1509     3664037 1000    2428.1  24611   ⋯ 93                  \n",
       "72 FASTA  DNA   938     3255571 1000    3470.8  45431   ⋯ 93                  \n",
       "   mean_quality_SRA drisee_score_raw_MGRAST creation_date source_database\n",
       "1  32.74            NA                      2013-12-09    SRA            \n",
       "2  32.50            NA                      2013-12-09    SRA            \n",
       "⋮  ⋮                ⋮                       ⋮             ⋮              \n",
       "71 39.17            NA                      2019-01-28    SRA            \n",
       "72 39.28            NA                      2019-01-28    SRA            \n",
       "   n_samples i.num_seqs i.avg_len i.Q30... Taxon     \n",
       "1  12        4274808    99.9      89.26    SRS497392 \n",
       "2  12        4214703    99.7      88.88    SRS497705 \n",
       "⋮  ⋮         ⋮          ⋮         ⋮        ⋮         \n",
       "71 11        4770059    149.5     95.67    SRS4302118\n",
       "72 11        4538119    149.2     95.90    SRS4302113"
      ]
     },
     "metadata": {},
     "output_type": "display_data"
    }
   ],
   "source": [
    "# joining\n",
    "contigs = contigs %>%\n",
    "    inner_join.(reads, c('Sample')) %>%\n",
    "    mutate.(Taxon = Sample)\n",
    "contigs"
   ]
  },
  {
   "cell_type": "code",
   "execution_count": 53,
   "metadata": {
    "ExecuteTime": {
     "end_time": "2022-09-19T23:32:53.493319Z",
     "start_time": "2022-09-19T23:32:53.331Z"
    }
   },
   "outputs": [
    {
     "data": {
      "text/html": [
       "<table class=\"dataframe\">\n",
       "<caption>A tidytable: 3 × 2</caption>\n",
       "<thead>\n",
       "\t<tr><th scope=col>project_name</th><th scope=col>n</th></tr>\n",
       "\t<tr><th scope=col>&lt;chr&gt;</th><th scope=col>&lt;int&gt;</th></tr>\n",
       "</thead>\n",
       "<tbody>\n",
       "\t<tr><td>F2U Metagenome                 </td><td> 8</td></tr>\n",
       "\t<tr><td>Canadian High Artic Metagenomes</td><td>57</td></tr>\n",
       "\t<tr><td>Soil metagenome Metagenome     </td><td> 7</td></tr>\n",
       "</tbody>\n",
       "</table>\n"
      ],
      "text/latex": [
       "A tidytable: 3 × 2\n",
       "\\begin{tabular}{ll}\n",
       " project\\_name & n\\\\\n",
       " <chr> & <int>\\\\\n",
       "\\hline\n",
       "\t F2U Metagenome                  &  8\\\\\n",
       "\t Canadian High Artic Metagenomes & 57\\\\\n",
       "\t Soil metagenome Metagenome      &  7\\\\\n",
       "\\end{tabular}\n"
      ],
      "text/markdown": [
       "\n",
       "A tidytable: 3 × 2\n",
       "\n",
       "| project_name &lt;chr&gt; | n &lt;int&gt; |\n",
       "|---|---|\n",
       "| F2U Metagenome                  |  8 |\n",
       "| Canadian High Artic Metagenomes | 57 |\n",
       "| Soil metagenome Metagenome      |  7 |\n",
       "\n"
      ],
      "text/plain": [
       "  project_name                    n \n",
       "1 F2U Metagenome                   8\n",
       "2 Canadian High Artic Metagenomes 57\n",
       "3 Soil metagenome Metagenome       7"
      ]
     },
     "metadata": {},
     "output_type": "display_data"
    }
   ],
   "source": [
    "# metagenomes per project\n",
    "contigs %>%\n",
    "    summarize.(n = n.(), .by = c(project_name))"
   ]
  },
  {
   "cell_type": "markdown",
   "metadata": {},
   "source": [
    "### Writing samples table"
   ]
  },
  {
   "cell_type": "code",
   "execution_count": 55,
   "metadata": {
    "ExecuteTime": {
     "end_time": "2022-09-19T23:33:29.297497Z",
     "start_time": "2022-09-19T23:33:29.155Z"
    }
   },
   "outputs": [
    {
     "name": "stdout",
     "output_type": "stream",
     "text": [
      "Created directory: /ebio/abt3_projects/databases_no-backup/DeepMAsED/version2/real_data_eval/tmdb/LLMGA//final_contigs/resmico-sm \n",
      "File written: /ebio/abt3_projects/databases_no-backup/DeepMAsED/version2/real_data_eval/tmdb/LLMGA//final_contigs/resmico-sm/samples.tsv \n"
     ]
    }
   ],
   "source": [
    "resmico_dir = file.path(work_dir, 'final_contigs', 'resmico-sm')\n",
    "make_dir(resmico_dir)\n",
    "F = file.path(resmico_dir, 'samples.tsv')\n",
    "write_table(contigs, F)"
   ]
  },
  {
   "cell_type": "markdown",
   "metadata": {},
   "source": [
    "### Config"
   ]
  },
  {
   "cell_type": "code",
   "execution_count": 57,
   "metadata": {
    "ExecuteTime": {
     "end_time": "2022-09-19T23:34:03.777685Z",
     "start_time": "2022-09-19T23:34:03.636Z"
    }
   },
   "outputs": [
    {
     "name": "stdout",
     "output_type": "stream",
     "text": [
      "# Input table\n",
      "## Table of genomes\n",
      "genomes_file: /ebio/abt3_projects/databases_no-backup/DeepMAsED/version2/real_data_eval/tmdb/LLMGA/final_contigs/resmico-sm/samples.tsv\n",
      "\n",
      "# Output directory\n",
      "output_dir: /ebio/abt3_projects/databases_no-backup/DeepMAsED/version2/real_data_eval/tmdb/LLMGA/final_contigs/resmico-sm/\n",
      "\n",
      "# Temporary output directory (use /dev/shm/ for shared memory)\n",
      "tmp_dir: /ebio/abt3_scratch/nyoungblut/resmico_dev/\n",
      "\n",
      "# Email for notifications (\"Skip\" to skip)\n",
      "email: nyoungblut@tuebingen.mpg.de\n",
      "\n",
      "# software parameters for data simulations\n",
      "## Use \"Skip\" to skip  steps. If no params for rule, use \"\"\n",
      "## `reps:` is the number of replicate simulations\n",
      "## If `keep_reads: True`, then simulated reads are kept\n",
      "params:\n",
      "  ionice: -c 3\n",
      "  # simulating metagenomes\n",
      "  MGSIM:\n",
      "    sim_reps: 1\n",
      "    community:\n",
      "      richness:\n",
      "        - 0.5\n",
      "        - 0.8\n",
      "      abundance_distribution:\n",
      "        - \"mean:10,sigma:1\"\n",
      "        - \"mean:10,sigma:2\"\n",
      "      random_seed: Skip #8192\n",
      "      other_sim_params: --group-bias 0\n",
      "    reads: \n",
      "      length:\n",
      "        - 100\n",
      "        - 150\n",
      "      depth:\n",
      "        - 1000000\n",
      "        - 4000000\n",
      "      other_sim_params: --art-paired --art-mflen 270 --art-sdev 50 --rndSeed 8712\n",
      "                        --art-qprof1 data/art_error_profiles/HiSeq2500L150R1.txt\n",
      "                        --art-qprof2 data/art_error_profiles/HiSeq2500L150R2.txt\n",
      "      skewer: -n -l 70 -q 25 --format sanger\n",
      "      keep_reads: False\n",
      "  # coverage\n",
      "  nonpareil:\n",
      "    params: -T kmer\n",
      "    summary: 1e9   # this is target seq. depth\n",
      "  # assemblying metagenomes\n",
      "  assemblers:\n",
      "    metaspades: -k auto --only-assembler\n",
      "    megahit: --min-count 1 --min-contig-len 1000\n",
      "  # assembly filtering\n",
      "  contigs:\n",
      "    length_cutoff: 1000       # length in bp \n",
      "  # assessing assembly errors\n",
      "  asmbl_errors:\n",
      "    metaquast: --max-ref-number 0 --min-contig 1000 --min-identity 95 --extensive-mis-size 100\n",
      "               --no-html --no-plots --no-icarus --no-gc --no-snps --no-sv\n",
      "    keep_genomes: False\n",
      "  # mapping reads to contigs\n",
      "  map:\n",
      "    contig_frac:\n",
      "      - 1000\n",
      "    samtools: \"\"\n",
      "    bowtie2: \"\"\n",
      "    max_coverage: 20\n",
      "    keep_bam: False\n",
      "    keep_faidx: False\n",
      "    create_bigwig: False\n",
      "  # creating ResMiCo feature tables\n",
      "  feature_table:\n",
      "    make: --window 6\n",
      "  # state-of-the-art\n",
      "  SotA:\n",
      "    ALE: Skip\n",
      "    VALET: Skip\n",
      "    metaMIC:\n",
      "      extract: Skip #--mlen 1000\n",
      "      predict: --mlen 1000 --slen 500 -a MEGAHIT\n",
      "  # misc\n",
      "  real_contigs_simulated_reads: False\n",
      "\n",
      "# params just for creating feature tables for non-simulated data\n",
      "nonsim_params:\n",
      "  # max number of reads to use\n",
      "  subsample_reads: Skip #1000000\n",
      "\n",
      "# snakemake pipeline\n",
      "pipeline:\n",
      "  snakemake_folder: ./\n",
      "  script_folder: ./bin/scripts/\n",
      "  name: ResMiCo-SM"
     ]
    }
   ],
   "source": [
    "F = file.path(resmico_dir, 'config.yaml')\n",
    "cat_file(F)"
   ]
  },
  {
   "cell_type": "markdown",
   "metadata": {},
   "source": [
    "### Run"
   ]
  },
  {
   "cell_type": "markdown",
   "metadata": {},
   "source": [
    "```\n",
    "(snakemake) rick: /ebio/abt3_projects/DeepMAsED/version2/deepmased/ResMiCo-SM\n",
    "$ screen -L -S rmc-sm-tmdb ./snakemake_sge.sh /ebio/abt3_projects/databases_no-backup/DeepMAsED/version2/real_data_eval/tmdb/LLMGA/final_contigs/resmico-sm/config.yaml 30 -F\n",
    "```"
   ]
  },
  {
   "cell_type": "markdown",
   "metadata": {},
   "source": [
    "## Summary"
   ]
  },
  {
   "cell_type": "code",
   "execution_count": 58,
   "metadata": {
    "ExecuteTime": {
     "end_time": "2022-09-20T22:31:04.522448Z",
     "start_time": "2022-09-20T22:31:04.350Z"
    }
   },
   "outputs": [
    {
     "data": {
      "text/html": [
       "<table class=\"dataframe\">\n",
       "<caption>A data.table: 72 × 4</caption>\n",
       "<thead>\n",
       "\t<tr><th scope=col>sample</th><th scope=col>taxon</th><th scope=col>contig_frac</th><th scope=col>feature_file</th></tr>\n",
       "\t<tr><th scope=col>&lt;chr&gt;</th><th scope=col>&lt;chr&gt;</th><th scope=col>&lt;int&gt;</th><th scope=col>&lt;chr&gt;</th></tr>\n",
       "</thead>\n",
       "<tbody>\n",
       "\t<tr><td>SRS497392</td><td>SRS497392</td><td>1000</td><td>SRS497392/SRS497392/1000/features.tsv.gz</td></tr>\n",
       "\t<tr><td>SRS497705</td><td>SRS497705</td><td>1000</td><td>SRS497705/SRS497705/1000/features.tsv.gz</td></tr>\n",
       "\t<tr><td>⋮</td><td>⋮</td><td>⋮</td><td>⋮</td></tr>\n",
       "\t<tr><td>SRS4302118</td><td>SRS4302118</td><td>1000</td><td>SRS4302118/SRS4302118/1000/features.tsv.gz</td></tr>\n",
       "\t<tr><td>SRS4302113</td><td>SRS4302113</td><td>1000</td><td>SRS4302113/SRS4302113/1000/features.tsv.gz</td></tr>\n",
       "</tbody>\n",
       "</table>\n"
      ],
      "text/latex": [
       "A data.table: 72 × 4\n",
       "\\begin{tabular}{llll}\n",
       " sample & taxon & contig\\_frac & feature\\_file\\\\\n",
       " <chr> & <chr> & <int> & <chr>\\\\\n",
       "\\hline\n",
       "\t SRS497392 & SRS497392 & 1000 & SRS497392/SRS497392/1000/features.tsv.gz\\\\\n",
       "\t SRS497705 & SRS497705 & 1000 & SRS497705/SRS497705/1000/features.tsv.gz\\\\\n",
       "\t ⋮ & ⋮ & ⋮ & ⋮\\\\\n",
       "\t SRS4302118 & SRS4302118 & 1000 & SRS4302118/SRS4302118/1000/features.tsv.gz\\\\\n",
       "\t SRS4302113 & SRS4302113 & 1000 & SRS4302113/SRS4302113/1000/features.tsv.gz\\\\\n",
       "\\end{tabular}\n"
      ],
      "text/markdown": [
       "\n",
       "A data.table: 72 × 4\n",
       "\n",
       "| sample &lt;chr&gt; | taxon &lt;chr&gt; | contig_frac &lt;int&gt; | feature_file &lt;chr&gt; |\n",
       "|---|---|---|---|\n",
       "| SRS497392 | SRS497392 | 1000 | SRS497392/SRS497392/1000/features.tsv.gz |\n",
       "| SRS497705 | SRS497705 | 1000 | SRS497705/SRS497705/1000/features.tsv.gz |\n",
       "| ⋮ | ⋮ | ⋮ | ⋮ |\n",
       "| SRS4302118 | SRS4302118 | 1000 | SRS4302118/SRS4302118/1000/features.tsv.gz |\n",
       "| SRS4302113 | SRS4302113 | 1000 | SRS4302113/SRS4302113/1000/features.tsv.gz |\n",
       "\n"
      ],
      "text/plain": [
       "   sample     taxon      contig_frac feature_file                              \n",
       "1  SRS497392  SRS497392  1000        SRS497392/SRS497392/1000/features.tsv.gz  \n",
       "2  SRS497705  SRS497705  1000        SRS497705/SRS497705/1000/features.tsv.gz  \n",
       "⋮  ⋮          ⋮          ⋮           ⋮                                         \n",
       "71 SRS4302118 SRS4302118 1000        SRS4302118/SRS4302118/1000/features.tsv.gz\n",
       "72 SRS4302113 SRS4302113 1000        SRS4302113/SRS4302113/1000/features.tsv.gz"
      ]
     },
     "metadata": {},
     "output_type": "display_data"
    }
   ],
   "source": [
    "F = file.path(resmico_dir, 'features', 'feature_files.tsv')\n",
    "Fread(F)"
   ]
  },
  {
   "cell_type": "markdown",
   "metadata": {},
   "source": [
    "# sessionInfo"
   ]
  },
  {
   "cell_type": "code",
   "execution_count": 59,
   "metadata": {
    "ExecuteTime": {
     "end_time": "2022-09-20T22:31:06.669972Z",
     "start_time": "2022-09-20T22:31:06.398Z"
    }
   },
   "outputs": [
    {
     "data": {
      "text/plain": [
       "R version 4.1.1 (2021-08-10)\n",
       "Platform: x86_64-conda-linux-gnu (64-bit)\n",
       "Running under: Ubuntu 20.04.5 LTS\n",
       "\n",
       "Matrix products: default\n",
       "BLAS/LAPACK: /tmp/global2/nyoungblut/code/general/conda_envs/general-tidyverse/lib/libopenblasp-r0.3.18.so\n",
       "\n",
       "locale:\n",
       " [1] LC_CTYPE=en_US.UTF-8       LC_NUMERIC=C              \n",
       " [3] LC_TIME=en_US.UTF-8        LC_COLLATE=en_US.UTF-8    \n",
       " [5] LC_MONETARY=en_US.UTF-8    LC_MESSAGES=en_US.UTF-8   \n",
       " [7] LC_PAPER=en_US.UTF-8       LC_NAME=C                 \n",
       " [9] LC_ADDRESS=C               LC_TELEPHONE=C            \n",
       "[11] LC_MEASUREMENT=en_US.UTF-8 LC_IDENTIFICATION=C       \n",
       "\n",
       "attached base packages:\n",
       "[1] stats     graphics  grDevices utils     datasets  methods   base     \n",
       "\n",
       "other attached packages:\n",
       "[1] clustermq_0.8.95.2 LeyLabRMisc_0.2.1  tidytable_0.6.6    data.table_1.14.2 \n",
       "[5] ggplot2_3.3.5      tidyr_1.1.4        dplyr_1.0.7       \n",
       "\n",
       "loaded via a namespace (and not attached):\n",
       " [1] Rcpp_1.0.7       plyr_1.8.6       pillar_1.6.4     compiler_4.1.1  \n",
       " [5] base64enc_0.1-3  tools_4.1.1      bit_4.0.4        digest_0.6.29   \n",
       " [9] uuid_1.0-3       jsonlite_1.7.2   evaluate_0.14    lifecycle_1.0.1 \n",
       "[13] tibble_3.1.6     gtable_0.3.0     pkgconfig_2.0.3  rlang_0.4.12    \n",
       "[17] IRdisplay_1.1    IRkernel_1.3     fastmap_1.1.0    repr_1.1.4      \n",
       "[21] withr_2.4.3      generics_0.1.1   vctrs_0.3.8      bit64_4.0.5     \n",
       "[25] grid_4.1.1       tidyselect_1.1.1 glue_1.6.0       R6_2.5.1        \n",
       "[29] fansi_1.0.0      pbdZMQ_0.3-6     purrr_0.3.4      magrittr_2.0.1  \n",
       "[33] codetools_0.2-18 scales_1.1.1     ellipsis_0.3.2   htmltools_0.5.2 \n",
       "[37] colorspace_2.0-2 utf8_1.2.2       munsell_0.5.0    crayon_1.4.2    "
      ]
     },
     "metadata": {},
     "output_type": "display_data"
    }
   ],
   "source": [
    "sessionInfo()"
   ]
  },
  {
   "cell_type": "code",
   "execution_count": null,
   "metadata": {},
   "outputs": [],
   "source": []
  }
 ],
 "metadata": {
  "kernelspec": {
   "display_name": "R [conda env:general-tidyverse]",
   "language": "R",
   "name": "conda-env-general-tidyverse-r"
  },
  "language_info": {
   "codemirror_mode": "r",
   "file_extension": ".r",
   "mimetype": "text/x-r-source",
   "name": "R",
   "pygments_lexer": "r",
   "version": "4.1.1"
  },
  "toc": {
   "base_numbering": 1,
   "nav_menu": {},
   "number_sections": true,
   "sideBar": true,
   "skip_h1_title": false,
   "title_cell": "Table of Contents",
   "title_sidebar": "Contents",
   "toc_cell": true,
   "toc_position": {},
   "toc_section_display": true,
   "toc_window_display": true
  }
 },
 "nbformat": 4,
 "nbformat_minor": 4
}
