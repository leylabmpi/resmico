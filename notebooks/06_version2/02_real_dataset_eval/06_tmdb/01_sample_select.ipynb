{
 "cells": [
  {
   "cell_type": "markdown",
   "metadata": {
    "toc": true
   },
   "source": [
    "<h1>Table of Contents<span class=\"tocSkip\"></span></h1>\n",
    "<div class=\"toc\"><ul class=\"toc-item\"><li><span><a href=\"#Goal\" data-toc-modified-id=\"Goal-1\"><span class=\"toc-item-num\">1&nbsp;&nbsp;</span>Goal</a></span></li><li><span><a href=\"#Var\" data-toc-modified-id=\"Var-2\"><span class=\"toc-item-num\">2&nbsp;&nbsp;</span>Var</a></span></li><li><span><a href=\"#Init\" data-toc-modified-id=\"Init-3\"><span class=\"toc-item-num\">3&nbsp;&nbsp;</span>Init</a></span></li><li><span><a href=\"#Load\" data-toc-modified-id=\"Load-4\"><span class=\"toc-item-num\">4&nbsp;&nbsp;</span>Load</a></span></li><li><span><a href=\"#Filter\" data-toc-modified-id=\"Filter-5\"><span class=\"toc-item-num\">5&nbsp;&nbsp;</span>Filter</a></span><ul class=\"toc-item\"><li><ul class=\"toc-item\"><li><span><a href=\"#Notes-on-projects(studies)\" data-toc-modified-id=\"Notes-on-projects(studies)-5.0.1\"><span class=\"toc-item-num\">5.0.1&nbsp;&nbsp;</span>Notes on projects(studies)</a></span></li><li><span><a href=\"#Writing-samples-table\" data-toc-modified-id=\"Writing-samples-table-5.0.2\"><span class=\"toc-item-num\">5.0.2&nbsp;&nbsp;</span>Writing samples table</a></span></li></ul></li></ul></li><li><span><a href=\"#Sequence-download-&amp;-QC\" data-toc-modified-id=\"Sequence-download-&amp;-QC-6\"><span class=\"toc-item-num\">6&nbsp;&nbsp;</span>Sequence download &amp; QC</a></span><ul class=\"toc-item\"><li><span><a href=\"#LLMGQC-pipeline\" data-toc-modified-id=\"LLMGQC-pipeline-6.1\"><span class=\"toc-item-num\">6.1&nbsp;&nbsp;</span>LLMGQC pipeline</a></span><ul class=\"toc-item\"><li><span><a href=\"#Config\" data-toc-modified-id=\"Config-6.1.1\"><span class=\"toc-item-num\">6.1.1&nbsp;&nbsp;</span>Config</a></span></li><li><span><a href=\"#Run\" data-toc-modified-id=\"Run-6.1.2\"><span class=\"toc-item-num\">6.1.2&nbsp;&nbsp;</span>Run</a></span></li></ul></li><li><span><a href=\"#Summary\" data-toc-modified-id=\"Summary-6.2\"><span class=\"toc-item-num\">6.2&nbsp;&nbsp;</span>Summary</a></span><ul class=\"toc-item\"><li><span><a href=\"#Seq.-quality\" data-toc-modified-id=\"Seq.-quality-6.2.1\"><span class=\"toc-item-num\">6.2.1&nbsp;&nbsp;</span>Seq. quality</a></span></li></ul></li><li><span><a href=\"#Writing-table\" data-toc-modified-id=\"Writing-table-6.3\"><span class=\"toc-item-num\">6.3&nbsp;&nbsp;</span>Writing table</a></span></li></ul></li><li><span><a href=\"#sessionInfo\" data-toc-modified-id=\"sessionInfo-7\"><span class=\"toc-item-num\">7&nbsp;&nbsp;</span>sessionInfo</a></span></li></ul></div>"
   ]
  },
  {
   "cell_type": "markdown",
   "metadata": {},
   "source": [
    "# Goal\n",
    "\n",
    "* Selecting metagenomes from the [TerrestrialMetagenomeDB](https://webapp.ufz.de/tmdb/)\n",
    "* Using metagenomes for a real-data evalulation of resmico"
   ]
  },
  {
   "cell_type": "markdown",
   "metadata": {},
   "source": [
    "# Var"
   ]
  },
  {
   "cell_type": "code",
   "execution_count": 1,
   "metadata": {
    "ExecuteTime": {
     "end_time": "2022-08-27T03:23:56.391113Z",
     "start_time": "2022-08-27T03:23:56.146Z"
    }
   },
   "outputs": [],
   "source": [
    "work_dir = '/ebio/abt3_projects/databases_no-backup/DeepMAsED/version2/real_data_eval/tmdb/'\n",
    "metadata_file = file.path(work_dir, '2022-08-25_tmdb_soil.csv')"
   ]
  },
  {
   "cell_type": "markdown",
   "metadata": {},
   "source": [
    "# Init"
   ]
  },
  {
   "cell_type": "code",
   "execution_count": 3,
   "metadata": {
    "ExecuteTime": {
     "end_time": "2022-08-27T03:24:24.517561Z",
     "start_time": "2022-08-27T03:24:24.441Z"
    }
   },
   "outputs": [],
   "source": [
    "library(dplyr)\n",
    "library(tidyr)\n",
    "library(ggplot2)\n",
    "library(data.table)\n",
    "library(tidytable)\n",
    "library(LeyLabRMisc)\n",
    "Init()"
   ]
  },
  {
   "cell_type": "markdown",
   "metadata": {},
   "source": [
    "# Load"
   ]
  },
  {
   "cell_type": "code",
   "execution_count": 4,
   "metadata": {
    "ExecuteTime": {
     "end_time": "2022-08-27T03:24:42.361561Z",
     "start_time": "2022-08-27T03:24:42.178Z"
    }
   },
   "outputs": [
    {
     "data": {
      "text/html": [
       "<table class=\"dataframe\">\n",
       "<caption>A data.table: 539 × 37</caption>\n",
       "<thead>\n",
       "\t<tr><th scope=col>library_id</th><th scope=col>project_id</th><th scope=col>sample_id</th><th scope=col>TMDB_material</th><th scope=col>TMDB_biome</th><th scope=col>project_name</th><th scope=col>sample_location</th><th scope=col>sample_depth</th><th scope=col>sample_elevation</th><th scope=col>sample_altitude</th><th scope=col>⋯</th><th scope=col>seq_platform</th><th scope=col>assembled</th><th scope=col>sequence_count</th><th scope=col>basepairs_count</th><th scope=col>average_length</th><th scope=col>quality_above_30_SRA</th><th scope=col>mean_quality_SRA</th><th scope=col>drisee_score_raw_MGRAST</th><th scope=col>creation_date</th><th scope=col>source_database</th></tr>\n",
       "\t<tr><th scope=col>&lt;chr&gt;</th><th scope=col>&lt;chr&gt;</th><th scope=col>&lt;chr&gt;</th><th scope=col>&lt;chr&gt;</th><th scope=col>&lt;chr&gt;</th><th scope=col>&lt;chr&gt;</th><th scope=col>&lt;chr&gt;</th><th scope=col>&lt;dbl&gt;</th><th scope=col>&lt;int&gt;</th><th scope=col>&lt;lgl&gt;</th><th scope=col>⋯</th><th scope=col>&lt;chr&gt;</th><th scope=col>&lt;chr&gt;</th><th scope=col>&lt;int&gt;</th><th scope=col>&lt;int64&gt;</th><th scope=col>&lt;int&gt;</th><th scope=col>&lt;int&gt;</th><th scope=col>&lt;dbl&gt;</th><th scope=col>&lt;lgl&gt;</th><th scope=col>&lt;date&gt;</th><th scope=col>&lt;chr&gt;</th></tr>\n",
       "</thead>\n",
       "<tbody>\n",
       "\t<tr><td>DRR001970</td><td>DRX001423</td><td>DRS001352</td><td>soil</td><td>forest</td><td>Comparative metagenomic analysis of soil microbial communities in tropical and temperate forests</td><td>NA</td><td>NA</td><td>NA</td><td>NA</td><td>⋯</td><td>ILLUMINA</td><td>No</td><td>17747396</td><td>905117196</td><td>51</td><td>84</td><td>30.80</td><td>NA</td><td>2014-05-14</td><td>SRA</td></tr>\n",
       "\t<tr><td>DRR001971</td><td>DRX001424</td><td>DRS001353</td><td>soil</td><td>forest</td><td>Comparative metagenomic analysis of soil microbial communities in tropical and temperate forests</td><td>NA</td><td>NA</td><td>NA</td><td>NA</td><td>⋯</td><td>ILLUMINA</td><td>No</td><td>11606351</td><td>591923901</td><td>51</td><td>75</td><td>28.94</td><td>NA</td><td>2014-05-14</td><td>SRA</td></tr>\n",
       "\t<tr><td>⋮</td><td>⋮</td><td>⋮</td><td>⋮</td><td>⋮</td><td>⋮</td><td>⋮</td><td>⋮</td><td>⋮</td><td>⋮</td><td>⋱</td><td>⋮</td><td>⋮</td><td>⋮</td><td>⋮</td><td>⋮</td><td>⋮</td><td>⋮</td><td>⋮</td><td>⋮</td><td>⋮</td></tr>\n",
       "\t<tr><td>SRR8858270</td><td>SRX5645824</td><td>SRS4591457</td><td>soil</td><td>desert</td><td>Soil microbial communities from Anza Borrego Desert;  Southern California;  United States - Methanotrophic co-culture R2-M metagenome</td><td>NA</td><td>  NA</td><td> NA</td><td>NA</td><td>⋯</td><td>ILLUMINA</td><td>No</td><td>33993066</td><td>10265905932</td><td>302</td><td>93</td><td>36.13</td><td>NA</td><td>2019-04-05</td><td>SRA</td></tr>\n",
       "\t<tr><td>SRR6076972</td><td>SRX3216850</td><td>SRS2541914</td><td>soil</td><td>urban </td><td>Biphenyl-degrading soil bacterial consortium Raw sequence reads                                                                      </td><td>NA</td><td>0.15</td><td>710</td><td>NA</td><td>⋯</td><td>ILLUMINA</td><td>No</td><td> 4228736</td><td> 2477404773</td><td>586</td><td>70</td><td>30.99</td><td>NA</td><td>2019-10-26</td><td>SRA</td></tr>\n",
       "</tbody>\n",
       "</table>\n"
      ],
      "text/latex": [
       "A data.table: 539 × 37\n",
       "\\begin{tabular}{lllllllllllllllllllll}\n",
       " library\\_id & project\\_id & sample\\_id & TMDB\\_material & TMDB\\_biome & project\\_name & sample\\_location & sample\\_depth & sample\\_elevation & sample\\_altitude & ⋯ & seq\\_platform & assembled & sequence\\_count & basepairs\\_count & average\\_length & quality\\_above\\_30\\_SRA & mean\\_quality\\_SRA & drisee\\_score\\_raw\\_MGRAST & creation\\_date & source\\_database\\\\\n",
       " <chr> & <chr> & <chr> & <chr> & <chr> & <chr> & <chr> & <dbl> & <int> & <lgl> & ⋯ & <chr> & <chr> & <int> & <int64> & <int> & <int> & <dbl> & <lgl> & <date> & <chr>\\\\\n",
       "\\hline\n",
       "\t DRR001970 & DRX001423 & DRS001352 & soil & forest & Comparative metagenomic analysis of soil microbial communities in tropical and temperate forests & NA & NA & NA & NA & ⋯ & ILLUMINA & No & 17747396 & 905117196 & 51 & 84 & 30.80 & NA & 2014-05-14 & SRA\\\\\n",
       "\t DRR001971 & DRX001424 & DRS001353 & soil & forest & Comparative metagenomic analysis of soil microbial communities in tropical and temperate forests & NA & NA & NA & NA & ⋯ & ILLUMINA & No & 11606351 & 591923901 & 51 & 75 & 28.94 & NA & 2014-05-14 & SRA\\\\\n",
       "\t ⋮ & ⋮ & ⋮ & ⋮ & ⋮ & ⋮ & ⋮ & ⋮ & ⋮ & ⋮ & ⋱ & ⋮ & ⋮ & ⋮ & ⋮ & ⋮ & ⋮ & ⋮ & ⋮ & ⋮ & ⋮\\\\\n",
       "\t SRR8858270 & SRX5645824 & SRS4591457 & soil & desert & Soil microbial communities from Anza Borrego Desert;  Southern California;  United States - Methanotrophic co-culture R2-M metagenome & NA &   NA &  NA & NA & ⋯ & ILLUMINA & No & 33993066 & 10265905932 & 302 & 93 & 36.13 & NA & 2019-04-05 & SRA\\\\\n",
       "\t SRR6076972 & SRX3216850 & SRS2541914 & soil & urban  & Biphenyl-degrading soil bacterial consortium Raw sequence reads                                                                       & NA & 0.15 & 710 & NA & ⋯ & ILLUMINA & No &  4228736 &  2477404773 & 586 & 70 & 30.99 & NA & 2019-10-26 & SRA\\\\\n",
       "\\end{tabular}\n"
      ],
      "text/markdown": [
       "\n",
       "A data.table: 539 × 37\n",
       "\n",
       "| library_id &lt;chr&gt; | project_id &lt;chr&gt; | sample_id &lt;chr&gt; | TMDB_material &lt;chr&gt; | TMDB_biome &lt;chr&gt; | project_name &lt;chr&gt; | sample_location &lt;chr&gt; | sample_depth &lt;dbl&gt; | sample_elevation &lt;int&gt; | sample_altitude &lt;lgl&gt; | ⋯ ⋯ | seq_platform &lt;chr&gt; | assembled &lt;chr&gt; | sequence_count &lt;int&gt; | basepairs_count &lt;int64&gt; | average_length &lt;int&gt; | quality_above_30_SRA &lt;int&gt; | mean_quality_SRA &lt;dbl&gt; | drisee_score_raw_MGRAST &lt;lgl&gt; | creation_date &lt;date&gt; | source_database &lt;chr&gt; |\n",
       "|---|---|---|---|---|---|---|---|---|---|---|---|---|---|---|---|---|---|---|---|---|\n",
       "| DRR001970 | DRX001423 | DRS001352 | soil | forest | Comparative metagenomic analysis of soil microbial communities in tropical and temperate forests | NA | NA | NA | NA | ⋯ | ILLUMINA | No | 17747396 | 905117196 | 51 | 84 | 30.80 | NA | 2014-05-14 | SRA |\n",
       "| DRR001971 | DRX001424 | DRS001353 | soil | forest | Comparative metagenomic analysis of soil microbial communities in tropical and temperate forests | NA | NA | NA | NA | ⋯ | ILLUMINA | No | 11606351 | 591923901 | 51 | 75 | 28.94 | NA | 2014-05-14 | SRA |\n",
       "| ⋮ | ⋮ | ⋮ | ⋮ | ⋮ | ⋮ | ⋮ | ⋮ | ⋮ | ⋮ | ⋱ | ⋮ | ⋮ | ⋮ | ⋮ | ⋮ | ⋮ | ⋮ | ⋮ | ⋮ | ⋮ |\n",
       "| SRR8858270 | SRX5645824 | SRS4591457 | soil | desert | Soil microbial communities from Anza Borrego Desert;  Southern California;  United States - Methanotrophic co-culture R2-M metagenome | NA |   NA |  NA | NA | ⋯ | ILLUMINA | No | 33993066 | 10265905932 | 302 | 93 | 36.13 | NA | 2019-04-05 | SRA |\n",
       "| SRR6076972 | SRX3216850 | SRS2541914 | soil | urban  | Biphenyl-degrading soil bacterial consortium Raw sequence reads                                                                       | NA | 0.15 | 710 | NA | ⋯ | ILLUMINA | No |  4228736 |  2477404773 | 586 | 70 | 30.99 | NA | 2019-10-26 | SRA |\n",
       "\n"
      ],
      "text/plain": [
       "    library_id project_id sample_id  TMDB_material TMDB_biome\n",
       "1   DRR001970  DRX001423  DRS001352  soil          forest    \n",
       "2   DRR001971  DRX001424  DRS001353  soil          forest    \n",
       "⋮   ⋮          ⋮          ⋮          ⋮             ⋮         \n",
       "538 SRR8858270 SRX5645824 SRS4591457 soil          desert    \n",
       "539 SRR6076972 SRX3216850 SRS2541914 soil          urban     \n",
       "    project_name                                                                                                                         \n",
       "1   Comparative metagenomic analysis of soil microbial communities in tropical and temperate forests                                     \n",
       "2   Comparative metagenomic analysis of soil microbial communities in tropical and temperate forests                                     \n",
       "⋮   ⋮                                                                                                                                    \n",
       "538 Soil microbial communities from Anza Borrego Desert;  Southern California;  United States - Methanotrophic co-culture R2-M metagenome\n",
       "539 Biphenyl-degrading soil bacterial consortium Raw sequence reads                                                                      \n",
       "    sample_location sample_depth sample_elevation sample_altitude ⋯\n",
       "1   NA              NA           NA               NA              ⋯\n",
       "2   NA              NA           NA               NA              ⋯\n",
       "⋮   ⋮               ⋮            ⋮                ⋮               ⋱\n",
       "538 NA                NA          NA              NA              ⋯\n",
       "539 NA              0.15         710              NA              ⋯\n",
       "    seq_platform assembled sequence_count basepairs_count average_length\n",
       "1   ILLUMINA     No        17747396       905117196       51            \n",
       "2   ILLUMINA     No        11606351       591923901       51            \n",
       "⋮   ⋮            ⋮         ⋮              ⋮               ⋮             \n",
       "538 ILLUMINA     No        33993066       10265905932     302           \n",
       "539 ILLUMINA     No         4228736        2477404773     586           \n",
       "    quality_above_30_SRA mean_quality_SRA drisee_score_raw_MGRAST creation_date\n",
       "1   84                   30.80            NA                      2014-05-14   \n",
       "2   75                   28.94            NA                      2014-05-14   \n",
       "⋮   ⋮                    ⋮                ⋮                       ⋮            \n",
       "538 93                   36.13            NA                      2019-04-05   \n",
       "539 70                   30.99            NA                      2019-10-26   \n",
       "    source_database\n",
       "1   SRA            \n",
       "2   SRA            \n",
       "⋮   ⋮              \n",
       "538 SRA            \n",
       "539 SRA            "
      ]
     },
     "metadata": {},
     "output_type": "display_data"
    }
   ],
   "source": [
    "meta = Fread(metadata_file, sep=',') \n",
    "meta"
   ]
  },
  {
   "cell_type": "markdown",
   "metadata": {},
   "source": [
    "# Filter"
   ]
  },
  {
   "cell_type": "code",
   "execution_count": 42,
   "metadata": {
    "ExecuteTime": {
     "end_time": "2022-08-27T04:02:20.091460Z",
     "start_time": "2022-08-27T04:02:19.889Z"
    }
   },
   "outputs": [
    {
     "data": {
      "text/html": [
       "<table class=\"dataframe\">\n",
       "<caption>A tidytable: 7 × 4</caption>\n",
       "<thead>\n",
       "\t<tr><th scope=col>project_name</th><th scope=col>n_samples</th><th scope=col>TMDB_biome</th><th scope=col>TMDB_material</th></tr>\n",
       "\t<tr><th scope=col>&lt;chr&gt;</th><th scope=col>&lt;int&gt;</th><th scope=col>&lt;chr&gt;</th><th scope=col>&lt;chr&gt;</th></tr>\n",
       "</thead>\n",
       "<tbody>\n",
       "\t<tr><td>Canadian High Artic Metagenomes                                                                                          </td><td>59</td><td>tundra   </td><td>soil</td></tr>\n",
       "\t<tr><td>ISLAND-BIODIV_mtDNAmetagenomics                                                                                          </td><td>30</td><td>forest   </td><td>soil</td></tr>\n",
       "\t<tr><td>F2U Metagenome                                                                                                           </td><td>12</td><td>grassland</td><td>soil</td></tr>\n",
       "\t<tr><td>soil metagenome Metagenome                                                                                               </td><td>12</td><td>forest   </td><td>soil</td></tr>\n",
       "\t<tr><td>See abstract                                                                                                             </td><td>12</td><td>forest   </td><td>soil</td></tr>\n",
       "\t<tr><td>Metagenomic analysis reveals distinct patterns of denitrification gene abundance across soil moisture;  nitrate gradients</td><td>12</td><td>forest   </td><td>soil</td></tr>\n",
       "\t<tr><td>Soil metagenome Metagenome                                                                                               </td><td>11</td><td>forest   </td><td>soil</td></tr>\n",
       "</tbody>\n",
       "</table>\n"
      ],
      "text/latex": [
       "A tidytable: 7 × 4\n",
       "\\begin{tabular}{llll}\n",
       " project\\_name & n\\_samples & TMDB\\_biome & TMDB\\_material\\\\\n",
       " <chr> & <int> & <chr> & <chr>\\\\\n",
       "\\hline\n",
       "\t Canadian High Artic Metagenomes                                                                                           & 59 & tundra    & soil\\\\\n",
       "\t ISLAND-BIODIV\\_mtDNAmetagenomics                                                                                           & 30 & forest    & soil\\\\\n",
       "\t F2U Metagenome                                                                                                            & 12 & grassland & soil\\\\\n",
       "\t soil metagenome Metagenome                                                                                                & 12 & forest    & soil\\\\\n",
       "\t See abstract                                                                                                              & 12 & forest    & soil\\\\\n",
       "\t Metagenomic analysis reveals distinct patterns of denitrification gene abundance across soil moisture;  nitrate gradients & 12 & forest    & soil\\\\\n",
       "\t Soil metagenome Metagenome                                                                                                & 11 & forest    & soil\\\\\n",
       "\\end{tabular}\n"
      ],
      "text/markdown": [
       "\n",
       "A tidytable: 7 × 4\n",
       "\n",
       "| project_name &lt;chr&gt; | n_samples &lt;int&gt; | TMDB_biome &lt;chr&gt; | TMDB_material &lt;chr&gt; |\n",
       "|---|---|---|---|\n",
       "| Canadian High Artic Metagenomes                                                                                           | 59 | tundra    | soil |\n",
       "| ISLAND-BIODIV_mtDNAmetagenomics                                                                                           | 30 | forest    | soil |\n",
       "| F2U Metagenome                                                                                                            | 12 | grassland | soil |\n",
       "| soil metagenome Metagenome                                                                                                | 12 | forest    | soil |\n",
       "| See abstract                                                                                                              | 12 | forest    | soil |\n",
       "| Metagenomic analysis reveals distinct patterns of denitrification gene abundance across soil moisture;  nitrate gradients | 12 | forest    | soil |\n",
       "| Soil metagenome Metagenome                                                                                                | 11 | forest    | soil |\n",
       "\n"
      ],
      "text/plain": [
       "  project_name                                                                                                             \n",
       "1 Canadian High Artic Metagenomes                                                                                          \n",
       "2 ISLAND-BIODIV_mtDNAmetagenomics                                                                                          \n",
       "3 F2U Metagenome                                                                                                           \n",
       "4 soil metagenome Metagenome                                                                                               \n",
       "5 See abstract                                                                                                             \n",
       "6 Metagenomic analysis reveals distinct patterns of denitrification gene abundance across soil moisture;  nitrate gradients\n",
       "7 Soil metagenome Metagenome                                                                                               \n",
       "  n_samples TMDB_biome TMDB_material\n",
       "1 59        tundra     soil         \n",
       "2 30        forest     soil         \n",
       "3 12        grassland  soil         \n",
       "4 12        forest     soil         \n",
       "5 12        forest     soil         \n",
       "6 12        forest     soil         \n",
       "7 11        forest     soil         "
      ]
     },
     "metadata": {},
     "output_type": "display_data"
    }
   ],
   "source": [
    "meta_f = meta %>%\n",
    "    mutate.(n_samples = sample_id %>% unique %>% length, \n",
    "            .by = c(project_name)) %>%\n",
    "    filter.(n_samples >= 10) %>%\n",
    "    filter.(average_length <= 300,\n",
    "            average_length >= 100)\n",
    "\n",
    "df.dims(20)\n",
    "meta_f %>%\n",
    "    distinct.(project_name, n_samples, TMDB_biome, TMDB_material) %>%\n",
    "    arrange.(-n_samples)\n",
    "df.dims()"
   ]
  },
  {
   "cell_type": "markdown",
   "metadata": {},
   "source": [
    "### Notes on projects(studies)\n",
    "\n",
    "* F2U Metagenome\n",
    "  * study_id: PRJNA225837\n",
    "  * study_desc: Farm Soil of Tibetan Plateau\n",
    "  * doi: https://bmcgenomics.biomedcentral.com/articles/10.1186/1471-2164-14-820\n",
    "  * seq: Illumina HiSeq 2000\n",
    "      * 2 ×5100 bp paired-end\n",
    "* Canadian High Artic Metagenomes\n",
    "  * study_id: PRJNA261849\n",
    "  * study_desc: Canadian High Artic Metagenomes (permafrost)\n",
    "  * doi: https://journals.asm.org/doi/10.1128/MRA.01178-19\n",
    "  * seq: Illumina HiSeq 2000\n",
    "* soil metagenome Metagenome\n",
    "  * study_id: PRJNA343355\n",
    "  * doi: None\n",
    "* ISLAND-BIODIV_mtDNAmetagenomics\n",
    "  * study_id: PRJNA357014\n",
    "  * study_desc: \n",
    "  * doi: None\n",
    "* See abstract\n",
    "  * study_id: PRJEB24179\n",
    "  * study_desc: Hubbard Brook Metagenomes\n",
    "  * doi: None\n",
    "* Metagenomic analysis reveals distinct patterns of denitrification gene abundance across soil moisture; nitrate gradients \n",
    "  * study_id: PRJNA475650\n",
    "  * study_desc: forest soil microbial functional organization\n",
    "  * doi: https://www.nature.com/articles/s41396-018-0232-8\n",
    "  * seq: Illumina HiSeq 2500 platform\n",
    "    * 2 × 150 bp paired-end\n",
    "* Soil metagenome Metagenome\n",
    "  * study_id: PRJNA475650\n",
    "  * See `Metagenomic analysis reveals ...`"
   ]
  },
  {
   "cell_type": "code",
   "execution_count": 44,
   "metadata": {
    "ExecuteTime": {
     "end_time": "2022-08-27T04:02:21.528090Z",
     "start_time": "2022-08-27T04:02:21.341Z"
    }
   },
   "outputs": [
    {
     "data": {
      "text/html": [
       "<table class=\"dataframe\">\n",
       "<caption>A tidytable: 4 × 4</caption>\n",
       "<thead>\n",
       "\t<tr><th scope=col>project_name</th><th scope=col>n_samples</th><th scope=col>TMDB_biome</th><th scope=col>TMDB_material</th></tr>\n",
       "\t<tr><th scope=col>&lt;chr&gt;</th><th scope=col>&lt;int&gt;</th><th scope=col>&lt;chr&gt;</th><th scope=col>&lt;chr&gt;</th></tr>\n",
       "</thead>\n",
       "<tbody>\n",
       "\t<tr><td>Canadian High Artic Metagenomes                                                                                          </td><td>59</td><td>tundra   </td><td>soil</td></tr>\n",
       "\t<tr><td>F2U Metagenome                                                                                                           </td><td>12</td><td>grassland</td><td>soil</td></tr>\n",
       "\t<tr><td>Metagenomic analysis reveals distinct patterns of denitrification gene abundance across soil moisture;  nitrate gradients</td><td>12</td><td>forest   </td><td>soil</td></tr>\n",
       "\t<tr><td>Soil metagenome Metagenome                                                                                               </td><td>11</td><td>forest   </td><td>soil</td></tr>\n",
       "</tbody>\n",
       "</table>\n"
      ],
      "text/latex": [
       "A tidytable: 4 × 4\n",
       "\\begin{tabular}{llll}\n",
       " project\\_name & n\\_samples & TMDB\\_biome & TMDB\\_material\\\\\n",
       " <chr> & <int> & <chr> & <chr>\\\\\n",
       "\\hline\n",
       "\t Canadian High Artic Metagenomes                                                                                           & 59 & tundra    & soil\\\\\n",
       "\t F2U Metagenome                                                                                                            & 12 & grassland & soil\\\\\n",
       "\t Metagenomic analysis reveals distinct patterns of denitrification gene abundance across soil moisture;  nitrate gradients & 12 & forest    & soil\\\\\n",
       "\t Soil metagenome Metagenome                                                                                                & 11 & forest    & soil\\\\\n",
       "\\end{tabular}\n"
      ],
      "text/markdown": [
       "\n",
       "A tidytable: 4 × 4\n",
       "\n",
       "| project_name &lt;chr&gt; | n_samples &lt;int&gt; | TMDB_biome &lt;chr&gt; | TMDB_material &lt;chr&gt; |\n",
       "|---|---|---|---|\n",
       "| Canadian High Artic Metagenomes                                                                                           | 59 | tundra    | soil |\n",
       "| F2U Metagenome                                                                                                            | 12 | grassland | soil |\n",
       "| Metagenomic analysis reveals distinct patterns of denitrification gene abundance across soil moisture;  nitrate gradients | 12 | forest    | soil |\n",
       "| Soil metagenome Metagenome                                                                                                | 11 | forest    | soil |\n",
       "\n"
      ],
      "text/plain": [
       "  project_name                                                                                                             \n",
       "1 Canadian High Artic Metagenomes                                                                                          \n",
       "2 F2U Metagenome                                                                                                           \n",
       "3 Metagenomic analysis reveals distinct patterns of denitrification gene abundance across soil moisture;  nitrate gradients\n",
       "4 Soil metagenome Metagenome                                                                                               \n",
       "  n_samples TMDB_biome TMDB_material\n",
       "1 59        tundra     soil         \n",
       "2 12        grassland  soil         \n",
       "3 12        forest     soil         \n",
       "4 11        forest     soil         "
      ]
     },
     "metadata": {},
     "output_type": "display_data"
    }
   ],
   "source": [
    "to_keep = c(\n",
    "    'F2U Metagenome',\n",
    "    'Canadian High Artic Metagenomes',\n",
    "    'Metagenomic analysis reveals distinct patterns of denitrification gene abundance across soil moisture;  nitrate gradients',\n",
    "    'Soil metagenome Metagenome'\n",
    ")\n",
    "meta_f = meta_f %>%\n",
    "    filter.(project_name %in% to_keep)\n",
    "\n",
    "df.dims(20)\n",
    "meta_f %>%\n",
    "    distinct.(project_name, n_samples, TMDB_biome, TMDB_material) %>%\n",
    "    arrange.(-n_samples)\n",
    "df.dims()"
   ]
  },
  {
   "cell_type": "code",
   "execution_count": 45,
   "metadata": {
    "ExecuteTime": {
     "end_time": "2022-08-27T04:02:42.766790Z",
     "start_time": "2022-08-27T04:02:42.596Z"
    }
   },
   "outputs": [
    {
     "data": {
      "text/plain": [
       ".\n",
       "ILLUMINA \n",
       "      94 "
      ]
     },
     "metadata": {},
     "output_type": "display_data"
    },
    {
     "data": {
      "text/plain": [
       ".\n",
       "No \n",
       "94 "
      ]
     },
     "metadata": {},
     "output_type": "display_data"
    }
   ],
   "source": [
    "# platform\n",
    "meta_f$seq_platform %>% table\n",
    "meta_f$assembled %>% table"
   ]
  },
  {
   "cell_type": "code",
   "execution_count": 46,
   "metadata": {
    "ExecuteTime": {
     "end_time": "2022-08-27T04:02:46.906139Z",
     "start_time": "2022-08-27T04:02:46.729Z"
    }
   },
   "outputs": [
    {
     "data": {
      "text/html": [
       "<table class=\"dataframe\">\n",
       "<caption>A matrix: 1 × 8 of type dbl</caption>\n",
       "<thead>\n",
       "\t<tr><th></th><th scope=col>Min.</th><th scope=col>1st Qu.</th><th scope=col>Median</th><th scope=col>Mean</th><th scope=col>3rd Qu.</th><th scope=col>Max.</th><th scope=col>sd</th><th scope=col>sd_err_of_mean</th></tr>\n",
       "</thead>\n",
       "<tbody>\n",
       "\t<tr><th scope=row>sequence_count</th><td>7247563</td><td>18360867</td><td>24687544</td><td>26546168</td><td>34702348</td><td>48754266</td><td>10625306</td><td>4337763</td></tr>\n",
       "</tbody>\n",
       "</table>\n"
      ],
      "text/latex": [
       "A matrix: 1 × 8 of type dbl\n",
       "\\begin{tabular}{r|llllllll}\n",
       "  & Min. & 1st Qu. & Median & Mean & 3rd Qu. & Max. & sd & sd\\_err\\_of\\_mean\\\\\n",
       "\\hline\n",
       "\tsequence\\_count & 7247563 & 18360867 & 24687544 & 26546168 & 34702348 & 48754266 & 10625306 & 4337763\\\\\n",
       "\\end{tabular}\n"
      ],
      "text/markdown": [
       "\n",
       "A matrix: 1 × 8 of type dbl\n",
       "\n",
       "| <!--/--> | Min. | 1st Qu. | Median | Mean | 3rd Qu. | Max. | sd | sd_err_of_mean |\n",
       "|---|---|---|---|---|---|---|---|---|\n",
       "| sequence_count | 7247563 | 18360867 | 24687544 | 26546168 | 34702348 | 48754266 | 10625306 | 4337763 |\n",
       "\n"
      ],
      "text/plain": [
       "               Min.    1st Qu.  Median   Mean     3rd Qu.  Max.     sd      \n",
       "sequence_count 7247563 18360867 24687544 26546168 34702348 48754266 10625306\n",
       "               sd_err_of_mean\n",
       "sequence_count 4337763       "
      ]
     },
     "metadata": {},
     "output_type": "display_data"
    },
    {
     "data": {
      "text/html": [
       "<table class=\"dataframe\">\n",
       "<caption>A matrix: 1 × 8 of type dbl</caption>\n",
       "<thead>\n",
       "\t<tr><th></th><th scope=col>Min.</th><th scope=col>1st Qu.</th><th scope=col>Median</th><th scope=col>Mean</th><th scope=col>3rd Qu.</th><th scope=col>Max.</th><th scope=col>sd</th><th scope=col>sd_err_of_mean</th></tr>\n",
       "</thead>\n",
       "<tbody>\n",
       "\t<tr><th scope=row>average_length</th><td>101</td><td>202</td><td>202</td><td>194.1915</td><td>202</td><td>300</td><td>45.758</td><td>18.681</td></tr>\n",
       "</tbody>\n",
       "</table>\n"
      ],
      "text/latex": [
       "A matrix: 1 × 8 of type dbl\n",
       "\\begin{tabular}{r|llllllll}\n",
       "  & Min. & 1st Qu. & Median & Mean & 3rd Qu. & Max. & sd & sd\\_err\\_of\\_mean\\\\\n",
       "\\hline\n",
       "\taverage\\_length & 101 & 202 & 202 & 194.1915 & 202 & 300 & 45.758 & 18.681\\\\\n",
       "\\end{tabular}\n"
      ],
      "text/markdown": [
       "\n",
       "A matrix: 1 × 8 of type dbl\n",
       "\n",
       "| <!--/--> | Min. | 1st Qu. | Median | Mean | 3rd Qu. | Max. | sd | sd_err_of_mean |\n",
       "|---|---|---|---|---|---|---|---|---|\n",
       "| average_length | 101 | 202 | 202 | 194.1915 | 202 | 300 | 45.758 | 18.681 |\n",
       "\n"
      ],
      "text/plain": [
       "               Min. 1st Qu. Median Mean     3rd Qu. Max. sd     sd_err_of_mean\n",
       "average_length 101  202     202    194.1915 202     300  45.758 18.681        "
      ]
     },
     "metadata": {},
     "output_type": "display_data"
    }
   ],
   "source": [
    "# sequences\n",
    "summary_x(meta_f$sequence_count)\n",
    "summary_x(meta_f$average_length)"
   ]
  },
  {
   "cell_type": "code",
   "execution_count": 78,
   "metadata": {
    "ExecuteTime": {
     "end_time": "2022-08-27T13:47:10.152908Z",
     "start_time": "2022-08-27T13:47:10.014Z"
    }
   },
   "outputs": [
    {
     "data": {
      "text/html": [
       "<table class=\"dataframe\">\n",
       "<caption>A tidytable: 4 × 4</caption>\n",
       "<thead>\n",
       "\t<tr><th scope=col>project_name</th><th scope=col>n_samples</th><th scope=col>TMDB_biome</th><th scope=col>TMDB_material</th></tr>\n",
       "\t<tr><th scope=col>&lt;chr&gt;</th><th scope=col>&lt;int&gt;</th><th scope=col>&lt;chr&gt;</th><th scope=col>&lt;chr&gt;</th></tr>\n",
       "</thead>\n",
       "<tbody>\n",
       "\t<tr><td>Canadian High Artic Metagenomes                                                                                          </td><td>59</td><td>tundra   </td><td>soil</td></tr>\n",
       "\t<tr><td>F2U Metagenome                                                                                                           </td><td>12</td><td>grassland</td><td>soil</td></tr>\n",
       "\t<tr><td>Metagenomic analysis reveals distinct patterns of denitrification gene abundance across soil moisture;  nitrate gradients</td><td>12</td><td>forest   </td><td>soil</td></tr>\n",
       "\t<tr><td>Soil metagenome Metagenome                                                                                               </td><td>11</td><td>forest   </td><td>soil</td></tr>\n",
       "</tbody>\n",
       "</table>\n"
      ],
      "text/latex": [
       "A tidytable: 4 × 4\n",
       "\\begin{tabular}{llll}\n",
       " project\\_name & n\\_samples & TMDB\\_biome & TMDB\\_material\\\\\n",
       " <chr> & <int> & <chr> & <chr>\\\\\n",
       "\\hline\n",
       "\t Canadian High Artic Metagenomes                                                                                           & 59 & tundra    & soil\\\\\n",
       "\t F2U Metagenome                                                                                                            & 12 & grassland & soil\\\\\n",
       "\t Metagenomic analysis reveals distinct patterns of denitrification gene abundance across soil moisture;  nitrate gradients & 12 & forest    & soil\\\\\n",
       "\t Soil metagenome Metagenome                                                                                                & 11 & forest    & soil\\\\\n",
       "\\end{tabular}\n"
      ],
      "text/markdown": [
       "\n",
       "A tidytable: 4 × 4\n",
       "\n",
       "| project_name &lt;chr&gt; | n_samples &lt;int&gt; | TMDB_biome &lt;chr&gt; | TMDB_material &lt;chr&gt; |\n",
       "|---|---|---|---|\n",
       "| Canadian High Artic Metagenomes                                                                                           | 59 | tundra    | soil |\n",
       "| F2U Metagenome                                                                                                            | 12 | grassland | soil |\n",
       "| Metagenomic analysis reveals distinct patterns of denitrification gene abundance across soil moisture;  nitrate gradients | 12 | forest    | soil |\n",
       "| Soil metagenome Metagenome                                                                                                | 11 | forest    | soil |\n",
       "\n"
      ],
      "text/plain": [
       "  project_name                                                                                                             \n",
       "1 Canadian High Artic Metagenomes                                                                                          \n",
       "2 F2U Metagenome                                                                                                           \n",
       "3 Metagenomic analysis reveals distinct patterns of denitrification gene abundance across soil moisture;  nitrate gradients\n",
       "4 Soil metagenome Metagenome                                                                                               \n",
       "  n_samples TMDB_biome TMDB_material\n",
       "1 59        tundra     soil         \n",
       "2 12        grassland  soil         \n",
       "3 12        forest     soil         \n",
       "4 11        forest     soil         "
      ]
     },
     "metadata": {},
     "output_type": "display_data"
    }
   ],
   "source": [
    "# filtering by seq count\n",
    "meta_f = meta_f %>%\n",
    "    filter.(sequence_count < 5e8)\n",
    "\n",
    "df.dims(20)\n",
    "meta_f %>%\n",
    "    distinct.(project_name, n_samples, TMDB_biome, TMDB_material) %>%\n",
    "    arrange.(-n_samples)\n",
    "df.dims()"
   ]
  },
  {
   "cell_type": "markdown",
   "metadata": {
    "ExecuteTime": {
     "end_time": "2022-08-27T03:36:23.213086Z",
     "start_time": "2022-08-27T03:36:23.146Z"
    }
   },
   "source": [
    "### Writing samples table"
   ]
  },
  {
   "cell_type": "code",
   "execution_count": 75,
   "metadata": {
    "ExecuteTime": {
     "end_time": "2022-08-27T08:59:07.500207Z",
     "start_time": "2022-08-27T08:59:07.261Z"
    }
   },
   "outputs": [
    {
     "data": {
      "text/html": [
       "<table class=\"dataframe\">\n",
       "<caption>A tidytable: 94 × 43</caption>\n",
       "<thead>\n",
       "\t<tr><th scope=col>Project</th><th scope=col>Sample</th><th scope=col>Remote</th><th scope=col>Run</th><th scope=col>Lane</th><th scope=col>library_id</th><th scope=col>project_id</th><th scope=col>sample_id</th><th scope=col>TMDB_material</th><th scope=col>TMDB_biome</th><th scope=col>⋯</th><th scope=col>assembled</th><th scope=col>sequence_count</th><th scope=col>basepairs_count</th><th scope=col>average_length</th><th scope=col>quality_above_30_SRA</th><th scope=col>mean_quality_SRA</th><th scope=col>drisee_score_raw_MGRAST</th><th scope=col>creation_date</th><th scope=col>source_database</th><th scope=col>n_samples</th></tr>\n",
       "\t<tr><th scope=col>&lt;chr&gt;</th><th scope=col>&lt;chr&gt;</th><th scope=col>&lt;chr&gt;</th><th scope=col>&lt;dbl&gt;</th><th scope=col>&lt;dbl&gt;</th><th scope=col>&lt;chr&gt;</th><th scope=col>&lt;chr&gt;</th><th scope=col>&lt;chr&gt;</th><th scope=col>&lt;chr&gt;</th><th scope=col>&lt;chr&gt;</th><th scope=col>⋯</th><th scope=col>&lt;chr&gt;</th><th scope=col>&lt;int&gt;</th><th scope=col>&lt;int64&gt;</th><th scope=col>&lt;int&gt;</th><th scope=col>&lt;int&gt;</th><th scope=col>&lt;dbl&gt;</th><th scope=col>&lt;lgl&gt;</th><th scope=col>&lt;date&gt;</th><th scope=col>&lt;chr&gt;</th><th scope=col>&lt;int&gt;</th></tr>\n",
       "</thead>\n",
       "<tbody>\n",
       "\t<tr><td>F2U_Metagenome</td><td>SRS497392</td><td>SRR1022653</td><td>1</td><td>1</td><td>SRR1022653</td><td>SRX371704</td><td>SRS497392</td><td>soil</td><td>grassland</td><td>⋯</td><td>No</td><td>14389397</td><td>2906658194</td><td>202</td><td>83</td><td>32.74</td><td>NA</td><td>2013-12-09</td><td>SRA</td><td>12</td></tr>\n",
       "\t<tr><td>F2U_Metagenome</td><td>SRS497473</td><td>SRR1022935</td><td>1</td><td>1</td><td>SRR1022935</td><td>SRX372043</td><td>SRS497473</td><td>soil</td><td>grassland</td><td>⋯</td><td>No</td><td> 7758229</td><td>1567162258</td><td>202</td><td>83</td><td>32.57</td><td>NA</td><td>2013-12-09</td><td>SRA</td><td>12</td></tr>\n",
       "\t<tr><td>⋮</td><td>⋮</td><td>⋮</td><td>⋮</td><td>⋮</td><td>⋮</td><td>⋮</td><td>⋮</td><td>⋮</td><td>⋮</td><td>⋱</td><td>⋮</td><td>⋮</td><td>⋮</td><td>⋮</td><td>⋮</td><td>⋮</td><td>⋮</td><td>⋮</td><td>⋮</td><td>⋮</td></tr>\n",
       "\t<tr><td>Soil_metagenome_Metagenome</td><td>SRS4302113</td><td>SRR8500484</td><td>1</td><td>1</td><td>SRR8500484</td><td>SRX5304460</td><td>SRS4302113</td><td>soil</td><td>forest</td><td>⋯</td><td>No</td><td>20914738</td><td>6274421400</td><td>300</td><td>93</td><td>39.28</td><td>NA</td><td>2019-01-28</td><td>SRA</td><td>11</td></tr>\n",
       "\t<tr><td>Soil_metagenome_Metagenome</td><td>SRS4302111</td><td>SRR8500486</td><td>1</td><td>1</td><td>SRR8500486</td><td>SRX5304458</td><td>SRS4302111</td><td>soil</td><td>forest</td><td>⋯</td><td>No</td><td>16571116</td><td>2485667400</td><td>150</td><td>95</td><td>39.90</td><td>NA</td><td>2019-01-28</td><td>SRA</td><td>11</td></tr>\n",
       "</tbody>\n",
       "</table>\n"
      ],
      "text/latex": [
       "A tidytable: 94 × 43\n",
       "\\begin{tabular}{lllllllllllllllllllll}\n",
       " Project & Sample & Remote & Run & Lane & library\\_id & project\\_id & sample\\_id & TMDB\\_material & TMDB\\_biome & ⋯ & assembled & sequence\\_count & basepairs\\_count & average\\_length & quality\\_above\\_30\\_SRA & mean\\_quality\\_SRA & drisee\\_score\\_raw\\_MGRAST & creation\\_date & source\\_database & n\\_samples\\\\\n",
       " <chr> & <chr> & <chr> & <dbl> & <dbl> & <chr> & <chr> & <chr> & <chr> & <chr> & ⋯ & <chr> & <int> & <int64> & <int> & <int> & <dbl> & <lgl> & <date> & <chr> & <int>\\\\\n",
       "\\hline\n",
       "\t F2U\\_Metagenome & SRS497392 & SRR1022653 & 1 & 1 & SRR1022653 & SRX371704 & SRS497392 & soil & grassland & ⋯ & No & 14389397 & 2906658194 & 202 & 83 & 32.74 & NA & 2013-12-09 & SRA & 12\\\\\n",
       "\t F2U\\_Metagenome & SRS497473 & SRR1022935 & 1 & 1 & SRR1022935 & SRX372043 & SRS497473 & soil & grassland & ⋯ & No &  7758229 & 1567162258 & 202 & 83 & 32.57 & NA & 2013-12-09 & SRA & 12\\\\\n",
       "\t ⋮ & ⋮ & ⋮ & ⋮ & ⋮ & ⋮ & ⋮ & ⋮ & ⋮ & ⋮ & ⋱ & ⋮ & ⋮ & ⋮ & ⋮ & ⋮ & ⋮ & ⋮ & ⋮ & ⋮ & ⋮\\\\\n",
       "\t Soil\\_metagenome\\_Metagenome & SRS4302113 & SRR8500484 & 1 & 1 & SRR8500484 & SRX5304460 & SRS4302113 & soil & forest & ⋯ & No & 20914738 & 6274421400 & 300 & 93 & 39.28 & NA & 2019-01-28 & SRA & 11\\\\\n",
       "\t Soil\\_metagenome\\_Metagenome & SRS4302111 & SRR8500486 & 1 & 1 & SRR8500486 & SRX5304458 & SRS4302111 & soil & forest & ⋯ & No & 16571116 & 2485667400 & 150 & 95 & 39.90 & NA & 2019-01-28 & SRA & 11\\\\\n",
       "\\end{tabular}\n"
      ],
      "text/markdown": [
       "\n",
       "A tidytable: 94 × 43\n",
       "\n",
       "| Project &lt;chr&gt; | Sample &lt;chr&gt; | Remote &lt;chr&gt; | Run &lt;dbl&gt; | Lane &lt;dbl&gt; | library_id &lt;chr&gt; | project_id &lt;chr&gt; | sample_id &lt;chr&gt; | TMDB_material &lt;chr&gt; | TMDB_biome &lt;chr&gt; | ⋯ ⋯ | assembled &lt;chr&gt; | sequence_count &lt;int&gt; | basepairs_count &lt;int64&gt; | average_length &lt;int&gt; | quality_above_30_SRA &lt;int&gt; | mean_quality_SRA &lt;dbl&gt; | drisee_score_raw_MGRAST &lt;lgl&gt; | creation_date &lt;date&gt; | source_database &lt;chr&gt; | n_samples &lt;int&gt; |\n",
       "|---|---|---|---|---|---|---|---|---|---|---|---|---|---|---|---|---|---|---|---|---|\n",
       "| F2U_Metagenome | SRS497392 | SRR1022653 | 1 | 1 | SRR1022653 | SRX371704 | SRS497392 | soil | grassland | ⋯ | No | 14389397 | 2906658194 | 202 | 83 | 32.74 | NA | 2013-12-09 | SRA | 12 |\n",
       "| F2U_Metagenome | SRS497473 | SRR1022935 | 1 | 1 | SRR1022935 | SRX372043 | SRS497473 | soil | grassland | ⋯ | No |  7758229 | 1567162258 | 202 | 83 | 32.57 | NA | 2013-12-09 | SRA | 12 |\n",
       "| ⋮ | ⋮ | ⋮ | ⋮ | ⋮ | ⋮ | ⋮ | ⋮ | ⋮ | ⋮ | ⋱ | ⋮ | ⋮ | ⋮ | ⋮ | ⋮ | ⋮ | ⋮ | ⋮ | ⋮ | ⋮ |\n",
       "| Soil_metagenome_Metagenome | SRS4302113 | SRR8500484 | 1 | 1 | SRR8500484 | SRX5304460 | SRS4302113 | soil | forest | ⋯ | No | 20914738 | 6274421400 | 300 | 93 | 39.28 | NA | 2019-01-28 | SRA | 11 |\n",
       "| Soil_metagenome_Metagenome | SRS4302111 | SRR8500486 | 1 | 1 | SRR8500486 | SRX5304458 | SRS4302111 | soil | forest | ⋯ | No | 16571116 | 2485667400 | 150 | 95 | 39.90 | NA | 2019-01-28 | SRA | 11 |\n",
       "\n"
      ],
      "text/plain": [
       "   Project                    Sample     Remote     Run Lane library_id\n",
       "1  F2U_Metagenome             SRS497392  SRR1022653 1   1    SRR1022653\n",
       "2  F2U_Metagenome             SRS497473  SRR1022935 1   1    SRR1022935\n",
       "⋮  ⋮                          ⋮          ⋮          ⋮   ⋮    ⋮         \n",
       "93 Soil_metagenome_Metagenome SRS4302113 SRR8500484 1   1    SRR8500484\n",
       "94 Soil_metagenome_Metagenome SRS4302111 SRR8500486 1   1    SRR8500486\n",
       "   project_id sample_id  TMDB_material TMDB_biome ⋯ assembled sequence_count\n",
       "1  SRX371704  SRS497392  soil          grassland  ⋯ No        14389397      \n",
       "2  SRX372043  SRS497473  soil          grassland  ⋯ No         7758229      \n",
       "⋮  ⋮          ⋮          ⋮             ⋮          ⋱ ⋮         ⋮             \n",
       "93 SRX5304460 SRS4302113 soil          forest     ⋯ No        20914738      \n",
       "94 SRX5304458 SRS4302111 soil          forest     ⋯ No        16571116      \n",
       "   basepairs_count average_length quality_above_30_SRA mean_quality_SRA\n",
       "1  2906658194      202            83                   32.74           \n",
       "2  1567162258      202            83                   32.57           \n",
       "⋮  ⋮               ⋮              ⋮                    ⋮               \n",
       "93 6274421400      300            93                   39.28           \n",
       "94 2485667400      150            95                   39.90           \n",
       "   drisee_score_raw_MGRAST creation_date source_database n_samples\n",
       "1  NA                      2013-12-09    SRA             12       \n",
       "2  NA                      2013-12-09    SRA             12       \n",
       "⋮  ⋮                       ⋮             ⋮               ⋮        \n",
       "93 NA                      2019-01-28    SRA             11       \n",
       "94 NA                      2019-01-28    SRA             11       "
      ]
     },
     "metadata": {},
     "output_type": "display_data"
    }
   ],
   "source": [
    "# formatting\n",
    "x = 'Metagenomic analysis reveals distinct patterns of denitrification gene abundance across soil moisture;  nitrate gradients'\n",
    "samps = meta_f %>%\n",
    "    mutate.(Project = ifelse(project_name == x, 'Soil metagenome Metagenome', project_name),\n",
    "            Project = gsub('[^A-Za-z0-9_-]+', '_', Project)) %>%\n",
    "    mutate.(Sample = sample_id,\n",
    "            Remote = library_id, \n",
    "            Run = 1,\n",
    "            Lane = 1) %>%\n",
    "    relocate(Lane) %>%\n",
    "    relocate(Run) %>%\n",
    "    relocate(Remote)%>%\n",
    "    relocate(Sample)%>%\n",
    "    relocate(Project)\n",
    "samps"
   ]
  },
  {
   "cell_type": "code",
   "execution_count": 76,
   "metadata": {
    "ExecuteTime": {
     "end_time": "2022-08-27T08:59:22.565136Z",
     "start_time": "2022-08-27T08:59:22.351Z"
    }
   },
   "outputs": [
    {
     "data": {
      "text/html": [
       "<table class=\"dataframe\">\n",
       "<caption>A matrix: 1 × 8 of type dbl</caption>\n",
       "<thead>\n",
       "\t<tr><th></th><th scope=col>Min.</th><th scope=col>1st Qu.</th><th scope=col>Median</th><th scope=col>Mean</th><th scope=col>3rd Qu.</th><th scope=col>Max.</th><th scope=col>sd</th><th scope=col>sd_err_of_mean</th></tr>\n",
       "</thead>\n",
       "<tbody>\n",
       "\t<tr><th scope=row>No. of records per sample_id</th><td>1</td><td>1</td><td>1</td><td>1</td><td>1</td><td>1</td><td>0</td><td>0</td></tr>\n",
       "</tbody>\n",
       "</table>\n"
      ],
      "text/latex": [
       "A matrix: 1 × 8 of type dbl\n",
       "\\begin{tabular}{r|llllllll}\n",
       "  & Min. & 1st Qu. & Median & Mean & 3rd Qu. & Max. & sd & sd\\_err\\_of\\_mean\\\\\n",
       "\\hline\n",
       "\tNo. of records per sample\\_id & 1 & 1 & 1 & 1 & 1 & 1 & 0 & 0\\\\\n",
       "\\end{tabular}\n"
      ],
      "text/markdown": [
       "\n",
       "A matrix: 1 × 8 of type dbl\n",
       "\n",
       "| <!--/--> | Min. | 1st Qu. | Median | Mean | 3rd Qu. | Max. | sd | sd_err_of_mean |\n",
       "|---|---|---|---|---|---|---|---|---|\n",
       "| No. of records per sample_id | 1 | 1 | 1 | 1 | 1 | 1 | 0 | 0 |\n",
       "\n"
      ],
      "text/plain": [
       "                             Min. 1st Qu. Median Mean 3rd Qu. Max. sd\n",
       "No. of records per sample_id 1    1       1      1    1       1    0 \n",
       "                             sd_err_of_mean\n",
       "No. of records per sample_id 0             "
      ]
     },
     "metadata": {},
     "output_type": "display_data"
    },
    {
     "data": {
      "text/html": [
       "<table class=\"dataframe\">\n",
       "<caption>A matrix: 1 × 8 of type dbl</caption>\n",
       "<thead>\n",
       "\t<tr><th></th><th scope=col>Min.</th><th scope=col>1st Qu.</th><th scope=col>Median</th><th scope=col>Mean</th><th scope=col>3rd Qu.</th><th scope=col>Max.</th><th scope=col>sd</th><th scope=col>sd_err_of_mean</th></tr>\n",
       "</thead>\n",
       "<tbody>\n",
       "\t<tr><th scope=row>No. of records per library_id</th><td>1</td><td>1</td><td>1</td><td>1</td><td>1</td><td>1</td><td>0</td><td>0</td></tr>\n",
       "</tbody>\n",
       "</table>\n"
      ],
      "text/latex": [
       "A matrix: 1 × 8 of type dbl\n",
       "\\begin{tabular}{r|llllllll}\n",
       "  & Min. & 1st Qu. & Median & Mean & 3rd Qu. & Max. & sd & sd\\_err\\_of\\_mean\\\\\n",
       "\\hline\n",
       "\tNo. of records per library\\_id & 1 & 1 & 1 & 1 & 1 & 1 & 0 & 0\\\\\n",
       "\\end{tabular}\n"
      ],
      "text/markdown": [
       "\n",
       "A matrix: 1 × 8 of type dbl\n",
       "\n",
       "| <!--/--> | Min. | 1st Qu. | Median | Mean | 3rd Qu. | Max. | sd | sd_err_of_mean |\n",
       "|---|---|---|---|---|---|---|---|---|\n",
       "| No. of records per library_id | 1 | 1 | 1 | 1 | 1 | 1 | 0 | 0 |\n",
       "\n"
      ],
      "text/plain": [
       "                              Min. 1st Qu. Median Mean 3rd Qu. Max. sd\n",
       "No. of records per library_id 1    1       1      1    1       1    0 \n",
       "                              sd_err_of_mean\n",
       "No. of records per library_id 0             "
      ]
     },
     "metadata": {},
     "output_type": "display_data"
    }
   ],
   "source": [
    "# unique records?\n",
    "samps %>%\n",
    "    summarize.(n_recs = n.(), .by = c(sample_id)) %>%\n",
    "    .$n_recs %>% summary_x('No. of records per sample_id')\n",
    "\n",
    "# unique records?\n",
    "samps %>%\n",
    "    summarize.(n_recs = n.(), .by = c(library_id)) %>%\n",
    "    .$n_recs %>% summary_x('No. of records per library_id')"
   ]
  },
  {
   "cell_type": "code",
   "execution_count": 72,
   "metadata": {
    "ExecuteTime": {
     "end_time": "2022-08-27T08:57:10.471966Z",
     "start_time": "2022-08-27T08:57:10.272Z"
    }
   },
   "outputs": [
    {
     "name": "stdout",
     "output_type": "stream",
     "text": [
      "Directory already exists: /ebio/abt3_projects/databases_no-backup/DeepMAsED/version2/real_data_eval/tmdb//LLMGQC \n",
      "File written: /ebio/abt3_projects/databases_no-backup/DeepMAsED/version2/real_data_eval/tmdb//LLMGQC/samples.tsv \n"
     ]
    }
   ],
   "source": [
    "# writing\n",
    "D = file.path(work_dir, 'LLMGQC')\n",
    "make_dir(D)\n",
    "F = file.path(D, 'samples.tsv')\n",
    "write_table(samps, F)"
   ]
  },
  {
   "cell_type": "markdown",
   "metadata": {},
   "source": [
    "# Sequence download & QC"
   ]
  },
  {
   "cell_type": "markdown",
   "metadata": {},
   "source": [
    "## LLMGQC pipeline"
   ]
  },
  {
   "cell_type": "markdown",
   "metadata": {},
   "source": [
    "### Config"
   ]
  },
  {
   "cell_type": "code",
   "execution_count": 68,
   "metadata": {
    "ExecuteTime": {
     "end_time": "2022-08-27T04:16:02.481053Z",
     "start_time": "2022-08-27T04:16:02.283Z"
    }
   },
   "outputs": [
    {
     "name": "stdout",
     "output_type": "stream",
     "text": [
      "#-- I/O --#\n",
      "# table with sample --> read_file information\n",
      "samples_file: /ebio/abt3_projects/databases_no-backup/DeepMAsED/version2/real_data_eval/tmdb/LLMGQC/samples.tsv\n",
      "\n",
      "# output location\n",
      "output_dir: /ebio/abt3_projects/databases_no-backup/DeepMAsED/version2/real_data_eval/tmdb/LLMGQC/\n",
      "\n",
      "# temporary file directory (your username will be added automatically)\n",
      "tmp_dir: /ebio/abt3_scratch/\n",
      "\n",
      "# ionice for reducing I/O load (use \"-c 2\" for noraml I/O usage) \n",
      "ionice: -c 3 \n",
      "\n",
      "#-- Software parameters --#\n",
      "# See the README for info on all major parameters\n",
      "# Use \"Skip\" to skip any of these steps. If no params for rule, use: \"\"\n",
      "params:\n",
      "  just_read1: False\n",
      "  download:\n",
      "    dump: --dump-method fasterq-dump --use-prefetch --bufsize 50M\n",
      "  initial_checks:\n",
      "    validate_reads: \"\"\n",
      "    convert_fastq_to_1.8: \"\"\n",
      "  subsample:\n",
      "    num_reads: Skip\n",
      "  raw:\n",
      "    seqkit: \"\"\n",
      "    fastqc: \"\"\n",
      "  deduplication:\n",
      "    clumpify: Skip #dedupe=t dupedist=40 optical=t spany=t adjacent=t\n",
      "    seqkit: \"\"\n",
      "    fastqc: \"\"\n",
      "  quality:      \n",
      "    bbduk: ref=./adapters/bbmap_adapters.fa fastawrap=300 k=23\n",
      "    skewer: -x ./adapters/PE_all.fa -n -l 100 -q 25\n",
      "    seqkit: \"\"\n",
      "    fastqc: \"\"\n",
      "  filter:       \n",
      "    bbmap: minratio=0.9 maxindel=1 bwr=0.16 bw=12 fast minhits=2 qtrim=r trimq=10 untrim\n",
      "           idtag printunmappedcount kfilter=25 maxsites=1 k=14 pairlen=1000 rescuedist=1000\n",
      "    ikraken2: Skip #--confidence 0.7\n",
      "    seqkit: \"\"\n",
      "    fastqc: \"\"\n",
      "  final:\n",
      "    seqkit: \"\"\n",
      "    fastqc: \"\"\n",
      "  coverage:\n",
      "    nonpareil: -T kmer\n",
      "    nonpareil_summary: 1e9      \n",
      "  skip_all:\n",
      "    seqkit: False\n",
      "    fastqc: False\n",
      "    QC: False\n",
      "\n",
      "#-- Databases --#\n",
      "databases:\n",
      "  ## hg19 = human genome database for filtering out human reads\n",
      "  bbmap: /ebio/abt3_projects/databases_no-backup/Homo_sapiens/hg19/hg19\n",
      "  # ikraken2 (iterative kraken2-based read filtering)\n",
      "  ikraken2:  \n",
      "    animal_genomes: /ebio/abt3_projects/databases_no-backup/kraken2/animal_gut_microbiome_200908_db/kraken2/\n",
      "    vertebrate_all_nt: /ebio/abt3_projects/databases_no-backup/kraken2/vertebrata-all_nt_db/\n",
      "    plant: /ebio/abt3_projects/databases_no-backup/kraken2/plant_db/\n",
      "    fungi:  /ebio/abt3_projects/databases_no-backup/kraken2/fungi_db/\n",
      "    protozoa: /ebio/abt3_projects/databases_no-backup/kraken2/protozoa_db/\n",
      "    human: /ebio/abt3_projects/databases_no-backup/kraken2/human_db/\n",
      "    univec: /ebio/abt3_projects/databases_no-backup/kraken2/UniVec_Core_db/\n",
      "\n",
      "#-- Snakemake pipeline --#\n",
      "pipeline:\n",
      "  snakemake_folder: ./\n",
      "  script_folder: ./bin/scripts/\n",
      "  run_skip_locally: True        # trivial \"skip\" steps run locally (not qsub)\n",
      "  export_conda: True\n",
      "  name: LLMGQC"
     ]
    }
   ],
   "source": [
    "F = file.path(D, 'config.yaml')\n",
    "cat_file(F)"
   ]
  },
  {
   "cell_type": "markdown",
   "metadata": {},
   "source": [
    "### Run"
   ]
  },
  {
   "cell_type": "markdown",
   "metadata": {},
   "source": [
    "```\n",
    "(snakemake) rick: /tmp/global2/nyoungblut/code/dev/ll_pipelines/llmgqc\n",
    "$ screen -L -S llmgqc-tmdb ./snakemake_sge.sh /ebio/abt3_projects/databases_no-backup/DeepMAsED/version2/real_data_eval/tmdb/LLMGQC/config.yaml 30 -F\n",
    "```"
   ]
  },
  {
   "cell_type": "markdown",
   "metadata": {},
   "source": [
    "## Summary"
   ]
  },
  {
   "cell_type": "code",
   "execution_count": 118,
   "metadata": {
    "ExecuteTime": {
     "end_time": "2022-09-19T15:22:21.776876Z",
     "start_time": "2022-09-19T15:22:21.630Z"
    }
   },
   "outputs": [
    {
     "data": {
      "text/html": [
       "<table class=\"dataframe\">\n",
       "<caption>A data.table: 94 × 4</caption>\n",
       "<thead>\n",
       "\t<tr><th scope=col>Sample</th><th scope=col>Read1</th><th scope=col>Read2</th><th scope=col>Notes</th></tr>\n",
       "\t<tr><th scope=col>&lt;chr&gt;</th><th scope=col>&lt;chr&gt;</th><th scope=col>&lt;chr&gt;</th><th scope=col>&lt;lgl&gt;</th></tr>\n",
       "</thead>\n",
       "<tbody>\n",
       "\t<tr><td>ERS2696214</td><td></td><td></td><td>NA</td></tr>\n",
       "\t<tr><td>ERS2696215</td><td></td><td></td><td>NA</td></tr>\n",
       "\t<tr><td>⋮</td><td>⋮</td><td>⋮</td><td>⋮</td></tr>\n",
       "\t<tr><td>SRS709374</td><td>/ebio/abt3_projects/databases_no-backup/DeepMAsED/version2/real_data_eval/tmdb/LLMGQC/final/SRS709374/R1_final.fq.gz</td><td>/ebio/abt3_projects/databases_no-backup/DeepMAsED/version2/real_data_eval/tmdb/LLMGQC/final/SRS709374/R2_final.fq.gz</td><td>NA</td></tr>\n",
       "\t<tr><td>SRS709375</td><td>/ebio/abt3_projects/databases_no-backup/DeepMAsED/version2/real_data_eval/tmdb/LLMGQC/final/SRS709375/R1_final.fq.gz</td><td>/ebio/abt3_projects/databases_no-backup/DeepMAsED/version2/real_data_eval/tmdb/LLMGQC/final/SRS709375/R2_final.fq.gz</td><td>NA</td></tr>\n",
       "</tbody>\n",
       "</table>\n"
      ],
      "text/latex": [
       "A data.table: 94 × 4\n",
       "\\begin{tabular}{llll}\n",
       " Sample & Read1 & Read2 & Notes\\\\\n",
       " <chr> & <chr> & <chr> & <lgl>\\\\\n",
       "\\hline\n",
       "\t ERS2696214 &  &  & NA\\\\\n",
       "\t ERS2696215 &  &  & NA\\\\\n",
       "\t ⋮ & ⋮ & ⋮ & ⋮\\\\\n",
       "\t SRS709374 & /ebio/abt3\\_projects/databases\\_no-backup/DeepMAsED/version2/real\\_data\\_eval/tmdb/LLMGQC/final/SRS709374/R1\\_final.fq.gz & /ebio/abt3\\_projects/databases\\_no-backup/DeepMAsED/version2/real\\_data\\_eval/tmdb/LLMGQC/final/SRS709374/R2\\_final.fq.gz & NA\\\\\n",
       "\t SRS709375 & /ebio/abt3\\_projects/databases\\_no-backup/DeepMAsED/version2/real\\_data\\_eval/tmdb/LLMGQC/final/SRS709375/R1\\_final.fq.gz & /ebio/abt3\\_projects/databases\\_no-backup/DeepMAsED/version2/real\\_data\\_eval/tmdb/LLMGQC/final/SRS709375/R2\\_final.fq.gz & NA\\\\\n",
       "\\end{tabular}\n"
      ],
      "text/markdown": [
       "\n",
       "A data.table: 94 × 4\n",
       "\n",
       "| Sample &lt;chr&gt; | Read1 &lt;chr&gt; | Read2 &lt;chr&gt; | Notes &lt;lgl&gt; |\n",
       "|---|---|---|---|\n",
       "| ERS2696214 | <!----> | <!----> | NA |\n",
       "| ERS2696215 | <!----> | <!----> | NA |\n",
       "| ⋮ | ⋮ | ⋮ | ⋮ |\n",
       "| SRS709374 | /ebio/abt3_projects/databases_no-backup/DeepMAsED/version2/real_data_eval/tmdb/LLMGQC/final/SRS709374/R1_final.fq.gz | /ebio/abt3_projects/databases_no-backup/DeepMAsED/version2/real_data_eval/tmdb/LLMGQC/final/SRS709374/R2_final.fq.gz | NA |\n",
       "| SRS709375 | /ebio/abt3_projects/databases_no-backup/DeepMAsED/version2/real_data_eval/tmdb/LLMGQC/final/SRS709375/R1_final.fq.gz | /ebio/abt3_projects/databases_no-backup/DeepMAsED/version2/real_data_eval/tmdb/LLMGQC/final/SRS709375/R2_final.fq.gz | NA |\n",
       "\n"
      ],
      "text/plain": [
       "   Sample    \n",
       "1  ERS2696214\n",
       "2  ERS2696215\n",
       "⋮  ⋮         \n",
       "93 SRS709374 \n",
       "94 SRS709375 \n",
       "   Read1                                                                                                               \n",
       "1                                                                                                                      \n",
       "2                                                                                                                      \n",
       "⋮  ⋮                                                                                                                   \n",
       "93 /ebio/abt3_projects/databases_no-backup/DeepMAsED/version2/real_data_eval/tmdb/LLMGQC/final/SRS709374/R1_final.fq.gz\n",
       "94 /ebio/abt3_projects/databases_no-backup/DeepMAsED/version2/real_data_eval/tmdb/LLMGQC/final/SRS709375/R1_final.fq.gz\n",
       "   Read2                                                                                                               \n",
       "1                                                                                                                      \n",
       "2                                                                                                                      \n",
       "⋮  ⋮                                                                                                                   \n",
       "93 /ebio/abt3_projects/databases_no-backup/DeepMAsED/version2/real_data_eval/tmdb/LLMGQC/final/SRS709374/R2_final.fq.gz\n",
       "94 /ebio/abt3_projects/databases_no-backup/DeepMAsED/version2/real_data_eval/tmdb/LLMGQC/final/SRS709375/R2_final.fq.gz\n",
       "   Notes\n",
       "1  NA   \n",
       "2  NA   \n",
       "⋮  ⋮    \n",
       "93 NA   \n",
       "94 NA   "
      ]
     },
     "metadata": {},
     "output_type": "display_data"
    }
   ],
   "source": [
    "F = file.path(D, 'final', 'samples.txt')\n",
    "samps = Fread(F)\n",
    "samps"
   ]
  },
  {
   "cell_type": "code",
   "execution_count": 119,
   "metadata": {
    "ExecuteTime": {
     "end_time": "2022-09-19T15:22:23.241493Z",
     "start_time": "2022-09-19T15:22:23.099Z"
    }
   },
   "outputs": [
    {
     "name": "stdout",
     "output_type": "stream",
     "text": [
      "intersect(x,y): 94 \n",
      "setdiff(x,y): 0 \n",
      "setdiff(y,x): 0 \n",
      "union(x,y): 94 \n"
     ]
    },
    {
     "data": {
      "text/html": [
       "<table class=\"dataframe\">\n",
       "<caption>A tidytable: 94 × 41</caption>\n",
       "<thead>\n",
       "\t<tr><th scope=col>Sample</th><th scope=col>Read1</th><th scope=col>Read2</th><th scope=col>Notes</th><th scope=col>library_id</th><th scope=col>project_id</th><th scope=col>TMDB_material</th><th scope=col>TMDB_biome</th><th scope=col>project_name</th><th scope=col>sample_location</th><th scope=col>⋯</th><th scope=col>assembled</th><th scope=col>sequence_count</th><th scope=col>basepairs_count</th><th scope=col>average_length</th><th scope=col>quality_above_30_SRA</th><th scope=col>mean_quality_SRA</th><th scope=col>drisee_score_raw_MGRAST</th><th scope=col>creation_date</th><th scope=col>source_database</th><th scope=col>n_samples</th></tr>\n",
       "\t<tr><th scope=col>&lt;chr&gt;</th><th scope=col>&lt;chr&gt;</th><th scope=col>&lt;chr&gt;</th><th scope=col>&lt;lgl&gt;</th><th scope=col>&lt;chr&gt;</th><th scope=col>&lt;chr&gt;</th><th scope=col>&lt;chr&gt;</th><th scope=col>&lt;chr&gt;</th><th scope=col>&lt;chr&gt;</th><th scope=col>&lt;chr&gt;</th><th scope=col>⋯</th><th scope=col>&lt;chr&gt;</th><th scope=col>&lt;int&gt;</th><th scope=col>&lt;int64&gt;</th><th scope=col>&lt;int&gt;</th><th scope=col>&lt;int&gt;</th><th scope=col>&lt;dbl&gt;</th><th scope=col>&lt;lgl&gt;</th><th scope=col>&lt;date&gt;</th><th scope=col>&lt;chr&gt;</th><th scope=col>&lt;int&gt;</th></tr>\n",
       "</thead>\n",
       "<tbody>\n",
       "\t<tr><td>SRS497392</td><td>/ebio/abt3_projects/databases_no-backup/DeepMAsED/version2/real_data_eval/tmdb/LLMGQC/final/SRS497392/R1_final.fq.gz</td><td>/ebio/abt3_projects/databases_no-backup/DeepMAsED/version2/real_data_eval/tmdb/LLMGQC/final/SRS497392/R2_final.fq.gz</td><td>NA</td><td>SRR1022653</td><td>SRX371704</td><td>soil</td><td>grassland</td><td>F2U Metagenome</td><td>China</td><td>⋯</td><td>No</td><td>14389397</td><td>2906658194</td><td>202</td><td>83</td><td>32.74</td><td>NA</td><td>2013-12-09</td><td>SRA</td><td>12</td></tr>\n",
       "\t<tr><td>SRS497473</td><td>/ebio/abt3_projects/databases_no-backup/DeepMAsED/version2/real_data_eval/tmdb/LLMGQC/final/SRS497473/R1_final.fq.gz</td><td>/ebio/abt3_projects/databases_no-backup/DeepMAsED/version2/real_data_eval/tmdb/LLMGQC/final/SRS497473/R2_final.fq.gz</td><td>NA</td><td>SRR1022935</td><td>SRX372043</td><td>soil</td><td>grassland</td><td>F2U Metagenome</td><td>China</td><td>⋯</td><td>No</td><td> 7758229</td><td>1567162258</td><td>202</td><td>83</td><td>32.57</td><td>NA</td><td>2013-12-09</td><td>SRA</td><td>12</td></tr>\n",
       "\t<tr><td>⋮</td><td>⋮</td><td>⋮</td><td>⋮</td><td>⋮</td><td>⋮</td><td>⋮</td><td>⋮</td><td>⋮</td><td>⋮</td><td>⋱</td><td>⋮</td><td>⋮</td><td>⋮</td><td>⋮</td><td>⋮</td><td>⋮</td><td>⋮</td><td>⋮</td><td>⋮</td><td>⋮</td></tr>\n",
       "\t<tr><td>SRS4302113</td><td>/ebio/abt3_projects/databases_no-backup/DeepMAsED/version2/real_data_eval/tmdb/LLMGQC/final/SRS4302113/R1_final.fq.gz</td><td>/ebio/abt3_projects/databases_no-backup/DeepMAsED/version2/real_data_eval/tmdb/LLMGQC/final/SRS4302113/R2_final.fq.gz</td><td>NA</td><td>SRR8500484</td><td>SRX5304460</td><td>soil</td><td>forest</td><td>Soil metagenome Metagenome</td><td>NA</td><td>⋯</td><td>No</td><td>20914738</td><td>6274421400</td><td>300</td><td>93</td><td>39.28</td><td>NA</td><td>2019-01-28</td><td>SRA</td><td>11</td></tr>\n",
       "\t<tr><td>SRS4302111</td><td>                                                                                                                     </td><td>                                                                                                                     </td><td>NA</td><td>SRR8500486</td><td>SRX5304458</td><td>soil</td><td>forest</td><td>Soil metagenome Metagenome</td><td>NA</td><td>⋯</td><td>No</td><td>16571116</td><td>2485667400</td><td>150</td><td>95</td><td>39.90</td><td>NA</td><td>2019-01-28</td><td>SRA</td><td>11</td></tr>\n",
       "</tbody>\n",
       "</table>\n"
      ],
      "text/latex": [
       "A tidytable: 94 × 41\n",
       "\\begin{tabular}{lllllllllllllllllllll}\n",
       " Sample & Read1 & Read2 & Notes & library\\_id & project\\_id & TMDB\\_material & TMDB\\_biome & project\\_name & sample\\_location & ⋯ & assembled & sequence\\_count & basepairs\\_count & average\\_length & quality\\_above\\_30\\_SRA & mean\\_quality\\_SRA & drisee\\_score\\_raw\\_MGRAST & creation\\_date & source\\_database & n\\_samples\\\\\n",
       " <chr> & <chr> & <chr> & <lgl> & <chr> & <chr> & <chr> & <chr> & <chr> & <chr> & ⋯ & <chr> & <int> & <int64> & <int> & <int> & <dbl> & <lgl> & <date> & <chr> & <int>\\\\\n",
       "\\hline\n",
       "\t SRS497392 & /ebio/abt3\\_projects/databases\\_no-backup/DeepMAsED/version2/real\\_data\\_eval/tmdb/LLMGQC/final/SRS497392/R1\\_final.fq.gz & /ebio/abt3\\_projects/databases\\_no-backup/DeepMAsED/version2/real\\_data\\_eval/tmdb/LLMGQC/final/SRS497392/R2\\_final.fq.gz & NA & SRR1022653 & SRX371704 & soil & grassland & F2U Metagenome & China & ⋯ & No & 14389397 & 2906658194 & 202 & 83 & 32.74 & NA & 2013-12-09 & SRA & 12\\\\\n",
       "\t SRS497473 & /ebio/abt3\\_projects/databases\\_no-backup/DeepMAsED/version2/real\\_data\\_eval/tmdb/LLMGQC/final/SRS497473/R1\\_final.fq.gz & /ebio/abt3\\_projects/databases\\_no-backup/DeepMAsED/version2/real\\_data\\_eval/tmdb/LLMGQC/final/SRS497473/R2\\_final.fq.gz & NA & SRR1022935 & SRX372043 & soil & grassland & F2U Metagenome & China & ⋯ & No &  7758229 & 1567162258 & 202 & 83 & 32.57 & NA & 2013-12-09 & SRA & 12\\\\\n",
       "\t ⋮ & ⋮ & ⋮ & ⋮ & ⋮ & ⋮ & ⋮ & ⋮ & ⋮ & ⋮ & ⋱ & ⋮ & ⋮ & ⋮ & ⋮ & ⋮ & ⋮ & ⋮ & ⋮ & ⋮ & ⋮\\\\\n",
       "\t SRS4302113 & /ebio/abt3\\_projects/databases\\_no-backup/DeepMAsED/version2/real\\_data\\_eval/tmdb/LLMGQC/final/SRS4302113/R1\\_final.fq.gz & /ebio/abt3\\_projects/databases\\_no-backup/DeepMAsED/version2/real\\_data\\_eval/tmdb/LLMGQC/final/SRS4302113/R2\\_final.fq.gz & NA & SRR8500484 & SRX5304460 & soil & forest & Soil metagenome Metagenome & NA & ⋯ & No & 20914738 & 6274421400 & 300 & 93 & 39.28 & NA & 2019-01-28 & SRA & 11\\\\\n",
       "\t SRS4302111 &                                                                                                                       &                                                                                                                       & NA & SRR8500486 & SRX5304458 & soil & forest & Soil metagenome Metagenome & NA & ⋯ & No & 16571116 & 2485667400 & 150 & 95 & 39.90 & NA & 2019-01-28 & SRA & 11\\\\\n",
       "\\end{tabular}\n"
      ],
      "text/markdown": [
       "\n",
       "A tidytable: 94 × 41\n",
       "\n",
       "| Sample &lt;chr&gt; | Read1 &lt;chr&gt; | Read2 &lt;chr&gt; | Notes &lt;lgl&gt; | library_id &lt;chr&gt; | project_id &lt;chr&gt; | TMDB_material &lt;chr&gt; | TMDB_biome &lt;chr&gt; | project_name &lt;chr&gt; | sample_location &lt;chr&gt; | ⋯ ⋯ | assembled &lt;chr&gt; | sequence_count &lt;int&gt; | basepairs_count &lt;int64&gt; | average_length &lt;int&gt; | quality_above_30_SRA &lt;int&gt; | mean_quality_SRA &lt;dbl&gt; | drisee_score_raw_MGRAST &lt;lgl&gt; | creation_date &lt;date&gt; | source_database &lt;chr&gt; | n_samples &lt;int&gt; |\n",
       "|---|---|---|---|---|---|---|---|---|---|---|---|---|---|---|---|---|---|---|---|---|\n",
       "| SRS497392 | /ebio/abt3_projects/databases_no-backup/DeepMAsED/version2/real_data_eval/tmdb/LLMGQC/final/SRS497392/R1_final.fq.gz | /ebio/abt3_projects/databases_no-backup/DeepMAsED/version2/real_data_eval/tmdb/LLMGQC/final/SRS497392/R2_final.fq.gz | NA | SRR1022653 | SRX371704 | soil | grassland | F2U Metagenome | China | ⋯ | No | 14389397 | 2906658194 | 202 | 83 | 32.74 | NA | 2013-12-09 | SRA | 12 |\n",
       "| SRS497473 | /ebio/abt3_projects/databases_no-backup/DeepMAsED/version2/real_data_eval/tmdb/LLMGQC/final/SRS497473/R1_final.fq.gz | /ebio/abt3_projects/databases_no-backup/DeepMAsED/version2/real_data_eval/tmdb/LLMGQC/final/SRS497473/R2_final.fq.gz | NA | SRR1022935 | SRX372043 | soil | grassland | F2U Metagenome | China | ⋯ | No |  7758229 | 1567162258 | 202 | 83 | 32.57 | NA | 2013-12-09 | SRA | 12 |\n",
       "| ⋮ | ⋮ | ⋮ | ⋮ | ⋮ | ⋮ | ⋮ | ⋮ | ⋮ | ⋮ | ⋱ | ⋮ | ⋮ | ⋮ | ⋮ | ⋮ | ⋮ | ⋮ | ⋮ | ⋮ | ⋮ |\n",
       "| SRS4302113 | /ebio/abt3_projects/databases_no-backup/DeepMAsED/version2/real_data_eval/tmdb/LLMGQC/final/SRS4302113/R1_final.fq.gz | /ebio/abt3_projects/databases_no-backup/DeepMAsED/version2/real_data_eval/tmdb/LLMGQC/final/SRS4302113/R2_final.fq.gz | NA | SRR8500484 | SRX5304460 | soil | forest | Soil metagenome Metagenome | NA | ⋯ | No | 20914738 | 6274421400 | 300 | 93 | 39.28 | NA | 2019-01-28 | SRA | 11 |\n",
       "| SRS4302111 | <!----> | <!----> | NA | SRR8500486 | SRX5304458 | soil | forest | Soil metagenome Metagenome | NA | ⋯ | No | 16571116 | 2485667400 | 150 | 95 | 39.90 | NA | 2019-01-28 | SRA | 11 |\n",
       "\n"
      ],
      "text/plain": [
       "   Sample    \n",
       "1  SRS497392 \n",
       "2  SRS497473 \n",
       "⋮  ⋮         \n",
       "93 SRS4302113\n",
       "94 SRS4302111\n",
       "   Read1                                                                                                                \n",
       "1  /ebio/abt3_projects/databases_no-backup/DeepMAsED/version2/real_data_eval/tmdb/LLMGQC/final/SRS497392/R1_final.fq.gz \n",
       "2  /ebio/abt3_projects/databases_no-backup/DeepMAsED/version2/real_data_eval/tmdb/LLMGQC/final/SRS497473/R1_final.fq.gz \n",
       "⋮  ⋮                                                                                                                    \n",
       "93 /ebio/abt3_projects/databases_no-backup/DeepMAsED/version2/real_data_eval/tmdb/LLMGQC/final/SRS4302113/R1_final.fq.gz\n",
       "94                                                                                                                      \n",
       "   Read2                                                                                                                \n",
       "1  /ebio/abt3_projects/databases_no-backup/DeepMAsED/version2/real_data_eval/tmdb/LLMGQC/final/SRS497392/R2_final.fq.gz \n",
       "2  /ebio/abt3_projects/databases_no-backup/DeepMAsED/version2/real_data_eval/tmdb/LLMGQC/final/SRS497473/R2_final.fq.gz \n",
       "⋮  ⋮                                                                                                                    \n",
       "93 /ebio/abt3_projects/databases_no-backup/DeepMAsED/version2/real_data_eval/tmdb/LLMGQC/final/SRS4302113/R2_final.fq.gz\n",
       "94                                                                                                                      \n",
       "   Notes library_id project_id TMDB_material TMDB_biome\n",
       "1  NA    SRR1022653 SRX371704  soil          grassland \n",
       "2  NA    SRR1022935 SRX372043  soil          grassland \n",
       "⋮  ⋮     ⋮          ⋮          ⋮             ⋮         \n",
       "93 NA    SRR8500484 SRX5304460 soil          forest    \n",
       "94 NA    SRR8500486 SRX5304458 soil          forest    \n",
       "   project_name               sample_location ⋯ assembled sequence_count\n",
       "1  F2U Metagenome             China           ⋯ No        14389397      \n",
       "2  F2U Metagenome             China           ⋯ No         7758229      \n",
       "⋮  ⋮                          ⋮               ⋱ ⋮         ⋮             \n",
       "93 Soil metagenome Metagenome NA              ⋯ No        20914738      \n",
       "94 Soil metagenome Metagenome NA              ⋯ No        16571116      \n",
       "   basepairs_count average_length quality_above_30_SRA mean_quality_SRA\n",
       "1  2906658194      202            83                   32.74           \n",
       "2  1567162258      202            83                   32.57           \n",
       "⋮  ⋮               ⋮              ⋮                    ⋮               \n",
       "93 6274421400      300            93                   39.28           \n",
       "94 2485667400      150            95                   39.90           \n",
       "   drisee_score_raw_MGRAST creation_date source_database n_samples\n",
       "1  NA                      2013-12-09    SRA             12       \n",
       "2  NA                      2013-12-09    SRA             12       \n",
       "⋮  ⋮                       ⋮             ⋮               ⋮        \n",
       "93 NA                      2019-01-28    SRA             11       \n",
       "94 NA                      2019-01-28    SRA             11       "
      ]
     },
     "metadata": {},
     "output_type": "display_data"
    }
   ],
   "source": [
    "# adding metadata\n",
    "overlap(samps$Sample, meta_f$sample_id)\n",
    "samps = samps %>%\n",
    "    inner_join.(meta_f, c('Sample'='sample_id'))\n",
    "samps"
   ]
  },
  {
   "cell_type": "code",
   "execution_count": 120,
   "metadata": {
    "ExecuteTime": {
     "end_time": "2022-09-19T15:22:25.831374Z",
     "start_time": "2022-09-19T15:22:25.708Z"
    }
   },
   "outputs": [
    {
     "data": {
      "text/html": [
       "<table class=\"dataframe\">\n",
       "<caption>A tidytable: 16 × 3</caption>\n",
       "<thead>\n",
       "\t<tr><th scope=col>Sample</th><th scope=col>Read1</th><th scope=col>Read2</th></tr>\n",
       "\t<tr><th scope=col>&lt;chr&gt;</th><th scope=col>&lt;chr&gt;</th><th scope=col>&lt;chr&gt;</th></tr>\n",
       "</thead>\n",
       "<tbody>\n",
       "\t<tr><td>ERS2696214</td><td></td><td></td></tr>\n",
       "\t<tr><td>ERS2696215</td><td></td><td></td></tr>\n",
       "\t<tr><td>⋮</td><td>⋮</td><td>⋮</td></tr>\n",
       "\t<tr><td>SRS4302124</td><td></td><td></td></tr>\n",
       "\t<tr><td>SRS4302111</td><td></td><td></td></tr>\n",
       "</tbody>\n",
       "</table>\n"
      ],
      "text/latex": [
       "A tidytable: 16 × 3\n",
       "\\begin{tabular}{lll}\n",
       " Sample & Read1 & Read2\\\\\n",
       " <chr> & <chr> & <chr>\\\\\n",
       "\\hline\n",
       "\t ERS2696214 &  & \\\\\n",
       "\t ERS2696215 &  & \\\\\n",
       "\t ⋮ & ⋮ & ⋮\\\\\n",
       "\t SRS4302124 &  & \\\\\n",
       "\t SRS4302111 &  & \\\\\n",
       "\\end{tabular}\n"
      ],
      "text/markdown": [
       "\n",
       "A tidytable: 16 × 3\n",
       "\n",
       "| Sample &lt;chr&gt; | Read1 &lt;chr&gt; | Read2 &lt;chr&gt; |\n",
       "|---|---|---|\n",
       "| ERS2696214 | <!----> | <!----> |\n",
       "| ERS2696215 | <!----> | <!----> |\n",
       "| ⋮ | ⋮ | ⋮ |\n",
       "| SRS4302124 | <!----> | <!----> |\n",
       "| SRS4302111 | <!----> | <!----> |\n",
       "\n"
      ],
      "text/plain": [
       "   Sample     Read1 Read2\n",
       "1  ERS2696214            \n",
       "2  ERS2696215            \n",
       "⋮  ⋮          ⋮     ⋮    \n",
       "15 SRS4302124            \n",
       "16 SRS4302111            "
      ]
     },
     "metadata": {},
     "output_type": "display_data"
    }
   ],
   "source": [
    "# samples lacking post-qc reads\n",
    "samps %>%\n",
    "    filter.(Read1 == '' | Read2 == '') %>%\n",
    "    select.(Sample, Read1, Read2)"
   ]
  },
  {
   "cell_type": "code",
   "execution_count": 121,
   "metadata": {
    "ExecuteTime": {
     "end_time": "2022-09-19T15:22:28.943103Z",
     "start_time": "2022-09-19T15:22:28.803Z"
    }
   },
   "outputs": [
    {
     "data": {
      "text/html": [
       "<table class=\"dataframe\">\n",
       "<caption>A tidytable: 78 × 41</caption>\n",
       "<thead>\n",
       "\t<tr><th scope=col>Sample</th><th scope=col>Read1</th><th scope=col>Read2</th><th scope=col>Notes</th><th scope=col>library_id</th><th scope=col>project_id</th><th scope=col>TMDB_material</th><th scope=col>TMDB_biome</th><th scope=col>project_name</th><th scope=col>sample_location</th><th scope=col>⋯</th><th scope=col>assembled</th><th scope=col>sequence_count</th><th scope=col>basepairs_count</th><th scope=col>average_length</th><th scope=col>quality_above_30_SRA</th><th scope=col>mean_quality_SRA</th><th scope=col>drisee_score_raw_MGRAST</th><th scope=col>creation_date</th><th scope=col>source_database</th><th scope=col>n_samples</th></tr>\n",
       "\t<tr><th scope=col>&lt;chr&gt;</th><th scope=col>&lt;chr&gt;</th><th scope=col>&lt;chr&gt;</th><th scope=col>&lt;lgl&gt;</th><th scope=col>&lt;chr&gt;</th><th scope=col>&lt;chr&gt;</th><th scope=col>&lt;chr&gt;</th><th scope=col>&lt;chr&gt;</th><th scope=col>&lt;chr&gt;</th><th scope=col>&lt;chr&gt;</th><th scope=col>⋯</th><th scope=col>&lt;chr&gt;</th><th scope=col>&lt;int&gt;</th><th scope=col>&lt;int64&gt;</th><th scope=col>&lt;int&gt;</th><th scope=col>&lt;int&gt;</th><th scope=col>&lt;dbl&gt;</th><th scope=col>&lt;lgl&gt;</th><th scope=col>&lt;date&gt;</th><th scope=col>&lt;chr&gt;</th><th scope=col>&lt;int&gt;</th></tr>\n",
       "</thead>\n",
       "<tbody>\n",
       "\t<tr><td>SRS497392</td><td>/ebio/abt3_projects/databases_no-backup/DeepMAsED/version2/real_data_eval/tmdb/LLMGQC/final/SRS497392/R1_final.fq.gz</td><td>/ebio/abt3_projects/databases_no-backup/DeepMAsED/version2/real_data_eval/tmdb/LLMGQC/final/SRS497392/R2_final.fq.gz</td><td>NA</td><td>SRR1022653</td><td>SRX371704</td><td>soil</td><td>grassland</td><td>F2U Metagenome</td><td>China</td><td>⋯</td><td>No</td><td>14389397</td><td>2906658194</td><td>202</td><td>83</td><td>32.74</td><td>NA</td><td>2013-12-09</td><td>SRA</td><td>12</td></tr>\n",
       "\t<tr><td>SRS497473</td><td>/ebio/abt3_projects/databases_no-backup/DeepMAsED/version2/real_data_eval/tmdb/LLMGQC/final/SRS497473/R1_final.fq.gz</td><td>/ebio/abt3_projects/databases_no-backup/DeepMAsED/version2/real_data_eval/tmdb/LLMGQC/final/SRS497473/R2_final.fq.gz</td><td>NA</td><td>SRR1022935</td><td>SRX372043</td><td>soil</td><td>grassland</td><td>F2U Metagenome</td><td>China</td><td>⋯</td><td>No</td><td> 7758229</td><td>1567162258</td><td>202</td><td>83</td><td>32.57</td><td>NA</td><td>2013-12-09</td><td>SRA</td><td>12</td></tr>\n",
       "\t<tr><td>⋮</td><td>⋮</td><td>⋮</td><td>⋮</td><td>⋮</td><td>⋮</td><td>⋮</td><td>⋮</td><td>⋮</td><td>⋮</td><td>⋱</td><td>⋮</td><td>⋮</td><td>⋮</td><td>⋮</td><td>⋮</td><td>⋮</td><td>⋮</td><td>⋮</td><td>⋮</td><td>⋮</td></tr>\n",
       "\t<tr><td>SRS4302118</td><td>/ebio/abt3_projects/databases_no-backup/DeepMAsED/version2/real_data_eval/tmdb/LLMGQC/final/SRS4302118/R1_final.fq.gz</td><td>/ebio/abt3_projects/databases_no-backup/DeepMAsED/version2/real_data_eval/tmdb/LLMGQC/final/SRS4302118/R2_final.fq.gz</td><td>NA</td><td>SRR8500479</td><td>SRX5304465</td><td>soil</td><td>forest</td><td>Soil metagenome Metagenome</td><td>NA</td><td>⋯</td><td>No</td><td>15627732</td><td>4688319600</td><td>300</td><td>93</td><td>39.17</td><td>NA</td><td>2019-01-28</td><td>SRA</td><td>11</td></tr>\n",
       "\t<tr><td>SRS4302113</td><td>/ebio/abt3_projects/databases_no-backup/DeepMAsED/version2/real_data_eval/tmdb/LLMGQC/final/SRS4302113/R1_final.fq.gz</td><td>/ebio/abt3_projects/databases_no-backup/DeepMAsED/version2/real_data_eval/tmdb/LLMGQC/final/SRS4302113/R2_final.fq.gz</td><td>NA</td><td>SRR8500484</td><td>SRX5304460</td><td>soil</td><td>forest</td><td>Soil metagenome Metagenome</td><td>NA</td><td>⋯</td><td>No</td><td>20914738</td><td>6274421400</td><td>300</td><td>93</td><td>39.28</td><td>NA</td><td>2019-01-28</td><td>SRA</td><td>11</td></tr>\n",
       "</tbody>\n",
       "</table>\n"
      ],
      "text/latex": [
       "A tidytable: 78 × 41\n",
       "\\begin{tabular}{lllllllllllllllllllll}\n",
       " Sample & Read1 & Read2 & Notes & library\\_id & project\\_id & TMDB\\_material & TMDB\\_biome & project\\_name & sample\\_location & ⋯ & assembled & sequence\\_count & basepairs\\_count & average\\_length & quality\\_above\\_30\\_SRA & mean\\_quality\\_SRA & drisee\\_score\\_raw\\_MGRAST & creation\\_date & source\\_database & n\\_samples\\\\\n",
       " <chr> & <chr> & <chr> & <lgl> & <chr> & <chr> & <chr> & <chr> & <chr> & <chr> & ⋯ & <chr> & <int> & <int64> & <int> & <int> & <dbl> & <lgl> & <date> & <chr> & <int>\\\\\n",
       "\\hline\n",
       "\t SRS497392 & /ebio/abt3\\_projects/databases\\_no-backup/DeepMAsED/version2/real\\_data\\_eval/tmdb/LLMGQC/final/SRS497392/R1\\_final.fq.gz & /ebio/abt3\\_projects/databases\\_no-backup/DeepMAsED/version2/real\\_data\\_eval/tmdb/LLMGQC/final/SRS497392/R2\\_final.fq.gz & NA & SRR1022653 & SRX371704 & soil & grassland & F2U Metagenome & China & ⋯ & No & 14389397 & 2906658194 & 202 & 83 & 32.74 & NA & 2013-12-09 & SRA & 12\\\\\n",
       "\t SRS497473 & /ebio/abt3\\_projects/databases\\_no-backup/DeepMAsED/version2/real\\_data\\_eval/tmdb/LLMGQC/final/SRS497473/R1\\_final.fq.gz & /ebio/abt3\\_projects/databases\\_no-backup/DeepMAsED/version2/real\\_data\\_eval/tmdb/LLMGQC/final/SRS497473/R2\\_final.fq.gz & NA & SRR1022935 & SRX372043 & soil & grassland & F2U Metagenome & China & ⋯ & No &  7758229 & 1567162258 & 202 & 83 & 32.57 & NA & 2013-12-09 & SRA & 12\\\\\n",
       "\t ⋮ & ⋮ & ⋮ & ⋮ & ⋮ & ⋮ & ⋮ & ⋮ & ⋮ & ⋮ & ⋱ & ⋮ & ⋮ & ⋮ & ⋮ & ⋮ & ⋮ & ⋮ & ⋮ & ⋮ & ⋮\\\\\n",
       "\t SRS4302118 & /ebio/abt3\\_projects/databases\\_no-backup/DeepMAsED/version2/real\\_data\\_eval/tmdb/LLMGQC/final/SRS4302118/R1\\_final.fq.gz & /ebio/abt3\\_projects/databases\\_no-backup/DeepMAsED/version2/real\\_data\\_eval/tmdb/LLMGQC/final/SRS4302118/R2\\_final.fq.gz & NA & SRR8500479 & SRX5304465 & soil & forest & Soil metagenome Metagenome & NA & ⋯ & No & 15627732 & 4688319600 & 300 & 93 & 39.17 & NA & 2019-01-28 & SRA & 11\\\\\n",
       "\t SRS4302113 & /ebio/abt3\\_projects/databases\\_no-backup/DeepMAsED/version2/real\\_data\\_eval/tmdb/LLMGQC/final/SRS4302113/R1\\_final.fq.gz & /ebio/abt3\\_projects/databases\\_no-backup/DeepMAsED/version2/real\\_data\\_eval/tmdb/LLMGQC/final/SRS4302113/R2\\_final.fq.gz & NA & SRR8500484 & SRX5304460 & soil & forest & Soil metagenome Metagenome & NA & ⋯ & No & 20914738 & 6274421400 & 300 & 93 & 39.28 & NA & 2019-01-28 & SRA & 11\\\\\n",
       "\\end{tabular}\n"
      ],
      "text/markdown": [
       "\n",
       "A tidytable: 78 × 41\n",
       "\n",
       "| Sample &lt;chr&gt; | Read1 &lt;chr&gt; | Read2 &lt;chr&gt; | Notes &lt;lgl&gt; | library_id &lt;chr&gt; | project_id &lt;chr&gt; | TMDB_material &lt;chr&gt; | TMDB_biome &lt;chr&gt; | project_name &lt;chr&gt; | sample_location &lt;chr&gt; | ⋯ ⋯ | assembled &lt;chr&gt; | sequence_count &lt;int&gt; | basepairs_count &lt;int64&gt; | average_length &lt;int&gt; | quality_above_30_SRA &lt;int&gt; | mean_quality_SRA &lt;dbl&gt; | drisee_score_raw_MGRAST &lt;lgl&gt; | creation_date &lt;date&gt; | source_database &lt;chr&gt; | n_samples &lt;int&gt; |\n",
       "|---|---|---|---|---|---|---|---|---|---|---|---|---|---|---|---|---|---|---|---|---|\n",
       "| SRS497392 | /ebio/abt3_projects/databases_no-backup/DeepMAsED/version2/real_data_eval/tmdb/LLMGQC/final/SRS497392/R1_final.fq.gz | /ebio/abt3_projects/databases_no-backup/DeepMAsED/version2/real_data_eval/tmdb/LLMGQC/final/SRS497392/R2_final.fq.gz | NA | SRR1022653 | SRX371704 | soil | grassland | F2U Metagenome | China | ⋯ | No | 14389397 | 2906658194 | 202 | 83 | 32.74 | NA | 2013-12-09 | SRA | 12 |\n",
       "| SRS497473 | /ebio/abt3_projects/databases_no-backup/DeepMAsED/version2/real_data_eval/tmdb/LLMGQC/final/SRS497473/R1_final.fq.gz | /ebio/abt3_projects/databases_no-backup/DeepMAsED/version2/real_data_eval/tmdb/LLMGQC/final/SRS497473/R2_final.fq.gz | NA | SRR1022935 | SRX372043 | soil | grassland | F2U Metagenome | China | ⋯ | No |  7758229 | 1567162258 | 202 | 83 | 32.57 | NA | 2013-12-09 | SRA | 12 |\n",
       "| ⋮ | ⋮ | ⋮ | ⋮ | ⋮ | ⋮ | ⋮ | ⋮ | ⋮ | ⋮ | ⋱ | ⋮ | ⋮ | ⋮ | ⋮ | ⋮ | ⋮ | ⋮ | ⋮ | ⋮ | ⋮ |\n",
       "| SRS4302118 | /ebio/abt3_projects/databases_no-backup/DeepMAsED/version2/real_data_eval/tmdb/LLMGQC/final/SRS4302118/R1_final.fq.gz | /ebio/abt3_projects/databases_no-backup/DeepMAsED/version2/real_data_eval/tmdb/LLMGQC/final/SRS4302118/R2_final.fq.gz | NA | SRR8500479 | SRX5304465 | soil | forest | Soil metagenome Metagenome | NA | ⋯ | No | 15627732 | 4688319600 | 300 | 93 | 39.17 | NA | 2019-01-28 | SRA | 11 |\n",
       "| SRS4302113 | /ebio/abt3_projects/databases_no-backup/DeepMAsED/version2/real_data_eval/tmdb/LLMGQC/final/SRS4302113/R1_final.fq.gz | /ebio/abt3_projects/databases_no-backup/DeepMAsED/version2/real_data_eval/tmdb/LLMGQC/final/SRS4302113/R2_final.fq.gz | NA | SRR8500484 | SRX5304460 | soil | forest | Soil metagenome Metagenome | NA | ⋯ | No | 20914738 | 6274421400 | 300 | 93 | 39.28 | NA | 2019-01-28 | SRA | 11 |\n",
       "\n"
      ],
      "text/plain": [
       "   Sample    \n",
       "1  SRS497392 \n",
       "2  SRS497473 \n",
       "⋮  ⋮         \n",
       "77 SRS4302118\n",
       "78 SRS4302113\n",
       "   Read1                                                                                                                \n",
       "1  /ebio/abt3_projects/databases_no-backup/DeepMAsED/version2/real_data_eval/tmdb/LLMGQC/final/SRS497392/R1_final.fq.gz \n",
       "2  /ebio/abt3_projects/databases_no-backup/DeepMAsED/version2/real_data_eval/tmdb/LLMGQC/final/SRS497473/R1_final.fq.gz \n",
       "⋮  ⋮                                                                                                                    \n",
       "77 /ebio/abt3_projects/databases_no-backup/DeepMAsED/version2/real_data_eval/tmdb/LLMGQC/final/SRS4302118/R1_final.fq.gz\n",
       "78 /ebio/abt3_projects/databases_no-backup/DeepMAsED/version2/real_data_eval/tmdb/LLMGQC/final/SRS4302113/R1_final.fq.gz\n",
       "   Read2                                                                                                                \n",
       "1  /ebio/abt3_projects/databases_no-backup/DeepMAsED/version2/real_data_eval/tmdb/LLMGQC/final/SRS497392/R2_final.fq.gz \n",
       "2  /ebio/abt3_projects/databases_no-backup/DeepMAsED/version2/real_data_eval/tmdb/LLMGQC/final/SRS497473/R2_final.fq.gz \n",
       "⋮  ⋮                                                                                                                    \n",
       "77 /ebio/abt3_projects/databases_no-backup/DeepMAsED/version2/real_data_eval/tmdb/LLMGQC/final/SRS4302118/R2_final.fq.gz\n",
       "78 /ebio/abt3_projects/databases_no-backup/DeepMAsED/version2/real_data_eval/tmdb/LLMGQC/final/SRS4302113/R2_final.fq.gz\n",
       "   Notes library_id project_id TMDB_material TMDB_biome\n",
       "1  NA    SRR1022653 SRX371704  soil          grassland \n",
       "2  NA    SRR1022935 SRX372043  soil          grassland \n",
       "⋮  ⋮     ⋮          ⋮          ⋮             ⋮         \n",
       "77 NA    SRR8500479 SRX5304465 soil          forest    \n",
       "78 NA    SRR8500484 SRX5304460 soil          forest    \n",
       "   project_name               sample_location ⋯ assembled sequence_count\n",
       "1  F2U Metagenome             China           ⋯ No        14389397      \n",
       "2  F2U Metagenome             China           ⋯ No         7758229      \n",
       "⋮  ⋮                          ⋮               ⋱ ⋮         ⋮             \n",
       "77 Soil metagenome Metagenome NA              ⋯ No        15627732      \n",
       "78 Soil metagenome Metagenome NA              ⋯ No        20914738      \n",
       "   basepairs_count average_length quality_above_30_SRA mean_quality_SRA\n",
       "1  2906658194      202            83                   32.74           \n",
       "2  1567162258      202            83                   32.57           \n",
       "⋮  ⋮               ⋮              ⋮                    ⋮               \n",
       "77 4688319600      300            93                   39.17           \n",
       "78 6274421400      300            93                   39.28           \n",
       "   drisee_score_raw_MGRAST creation_date source_database n_samples\n",
       "1  NA                      2013-12-09    SRA             12       \n",
       "2  NA                      2013-12-09    SRA             12       \n",
       "⋮  ⋮                       ⋮             ⋮               ⋮        \n",
       "77 NA                      2019-01-28    SRA             11       \n",
       "78 NA                      2019-01-28    SRA             11       "
      ]
     },
     "metadata": {},
     "output_type": "display_data"
    }
   ],
   "source": [
    "# filtering to just reads with output\n",
    "samps_f = samps %>%\n",
    "    filter.(Read1 != '', Read2 != '')\n",
    "samps_f"
   ]
  },
  {
   "cell_type": "code",
   "execution_count": 122,
   "metadata": {
    "ExecuteTime": {
     "end_time": "2022-09-19T15:22:31.143260Z",
     "start_time": "2022-09-19T15:22:31.031Z"
    }
   },
   "outputs": [
    {
     "data": {
      "text/plain": [
       ".\n",
       "Canadian High Artic Metagenomes                  F2U Metagenome \n",
       "                             59                              12 \n",
       "     Soil metagenome Metagenome \n",
       "                              7 "
      ]
     },
     "metadata": {},
     "output_type": "display_data"
    }
   ],
   "source": [
    "# samples per project \n",
    "samps_f$project_name %>% table"
   ]
  },
  {
   "cell_type": "markdown",
   "metadata": {},
   "source": [
    "### Seq. quality"
   ]
  },
  {
   "cell_type": "code",
   "execution_count": 123,
   "metadata": {
    "ExecuteTime": {
     "end_time": "2022-09-19T15:22:32.913234Z",
     "start_time": "2022-09-19T15:22:32.803Z"
    }
   },
   "outputs": [],
   "source": [
    "base_dir = file.path(work_dir, 'LLMGQC', 'reports', 'final')"
   ]
  },
  {
   "cell_type": "code",
   "execution_count": 124,
   "metadata": {
    "ExecuteTime": {
     "end_time": "2022-09-19T15:22:33.189371Z",
     "start_time": "2022-09-19T15:22:33.045Z"
    }
   },
   "outputs": [
    {
     "data": {
      "text/html": [
       "<table class=\"dataframe\">\n",
       "<caption>A tidytable: 156 × 18</caption>\n",
       "<thead>\n",
       "\t<tr><th scope=col>Sample</th><th scope=col>Read</th><th scope=col>file</th><th scope=col>format</th><th scope=col>type</th><th scope=col>num_seqs</th><th scope=col>sum_len</th><th scope=col>min_len</th><th scope=col>avg_len</th><th scope=col>max_len</th><th scope=col>Q1</th><th scope=col>Q2</th><th scope=col>Q3</th><th scope=col>sum_gap</th><th scope=col>N50</th><th scope=col>Q20...</th><th scope=col>Q30...</th><th scope=col>GC...</th></tr>\n",
       "\t<tr><th scope=col>&lt;chr&gt;</th><th scope=col>&lt;int&gt;</th><th scope=col>&lt;chr&gt;</th><th scope=col>&lt;chr&gt;</th><th scope=col>&lt;chr&gt;</th><th scope=col>&lt;int&gt;</th><th scope=col>&lt;int&gt;</th><th scope=col>&lt;int&gt;</th><th scope=col>&lt;dbl&gt;</th><th scope=col>&lt;int&gt;</th><th scope=col>&lt;dbl&gt;</th><th scope=col>&lt;dbl&gt;</th><th scope=col>&lt;dbl&gt;</th><th scope=col>&lt;int&gt;</th><th scope=col>&lt;int&gt;</th><th scope=col>&lt;dbl&gt;</th><th scope=col>&lt;dbl&gt;</th><th scope=col>&lt;dbl&gt;</th></tr>\n",
       "</thead>\n",
       "<tbody>\n",
       "\t<tr><td>SRS497392</td><td>1</td><td>/ebio/abt3_projects/databases_no-backup/DeepMAsED/version2/real_data_eval/tmdb/LLMGQC/final/SRS497392/R1_final.fq.gz</td><td>FASTQ</td><td>DNA</td><td>4274808</td><td>427000108</td><td>80</td><td>99.9</td><td>101</td><td>101</td><td>101</td><td>101</td><td>0</td><td>101</td><td>98.01</td><td>89.26</td><td>62.90</td></tr>\n",
       "\t<tr><td>SRS497392</td><td>2</td><td>/ebio/abt3_projects/databases_no-backup/DeepMAsED/version2/real_data_eval/tmdb/LLMGQC/final/SRS497392/R2_final.fq.gz</td><td>FASTQ</td><td>DNA</td><td>4274808</td><td>427197208</td><td>80</td><td>99.9</td><td>101</td><td>101</td><td>101</td><td>101</td><td>0</td><td>101</td><td>97.91</td><td>89.24</td><td>63.31</td></tr>\n",
       "\t<tr><td>⋮</td><td>⋮</td><td>⋮</td><td>⋮</td><td>⋮</td><td>⋮</td><td>⋮</td><td>⋮</td><td>⋮</td><td>⋮</td><td>⋮</td><td>⋮</td><td>⋮</td><td>⋮</td><td>⋮</td><td>⋮</td><td>⋮</td><td>⋮</td></tr>\n",
       "\t<tr><td>SRS4302113</td><td>1</td><td>/ebio/abt3_projects/databases_no-backup/DeepMAsED/version2/real_data_eval/tmdb/LLMGQC/final/SRS4302113/R1_final.fq.gz</td><td>FASTQ</td><td>DNA</td><td>4538119</td><td>677098736</td><td>80</td><td>149.2</td><td>150</td><td>150</td><td>150</td><td>150</td><td>0</td><td>150</td><td>98.19</td><td>95.90</td><td>59.16</td></tr>\n",
       "\t<tr><td>SRS4302113</td><td>2</td><td>/ebio/abt3_projects/databases_no-backup/DeepMAsED/version2/real_data_eval/tmdb/LLMGQC/final/SRS4302113/R2_final.fq.gz</td><td>FASTQ</td><td>DNA</td><td>4538119</td><td>675971359</td><td>80</td><td>149.0</td><td>150</td><td>150</td><td>150</td><td>150</td><td>0</td><td>150</td><td>95.43</td><td>91.03</td><td>58.92</td></tr>\n",
       "</tbody>\n",
       "</table>\n"
      ],
      "text/latex": [
       "A tidytable: 156 × 18\n",
       "\\begin{tabular}{llllllllllllllllll}\n",
       " Sample & Read & file & format & type & num\\_seqs & sum\\_len & min\\_len & avg\\_len & max\\_len & Q1 & Q2 & Q3 & sum\\_gap & N50 & Q20... & Q30... & GC...\\\\\n",
       " <chr> & <int> & <chr> & <chr> & <chr> & <int> & <int> & <int> & <dbl> & <int> & <dbl> & <dbl> & <dbl> & <int> & <int> & <dbl> & <dbl> & <dbl>\\\\\n",
       "\\hline\n",
       "\t SRS497392 & 1 & /ebio/abt3\\_projects/databases\\_no-backup/DeepMAsED/version2/real\\_data\\_eval/tmdb/LLMGQC/final/SRS497392/R1\\_final.fq.gz & FASTQ & DNA & 4274808 & 427000108 & 80 & 99.9 & 101 & 101 & 101 & 101 & 0 & 101 & 98.01 & 89.26 & 62.90\\\\\n",
       "\t SRS497392 & 2 & /ebio/abt3\\_projects/databases\\_no-backup/DeepMAsED/version2/real\\_data\\_eval/tmdb/LLMGQC/final/SRS497392/R2\\_final.fq.gz & FASTQ & DNA & 4274808 & 427197208 & 80 & 99.9 & 101 & 101 & 101 & 101 & 0 & 101 & 97.91 & 89.24 & 63.31\\\\\n",
       "\t ⋮ & ⋮ & ⋮ & ⋮ & ⋮ & ⋮ & ⋮ & ⋮ & ⋮ & ⋮ & ⋮ & ⋮ & ⋮ & ⋮ & ⋮ & ⋮ & ⋮ & ⋮\\\\\n",
       "\t SRS4302113 & 1 & /ebio/abt3\\_projects/databases\\_no-backup/DeepMAsED/version2/real\\_data\\_eval/tmdb/LLMGQC/final/SRS4302113/R1\\_final.fq.gz & FASTQ & DNA & 4538119 & 677098736 & 80 & 149.2 & 150 & 150 & 150 & 150 & 0 & 150 & 98.19 & 95.90 & 59.16\\\\\n",
       "\t SRS4302113 & 2 & /ebio/abt3\\_projects/databases\\_no-backup/DeepMAsED/version2/real\\_data\\_eval/tmdb/LLMGQC/final/SRS4302113/R2\\_final.fq.gz & FASTQ & DNA & 4538119 & 675971359 & 80 & 149.0 & 150 & 150 & 150 & 150 & 0 & 150 & 95.43 & 91.03 & 58.92\\\\\n",
       "\\end{tabular}\n"
      ],
      "text/markdown": [
       "\n",
       "A tidytable: 156 × 18\n",
       "\n",
       "| Sample &lt;chr&gt; | Read &lt;int&gt; | file &lt;chr&gt; | format &lt;chr&gt; | type &lt;chr&gt; | num_seqs &lt;int&gt; | sum_len &lt;int&gt; | min_len &lt;int&gt; | avg_len &lt;dbl&gt; | max_len &lt;int&gt; | Q1 &lt;dbl&gt; | Q2 &lt;dbl&gt; | Q3 &lt;dbl&gt; | sum_gap &lt;int&gt; | N50 &lt;int&gt; | Q20... &lt;dbl&gt; | Q30... &lt;dbl&gt; | GC... &lt;dbl&gt; |\n",
       "|---|---|---|---|---|---|---|---|---|---|---|---|---|---|---|---|---|---|\n",
       "| SRS497392 | 1 | /ebio/abt3_projects/databases_no-backup/DeepMAsED/version2/real_data_eval/tmdb/LLMGQC/final/SRS497392/R1_final.fq.gz | FASTQ | DNA | 4274808 | 427000108 | 80 | 99.9 | 101 | 101 | 101 | 101 | 0 | 101 | 98.01 | 89.26 | 62.90 |\n",
       "| SRS497392 | 2 | /ebio/abt3_projects/databases_no-backup/DeepMAsED/version2/real_data_eval/tmdb/LLMGQC/final/SRS497392/R2_final.fq.gz | FASTQ | DNA | 4274808 | 427197208 | 80 | 99.9 | 101 | 101 | 101 | 101 | 0 | 101 | 97.91 | 89.24 | 63.31 |\n",
       "| ⋮ | ⋮ | ⋮ | ⋮ | ⋮ | ⋮ | ⋮ | ⋮ | ⋮ | ⋮ | ⋮ | ⋮ | ⋮ | ⋮ | ⋮ | ⋮ | ⋮ | ⋮ |\n",
       "| SRS4302113 | 1 | /ebio/abt3_projects/databases_no-backup/DeepMAsED/version2/real_data_eval/tmdb/LLMGQC/final/SRS4302113/R1_final.fq.gz | FASTQ | DNA | 4538119 | 677098736 | 80 | 149.2 | 150 | 150 | 150 | 150 | 0 | 150 | 98.19 | 95.90 | 59.16 |\n",
       "| SRS4302113 | 2 | /ebio/abt3_projects/databases_no-backup/DeepMAsED/version2/real_data_eval/tmdb/LLMGQC/final/SRS4302113/R2_final.fq.gz | FASTQ | DNA | 4538119 | 675971359 | 80 | 149.0 | 150 | 150 | 150 | 150 | 0 | 150 | 95.43 | 91.03 | 58.92 |\n",
       "\n"
      ],
      "text/plain": [
       "    Sample     Read\n",
       "1   SRS497392  1   \n",
       "2   SRS497392  2   \n",
       "⋮   ⋮          ⋮   \n",
       "155 SRS4302113 1   \n",
       "156 SRS4302113 2   \n",
       "    file                                                                                                                 \n",
       "1   /ebio/abt3_projects/databases_no-backup/DeepMAsED/version2/real_data_eval/tmdb/LLMGQC/final/SRS497392/R1_final.fq.gz \n",
       "2   /ebio/abt3_projects/databases_no-backup/DeepMAsED/version2/real_data_eval/tmdb/LLMGQC/final/SRS497392/R2_final.fq.gz \n",
       "⋮   ⋮                                                                                                                    \n",
       "155 /ebio/abt3_projects/databases_no-backup/DeepMAsED/version2/real_data_eval/tmdb/LLMGQC/final/SRS4302113/R1_final.fq.gz\n",
       "156 /ebio/abt3_projects/databases_no-backup/DeepMAsED/version2/real_data_eval/tmdb/LLMGQC/final/SRS4302113/R2_final.fq.gz\n",
       "    format type num_seqs sum_len   min_len avg_len max_len Q1  Q2  Q3  sum_gap\n",
       "1   FASTQ  DNA  4274808  427000108 80      99.9    101     101 101 101 0      \n",
       "2   FASTQ  DNA  4274808  427197208 80      99.9    101     101 101 101 0      \n",
       "⋮   ⋮      ⋮    ⋮        ⋮         ⋮       ⋮       ⋮       ⋮   ⋮   ⋮   ⋮      \n",
       "155 FASTQ  DNA  4538119  677098736 80      149.2   150     150 150 150 0      \n",
       "156 FASTQ  DNA  4538119  675971359 80      149.0   150     150 150 150 0      \n",
       "    N50 Q20... Q30... GC...\n",
       "1   101 98.01  89.26  62.90\n",
       "2   101 97.91  89.24  63.31\n",
       "⋮   ⋮   ⋮      ⋮      ⋮    \n",
       "155 150 98.19  95.90  59.16\n",
       "156 150 95.43  91.03  58.92"
      ]
     },
     "metadata": {},
     "output_type": "display_data"
    }
   ],
   "source": [
    "F = file.path(base_dir, 'seqkit_stats.tsv')\n",
    "seqkit = Fread(F) %>%\n",
    "    semi_join.(samps_f, c('Sample'))\n",
    "seqkit"
   ]
  },
  {
   "cell_type": "code",
   "execution_count": 125,
   "metadata": {
    "ExecuteTime": {
     "end_time": "2022-09-19T15:22:37.081892Z",
     "start_time": "2022-09-19T15:22:36.932Z"
    }
   },
   "outputs": [
    {
     "data": {
      "text/html": [
       "<table class=\"dataframe\">\n",
       "<caption>A matrix: 1 × 8 of type dbl</caption>\n",
       "<thead>\n",
       "\t<tr><th></th><th scope=col>Min.</th><th scope=col>1st Qu.</th><th scope=col>Median</th><th scope=col>Mean</th><th scope=col>3rd Qu.</th><th scope=col>Max.</th><th scope=col>sd</th><th scope=col>sd_err_of_mean</th></tr>\n",
       "</thead>\n",
       "<tbody>\n",
       "\t<tr><th scope=row>num_seqs</th><td>1195135</td><td>3243714</td><td>3835773</td><td>3673970</td><td>4206939</td><td>4770059</td><td>759884.3</td><td>310221.5</td></tr>\n",
       "</tbody>\n",
       "</table>\n"
      ],
      "text/latex": [
       "A matrix: 1 × 8 of type dbl\n",
       "\\begin{tabular}{r|llllllll}\n",
       "  & Min. & 1st Qu. & Median & Mean & 3rd Qu. & Max. & sd & sd\\_err\\_of\\_mean\\\\\n",
       "\\hline\n",
       "\tnum\\_seqs & 1195135 & 3243714 & 3835773 & 3673970 & 4206939 & 4770059 & 759884.3 & 310221.5\\\\\n",
       "\\end{tabular}\n"
      ],
      "text/markdown": [
       "\n",
       "A matrix: 1 × 8 of type dbl\n",
       "\n",
       "| <!--/--> | Min. | 1st Qu. | Median | Mean | 3rd Qu. | Max. | sd | sd_err_of_mean |\n",
       "|---|---|---|---|---|---|---|---|---|\n",
       "| num_seqs | 1195135 | 3243714 | 3835773 | 3673970 | 4206939 | 4770059 | 759884.3 | 310221.5 |\n",
       "\n"
      ],
      "text/plain": [
       "         Min.    1st Qu. Median  Mean    3rd Qu. Max.    sd      \n",
       "num_seqs 1195135 3243714 3835773 3673970 4206939 4770059 759884.3\n",
       "         sd_err_of_mean\n",
       "num_seqs 310221.5      "
      ]
     },
     "metadata": {},
     "output_type": "display_data"
    },
    {
     "data": {
      "text/html": [
       "<table class=\"dataframe\">\n",
       "<caption>A matrix: 1 × 8 of type dbl</caption>\n",
       "<thead>\n",
       "\t<tr><th></th><th scope=col>Min.</th><th scope=col>1st Qu.</th><th scope=col>Median</th><th scope=col>Mean</th><th scope=col>3rd Qu.</th><th scope=col>Max.</th><th scope=col>sd</th><th scope=col>sd_err_of_mean</th></tr>\n",
       "</thead>\n",
       "<tbody>\n",
       "\t<tr><th scope=row>min_len</th><td>80</td><td>80</td><td>80</td><td>80</td><td>80</td><td>80</td><td>0</td><td>0</td></tr>\n",
       "</tbody>\n",
       "</table>\n"
      ],
      "text/latex": [
       "A matrix: 1 × 8 of type dbl\n",
       "\\begin{tabular}{r|llllllll}\n",
       "  & Min. & 1st Qu. & Median & Mean & 3rd Qu. & Max. & sd & sd\\_err\\_of\\_mean\\\\\n",
       "\\hline\n",
       "\tmin\\_len & 80 & 80 & 80 & 80 & 80 & 80 & 0 & 0\\\\\n",
       "\\end{tabular}\n"
      ],
      "text/markdown": [
       "\n",
       "A matrix: 1 × 8 of type dbl\n",
       "\n",
       "| <!--/--> | Min. | 1st Qu. | Median | Mean | 3rd Qu. | Max. | sd | sd_err_of_mean |\n",
       "|---|---|---|---|---|---|---|---|---|\n",
       "| min_len | 80 | 80 | 80 | 80 | 80 | 80 | 0 | 0 |\n",
       "\n"
      ],
      "text/plain": [
       "        Min. 1st Qu. Median Mean 3rd Qu. Max. sd sd_err_of_mean\n",
       "min_len 80   80      80     80   80      80   0  0             "
      ]
     },
     "metadata": {},
     "output_type": "display_data"
    },
    {
     "data": {
      "text/html": [
       "<table class=\"dataframe\">\n",
       "<caption>A matrix: 1 × 8 of type dbl</caption>\n",
       "<thead>\n",
       "\t<tr><th></th><th scope=col>Min.</th><th scope=col>1st Qu.</th><th scope=col>Median</th><th scope=col>Mean</th><th scope=col>3rd Qu.</th><th scope=col>Max.</th><th scope=col>sd</th><th scope=col>sd_err_of_mean</th></tr>\n",
       "</thead>\n",
       "<tbody>\n",
       "\t<tr><th scope=row>avg_len</th><td>93.5</td><td>98.3</td><td>99</td><td>103.1545</td><td>99.6</td><td>149.5</td><td>14.513</td><td>5.925</td></tr>\n",
       "</tbody>\n",
       "</table>\n"
      ],
      "text/latex": [
       "A matrix: 1 × 8 of type dbl\n",
       "\\begin{tabular}{r|llllllll}\n",
       "  & Min. & 1st Qu. & Median & Mean & 3rd Qu. & Max. & sd & sd\\_err\\_of\\_mean\\\\\n",
       "\\hline\n",
       "\tavg\\_len & 93.5 & 98.3 & 99 & 103.1545 & 99.6 & 149.5 & 14.513 & 5.925\\\\\n",
       "\\end{tabular}\n"
      ],
      "text/markdown": [
       "\n",
       "A matrix: 1 × 8 of type dbl\n",
       "\n",
       "| <!--/--> | Min. | 1st Qu. | Median | Mean | 3rd Qu. | Max. | sd | sd_err_of_mean |\n",
       "|---|---|---|---|---|---|---|---|---|\n",
       "| avg_len | 93.5 | 98.3 | 99 | 103.1545 | 99.6 | 149.5 | 14.513 | 5.925 |\n",
       "\n"
      ],
      "text/plain": [
       "        Min. 1st Qu. Median Mean     3rd Qu. Max.  sd     sd_err_of_mean\n",
       "avg_len 93.5 98.3    99     103.1545 99.6    149.5 14.513 5.925         "
      ]
     },
     "metadata": {},
     "output_type": "display_data"
    },
    {
     "data": {
      "text/html": [
       "<table class=\"dataframe\">\n",
       "<caption>A matrix: 1 × 8 of type dbl</caption>\n",
       "<thead>\n",
       "\t<tr><th></th><th scope=col>Min.</th><th scope=col>1st Qu.</th><th scope=col>Median</th><th scope=col>Mean</th><th scope=col>3rd Qu.</th><th scope=col>Max.</th><th scope=col>sd</th><th scope=col>sd_err_of_mean</th></tr>\n",
       "</thead>\n",
       "<tbody>\n",
       "\t<tr><th scope=row>max_len</th><td>101</td><td>101</td><td>101</td><td>105.3974</td><td>101</td><td>150</td><td>14.05</td><td>5.736</td></tr>\n",
       "</tbody>\n",
       "</table>\n"
      ],
      "text/latex": [
       "A matrix: 1 × 8 of type dbl\n",
       "\\begin{tabular}{r|llllllll}\n",
       "  & Min. & 1st Qu. & Median & Mean & 3rd Qu. & Max. & sd & sd\\_err\\_of\\_mean\\\\\n",
       "\\hline\n",
       "\tmax\\_len & 101 & 101 & 101 & 105.3974 & 101 & 150 & 14.05 & 5.736\\\\\n",
       "\\end{tabular}\n"
      ],
      "text/markdown": [
       "\n",
       "A matrix: 1 × 8 of type dbl\n",
       "\n",
       "| <!--/--> | Min. | 1st Qu. | Median | Mean | 3rd Qu. | Max. | sd | sd_err_of_mean |\n",
       "|---|---|---|---|---|---|---|---|---|\n",
       "| max_len | 101 | 101 | 101 | 105.3974 | 101 | 150 | 14.05 | 5.736 |\n",
       "\n"
      ],
      "text/plain": [
       "        Min. 1st Qu. Median Mean     3rd Qu. Max. sd    sd_err_of_mean\n",
       "max_len 101  101     101    105.3974 101     150  14.05 5.736         "
      ]
     },
     "metadata": {},
     "output_type": "display_data"
    },
    {
     "data": {
      "text/html": [
       "<table class=\"dataframe\">\n",
       "<caption>A matrix: 1 × 8 of type dbl</caption>\n",
       "<thead>\n",
       "\t<tr><th></th><th scope=col>Min.</th><th scope=col>1st Qu.</th><th scope=col>Median</th><th scope=col>Mean</th><th scope=col>3rd Qu.</th><th scope=col>Max.</th><th scope=col>sd</th><th scope=col>sd_err_of_mean</th></tr>\n",
       "</thead>\n",
       "<tbody>\n",
       "\t<tr><th scope=row>Q30...</th><td>77.1</td><td>88.67</td><td>90.52</td><td>90.03962</td><td>92.6025</td><td>95.9</td><td>3.564</td><td>1.455</td></tr>\n",
       "</tbody>\n",
       "</table>\n"
      ],
      "text/latex": [
       "A matrix: 1 × 8 of type dbl\n",
       "\\begin{tabular}{r|llllllll}\n",
       "  & Min. & 1st Qu. & Median & Mean & 3rd Qu. & Max. & sd & sd\\_err\\_of\\_mean\\\\\n",
       "\\hline\n",
       "\tQ30... & 77.1 & 88.67 & 90.52 & 90.03962 & 92.6025 & 95.9 & 3.564 & 1.455\\\\\n",
       "\\end{tabular}\n"
      ],
      "text/markdown": [
       "\n",
       "A matrix: 1 × 8 of type dbl\n",
       "\n",
       "| <!--/--> | Min. | 1st Qu. | Median | Mean | 3rd Qu. | Max. | sd | sd_err_of_mean |\n",
       "|---|---|---|---|---|---|---|---|---|\n",
       "| Q30... | 77.1 | 88.67 | 90.52 | 90.03962 | 92.6025 | 95.9 | 3.564 | 1.455 |\n",
       "\n"
      ],
      "text/plain": [
       "       Min. 1st Qu. Median Mean     3rd Qu. Max. sd    sd_err_of_mean\n",
       "Q30... 77.1 88.67   90.52  90.03962 92.6025 95.9 3.564 1.455         "
      ]
     },
     "metadata": {},
     "output_type": "display_data"
    }
   ],
   "source": [
    "# stats\n",
    "summary_x(seqkit$num_seqs)\n",
    "summary_x(seqkit$min_len)\n",
    "summary_x(seqkit$avg_len)\n",
    "summary_x(seqkit$max_len)\n",
    "summary_x(seqkit$Q30...)"
   ]
  },
  {
   "cell_type": "code",
   "execution_count": 126,
   "metadata": {
    "ExecuteTime": {
     "end_time": "2022-09-19T15:22:45.148647Z",
     "start_time": "2022-09-19T15:22:45.022Z"
    }
   },
   "outputs": [
    {
     "data": {
      "text/html": [
       "<table class=\"dataframe\">\n",
       "<caption>A tidytable: 78 × 4</caption>\n",
       "<thead>\n",
       "\t<tr><th scope=col>Sample</th><th scope=col>num_seqs</th><th scope=col>avg_len</th><th scope=col>Q30...</th></tr>\n",
       "\t<tr><th scope=col>&lt;chr&gt;</th><th scope=col>&lt;int&gt;</th><th scope=col>&lt;dbl&gt;</th><th scope=col>&lt;dbl&gt;</th></tr>\n",
       "</thead>\n",
       "<tbody>\n",
       "\t<tr><td>SRS497392</td><td>4274808</td><td>99.9</td><td>89.26</td></tr>\n",
       "\t<tr><td>SRS497473</td><td>4245732</td><td>99.8</td><td>89.11</td></tr>\n",
       "\t<tr><td>⋮</td><td>⋮</td><td>⋮</td><td>⋮</td></tr>\n",
       "\t<tr><td>SRS4302118</td><td>4770059</td><td>149.5</td><td>95.67</td></tr>\n",
       "\t<tr><td>SRS4302113</td><td>4538119</td><td>149.2</td><td>95.90</td></tr>\n",
       "</tbody>\n",
       "</table>\n"
      ],
      "text/latex": [
       "A tidytable: 78 × 4\n",
       "\\begin{tabular}{llll}\n",
       " Sample & num\\_seqs & avg\\_len & Q30...\\\\\n",
       " <chr> & <int> & <dbl> & <dbl>\\\\\n",
       "\\hline\n",
       "\t SRS497392 & 4274808 & 99.9 & 89.26\\\\\n",
       "\t SRS497473 & 4245732 & 99.8 & 89.11\\\\\n",
       "\t ⋮ & ⋮ & ⋮ & ⋮\\\\\n",
       "\t SRS4302118 & 4770059 & 149.5 & 95.67\\\\\n",
       "\t SRS4302113 & 4538119 & 149.2 & 95.90\\\\\n",
       "\\end{tabular}\n"
      ],
      "text/markdown": [
       "\n",
       "A tidytable: 78 × 4\n",
       "\n",
       "| Sample &lt;chr&gt; | num_seqs &lt;int&gt; | avg_len &lt;dbl&gt; | Q30... &lt;dbl&gt; |\n",
       "|---|---|---|---|\n",
       "| SRS497392 | 4274808 | 99.9 | 89.26 |\n",
       "| SRS497473 | 4245732 | 99.8 | 89.11 |\n",
       "| ⋮ | ⋮ | ⋮ | ⋮ |\n",
       "| SRS4302118 | 4770059 | 149.5 | 95.67 |\n",
       "| SRS4302113 | 4538119 | 149.2 | 95.90 |\n",
       "\n"
      ],
      "text/plain": [
       "   Sample     num_seqs avg_len Q30...\n",
       "1  SRS497392  4274808  99.9    89.26 \n",
       "2  SRS497473  4245732  99.8    89.11 \n",
       "⋮  ⋮          ⋮        ⋮       ⋮     \n",
       "77 SRS4302118 4770059  149.5   95.67 \n",
       "78 SRS4302113 4538119  149.2   95.90 "
      ]
     },
     "metadata": {},
     "output_type": "display_data"
    }
   ],
   "source": [
    "# filtering to >=1 million paired reads\n",
    "seqkit_f = seqkit %>%\n",
    "    filter.(num_seqs >= 1e6) %>%\n",
    "    filter.(Read == 1) %>%\n",
    "    select.(Sample, num_seqs, avg_len, Q30...)\n",
    "seqkit_f"
   ]
  },
  {
   "cell_type": "code",
   "execution_count": 127,
   "metadata": {
    "ExecuteTime": {
     "end_time": "2022-09-19T15:22:47.647790Z",
     "start_time": "2022-09-19T15:22:47.418Z"
    }
   },
   "outputs": [
    {
     "data": {
      "text/html": [
       "<table class=\"dataframe\">\n",
       "<caption>A tidytable: 78 × 44</caption>\n",
       "<thead>\n",
       "\t<tr><th scope=col>Sample</th><th scope=col>Read1</th><th scope=col>Read2</th><th scope=col>Notes</th><th scope=col>library_id</th><th scope=col>project_id</th><th scope=col>TMDB_material</th><th scope=col>TMDB_biome</th><th scope=col>project_name</th><th scope=col>sample_location</th><th scope=col>⋯</th><th scope=col>average_length</th><th scope=col>quality_above_30_SRA</th><th scope=col>mean_quality_SRA</th><th scope=col>drisee_score_raw_MGRAST</th><th scope=col>creation_date</th><th scope=col>source_database</th><th scope=col>n_samples</th><th scope=col>num_seqs</th><th scope=col>avg_len</th><th scope=col>Q30...</th></tr>\n",
       "\t<tr><th scope=col>&lt;chr&gt;</th><th scope=col>&lt;chr&gt;</th><th scope=col>&lt;chr&gt;</th><th scope=col>&lt;lgl&gt;</th><th scope=col>&lt;chr&gt;</th><th scope=col>&lt;chr&gt;</th><th scope=col>&lt;chr&gt;</th><th scope=col>&lt;chr&gt;</th><th scope=col>&lt;chr&gt;</th><th scope=col>&lt;chr&gt;</th><th scope=col>⋯</th><th scope=col>&lt;int&gt;</th><th scope=col>&lt;int&gt;</th><th scope=col>&lt;dbl&gt;</th><th scope=col>&lt;lgl&gt;</th><th scope=col>&lt;date&gt;</th><th scope=col>&lt;chr&gt;</th><th scope=col>&lt;int&gt;</th><th scope=col>&lt;int&gt;</th><th scope=col>&lt;dbl&gt;</th><th scope=col>&lt;dbl&gt;</th></tr>\n",
       "</thead>\n",
       "<tbody>\n",
       "\t<tr><td>SRS497392</td><td>/ebio/abt3_projects/databases_no-backup/DeepMAsED/version2/real_data_eval/tmdb/LLMGQC/final/SRS497392/R1_final.fq.gz</td><td>/ebio/abt3_projects/databases_no-backup/DeepMAsED/version2/real_data_eval/tmdb/LLMGQC/final/SRS497392/R2_final.fq.gz</td><td>NA</td><td>SRR1022653</td><td>SRX371704</td><td>soil</td><td>grassland</td><td>F2U Metagenome</td><td>China</td><td>⋯</td><td>202</td><td>83</td><td>32.74</td><td>NA</td><td>2013-12-09</td><td>SRA</td><td>12</td><td>4274808</td><td>99.9</td><td>89.26</td></tr>\n",
       "\t<tr><td>SRS497473</td><td>/ebio/abt3_projects/databases_no-backup/DeepMAsED/version2/real_data_eval/tmdb/LLMGQC/final/SRS497473/R1_final.fq.gz</td><td>/ebio/abt3_projects/databases_no-backup/DeepMAsED/version2/real_data_eval/tmdb/LLMGQC/final/SRS497473/R2_final.fq.gz</td><td>NA</td><td>SRR1022935</td><td>SRX372043</td><td>soil</td><td>grassland</td><td>F2U Metagenome</td><td>China</td><td>⋯</td><td>202</td><td>83</td><td>32.57</td><td>NA</td><td>2013-12-09</td><td>SRA</td><td>12</td><td>4245732</td><td>99.8</td><td>89.11</td></tr>\n",
       "\t<tr><td>⋮</td><td>⋮</td><td>⋮</td><td>⋮</td><td>⋮</td><td>⋮</td><td>⋮</td><td>⋮</td><td>⋮</td><td>⋮</td><td>⋱</td><td>⋮</td><td>⋮</td><td>⋮</td><td>⋮</td><td>⋮</td><td>⋮</td><td>⋮</td><td>⋮</td><td>⋮</td><td>⋮</td></tr>\n",
       "\t<tr><td>SRS4302118</td><td>/ebio/abt3_projects/databases_no-backup/DeepMAsED/version2/real_data_eval/tmdb/LLMGQC/final/SRS4302118/R1_final.fq.gz</td><td>/ebio/abt3_projects/databases_no-backup/DeepMAsED/version2/real_data_eval/tmdb/LLMGQC/final/SRS4302118/R2_final.fq.gz</td><td>NA</td><td>SRR8500479</td><td>SRX5304465</td><td>soil</td><td>forest</td><td>Soil metagenome Metagenome</td><td>NA</td><td>⋯</td><td>300</td><td>93</td><td>39.17</td><td>NA</td><td>2019-01-28</td><td>SRA</td><td>11</td><td>4770059</td><td>149.5</td><td>95.67</td></tr>\n",
       "\t<tr><td>SRS4302113</td><td>/ebio/abt3_projects/databases_no-backup/DeepMAsED/version2/real_data_eval/tmdb/LLMGQC/final/SRS4302113/R1_final.fq.gz</td><td>/ebio/abt3_projects/databases_no-backup/DeepMAsED/version2/real_data_eval/tmdb/LLMGQC/final/SRS4302113/R2_final.fq.gz</td><td>NA</td><td>SRR8500484</td><td>SRX5304460</td><td>soil</td><td>forest</td><td>Soil metagenome Metagenome</td><td>NA</td><td>⋯</td><td>300</td><td>93</td><td>39.28</td><td>NA</td><td>2019-01-28</td><td>SRA</td><td>11</td><td>4538119</td><td>149.2</td><td>95.90</td></tr>\n",
       "</tbody>\n",
       "</table>\n"
      ],
      "text/latex": [
       "A tidytable: 78 × 44\n",
       "\\begin{tabular}{lllllllllllllllllllll}\n",
       " Sample & Read1 & Read2 & Notes & library\\_id & project\\_id & TMDB\\_material & TMDB\\_biome & project\\_name & sample\\_location & ⋯ & average\\_length & quality\\_above\\_30\\_SRA & mean\\_quality\\_SRA & drisee\\_score\\_raw\\_MGRAST & creation\\_date & source\\_database & n\\_samples & num\\_seqs & avg\\_len & Q30...\\\\\n",
       " <chr> & <chr> & <chr> & <lgl> & <chr> & <chr> & <chr> & <chr> & <chr> & <chr> & ⋯ & <int> & <int> & <dbl> & <lgl> & <date> & <chr> & <int> & <int> & <dbl> & <dbl>\\\\\n",
       "\\hline\n",
       "\t SRS497392 & /ebio/abt3\\_projects/databases\\_no-backup/DeepMAsED/version2/real\\_data\\_eval/tmdb/LLMGQC/final/SRS497392/R1\\_final.fq.gz & /ebio/abt3\\_projects/databases\\_no-backup/DeepMAsED/version2/real\\_data\\_eval/tmdb/LLMGQC/final/SRS497392/R2\\_final.fq.gz & NA & SRR1022653 & SRX371704 & soil & grassland & F2U Metagenome & China & ⋯ & 202 & 83 & 32.74 & NA & 2013-12-09 & SRA & 12 & 4274808 & 99.9 & 89.26\\\\\n",
       "\t SRS497473 & /ebio/abt3\\_projects/databases\\_no-backup/DeepMAsED/version2/real\\_data\\_eval/tmdb/LLMGQC/final/SRS497473/R1\\_final.fq.gz & /ebio/abt3\\_projects/databases\\_no-backup/DeepMAsED/version2/real\\_data\\_eval/tmdb/LLMGQC/final/SRS497473/R2\\_final.fq.gz & NA & SRR1022935 & SRX372043 & soil & grassland & F2U Metagenome & China & ⋯ & 202 & 83 & 32.57 & NA & 2013-12-09 & SRA & 12 & 4245732 & 99.8 & 89.11\\\\\n",
       "\t ⋮ & ⋮ & ⋮ & ⋮ & ⋮ & ⋮ & ⋮ & ⋮ & ⋮ & ⋮ & ⋱ & ⋮ & ⋮ & ⋮ & ⋮ & ⋮ & ⋮ & ⋮ & ⋮ & ⋮ & ⋮\\\\\n",
       "\t SRS4302118 & /ebio/abt3\\_projects/databases\\_no-backup/DeepMAsED/version2/real\\_data\\_eval/tmdb/LLMGQC/final/SRS4302118/R1\\_final.fq.gz & /ebio/abt3\\_projects/databases\\_no-backup/DeepMAsED/version2/real\\_data\\_eval/tmdb/LLMGQC/final/SRS4302118/R2\\_final.fq.gz & NA & SRR8500479 & SRX5304465 & soil & forest & Soil metagenome Metagenome & NA & ⋯ & 300 & 93 & 39.17 & NA & 2019-01-28 & SRA & 11 & 4770059 & 149.5 & 95.67\\\\\n",
       "\t SRS4302113 & /ebio/abt3\\_projects/databases\\_no-backup/DeepMAsED/version2/real\\_data\\_eval/tmdb/LLMGQC/final/SRS4302113/R1\\_final.fq.gz & /ebio/abt3\\_projects/databases\\_no-backup/DeepMAsED/version2/real\\_data\\_eval/tmdb/LLMGQC/final/SRS4302113/R2\\_final.fq.gz & NA & SRR8500484 & SRX5304460 & soil & forest & Soil metagenome Metagenome & NA & ⋯ & 300 & 93 & 39.28 & NA & 2019-01-28 & SRA & 11 & 4538119 & 149.2 & 95.90\\\\\n",
       "\\end{tabular}\n"
      ],
      "text/markdown": [
       "\n",
       "A tidytable: 78 × 44\n",
       "\n",
       "| Sample &lt;chr&gt; | Read1 &lt;chr&gt; | Read2 &lt;chr&gt; | Notes &lt;lgl&gt; | library_id &lt;chr&gt; | project_id &lt;chr&gt; | TMDB_material &lt;chr&gt; | TMDB_biome &lt;chr&gt; | project_name &lt;chr&gt; | sample_location &lt;chr&gt; | ⋯ ⋯ | average_length &lt;int&gt; | quality_above_30_SRA &lt;int&gt; | mean_quality_SRA &lt;dbl&gt; | drisee_score_raw_MGRAST &lt;lgl&gt; | creation_date &lt;date&gt; | source_database &lt;chr&gt; | n_samples &lt;int&gt; | num_seqs &lt;int&gt; | avg_len &lt;dbl&gt; | Q30... &lt;dbl&gt; |\n",
       "|---|---|---|---|---|---|---|---|---|---|---|---|---|---|---|---|---|---|---|---|---|\n",
       "| SRS497392 | /ebio/abt3_projects/databases_no-backup/DeepMAsED/version2/real_data_eval/tmdb/LLMGQC/final/SRS497392/R1_final.fq.gz | /ebio/abt3_projects/databases_no-backup/DeepMAsED/version2/real_data_eval/tmdb/LLMGQC/final/SRS497392/R2_final.fq.gz | NA | SRR1022653 | SRX371704 | soil | grassland | F2U Metagenome | China | ⋯ | 202 | 83 | 32.74 | NA | 2013-12-09 | SRA | 12 | 4274808 | 99.9 | 89.26 |\n",
       "| SRS497473 | /ebio/abt3_projects/databases_no-backup/DeepMAsED/version2/real_data_eval/tmdb/LLMGQC/final/SRS497473/R1_final.fq.gz | /ebio/abt3_projects/databases_no-backup/DeepMAsED/version2/real_data_eval/tmdb/LLMGQC/final/SRS497473/R2_final.fq.gz | NA | SRR1022935 | SRX372043 | soil | grassland | F2U Metagenome | China | ⋯ | 202 | 83 | 32.57 | NA | 2013-12-09 | SRA | 12 | 4245732 | 99.8 | 89.11 |\n",
       "| ⋮ | ⋮ | ⋮ | ⋮ | ⋮ | ⋮ | ⋮ | ⋮ | ⋮ | ⋮ | ⋱ | ⋮ | ⋮ | ⋮ | ⋮ | ⋮ | ⋮ | ⋮ | ⋮ | ⋮ | ⋮ |\n",
       "| SRS4302118 | /ebio/abt3_projects/databases_no-backup/DeepMAsED/version2/real_data_eval/tmdb/LLMGQC/final/SRS4302118/R1_final.fq.gz | /ebio/abt3_projects/databases_no-backup/DeepMAsED/version2/real_data_eval/tmdb/LLMGQC/final/SRS4302118/R2_final.fq.gz | NA | SRR8500479 | SRX5304465 | soil | forest | Soil metagenome Metagenome | NA | ⋯ | 300 | 93 | 39.17 | NA | 2019-01-28 | SRA | 11 | 4770059 | 149.5 | 95.67 |\n",
       "| SRS4302113 | /ebio/abt3_projects/databases_no-backup/DeepMAsED/version2/real_data_eval/tmdb/LLMGQC/final/SRS4302113/R1_final.fq.gz | /ebio/abt3_projects/databases_no-backup/DeepMAsED/version2/real_data_eval/tmdb/LLMGQC/final/SRS4302113/R2_final.fq.gz | NA | SRR8500484 | SRX5304460 | soil | forest | Soil metagenome Metagenome | NA | ⋯ | 300 | 93 | 39.28 | NA | 2019-01-28 | SRA | 11 | 4538119 | 149.2 | 95.90 |\n",
       "\n"
      ],
      "text/plain": [
       "   Sample    \n",
       "1  SRS497392 \n",
       "2  SRS497473 \n",
       "⋮  ⋮         \n",
       "77 SRS4302118\n",
       "78 SRS4302113\n",
       "   Read1                                                                                                                \n",
       "1  /ebio/abt3_projects/databases_no-backup/DeepMAsED/version2/real_data_eval/tmdb/LLMGQC/final/SRS497392/R1_final.fq.gz \n",
       "2  /ebio/abt3_projects/databases_no-backup/DeepMAsED/version2/real_data_eval/tmdb/LLMGQC/final/SRS497473/R1_final.fq.gz \n",
       "⋮  ⋮                                                                                                                    \n",
       "77 /ebio/abt3_projects/databases_no-backup/DeepMAsED/version2/real_data_eval/tmdb/LLMGQC/final/SRS4302118/R1_final.fq.gz\n",
       "78 /ebio/abt3_projects/databases_no-backup/DeepMAsED/version2/real_data_eval/tmdb/LLMGQC/final/SRS4302113/R1_final.fq.gz\n",
       "   Read2                                                                                                                \n",
       "1  /ebio/abt3_projects/databases_no-backup/DeepMAsED/version2/real_data_eval/tmdb/LLMGQC/final/SRS497392/R2_final.fq.gz \n",
       "2  /ebio/abt3_projects/databases_no-backup/DeepMAsED/version2/real_data_eval/tmdb/LLMGQC/final/SRS497473/R2_final.fq.gz \n",
       "⋮  ⋮                                                                                                                    \n",
       "77 /ebio/abt3_projects/databases_no-backup/DeepMAsED/version2/real_data_eval/tmdb/LLMGQC/final/SRS4302118/R2_final.fq.gz\n",
       "78 /ebio/abt3_projects/databases_no-backup/DeepMAsED/version2/real_data_eval/tmdb/LLMGQC/final/SRS4302113/R2_final.fq.gz\n",
       "   Notes library_id project_id TMDB_material TMDB_biome\n",
       "1  NA    SRR1022653 SRX371704  soil          grassland \n",
       "2  NA    SRR1022935 SRX372043  soil          grassland \n",
       "⋮  ⋮     ⋮          ⋮          ⋮             ⋮         \n",
       "77 NA    SRR8500479 SRX5304465 soil          forest    \n",
       "78 NA    SRR8500484 SRX5304460 soil          forest    \n",
       "   project_name               sample_location ⋯ average_length\n",
       "1  F2U Metagenome             China           ⋯ 202           \n",
       "2  F2U Metagenome             China           ⋯ 202           \n",
       "⋮  ⋮                          ⋮               ⋱ ⋮             \n",
       "77 Soil metagenome Metagenome NA              ⋯ 300           \n",
       "78 Soil metagenome Metagenome NA              ⋯ 300           \n",
       "   quality_above_30_SRA mean_quality_SRA drisee_score_raw_MGRAST creation_date\n",
       "1  83                   32.74            NA                      2013-12-09   \n",
       "2  83                   32.57            NA                      2013-12-09   \n",
       "⋮  ⋮                    ⋮                ⋮                       ⋮            \n",
       "77 93                   39.17            NA                      2019-01-28   \n",
       "78 93                   39.28            NA                      2019-01-28   \n",
       "   source_database n_samples num_seqs avg_len Q30...\n",
       "1  SRA             12        4274808  99.9    89.26 \n",
       "2  SRA             12        4245732  99.8    89.11 \n",
       "⋮  ⋮               ⋮         ⋮        ⋮       ⋮     \n",
       "77 SRA             11        4770059  149.5   95.67 \n",
       "78 SRA             11        4538119  149.2   95.90 "
      ]
     },
     "metadata": {},
     "output_type": "display_data"
    }
   ],
   "source": [
    "# joining samps & quality\n",
    "samps_fj = samps_f %>%\n",
    "    inner_join.(seqkit_f, c('Sample'))\n",
    "samps_fj"
   ]
  },
  {
   "cell_type": "code",
   "execution_count": 128,
   "metadata": {
    "ExecuteTime": {
     "end_time": "2022-09-19T15:22:48.990027Z",
     "start_time": "2022-09-19T15:22:48.873Z"
    }
   },
   "outputs": [
    {
     "data": {
      "text/plain": [
       ".\n",
       "Canadian High Artic Metagenomes                  F2U Metagenome \n",
       "                             59                              12 \n",
       "     Soil metagenome Metagenome \n",
       "                              7 "
      ]
     },
     "metadata": {},
     "output_type": "display_data"
    }
   ],
   "source": [
    "# projects\n",
    "samps_fj$project_name %>% table"
   ]
  },
  {
   "cell_type": "markdown",
   "metadata": {},
   "source": [
    "## Writing table"
   ]
  },
  {
   "cell_type": "code",
   "execution_count": 129,
   "metadata": {
    "ExecuteTime": {
     "end_time": "2022-09-19T15:22:52.149896Z",
     "start_time": "2022-09-19T15:22:52.024Z"
    }
   },
   "outputs": [
    {
     "name": "stdout",
     "output_type": "stream",
     "text": [
      "File written: /ebio/abt3_projects/databases_no-backup/DeepMAsED/version2/real_data_eval/tmdb//LLMGQC/final/samples_final.tsv \n"
     ]
    }
   ],
   "source": [
    "F = file.path(work_dir, 'LLMGQC', 'final', 'samples_final.tsv')\n",
    "write_table(samps_fj, F)"
   ]
  },
  {
   "cell_type": "markdown",
   "metadata": {},
   "source": [
    "# sessionInfo"
   ]
  },
  {
   "cell_type": "code",
   "execution_count": 117,
   "metadata": {
    "ExecuteTime": {
     "end_time": "2022-09-17T17:10:05.750228Z",
     "start_time": "2022-09-17T17:10:05.583Z"
    }
   },
   "outputs": [
    {
     "data": {
      "text/plain": [
       "R version 4.1.1 (2021-08-10)\n",
       "Platform: x86_64-conda-linux-gnu (64-bit)\n",
       "Running under: Ubuntu 20.04.4 LTS\n",
       "\n",
       "Matrix products: default\n",
       "BLAS/LAPACK: /tmp/global2/nyoungblut/code/general/conda_envs/general-tidyverse/lib/libopenblasp-r0.3.18.so\n",
       "\n",
       "locale:\n",
       " [1] LC_CTYPE=en_US.UTF-8       LC_NUMERIC=C              \n",
       " [3] LC_TIME=en_US.UTF-8        LC_COLLATE=en_US.UTF-8    \n",
       " [5] LC_MONETARY=en_US.UTF-8    LC_MESSAGES=en_US.UTF-8   \n",
       " [7] LC_PAPER=en_US.UTF-8       LC_NAME=C                 \n",
       " [9] LC_ADDRESS=C               LC_TELEPHONE=C            \n",
       "[11] LC_MEASUREMENT=en_US.UTF-8 LC_IDENTIFICATION=C       \n",
       "\n",
       "attached base packages:\n",
       "[1] stats     graphics  grDevices utils     datasets  methods   base     \n",
       "\n",
       "other attached packages:\n",
       "[1] clustermq_0.8.95.2 LeyLabRMisc_0.2.1  tidytable_0.6.6    data.table_1.14.2 \n",
       "[5] ggplot2_3.3.5      tidyr_1.1.4        dplyr_1.0.7       \n",
       "\n",
       "loaded via a namespace (and not attached):\n",
       " [1] Rcpp_1.0.7       plyr_1.8.6       pillar_1.6.4     compiler_4.1.1  \n",
       " [5] base64enc_0.1-3  tools_4.1.1      bit_4.0.4        digest_0.6.29   \n",
       " [9] uuid_1.0-3       jsonlite_1.7.2   evaluate_0.14    lifecycle_1.0.1 \n",
       "[13] tibble_3.1.6     gtable_0.3.0     pkgconfig_2.0.3  rlang_0.4.12    \n",
       "[17] cli_3.1.0        IRdisplay_1.1    IRkernel_1.3     fastmap_1.1.0   \n",
       "[21] repr_1.1.4       withr_2.4.3      generics_0.1.1   vctrs_0.3.8     \n",
       "[25] bit64_4.0.5      grid_4.1.1       tidyselect_1.1.1 glue_1.6.0      \n",
       "[29] R6_2.5.1         fansi_1.0.0      pbdZMQ_0.3-6     purrr_0.3.4     \n",
       "[33] magrittr_2.0.1   codetools_0.2-18 scales_1.1.1     ellipsis_0.3.2  \n",
       "[37] htmltools_0.5.2  colorspace_2.0-2 utf8_1.2.2       munsell_0.5.0   \n",
       "[41] crayon_1.4.2    "
      ]
     },
     "metadata": {},
     "output_type": "display_data"
    }
   ],
   "source": [
    "sessionInfo()"
   ]
  }
 ],
 "metadata": {
  "kernelspec": {
   "display_name": "R [conda env:general-tidyverse]",
   "language": "R",
   "name": "conda-env-general-tidyverse-r"
  },
  "language_info": {
   "codemirror_mode": "r",
   "file_extension": ".r",
   "mimetype": "text/x-r-source",
   "name": "R",
   "pygments_lexer": "r",
   "version": "4.1.1"
  },
  "toc": {
   "base_numbering": 1,
   "nav_menu": {},
   "number_sections": true,
   "sideBar": true,
   "skip_h1_title": false,
   "title_cell": "Table of Contents",
   "title_sidebar": "Contents",
   "toc_cell": true,
   "toc_position": {
    "height": "calc(100% - 180px)",
    "left": "10px",
    "top": "150px",
    "width": "294px"
   },
   "toc_section_display": true,
   "toc_window_display": true
  }
 },
 "nbformat": 4,
 "nbformat_minor": 4
}
