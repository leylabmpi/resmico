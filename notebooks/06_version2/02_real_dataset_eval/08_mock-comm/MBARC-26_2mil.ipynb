{
 "cells": [
  {
   "cell_type": "markdown",
   "metadata": {
    "toc": true
   },
   "source": [
    "<h1>Table of Contents<span class=\"tocSkip\"></span></h1>\n",
    "<div class=\"toc\"><ul class=\"toc-item\"><li><span><a href=\"#Goal\" data-toc-modified-id=\"Goal-1\"><span class=\"toc-item-num\">1&nbsp;&nbsp;</span>Goal</a></span></li><li><span><a href=\"#Var\" data-toc-modified-id=\"Var-2\"><span class=\"toc-item-num\">2&nbsp;&nbsp;</span>Var</a></span></li><li><span><a href=\"#Init\" data-toc-modified-id=\"Init-3\"><span class=\"toc-item-num\">3&nbsp;&nbsp;</span>Init</a></span></li><li><span><a href=\"#LLMGQC\" data-toc-modified-id=\"LLMGQC-4\"><span class=\"toc-item-num\">4&nbsp;&nbsp;</span>LLMGQC</a></span><ul class=\"toc-item\"><li><ul class=\"toc-item\"><li><span><a href=\"#Config\" data-toc-modified-id=\"Config-4.0.1\"><span class=\"toc-item-num\">4.0.1&nbsp;&nbsp;</span>Config</a></span></li><li><span><a href=\"#Run\" data-toc-modified-id=\"Run-4.0.2\"><span class=\"toc-item-num\">4.0.2&nbsp;&nbsp;</span>Run</a></span></li></ul></li><li><span><a href=\"#Summary\" data-toc-modified-id=\"Summary-4.1\"><span class=\"toc-item-num\">4.1&nbsp;&nbsp;</span>Summary</a></span><ul class=\"toc-item\"><li><ul class=\"toc-item\"><li><span><a href=\"#Notes\" data-toc-modified-id=\"Notes-4.1.0.1\"><span class=\"toc-item-num\">4.1.0.1&nbsp;&nbsp;</span>Notes</a></span></li></ul></li></ul></li></ul></li><li><span><a href=\"#Assembly\" data-toc-modified-id=\"Assembly-5\"><span class=\"toc-item-num\">5&nbsp;&nbsp;</span>Assembly</a></span><ul class=\"toc-item\"><li><ul class=\"toc-item\"><li><span><a href=\"#Config\" data-toc-modified-id=\"Config-5.0.1\"><span class=\"toc-item-num\">5.0.1&nbsp;&nbsp;</span>Config</a></span></li><li><span><a href=\"#Run\" data-toc-modified-id=\"Run-5.0.2\"><span class=\"toc-item-num\">5.0.2&nbsp;&nbsp;</span>Run</a></span></li></ul></li><li><span><a href=\"#MetaQUAST-summary\" data-toc-modified-id=\"MetaQUAST-summary-5.1\"><span class=\"toc-item-num\">5.1&nbsp;&nbsp;</span>MetaQUAST summary</a></span><ul class=\"toc-item\"><li><span><a href=\"#Post-assembly\" data-toc-modified-id=\"Post-assembly-5.1.1\"><span class=\"toc-item-num\">5.1.1&nbsp;&nbsp;</span>Post-assembly</a></span></li><li><span><a href=\"#Post-resmico\" data-toc-modified-id=\"Post-resmico-5.1.2\"><span class=\"toc-item-num\">5.1.2&nbsp;&nbsp;</span>Post-resmico</a></span></li><li><span><a href=\"#Diff-in-contigs-after-filtering\" data-toc-modified-id=\"Diff-in-contigs-after-filtering-5.1.3\"><span class=\"toc-item-num\">5.1.3&nbsp;&nbsp;</span>Diff in contigs after filtering</a></span></li></ul></li><li><span><a href=\"#PR-curve\" data-toc-modified-id=\"PR-curve-5.2\"><span class=\"toc-item-num\">5.2&nbsp;&nbsp;</span>PR curve</a></span></li></ul></li><li><span><a href=\"#Dataset-summary\" data-toc-modified-id=\"Dataset-summary-6\"><span class=\"toc-item-num\">6&nbsp;&nbsp;</span>Dataset summary</a></span></li><li><span><a href=\"#sessionInfo\" data-toc-modified-id=\"sessionInfo-7\"><span class=\"toc-item-num\">7&nbsp;&nbsp;</span>sessionInfo</a></span></li></ul></div>"
   ]
  },
  {
   "cell_type": "markdown",
   "metadata": {},
   "source": [
    "# Goal\n",
    "\n",
    "* Assess ResMiCo accuracy with the MBARC-26 mock community\n",
    "  * DOI: https://doi.org/10.1038/sdata.2016.81"
   ]
  },
  {
   "cell_type": "markdown",
   "metadata": {},
   "source": [
    "# Var"
   ]
  },
  {
   "cell_type": "code",
   "execution_count": 1,
   "metadata": {
    "ExecuteTime": {
     "end_time": "2023-02-11T14:50:53.437549Z",
     "start_time": "2023-02-11T14:50:53.227Z"
    }
   },
   "outputs": [],
   "source": [
    "work_dir = '/ebio/abt3_projects2/databases_no-backup/DeepMAsED/version2/mock/'\n",
    "\n",
    "read_dir = file.path(work_dir, 'LLMGQC')\n",
    "genome_dir = file.path(work_dir, 'ref_genomes', 'MBARC-26')\n",
    "\n",
    "# params\n",
    "threads = 6"
   ]
  },
  {
   "cell_type": "markdown",
   "metadata": {},
   "source": [
    "# Init"
   ]
  },
  {
   "cell_type": "code",
   "execution_count": 4,
   "metadata": {
    "ExecuteTime": {
     "end_time": "2023-02-11T14:50:56.589123Z",
     "start_time": "2023-02-11T14:50:56.441Z"
    }
   },
   "outputs": [],
   "source": [
    "library(dplyr)\n",
    "library(tidyr)\n",
    "library(ggplot2)\n",
    "library(data.table)\n",
    "library(tidytable)\n",
    "library(LeyLabRMisc)\n",
    "Init(threads=threads)"
   ]
  },
  {
   "cell_type": "code",
   "execution_count": 5,
   "metadata": {
    "ExecuteTime": {
     "end_time": "2023-02-11T14:50:56.727568Z",
     "start_time": "2023-02-11T14:50:56.596Z"
    }
   },
   "outputs": [],
   "source": [
    "library(PRROC)"
   ]
  },
  {
   "cell_type": "markdown",
   "metadata": {},
   "source": [
    "# LLMGQC"
   ]
  },
  {
   "cell_type": "markdown",
   "metadata": {},
   "source": [
    "### Config"
   ]
  },
  {
   "cell_type": "code",
   "execution_count": 6,
   "metadata": {
    "ExecuteTime": {
     "end_time": "2023-02-11T14:50:57.157383Z",
     "start_time": "2023-02-11T14:50:57.012Z"
    }
   },
   "outputs": [
    {
     "name": "stdout",
     "output_type": "stream",
     "text": [
      "#-- I/O --#\n",
      "# table with sample --> read_file information\n",
      "samples_file: /ebio/abt3_projects2/databases_no-backup/DeepMAsED/version2/mock/LLMGQC/samples.tsv\n",
      "\n",
      "# output location\n",
      "output_dir: /ebio/abt3_projects2/databases_no-backup/DeepMAsED/version2/mock/LLMGQC/\n",
      "\n",
      "# temporary file directory (your username will be added automatically)\n",
      "tmp_dir: /ebio/abt3_scratch/\n",
      "\n",
      "# ionice for reducing I/O load (use \"-c 2\" for noraml I/O usage) \n",
      "ionice: -c 3 \n",
      "\n",
      "#-- Software parameters --#\n",
      "# See the README for info on all major parameters\n",
      "# Use \"Skip\" to skip any of these steps. If no params for rule, use: \"\"\n",
      "params:\n",
      "  just_read1: False\n",
      "  download:\n",
      "    dump: --dump-method fasterq-dump --use-prefetch --bufsize 50M\n",
      "  initial_checks:\n",
      "    validate_reads: \"\"\n",
      "    convert_fastq_to_1.8: \"\"\n",
      "  subsample:\n",
      "    num_reads: Skip\n",
      "  raw:\n",
      "    seqkit: \"\"\n",
      "    fastqc: \"\"\n",
      "  deduplication:\n",
      "    clumpify: Skip #dedupe=t dupedist=40 optical=t spany=t adjacent=t\n",
      "    seqkit: \"\"\n",
      "    fastqc: \"\"\n",
      "  quality:      \n",
      "    bbduk: ref=./adapters/bbmap_adapters.fa fastawrap=300 k=23\n",
      "    skewer: -x ./adapters/PE_all.fa -n -l 100 -q 25\n",
      "    seqkit: \"\"\n",
      "    fastqc: \"\"\n",
      "  filter:       \n",
      "    bbmap: minratio=0.9 maxindel=1 bwr=0.16 bw=12 fast minhits=2 qtrim=r trimq=10 untrim\n",
      "           idtag printunmappedcount kfilter=25 maxsites=1 k=14 pairlen=1000 rescuedist=1000\n",
      "    ikraken2: Skip #--confidence 0.7\n",
      "    seqkit: \"\"\n",
      "    fastqc: \"\"\n",
      "  final:\n",
      "    seqkit: \"\"\n",
      "    fastqc: \"\"\n",
      "  coverage:\n",
      "    nonpareil: -T kmer\n",
      "    nonpareil_summary: 1e9      \n",
      "  skip_all:\n",
      "    seqkit: False\n",
      "    fastqc: False\n",
      "    QC: False\n",
      "\n",
      "#-- Databases --#\n",
      "databases:\n",
      "  ## hg19 = human genome database for filtering out human reads\n",
      "  bbmap: /ebio/abt3_projects2/databases_no-backup/Homo_sapiens/hg19/hg19\n",
      "  # ikraken2 (iterative kraken2-based read filtering)\n",
      "  ikraken2:  \n",
      "    animal_genomes: /ebio/abt3_projects/databases_no-backup/kraken2/animal_gut_microbiome_200908_db/kraken2/\n",
      "    vertebrate_all_nt: /ebio/abt3_projects/databases_no-backup/kraken2/vertebrata-all_nt_db/\n",
      "    plant: /ebio/abt3_projects/databases_no-backup/kraken2/plant_db/\n",
      "    fungi:  /ebio/abt3_projects/databases_no-backup/kraken2/fungi_db/\n",
      "    protozoa: /ebio/abt3_projects/databases_no-backup/kraken2/protozoa_db/\n",
      "    human: /ebio/abt3_projects/databases_no-backup/kraken2/human_db/\n",
      "    univec: /ebio/abt3_projects/databases_no-backup/kraken2/UniVec_Core_db/\n",
      "\n",
      "#-- Snakemake pipeline --#\n",
      "pipeline:\n",
      "  snakemake_folder: ./\n",
      "  script_folder: ./bin/scripts/\n",
      "  run_skip_locally: True        # trivial \"skip\" steps run locally (not qsub)\n",
      "  export_conda: True\n",
      "  name: LLMGQC"
     ]
    }
   ],
   "source": [
    "config_file = file.path(read_dir, 'config.yaml')\n",
    "cat_file(config_file)"
   ]
  },
  {
   "cell_type": "markdown",
   "metadata": {},
   "source": [
    "### Run"
   ]
  },
  {
   "cell_type": "markdown",
   "metadata": {},
   "source": [
    "```\n",
    "# (base) rick: /tmp/global2/nyoungblut/code/dev/ll_pipelines/llmgqc\n",
    "screen -L -S llmgqc-mock snakemake /ebio/abt3_projects2/databases_no-backup/DeepMAsED/version2/mock/LLMGQC/config.yaml 30 -F\n",
    "```"
   ]
  },
  {
   "cell_type": "markdown",
   "metadata": {},
   "source": [
    "## Summary"
   ]
  },
  {
   "cell_type": "code",
   "execution_count": 7,
   "metadata": {
    "ExecuteTime": {
     "end_time": "2023-02-11T14:50:59.046168Z",
     "start_time": "2023-02-11T14:50:58.752Z"
    }
   },
   "outputs": [
    {
     "data": {
      "text/html": [
       "<table class=\"dataframe\">\n",
       "<caption>A data.table: 4 × 18</caption>\n",
       "<thead>\n",
       "\t<tr><th scope=col>Sample</th><th scope=col>Read</th><th scope=col>file</th><th scope=col>format</th><th scope=col>type</th><th scope=col>num_seqs</th><th scope=col>sum_len</th><th scope=col>min_len</th><th scope=col>avg_len</th><th scope=col>max_len</th><th scope=col>Q1</th><th scope=col>Q2</th><th scope=col>Q3</th><th scope=col>sum_gap</th><th scope=col>N50</th><th scope=col>Q20...</th><th scope=col>Q30...</th><th scope=col>GC...</th></tr>\n",
       "\t<tr><th scope=col>&lt;chr&gt;</th><th scope=col>&lt;int&gt;</th><th scope=col>&lt;chr&gt;</th><th scope=col>&lt;chr&gt;</th><th scope=col>&lt;chr&gt;</th><th scope=col>&lt;int&gt;</th><th scope=col>&lt;int64&gt;</th><th scope=col>&lt;int&gt;</th><th scope=col>&lt;dbl&gt;</th><th scope=col>&lt;int&gt;</th><th scope=col>&lt;dbl&gt;</th><th scope=col>&lt;dbl&gt;</th><th scope=col>&lt;dbl&gt;</th><th scope=col>&lt;int&gt;</th><th scope=col>&lt;int&gt;</th><th scope=col>&lt;dbl&gt;</th><th scope=col>&lt;dbl&gt;</th><th scope=col>&lt;dbl&gt;</th></tr>\n",
       "</thead>\n",
       "<tbody>\n",
       "\t<tr><td>BMock12 </td><td>1</td><td>/ebio/abt3_projects2/databases_no-backup/DeepMAsED/version2/mock/LLMGQC/final/BMock12/R1_final.fq.gz </td><td>FASTQ</td><td>DNA</td><td>209143660</td><td>31323356697</td><td>100</td><td>149.8</td><td>151</td><td>150</td><td>151</td><td>151</td><td>0</td><td>151</td><td>97.08</td><td>93.40</td><td>51.40</td></tr>\n",
       "\t<tr><td>BMock12 </td><td>2</td><td>/ebio/abt3_projects2/databases_no-backup/DeepMAsED/version2/mock/LLMGQC/final/BMock12/R2_final.fq.gz </td><td>FASTQ</td><td>DNA</td><td>209143660</td><td>31156239500</td><td>100</td><td>149.0</td><td>151</td><td>150</td><td>151</td><td>151</td><td>0</td><td>151</td><td>96.02</td><td>91.53</td><td>51.37</td></tr>\n",
       "\t<tr><td>MBARC-26</td><td>1</td><td>/ebio/abt3_projects2/databases_no-backup/DeepMAsED/version2/mock/LLMGQC/final/MBARC-26/R1_final.fq.gz</td><td>FASTQ</td><td>DNA</td><td>156480171</td><td>23035510442</td><td>100</td><td>147.2</td><td>150</td><td>149</td><td>150</td><td>150</td><td>0</td><td>150</td><td>98.18</td><td>90.98</td><td>49.26</td></tr>\n",
       "\t<tr><td>MBARC-26</td><td>2</td><td>/ebio/abt3_projects2/databases_no-backup/DeepMAsED/version2/mock/LLMGQC/final/MBARC-26/R2_final.fq.gz</td><td>FASTQ</td><td>DNA</td><td>156480171</td><td>22837453225</td><td>100</td><td>145.9</td><td>150</td><td>148</td><td>150</td><td>150</td><td>0</td><td>150</td><td>97.41</td><td>88.35</td><td>49.18</td></tr>\n",
       "</tbody>\n",
       "</table>\n"
      ],
      "text/latex": [
       "A data.table: 4 × 18\n",
       "\\begin{tabular}{llllllllllllllllll}\n",
       " Sample & Read & file & format & type & num\\_seqs & sum\\_len & min\\_len & avg\\_len & max\\_len & Q1 & Q2 & Q3 & sum\\_gap & N50 & Q20... & Q30... & GC...\\\\\n",
       " <chr> & <int> & <chr> & <chr> & <chr> & <int> & <int64> & <int> & <dbl> & <int> & <dbl> & <dbl> & <dbl> & <int> & <int> & <dbl> & <dbl> & <dbl>\\\\\n",
       "\\hline\n",
       "\t BMock12  & 1 & /ebio/abt3\\_projects2/databases\\_no-backup/DeepMAsED/version2/mock/LLMGQC/final/BMock12/R1\\_final.fq.gz  & FASTQ & DNA & 209143660 & 31323356697 & 100 & 149.8 & 151 & 150 & 151 & 151 & 0 & 151 & 97.08 & 93.40 & 51.40\\\\\n",
       "\t BMock12  & 2 & /ebio/abt3\\_projects2/databases\\_no-backup/DeepMAsED/version2/mock/LLMGQC/final/BMock12/R2\\_final.fq.gz  & FASTQ & DNA & 209143660 & 31156239500 & 100 & 149.0 & 151 & 150 & 151 & 151 & 0 & 151 & 96.02 & 91.53 & 51.37\\\\\n",
       "\t MBARC-26 & 1 & /ebio/abt3\\_projects2/databases\\_no-backup/DeepMAsED/version2/mock/LLMGQC/final/MBARC-26/R1\\_final.fq.gz & FASTQ & DNA & 156480171 & 23035510442 & 100 & 147.2 & 150 & 149 & 150 & 150 & 0 & 150 & 98.18 & 90.98 & 49.26\\\\\n",
       "\t MBARC-26 & 2 & /ebio/abt3\\_projects2/databases\\_no-backup/DeepMAsED/version2/mock/LLMGQC/final/MBARC-26/R2\\_final.fq.gz & FASTQ & DNA & 156480171 & 22837453225 & 100 & 145.9 & 150 & 148 & 150 & 150 & 0 & 150 & 97.41 & 88.35 & 49.18\\\\\n",
       "\\end{tabular}\n"
      ],
      "text/markdown": [
       "\n",
       "A data.table: 4 × 18\n",
       "\n",
       "| Sample &lt;chr&gt; | Read &lt;int&gt; | file &lt;chr&gt; | format &lt;chr&gt; | type &lt;chr&gt; | num_seqs &lt;int&gt; | sum_len &lt;int64&gt; | min_len &lt;int&gt; | avg_len &lt;dbl&gt; | max_len &lt;int&gt; | Q1 &lt;dbl&gt; | Q2 &lt;dbl&gt; | Q3 &lt;dbl&gt; | sum_gap &lt;int&gt; | N50 &lt;int&gt; | Q20... &lt;dbl&gt; | Q30... &lt;dbl&gt; | GC... &lt;dbl&gt; |\n",
       "|---|---|---|---|---|---|---|---|---|---|---|---|---|---|---|---|---|---|\n",
       "| BMock12  | 1 | /ebio/abt3_projects2/databases_no-backup/DeepMAsED/version2/mock/LLMGQC/final/BMock12/R1_final.fq.gz  | FASTQ | DNA | 209143660 | 31323356697 | 100 | 149.8 | 151 | 150 | 151 | 151 | 0 | 151 | 97.08 | 93.40 | 51.40 |\n",
       "| BMock12  | 2 | /ebio/abt3_projects2/databases_no-backup/DeepMAsED/version2/mock/LLMGQC/final/BMock12/R2_final.fq.gz  | FASTQ | DNA | 209143660 | 31156239500 | 100 | 149.0 | 151 | 150 | 151 | 151 | 0 | 151 | 96.02 | 91.53 | 51.37 |\n",
       "| MBARC-26 | 1 | /ebio/abt3_projects2/databases_no-backup/DeepMAsED/version2/mock/LLMGQC/final/MBARC-26/R1_final.fq.gz | FASTQ | DNA | 156480171 | 23035510442 | 100 | 147.2 | 150 | 149 | 150 | 150 | 0 | 150 | 98.18 | 90.98 | 49.26 |\n",
       "| MBARC-26 | 2 | /ebio/abt3_projects2/databases_no-backup/DeepMAsED/version2/mock/LLMGQC/final/MBARC-26/R2_final.fq.gz | FASTQ | DNA | 156480171 | 22837453225 | 100 | 145.9 | 150 | 148 | 150 | 150 | 0 | 150 | 97.41 | 88.35 | 49.18 |\n",
       "\n"
      ],
      "text/plain": [
       "  Sample   Read\n",
       "1 BMock12  1   \n",
       "2 BMock12  2   \n",
       "3 MBARC-26 1   \n",
       "4 MBARC-26 2   \n",
       "  file                                                                                                 \n",
       "1 /ebio/abt3_projects2/databases_no-backup/DeepMAsED/version2/mock/LLMGQC/final/BMock12/R1_final.fq.gz \n",
       "2 /ebio/abt3_projects2/databases_no-backup/DeepMAsED/version2/mock/LLMGQC/final/BMock12/R2_final.fq.gz \n",
       "3 /ebio/abt3_projects2/databases_no-backup/DeepMAsED/version2/mock/LLMGQC/final/MBARC-26/R1_final.fq.gz\n",
       "4 /ebio/abt3_projects2/databases_no-backup/DeepMAsED/version2/mock/LLMGQC/final/MBARC-26/R2_final.fq.gz\n",
       "  format type num_seqs  sum_len     min_len avg_len max_len Q1  Q2  Q3  sum_gap\n",
       "1 FASTQ  DNA  209143660 31323356697 100     149.8   151     150 151 151 0      \n",
       "2 FASTQ  DNA  209143660 31156239500 100     149.0   151     150 151 151 0      \n",
       "3 FASTQ  DNA  156480171 23035510442 100     147.2   150     149 150 150 0      \n",
       "4 FASTQ  DNA  156480171 22837453225 100     145.9   150     148 150 150 0      \n",
       "  N50 Q20... Q30... GC...\n",
       "1 151 97.08  93.40  51.40\n",
       "2 151 96.02  91.53  51.37\n",
       "3 150 98.18  90.98  49.26\n",
       "4 150 97.41  88.35  49.18"
      ]
     },
     "metadata": {},
     "output_type": "display_data"
    }
   ],
   "source": [
    "F = file.path(work_dir, 'LLMGQC', 'reports', 'final', 'seqkit_stats.tsv')\n",
    "Fread(F)"
   ]
  },
  {
   "cell_type": "markdown",
   "metadata": {},
   "source": [
    "#### Notes\n",
    "\n",
    "* A LARGE number of sequences per sample\n",
    "* I will need to subsample for the metagenome assemblies"
   ]
  },
  {
   "cell_type": "markdown",
   "metadata": {},
   "source": [
    "# Assembly"
   ]
  },
  {
   "cell_type": "markdown",
   "metadata": {},
   "source": [
    "### Config"
   ]
  },
  {
   "cell_type": "code",
   "execution_count": 9,
   "metadata": {
    "ExecuteTime": {
     "end_time": "2023-02-11T14:51:46.306127Z",
     "start_time": "2023-02-11T14:51:46.156Z"
    }
   },
   "outputs": [
    {
     "name": "stdout",
     "output_type": "stream",
     "text": [
      "#-- I/O --#\n",
      "# table with sample --> read_file information\n",
      "samples_file: /ebio/abt3_projects2/databases_no-backup/DeepMAsED/version2/mock/LLMGA/MBARC-26/samples.txt\n",
      "\n",
      "# output location\n",
      "output_dir: /ebio/abt3_projects2/databases_no-backup/DeepMAsED/version2/mock/LLMGA/MBARC-26/reads-2mil/\n",
      "\n",
      "# temporary file directory (your username will be added automatically)\n",
      "tmp_dir: /ebio/abt3_scratch/\n",
      "\n",
      "#-- reference genomes for metacompass --#\n",
      "metacompass_ref: /ebio/abt3_projects/Anxiety_Twins_Metagenomes/data/metagenome/TUKMZ-BGI250/llmga-find-refs/references/drep/dereplicated_genomes.fna\n",
      "\n",
      "#-- master control --#\n",
      "# which major parts of the pipline to run \n",
      "run_assembly: True\n",
      "run_binning: False\n",
      "run_other_assembly: False\n",
      "\n",
      "#-- software parameters --#\n",
      "# Notes:\n",
      "## see \"Notes on the `config.yaml` file\" in the README\n",
      "params:\n",
      "  # misc\n",
      "  ionice: -c 3\n",
      "  use_gpu: True\n",
      "  # raw reads\n",
      "  reads:\n",
      "    subsample: 2000000\n",
      "    fastqc: \"\"  \n",
      "  # metacompass (per-sample ref-based assembly); skipped if using graphbin2\n",
      "  metacompass:\n",
      "    buildcontig: Skip #--pickref breadth --mincov 3 -l 1000 -n T -b F -u F\n",
      "    pilon: \"\"\n",
      "  # denovo per-sample assembly (unmapped if metacompass used, else all reads)\n",
      "  denovo_assembly:\n",
      "    metaspades: -k auto --only-assembler\n",
      "    megahit: Skip #--min-count 3 --min-contig-len 1000 --presets meta-sensitive\n",
      "  # combined, final contigs from assemblies\n",
      "  final_contigs:\n",
      "    derep_contigs: minidentity=100 minscaf=1000 minoverlappercent=95\n",
      "    contig_rename: \"\"\n",
      "    min_contig_len: 1000            # min contig length retained\n",
      "    metaquast: -r /ebio/abt3_projects2/databases_no-backup/DeepMAsED/version2/mock/ref_genomes/MBARC-26/\n",
      "  # contig filtering\n",
      "  contig_filtering:\n",
      "    resmico:\n",
      "      bowtie2:\n",
      "        build: \"\"\n",
      "        map: \"\"\n",
      "      bam2feat: --max-coverage 20\n",
      "      evaluate: --batch-size 100 --gpu-eval-mem-gb 1 --max-len 20000\n",
      "                --min-contig-len 1000 --min-avg-coverage 1 --seed 12\n",
      "      filter: --score-cutoff 0.8 --min-length 0\n",
      "    metaquast: -r /ebio/abt3_projects2/databases_no-backup/DeepMAsED/version2/mock/ref_genomes/MBARC-26/\n",
      "  # contig binning\n",
      "  binning:\n",
      "    subsample: 5000000       # how many reads per sample to use for dif-cov binning? \n",
      "    # mapping\n",
      "    map:\n",
      "      num_map_samples: 40    # how many samples to use for dif-cov. binning ('all' = all samples)\n",
      "      minimap2:\n",
      "        index: -k 15 -w 10 -I 12G\n",
      "        map: -N 5 -F 800\n",
      "      samtools_view: -q 0 -F 3584                 # -q = MAPQ cutoff\n",
      "      bam_to_depth: --percentIdentity 97\n",
      "      keep_bam: False                       # keep all BAM files?\n",
      "    # binning\n",
      "    binners:\n",
      "      maxbin2:\n",
      "        Low: -min_contig_length 1500 -markerset 40 -prob_threshold 0.6\n",
      "        Med: -min_contig_length 1500 -markerset 40 -prob_threshold 0.7\n",
      "        High: -min_contig_length 1500 -markerset 40 -prob_threshold 0.8\n",
      "      metabat2:\n",
      "        Low: --minContig 1500 --minCV 0.5 --minCVSum 0.5 --maxP 92\n",
      "             --maxEdges 150 --seed 8394\n",
      "        Med: --minContig 1500 --minCV 0.5 --minCVSum 0.5 --maxP 94\n",
      "             --maxEdges 325 --seed 8394\n",
      "        High: --minContig 1500 --minCV 0.5 --minCVSum 0.5 --maxP 97\n",
      "              --maxEdges 500 --seed 8394\n",
      "        LowNoCov: --minContig 1500 --minCV 0.5 --minCVSum 0.5 --maxP 92\n",
      "                  --maxEdges 150 --seed 8394 NOCOV\n",
      "        MedNoCov: --minContig 1500 --minCV 0.5 --minCVSum 0.5 --maxP 94\n",
      "                  --maxEdges 325 --seed 8394 NOCOV\n",
      "        HighNoCov: --minContig 1500 --minCV 0.5 --minCVSum 0.5 --maxP 97\n",
      "                   --maxEdges 500 --seed 8394 NOCOV\n",
      "      vamb:\n",
      "        Low: -c 10000 -m 1500 -l 24 -n 384 384\n",
      "        Med: -c 10000 -m 1500 -l 32 -n 512 512\n",
      "        High: -c 10000 -m 1500 -l 40 -n 768 768\n",
      "    # selecting final bins (MAGs)\n",
      "    select:\n",
      "      das_tool: --search_engine diamond\n",
      "      genome_table: \"\"\n",
      "  # denovo assembly of other genetic components\n",
      "  denovo_other_assembly:\n",
      "    min_contig_len: 1000\n",
      "    metaplasmidspades: -k auto --only-assembler\n",
      "    metabiosyntheticspades: -k auto --only-assembler\n",
      "  \n",
      "#-- snakemake pipeline --#\n",
      "pipeline:\n",
      "  snakemake_folder: ./\n",
      "  script_folder: bin/scripts/\n",
      "  random_number_seed: 83421\n",
      "  name: LLMGA\n"
     ]
    }
   ],
   "source": [
    "F = file.path(work_dir, 'LLMGA', 'MBARC-26', 'reads-2mil', 'config.yaml')\n",
    "cat_file(F)"
   ]
  },
  {
   "cell_type": "markdown",
   "metadata": {},
   "source": [
    "### Run"
   ]
  },
  {
   "cell_type": "markdown",
   "metadata": {},
   "source": [
    "```\n",
    "(snakemake) rick: /tmp/global2/nyoungblut/code/dev/ll_pipelines/llmga\n",
    "$ screen -L -S llmga-MBARC-26 ./snakemake_sge.sh /ebio/abt3_projects2/databases_no-backup/DeepMAsED/version2/mock/LLMGA/MBARC-26/reads-2mil/config.yaml 30 -F --notemp\n",
    "```"
   ]
  },
  {
   "cell_type": "markdown",
   "metadata": {},
   "source": [
    "## MetaQUAST summary"
   ]
  },
  {
   "cell_type": "code",
   "execution_count": 10,
   "metadata": {
    "ExecuteTime": {
     "end_time": "2023-02-11T16:28:44.719720Z",
     "start_time": "2023-02-11T16:28:44.569Z"
    }
   },
   "outputs": [],
   "source": [
    "base_dir = file.path(work_dir, 'LLMGA', 'MBARC-26', 'reads-2mil')"
   ]
  },
  {
   "cell_type": "markdown",
   "metadata": {},
   "source": [
    "### Post-assembly"
   ]
  },
  {
   "cell_type": "code",
   "execution_count": 11,
   "metadata": {
    "ExecuteTime": {
     "end_time": "2023-02-11T16:28:54.354753Z",
     "start_time": "2023-02-11T16:28:46.134Z"
    }
   },
   "outputs": [
    {
     "data": {
      "text/html": [
       "<table class=\"dataframe\">\n",
       "<caption>A data.table: 20 × 2</caption>\n",
       "<thead>\n",
       "\t<tr><th scope=col>Assembly</th><th scope=col>contigs_final</th></tr>\n",
       "\t<tr><th scope=col>&lt;chr&gt;</th><th scope=col>&lt;chr&gt;</th></tr>\n",
       "</thead>\n",
       "<tbody>\n",
       "\t<tr><td><span style=white-space:pre-wrap># contigs (&gt;= 0 bp)       </span></td><td><span style=white-space:pre-wrap>9626     </span></td></tr>\n",
       "\t<tr><td><span style=white-space:pre-wrap># contigs (&gt;= 1000 bp)    </span></td><td><span style=white-space:pre-wrap>9626     </span></td></tr>\n",
       "\t<tr><td><span style=white-space:pre-wrap># contigs (&gt;= 5000 bp)    </span></td><td><span style=white-space:pre-wrap>1606     </span></td></tr>\n",
       "\t<tr><td><span style=white-space:pre-wrap># contigs (&gt;= 10000 bp)   </span></td><td><span style=white-space:pre-wrap>699      </span></td></tr>\n",
       "\t<tr><td><span style=white-space:pre-wrap># contigs (&gt;= 25000 bp)   </span></td><td><span style=white-space:pre-wrap>227      </span></td></tr>\n",
       "\t<tr><td><span style=white-space:pre-wrap># contigs (&gt;= 50000 bp)   </span></td><td><span style=white-space:pre-wrap>110      </span></td></tr>\n",
       "\t<tr><td><span style=white-space:pre-wrap>Total length (&gt;= 0 bp)    </span></td><td>46713207 </td></tr>\n",
       "\t<tr><td>Total length (&gt;= 1000 bp) </td><td>46713207 </td></tr>\n",
       "\t<tr><td>Total length (&gt;= 5000 bp) </td><td>30957704 </td></tr>\n",
       "\t<tr><td>Total length (&gt;= 10000 bp)</td><td>24634141 </td></tr>\n",
       "\t<tr><td>Total length (&gt;= 25000 bp)</td><td>17609706 </td></tr>\n",
       "\t<tr><td>Total length (&gt;= 50000 bp)</td><td>13550871 </td></tr>\n",
       "\t<tr><td># contigs                 </td><td>9626     </td></tr>\n",
       "\t<tr><td>Largest contig            </td><td>719745   </td></tr>\n",
       "\t<tr><td>Total length              </td><td>46713207 </td></tr>\n",
       "\t<tr><td>Reference length          </td><td>105518907</td></tr>\n",
       "\t<tr><td>N50                       </td><td>11683    </td></tr>\n",
       "\t<tr><td>N90                       </td><td>1539     </td></tr>\n",
       "\t<tr><td>auN                       </td><td>70005.0  </td></tr>\n",
       "\t<tr><td>L50                       </td><td>580      </td></tr>\n",
       "</tbody>\n",
       "</table>\n"
      ],
      "text/latex": [
       "A data.table: 20 × 2\n",
       "\\begin{tabular}{ll}\n",
       " Assembly & contigs\\_final\\\\\n",
       " <chr> & <chr>\\\\\n",
       "\\hline\n",
       "\t \\# contigs (>= 0 bp)        & 9626     \\\\\n",
       "\t \\# contigs (>= 1000 bp)     & 9626     \\\\\n",
       "\t \\# contigs (>= 5000 bp)     & 1606     \\\\\n",
       "\t \\# contigs (>= 10000 bp)    & 699      \\\\\n",
       "\t \\# contigs (>= 25000 bp)    & 227      \\\\\n",
       "\t \\# contigs (>= 50000 bp)    & 110      \\\\\n",
       "\t Total length (>= 0 bp)     & 46713207 \\\\\n",
       "\t Total length (>= 1000 bp)  & 46713207 \\\\\n",
       "\t Total length (>= 5000 bp)  & 30957704 \\\\\n",
       "\t Total length (>= 10000 bp) & 24634141 \\\\\n",
       "\t Total length (>= 25000 bp) & 17609706 \\\\\n",
       "\t Total length (>= 50000 bp) & 13550871 \\\\\n",
       "\t \\# contigs                  & 9626     \\\\\n",
       "\t Largest contig             & 719745   \\\\\n",
       "\t Total length               & 46713207 \\\\\n",
       "\t Reference length           & 105518907\\\\\n",
       "\t N50                        & 11683    \\\\\n",
       "\t N90                        & 1539     \\\\\n",
       "\t auN                        & 70005.0  \\\\\n",
       "\t L50                        & 580      \\\\\n",
       "\\end{tabular}\n"
      ],
      "text/markdown": [
       "\n",
       "A data.table: 20 × 2\n",
       "\n",
       "| Assembly &lt;chr&gt; | contigs_final &lt;chr&gt; |\n",
       "|---|---|\n",
       "| # contigs (&gt;= 0 bp)        | 9626      |\n",
       "| # contigs (&gt;= 1000 bp)     | 9626      |\n",
       "| # contigs (&gt;= 5000 bp)     | 1606      |\n",
       "| # contigs (&gt;= 10000 bp)    | 699       |\n",
       "| # contigs (&gt;= 25000 bp)    | 227       |\n",
       "| # contigs (&gt;= 50000 bp)    | 110       |\n",
       "| Total length (&gt;= 0 bp)     | 46713207  |\n",
       "| Total length (&gt;= 1000 bp)  | 46713207  |\n",
       "| Total length (&gt;= 5000 bp)  | 30957704  |\n",
       "| Total length (&gt;= 10000 bp) | 24634141  |\n",
       "| Total length (&gt;= 25000 bp) | 17609706  |\n",
       "| Total length (&gt;= 50000 bp) | 13550871  |\n",
       "| # contigs                  | 9626      |\n",
       "| Largest contig             | 719745    |\n",
       "| Total length               | 46713207  |\n",
       "| Reference length           | 105518907 |\n",
       "| N50                        | 11683     |\n",
       "| N90                        | 1539      |\n",
       "| auN                        | 70005.0   |\n",
       "| L50                        | 580       |\n",
       "\n"
      ],
      "text/plain": [
       "   Assembly                   contigs_final\n",
       "1  # contigs (>= 0 bp)        9626         \n",
       "2  # contigs (>= 1000 bp)     9626         \n",
       "3  # contigs (>= 5000 bp)     1606         \n",
       "4  # contigs (>= 10000 bp)    699          \n",
       "5  # contigs (>= 25000 bp)    227          \n",
       "6  # contigs (>= 50000 bp)    110          \n",
       "7  Total length (>= 0 bp)     46713207     \n",
       "8  Total length (>= 1000 bp)  46713207     \n",
       "9  Total length (>= 5000 bp)  30957704     \n",
       "10 Total length (>= 10000 bp) 24634141     \n",
       "11 Total length (>= 25000 bp) 17609706     \n",
       "12 Total length (>= 50000 bp) 13550871     \n",
       "13 # contigs                  9626         \n",
       "14 Largest contig             719745       \n",
       "15 Total length               46713207     \n",
       "16 Reference length           105518907    \n",
       "17 N50                        11683        \n",
       "18 N90                        1539         \n",
       "19 auN                        70005.0      \n",
       "20 L50                        580          "
      ]
     },
     "metadata": {},
     "output_type": "display_data"
    }
   ],
   "source": [
    "# post-assembly contig report\n",
    "F = file.path(base_dir, 'final_contigs', 'MBARC-26', 'metaquast', 'combined_reference', 'report.tsv')\n",
    "contigs_asmbl = Fread(F) \n",
    "\n",
    "df.dims(20)\n",
    "contigs_asmbl %>% head(n=20)\n",
    "df.dims()"
   ]
  },
  {
   "cell_type": "code",
   "execution_count": 12,
   "metadata": {
    "ExecuteTime": {
     "end_time": "2023-02-11T16:28:54.400291Z",
     "start_time": "2023-02-11T16:28:47.968Z"
    },
    "scrolled": false
   },
   "outputs": [
    {
     "name": "stdout",
     "output_type": "stream",
     "text": [
      "contig_203\n",
      "Extensive misassembly (interspecies translocation) between 4768 1 and 6242 4769\n",
      "contig_360\n",
      "Extensive misassembly (interspecies translocation) between 289 1 and 290 3824\n",
      "contig_522\n",
      "Extensive misassembly (relocation, inconsistency = -18717) between 1 1365 and 1366 2786\n",
      "contig_558\n",
      "Extensive misassembly (interspecies translocation) between 1 1407 and 2623 1408\n",
      "contig_626\n",
      "Extensive misassembly (interspecies translocation) between 1 1656 and 1657 2311\n",
      "contig_810\n",
      "Extensive misassembly (relocation, inconsistency = 226729) between 673 1 and 674 1852\n",
      "contig_817\n",
      "Extensive misassembly (translocation) between 1137 1 and 1138 1813\n",
      "contig_850\n",
      "Extensive misassembly (relocation, inconsistency = -438752) between 256 1 and 1760 257\n",
      "contig_1075\n",
      "Extensive misassembly (relocation, inconsistency = -93676) between 1 1096 and 1097 1354\n",
      "contig_1076\n",
      "Extensive misassembly (relocation, inconsistency = 2117114) between 966 1 and 1354 967\n",
      "contig_1124\n",
      "Extensive misassembly (relocation, inconsistency = -2046292) between 527 1 and 1268 528\n",
      "contig_1249\n",
      "Extensive misassembly (relocation, inconsistency = -1149) between 801 1 and 1097 802\n",
      "contig_1316\n",
      "Extensive misassembly (relocation, inconsistency = 142715) between 1 228 and 1037 229\n",
      "contig_1399\n",
      "Extensive misassembly (relocation, inconsistency = 2122265) between 191 1 and 1032 192\n",
      "contig_1452\n",
      "Extensive misassembly (relocation, inconsistency = -8438) between 1 315 and 316 1017\n",
      "contig_1476\n",
      "Extensive misassembly (relocation, inconsistency = 4114806) between 1 12911 and 28158 12912\n",
      "contig_1820\n",
      "Extensive misassembly (relocation, inconsistency = 2223547) between 2120 1 and 2802 2121\n",
      "contig_1825\n",
      "Extensive misassembly (interspecies translocation) between 1 812 and 2796 813\n",
      "contig_1887\n",
      "Extensive misassembly (relocation, inconsistency = 444864) between 1 1479 and 2476 1480\n",
      "contig_1931\n",
      "Extensive misassembly (relocation, inconsistency = -1531888) between 524 1 and 2316 525\n",
      "contig_1943\n",
      "Extensive misassembly (relocation, inconsistency = 1141640) between 701 1 and 702 2243\n",
      "contig_2037\n",
      "Extensive misassembly (relocation, inconsistency = 46800) between 1342 1 and 1343 1983\n",
      "contig_2112\n",
      "Extensive misassembly (relocation, inconsistency = 2948175) between 1 1199 and 1846 1200\n",
      "contig_2287\n",
      "Extensive misassembly (relocation, inconsistency = 896420) between 209 1 and 210 1583\n",
      "contig_2323\n",
      "Extensive misassembly (interspecies translocation) between 1 1381 and 1382 1508\n",
      "contig_2562\n",
      "Extensive misassembly (interspecies translocation) between 560 1 and 561 1215\n",
      "contig_2958\n",
      "Extensive misassembly (relocation, inconsistency = -236684) between 798 1 and 8600 799\n",
      "contig_2993\n",
      "Extensive misassembly (interspecies translocation) between 1 2979 and 6380 2980\n",
      "contig_3047\n",
      "Extensive misassembly (relocation, inconsistency = 2887194) between 1 3258 and 4814 3259\n",
      "contig_3109\n",
      "Extensive misassembly (relocation, inconsistency = 774918) between 2272 1 and 2273 4019\n",
      "contig_3163\n",
      "Extensive misassembly (interspecies translocation) between 1209 1 and 3119 1210\n",
      "contig_3311\n",
      "Extensive misassembly (interspecies translocation) between 487 1 and 488 2102\n",
      "contig_3323\n",
      "Extensive misassembly (relocation, inconsistency = 1302246) between 18 667 and 2075 668\n",
      "contig_3386\n",
      "Extensive misassembly (relocation, inconsistency = -92946) between 568 1 and 1798 569\n",
      "contig_3514\n",
      "Extensive misassembly (interspecies translocation) between 1 1293 and 1294 1468\n",
      "contig_3707\n",
      "Extensive misassembly (relocation, inconsistency = 2319003) between 1 312 and 1229 313\n",
      "contig_3723\n",
      "Extensive misassembly (interspecies translocation) between 1076 1 and 1215 1077\n",
      "contig_3818\n",
      "Extensive misassembly (interspecies translocation) between 922 1 and 1029 923\n",
      "contig_3878\n",
      "Extensive misassembly (relocation, inconsistency = 4124533) between 25603 1 and 25604 28787\n",
      "contig_3941\n",
      "Extensive misassembly (relocation, inconsistency = 939120) between 1 7529 and 7530 9599\n",
      "contig_3975\n",
      "Extensive misassembly (relocation, inconsistency = 1873) between 1 4193 and 4194 6838\n",
      "contig_4245\n",
      "Extensive misassembly (interspecies translocation) between 1 1786 and 2353 1787\n",
      "contig_4334\n",
      "Extensive misassembly (interspecies translocation) between 325 1 and 326 1968\n",
      "contig_4352\n",
      "Extensive misassembly (relocation, inconsistency = 4134766) between 1685 1 and 1901 1686\n",
      "contig_4607\n",
      "Extensive misassembly (interspecies translocation) between 1 787 and 788 1404\n",
      "contig_4660\n",
      "Extensive misassembly (interspecies translocation) between 1 714 and 1346 715\n",
      "contig_4812\n",
      "Extensive misassembly (interspecies translocation) between 755 1 and 756 1227\n",
      "contig_4906\n",
      "Extensive misassembly (interspecies translocation) between 74 1 and 1182 75\n",
      "contig_5091\n",
      "Extensive misassembly (relocation, inconsistency = 1955033) between 1 841 and 1160 842\n",
      "contig_5140\n",
      "Extensive misassembly (interspecies translocation) between 1 308 and 309 1128\n",
      "contig_5244\n",
      "Extensive misassembly (inversion) between 1 764 and 1013 765\n",
      "contig_5254\n",
      "Extensive misassembly (interspecies translocation) between 901 1 and 907 1011\n",
      "contig_5379\n",
      "Extensive misassembly (relocation, inconsistency = 2214914) between 6236 1 and 6237 8440\n",
      "contig_5586\n",
      "Extensive misassembly (relocation, inconsistency = 373904) between 1388 1 and 1389 2857\n",
      "contig_5647\n",
      "Extensive misassembly (interspecies translocation) between 1 1937 and 1938 2444\n",
      "contig_5671\n",
      "Extensive misassembly (relocation, inconsistency = -830391) between 1395 1 and 2339 1396\n",
      "contig_5698\n",
      "Extensive misassembly (relocation, inconsistency = 774541) between 56 373 and 2105 374\n",
      "contig_5785\n",
      "Extensive misassembly (interspecies translocation) between 1499 1 and 1500 1781\n",
      "contig_5874\n",
      "Extensive misassembly (interspecies translocation) between 1099 1 and 1526 1100\n",
      "contig_5883\n",
      "Extensive misassembly (interspecies translocation) between 1 1020 and 1021 1518\n",
      "contig_5925\n",
      "Extensive misassembly (interspecies translocation) between 1 984 and 1434 985\n",
      "contig_6316\n",
      "Extensive misassembly (relocation, inconsistency = 2712857) between 42 163 and 1025 164\n",
      "contig_6341\n",
      "Extensive misassembly (interspecies translocation) between 1 883 and 884 1013\n",
      "contig_6364\n",
      "Extensive misassembly (relocation, inconsistency = -1958) between 1 80856 and 81187 105725\n",
      "contig_6528\n",
      "Extensive misassembly (relocation, inconsistency = 972327) between 2158 1 and 2159 5847\n",
      "contig_6613\n",
      "Extensive misassembly (inversion) between 1372 2182 and 2979 2183\n",
      "contig_6750\n",
      "Extensive misassembly (relocation, inconsistency = 62655) between 1 1871 and 3090 1872\n",
      "contig_6944\n",
      "Extensive misassembly (relocation, inconsistency = 2059226) between 230 1 and 2028 231\n",
      "contig_7004\n",
      "Extensive misassembly (relocation, inconsistency = -121019) between 1 1515 and 1516 1827\n",
      "contig_7007\n",
      "Extensive misassembly (relocation, inconsistency = 2199583) between 1624 1 and 1826 1625\n",
      "contig_7176\n",
      "Extensive misassembly (relocation, inconsistency = 1394195) between 998 1 and 1369 999\n",
      "contig_7217\n",
      "Extensive misassembly (interspecies translocation) between 1 102 and 1302 103\n",
      "contig_7424\n",
      "Extensive misassembly (relocation, inconsistency = -156797) between 181 1 and 1021 182\n",
      "contig_7527\n",
      "Extensive misassembly (relocation, inconsistency = 520592) between 1 11442 and 13012 11443\n",
      "contig_7762\n",
      "Extensive misassembly (relocation, inconsistency = 763476) between 1798 1 and 3846 1799\n",
      "contig_7784\n",
      "Extensive misassembly (relocation, inconsistency = 1840579) between 1 972 and 3630 973\n",
      "contig_7916\n",
      "Extensive misassembly (interspecies translocation) between 186 1 and 2412 187\n",
      "contig_8028\n",
      "Extensive misassembly (interspecies translocation) between 1 448 and 449 1808\n",
      "contig_8079\n",
      "Extensive misassembly (inversion) between 1 1572 and 1694 1573\n",
      "contig_8152\n",
      "Extensive misassembly (relocation, inconsistency = 1653) between 290 1 and 1501 291\n",
      "contig_8208\n",
      "Extensive misassembly (interspecies translocation) between 818 1 and 819 1352\n",
      "contig_8374\n",
      "Extensive misassembly (relocation, inconsistency = -35605) between 1 458 and 459 1199\n",
      "contig_8462\n",
      "Extensive misassembly (relocation, inconsistency = 606122) between 1 131 and 1078 132\n",
      "contig_8468\n",
      "Extensive misassembly (relocation, inconsistency = -3557) between 1 495 and 496 1078\n",
      "contig_8511\n",
      "Extensive misassembly (relocation, inconsistency = 1177896) between 1 343 and 1041 344\n",
      "contig_8560\n",
      "Extensive misassembly (interspecies translocation) between 550 1 and 551 1002\n",
      "contig_8717\n",
      "Extensive misassembly (relocation, inconsistency = 3211587) between 1706 1 and 1707 5270\n",
      "contig_8854\n",
      "Extensive misassembly (interspecies translocation) between 817 1 and 3375 818\n",
      "contig_9044\n",
      "Extensive misassembly (relocation, inconsistency = 1565290) between 1 369 and 2076 370\n",
      "contig_9068\n",
      "Extensive misassembly (interspecies translocation) between 1 197 and 1930 198\n",
      "contig_9100\n",
      "Extensive misassembly (relocation, inconsistency = 3286537) between 330 1 and 331 1802\n",
      "contig_9118\n",
      "Extensive misassembly (relocation, inconsistency = 693185) between 1387 1 and 1743 1388"
     ]
    }
   ],
   "source": [
    "# post-assembly misassembly report\n",
    "F = file.path(base_dir, 'final_contigs', 'MBARC-26', 'metaquast', 'combined_reference', \n",
    "              'contigs_reports', 'contigs_report_contigs_final.mis_contigs.info')\n",
    "cat_file(F)"
   ]
  },
  {
   "cell_type": "markdown",
   "metadata": {},
   "source": [
    "### Post-resmico"
   ]
  },
  {
   "cell_type": "code",
   "execution_count": 13,
   "metadata": {
    "ExecuteTime": {
     "end_time": "2023-02-11T16:29:00.008970Z",
     "start_time": "2023-02-11T16:28:59.817Z"
    }
   },
   "outputs": [
    {
     "data": {
      "text/html": [
       "<table class=\"dataframe\">\n",
       "<caption>A data.table: 20 × 2</caption>\n",
       "<thead>\n",
       "\t<tr><th scope=col>Assembly</th><th scope=col>contigs_filtered</th></tr>\n",
       "\t<tr><th scope=col>&lt;chr&gt;</th><th scope=col>&lt;chr&gt;</th></tr>\n",
       "</thead>\n",
       "<tbody>\n",
       "\t<tr><td><span style=white-space:pre-wrap># contigs (&gt;= 0 bp)       </span></td><td><span style=white-space:pre-wrap>7431     </span></td></tr>\n",
       "\t<tr><td><span style=white-space:pre-wrap># contigs (&gt;= 1000 bp)    </span></td><td><span style=white-space:pre-wrap>7431     </span></td></tr>\n",
       "\t<tr><td><span style=white-space:pre-wrap># contigs (&gt;= 5000 bp)    </span></td><td><span style=white-space:pre-wrap>693      </span></td></tr>\n",
       "\t<tr><td><span style=white-space:pre-wrap># contigs (&gt;= 10000 bp)   </span></td><td><span style=white-space:pre-wrap>280      </span></td></tr>\n",
       "\t<tr><td><span style=white-space:pre-wrap># contigs (&gt;= 25000 bp)   </span></td><td><span style=white-space:pre-wrap>95       </span></td></tr>\n",
       "\t<tr><td><span style=white-space:pre-wrap># contigs (&gt;= 50000 bp)   </span></td><td><span style=white-space:pre-wrap>54       </span></td></tr>\n",
       "\t<tr><td><span style=white-space:pre-wrap>Total length (&gt;= 0 bp)    </span></td><td>25041765 </td></tr>\n",
       "\t<tr><td>Total length (&gt;= 1000 bp) </td><td>25041765 </td></tr>\n",
       "\t<tr><td>Total length (&gt;= 5000 bp) </td><td>12542648 </td></tr>\n",
       "\t<tr><td>Total length (&gt;= 10000 bp)</td><td><span style=white-space:pre-wrap>9714007  </span></td></tr>\n",
       "\t<tr><td>Total length (&gt;= 25000 bp)</td><td><span style=white-space:pre-wrap>6992175  </span></td></tr>\n",
       "\t<tr><td>Total length (&gt;= 50000 bp)</td><td><span style=white-space:pre-wrap>5445141  </span></td></tr>\n",
       "\t<tr><td># contigs                 </td><td>7431     </td></tr>\n",
       "\t<tr><td>Largest contig            </td><td>281530   </td></tr>\n",
       "\t<tr><td>Total length              </td><td>25041765 </td></tr>\n",
       "\t<tr><td>Reference length          </td><td>105518907</td></tr>\n",
       "\t<tr><td>N50                       </td><td>5026     </td></tr>\n",
       "\t<tr><td>N90                       </td><td>1274     </td></tr>\n",
       "\t<tr><td>auN                       </td><td>33468.4  </td></tr>\n",
       "\t<tr><td>L50                       </td><td>689      </td></tr>\n",
       "</tbody>\n",
       "</table>\n"
      ],
      "text/latex": [
       "A data.table: 20 × 2\n",
       "\\begin{tabular}{ll}\n",
       " Assembly & contigs\\_filtered\\\\\n",
       " <chr> & <chr>\\\\\n",
       "\\hline\n",
       "\t \\# contigs (>= 0 bp)        & 7431     \\\\\n",
       "\t \\# contigs (>= 1000 bp)     & 7431     \\\\\n",
       "\t \\# contigs (>= 5000 bp)     & 693      \\\\\n",
       "\t \\# contigs (>= 10000 bp)    & 280      \\\\\n",
       "\t \\# contigs (>= 25000 bp)    & 95       \\\\\n",
       "\t \\# contigs (>= 50000 bp)    & 54       \\\\\n",
       "\t Total length (>= 0 bp)     & 25041765 \\\\\n",
       "\t Total length (>= 1000 bp)  & 25041765 \\\\\n",
       "\t Total length (>= 5000 bp)  & 12542648 \\\\\n",
       "\t Total length (>= 10000 bp) & 9714007  \\\\\n",
       "\t Total length (>= 25000 bp) & 6992175  \\\\\n",
       "\t Total length (>= 50000 bp) & 5445141  \\\\\n",
       "\t \\# contigs                  & 7431     \\\\\n",
       "\t Largest contig             & 281530   \\\\\n",
       "\t Total length               & 25041765 \\\\\n",
       "\t Reference length           & 105518907\\\\\n",
       "\t N50                        & 5026     \\\\\n",
       "\t N90                        & 1274     \\\\\n",
       "\t auN                        & 33468.4  \\\\\n",
       "\t L50                        & 689      \\\\\n",
       "\\end{tabular}\n"
      ],
      "text/markdown": [
       "\n",
       "A data.table: 20 × 2\n",
       "\n",
       "| Assembly &lt;chr&gt; | contigs_filtered &lt;chr&gt; |\n",
       "|---|---|\n",
       "| # contigs (&gt;= 0 bp)        | 7431      |\n",
       "| # contigs (&gt;= 1000 bp)     | 7431      |\n",
       "| # contigs (&gt;= 5000 bp)     | 693       |\n",
       "| # contigs (&gt;= 10000 bp)    | 280       |\n",
       "| # contigs (&gt;= 25000 bp)    | 95        |\n",
       "| # contigs (&gt;= 50000 bp)    | 54        |\n",
       "| Total length (&gt;= 0 bp)     | 25041765  |\n",
       "| Total length (&gt;= 1000 bp)  | 25041765  |\n",
       "| Total length (&gt;= 5000 bp)  | 12542648  |\n",
       "| Total length (&gt;= 10000 bp) | 9714007   |\n",
       "| Total length (&gt;= 25000 bp) | 6992175   |\n",
       "| Total length (&gt;= 50000 bp) | 5445141   |\n",
       "| # contigs                  | 7431      |\n",
       "| Largest contig             | 281530    |\n",
       "| Total length               | 25041765  |\n",
       "| Reference length           | 105518907 |\n",
       "| N50                        | 5026      |\n",
       "| N90                        | 1274      |\n",
       "| auN                        | 33468.4   |\n",
       "| L50                        | 689       |\n",
       "\n"
      ],
      "text/plain": [
       "   Assembly                   contigs_filtered\n",
       "1  # contigs (>= 0 bp)        7431            \n",
       "2  # contigs (>= 1000 bp)     7431            \n",
       "3  # contigs (>= 5000 bp)     693             \n",
       "4  # contigs (>= 10000 bp)    280             \n",
       "5  # contigs (>= 25000 bp)    95              \n",
       "6  # contigs (>= 50000 bp)    54              \n",
       "7  Total length (>= 0 bp)     25041765        \n",
       "8  Total length (>= 1000 bp)  25041765        \n",
       "9  Total length (>= 5000 bp)  12542648        \n",
       "10 Total length (>= 10000 bp) 9714007         \n",
       "11 Total length (>= 25000 bp) 6992175         \n",
       "12 Total length (>= 50000 bp) 5445141         \n",
       "13 # contigs                  7431            \n",
       "14 Largest contig             281530          \n",
       "15 Total length               25041765        \n",
       "16 Reference length           105518907       \n",
       "17 N50                        5026            \n",
       "18 N90                        1274            \n",
       "19 auN                        33468.4         \n",
       "20 L50                        689             "
      ]
     },
     "metadata": {},
     "output_type": "display_data"
    }
   ],
   "source": [
    "# post-assembly contig report\n",
    "F = file.path(base_dir, 'filtered_contigs', 'MBARC-26', 'metaquast', 'combined_reference', 'report.tsv')\n",
    "contigs_resmico = Fread(F) \n",
    "\n",
    "df.dims(20)\n",
    "contigs_resmico %>% head(n=20)\n",
    "df.dims()"
   ]
  },
  {
   "cell_type": "code",
   "execution_count": 14,
   "metadata": {
    "ExecuteTime": {
     "end_time": "2023-02-11T16:29:02.560724Z",
     "start_time": "2023-02-11T16:29:02.402Z"
    }
   },
   "outputs": [
    {
     "name": "stdout",
     "output_type": "stream",
     "text": [
      "contig_850\n",
      "Extensive misassembly (relocation, inconsistency = -438752) between 256 1 and 1760 257\n",
      "contig_1316\n",
      "Extensive misassembly (relocation, inconsistency = 142715) between 1 228 and 1037 229\n",
      "contig_1452\n",
      "Extensive misassembly (relocation, inconsistency = -8438) between 1 315 and 316 1017\n",
      "contig_3975\n",
      "Extensive misassembly (relocation, inconsistency = 1873) between 1 4193 and 4194 6838\n",
      "contig_4352\n",
      "Extensive misassembly (relocation, inconsistency = 4134766) between 1685 1 and 1901 1686\n",
      "contig_4906\n",
      "Extensive misassembly (interspecies translocation) between 74 1 and 1182 75\n",
      "contig_5244\n",
      "Extensive misassembly (inversion) between 1 764 and 1013 765\n",
      "contig_5874\n",
      "Extensive misassembly (interspecies translocation) between 1099 1 and 1526 1100\n",
      "contig_6316\n",
      "Extensive misassembly (relocation, inconsistency = 2712857) between 42 163 and 1025 164\n",
      "contig_6364\n",
      "Extensive misassembly (relocation, inconsistency = -1958) between 1 80856 and 81187 105725\n",
      "contig_8079\n",
      "Extensive misassembly (inversion) between 1 1572 and 1694 1573\n",
      "contig_8208\n",
      "Extensive misassembly (interspecies translocation) between 818 1 and 819 1352"
     ]
    }
   ],
   "source": [
    "# post-resmico misassembly report\n",
    "F = file.path(base_dir, 'filtered_contigs', 'MBARC-26', 'metaquast', 'combined_reference', \n",
    "              'contigs_reports', 'contigs_report_contigs_filtered.mis_contigs.info')\n",
    "cat_file(F)"
   ]
  },
  {
   "cell_type": "markdown",
   "metadata": {
    "ExecuteTime": {
     "end_time": "2023-01-22T13:46:04.770275Z",
     "start_time": "2023-01-22T13:46:04.637Z"
    }
   },
   "source": [
    "### Diff in contigs after filtering"
   ]
  },
  {
   "cell_type": "code",
   "execution_count": 15,
   "metadata": {
    "ExecuteTime": {
     "end_time": "2023-02-11T16:29:04.911226Z",
     "start_time": "2023-02-11T16:29:04.737Z"
    }
   },
   "outputs": [
    {
     "name": "stdout",
     "output_type": "stream",
     "text": [
      "[1] 2195\n"
     ]
    },
    {
     "data": {
      "text/html": [
       "77.1971743195512"
      ],
      "text/latex": [
       "77.1971743195512"
      ],
      "text/markdown": [
       "77.1971743195512"
      ],
      "text/plain": [
       "[1] 77.19717"
      ]
     },
     "metadata": {},
     "output_type": "display_data"
    }
   ],
   "source": [
    "# number of contigs\n",
    "x = contigs_asmbl %>% \n",
    "    filter.(Assembly == '# contigs') %>%\n",
    "    .$contigs_final %>% first %>% as.numeric\n",
    "\n",
    "y = contigs_resmico %>% \n",
    "    filter.(Assembly == '# contigs') %>%\n",
    "    .$contigs_filtered %>% first %>% as.numeric\n",
    "\n",
    "print(x - y)\n",
    "y / x * 100"
   ]
  },
  {
   "cell_type": "code",
   "execution_count": 16,
   "metadata": {
    "ExecuteTime": {
     "end_time": "2023-02-11T16:29:06.121268Z",
     "start_time": "2023-02-11T16:29:05.946Z"
    }
   },
   "outputs": [
    {
     "data": {
      "text/html": [
       "53.6074626603992"
      ],
      "text/latex": [
       "53.6074626603992"
      ],
      "text/markdown": [
       "53.6074626603992"
      ],
      "text/plain": [
       "[1] 53.60746"
      ]
     },
     "metadata": {},
     "output_type": "display_data"
    }
   ],
   "source": [
    "# total length\n",
    "x = contigs_asmbl %>% \n",
    "    filter.(Assembly == 'Total length') %>%\n",
    "    .$contigs_final %>% first %>% as.numeric\n",
    "\n",
    "y = contigs_resmico %>% \n",
    "    filter.(Assembly == 'Total length') %>%\n",
    "    .$contigs_filtered %>% first %>% as.numeric\n",
    "\n",
    "y / x * 100"
   ]
  },
  {
   "cell_type": "code",
   "execution_count": 17,
   "metadata": {
    "ExecuteTime": {
     "end_time": "2023-02-11T16:29:07.342209Z",
     "start_time": "2023-02-11T16:29:07.178Z"
    }
   },
   "outputs": [
    {
     "data": {
      "text/html": [
       "43.0197723187537"
      ],
      "text/latex": [
       "43.0197723187537"
      ],
      "text/markdown": [
       "43.0197723187537"
      ],
      "text/plain": [
       "[1] 43.01977"
      ]
     },
     "metadata": {},
     "output_type": "display_data"
    }
   ],
   "source": [
    "# N50\n",
    "x = contigs_asmbl %>% \n",
    "    filter.(Assembly == 'N50') %>%\n",
    "    .$contigs_final %>% first %>% as.numeric\n",
    "\n",
    "y = contigs_resmico %>% \n",
    "    filter.(Assembly == 'N50') %>%\n",
    "    .$contigs_filtered %>% first %>% as.numeric\n",
    "\n",
    "y / x * 100"
   ]
  },
  {
   "cell_type": "markdown",
   "metadata": {},
   "source": [
    "## PR curve"
   ]
  },
  {
   "cell_type": "code",
   "execution_count": 18,
   "metadata": {
    "ExecuteTime": {
     "end_time": "2023-02-11T16:30:30.853061Z",
     "start_time": "2023-02-11T16:30:30.475Z"
    }
   },
   "outputs": [
    {
     "data": {
      "text/html": [
       "<table class=\"dataframe\">\n",
       "<caption>A data.table: 9626 × 8</caption>\n",
       "<thead>\n",
       "\t<tr><th scope=col>cont_name</th><th scope=col>length</th><th scope=col>label</th><th scope=col>score</th><th scope=col>min</th><th scope=col>mean</th><th scope=col>std</th><th scope=col>max</th></tr>\n",
       "\t<tr><th scope=col>&lt;chr&gt;</th><th scope=col>&lt;int&gt;</th><th scope=col>&lt;int&gt;</th><th scope=col>&lt;dbl&gt;</th><th scope=col>&lt;dbl&gt;</th><th scope=col>&lt;dbl&gt;</th><th scope=col>&lt;dbl&gt;</th><th scope=col>&lt;dbl&gt;</th></tr>\n",
       "</thead>\n",
       "<tbody>\n",
       "\t<tr><td>/ebio/abt3_scratch/nyoungblut/LLMGA_122597181487/resmico/MBARC-26/contig_4814</td><td>1226</td><td>0</td><td>0.02842026</td><td>0.02842026</td><td>0.02842026</td><td>0</td><td>0.02842026</td></tr>\n",
       "\t<tr><td>/ebio/abt3_scratch/nyoungblut/LLMGA_122597181487/resmico/MBARC-26/contig_7220</td><td>1302</td><td>0</td><td>0.67616111</td><td>0.67616111</td><td>0.67616111</td><td>0</td><td>0.67616111</td></tr>\n",
       "\t<tr><td>⋮</td><td>⋮</td><td>⋮</td><td>⋮</td><td>⋮</td><td>⋮</td><td>⋮</td><td>⋮</td></tr>\n",
       "\t<tr><td>/ebio/abt3_scratch/nyoungblut/LLMGA_122597181487/resmico/MBARC-26/contig_2405</td><td>1415</td><td>0</td><td>0.006692549</td><td>0.006692549</td><td>0.006692549</td><td>0</td><td>0.006692549</td></tr>\n",
       "\t<tr><td>/ebio/abt3_scratch/nyoungblut/LLMGA_122597181487/resmico/MBARC-26/contig_2406</td><td>1414</td><td>0</td><td>0.165508315</td><td>0.165508315</td><td>0.165508315</td><td>0</td><td>0.165508315</td></tr>\n",
       "</tbody>\n",
       "</table>\n"
      ],
      "text/latex": [
       "A data.table: 9626 × 8\n",
       "\\begin{tabular}{llllllll}\n",
       " cont\\_name & length & label & score & min & mean & std & max\\\\\n",
       " <chr> & <int> & <int> & <dbl> & <dbl> & <dbl> & <dbl> & <dbl>\\\\\n",
       "\\hline\n",
       "\t /ebio/abt3\\_scratch/nyoungblut/LLMGA\\_122597181487/resmico/MBARC-26/contig\\_4814 & 1226 & 0 & 0.02842026 & 0.02842026 & 0.02842026 & 0 & 0.02842026\\\\\n",
       "\t /ebio/abt3\\_scratch/nyoungblut/LLMGA\\_122597181487/resmico/MBARC-26/contig\\_7220 & 1302 & 0 & 0.67616111 & 0.67616111 & 0.67616111 & 0 & 0.67616111\\\\\n",
       "\t ⋮ & ⋮ & ⋮ & ⋮ & ⋮ & ⋮ & ⋮ & ⋮\\\\\n",
       "\t /ebio/abt3\\_scratch/nyoungblut/LLMGA\\_122597181487/resmico/MBARC-26/contig\\_2405 & 1415 & 0 & 0.006692549 & 0.006692549 & 0.006692549 & 0 & 0.006692549\\\\\n",
       "\t /ebio/abt3\\_scratch/nyoungblut/LLMGA\\_122597181487/resmico/MBARC-26/contig\\_2406 & 1414 & 0 & 0.165508315 & 0.165508315 & 0.165508315 & 0 & 0.165508315\\\\\n",
       "\\end{tabular}\n"
      ],
      "text/markdown": [
       "\n",
       "A data.table: 9626 × 8\n",
       "\n",
       "| cont_name &lt;chr&gt; | length &lt;int&gt; | label &lt;int&gt; | score &lt;dbl&gt; | min &lt;dbl&gt; | mean &lt;dbl&gt; | std &lt;dbl&gt; | max &lt;dbl&gt; |\n",
       "|---|---|---|---|---|---|---|---|\n",
       "| /ebio/abt3_scratch/nyoungblut/LLMGA_122597181487/resmico/MBARC-26/contig_4814 | 1226 | 0 | 0.02842026 | 0.02842026 | 0.02842026 | 0 | 0.02842026 |\n",
       "| /ebio/abt3_scratch/nyoungblut/LLMGA_122597181487/resmico/MBARC-26/contig_7220 | 1302 | 0 | 0.67616111 | 0.67616111 | 0.67616111 | 0 | 0.67616111 |\n",
       "| ⋮ | ⋮ | ⋮ | ⋮ | ⋮ | ⋮ | ⋮ | ⋮ |\n",
       "| /ebio/abt3_scratch/nyoungblut/LLMGA_122597181487/resmico/MBARC-26/contig_2405 | 1415 | 0 | 0.006692549 | 0.006692549 | 0.006692549 | 0 | 0.006692549 |\n",
       "| /ebio/abt3_scratch/nyoungblut/LLMGA_122597181487/resmico/MBARC-26/contig_2406 | 1414 | 0 | 0.165508315 | 0.165508315 | 0.165508315 | 0 | 0.165508315 |\n",
       "\n"
      ],
      "text/plain": [
       "     cont_name                                                                    \n",
       "1    /ebio/abt3_scratch/nyoungblut/LLMGA_122597181487/resmico/MBARC-26/contig_4814\n",
       "2    /ebio/abt3_scratch/nyoungblut/LLMGA_122597181487/resmico/MBARC-26/contig_7220\n",
       "⋮    ⋮                                                                            \n",
       "9625 /ebio/abt3_scratch/nyoungblut/LLMGA_122597181487/resmico/MBARC-26/contig_2405\n",
       "9626 /ebio/abt3_scratch/nyoungblut/LLMGA_122597181487/resmico/MBARC-26/contig_2406\n",
       "     length label score       min         mean        std max        \n",
       "1    1226   0     0.02842026  0.02842026  0.02842026  0   0.02842026 \n",
       "2    1302   0     0.67616111  0.67616111  0.67616111  0   0.67616111 \n",
       "⋮    ⋮      ⋮     ⋮           ⋮           ⋮           ⋮   ⋮          \n",
       "9625 1415   0     0.006692549 0.006692549 0.006692549 0   0.006692549\n",
       "9626 1414   0     0.165508315 0.165508315 0.165508315 0   0.165508315"
      ]
     },
     "metadata": {},
     "output_type": "display_data"
    }
   ],
   "source": [
    "# loading resmico scores\n",
    "F = file.path(base_dir, 'filtered_contigs', 'resmico', 'MBARC-26', 'predictions.csv.gz')\n",
    "resmico_scores = Fread(F, sep=',')\n",
    "resmico_scores"
   ]
  },
  {
   "cell_type": "code",
   "execution_count": 25,
   "metadata": {
    "ExecuteTime": {
     "end_time": "2023-02-12T13:57:20.720274Z",
     "start_time": "2023-02-12T13:57:20.493Z"
    }
   },
   "outputs": [
    {
     "name": "stdout",
     "output_type": "stream",
     "text": [
      "No. of contigs 9626 \n",
      "No. of true misassemblies: 92 \n",
      "True error rate: 0.9557449 %\n"
     ]
    },
    {
     "data": {
      "text/html": [
       "<table class=\"dataframe\">\n",
       "<caption>A matrix: 1 × 8 of type dbl</caption>\n",
       "<thead>\n",
       "\t<tr><th></th><th scope=col>Min.</th><th scope=col>1st Qu.</th><th scope=col>Median</th><th scope=col>Mean</th><th scope=col>3rd Qu.</th><th scope=col>Max.</th><th scope=col>sd</th><th scope=col>sd_err_of_mean</th></tr>\n",
       "</thead>\n",
       "<tbody>\n",
       "\t<tr><th scope=row>score</th><td>0.03532088</td><td>0.8894507</td><td>0.9670471</td><td>0.9026203</td><td>0.9896474</td><td>0.9999727</td><td>0.17</td><td>0.069</td></tr>\n",
       "</tbody>\n",
       "</table>\n"
      ],
      "text/latex": [
       "A matrix: 1 × 8 of type dbl\n",
       "\\begin{tabular}{r|llllllll}\n",
       "  & Min. & 1st Qu. & Median & Mean & 3rd Qu. & Max. & sd & sd\\_err\\_of\\_mean\\\\\n",
       "\\hline\n",
       "\tscore & 0.03532088 & 0.8894507 & 0.9670471 & 0.9026203 & 0.9896474 & 0.9999727 & 0.17 & 0.069\\\\\n",
       "\\end{tabular}\n"
      ],
      "text/markdown": [
       "\n",
       "A matrix: 1 × 8 of type dbl\n",
       "\n",
       "| <!--/--> | Min. | 1st Qu. | Median | Mean | 3rd Qu. | Max. | sd | sd_err_of_mean |\n",
       "|---|---|---|---|---|---|---|---|---|\n",
       "| score | 0.03532088 | 0.8894507 | 0.9670471 | 0.9026203 | 0.9896474 | 0.9999727 | 0.17 | 0.069 |\n",
       "\n"
      ],
      "text/plain": [
       "      Min.       1st Qu.   Median    Mean      3rd Qu.   Max.      sd  \n",
       "score 0.03532088 0.8894507 0.9670471 0.9026203 0.9896474 0.9999727 0.17\n",
       "      sd_err_of_mean\n",
       "score 0.069         "
      ]
     },
     "metadata": {},
     "output_type": "display_data"
    },
    {
     "data": {
      "text/html": [
       "<table class=\"dataframe\">\n",
       "<caption>A matrix: 1 × 8 of type dbl</caption>\n",
       "<thead>\n",
       "\t<tr><th></th><th scope=col>Min.</th><th scope=col>1st Qu.</th><th scope=col>Median</th><th scope=col>Mean</th><th scope=col>3rd Qu.</th><th scope=col>Max.</th><th scope=col>sd</th><th scope=col>sd_err_of_mean</th></tr>\n",
       "</thead>\n",
       "<tbody>\n",
       "\t<tr><th scope=row>score</th><td>0.0001613295</td><td>0.05324027</td><td>0.4143844</td><td>0.4271861</td><td>0.7677146</td><td>0.9999957</td><td>0.345</td><td>0.141</td></tr>\n",
       "</tbody>\n",
       "</table>\n"
      ],
      "text/latex": [
       "A matrix: 1 × 8 of type dbl\n",
       "\\begin{tabular}{r|llllllll}\n",
       "  & Min. & 1st Qu. & Median & Mean & 3rd Qu. & Max. & sd & sd\\_err\\_of\\_mean\\\\\n",
       "\\hline\n",
       "\tscore & 0.0001613295 & 0.05324027 & 0.4143844 & 0.4271861 & 0.7677146 & 0.9999957 & 0.345 & 0.141\\\\\n",
       "\\end{tabular}\n"
      ],
      "text/markdown": [
       "\n",
       "A matrix: 1 × 8 of type dbl\n",
       "\n",
       "| <!--/--> | Min. | 1st Qu. | Median | Mean | 3rd Qu. | Max. | sd | sd_err_of_mean |\n",
       "|---|---|---|---|---|---|---|---|---|\n",
       "| score | 0.0001613295 | 0.05324027 | 0.4143844 | 0.4271861 | 0.7677146 | 0.9999957 | 0.345 | 0.141 |\n",
       "\n"
      ],
      "text/plain": [
       "      Min.         1st Qu.    Median    Mean      3rd Qu.   Max.      sd   \n",
       "score 0.0001613295 0.05324027 0.4143844 0.4271861 0.7677146 0.9999957 0.345\n",
       "      sd_err_of_mean\n",
       "score 0.141         "
      ]
     },
     "metadata": {},
     "output_type": "display_data"
    }
   ],
   "source": [
    "# filtering into class0 & class1 \n",
    "error_contigs = c('contig_203', 'contig_360', 'contig_522', 'contig_558', 'contig_626',\n",
    "                  'contig_810', 'contig_817', 'contig_850', 'contig_1075', 'contig_1076',\n",
    "                  'contig_1124', 'contig_1249', 'contig_1316', 'contig_1399', 'contig_1452',\n",
    "                  'contig_1476', 'contig_1820', 'contig_1825', 'contig_1887', 'contig_1931',\n",
    "                  'contig_1943', 'contig_2037', 'contig_2112', 'contig_2287', 'contig_2323',\n",
    "                  'contig_2562', 'contig_2958', 'contig_2993', 'contig_3047', 'contig_3109',\n",
    "                  'contig_3163', 'contig_3311', 'contig_3323', 'contig_3386', 'contig_3514',\n",
    "                  'contig_3707', 'contig_3723', 'contig_3818', 'contig_3878', 'contig_3941',\n",
    "                  'contig_3975', 'contig_4245', 'contig_4334', 'contig_4352', 'contig_4607',\n",
    "                  'contig_4660', 'contig_4812', 'contig_4906', 'contig_5091', 'contig_5140',\n",
    "                  'contig_5244', 'contig_5254', 'contig_5379', 'contig_5586', 'contig_5647',\n",
    "                  'contig_5671', 'contig_5698', 'contig_5785', 'contig_5874', 'contig_5883',\n",
    "                  'contig_5925', 'contig_6316', 'contig_6341', 'contig_6364', 'contig_6528',\n",
    "                  'contig_6613', 'contig_6750', 'contig_6944', 'contig_7004', 'contig_7007',\n",
    "                  'contig_7176', 'contig_7217', 'contig_7424', 'contig_7527', 'contig_7762',\n",
    "                  'contig_7784', 'contig_7916', 'contig_8028', 'contig_8079', 'contig_8152',\n",
    "                  'contig_8208', 'contig_8374', 'contig_8462', 'contig_8468', 'contig_8511',\n",
    "                  'contig_8560', 'contig_8717', 'contig_8854', 'contig_9044', 'contig_9068',\n",
    "                  'contig_9100', 'contig_9118')\n",
    "\n",
    "# stats\n",
    "x = contigs_asmbl %>% \n",
    "    filter.(Assembly == '# contigs') %>%\n",
    "    .$contigs_final %>% first %>% as.numeric\n",
    "cat('No. of contigs', x, '\\n')\n",
    "cat('No. of true misassemblies:', length(error_contigs), '\\n')\n",
    "cat('True error rate:', length(error_contigs) / x * 100, '%\\n')\n",
    "\n",
    "# error contigs\n",
    "resmico_scores_c0 = resmico_scores %>%\n",
    "    mutate.(contig_id = basename(cont_name)) %>%\n",
    "    filter.(contig_id %in% error_contigs)\n",
    "\n",
    "# background\n",
    "resmico_scores_c1 = resmico_scores %>%\n",
    "    mutate.(contig_id = basename(cont_name)) %>%\n",
    "    filter.(! contig_id %in% error_contigs)\n",
    "\n",
    "summary_x(resmico_scores_c0$score)\n",
    "summary_x(resmico_scores_c1$score)"
   ]
  },
  {
   "cell_type": "code",
   "execution_count": 20,
   "metadata": {
    "ExecuteTime": {
     "end_time": "2023-02-11T16:30:34.792637Z",
     "start_time": "2023-02-11T16:30:34.535Z"
    }
   },
   "outputs": [
    {
     "data": {
      "text/plain": [
       "\n",
       "  Precision-recall curve\n",
       "\n",
       "    Area under curve (Integral):\n",
       "     0.2327762 \n",
       "\n",
       "    Area under curve (Davis & Goadrich):\n",
       "     0.2323538 \n",
       "\n",
       "    Curve for scores from  0.0001613295  to  0.9999957 \n",
       "    ( can be plotted with plot(x) )\n"
      ]
     },
     "metadata": {},
     "output_type": "display_data"
    }
   ],
   "source": [
    "pr = pr.curve(scores.class0 = resmico_scores_c0$score, \n",
    "              scores.class1 = resmico_scores_c1$score, \n",
    "              curve=TRUE)\n",
    "pr"
   ]
  },
  {
   "cell_type": "code",
   "execution_count": 21,
   "metadata": {
    "ExecuteTime": {
     "end_time": "2023-02-11T16:30:45.571446Z",
     "start_time": "2023-02-11T16:30:45.208Z"
    }
   },
   "outputs": [
    {
     "data": {
      "image/png": "[encoded data removed]",
      "text/plain": [
       "Plot with title “PR curve\n",
       "AUC = 0.2327762”"
      ]
     },
     "metadata": {
      "image/png": {
       "height": 420,
       "width": 420
      }
     },
     "output_type": "display_data"
    }
   ],
   "source": [
    "plot(pr)"
   ]
  },
  {
   "cell_type": "code",
   "execution_count": 22,
   "metadata": {
    "ExecuteTime": {
     "end_time": "2023-02-11T16:30:46.094478Z",
     "start_time": "2023-02-11T16:30:45.760Z"
    }
   },
   "outputs": [
    {
     "data": {
      "text/plain": [
       "\n",
       "  ROC curve\n",
       "\n",
       "    Area under curve:\n",
       "     0.9148881 \n",
       "\n",
       "    Curve for scores from  0.0001613295  to  0.9999957 \n",
       "    ( can be plotted with plot(x) )\n"
      ]
     },
     "metadata": {},
     "output_type": "display_data"
    }
   ],
   "source": [
    "roc = roc.curve(scores.class0 = resmico_scores_c0$score, \n",
    "                scores.class1 = resmico_scores_c1$score, \n",
    "                curve=TRUE)\n",
    "roc"
   ]
  },
  {
   "cell_type": "code",
   "execution_count": 23,
   "metadata": {
    "ExecuteTime": {
     "end_time": "2023-02-11T16:30:46.508209Z",
     "start_time": "2023-02-11T16:30:46.197Z"
    }
   },
   "outputs": [
    {
     "data": {
      "image/png": "[encoded data removed]",
      "text/plain": [
       "Plot with title “ROC curve\n",
       "AUC = 0.9148881”"
      ]
     },
     "metadata": {
      "image/png": {
       "height": 420,
       "width": 420
      }
     },
     "output_type": "display_data"
    }
   ],
   "source": [
    "plot(roc)"
   ]
  },
  {
   "cell_type": "markdown",
   "metadata": {},
   "source": [
    "# Dataset summary"
   ]
  },
  {
   "cell_type": "code",
   "execution_count": 35,
   "metadata": {
    "ExecuteTime": {
     "end_time": "2023-02-12T14:07:16.688854Z",
     "start_time": "2023-02-12T14:07:16.502Z"
    }
   },
   "outputs": [
    {
     "data": {
      "text/html": [
       "<table class=\"dataframe\">\n",
       "<caption>A data.table: 4 × 5</caption>\n",
       "<thead>\n",
       "\t<tr><th scope=col>Dataset</th><th scope=col>mis_asmbl_perc</th><th scope=col>Seq_depth</th><th scope=col>AUPRC</th><th scope=col>AUROC</th></tr>\n",
       "\t<tr><th scope=col>&lt;chr&gt;</th><th scope=col>&lt;dbl&gt;</th><th scope=col>&lt;dbl&gt;</th><th scope=col>&lt;dbl&gt;</th><th scope=col>&lt;dbl&gt;</th></tr>\n",
       "</thead>\n",
       "<tbody>\n",
       "\t<tr><td>BMock12 </td><td>1.1578950</td><td>8e+06</td><td>0.5633931</td><td>0.9560891</td></tr>\n",
       "\t<tr><td>BMock12 </td><td>0.7678526</td><td>2e+06</td><td>0.7183236</td><td>0.9867509</td></tr>\n",
       "\t<tr><td>MBARC-26</td><td>0.5550536</td><td>8e+06</td><td>0.1309414</td><td>0.8951677</td></tr>\n",
       "\t<tr><td>MBARC-26</td><td>0.9557449</td><td>2e+06</td><td>0.2327762</td><td>0.9148881</td></tr>\n",
       "</tbody>\n",
       "</table>\n"
      ],
      "text/latex": [
       "A data.table: 4 × 5\n",
       "\\begin{tabular}{lllll}\n",
       " Dataset & mis\\_asmbl\\_perc & Seq\\_depth & AUPRC & AUROC\\\\\n",
       " <chr> & <dbl> & <dbl> & <dbl> & <dbl>\\\\\n",
       "\\hline\n",
       "\t BMock12  & 1.1578950 & 8e+06 & 0.5633931 & 0.9560891\\\\\n",
       "\t BMock12  & 0.7678526 & 2e+06 & 0.7183236 & 0.9867509\\\\\n",
       "\t MBARC-26 & 0.5550536 & 8e+06 & 0.1309414 & 0.8951677\\\\\n",
       "\t MBARC-26 & 0.9557449 & 2e+06 & 0.2327762 & 0.9148881\\\\\n",
       "\\end{tabular}\n"
      ],
      "text/markdown": [
       "\n",
       "A data.table: 4 × 5\n",
       "\n",
       "| Dataset &lt;chr&gt; | mis_asmbl_perc &lt;dbl&gt; | Seq_depth &lt;dbl&gt; | AUPRC &lt;dbl&gt; | AUROC &lt;dbl&gt; |\n",
       "|---|---|---|---|---|\n",
       "| BMock12  | 1.1578950 | 8e+06 | 0.5633931 | 0.9560891 |\n",
       "| BMock12  | 0.7678526 | 2e+06 | 0.7183236 | 0.9867509 |\n",
       "| MBARC-26 | 0.5550536 | 8e+06 | 0.1309414 | 0.8951677 |\n",
       "| MBARC-26 | 0.9557449 | 2e+06 | 0.2327762 | 0.9148881 |\n",
       "\n"
      ],
      "text/plain": [
       "  Dataset  mis_asmbl_perc Seq_depth AUPRC     AUROC    \n",
       "1 BMock12  1.1578950      8e+06     0.5633931 0.9560891\n",
       "2 BMock12  0.7678526      2e+06     0.7183236 0.9867509\n",
       "3 MBARC-26 0.5550536      8e+06     0.1309414 0.8951677\n",
       "4 MBARC-26 0.9557449      2e+06     0.2327762 0.9148881"
      ]
     },
     "metadata": {},
     "output_type": "display_data"
    }
   ],
   "source": [
    "dt_sum = data.table(\n",
    "Dataset = c('BMock12', 'BMock12', 'MBARC-26', 'MBARC-26'),\n",
    "mis_asmbl_perc = c(1.157895, 0.7678526, 0.5550536, 0.9557449),\n",
    "Seq_depth = c(8e6, 2e6, 8e6, 2e6),\n",
    "AUPRC = c(0.5633931, 0.7183236, 0.1309414, 0.2327762),\n",
    "AUROC = c(0.9560891, 0.9867509, 0.8951677, 0.9148881)\n",
    ")\n",
    "dt_sum"
   ]
  },
  {
   "cell_type": "code",
   "execution_count": 37,
   "metadata": {
    "ExecuteTime": {
     "end_time": "2023-02-12T14:07:34.916817Z",
     "start_time": "2023-02-12T14:07:34.359Z"
    }
   },
   "outputs": [
    {
     "data": {
      "image/png": "[encoded data removed]",
      "text/plain": [
       "plot without title"
      ]
     },
     "metadata": {
      "image/png": {
       "height": 300,
       "width": 440
      }
     },
     "output_type": "display_data"
    }
   ],
   "source": [
    "p.dims(4.4,3)\n",
    "p = dt_sum %>%\n",
    "    mutate.(Seq_depth = Seq_depth %>% as.character) %>%\n",
    "    ggplot(aes(mis_asmbl_perc, AUPRC, shape=Dataset, color=Seq_depth)) +\n",
    "    geom_point() +\n",
    "    labs(x='% misassembled contigs') +\n",
    "    theme_bw()\n",
    "plot(p)"
   ]
  },
  {
   "cell_type": "code",
   "execution_count": 42,
   "metadata": {
    "ExecuteTime": {
     "end_time": "2023-02-12T14:10:31.020517Z",
     "start_time": "2023-02-12T14:10:30.366Z"
    }
   },
   "outputs": [
    {
     "data": {
      "image/png": "[encoded data removed]",
      "text/plain": [
       "plot without title"
      ]
     },
     "metadata": {
      "image/png": {
       "height": 300,
       "width": 600
      }
     },
     "output_type": "display_data"
    }
   ],
   "source": [
    "p.dims(6,3)\n",
    "p = dt_sum %>%\n",
    "    pivot_longer.(cols=c(-Dataset, -mis_asmbl_perc, -Seq_depth)) %>%\n",
    "    mutate.(Seq_depth = Seq_depth %>% as.character) %>%\n",
    "    ggplot(aes(mis_asmbl_perc, value, shape=Dataset, color=Seq_depth)) +\n",
    "    geom_point() +\n",
    "    labs(x='% misassembled contigs') +\n",
    "    facet_grid( ~ name) +\n",
    "    theme_bw()\n",
    "plot(p)"
   ]
  },
  {
   "cell_type": "markdown",
   "metadata": {},
   "source": [
    "# sessionInfo"
   ]
  },
  {
   "cell_type": "code",
   "execution_count": 24,
   "metadata": {
    "ExecuteTime": {
     "end_time": "2023-02-11T16:30:49.284501Z",
     "start_time": "2023-02-11T16:30:49.049Z"
    }
   },
   "outputs": [
    {
     "data": {
      "text/plain": [
       "R version 4.1.0 (2021-05-18)\n",
       "Platform: x86_64-conda-linux-gnu (64-bit)\n",
       "Running under: Ubuntu 20.04.5 LTS\n",
       "\n",
       "Matrix products: default\n",
       "BLAS/LAPACK: /ebio/abt3_projects/DeepMAsED/envs/tidyverse/lib/libopenblasp-r0.3.15.so\n",
       "\n",
       "locale:\n",
       " [1] LC_CTYPE=en_US.UTF-8       LC_NUMERIC=C              \n",
       " [3] LC_TIME=en_US.UTF-8        LC_COLLATE=en_US.UTF-8    \n",
       " [5] LC_MONETARY=en_US.UTF-8    LC_MESSAGES=en_US.UTF-8   \n",
       " [7] LC_PAPER=en_US.UTF-8       LC_NAME=C                 \n",
       " [9] LC_ADDRESS=C               LC_TELEPHONE=C            \n",
       "[11] LC_MEASUREMENT=en_US.UTF-8 LC_IDENTIFICATION=C       \n",
       "\n",
       "attached base packages:\n",
       "[1] stats     graphics  grDevices utils     datasets  methods   base     \n",
       "\n",
       "other attached packages:\n",
       "[1] PRROC_1.3.1        clustermq_0.8.95.1 LeyLabRMisc_0.2.1  tidytable_0.6.3   \n",
       "[5] data.table_1.14.0  ggplot2_3.3.5      tidyr_1.1.3        dplyr_1.0.7       \n",
       "\n",
       "loaded via a namespace (and not attached):\n",
       " [1] Rcpp_1.0.7        pillar_1.6.1      compiler_4.1.0    plyr_1.8.6       \n",
       " [5] R.methodsS3_1.8.1 R.utils_2.10.1    base64enc_0.1-3   tools_4.1.0      \n",
       " [9] bit_4.0.4         digest_0.6.27     uuid_0.1-4        jsonlite_1.7.2   \n",
       "[13] evaluate_0.14     lifecycle_1.0.0   tibble_3.1.2      gtable_0.3.0     \n",
       "[17] pkgconfig_2.0.3   rlang_0.4.11      IRdisplay_1.0     IRkernel_1.2     \n",
       "[21] repr_1.1.3        withr_2.4.2       generics_0.1.0    vctrs_0.3.8      \n",
       "[25] bit64_4.0.5       grid_4.1.0        tidyselect_1.1.1  glue_1.4.2       \n",
       "[29] R6_2.5.0          fansi_0.4.2       pbdZMQ_0.3-5      purrr_0.3.4      \n",
       "[33] magrittr_2.0.1    codetools_0.2-18  scales_1.1.1      ellipsis_0.3.2   \n",
       "[37] htmltools_0.5.1.1 colorspace_2.0-2  utf8_1.2.1        munsell_0.5.0    \n",
       "[41] crayon_1.4.1      R.oo_1.24.0      "
      ]
     },
     "metadata": {},
     "output_type": "display_data"
    }
   ],
   "source": [
    "sessionInfo()"
   ]
  },
  {
   "cell_type": "code",
   "execution_count": null,
   "metadata": {},
   "outputs": [],
   "source": []
  }
 ],
 "metadata": {
  "kernelspec": {
   "display_name": "R [conda env:DeepMAsED-tidyverse]",
   "language": "R",
   "name": "conda-env-DeepMAsED-tidyverse-r"
  },
  "language_info": {
   "codemirror_mode": "r",
   "file_extension": ".r",
   "mimetype": "text/x-r-source",
   "name": "R",
   "pygments_lexer": "r",
   "version": "4.1.0"
  },
  "notify_time": "30",
  "toc": {
   "base_numbering": 1,
   "nav_menu": {},
   "number_sections": true,
   "sideBar": true,
   "skip_h1_title": false,
   "title_cell": "Table of Contents",
   "title_sidebar": "Contents",
   "toc_cell": true,
   "toc_position": {},
   "toc_section_display": true,
   "toc_window_display": true
  }
 },
 "nbformat": 4,
 "nbformat_minor": 4
}
