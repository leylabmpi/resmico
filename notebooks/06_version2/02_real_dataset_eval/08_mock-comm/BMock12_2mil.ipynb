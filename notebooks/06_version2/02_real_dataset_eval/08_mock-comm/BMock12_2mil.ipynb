{
 "cells": [
  {
   "cell_type": "markdown",
   "metadata": {
    "toc": true
   },
   "source": [
    "<h1>Table of Contents<span class=\"tocSkip\"></span></h1>\n",
    "<div class=\"toc\"><ul class=\"toc-item\"><li><span><a href=\"#Goal\" data-toc-modified-id=\"Goal-1\"><span class=\"toc-item-num\">1&nbsp;&nbsp;</span>Goal</a></span></li><li><span><a href=\"#Var\" data-toc-modified-id=\"Var-2\"><span class=\"toc-item-num\">2&nbsp;&nbsp;</span>Var</a></span></li><li><span><a href=\"#Init\" data-toc-modified-id=\"Init-3\"><span class=\"toc-item-num\">3&nbsp;&nbsp;</span>Init</a></span></li><li><span><a href=\"#LLMGQC\" data-toc-modified-id=\"LLMGQC-4\"><span class=\"toc-item-num\">4&nbsp;&nbsp;</span>LLMGQC</a></span><ul class=\"toc-item\"><li><ul class=\"toc-item\"><li><span><a href=\"#Config\" data-toc-modified-id=\"Config-4.0.1\"><span class=\"toc-item-num\">4.0.1&nbsp;&nbsp;</span>Config</a></span></li><li><span><a href=\"#Run\" data-toc-modified-id=\"Run-4.0.2\"><span class=\"toc-item-num\">4.0.2&nbsp;&nbsp;</span>Run</a></span></li></ul></li><li><span><a href=\"#Summary\" data-toc-modified-id=\"Summary-4.1\"><span class=\"toc-item-num\">4.1&nbsp;&nbsp;</span>Summary</a></span><ul class=\"toc-item\"><li><ul class=\"toc-item\"><li><span><a href=\"#Notes\" data-toc-modified-id=\"Notes-4.1.0.1\"><span class=\"toc-item-num\">4.1.0.1&nbsp;&nbsp;</span>Notes</a></span></li></ul></li></ul></li></ul></li><li><span><a href=\"#Assembly\" data-toc-modified-id=\"Assembly-5\"><span class=\"toc-item-num\">5&nbsp;&nbsp;</span>Assembly</a></span><ul class=\"toc-item\"><li><ul class=\"toc-item\"><li><span><a href=\"#Config\" data-toc-modified-id=\"Config-5.0.1\"><span class=\"toc-item-num\">5.0.1&nbsp;&nbsp;</span>Config</a></span></li><li><span><a href=\"#Run\" data-toc-modified-id=\"Run-5.0.2\"><span class=\"toc-item-num\">5.0.2&nbsp;&nbsp;</span>Run</a></span></li></ul></li></ul></li><li><span><a href=\"#--WAITING--\" data-toc-modified-id=\"--WAITING---6\"><span class=\"toc-item-num\">6&nbsp;&nbsp;</span>--WAITING--</a></span><ul class=\"toc-item\"><li><span><a href=\"#MetaQUAST-summary\" data-toc-modified-id=\"MetaQUAST-summary-6.1\"><span class=\"toc-item-num\">6.1&nbsp;&nbsp;</span>MetaQUAST summary</a></span><ul class=\"toc-item\"><li><span><a href=\"#Post-assembly\" data-toc-modified-id=\"Post-assembly-6.1.1\"><span class=\"toc-item-num\">6.1.1&nbsp;&nbsp;</span>Post-assembly</a></span></li><li><span><a href=\"#Post-resmico\" data-toc-modified-id=\"Post-resmico-6.1.2\"><span class=\"toc-item-num\">6.1.2&nbsp;&nbsp;</span>Post-resmico</a></span></li><li><span><a href=\"#Diff-in-contigs-after-filtering\" data-toc-modified-id=\"Diff-in-contigs-after-filtering-6.1.3\"><span class=\"toc-item-num\">6.1.3&nbsp;&nbsp;</span>Diff in contigs after filtering</a></span></li></ul></li><li><span><a href=\"#PR-curve\" data-toc-modified-id=\"PR-curve-6.2\"><span class=\"toc-item-num\">6.2&nbsp;&nbsp;</span>PR curve</a></span></li></ul></li><li><span><a href=\"#sessionInfo\" data-toc-modified-id=\"sessionInfo-7\"><span class=\"toc-item-num\">7&nbsp;&nbsp;</span>sessionInfo</a></span></li></ul></div>"
   ]
  },
  {
   "cell_type": "markdown",
   "metadata": {},
   "source": [
    "# Goal\n",
    "\n",
    "* Assess ResMiCo accuracy with the BMock12 mock community\n",
    "  * DOI:  https://doi.org/10.1038/s41597-019-0287-z"
   ]
  },
  {
   "cell_type": "markdown",
   "metadata": {},
   "source": [
    "# Var"
   ]
  },
  {
   "cell_type": "code",
   "execution_count": 4,
   "metadata": {
    "ExecuteTime": {
     "end_time": "2023-02-11T16:32:51.520134Z",
     "start_time": "2023-02-11T16:32:51.368Z"
    }
   },
   "outputs": [],
   "source": [
    "work_dir = '/ebio/abt3_projects2/databases_no-backup/DeepMAsED/version2/mock/'\n",
    "\n",
    "read_dir = file.path(work_dir, 'LLMGQC')\n",
    "genome_dir = file.path(work_dir, 'ref_genomes', 'MBock12')\n",
    "\n",
    "# params\n",
    "threads = 6"
   ]
  },
  {
   "cell_type": "markdown",
   "metadata": {},
   "source": [
    "# Init"
   ]
  },
  {
   "cell_type": "code",
   "execution_count": 5,
   "metadata": {
    "ExecuteTime": {
     "end_time": "2023-02-11T16:32:51.827282Z",
     "start_time": "2023-02-11T16:32:51.669Z"
    }
   },
   "outputs": [],
   "source": [
    "library(dplyr)\n",
    "library(tidyr)\n",
    "library(ggplot2)\n",
    "library(data.table)\n",
    "library(tidytable)\n",
    "library(LeyLabRMisc)\n",
    "Init(threads=threads)"
   ]
  },
  {
   "cell_type": "code",
   "execution_count": 6,
   "metadata": {
    "ExecuteTime": {
     "end_time": "2023-02-11T16:32:51.947419Z",
     "start_time": "2023-02-11T16:32:51.805Z"
    }
   },
   "outputs": [],
   "source": [
    "library(PRROC)"
   ]
  },
  {
   "cell_type": "markdown",
   "metadata": {},
   "source": [
    "# LLMGQC"
   ]
  },
  {
   "cell_type": "markdown",
   "metadata": {},
   "source": [
    "### Config"
   ]
  },
  {
   "cell_type": "code",
   "execution_count": 7,
   "metadata": {
    "ExecuteTime": {
     "end_time": "2023-02-11T16:32:52.450318Z",
     "start_time": "2023-02-11T16:32:52.295Z"
    }
   },
   "outputs": [
    {
     "name": "stdout",
     "output_type": "stream",
     "text": [
      "#-- I/O --#\n",
      "# table with sample --> read_file information\n",
      "samples_file: /ebio/abt3_projects2/databases_no-backup/DeepMAsED/version2/mock/LLMGQC/samples.tsv\n",
      "\n",
      "# output location\n",
      "output_dir: /ebio/abt3_projects2/databases_no-backup/DeepMAsED/version2/mock/LLMGQC/\n",
      "\n",
      "# temporary file directory (your username will be added automatically)\n",
      "tmp_dir: /ebio/abt3_scratch/\n",
      "\n",
      "# ionice for reducing I/O load (use \"-c 2\" for noraml I/O usage) \n",
      "ionice: -c 3 \n",
      "\n",
      "#-- Software parameters --#\n",
      "# See the README for info on all major parameters\n",
      "# Use \"Skip\" to skip any of these steps. If no params for rule, use: \"\"\n",
      "params:\n",
      "  just_read1: False\n",
      "  download:\n",
      "    dump: --dump-method fasterq-dump --use-prefetch --bufsize 50M\n",
      "  initial_checks:\n",
      "    validate_reads: \"\"\n",
      "    convert_fastq_to_1.8: \"\"\n",
      "  subsample:\n",
      "    num_reads: Skip\n",
      "  raw:\n",
      "    seqkit: \"\"\n",
      "    fastqc: \"\"\n",
      "  deduplication:\n",
      "    clumpify: Skip #dedupe=t dupedist=40 optical=t spany=t adjacent=t\n",
      "    seqkit: \"\"\n",
      "    fastqc: \"\"\n",
      "  quality:      \n",
      "    bbduk: ref=./adapters/bbmap_adapters.fa fastawrap=300 k=23\n",
      "    skewer: -x ./adapters/PE_all.fa -n -l 100 -q 25\n",
      "    seqkit: \"\"\n",
      "    fastqc: \"\"\n",
      "  filter:       \n",
      "    bbmap: minratio=0.9 maxindel=1 bwr=0.16 bw=12 fast minhits=2 qtrim=r trimq=10 untrim\n",
      "           idtag printunmappedcount kfilter=25 maxsites=1 k=14 pairlen=1000 rescuedist=1000\n",
      "    ikraken2: Skip #--confidence 0.7\n",
      "    seqkit: \"\"\n",
      "    fastqc: \"\"\n",
      "  final:\n",
      "    seqkit: \"\"\n",
      "    fastqc: \"\"\n",
      "  coverage:\n",
      "    nonpareil: -T kmer\n",
      "    nonpareil_summary: 1e9      \n",
      "  skip_all:\n",
      "    seqkit: False\n",
      "    fastqc: False\n",
      "    QC: False\n",
      "\n",
      "#-- Databases --#\n",
      "databases:\n",
      "  ## hg19 = human genome database for filtering out human reads\n",
      "  bbmap: /ebio/abt3_projects2/databases_no-backup/Homo_sapiens/hg19/hg19\n",
      "  # ikraken2 (iterative kraken2-based read filtering)\n",
      "  ikraken2:  \n",
      "    animal_genomes: /ebio/abt3_projects/databases_no-backup/kraken2/animal_gut_microbiome_200908_db/kraken2/\n",
      "    vertebrate_all_nt: /ebio/abt3_projects/databases_no-backup/kraken2/vertebrata-all_nt_db/\n",
      "    plant: /ebio/abt3_projects/databases_no-backup/kraken2/plant_db/\n",
      "    fungi:  /ebio/abt3_projects/databases_no-backup/kraken2/fungi_db/\n",
      "    protozoa: /ebio/abt3_projects/databases_no-backup/kraken2/protozoa_db/\n",
      "    human: /ebio/abt3_projects/databases_no-backup/kraken2/human_db/\n",
      "    univec: /ebio/abt3_projects/databases_no-backup/kraken2/UniVec_Core_db/\n",
      "\n",
      "#-- Snakemake pipeline --#\n",
      "pipeline:\n",
      "  snakemake_folder: ./\n",
      "  script_folder: ./bin/scripts/\n",
      "  run_skip_locally: True        # trivial \"skip\" steps run locally (not qsub)\n",
      "  export_conda: True\n",
      "  name: LLMGQC"
     ]
    }
   ],
   "source": [
    "config_file = file.path(read_dir, 'config.yaml')\n",
    "cat_file(config_file)"
   ]
  },
  {
   "cell_type": "markdown",
   "metadata": {},
   "source": [
    "### Run"
   ]
  },
  {
   "cell_type": "markdown",
   "metadata": {},
   "source": [
    "```\n",
    "# (base) rick: /tmp/global2/nyoungblut/code/dev/ll_pipelines/llmgqc\n",
    "screen -L -S llmgqc-mock snakemake /ebio/abt3_projects2/databases_no-backup/DeepMAsED/version2/mock/LLMGQC/config.yaml 30 -F\n",
    "```"
   ]
  },
  {
   "cell_type": "markdown",
   "metadata": {},
   "source": [
    "## Summary"
   ]
  },
  {
   "cell_type": "code",
   "execution_count": 8,
   "metadata": {
    "ExecuteTime": {
     "end_time": "2023-02-11T16:32:53.854307Z",
     "start_time": "2023-02-11T16:32:53.628Z"
    }
   },
   "outputs": [
    {
     "data": {
      "text/html": [
       "<table class=\"dataframe\">\n",
       "<caption>A data.table: 4 × 18</caption>\n",
       "<thead>\n",
       "\t<tr><th scope=col>Sample</th><th scope=col>Read</th><th scope=col>file</th><th scope=col>format</th><th scope=col>type</th><th scope=col>num_seqs</th><th scope=col>sum_len</th><th scope=col>min_len</th><th scope=col>avg_len</th><th scope=col>max_len</th><th scope=col>Q1</th><th scope=col>Q2</th><th scope=col>Q3</th><th scope=col>sum_gap</th><th scope=col>N50</th><th scope=col>Q20...</th><th scope=col>Q30...</th><th scope=col>GC...</th></tr>\n",
       "\t<tr><th scope=col>&lt;chr&gt;</th><th scope=col>&lt;int&gt;</th><th scope=col>&lt;chr&gt;</th><th scope=col>&lt;chr&gt;</th><th scope=col>&lt;chr&gt;</th><th scope=col>&lt;int&gt;</th><th scope=col>&lt;int64&gt;</th><th scope=col>&lt;int&gt;</th><th scope=col>&lt;dbl&gt;</th><th scope=col>&lt;int&gt;</th><th scope=col>&lt;dbl&gt;</th><th scope=col>&lt;dbl&gt;</th><th scope=col>&lt;dbl&gt;</th><th scope=col>&lt;int&gt;</th><th scope=col>&lt;int&gt;</th><th scope=col>&lt;dbl&gt;</th><th scope=col>&lt;dbl&gt;</th><th scope=col>&lt;dbl&gt;</th></tr>\n",
       "</thead>\n",
       "<tbody>\n",
       "\t<tr><td>BMock12 </td><td>1</td><td>/ebio/abt3_projects2/databases_no-backup/DeepMAsED/version2/mock/LLMGQC/final/BMock12/R1_final.fq.gz </td><td>FASTQ</td><td>DNA</td><td>209143660</td><td>31323356697</td><td>100</td><td>149.8</td><td>151</td><td>150</td><td>151</td><td>151</td><td>0</td><td>151</td><td>97.08</td><td>93.40</td><td>51.40</td></tr>\n",
       "\t<tr><td>BMock12 </td><td>2</td><td>/ebio/abt3_projects2/databases_no-backup/DeepMAsED/version2/mock/LLMGQC/final/BMock12/R2_final.fq.gz </td><td>FASTQ</td><td>DNA</td><td>209143660</td><td>31156239500</td><td>100</td><td>149.0</td><td>151</td><td>150</td><td>151</td><td>151</td><td>0</td><td>151</td><td>96.02</td><td>91.53</td><td>51.37</td></tr>\n",
       "\t<tr><td>MBARC-26</td><td>1</td><td>/ebio/abt3_projects2/databases_no-backup/DeepMAsED/version2/mock/LLMGQC/final/MBARC-26/R1_final.fq.gz</td><td>FASTQ</td><td>DNA</td><td>156480171</td><td>23035510442</td><td>100</td><td>147.2</td><td>150</td><td>149</td><td>150</td><td>150</td><td>0</td><td>150</td><td>98.18</td><td>90.98</td><td>49.26</td></tr>\n",
       "\t<tr><td>MBARC-26</td><td>2</td><td>/ebio/abt3_projects2/databases_no-backup/DeepMAsED/version2/mock/LLMGQC/final/MBARC-26/R2_final.fq.gz</td><td>FASTQ</td><td>DNA</td><td>156480171</td><td>22837453225</td><td>100</td><td>145.9</td><td>150</td><td>148</td><td>150</td><td>150</td><td>0</td><td>150</td><td>97.41</td><td>88.35</td><td>49.18</td></tr>\n",
       "</tbody>\n",
       "</table>\n"
      ],
      "text/latex": [
       "A data.table: 4 × 18\n",
       "\\begin{tabular}{llllllllllllllllll}\n",
       " Sample & Read & file & format & type & num\\_seqs & sum\\_len & min\\_len & avg\\_len & max\\_len & Q1 & Q2 & Q3 & sum\\_gap & N50 & Q20... & Q30... & GC...\\\\\n",
       " <chr> & <int> & <chr> & <chr> & <chr> & <int> & <int64> & <int> & <dbl> & <int> & <dbl> & <dbl> & <dbl> & <int> & <int> & <dbl> & <dbl> & <dbl>\\\\\n",
       "\\hline\n",
       "\t BMock12  & 1 & /ebio/abt3\\_projects2/databases\\_no-backup/DeepMAsED/version2/mock/LLMGQC/final/BMock12/R1\\_final.fq.gz  & FASTQ & DNA & 209143660 & 31323356697 & 100 & 149.8 & 151 & 150 & 151 & 151 & 0 & 151 & 97.08 & 93.40 & 51.40\\\\\n",
       "\t BMock12  & 2 & /ebio/abt3\\_projects2/databases\\_no-backup/DeepMAsED/version2/mock/LLMGQC/final/BMock12/R2\\_final.fq.gz  & FASTQ & DNA & 209143660 & 31156239500 & 100 & 149.0 & 151 & 150 & 151 & 151 & 0 & 151 & 96.02 & 91.53 & 51.37\\\\\n",
       "\t MBARC-26 & 1 & /ebio/abt3\\_projects2/databases\\_no-backup/DeepMAsED/version2/mock/LLMGQC/final/MBARC-26/R1\\_final.fq.gz & FASTQ & DNA & 156480171 & 23035510442 & 100 & 147.2 & 150 & 149 & 150 & 150 & 0 & 150 & 98.18 & 90.98 & 49.26\\\\\n",
       "\t MBARC-26 & 2 & /ebio/abt3\\_projects2/databases\\_no-backup/DeepMAsED/version2/mock/LLMGQC/final/MBARC-26/R2\\_final.fq.gz & FASTQ & DNA & 156480171 & 22837453225 & 100 & 145.9 & 150 & 148 & 150 & 150 & 0 & 150 & 97.41 & 88.35 & 49.18\\\\\n",
       "\\end{tabular}\n"
      ],
      "text/markdown": [
       "\n",
       "A data.table: 4 × 18\n",
       "\n",
       "| Sample &lt;chr&gt; | Read &lt;int&gt; | file &lt;chr&gt; | format &lt;chr&gt; | type &lt;chr&gt; | num_seqs &lt;int&gt; | sum_len &lt;int64&gt; | min_len &lt;int&gt; | avg_len &lt;dbl&gt; | max_len &lt;int&gt; | Q1 &lt;dbl&gt; | Q2 &lt;dbl&gt; | Q3 &lt;dbl&gt; | sum_gap &lt;int&gt; | N50 &lt;int&gt; | Q20... &lt;dbl&gt; | Q30... &lt;dbl&gt; | GC... &lt;dbl&gt; |\n",
       "|---|---|---|---|---|---|---|---|---|---|---|---|---|---|---|---|---|---|\n",
       "| BMock12  | 1 | /ebio/abt3_projects2/databases_no-backup/DeepMAsED/version2/mock/LLMGQC/final/BMock12/R1_final.fq.gz  | FASTQ | DNA | 209143660 | 31323356697 | 100 | 149.8 | 151 | 150 | 151 | 151 | 0 | 151 | 97.08 | 93.40 | 51.40 |\n",
       "| BMock12  | 2 | /ebio/abt3_projects2/databases_no-backup/DeepMAsED/version2/mock/LLMGQC/final/BMock12/R2_final.fq.gz  | FASTQ | DNA | 209143660 | 31156239500 | 100 | 149.0 | 151 | 150 | 151 | 151 | 0 | 151 | 96.02 | 91.53 | 51.37 |\n",
       "| MBARC-26 | 1 | /ebio/abt3_projects2/databases_no-backup/DeepMAsED/version2/mock/LLMGQC/final/MBARC-26/R1_final.fq.gz | FASTQ | DNA | 156480171 | 23035510442 | 100 | 147.2 | 150 | 149 | 150 | 150 | 0 | 150 | 98.18 | 90.98 | 49.26 |\n",
       "| MBARC-26 | 2 | /ebio/abt3_projects2/databases_no-backup/DeepMAsED/version2/mock/LLMGQC/final/MBARC-26/R2_final.fq.gz | FASTQ | DNA | 156480171 | 22837453225 | 100 | 145.9 | 150 | 148 | 150 | 150 | 0 | 150 | 97.41 | 88.35 | 49.18 |\n",
       "\n"
      ],
      "text/plain": [
       "  Sample   Read\n",
       "1 BMock12  1   \n",
       "2 BMock12  2   \n",
       "3 MBARC-26 1   \n",
       "4 MBARC-26 2   \n",
       "  file                                                                                                 \n",
       "1 /ebio/abt3_projects2/databases_no-backup/DeepMAsED/version2/mock/LLMGQC/final/BMock12/R1_final.fq.gz \n",
       "2 /ebio/abt3_projects2/databases_no-backup/DeepMAsED/version2/mock/LLMGQC/final/BMock12/R2_final.fq.gz \n",
       "3 /ebio/abt3_projects2/databases_no-backup/DeepMAsED/version2/mock/LLMGQC/final/MBARC-26/R1_final.fq.gz\n",
       "4 /ebio/abt3_projects2/databases_no-backup/DeepMAsED/version2/mock/LLMGQC/final/MBARC-26/R2_final.fq.gz\n",
       "  format type num_seqs  sum_len     min_len avg_len max_len Q1  Q2  Q3  sum_gap\n",
       "1 FASTQ  DNA  209143660 31323356697 100     149.8   151     150 151 151 0      \n",
       "2 FASTQ  DNA  209143660 31156239500 100     149.0   151     150 151 151 0      \n",
       "3 FASTQ  DNA  156480171 23035510442 100     147.2   150     149 150 150 0      \n",
       "4 FASTQ  DNA  156480171 22837453225 100     145.9   150     148 150 150 0      \n",
       "  N50 Q20... Q30... GC...\n",
       "1 151 97.08  93.40  51.40\n",
       "2 151 96.02  91.53  51.37\n",
       "3 150 98.18  90.98  49.26\n",
       "4 150 97.41  88.35  49.18"
      ]
     },
     "metadata": {},
     "output_type": "display_data"
    }
   ],
   "source": [
    "F = file.path(work_dir, 'LLMGQC', 'reports', 'final', 'seqkit_stats.tsv')\n",
    "Fread(F)"
   ]
  },
  {
   "cell_type": "markdown",
   "metadata": {},
   "source": [
    "#### Notes\n",
    "\n",
    "* A LARGE number of sequences per sample\n",
    "* I will need to subsample for the metagenome assemblies"
   ]
  },
  {
   "cell_type": "markdown",
   "metadata": {},
   "source": [
    "# Assembly"
   ]
  },
  {
   "cell_type": "markdown",
   "metadata": {},
   "source": [
    "### Config"
   ]
  },
  {
   "cell_type": "code",
   "execution_count": 10,
   "metadata": {
    "ExecuteTime": {
     "end_time": "2023-02-11T16:34:26.192881Z",
     "start_time": "2023-02-11T16:34:26.032Z"
    }
   },
   "outputs": [
    {
     "name": "stdout",
     "output_type": "stream",
     "text": [
      "#-- I/O --#\n",
      "# table with sample --> read_file information\n",
      "samples_file: /ebio/abt3_projects2/databases_no-backup/DeepMAsED/version2/mock/LLMGA/BMock12/samples.txt\n",
      "\n",
      "# output location\n",
      "output_dir: /ebio/abt3_projects2/databases_no-backup/DeepMAsED/version2/mock/LLMGA/BMock12/reads-2mil/\n",
      "\n",
      "# temporary file directory (your username will be added automatically)\n",
      "tmp_dir: /ebio/abt3_scratch/\n",
      "\n",
      "#-- reference genomes for metacompass --#\n",
      "metacompass_ref: /ebio/abt3_projects/Anxiety_Twins_Metagenomes/data/metagenome/TUKMZ-BGI250/llmga-find-refs/references/drep/dereplicated_genomes.fna\n",
      "\n",
      "#-- master control --#\n",
      "# which major parts of the pipline to run \n",
      "run_assembly: True\n",
      "run_binning: False\n",
      "run_other_assembly: False\n",
      "\n",
      "#-- software parameters --#\n",
      "# Notes:\n",
      "## see \"Notes on the `config.yaml` file\" in the README\n",
      "params:\n",
      "  # misc\n",
      "  ionice: -c 3\n",
      "  use_gpu: True\n",
      "  # raw reads\n",
      "  reads:\n",
      "    subsample: 2000000\n",
      "    fastqc: \"\"  \n",
      "  # metacompass (per-sample ref-based assembly); skipped if using graphbin2\n",
      "  metacompass:\n",
      "    buildcontig: Skip #--pickref breadth --mincov 3 -l 1000 -n T -b F -u F\n",
      "    pilon: \"\"\n",
      "  # denovo per-sample assembly (unmapped if metacompass used, else all reads)\n",
      "  denovo_assembly:\n",
      "    metaspades: -k auto --only-assembler\n",
      "    megahit: Skip #--min-count 3 --min-contig-len 1000 --presets meta-sensitive\n",
      "  # combined, final contigs from assemblies\n",
      "  final_contigs:\n",
      "    derep_contigs: minidentity=100 minscaf=1000 minoverlappercent=95\n",
      "    contig_rename: \"\"\n",
      "    min_contig_len: 1000            # min contig length retained\n",
      "    metaquast: -r /ebio/abt3_projects2/databases_no-backup/DeepMAsED/version2/mock/ref_genomes/BMock12/\n",
      "  # contig filtering\n",
      "  contig_filtering:\n",
      "    resmico:\n",
      "      bowtie2:\n",
      "        build: \"\"\n",
      "        map: \"\"\n",
      "      bam2feat: --max-coverage 20\n",
      "      evaluate: --batch-size 100 --gpu-eval-mem-gb 1 --max-len 20000\n",
      "                --min-contig-len 1000 --min-avg-coverage 1 --seed 12\n",
      "      filter: --score-cutoff 0.8 --min-length 0\n",
      "    metaquast: -r /ebio/abt3_projects2/databases_no-backup/DeepMAsED/version2/mock/ref_genomes/BMock12/\n",
      "  # contig binning\n",
      "  binning:\n",
      "    subsample: 5000000       # how many reads per sample to use for dif-cov binning? \n",
      "    # mapping\n",
      "    map:\n",
      "      num_map_samples: 40    # how many samples to use for dif-cov. binning ('all' = all samples)\n",
      "      minimap2:\n",
      "        index: -k 15 -w 10 -I 12G\n",
      "        map: -N 5 -F 800\n",
      "      samtools_view: -q 0 -F 3584                 # -q = MAPQ cutoff\n",
      "      bam_to_depth: --percentIdentity 97\n",
      "      keep_bam: False                       # keep all BAM files?\n",
      "    # binning\n",
      "    binners:\n",
      "      maxbin2:\n",
      "        Low: -min_contig_length 1500 -markerset 40 -prob_threshold 0.6\n",
      "        Med: -min_contig_length 1500 -markerset 40 -prob_threshold 0.7\n",
      "        High: -min_contig_length 1500 -markerset 40 -prob_threshold 0.8\n",
      "      metabat2:\n",
      "        Low: --minContig 1500 --minCV 0.5 --minCVSum 0.5 --maxP 92\n",
      "             --maxEdges 150 --seed 8394\n",
      "        Med: --minContig 1500 --minCV 0.5 --minCVSum 0.5 --maxP 94\n",
      "             --maxEdges 325 --seed 8394\n",
      "        High: --minContig 1500 --minCV 0.5 --minCVSum 0.5 --maxP 97\n",
      "              --maxEdges 500 --seed 8394\n",
      "        LowNoCov: --minContig 1500 --minCV 0.5 --minCVSum 0.5 --maxP 92\n",
      "                  --maxEdges 150 --seed 8394 NOCOV\n",
      "        MedNoCov: --minContig 1500 --minCV 0.5 --minCVSum 0.5 --maxP 94\n",
      "                  --maxEdges 325 --seed 8394 NOCOV\n",
      "        HighNoCov: --minContig 1500 --minCV 0.5 --minCVSum 0.5 --maxP 97\n",
      "                   --maxEdges 500 --seed 8394 NOCOV\n",
      "      vamb:\n",
      "        Low: -c 10000 -m 1500 -l 24 -n 384 384\n",
      "        Med: -c 10000 -m 1500 -l 32 -n 512 512\n",
      "        High: -c 10000 -m 1500 -l 40 -n 768 768\n",
      "    # selecting final bins (MAGs)\n",
      "    select:\n",
      "      das_tool: --search_engine diamond\n",
      "      genome_table: \"\"\n",
      "  # denovo assembly of other genetic components\n",
      "  denovo_other_assembly:\n",
      "    min_contig_len: 1000\n",
      "    metaplasmidspades: -k auto --only-assembler\n",
      "    metabiosyntheticspades: -k auto --only-assembler\n",
      "  \n",
      "#-- snakemake pipeline --#\n",
      "pipeline:\n",
      "  snakemake_folder: ./\n",
      "  script_folder: bin/scripts/\n",
      "  random_number_seed: 83421\n",
      "  name: LLMGA\n"
     ]
    }
   ],
   "source": [
    "F = file.path(work_dir, 'LLMGA', 'BMock12', 'reads-2mil', 'config.yaml')\n",
    "cat_file(F)"
   ]
  },
  {
   "cell_type": "markdown",
   "metadata": {},
   "source": [
    "### Run"
   ]
  },
  {
   "cell_type": "markdown",
   "metadata": {},
   "source": [
    "```\n",
    "(snakemake) rick: /tmp/global2/nyoungblut/code/dev/ll_pipelines/llmga\n",
    "$ screen -L -S llmga-BMock12 ./snakemake_sge.sh /ebio/abt3_projects2/databases_no-backup/DeepMAsED/version2/mock/LLMGA/BMock12/reads-2mil/config.yaml 30 -F --notemp\n",
    "```"
   ]
  },
  {
   "cell_type": "markdown",
   "metadata": {},
   "source": [
    "## MetaQUAST summary"
   ]
  },
  {
   "cell_type": "code",
   "execution_count": 11,
   "metadata": {
    "ExecuteTime": {
     "end_time": "2023-02-12T13:45:57.742138Z",
     "start_time": "2023-02-12T13:45:57.579Z"
    }
   },
   "outputs": [],
   "source": [
    "base_dir = file.path(work_dir, 'LLMGA', 'BMock12', 'reads-2mil')"
   ]
  },
  {
   "cell_type": "markdown",
   "metadata": {},
   "source": [
    "### Post-assembly"
   ]
  },
  {
   "cell_type": "code",
   "execution_count": 12,
   "metadata": {
    "ExecuteTime": {
     "end_time": "2023-02-12T13:45:59.324045Z",
     "start_time": "2023-02-12T13:45:59.098Z"
    }
   },
   "outputs": [
    {
     "data": {
      "text/html": [
       "<table class=\"dataframe\">\n",
       "<caption>A data.table: 20 × 2</caption>\n",
       "<thead>\n",
       "\t<tr><th scope=col>Assembly</th><th scope=col>contigs_final</th></tr>\n",
       "\t<tr><th scope=col>&lt;chr&gt;</th><th scope=col>&lt;chr&gt;</th></tr>\n",
       "</thead>\n",
       "<tbody>\n",
       "\t<tr><td><span style=white-space:pre-wrap># contigs (&gt;= 0 bp)       </span></td><td><span style=white-space:pre-wrap>3907    </span></td></tr>\n",
       "\t<tr><td><span style=white-space:pre-wrap># contigs (&gt;= 1000 bp)    </span></td><td><span style=white-space:pre-wrap>3907    </span></td></tr>\n",
       "\t<tr><td><span style=white-space:pre-wrap># contigs (&gt;= 5000 bp)    </span></td><td><span style=white-space:pre-wrap>1006    </span></td></tr>\n",
       "\t<tr><td><span style=white-space:pre-wrap># contigs (&gt;= 10000 bp)   </span></td><td><span style=white-space:pre-wrap>523     </span></td></tr>\n",
       "\t<tr><td><span style=white-space:pre-wrap># contigs (&gt;= 25000 bp)   </span></td><td><span style=white-space:pre-wrap>193     </span></td></tr>\n",
       "\t<tr><td><span style=white-space:pre-wrap># contigs (&gt;= 50000 bp)   </span></td><td><span style=white-space:pre-wrap>84      </span></td></tr>\n",
       "\t<tr><td><span style=white-space:pre-wrap>Total length (&gt;= 0 bp)    </span></td><td>28231094</td></tr>\n",
       "\t<tr><td>Total length (&gt;= 1000 bp) </td><td>28231094</td></tr>\n",
       "\t<tr><td>Total length (&gt;= 5000 bp) </td><td>22294731</td></tr>\n",
       "\t<tr><td>Total length (&gt;= 10000 bp)</td><td>18890547</td></tr>\n",
       "\t<tr><td>Total length (&gt;= 25000 bp)</td><td>13697544</td></tr>\n",
       "\t<tr><td>Total length (&gt;= 50000 bp)</td><td>9980271 </td></tr>\n",
       "\t<tr><td># contigs                 </td><td>3907    </td></tr>\n",
       "\t<tr><td>Largest contig            </td><td>915402  </td></tr>\n",
       "\t<tr><td>Total length              </td><td>28231094</td></tr>\n",
       "\t<tr><td>Reference length          </td><td>59520276</td></tr>\n",
       "\t<tr><td>N50                       </td><td>22883   </td></tr>\n",
       "\t<tr><td>N90                       </td><td>2214    </td></tr>\n",
       "\t<tr><td>auN                       </td><td>97086.1 </td></tr>\n",
       "\t<tr><td>L50                       </td><td>211     </td></tr>\n",
       "</tbody>\n",
       "</table>\n"
      ],
      "text/latex": [
       "A data.table: 20 × 2\n",
       "\\begin{tabular}{ll}\n",
       " Assembly & contigs\\_final\\\\\n",
       " <chr> & <chr>\\\\\n",
       "\\hline\n",
       "\t \\# contigs (>= 0 bp)        & 3907    \\\\\n",
       "\t \\# contigs (>= 1000 bp)     & 3907    \\\\\n",
       "\t \\# contigs (>= 5000 bp)     & 1006    \\\\\n",
       "\t \\# contigs (>= 10000 bp)    & 523     \\\\\n",
       "\t \\# contigs (>= 25000 bp)    & 193     \\\\\n",
       "\t \\# contigs (>= 50000 bp)    & 84      \\\\\n",
       "\t Total length (>= 0 bp)     & 28231094\\\\\n",
       "\t Total length (>= 1000 bp)  & 28231094\\\\\n",
       "\t Total length (>= 5000 bp)  & 22294731\\\\\n",
       "\t Total length (>= 10000 bp) & 18890547\\\\\n",
       "\t Total length (>= 25000 bp) & 13697544\\\\\n",
       "\t Total length (>= 50000 bp) & 9980271 \\\\\n",
       "\t \\# contigs                  & 3907    \\\\\n",
       "\t Largest contig             & 915402  \\\\\n",
       "\t Total length               & 28231094\\\\\n",
       "\t Reference length           & 59520276\\\\\n",
       "\t N50                        & 22883   \\\\\n",
       "\t N90                        & 2214    \\\\\n",
       "\t auN                        & 97086.1 \\\\\n",
       "\t L50                        & 211     \\\\\n",
       "\\end{tabular}\n"
      ],
      "text/markdown": [
       "\n",
       "A data.table: 20 × 2\n",
       "\n",
       "| Assembly &lt;chr&gt; | contigs_final &lt;chr&gt; |\n",
       "|---|---|\n",
       "| # contigs (&gt;= 0 bp)        | 3907     |\n",
       "| # contigs (&gt;= 1000 bp)     | 3907     |\n",
       "| # contigs (&gt;= 5000 bp)     | 1006     |\n",
       "| # contigs (&gt;= 10000 bp)    | 523      |\n",
       "| # contigs (&gt;= 25000 bp)    | 193      |\n",
       "| # contigs (&gt;= 50000 bp)    | 84       |\n",
       "| Total length (&gt;= 0 bp)     | 28231094 |\n",
       "| Total length (&gt;= 1000 bp)  | 28231094 |\n",
       "| Total length (&gt;= 5000 bp)  | 22294731 |\n",
       "| Total length (&gt;= 10000 bp) | 18890547 |\n",
       "| Total length (&gt;= 25000 bp) | 13697544 |\n",
       "| Total length (&gt;= 50000 bp) | 9980271  |\n",
       "| # contigs                  | 3907     |\n",
       "| Largest contig             | 915402   |\n",
       "| Total length               | 28231094 |\n",
       "| Reference length           | 59520276 |\n",
       "| N50                        | 22883    |\n",
       "| N90                        | 2214     |\n",
       "| auN                        | 97086.1  |\n",
       "| L50                        | 211      |\n",
       "\n"
      ],
      "text/plain": [
       "   Assembly                   contigs_final\n",
       "1  # contigs (>= 0 bp)        3907         \n",
       "2  # contigs (>= 1000 bp)     3907         \n",
       "3  # contigs (>= 5000 bp)     1006         \n",
       "4  # contigs (>= 10000 bp)    523          \n",
       "5  # contigs (>= 25000 bp)    193          \n",
       "6  # contigs (>= 50000 bp)    84           \n",
       "7  Total length (>= 0 bp)     28231094     \n",
       "8  Total length (>= 1000 bp)  28231094     \n",
       "9  Total length (>= 5000 bp)  22294731     \n",
       "10 Total length (>= 10000 bp) 18890547     \n",
       "11 Total length (>= 25000 bp) 13697544     \n",
       "12 Total length (>= 50000 bp) 9980271      \n",
       "13 # contigs                  3907         \n",
       "14 Largest contig             915402       \n",
       "15 Total length               28231094     \n",
       "16 Reference length           59520276     \n",
       "17 N50                        22883        \n",
       "18 N90                        2214         \n",
       "19 auN                        97086.1      \n",
       "20 L50                        211          "
      ]
     },
     "metadata": {},
     "output_type": "display_data"
    }
   ],
   "source": [
    "# post-assembly contig report\n",
    "F = file.path(base_dir, 'final_contigs', 'BMock12', 'metaquast', 'combined_reference', 'report.tsv')\n",
    "contigs_asmbl = Fread(F) \n",
    "\n",
    "df.dims(20)\n",
    "contigs_asmbl %>% head(n=20)\n",
    "df.dims()"
   ]
  },
  {
   "cell_type": "code",
   "execution_count": 13,
   "metadata": {
    "ExecuteTime": {
     "end_time": "2023-02-12T13:46:01.690465Z",
     "start_time": "2023-02-12T13:46:01.490Z"
    },
    "scrolled": false
   },
   "outputs": [
    {
     "name": "stdout",
     "output_type": "stream",
     "text": [
      "contig_414\n",
      "Extensive misassembly (interspecies translocation) between 919 1 and 1242 1029\n",
      "contig_430\n",
      "Extensive misassembly (interspecies translocation) between 1 840 and 841 1158\n",
      "contig_521\n",
      "Extensive misassembly (interspecies translocation) between 1 1501 and 1502 9065\n",
      "contig_588\n",
      "Extensive misassembly (relocation, inconsistency = -2850) between 3685 1 and 4479 3686\n",
      "contig_1316\n",
      "Extensive misassembly (relocation, inconsistency = -3858287) between 1142 1 and 1697 1143\n",
      "contig_1344\n",
      "Extensive misassembly (relocation, inconsistency = -2166888) between 1421 1 and 1629 1447\n",
      "contig_1415\n",
      "Extensive misassembly (interspecies translocation) between 1 1180 and 1381 1181\n",
      "contig_1450\n",
      "Extensive misassembly (interspecies translocation) between 1 526 and 1305 527\n",
      "contig_1479\n",
      "Extensive misassembly (relocation, inconsistency = 1498296) between 1 792 and 793 1254\n",
      "contig_1559\n",
      "Extensive misassembly (interspecies translocation) between 878 34 and 879 1091\n",
      "contig_1565\n",
      "Extensive misassembly (interspecies translocation) between 1 908 and 1088 909\n",
      "contig_1578\n",
      "Extensive misassembly (relocation, inconsistency = -978467) between 1 932 and 933 1071\n",
      "contig_1661\n",
      "Extensive misassembly (relocation, inconsistency = 1742) between 1 3996 and 3997 5492\n",
      "contig_2004\n",
      "Extensive misassembly (interspecies translocation) between 986 1 and 1137 987\n",
      "contig_2036\n",
      "Extensive misassembly (interspecies translocation) between 118 1 and 1032 119\n",
      "contig_2144\n",
      "Extensive misassembly (relocation, inconsistency = -60066) between 3220 1 and 3626 3221\n",
      "contig_2193\n",
      "Extensive misassembly (interspecies translocation) between 1893 47 and 1894 2339\n",
      "contig_2264\n",
      "Extensive misassembly (interspecies translocation) between 1 1171 and 1651 1172\n",
      "contig_2265\n",
      "Extensive misassembly (relocation, inconsistency = 7736) between 1 355 and 356 1650\n",
      "contig_2784\n",
      "Extensive misassembly (interspecies translocation) between 943 1 and 944 1182\n",
      "contig_2820\n",
      "Extensive misassembly (translocation) between 117 1 and 1079 118\n",
      "contig_2840\n",
      "Extensive misassembly (interspecies translocation) between 1 81 and 82 1058\n",
      "contig_2858\n",
      "Extensive misassembly (interspecies translocation) between 1 916 and 917 1017\n",
      "contig_2873\n",
      "Extensive misassembly (relocation, inconsistency = -77316) between 45254 1 and 60201 45255\n",
      "contig_3140\n",
      "Extensive misassembly (interspecies translocation) between 1505 1 and 1506 1713\n",
      "contig_3762\n",
      "Extensive misassembly (relocation, inconsistency = -3620094) between 907 1 and 1491 908\n",
      "contig_3869\n",
      "Extensive misassembly (relocation, inconsistency = 1106798) between 95 1 and 96 1040\n",
      "contig_3887\n",
      "Extensive misassembly (relocation, inconsistency = 1011590) between 1 337 and 338 1027\n",
      "contig_3889\n",
      "Extensive misassembly (interspecies translocation) between 224 1 and 1025 225\n",
      "contig_3890\n",
      "Extensive misassembly (interspecies translocation) between 1 453 and 454 1025"
     ]
    }
   ],
   "source": [
    "# post-assembly misassembly report\n",
    "F = file.path(base_dir, 'final_contigs', 'BMock12', 'metaquast', 'combined_reference', \n",
    "              'contigs_reports', 'contigs_report_contigs_final.mis_contigs.info')\n",
    "cat_file(F)"
   ]
  },
  {
   "cell_type": "markdown",
   "metadata": {},
   "source": [
    "### Post-resmico"
   ]
  },
  {
   "cell_type": "code",
   "execution_count": 14,
   "metadata": {
    "ExecuteTime": {
     "end_time": "2023-02-12T13:46:04.395731Z",
     "start_time": "2023-02-12T13:46:04.202Z"
    }
   },
   "outputs": [
    {
     "data": {
      "text/html": [
       "<table class=\"dataframe\">\n",
       "<caption>A data.table: 20 × 2</caption>\n",
       "<thead>\n",
       "\t<tr><th scope=col>Assembly</th><th scope=col>contigs_filtered</th></tr>\n",
       "\t<tr><th scope=col>&lt;chr&gt;</th><th scope=col>&lt;chr&gt;</th></tr>\n",
       "</thead>\n",
       "<tbody>\n",
       "\t<tr><td><span style=white-space:pre-wrap># contigs (&gt;= 0 bp)       </span></td><td><span style=white-space:pre-wrap>3846    </span></td></tr>\n",
       "\t<tr><td><span style=white-space:pre-wrap># contigs (&gt;= 1000 bp)    </span></td><td><span style=white-space:pre-wrap>3846    </span></td></tr>\n",
       "\t<tr><td><span style=white-space:pre-wrap># contigs (&gt;= 5000 bp)    </span></td><td><span style=white-space:pre-wrap>987     </span></td></tr>\n",
       "\t<tr><td><span style=white-space:pre-wrap># contigs (&gt;= 10000 bp)   </span></td><td><span style=white-space:pre-wrap>509     </span></td></tr>\n",
       "\t<tr><td><span style=white-space:pre-wrap># contigs (&gt;= 25000 bp)   </span></td><td><span style=white-space:pre-wrap>183     </span></td></tr>\n",
       "\t<tr><td><span style=white-space:pre-wrap># contigs (&gt;= 50000 bp)   </span></td><td><span style=white-space:pre-wrap>80      </span></td></tr>\n",
       "\t<tr><td><span style=white-space:pre-wrap>Total length (&gt;= 0 bp)    </span></td><td>27494346</td></tr>\n",
       "\t<tr><td>Total length (&gt;= 1000 bp) </td><td>27494346</td></tr>\n",
       "\t<tr><td>Total length (&gt;= 5000 bp) </td><td>21645567</td></tr>\n",
       "\t<tr><td>Total length (&gt;= 10000 bp)</td><td>18277104</td></tr>\n",
       "\t<tr><td>Total length (&gt;= 25000 bp)</td><td>13162289</td></tr>\n",
       "\t<tr><td>Total length (&gt;= 50000 bp)</td><td>9672822 </td></tr>\n",
       "\t<tr><td># contigs                 </td><td>3846    </td></tr>\n",
       "\t<tr><td>Largest contig            </td><td>915402  </td></tr>\n",
       "\t<tr><td>Total length              </td><td>27494346</td></tr>\n",
       "\t<tr><td>Reference length          </td><td>59520276</td></tr>\n",
       "\t<tr><td>N50                       </td><td>22170   </td></tr>\n",
       "\t<tr><td>N90                       </td><td>2192    </td></tr>\n",
       "\t<tr><td>auN                       </td><td>98396.6 </td></tr>\n",
       "\t<tr><td>L50                       </td><td>209     </td></tr>\n",
       "</tbody>\n",
       "</table>\n"
      ],
      "text/latex": [
       "A data.table: 20 × 2\n",
       "\\begin{tabular}{ll}\n",
       " Assembly & contigs\\_filtered\\\\\n",
       " <chr> & <chr>\\\\\n",
       "\\hline\n",
       "\t \\# contigs (>= 0 bp)        & 3846    \\\\\n",
       "\t \\# contigs (>= 1000 bp)     & 3846    \\\\\n",
       "\t \\# contigs (>= 5000 bp)     & 987     \\\\\n",
       "\t \\# contigs (>= 10000 bp)    & 509     \\\\\n",
       "\t \\# contigs (>= 25000 bp)    & 183     \\\\\n",
       "\t \\# contigs (>= 50000 bp)    & 80      \\\\\n",
       "\t Total length (>= 0 bp)     & 27494346\\\\\n",
       "\t Total length (>= 1000 bp)  & 27494346\\\\\n",
       "\t Total length (>= 5000 bp)  & 21645567\\\\\n",
       "\t Total length (>= 10000 bp) & 18277104\\\\\n",
       "\t Total length (>= 25000 bp) & 13162289\\\\\n",
       "\t Total length (>= 50000 bp) & 9672822 \\\\\n",
       "\t \\# contigs                  & 3846    \\\\\n",
       "\t Largest contig             & 915402  \\\\\n",
       "\t Total length               & 27494346\\\\\n",
       "\t Reference length           & 59520276\\\\\n",
       "\t N50                        & 22170   \\\\\n",
       "\t N90                        & 2192    \\\\\n",
       "\t auN                        & 98396.6 \\\\\n",
       "\t L50                        & 209     \\\\\n",
       "\\end{tabular}\n"
      ],
      "text/markdown": [
       "\n",
       "A data.table: 20 × 2\n",
       "\n",
       "| Assembly &lt;chr&gt; | contigs_filtered &lt;chr&gt; |\n",
       "|---|---|\n",
       "| # contigs (&gt;= 0 bp)        | 3846     |\n",
       "| # contigs (&gt;= 1000 bp)     | 3846     |\n",
       "| # contigs (&gt;= 5000 bp)     | 987      |\n",
       "| # contigs (&gt;= 10000 bp)    | 509      |\n",
       "| # contigs (&gt;= 25000 bp)    | 183      |\n",
       "| # contigs (&gt;= 50000 bp)    | 80       |\n",
       "| Total length (&gt;= 0 bp)     | 27494346 |\n",
       "| Total length (&gt;= 1000 bp)  | 27494346 |\n",
       "| Total length (&gt;= 5000 bp)  | 21645567 |\n",
       "| Total length (&gt;= 10000 bp) | 18277104 |\n",
       "| Total length (&gt;= 25000 bp) | 13162289 |\n",
       "| Total length (&gt;= 50000 bp) | 9672822  |\n",
       "| # contigs                  | 3846     |\n",
       "| Largest contig             | 915402   |\n",
       "| Total length               | 27494346 |\n",
       "| Reference length           | 59520276 |\n",
       "| N50                        | 22170    |\n",
       "| N90                        | 2192     |\n",
       "| auN                        | 98396.6  |\n",
       "| L50                        | 209      |\n",
       "\n"
      ],
      "text/plain": [
       "   Assembly                   contigs_filtered\n",
       "1  # contigs (>= 0 bp)        3846            \n",
       "2  # contigs (>= 1000 bp)     3846            \n",
       "3  # contigs (>= 5000 bp)     987             \n",
       "4  # contigs (>= 10000 bp)    509             \n",
       "5  # contigs (>= 25000 bp)    183             \n",
       "6  # contigs (>= 50000 bp)    80              \n",
       "7  Total length (>= 0 bp)     27494346        \n",
       "8  Total length (>= 1000 bp)  27494346        \n",
       "9  Total length (>= 5000 bp)  21645567        \n",
       "10 Total length (>= 10000 bp) 18277104        \n",
       "11 Total length (>= 25000 bp) 13162289        \n",
       "12 Total length (>= 50000 bp) 9672822         \n",
       "13 # contigs                  3846            \n",
       "14 Largest contig             915402          \n",
       "15 Total length               27494346        \n",
       "16 Reference length           59520276        \n",
       "17 N50                        22170           \n",
       "18 N90                        2192            \n",
       "19 auN                        98396.6         \n",
       "20 L50                        209             "
      ]
     },
     "metadata": {},
     "output_type": "display_data"
    }
   ],
   "source": [
    "# post-assembly contig report\n",
    "F = file.path(base_dir, 'filtered_contigs', 'BMock12', 'metaquast', 'combined_reference', 'report.tsv')\n",
    "contigs_resmico = Fread(F) \n",
    "\n",
    "df.dims(20)\n",
    "contigs_resmico %>% head(n=20)\n",
    "df.dims()"
   ]
  },
  {
   "cell_type": "code",
   "execution_count": 15,
   "metadata": {
    "ExecuteTime": {
     "end_time": "2023-02-12T13:46:04.798417Z",
     "start_time": "2023-02-12T13:46:04.632Z"
    }
   },
   "outputs": [
    {
     "name": "stdout",
     "output_type": "stream",
     "text": [
      "contig_1450\n",
      "Extensive misassembly (interspecies translocation) between 1 526 and 1305 527\n",
      "contig_1578\n",
      "Extensive misassembly (relocation, inconsistency = -978467) between 1 932 and 933 1071\n",
      "contig_1661\n",
      "Extensive misassembly (relocation, inconsistency = 1742) between 1 3996 and 3997 5492\n",
      "contig_2144\n",
      "Extensive misassembly (relocation, inconsistency = -60066) between 3220 1 and 3626 3221\n",
      "contig_2265\n",
      "Extensive misassembly (relocation, inconsistency = 7736) between 1 355 and 356 1650\n",
      "contig_2873\n",
      "Extensive misassembly (relocation, inconsistency = -77316) between 45254 1 and 60201 45255\n",
      "contig_3889\n",
      "Extensive misassembly (interspecies translocation) between 224 1 and 1025 225"
     ]
    }
   ],
   "source": [
    "# post-resmico misassembly report\n",
    "F = file.path(base_dir, 'filtered_contigs', 'BMock12', 'metaquast', 'combined_reference', \n",
    "              'contigs_reports', 'contigs_report_contigs_filtered.mis_contigs.info')\n",
    "cat_file(F)"
   ]
  },
  {
   "cell_type": "markdown",
   "metadata": {
    "ExecuteTime": {
     "end_time": "2023-01-22T13:46:04.770275Z",
     "start_time": "2023-01-22T13:46:04.637Z"
    }
   },
   "source": [
    "### Diff in contigs after filtering"
   ]
  },
  {
   "cell_type": "code",
   "execution_count": 16,
   "metadata": {
    "ExecuteTime": {
     "end_time": "2023-02-12T13:46:06.719448Z",
     "start_time": "2023-02-12T13:46:06.540Z"
    }
   },
   "outputs": [
    {
     "name": "stdout",
     "output_type": "stream",
     "text": [
      "[1] 61\n"
     ]
    },
    {
     "data": {
      "text/html": [
       "98.4386997696442"
      ],
      "text/latex": [
       "98.4386997696442"
      ],
      "text/markdown": [
       "98.4386997696442"
      ],
      "text/plain": [
       "[1] 98.4387"
      ]
     },
     "metadata": {},
     "output_type": "display_data"
    }
   ],
   "source": [
    "# number of contigs\n",
    "x = contigs_asmbl %>% \n",
    "    filter.(Assembly == '# contigs') %>%\n",
    "    .$contigs_final %>% first %>% as.numeric\n",
    "\n",
    "y = contigs_resmico %>% \n",
    "    filter.(Assembly == '# contigs') %>%\n",
    "    .$contigs_filtered %>% first %>% as.numeric\n",
    "\n",
    "print(x - y)\n",
    "y / x * 100"
   ]
  },
  {
   "cell_type": "code",
   "execution_count": 17,
   "metadata": {
    "ExecuteTime": {
     "end_time": "2023-02-12T13:46:07.884741Z",
     "start_time": "2023-02-12T13:46:07.717Z"
    }
   },
   "outputs": [
    {
     "data": {
      "text/html": [
       "97.3902959623173"
      ],
      "text/latex": [
       "97.3902959623173"
      ],
      "text/markdown": [
       "97.3902959623173"
      ],
      "text/plain": [
       "[1] 97.3903"
      ]
     },
     "metadata": {},
     "output_type": "display_data"
    }
   ],
   "source": [
    "# total length\n",
    "x = contigs_asmbl %>% \n",
    "    filter.(Assembly == 'Total length') %>%\n",
    "    .$contigs_final %>% first %>% as.numeric\n",
    "\n",
    "y = contigs_resmico %>% \n",
    "    filter.(Assembly == 'Total length') %>%\n",
    "    .$contigs_filtered %>% first %>% as.numeric\n",
    "\n",
    "y / x * 100"
   ]
  },
  {
   "cell_type": "code",
   "execution_count": 18,
   "metadata": {
    "ExecuteTime": {
     "end_time": "2023-02-12T13:46:08.248269Z",
     "start_time": "2023-02-12T13:46:08.080Z"
    }
   },
   "outputs": [
    {
     "data": {
      "text/html": [
       "96.8841498055325"
      ],
      "text/latex": [
       "96.8841498055325"
      ],
      "text/markdown": [
       "96.8841498055325"
      ],
      "text/plain": [
       "[1] 96.88415"
      ]
     },
     "metadata": {},
     "output_type": "display_data"
    }
   ],
   "source": [
    "# N50\n",
    "x = contigs_asmbl %>% \n",
    "    filter.(Assembly == 'N50') %>%\n",
    "    .$contigs_final %>% first %>% as.numeric\n",
    "\n",
    "y = contigs_resmico %>% \n",
    "    filter.(Assembly == 'N50') %>%\n",
    "    .$contigs_filtered %>% first %>% as.numeric\n",
    "\n",
    "y / x * 100"
   ]
  },
  {
   "cell_type": "markdown",
   "metadata": {},
   "source": [
    "## PR curve"
   ]
  },
  {
   "cell_type": "code",
   "execution_count": 19,
   "metadata": {
    "ExecuteTime": {
     "end_time": "2023-02-12T13:46:10.668557Z",
     "start_time": "2023-02-12T13:46:10.325Z"
    }
   },
   "outputs": [
    {
     "data": {
      "text/html": [
       "<table class=\"dataframe\">\n",
       "<caption>A data.table: 3907 × 8</caption>\n",
       "<thead>\n",
       "\t<tr><th scope=col>cont_name</th><th scope=col>length</th><th scope=col>label</th><th scope=col>score</th><th scope=col>min</th><th scope=col>mean</th><th scope=col>std</th><th scope=col>max</th></tr>\n",
       "\t<tr><th scope=col>&lt;chr&gt;</th><th scope=col>&lt;int&gt;</th><th scope=col>&lt;int&gt;</th><th scope=col>&lt;dbl&gt;</th><th scope=col>&lt;dbl&gt;</th><th scope=col>&lt;dbl&gt;</th><th scope=col>&lt;dbl&gt;</th><th scope=col>&lt;dbl&gt;</th></tr>\n",
       "</thead>\n",
       "<tbody>\n",
       "\t<tr><td>/ebio/abt3_scratch/nyoungblut/LLMGA_122597181487/resmico/BMock12/contig_1954</td><td>1315</td><td>0</td><td>0.108811356</td><td>0.108811356</td><td>0.108811356</td><td>0</td><td>0.108811356</td></tr>\n",
       "\t<tr><td>/ebio/abt3_scratch/nyoungblut/LLMGA_122597181487/resmico/BMock12/contig_1955</td><td>1315</td><td>0</td><td>0.002602867</td><td>0.002602867</td><td>0.002602867</td><td>0</td><td>0.002602867</td></tr>\n",
       "\t<tr><td>⋮</td><td>⋮</td><td>⋮</td><td>⋮</td><td>⋮</td><td>⋮</td><td>⋮</td><td>⋮</td></tr>\n",
       "\t<tr><td>/ebio/abt3_scratch/nyoungblut/LLMGA_122597181487/resmico/BMock12/contig_975</td><td>11902</td><td>0</td><td>0.02570112</td><td>0.02570112</td><td>0.02570112</td><td>0</td><td>0.02570112</td></tr>\n",
       "\t<tr><td>/ebio/abt3_scratch/nyoungblut/LLMGA_122597181487/resmico/BMock12/contig_976</td><td>11830</td><td>0</td><td>0.04514008</td><td>0.04514008</td><td>0.04514008</td><td>0</td><td>0.04514008</td></tr>\n",
       "</tbody>\n",
       "</table>\n"
      ],
      "text/latex": [
       "A data.table: 3907 × 8\n",
       "\\begin{tabular}{llllllll}\n",
       " cont\\_name & length & label & score & min & mean & std & max\\\\\n",
       " <chr> & <int> & <int> & <dbl> & <dbl> & <dbl> & <dbl> & <dbl>\\\\\n",
       "\\hline\n",
       "\t /ebio/abt3\\_scratch/nyoungblut/LLMGA\\_122597181487/resmico/BMock12/contig\\_1954 & 1315 & 0 & 0.108811356 & 0.108811356 & 0.108811356 & 0 & 0.108811356\\\\\n",
       "\t /ebio/abt3\\_scratch/nyoungblut/LLMGA\\_122597181487/resmico/BMock12/contig\\_1955 & 1315 & 0 & 0.002602867 & 0.002602867 & 0.002602867 & 0 & 0.002602867\\\\\n",
       "\t ⋮ & ⋮ & ⋮ & ⋮ & ⋮ & ⋮ & ⋮ & ⋮\\\\\n",
       "\t /ebio/abt3\\_scratch/nyoungblut/LLMGA\\_122597181487/resmico/BMock12/contig\\_975 & 11902 & 0 & 0.02570112 & 0.02570112 & 0.02570112 & 0 & 0.02570112\\\\\n",
       "\t /ebio/abt3\\_scratch/nyoungblut/LLMGA\\_122597181487/resmico/BMock12/contig\\_976 & 11830 & 0 & 0.04514008 & 0.04514008 & 0.04514008 & 0 & 0.04514008\\\\\n",
       "\\end{tabular}\n"
      ],
      "text/markdown": [
       "\n",
       "A data.table: 3907 × 8\n",
       "\n",
       "| cont_name &lt;chr&gt; | length &lt;int&gt; | label &lt;int&gt; | score &lt;dbl&gt; | min &lt;dbl&gt; | mean &lt;dbl&gt; | std &lt;dbl&gt; | max &lt;dbl&gt; |\n",
       "|---|---|---|---|---|---|---|---|\n",
       "| /ebio/abt3_scratch/nyoungblut/LLMGA_122597181487/resmico/BMock12/contig_1954 | 1315 | 0 | 0.108811356 | 0.108811356 | 0.108811356 | 0 | 0.108811356 |\n",
       "| /ebio/abt3_scratch/nyoungblut/LLMGA_122597181487/resmico/BMock12/contig_1955 | 1315 | 0 | 0.002602867 | 0.002602867 | 0.002602867 | 0 | 0.002602867 |\n",
       "| ⋮ | ⋮ | ⋮ | ⋮ | ⋮ | ⋮ | ⋮ | ⋮ |\n",
       "| /ebio/abt3_scratch/nyoungblut/LLMGA_122597181487/resmico/BMock12/contig_975 | 11902 | 0 | 0.02570112 | 0.02570112 | 0.02570112 | 0 | 0.02570112 |\n",
       "| /ebio/abt3_scratch/nyoungblut/LLMGA_122597181487/resmico/BMock12/contig_976 | 11830 | 0 | 0.04514008 | 0.04514008 | 0.04514008 | 0 | 0.04514008 |\n",
       "\n"
      ],
      "text/plain": [
       "     cont_name                                                                   \n",
       "1    /ebio/abt3_scratch/nyoungblut/LLMGA_122597181487/resmico/BMock12/contig_1954\n",
       "2    /ebio/abt3_scratch/nyoungblut/LLMGA_122597181487/resmico/BMock12/contig_1955\n",
       "⋮    ⋮                                                                           \n",
       "3906 /ebio/abt3_scratch/nyoungblut/LLMGA_122597181487/resmico/BMock12/contig_975 \n",
       "3907 /ebio/abt3_scratch/nyoungblut/LLMGA_122597181487/resmico/BMock12/contig_976 \n",
       "     length label score       min         mean        std max        \n",
       "1    1315   0     0.108811356 0.108811356 0.108811356 0   0.108811356\n",
       "2    1315   0     0.002602867 0.002602867 0.002602867 0   0.002602867\n",
       "⋮    ⋮      ⋮     ⋮           ⋮           ⋮           ⋮   ⋮          \n",
       "3906 11902  0     0.02570112  0.02570112  0.02570112  0   0.02570112 \n",
       "3907 11830  0     0.04514008  0.04514008  0.04514008  0   0.04514008 "
      ]
     },
     "metadata": {},
     "output_type": "display_data"
    }
   ],
   "source": [
    "# loading resmico scores\n",
    "F = file.path(base_dir, 'filtered_contigs', 'resmico', 'BMock12', 'predictions.csv.gz')\n",
    "resmico_scores = Fread(F, sep=',')\n",
    "resmico_scores"
   ]
  },
  {
   "cell_type": "code",
   "execution_count": 20,
   "metadata": {
    "ExecuteTime": {
     "end_time": "2023-02-12T13:47:22.736979Z",
     "start_time": "2023-02-12T13:47:22.484Z"
    }
   },
   "outputs": [
    {
     "name": "stdout",
     "output_type": "stream",
     "text": [
      "No. of contigs 3907 \n",
      "No. of true misassemblies: 30 \n",
      "True error rate: 0.7678526 %\n"
     ]
    },
    {
     "data": {
      "text/html": [
       "<table class=\"dataframe\">\n",
       "<caption>A matrix: 1 × 8 of type dbl</caption>\n",
       "<thead>\n",
       "\t<tr><th></th><th scope=col>Min.</th><th scope=col>1st Qu.</th><th scope=col>Median</th><th scope=col>Mean</th><th scope=col>3rd Qu.</th><th scope=col>Max.</th><th scope=col>sd</th><th scope=col>sd_err_of_mean</th></tr>\n",
       "</thead>\n",
       "<tbody>\n",
       "\t<tr><th scope=row>score</th><td>0.09121121</td><td>0.8720837</td><td>0.9572278</td><td>0.8814225</td><td>0.99703</td><td>0.9998567</td><td>0.204</td><td>0.083</td></tr>\n",
       "</tbody>\n",
       "</table>\n"
      ],
      "text/latex": [
       "A matrix: 1 × 8 of type dbl\n",
       "\\begin{tabular}{r|llllllll}\n",
       "  & Min. & 1st Qu. & Median & Mean & 3rd Qu. & Max. & sd & sd\\_err\\_of\\_mean\\\\\n",
       "\\hline\n",
       "\tscore & 0.09121121 & 0.8720837 & 0.9572278 & 0.8814225 & 0.99703 & 0.9998567 & 0.204 & 0.083\\\\\n",
       "\\end{tabular}\n"
      ],
      "text/markdown": [
       "\n",
       "A matrix: 1 × 8 of type dbl\n",
       "\n",
       "| <!--/--> | Min. | 1st Qu. | Median | Mean | 3rd Qu. | Max. | sd | sd_err_of_mean |\n",
       "|---|---|---|---|---|---|---|---|---|\n",
       "| score | 0.09121121 | 0.8720837 | 0.9572278 | 0.8814225 | 0.99703 | 0.9998567 | 0.204 | 0.083 |\n",
       "\n"
      ],
      "text/plain": [
       "      Min.       1st Qu.   Median    Mean      3rd Qu. Max.      sd   \n",
       "score 0.09121121 0.8720837 0.9572278 0.8814225 0.99703 0.9998567 0.204\n",
       "      sd_err_of_mean\n",
       "score 0.083         "
      ]
     },
     "metadata": {},
     "output_type": "display_data"
    },
    {
     "data": {
      "text/html": [
       "<table class=\"dataframe\">\n",
       "<caption>A matrix: 1 × 8 of type dbl</caption>\n",
       "<thead>\n",
       "\t<tr><th></th><th scope=col>Min.</th><th scope=col>1st Qu.</th><th scope=col>Median</th><th scope=col>Mean</th><th scope=col>3rd Qu.</th><th scope=col>Max.</th><th scope=col>sd</th><th scope=col>sd_err_of_mean</th></tr>\n",
       "</thead>\n",
       "<tbody>\n",
       "\t<tr><th scope=row>score</th><td>9.766675e-06</td><td>0.003304045</td><td>0.01151158</td><td>0.08621163</td><td>0.06739846</td><td>0.9896834</td><td>0.17</td><td>0.069</td></tr>\n",
       "</tbody>\n",
       "</table>\n"
      ],
      "text/latex": [
       "A matrix: 1 × 8 of type dbl\n",
       "\\begin{tabular}{r|llllllll}\n",
       "  & Min. & 1st Qu. & Median & Mean & 3rd Qu. & Max. & sd & sd\\_err\\_of\\_mean\\\\\n",
       "\\hline\n",
       "\tscore & 9.766675e-06 & 0.003304045 & 0.01151158 & 0.08621163 & 0.06739846 & 0.9896834 & 0.17 & 0.069\\\\\n",
       "\\end{tabular}\n"
      ],
      "text/markdown": [
       "\n",
       "A matrix: 1 × 8 of type dbl\n",
       "\n",
       "| <!--/--> | Min. | 1st Qu. | Median | Mean | 3rd Qu. | Max. | sd | sd_err_of_mean |\n",
       "|---|---|---|---|---|---|---|---|---|\n",
       "| score | 9.766675e-06 | 0.003304045 | 0.01151158 | 0.08621163 | 0.06739846 | 0.9896834 | 0.17 | 0.069 |\n",
       "\n"
      ],
      "text/plain": [
       "      Min.         1st Qu.     Median     Mean       3rd Qu.    Max.      sd  \n",
       "score 9.766675e-06 0.003304045 0.01151158 0.08621163 0.06739846 0.9896834 0.17\n",
       "      sd_err_of_mean\n",
       "score 0.069         "
      ]
     },
     "metadata": {},
     "output_type": "display_data"
    }
   ],
   "source": [
    "# filtering into class0 & class1 \n",
    "error_contigs = c('contig_414', 'contig_430', 'contig_521', 'contig_588', 'contig_1316',\n",
    "                  'contig_1344', 'contig_1415', 'contig_1450', 'contig_1479', 'contig_1559',\n",
    "                  'contig_1565', 'contig_1578', 'contig_1661', 'contig_2004', 'contig_2036',\n",
    "                  'contig_2144', 'contig_2193', 'contig_2264', 'contig_2265', 'contig_2784',\n",
    "                  'contig_2820', 'contig_2840', 'contig_2858', 'contig_2873', 'contig_3140',\n",
    "                  'contig_3762', 'contig_3869', 'contig_3887', 'contig_3889', 'contig_3890')\n",
    "\n",
    "# stats\n",
    "x = contigs_asmbl %>% \n",
    "    filter.(Assembly == '# contigs') %>%\n",
    "    .$contigs_final %>% first %>% as.numeric\n",
    "cat('No. of contigs', x, '\\n')\n",
    "cat('No. of true misassemblies:', length(error_contigs), '\\n')\n",
    "cat('True error rate:', length(error_contigs) / x * 100, '%\\n')\n",
    "\n",
    "# error contigs\n",
    "resmico_scores_c0 = resmico_scores %>%\n",
    "    mutate.(contig_id = basename(cont_name)) %>%\n",
    "    filter.(contig_id %in% error_contigs)\n",
    "\n",
    "# background \n",
    "resmico_scores_c1 = resmico_scores %>%\n",
    "    mutate.(contig_id = basename(cont_name)) %>%\n",
    "    filter.(! contig_id %in% error_contigs)\n",
    "\n",
    "summary_x(resmico_scores_c0$score)\n",
    "summary_x(resmico_scores_c1$score)"
   ]
  },
  {
   "cell_type": "code",
   "execution_count": 21,
   "metadata": {
    "ExecuteTime": {
     "end_time": "2023-02-12T13:47:26.281589Z",
     "start_time": "2023-02-12T13:47:26.104Z"
    }
   },
   "outputs": [
    {
     "data": {
      "text/plain": [
       "\n",
       "  Precision-recall curve\n",
       "\n",
       "    Area under curve (Integral):\n",
       "     0.7183236 \n",
       "\n",
       "    Area under curve (Davis & Goadrich):\n",
       "     0.7182875 \n",
       "\n",
       "    Curve for scores from  9.766675e-06  to  0.9998567 \n",
       "    ( can be plotted with plot(x) )\n"
      ]
     },
     "metadata": {},
     "output_type": "display_data"
    }
   ],
   "source": [
    "pr = pr.curve(scores.class0 = resmico_scores_c0$score, \n",
    "              scores.class1 = resmico_scores_c1$score, \n",
    "              curve=TRUE)\n",
    "pr"
   ]
  },
  {
   "cell_type": "code",
   "execution_count": 22,
   "metadata": {
    "ExecuteTime": {
     "end_time": "2023-02-12T13:47:26.998062Z",
     "start_time": "2023-02-12T13:47:26.633Z"
    }
   },
   "outputs": [
    {
     "data": {
      "image/png": "[encoded data removed]",
      "text/plain": [
       "Plot with title “PR curve\n",
       "AUC = 0.7183236”"
      ]
     },
     "metadata": {
      "image/png": {
       "height": 420,
       "width": 420
      }
     },
     "output_type": "display_data"
    }
   ],
   "source": [
    "plot(pr)"
   ]
  },
  {
   "cell_type": "code",
   "execution_count": 23,
   "metadata": {
    "ExecuteTime": {
     "end_time": "2023-02-12T13:47:27.699548Z",
     "start_time": "2023-02-12T13:47:27.535Z"
    }
   },
   "outputs": [
    {
     "data": {
      "text/plain": [
       "\n",
       "  ROC curve\n",
       "\n",
       "    Area under curve:\n",
       "     0.9867509 \n",
       "\n",
       "    Curve for scores from  9.766675e-06  to  0.9998567 \n",
       "    ( can be plotted with plot(x) )\n"
      ]
     },
     "metadata": {},
     "output_type": "display_data"
    }
   ],
   "source": [
    "roc = roc.curve(scores.class0 = resmico_scores_c0$score, \n",
    "                scores.class1 = resmico_scores_c1$score, \n",
    "                curve=TRUE)\n",
    "roc"
   ]
  },
  {
   "cell_type": "code",
   "execution_count": 24,
   "metadata": {
    "ExecuteTime": {
     "end_time": "2023-02-12T13:47:27.998698Z",
     "start_time": "2023-02-12T13:47:27.729Z"
    }
   },
   "outputs": [
    {
     "data": {
      "image/png": "[encoded data removed]",
      "text/plain": [
       "Plot with title “ROC curve\n",
       "AUC = 0.9867509”"
      ]
     },
     "metadata": {
      "image/png": {
       "height": 420,
       "width": 420
      }
     },
     "output_type": "display_data"
    }
   ],
   "source": [
    "plot(roc)"
   ]
  },
  {
   "cell_type": "markdown",
   "metadata": {},
   "source": [
    "# sessionInfo"
   ]
  },
  {
   "cell_type": "code",
   "execution_count": 25,
   "metadata": {
    "ExecuteTime": {
     "end_time": "2023-02-12T13:47:29.231878Z",
     "start_time": "2023-02-12T13:47:28.909Z"
    }
   },
   "outputs": [
    {
     "data": {
      "text/plain": [
       "R version 4.1.0 (2021-05-18)\n",
       "Platform: x86_64-conda-linux-gnu (64-bit)\n",
       "Running under: Ubuntu 20.04.5 LTS\n",
       "\n",
       "Matrix products: default\n",
       "BLAS/LAPACK: /ebio/abt3_projects/DeepMAsED/envs/tidyverse/lib/libopenblasp-r0.3.15.so\n",
       "\n",
       "locale:\n",
       " [1] LC_CTYPE=en_US.UTF-8       LC_NUMERIC=C              \n",
       " [3] LC_TIME=en_US.UTF-8        LC_COLLATE=en_US.UTF-8    \n",
       " [5] LC_MONETARY=en_US.UTF-8    LC_MESSAGES=en_US.UTF-8   \n",
       " [7] LC_PAPER=en_US.UTF-8       LC_NAME=C                 \n",
       " [9] LC_ADDRESS=C               LC_TELEPHONE=C            \n",
       "[11] LC_MEASUREMENT=en_US.UTF-8 LC_IDENTIFICATION=C       \n",
       "\n",
       "attached base packages:\n",
       "[1] stats     graphics  grDevices utils     datasets  methods   base     \n",
       "\n",
       "other attached packages:\n",
       "[1] PRROC_1.3.1        clustermq_0.8.95.1 LeyLabRMisc_0.2.1  tidytable_0.6.3   \n",
       "[5] data.table_1.14.0  ggplot2_3.3.5      tidyr_1.1.3        dplyr_1.0.7       \n",
       "\n",
       "loaded via a namespace (and not attached):\n",
       " [1] Rcpp_1.0.7        pillar_1.6.1      compiler_4.1.0    plyr_1.8.6       \n",
       " [5] R.methodsS3_1.8.1 R.utils_2.10.1    base64enc_0.1-3   tools_4.1.0      \n",
       " [9] bit_4.0.4         digest_0.6.27     uuid_0.1-4        jsonlite_1.7.2   \n",
       "[13] evaluate_0.14     lifecycle_1.0.0   tibble_3.1.2      gtable_0.3.0     \n",
       "[17] pkgconfig_2.0.3   rlang_0.4.11      IRdisplay_1.0     IRkernel_1.2     \n",
       "[21] repr_1.1.3        withr_2.4.2       generics_0.1.0    vctrs_0.3.8      \n",
       "[25] bit64_4.0.5       grid_4.1.0        tidyselect_1.1.1  glue_1.4.2       \n",
       "[29] R6_2.5.0          fansi_0.4.2       pbdZMQ_0.3-5      purrr_0.3.4      \n",
       "[33] magrittr_2.0.1    codetools_0.2-18  scales_1.1.1      ellipsis_0.3.2   \n",
       "[37] htmltools_0.5.1.1 colorspace_2.0-2  utf8_1.2.1        munsell_0.5.0    \n",
       "[41] crayon_1.4.1      R.oo_1.24.0      "
      ]
     },
     "metadata": {},
     "output_type": "display_data"
    }
   ],
   "source": [
    "sessionInfo()"
   ]
  },
  {
   "cell_type": "code",
   "execution_count": null,
   "metadata": {},
   "outputs": [],
   "source": []
  }
 ],
 "metadata": {
  "kernelspec": {
   "display_name": "R [conda env:DeepMAsED-tidyverse]",
   "language": "R",
   "name": "conda-env-DeepMAsED-tidyverse-r"
  },
  "language_info": {
   "codemirror_mode": "r",
   "file_extension": ".r",
   "mimetype": "text/x-r-source",
   "name": "R",
   "pygments_lexer": "r",
   "version": "4.1.0"
  },
  "notify_time": "30",
  "toc": {
   "base_numbering": 1,
   "nav_menu": {},
   "number_sections": true,
   "sideBar": true,
   "skip_h1_title": false,
   "title_cell": "Table of Contents",
   "title_sidebar": "Contents",
   "toc_cell": true,
   "toc_position": {},
   "toc_section_display": true,
   "toc_window_display": true
  }
 },
 "nbformat": 4,
 "nbformat_minor": 4
}
