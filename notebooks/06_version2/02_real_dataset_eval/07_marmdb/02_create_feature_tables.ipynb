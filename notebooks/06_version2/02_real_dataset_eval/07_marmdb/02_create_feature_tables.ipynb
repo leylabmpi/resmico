{
 "cells": [
  {
   "cell_type": "markdown",
   "metadata": {
    "toc": true
   },
   "source": [
    "<h1>Table of Contents<span class=\"tocSkip\"></span></h1>\n",
    "<div class=\"toc\"><ul class=\"toc-item\"><li><span><a href=\"#Goal\" data-toc-modified-id=\"Goal-1\"><span class=\"toc-item-num\">1&nbsp;&nbsp;</span>Goal</a></span></li><li><span><a href=\"#Var\" data-toc-modified-id=\"Var-2\"><span class=\"toc-item-num\">2&nbsp;&nbsp;</span>Var</a></span></li><li><span><a href=\"#Init\" data-toc-modified-id=\"Init-3\"><span class=\"toc-item-num\">3&nbsp;&nbsp;</span>Init</a></span></li><li><span><a href=\"#LLMGA\" data-toc-modified-id=\"LLMGA-4\"><span class=\"toc-item-num\">4&nbsp;&nbsp;</span>LLMGA</a></span><ul class=\"toc-item\"><li><ul class=\"toc-item\"><li><span><a href=\"#Config\" data-toc-modified-id=\"Config-4.0.1\"><span class=\"toc-item-num\">4.0.1&nbsp;&nbsp;</span>Config</a></span></li><li><span><a href=\"#Run\" data-toc-modified-id=\"Run-4.0.2\"><span class=\"toc-item-num\">4.0.2&nbsp;&nbsp;</span>Run</a></span></li></ul></li><li><span><a href=\"#Summary\" data-toc-modified-id=\"Summary-4.1\"><span class=\"toc-item-num\">4.1&nbsp;&nbsp;</span>Summary</a></span></li><li><span><a href=\"#Filtering\" data-toc-modified-id=\"Filtering-4.2\"><span class=\"toc-item-num\">4.2&nbsp;&nbsp;</span>Filtering</a></span></li></ul></li><li><span><a href=\"#resmico-bam2feat\" data-toc-modified-id=\"resmico-bam2feat-5\"><span class=\"toc-item-num\">5&nbsp;&nbsp;</span>resmico bam2feat</a></span><ul class=\"toc-item\"><li><ul class=\"toc-item\"><li><span><a href=\"#Writing-samples-table\" data-toc-modified-id=\"Writing-samples-table-5.0.1\"><span class=\"toc-item-num\">5.0.1&nbsp;&nbsp;</span>Writing samples table</a></span></li><li><span><a href=\"#Config\" data-toc-modified-id=\"Config-5.0.2\"><span class=\"toc-item-num\">5.0.2&nbsp;&nbsp;</span>Config</a></span></li><li><span><a href=\"#Run\" data-toc-modified-id=\"Run-5.0.3\"><span class=\"toc-item-num\">5.0.3&nbsp;&nbsp;</span>Run</a></span></li></ul></li></ul></li><li><span><a href=\"#--WAITING--\" data-toc-modified-id=\"--WAITING---6\"><span class=\"toc-item-num\">6&nbsp;&nbsp;</span>--WAITING--</a></span><ul class=\"toc-item\"><li><span><a href=\"#Summary\" data-toc-modified-id=\"Summary-6.1\"><span class=\"toc-item-num\">6.1&nbsp;&nbsp;</span>Summary</a></span></li></ul></li><li><span><a href=\"#sessionInfo\" data-toc-modified-id=\"sessionInfo-7\"><span class=\"toc-item-num\">7&nbsp;&nbsp;</span>sessionInfo</a></span></li></ul></div>"
   ]
  },
  {
   "cell_type": "markdown",
   "metadata": {},
   "source": [
    "# Goal\n",
    "\n",
    "* Assembly of metagenomes\n",
    "* Create feature tables"
   ]
  },
  {
   "cell_type": "markdown",
   "metadata": {},
   "source": [
    "# Var"
   ]
  },
  {
   "cell_type": "code",
   "execution_count": 1,
   "metadata": {
    "ExecuteTime": {
     "end_time": "2022-09-20T22:35:52.569344Z",
     "start_time": "2022-09-20T22:35:52.342Z"
    }
   },
   "outputs": [],
   "source": [
    "samps_file = '/ebio/abt3_projects/databases_no-backup/DeepMAsED/version2/real_data_eval/marmdb/LLMGQC/final/samples_final.tsv'\n",
    "work_dir = '/ebio/abt3_projects/databases_no-backup/DeepMAsED/version2/real_data_eval/marmdb/LLMGA/'"
   ]
  },
  {
   "cell_type": "markdown",
   "metadata": {},
   "source": [
    "# Init"
   ]
  },
  {
   "cell_type": "code",
   "execution_count": 3,
   "metadata": {
    "ExecuteTime": {
     "end_time": "2022-09-20T22:35:55.487497Z",
     "start_time": "2022-09-20T22:35:55.348Z"
    }
   },
   "outputs": [],
   "source": [
    "library(dplyr)\n",
    "library(tidyr)\n",
    "library(ggplot2)\n",
    "library(data.table)\n",
    "library(tidytable)\n",
    "library(LeyLabRMisc)\n",
    "Init()"
   ]
  },
  {
   "cell_type": "markdown",
   "metadata": {},
   "source": [
    "# LLMGA"
   ]
  },
  {
   "cell_type": "markdown",
   "metadata": {},
   "source": [
    "### Config"
   ]
  },
  {
   "cell_type": "code",
   "execution_count": 5,
   "metadata": {
    "ExecuteTime": {
     "end_time": "2022-09-20T22:36:41.042207Z",
     "start_time": "2022-09-20T22:36:40.898Z"
    }
   },
   "outputs": [
    {
     "name": "stdout",
     "output_type": "stream",
     "text": [
      "#-- I/O --#\n",
      "# table with sample --> read_file information\n",
      "samples_file: /ebio/abt3_projects/databases_no-backup/DeepMAsED/version2/real_data_eval/marmdb/LLMGQC/final/samples_final.tsv\n",
      "\n",
      "# output location\n",
      "output_dir: /ebio/abt3_projects/databases_no-backup/DeepMAsED/version2/real_data_eval/marmdb/LLMGA/\n",
      "\n",
      "# temporary file directory (your username will be added automatically)\n",
      "tmp_dir: /ebio/abt3_scratch/\n",
      "\n",
      "#-- reference genomes for metacompass --#\n",
      "metacompass_ref: /ebio/abt3_projects/Anxiety_Twins_Metagenomes/data/metagenome/TUKMZ-BGI250/llmga-find-refs/references/drep/dereplicated_genomes.fna\n",
      "\n",
      "#-- master control --#\n",
      "# which major parts of the pipline to run \n",
      "run_assembly: True\n",
      "run_binning: False\n",
      "run_other_assembly: False\n",
      "\n",
      "#-- software parameters --#\n",
      "# Notes:\n",
      "## see \"Notes on the `config.yaml` file\" in the README\n",
      "params:\n",
      "  # misc\n",
      "  ionice: -c 3\n",
      "  use_gpu: True\n",
      "  # raw reads\n",
      "  reads:\n",
      "    subsample: 80000000\n",
      "    fastqc: \"\"  \n",
      "  # metacompass (per-sample ref-based assembly); skipped if using graphbin2\n",
      "  metacompass:\n",
      "    buildcontig: Skip #--pickref breadth --mincov 3 -l 1000 -n T -b F -u F\n",
      "    pilon: \"\"\n",
      "  # denovo per-sample assembly (unmapped if metacompass used, else all reads)\n",
      "  denovo_assembly:\n",
      "    metaspades: -k auto --only-assembler\n",
      "    megahit: Skip #--min-count 3 --min-contig-len 500 --presets meta-sensitive\n",
      "  # combined, final contigs from assemblies\n",
      "  final_contigs:\n",
      "    derep_contigs: minidentity=100 minscaf=1000 minoverlappercent=95\n",
      "    contig_rename: \"\"\n",
      "    min_contig_len: 1000            # min contig length retained\n",
      "    metaquast: --max-ref-number 0   # job run on rick to use internet if `--max-ref-number` > 0\n",
      "  # contig filtering\n",
      "  contig_filtering:\n",
      "    resmico:\n",
      "      bowtie2:\n",
      "        build: Skip\n",
      "        map: \"\"\n",
      "      bam2feat: --max-coverage 20\n",
      "      evaluate: --batch-size 100 --gpu-eval-mem-gb 1 --max-len 20000\n",
      "                --min-contig-len 1000 --min-avg-coverage 1 --seed 12\n",
      "      filter: --score-cutoff 0.8 --min-length 0\n",
      "    metaquast: --max-ref-number 0\n",
      "  # contig binning\n",
      "  binning:\n",
      "    subsample: 5000000       # how many reads per sample to use for dif-cov binning?\n",
      "    # mapping\n",
      "    map:\n",
      "      num_map_samples: 40    # how many samples to use for dif-cov. binning ('all' = all samples)\n",
      "      minimap2:\n",
      "        index: -k 15 -w 10 -I 12G\n",
      "        map: -N 5 -F 800\n",
      "      samtools_view: -q 0 -F 3584                 # -q = MAPQ cutoff\n",
      "      bam_to_depth: --percentIdentity 97\n",
      "      keep_bam: False                       # keep all BAM files?\n",
      "    # binning\n",
      "    binners:\n",
      "      maxbin2:\n",
      "        Low: -min_contig_length 1500 -markerset 40 -prob_threshold 0.6\n",
      "        Med: -min_contig_length 1500 -markerset 40 -prob_threshold 0.7\n",
      "        High: -min_contig_length 1500 -markerset 40 -prob_threshold 0.8\n",
      "      metabat2:\n",
      "        Low: --minContig 1500 --minCV 0.5 --minCVSum 0.5 --maxP 92\n",
      "             --maxEdges 150 --seed 8394\n",
      "        Med: --minContig 1500 --minCV 0.5 --minCVSum 0.5 --maxP 94\n",
      "             --maxEdges 325 --seed 8394\n",
      "        High: --minContig 1500 --minCV 0.5 --minCVSum 0.5 --maxP 97\n",
      "              --maxEdges 500 --seed 8394\n",
      "        LowNoCov: --minContig 1500 --minCV 0.5 --minCVSum 0.5 --maxP 92\n",
      "                  --maxEdges 150 --seed 8394 NOCOV\n",
      "        MedNoCov: --minContig 1500 --minCV 0.5 --minCVSum 0.5 --maxP 94\n",
      "                  --maxEdges 325 --seed 8394 NOCOV\n",
      "        HighNoCov: --minContig 1500 --minCV 0.5 --minCVSum 0.5 --maxP 97\n",
      "                   --maxEdges 500 --seed 8394 NOCOV\n",
      "      vamb:\n",
      "        Low: -c 10000 -m 1500 -l 24 -n 384 384\n",
      "        Med: -c 10000 -m 1500 -l 32 -n 512 512\n",
      "        High: -c 10000 -m 1500 -l 40 -n 768 768\n",
      "    # selecting final bins (MAGs)\n",
      "    select:\n",
      "      das_tool: --search_engine diamond\n",
      "      genome_table: \"\"\n",
      "  # denovo assembly of other genetic components\n",
      "  denovo_other_assembly:\n",
      "    min_contig_len: 1000\n",
      "    metaplasmidspades: -k auto --only-assembler\n",
      "    metabiosyntheticspades: -k auto --only-assembler\n",
      "  \n",
      "#-- snakemake pipeline --#\n",
      "pipeline:\n",
      "  snakemake_folder: ./\n",
      "  script_folder: bin/scripts/\n",
      "  random_number_seed: 83421\n",
      "  name: LLMGA\n"
     ]
    }
   ],
   "source": [
    "F = file.path(work_dir, 'config.yaml')\n",
    "cat_file(F)"
   ]
  },
  {
   "cell_type": "markdown",
   "metadata": {},
   "source": [
    "### Run"
   ]
  },
  {
   "cell_type": "markdown",
   "metadata": {},
   "source": [
    "```\n",
    "(snakemake) rick: /tmp/global2/nyoungblut/code/dev/ll_pipelines/llmga\n",
    "$ screen -L -S llmga-marmdb ./snakemake_sge.sh /ebio/abt3_projects/databases_no-backup/DeepMAsED/version2/real_data_eval/marmdb/LLMGA/config.yaml 30 -F\n",
    "```"
   ]
  },
  {
   "cell_type": "markdown",
   "metadata": {},
   "source": [
    "## Summary"
   ]
  },
  {
   "cell_type": "code",
   "execution_count": 6,
   "metadata": {
    "ExecuteTime": {
     "end_time": "2022-09-21T15:13:36.771153Z",
     "start_time": "2022-09-21T15:13:36.553Z"
    }
   },
   "outputs": [
    {
     "data": {
      "text/html": [
       "<table class=\"dataframe\">\n",
       "<caption>A matrix: 1 × 8 of type dbl</caption>\n",
       "<thead>\n",
       "\t<tr><th></th><th scope=col>Min.</th><th scope=col>1st Qu.</th><th scope=col>Median</th><th scope=col>Mean</th><th scope=col>3rd Qu.</th><th scope=col>Max.</th><th scope=col>sd</th><th scope=col>sd_err_of_mean</th></tr>\n",
       "</thead>\n",
       "<tbody>\n",
       "\t<tr><th scope=row>num_seqs</th><td>702</td><td>3447.75</td><td>4949</td><td>5953.298</td><td>7388.25</td><td>21038</td><td>3851.017</td><td>1572.171</td></tr>\n",
       "</tbody>\n",
       "</table>\n"
      ],
      "text/latex": [
       "A matrix: 1 × 8 of type dbl\n",
       "\\begin{tabular}{r|llllllll}\n",
       "  & Min. & 1st Qu. & Median & Mean & 3rd Qu. & Max. & sd & sd\\_err\\_of\\_mean\\\\\n",
       "\\hline\n",
       "\tnum\\_seqs & 702 & 3447.75 & 4949 & 5953.298 & 7388.25 & 21038 & 3851.017 & 1572.171\\\\\n",
       "\\end{tabular}\n"
      ],
      "text/markdown": [
       "\n",
       "A matrix: 1 × 8 of type dbl\n",
       "\n",
       "| <!--/--> | Min. | 1st Qu. | Median | Mean | 3rd Qu. | Max. | sd | sd_err_of_mean |\n",
       "|---|---|---|---|---|---|---|---|---|\n",
       "| num_seqs | 702 | 3447.75 | 4949 | 5953.298 | 7388.25 | 21038 | 3851.017 | 1572.171 |\n",
       "\n"
      ],
      "text/plain": [
       "         Min. 1st Qu. Median Mean     3rd Qu. Max.  sd       sd_err_of_mean\n",
       "num_seqs 702  3447.75 4949   5953.298 7388.25 21038 3851.017 1572.171      "
      ]
     },
     "metadata": {},
     "output_type": "display_data"
    },
    {
     "data": {
      "text/html": [
       "<table class=\"dataframe\">\n",
       "<caption>A matrix: 1 × 8 of type dbl</caption>\n",
       "<thead>\n",
       "\t<tr><th></th><th scope=col>Min.</th><th scope=col>1st Qu.</th><th scope=col>Median</th><th scope=col>Mean</th><th scope=col>3rd Qu.</th><th scope=col>Max.</th><th scope=col>sd</th><th scope=col>sd_err_of_mean</th></tr>\n",
       "</thead>\n",
       "<tbody>\n",
       "\t<tr><th scope=row>sum_len</th><td>1110173</td><td>5974110</td><td>8954996</td><td>11438607</td><td>15145558</td><td>44107973</td><td>8193204</td><td>3344861</td></tr>\n",
       "</tbody>\n",
       "</table>\n"
      ],
      "text/latex": [
       "A matrix: 1 × 8 of type dbl\n",
       "\\begin{tabular}{r|llllllll}\n",
       "  & Min. & 1st Qu. & Median & Mean & 3rd Qu. & Max. & sd & sd\\_err\\_of\\_mean\\\\\n",
       "\\hline\n",
       "\tsum\\_len & 1110173 & 5974110 & 8954996 & 11438607 & 15145558 & 44107973 & 8193204 & 3344861\\\\\n",
       "\\end{tabular}\n"
      ],
      "text/markdown": [
       "\n",
       "A matrix: 1 × 8 of type dbl\n",
       "\n",
       "| <!--/--> | Min. | 1st Qu. | Median | Mean | 3rd Qu. | Max. | sd | sd_err_of_mean |\n",
       "|---|---|---|---|---|---|---|---|---|\n",
       "| sum_len | 1110173 | 5974110 | 8954996 | 11438607 | 15145558 | 44107973 | 8193204 | 3344861 |\n",
       "\n"
      ],
      "text/plain": [
       "        Min.    1st Qu. Median  Mean     3rd Qu.  Max.     sd     \n",
       "sum_len 1110173 5974110 8954996 11438607 15145558 44107973 8193204\n",
       "        sd_err_of_mean\n",
       "sum_len 3344861       "
      ]
     },
     "metadata": {},
     "output_type": "display_data"
    },
    {
     "data": {
      "text/html": [
       "<table class=\"dataframe\">\n",
       "<caption>A matrix: 1 × 8 of type dbl</caption>\n",
       "<thead>\n",
       "\t<tr><th></th><th scope=col>Min.</th><th scope=col>1st Qu.</th><th scope=col>Median</th><th scope=col>Mean</th><th scope=col>3rd Qu.</th><th scope=col>Max.</th><th scope=col>sd</th><th scope=col>sd_err_of_mean</th></tr>\n",
       "</thead>\n",
       "<tbody>\n",
       "\t<tr><th scope=row>avg_len</th><td>1399.5</td><td>1709.55</td><td>1821.9</td><td>1854.662</td><td>1984.075</td><td>2869.9</td><td>250.16</td><td>102.127</td></tr>\n",
       "</tbody>\n",
       "</table>\n"
      ],
      "text/latex": [
       "A matrix: 1 × 8 of type dbl\n",
       "\\begin{tabular}{r|llllllll}\n",
       "  & Min. & 1st Qu. & Median & Mean & 3rd Qu. & Max. & sd & sd\\_err\\_of\\_mean\\\\\n",
       "\\hline\n",
       "\tavg\\_len & 1399.5 & 1709.55 & 1821.9 & 1854.662 & 1984.075 & 2869.9 & 250.16 & 102.127\\\\\n",
       "\\end{tabular}\n"
      ],
      "text/markdown": [
       "\n",
       "A matrix: 1 × 8 of type dbl\n",
       "\n",
       "| <!--/--> | Min. | 1st Qu. | Median | Mean | 3rd Qu. | Max. | sd | sd_err_of_mean |\n",
       "|---|---|---|---|---|---|---|---|---|\n",
       "| avg_len | 1399.5 | 1709.55 | 1821.9 | 1854.662 | 1984.075 | 2869.9 | 250.16 | 102.127 |\n",
       "\n"
      ],
      "text/plain": [
       "        Min.   1st Qu. Median Mean     3rd Qu.  Max.   sd     sd_err_of_mean\n",
       "avg_len 1399.5 1709.55 1821.9 1854.662 1984.075 2869.9 250.16 102.127       "
      ]
     },
     "metadata": {},
     "output_type": "display_data"
    }
   ],
   "source": [
    "F = file.path(work_dir, 'final_contigs', 'contig_stats.tsv')\n",
    "contig_stats = Fread(F)\n",
    "summary_x(contig_stats$num_seqs)\n",
    "summary_x(contig_stats$sum_len)\n",
    "summary_x(contig_stats$avg_len)"
   ]
  },
  {
   "cell_type": "markdown",
   "metadata": {},
   "source": [
    "## Filtering"
   ]
  },
  {
   "cell_type": "code",
   "execution_count": 7,
   "metadata": {
    "ExecuteTime": {
     "end_time": "2022-09-21T15:13:38.568503Z",
     "start_time": "2022-09-21T15:13:38.382Z"
    }
   },
   "outputs": [
    {
     "data": {
      "text/html": [
       "<table class=\"dataframe\">\n",
       "<caption>A data.table: 104 × 2</caption>\n",
       "<thead>\n",
       "\t<tr><th scope=col>Sample</th><th scope=col>Fasta</th></tr>\n",
       "\t<tr><th scope=col>&lt;chr&gt;</th><th scope=col>&lt;chr&gt;</th></tr>\n",
       "</thead>\n",
       "<tbody>\n",
       "\t<tr><td>SRS992687</td><td>/ebio/abt3_projects/databases_no-backup/DeepMAsED/version2/real_data_eval/marmdb/LLMGA/final_contigs/SRS992687/contigs.fna.gz</td></tr>\n",
       "\t<tr><td>SRS992704</td><td>/ebio/abt3_projects/databases_no-backup/DeepMAsED/version2/real_data_eval/marmdb/LLMGA/final_contigs/SRS992704/contigs.fna.gz</td></tr>\n",
       "\t<tr><td>⋮</td><td>⋮</td></tr>\n",
       "\t<tr><td>SRS2329824</td><td>/ebio/abt3_projects/databases_no-backup/DeepMAsED/version2/real_data_eval/marmdb/LLMGA/final_contigs/SRS2329824/contigs.fna.gz</td></tr>\n",
       "\t<tr><td>SRS2329594</td><td>/ebio/abt3_projects/databases_no-backup/DeepMAsED/version2/real_data_eval/marmdb/LLMGA/final_contigs/SRS2329594/contigs.fna.gz</td></tr>\n",
       "</tbody>\n",
       "</table>\n"
      ],
      "text/latex": [
       "A data.table: 104 × 2\n",
       "\\begin{tabular}{ll}\n",
       " Sample & Fasta\\\\\n",
       " <chr> & <chr>\\\\\n",
       "\\hline\n",
       "\t SRS992687 & /ebio/abt3\\_projects/databases\\_no-backup/DeepMAsED/version2/real\\_data\\_eval/marmdb/LLMGA/final\\_contigs/SRS992687/contigs.fna.gz\\\\\n",
       "\t SRS992704 & /ebio/abt3\\_projects/databases\\_no-backup/DeepMAsED/version2/real\\_data\\_eval/marmdb/LLMGA/final\\_contigs/SRS992704/contigs.fna.gz\\\\\n",
       "\t ⋮ & ⋮\\\\\n",
       "\t SRS2329824 & /ebio/abt3\\_projects/databases\\_no-backup/DeepMAsED/version2/real\\_data\\_eval/marmdb/LLMGA/final\\_contigs/SRS2329824/contigs.fna.gz\\\\\n",
       "\t SRS2329594 & /ebio/abt3\\_projects/databases\\_no-backup/DeepMAsED/version2/real\\_data\\_eval/marmdb/LLMGA/final\\_contigs/SRS2329594/contigs.fna.gz\\\\\n",
       "\\end{tabular}\n"
      ],
      "text/markdown": [
       "\n",
       "A data.table: 104 × 2\n",
       "\n",
       "| Sample &lt;chr&gt; | Fasta &lt;chr&gt; |\n",
       "|---|---|\n",
       "| SRS992687 | /ebio/abt3_projects/databases_no-backup/DeepMAsED/version2/real_data_eval/marmdb/LLMGA/final_contigs/SRS992687/contigs.fna.gz |\n",
       "| SRS992704 | /ebio/abt3_projects/databases_no-backup/DeepMAsED/version2/real_data_eval/marmdb/LLMGA/final_contigs/SRS992704/contigs.fna.gz |\n",
       "| ⋮ | ⋮ |\n",
       "| SRS2329824 | /ebio/abt3_projects/databases_no-backup/DeepMAsED/version2/real_data_eval/marmdb/LLMGA/final_contigs/SRS2329824/contigs.fna.gz |\n",
       "| SRS2329594 | /ebio/abt3_projects/databases_no-backup/DeepMAsED/version2/real_data_eval/marmdb/LLMGA/final_contigs/SRS2329594/contigs.fna.gz |\n",
       "\n"
      ],
      "text/plain": [
       "    Sample    \n",
       "1   SRS992687 \n",
       "2   SRS992704 \n",
       "⋮   ⋮         \n",
       "103 SRS2329824\n",
       "104 SRS2329594\n",
       "    Fasta                                                                                                                         \n",
       "1   /ebio/abt3_projects/databases_no-backup/DeepMAsED/version2/real_data_eval/marmdb/LLMGA/final_contigs/SRS992687/contigs.fna.gz \n",
       "2   /ebio/abt3_projects/databases_no-backup/DeepMAsED/version2/real_data_eval/marmdb/LLMGA/final_contigs/SRS992704/contigs.fna.gz \n",
       "⋮   ⋮                                                                                                                             \n",
       "103 /ebio/abt3_projects/databases_no-backup/DeepMAsED/version2/real_data_eval/marmdb/LLMGA/final_contigs/SRS2329824/contigs.fna.gz\n",
       "104 /ebio/abt3_projects/databases_no-backup/DeepMAsED/version2/real_data_eval/marmdb/LLMGA/final_contigs/SRS2329594/contigs.fna.gz"
      ]
     },
     "metadata": {},
     "output_type": "display_data"
    }
   ],
   "source": [
    "F = file.path(work_dir, 'final_contigs', 'contig_data.tsv')\n",
    "contig_data = Fread(F)\n",
    "contig_data"
   ]
  },
  {
   "cell_type": "code",
   "execution_count": 8,
   "metadata": {
    "ExecuteTime": {
     "end_time": "2022-09-21T15:13:39.872210Z",
     "start_time": "2022-09-21T15:13:39.684Z"
    }
   },
   "outputs": [
    {
     "name": "stdout",
     "output_type": "stream",
     "text": [
      "intersect(x,y): 104 \n",
      "setdiff(x,y): 0 \n",
      "setdiff(y,x): 0 \n",
      "union(x,y): 104 \n"
     ]
    },
    {
     "data": {
      "text/html": [
       "<table class=\"dataframe\">\n",
       "<caption>A tidytable: 104 × 17</caption>\n",
       "<thead>\n",
       "\t<tr><th scope=col>Sample</th><th scope=col>Fasta</th><th scope=col>file</th><th scope=col>format</th><th scope=col>type</th><th scope=col>num_seqs</th><th scope=col>sum_len</th><th scope=col>min_len</th><th scope=col>avg_len</th><th scope=col>max_len</th><th scope=col>Q1</th><th scope=col>Q2</th><th scope=col>Q3</th><th scope=col>sum_gap</th><th scope=col>N50</th><th scope=col>Q20...</th><th scope=col>Q30...</th></tr>\n",
       "\t<tr><th scope=col>&lt;chr&gt;</th><th scope=col>&lt;chr&gt;</th><th scope=col>&lt;chr&gt;</th><th scope=col>&lt;chr&gt;</th><th scope=col>&lt;chr&gt;</th><th scope=col>&lt;int&gt;</th><th scope=col>&lt;int&gt;</th><th scope=col>&lt;int&gt;</th><th scope=col>&lt;dbl&gt;</th><th scope=col>&lt;int&gt;</th><th scope=col>&lt;dbl&gt;</th><th scope=col>&lt;dbl&gt;</th><th scope=col>&lt;dbl&gt;</th><th scope=col>&lt;int&gt;</th><th scope=col>&lt;int&gt;</th><th scope=col>&lt;dbl&gt;</th><th scope=col>&lt;dbl&gt;</th></tr>\n",
       "</thead>\n",
       "<tbody>\n",
       "\t<tr><td>SRS992687</td><td>/ebio/abt3_projects/databases_no-backup/DeepMAsED/version2/real_data_eval/marmdb/LLMGA/final_contigs/SRS992687/contigs.fna.gz</td><td>/ebio/abt3_scratch/nyoungblut/LLMGA_122597181487/all_contigs/SRS992687/contigs_final.fasta</td><td>FASTA</td><td>DNA</td><td>3603</td><td> 7077329</td><td>1000</td><td>1964.3</td><td>24925</td><td>1173</td><td>1462</td><td>2105.0</td><td>0</td><td>2014</td><td>0</td><td>0</td></tr>\n",
       "\t<tr><td>SRS992704</td><td>/ebio/abt3_projects/databases_no-backup/DeepMAsED/version2/real_data_eval/marmdb/LLMGA/final_contigs/SRS992704/contigs.fna.gz</td><td>/ebio/abt3_scratch/nyoungblut/LLMGA_122597181487/all_contigs/SRS992704/contigs_final.fasta</td><td>FASTA</td><td>DNA</td><td>6844</td><td>13170319</td><td>1000</td><td>1924.4</td><td>89078</td><td>1157</td><td>1394</td><td>1929.5</td><td>0</td><td>1880</td><td>0</td><td>0</td></tr>\n",
       "\t<tr><td>⋮</td><td>⋮</td><td>⋮</td><td>⋮</td><td>⋮</td><td>⋮</td><td>⋮</td><td>⋮</td><td>⋮</td><td>⋮</td><td>⋮</td><td>⋮</td><td>⋮</td><td>⋮</td><td>⋮</td><td>⋮</td><td>⋮</td></tr>\n",
       "\t<tr><td>SRS2329824</td><td>/ebio/abt3_projects/databases_no-backup/DeepMAsED/version2/real_data_eval/marmdb/LLMGA/final_contigs/SRS2329824/contigs.fna.gz</td><td>/ebio/abt3_scratch/nyoungblut/LLMGA_122597181487/all_contigs/SRS2329824/contigs_final.fasta</td><td>FASTA</td><td>DNA</td><td>4090</td><td>7497499</td><td>1000</td><td>1833.1</td><td>31286</td><td>1145</td><td>1395</td><td>1977</td><td>0</td><td>1840</td><td>0</td><td>0</td></tr>\n",
       "\t<tr><td>SRS2329594</td><td>/ebio/abt3_projects/databases_no-backup/DeepMAsED/version2/real_data_eval/marmdb/LLMGA/final_contigs/SRS2329594/contigs.fna.gz</td><td>/ebio/abt3_scratch/nyoungblut/LLMGA_122597181487/all_contigs/SRS2329594/contigs_final.fasta</td><td>FASTA</td><td>DNA</td><td>1618</td><td>2266401</td><td>1000</td><td>1400.7</td><td>16359</td><td>1084</td><td>1213</td><td>1464</td><td>0</td><td>1310</td><td>0</td><td>0</td></tr>\n",
       "</tbody>\n",
       "</table>\n"
      ],
      "text/latex": [
       "A tidytable: 104 × 17\n",
       "\\begin{tabular}{lllllllllllllllll}\n",
       " Sample & Fasta & file & format & type & num\\_seqs & sum\\_len & min\\_len & avg\\_len & max\\_len & Q1 & Q2 & Q3 & sum\\_gap & N50 & Q20... & Q30...\\\\\n",
       " <chr> & <chr> & <chr> & <chr> & <chr> & <int> & <int> & <int> & <dbl> & <int> & <dbl> & <dbl> & <dbl> & <int> & <int> & <dbl> & <dbl>\\\\\n",
       "\\hline\n",
       "\t SRS992687 & /ebio/abt3\\_projects/databases\\_no-backup/DeepMAsED/version2/real\\_data\\_eval/marmdb/LLMGA/final\\_contigs/SRS992687/contigs.fna.gz & /ebio/abt3\\_scratch/nyoungblut/LLMGA\\_122597181487/all\\_contigs/SRS992687/contigs\\_final.fasta & FASTA & DNA & 3603 &  7077329 & 1000 & 1964.3 & 24925 & 1173 & 1462 & 2105.0 & 0 & 2014 & 0 & 0\\\\\n",
       "\t SRS992704 & /ebio/abt3\\_projects/databases\\_no-backup/DeepMAsED/version2/real\\_data\\_eval/marmdb/LLMGA/final\\_contigs/SRS992704/contigs.fna.gz & /ebio/abt3\\_scratch/nyoungblut/LLMGA\\_122597181487/all\\_contigs/SRS992704/contigs\\_final.fasta & FASTA & DNA & 6844 & 13170319 & 1000 & 1924.4 & 89078 & 1157 & 1394 & 1929.5 & 0 & 1880 & 0 & 0\\\\\n",
       "\t ⋮ & ⋮ & ⋮ & ⋮ & ⋮ & ⋮ & ⋮ & ⋮ & ⋮ & ⋮ & ⋮ & ⋮ & ⋮ & ⋮ & ⋮ & ⋮ & ⋮\\\\\n",
       "\t SRS2329824 & /ebio/abt3\\_projects/databases\\_no-backup/DeepMAsED/version2/real\\_data\\_eval/marmdb/LLMGA/final\\_contigs/SRS2329824/contigs.fna.gz & /ebio/abt3\\_scratch/nyoungblut/LLMGA\\_122597181487/all\\_contigs/SRS2329824/contigs\\_final.fasta & FASTA & DNA & 4090 & 7497499 & 1000 & 1833.1 & 31286 & 1145 & 1395 & 1977 & 0 & 1840 & 0 & 0\\\\\n",
       "\t SRS2329594 & /ebio/abt3\\_projects/databases\\_no-backup/DeepMAsED/version2/real\\_data\\_eval/marmdb/LLMGA/final\\_contigs/SRS2329594/contigs.fna.gz & /ebio/abt3\\_scratch/nyoungblut/LLMGA\\_122597181487/all\\_contigs/SRS2329594/contigs\\_final.fasta & FASTA & DNA & 1618 & 2266401 & 1000 & 1400.7 & 16359 & 1084 & 1213 & 1464 & 0 & 1310 & 0 & 0\\\\\n",
       "\\end{tabular}\n"
      ],
      "text/markdown": [
       "\n",
       "A tidytable: 104 × 17\n",
       "\n",
       "| Sample &lt;chr&gt; | Fasta &lt;chr&gt; | file &lt;chr&gt; | format &lt;chr&gt; | type &lt;chr&gt; | num_seqs &lt;int&gt; | sum_len &lt;int&gt; | min_len &lt;int&gt; | avg_len &lt;dbl&gt; | max_len &lt;int&gt; | Q1 &lt;dbl&gt; | Q2 &lt;dbl&gt; | Q3 &lt;dbl&gt; | sum_gap &lt;int&gt; | N50 &lt;int&gt; | Q20... &lt;dbl&gt; | Q30... &lt;dbl&gt; |\n",
       "|---|---|---|---|---|---|---|---|---|---|---|---|---|---|---|---|---|\n",
       "| SRS992687 | /ebio/abt3_projects/databases_no-backup/DeepMAsED/version2/real_data_eval/marmdb/LLMGA/final_contigs/SRS992687/contigs.fna.gz | /ebio/abt3_scratch/nyoungblut/LLMGA_122597181487/all_contigs/SRS992687/contigs_final.fasta | FASTA | DNA | 3603 |  7077329 | 1000 | 1964.3 | 24925 | 1173 | 1462 | 2105.0 | 0 | 2014 | 0 | 0 |\n",
       "| SRS992704 | /ebio/abt3_projects/databases_no-backup/DeepMAsED/version2/real_data_eval/marmdb/LLMGA/final_contigs/SRS992704/contigs.fna.gz | /ebio/abt3_scratch/nyoungblut/LLMGA_122597181487/all_contigs/SRS992704/contigs_final.fasta | FASTA | DNA | 6844 | 13170319 | 1000 | 1924.4 | 89078 | 1157 | 1394 | 1929.5 | 0 | 1880 | 0 | 0 |\n",
       "| ⋮ | ⋮ | ⋮ | ⋮ | ⋮ | ⋮ | ⋮ | ⋮ | ⋮ | ⋮ | ⋮ | ⋮ | ⋮ | ⋮ | ⋮ | ⋮ | ⋮ |\n",
       "| SRS2329824 | /ebio/abt3_projects/databases_no-backup/DeepMAsED/version2/real_data_eval/marmdb/LLMGA/final_contigs/SRS2329824/contigs.fna.gz | /ebio/abt3_scratch/nyoungblut/LLMGA_122597181487/all_contigs/SRS2329824/contigs_final.fasta | FASTA | DNA | 4090 | 7497499 | 1000 | 1833.1 | 31286 | 1145 | 1395 | 1977 | 0 | 1840 | 0 | 0 |\n",
       "| SRS2329594 | /ebio/abt3_projects/databases_no-backup/DeepMAsED/version2/real_data_eval/marmdb/LLMGA/final_contigs/SRS2329594/contigs.fna.gz | /ebio/abt3_scratch/nyoungblut/LLMGA_122597181487/all_contigs/SRS2329594/contigs_final.fasta | FASTA | DNA | 1618 | 2266401 | 1000 | 1400.7 | 16359 | 1084 | 1213 | 1464 | 0 | 1310 | 0 | 0 |\n",
       "\n"
      ],
      "text/plain": [
       "    Sample    \n",
       "1   SRS992687 \n",
       "2   SRS992704 \n",
       "⋮   ⋮         \n",
       "103 SRS2329824\n",
       "104 SRS2329594\n",
       "    Fasta                                                                                                                         \n",
       "1   /ebio/abt3_projects/databases_no-backup/DeepMAsED/version2/real_data_eval/marmdb/LLMGA/final_contigs/SRS992687/contigs.fna.gz \n",
       "2   /ebio/abt3_projects/databases_no-backup/DeepMAsED/version2/real_data_eval/marmdb/LLMGA/final_contigs/SRS992704/contigs.fna.gz \n",
       "⋮   ⋮                                                                                                                             \n",
       "103 /ebio/abt3_projects/databases_no-backup/DeepMAsED/version2/real_data_eval/marmdb/LLMGA/final_contigs/SRS2329824/contigs.fna.gz\n",
       "104 /ebio/abt3_projects/databases_no-backup/DeepMAsED/version2/real_data_eval/marmdb/LLMGA/final_contigs/SRS2329594/contigs.fna.gz\n",
       "    file                                                                                       \n",
       "1   /ebio/abt3_scratch/nyoungblut/LLMGA_122597181487/all_contigs/SRS992687/contigs_final.fasta \n",
       "2   /ebio/abt3_scratch/nyoungblut/LLMGA_122597181487/all_contigs/SRS992704/contigs_final.fasta \n",
       "⋮   ⋮                                                                                          \n",
       "103 /ebio/abt3_scratch/nyoungblut/LLMGA_122597181487/all_contigs/SRS2329824/contigs_final.fasta\n",
       "104 /ebio/abt3_scratch/nyoungblut/LLMGA_122597181487/all_contigs/SRS2329594/contigs_final.fasta\n",
       "    format type num_seqs sum_len  min_len avg_len max_len Q1   Q2   Q3    \n",
       "1   FASTA  DNA  3603      7077329 1000    1964.3  24925   1173 1462 2105.0\n",
       "2   FASTA  DNA  6844     13170319 1000    1924.4  89078   1157 1394 1929.5\n",
       "⋮   ⋮      ⋮    ⋮        ⋮        ⋮       ⋮       ⋮       ⋮    ⋮    ⋮     \n",
       "103 FASTA  DNA  4090     7497499  1000    1833.1  31286   1145 1395 1977  \n",
       "104 FASTA  DNA  1618     2266401  1000    1400.7  16359   1084 1213 1464  \n",
       "    sum_gap N50  Q20... Q30...\n",
       "1   0       2014 0      0     \n",
       "2   0       1880 0      0     \n",
       "⋮   ⋮       ⋮    ⋮      ⋮     \n",
       "103 0       1840 0      0     \n",
       "104 0       1310 0      0     "
      ]
     },
     "metadata": {},
     "output_type": "display_data"
    }
   ],
   "source": [
    "overlap(contig_data$Sample, contig_stats$Sample)\n",
    "contig_data = contig_data %>%\n",
    "    inner_join.(contig_stats, c('Sample')) %>%\n",
    "    filter.(num_seqs >= 10)\n",
    "contig_data"
   ]
  },
  {
   "cell_type": "code",
   "execution_count": 9,
   "metadata": {
    "ExecuteTime": {
     "end_time": "2022-09-21T15:13:41.717538Z",
     "start_time": "2022-09-21T15:13:41.451Z"
    }
   },
   "outputs": [
    {
     "data": {
      "text/html": [
       "<table class=\"dataframe\">\n",
       "<caption>A matrix: 1 × 8 of type dbl</caption>\n",
       "<thead>\n",
       "\t<tr><th></th><th scope=col>Min.</th><th scope=col>1st Qu.</th><th scope=col>Median</th><th scope=col>Mean</th><th scope=col>3rd Qu.</th><th scope=col>Max.</th><th scope=col>sd</th><th scope=col>sd_err_of_mean</th></tr>\n",
       "</thead>\n",
       "<tbody>\n",
       "\t<tr><th scope=row>num_seqs</th><td>702</td><td>3447.75</td><td>4949</td><td>5953.298</td><td>7388.25</td><td>21038</td><td>3851.017</td><td>1572.171</td></tr>\n",
       "</tbody>\n",
       "</table>\n"
      ],
      "text/latex": [
       "A matrix: 1 × 8 of type dbl\n",
       "\\begin{tabular}{r|llllllll}\n",
       "  & Min. & 1st Qu. & Median & Mean & 3rd Qu. & Max. & sd & sd\\_err\\_of\\_mean\\\\\n",
       "\\hline\n",
       "\tnum\\_seqs & 702 & 3447.75 & 4949 & 5953.298 & 7388.25 & 21038 & 3851.017 & 1572.171\\\\\n",
       "\\end{tabular}\n"
      ],
      "text/markdown": [
       "\n",
       "A matrix: 1 × 8 of type dbl\n",
       "\n",
       "| <!--/--> | Min. | 1st Qu. | Median | Mean | 3rd Qu. | Max. | sd | sd_err_of_mean |\n",
       "|---|---|---|---|---|---|---|---|---|\n",
       "| num_seqs | 702 | 3447.75 | 4949 | 5953.298 | 7388.25 | 21038 | 3851.017 | 1572.171 |\n",
       "\n"
      ],
      "text/plain": [
       "         Min. 1st Qu. Median Mean     3rd Qu. Max.  sd       sd_err_of_mean\n",
       "num_seqs 702  3447.75 4949   5953.298 7388.25 21038 3851.017 1572.171      "
      ]
     },
     "metadata": {},
     "output_type": "display_data"
    },
    {
     "data": {
      "text/html": [
       "<table class=\"dataframe\">\n",
       "<caption>A matrix: 1 × 8 of type dbl</caption>\n",
       "<thead>\n",
       "\t<tr><th></th><th scope=col>Min.</th><th scope=col>1st Qu.</th><th scope=col>Median</th><th scope=col>Mean</th><th scope=col>3rd Qu.</th><th scope=col>Max.</th><th scope=col>sd</th><th scope=col>sd_err_of_mean</th></tr>\n",
       "</thead>\n",
       "<tbody>\n",
       "\t<tr><th scope=row>sum_len</th><td>1110173</td><td>5974110</td><td>8954996</td><td>11438607</td><td>15145558</td><td>44107973</td><td>8193204</td><td>3344861</td></tr>\n",
       "</tbody>\n",
       "</table>\n"
      ],
      "text/latex": [
       "A matrix: 1 × 8 of type dbl\n",
       "\\begin{tabular}{r|llllllll}\n",
       "  & Min. & 1st Qu. & Median & Mean & 3rd Qu. & Max. & sd & sd\\_err\\_of\\_mean\\\\\n",
       "\\hline\n",
       "\tsum\\_len & 1110173 & 5974110 & 8954996 & 11438607 & 15145558 & 44107973 & 8193204 & 3344861\\\\\n",
       "\\end{tabular}\n"
      ],
      "text/markdown": [
       "\n",
       "A matrix: 1 × 8 of type dbl\n",
       "\n",
       "| <!--/--> | Min. | 1st Qu. | Median | Mean | 3rd Qu. | Max. | sd | sd_err_of_mean |\n",
       "|---|---|---|---|---|---|---|---|---|\n",
       "| sum_len | 1110173 | 5974110 | 8954996 | 11438607 | 15145558 | 44107973 | 8193204 | 3344861 |\n",
       "\n"
      ],
      "text/plain": [
       "        Min.    1st Qu. Median  Mean     3rd Qu.  Max.     sd     \n",
       "sum_len 1110173 5974110 8954996 11438607 15145558 44107973 8193204\n",
       "        sd_err_of_mean\n",
       "sum_len 3344861       "
      ]
     },
     "metadata": {},
     "output_type": "display_data"
    },
    {
     "data": {
      "text/html": [
       "<table class=\"dataframe\">\n",
       "<caption>A matrix: 1 × 8 of type dbl</caption>\n",
       "<thead>\n",
       "\t<tr><th></th><th scope=col>Min.</th><th scope=col>1st Qu.</th><th scope=col>Median</th><th scope=col>Mean</th><th scope=col>3rd Qu.</th><th scope=col>Max.</th><th scope=col>sd</th><th scope=col>sd_err_of_mean</th></tr>\n",
       "</thead>\n",
       "<tbody>\n",
       "\t<tr><th scope=row>avg_len</th><td>1399.5</td><td>1709.55</td><td>1821.9</td><td>1854.662</td><td>1984.075</td><td>2869.9</td><td>250.16</td><td>102.127</td></tr>\n",
       "</tbody>\n",
       "</table>\n"
      ],
      "text/latex": [
       "A matrix: 1 × 8 of type dbl\n",
       "\\begin{tabular}{r|llllllll}\n",
       "  & Min. & 1st Qu. & Median & Mean & 3rd Qu. & Max. & sd & sd\\_err\\_of\\_mean\\\\\n",
       "\\hline\n",
       "\tavg\\_len & 1399.5 & 1709.55 & 1821.9 & 1854.662 & 1984.075 & 2869.9 & 250.16 & 102.127\\\\\n",
       "\\end{tabular}\n"
      ],
      "text/markdown": [
       "\n",
       "A matrix: 1 × 8 of type dbl\n",
       "\n",
       "| <!--/--> | Min. | 1st Qu. | Median | Mean | 3rd Qu. | Max. | sd | sd_err_of_mean |\n",
       "|---|---|---|---|---|---|---|---|---|\n",
       "| avg_len | 1399.5 | 1709.55 | 1821.9 | 1854.662 | 1984.075 | 2869.9 | 250.16 | 102.127 |\n",
       "\n"
      ],
      "text/plain": [
       "        Min.   1st Qu. Median Mean     3rd Qu.  Max.   sd     sd_err_of_mean\n",
       "avg_len 1399.5 1709.55 1821.9 1854.662 1984.075 2869.9 250.16 102.127       "
      ]
     },
     "metadata": {},
     "output_type": "display_data"
    }
   ],
   "source": [
    "# stats\n",
    "summary_x(contig_data$num_seqs)\n",
    "summary_x(contig_data$sum_len)\n",
    "summary_x(contig_data$avg_len)"
   ]
  },
  {
   "cell_type": "code",
   "execution_count": 10,
   "metadata": {
    "ExecuteTime": {
     "end_time": "2022-09-21T15:13:44.739323Z",
     "start_time": "2022-09-21T15:13:44.584Z"
    }
   },
   "outputs": [
    {
     "name": "stdout",
     "output_type": "stream",
     "text": [
      "File written: /ebio/abt3_projects/databases_no-backup/DeepMAsED/version2/real_data_eval/marmdb/LLMGA//final_contigs/contig_data_filt.tsv \n"
     ]
    }
   ],
   "source": [
    "# writing table\n",
    "F = file.path(work_dir, 'final_contigs', 'contig_data_filt.tsv')\n",
    "write_table(contig_data, F)"
   ]
  },
  {
   "cell_type": "markdown",
   "metadata": {
    "ExecuteTime": {
     "end_time": "2022-09-17T21:30:09.674544Z",
     "start_time": "2022-09-17T21:30:09.506Z"
    }
   },
   "source": [
    "# resmico bam2feat"
   ]
  },
  {
   "cell_type": "code",
   "execution_count": 11,
   "metadata": {
    "ExecuteTime": {
     "end_time": "2022-09-21T15:13:47.152176Z",
     "start_time": "2022-09-21T15:13:46.970Z"
    }
   },
   "outputs": [
    {
     "data": {
      "text/html": [
       "<table class=\"dataframe\">\n",
       "<caption>A data.table: 104 × 17</caption>\n",
       "<thead>\n",
       "\t<tr><th scope=col>Sample</th><th scope=col>Fasta</th><th scope=col>file</th><th scope=col>format</th><th scope=col>type</th><th scope=col>num_seqs</th><th scope=col>sum_len</th><th scope=col>min_len</th><th scope=col>avg_len</th><th scope=col>max_len</th><th scope=col>Q1</th><th scope=col>Q2</th><th scope=col>Q3</th><th scope=col>sum_gap</th><th scope=col>N50</th><th scope=col>Q20...</th><th scope=col>Q30...</th></tr>\n",
       "\t<tr><th scope=col>&lt;chr&gt;</th><th scope=col>&lt;chr&gt;</th><th scope=col>&lt;chr&gt;</th><th scope=col>&lt;chr&gt;</th><th scope=col>&lt;chr&gt;</th><th scope=col>&lt;int&gt;</th><th scope=col>&lt;int&gt;</th><th scope=col>&lt;int&gt;</th><th scope=col>&lt;dbl&gt;</th><th scope=col>&lt;int&gt;</th><th scope=col>&lt;dbl&gt;</th><th scope=col>&lt;dbl&gt;</th><th scope=col>&lt;dbl&gt;</th><th scope=col>&lt;int&gt;</th><th scope=col>&lt;int&gt;</th><th scope=col>&lt;int&gt;</th><th scope=col>&lt;int&gt;</th></tr>\n",
       "</thead>\n",
       "<tbody>\n",
       "\t<tr><td>SRS992687</td><td>/ebio/abt3_projects/databases_no-backup/DeepMAsED/version2/real_data_eval/marmdb/LLMGA/final_contigs/SRS992687/contigs.fna.gz</td><td>/ebio/abt3_scratch/nyoungblut/LLMGA_122597181487/all_contigs/SRS992687/contigs_final.fasta</td><td>FASTA</td><td>DNA</td><td>3603</td><td> 7077329</td><td>1000</td><td>1964.3</td><td>24925</td><td>1173</td><td>1462</td><td>2105.0</td><td>0</td><td>2014</td><td>0</td><td>0</td></tr>\n",
       "\t<tr><td>SRS992704</td><td>/ebio/abt3_projects/databases_no-backup/DeepMAsED/version2/real_data_eval/marmdb/LLMGA/final_contigs/SRS992704/contigs.fna.gz</td><td>/ebio/abt3_scratch/nyoungblut/LLMGA_122597181487/all_contigs/SRS992704/contigs_final.fasta</td><td>FASTA</td><td>DNA</td><td>6844</td><td>13170319</td><td>1000</td><td>1924.4</td><td>89078</td><td>1157</td><td>1394</td><td>1929.5</td><td>0</td><td>1880</td><td>0</td><td>0</td></tr>\n",
       "\t<tr><td>⋮</td><td>⋮</td><td>⋮</td><td>⋮</td><td>⋮</td><td>⋮</td><td>⋮</td><td>⋮</td><td>⋮</td><td>⋮</td><td>⋮</td><td>⋮</td><td>⋮</td><td>⋮</td><td>⋮</td><td>⋮</td><td>⋮</td></tr>\n",
       "\t<tr><td>SRS2329824</td><td>/ebio/abt3_projects/databases_no-backup/DeepMAsED/version2/real_data_eval/marmdb/LLMGA/final_contigs/SRS2329824/contigs.fna.gz</td><td>/ebio/abt3_scratch/nyoungblut/LLMGA_122597181487/all_contigs/SRS2329824/contigs_final.fasta</td><td>FASTA</td><td>DNA</td><td>4090</td><td>7497499</td><td>1000</td><td>1833.1</td><td>31286</td><td>1145</td><td>1395</td><td>1977</td><td>0</td><td>1840</td><td>0</td><td>0</td></tr>\n",
       "\t<tr><td>SRS2329594</td><td>/ebio/abt3_projects/databases_no-backup/DeepMAsED/version2/real_data_eval/marmdb/LLMGA/final_contigs/SRS2329594/contigs.fna.gz</td><td>/ebio/abt3_scratch/nyoungblut/LLMGA_122597181487/all_contigs/SRS2329594/contigs_final.fasta</td><td>FASTA</td><td>DNA</td><td>1618</td><td>2266401</td><td>1000</td><td>1400.7</td><td>16359</td><td>1084</td><td>1213</td><td>1464</td><td>0</td><td>1310</td><td>0</td><td>0</td></tr>\n",
       "</tbody>\n",
       "</table>\n"
      ],
      "text/latex": [
       "A data.table: 104 × 17\n",
       "\\begin{tabular}{lllllllllllllllll}\n",
       " Sample & Fasta & file & format & type & num\\_seqs & sum\\_len & min\\_len & avg\\_len & max\\_len & Q1 & Q2 & Q3 & sum\\_gap & N50 & Q20... & Q30...\\\\\n",
       " <chr> & <chr> & <chr> & <chr> & <chr> & <int> & <int> & <int> & <dbl> & <int> & <dbl> & <dbl> & <dbl> & <int> & <int> & <int> & <int>\\\\\n",
       "\\hline\n",
       "\t SRS992687 & /ebio/abt3\\_projects/databases\\_no-backup/DeepMAsED/version2/real\\_data\\_eval/marmdb/LLMGA/final\\_contigs/SRS992687/contigs.fna.gz & /ebio/abt3\\_scratch/nyoungblut/LLMGA\\_122597181487/all\\_contigs/SRS992687/contigs\\_final.fasta & FASTA & DNA & 3603 &  7077329 & 1000 & 1964.3 & 24925 & 1173 & 1462 & 2105.0 & 0 & 2014 & 0 & 0\\\\\n",
       "\t SRS992704 & /ebio/abt3\\_projects/databases\\_no-backup/DeepMAsED/version2/real\\_data\\_eval/marmdb/LLMGA/final\\_contigs/SRS992704/contigs.fna.gz & /ebio/abt3\\_scratch/nyoungblut/LLMGA\\_122597181487/all\\_contigs/SRS992704/contigs\\_final.fasta & FASTA & DNA & 6844 & 13170319 & 1000 & 1924.4 & 89078 & 1157 & 1394 & 1929.5 & 0 & 1880 & 0 & 0\\\\\n",
       "\t ⋮ & ⋮ & ⋮ & ⋮ & ⋮ & ⋮ & ⋮ & ⋮ & ⋮ & ⋮ & ⋮ & ⋮ & ⋮ & ⋮ & ⋮ & ⋮ & ⋮\\\\\n",
       "\t SRS2329824 & /ebio/abt3\\_projects/databases\\_no-backup/DeepMAsED/version2/real\\_data\\_eval/marmdb/LLMGA/final\\_contigs/SRS2329824/contigs.fna.gz & /ebio/abt3\\_scratch/nyoungblut/LLMGA\\_122597181487/all\\_contigs/SRS2329824/contigs\\_final.fasta & FASTA & DNA & 4090 & 7497499 & 1000 & 1833.1 & 31286 & 1145 & 1395 & 1977 & 0 & 1840 & 0 & 0\\\\\n",
       "\t SRS2329594 & /ebio/abt3\\_projects/databases\\_no-backup/DeepMAsED/version2/real\\_data\\_eval/marmdb/LLMGA/final\\_contigs/SRS2329594/contigs.fna.gz & /ebio/abt3\\_scratch/nyoungblut/LLMGA\\_122597181487/all\\_contigs/SRS2329594/contigs\\_final.fasta & FASTA & DNA & 1618 & 2266401 & 1000 & 1400.7 & 16359 & 1084 & 1213 & 1464 & 0 & 1310 & 0 & 0\\\\\n",
       "\\end{tabular}\n"
      ],
      "text/markdown": [
       "\n",
       "A data.table: 104 × 17\n",
       "\n",
       "| Sample &lt;chr&gt; | Fasta &lt;chr&gt; | file &lt;chr&gt; | format &lt;chr&gt; | type &lt;chr&gt; | num_seqs &lt;int&gt; | sum_len &lt;int&gt; | min_len &lt;int&gt; | avg_len &lt;dbl&gt; | max_len &lt;int&gt; | Q1 &lt;dbl&gt; | Q2 &lt;dbl&gt; | Q3 &lt;dbl&gt; | sum_gap &lt;int&gt; | N50 &lt;int&gt; | Q20... &lt;int&gt; | Q30... &lt;int&gt; |\n",
       "|---|---|---|---|---|---|---|---|---|---|---|---|---|---|---|---|---|\n",
       "| SRS992687 | /ebio/abt3_projects/databases_no-backup/DeepMAsED/version2/real_data_eval/marmdb/LLMGA/final_contigs/SRS992687/contigs.fna.gz | /ebio/abt3_scratch/nyoungblut/LLMGA_122597181487/all_contigs/SRS992687/contigs_final.fasta | FASTA | DNA | 3603 |  7077329 | 1000 | 1964.3 | 24925 | 1173 | 1462 | 2105.0 | 0 | 2014 | 0 | 0 |\n",
       "| SRS992704 | /ebio/abt3_projects/databases_no-backup/DeepMAsED/version2/real_data_eval/marmdb/LLMGA/final_contigs/SRS992704/contigs.fna.gz | /ebio/abt3_scratch/nyoungblut/LLMGA_122597181487/all_contigs/SRS992704/contigs_final.fasta | FASTA | DNA | 6844 | 13170319 | 1000 | 1924.4 | 89078 | 1157 | 1394 | 1929.5 | 0 | 1880 | 0 | 0 |\n",
       "| ⋮ | ⋮ | ⋮ | ⋮ | ⋮ | ⋮ | ⋮ | ⋮ | ⋮ | ⋮ | ⋮ | ⋮ | ⋮ | ⋮ | ⋮ | ⋮ | ⋮ |\n",
       "| SRS2329824 | /ebio/abt3_projects/databases_no-backup/DeepMAsED/version2/real_data_eval/marmdb/LLMGA/final_contigs/SRS2329824/contigs.fna.gz | /ebio/abt3_scratch/nyoungblut/LLMGA_122597181487/all_contigs/SRS2329824/contigs_final.fasta | FASTA | DNA | 4090 | 7497499 | 1000 | 1833.1 | 31286 | 1145 | 1395 | 1977 | 0 | 1840 | 0 | 0 |\n",
       "| SRS2329594 | /ebio/abt3_projects/databases_no-backup/DeepMAsED/version2/real_data_eval/marmdb/LLMGA/final_contigs/SRS2329594/contigs.fna.gz | /ebio/abt3_scratch/nyoungblut/LLMGA_122597181487/all_contigs/SRS2329594/contigs_final.fasta | FASTA | DNA | 1618 | 2266401 | 1000 | 1400.7 | 16359 | 1084 | 1213 | 1464 | 0 | 1310 | 0 | 0 |\n",
       "\n"
      ],
      "text/plain": [
       "    Sample    \n",
       "1   SRS992687 \n",
       "2   SRS992704 \n",
       "⋮   ⋮         \n",
       "103 SRS2329824\n",
       "104 SRS2329594\n",
       "    Fasta                                                                                                                         \n",
       "1   /ebio/abt3_projects/databases_no-backup/DeepMAsED/version2/real_data_eval/marmdb/LLMGA/final_contigs/SRS992687/contigs.fna.gz \n",
       "2   /ebio/abt3_projects/databases_no-backup/DeepMAsED/version2/real_data_eval/marmdb/LLMGA/final_contigs/SRS992704/contigs.fna.gz \n",
       "⋮   ⋮                                                                                                                             \n",
       "103 /ebio/abt3_projects/databases_no-backup/DeepMAsED/version2/real_data_eval/marmdb/LLMGA/final_contigs/SRS2329824/contigs.fna.gz\n",
       "104 /ebio/abt3_projects/databases_no-backup/DeepMAsED/version2/real_data_eval/marmdb/LLMGA/final_contigs/SRS2329594/contigs.fna.gz\n",
       "    file                                                                                       \n",
       "1   /ebio/abt3_scratch/nyoungblut/LLMGA_122597181487/all_contigs/SRS992687/contigs_final.fasta \n",
       "2   /ebio/abt3_scratch/nyoungblut/LLMGA_122597181487/all_contigs/SRS992704/contigs_final.fasta \n",
       "⋮   ⋮                                                                                          \n",
       "103 /ebio/abt3_scratch/nyoungblut/LLMGA_122597181487/all_contigs/SRS2329824/contigs_final.fasta\n",
       "104 /ebio/abt3_scratch/nyoungblut/LLMGA_122597181487/all_contigs/SRS2329594/contigs_final.fasta\n",
       "    format type num_seqs sum_len  min_len avg_len max_len Q1   Q2   Q3    \n",
       "1   FASTA  DNA  3603      7077329 1000    1964.3  24925   1173 1462 2105.0\n",
       "2   FASTA  DNA  6844     13170319 1000    1924.4  89078   1157 1394 1929.5\n",
       "⋮   ⋮      ⋮    ⋮        ⋮        ⋮       ⋮       ⋮       ⋮    ⋮    ⋮     \n",
       "103 FASTA  DNA  4090     7497499  1000    1833.1  31286   1145 1395 1977  \n",
       "104 FASTA  DNA  1618     2266401  1000    1400.7  16359   1084 1213 1464  \n",
       "    sum_gap N50  Q20... Q30...\n",
       "1   0       2014 0      0     \n",
       "2   0       1880 0      0     \n",
       "⋮   ⋮       ⋮    ⋮      ⋮     \n",
       "103 0       1840 0      0     \n",
       "104 0       1310 0      0     "
      ]
     },
     "metadata": {},
     "output_type": "display_data"
    }
   ],
   "source": [
    "F = file.path(work_dir, 'final_contigs', 'contig_data_filt.tsv')\n",
    "contigs = Fread(F)\n",
    "contigs"
   ]
  },
  {
   "cell_type": "code",
   "execution_count": 12,
   "metadata": {
    "ExecuteTime": {
     "end_time": "2022-09-21T15:13:49.571835Z",
     "start_time": "2022-09-21T15:13:49.265Z"
    }
   },
   "outputs": [
    {
     "data": {
      "text/html": [
       "<table class=\"dataframe\">\n",
       "<caption>A data.table: 104 × 49</caption>\n",
       "<thead>\n",
       "\t<tr><th scope=col>Sample</th><th scope=col>Read1</th><th scope=col>Read2</th><th scope=col>Notes</th><th scope=col>library_id</th><th scope=col>project_id</th><th scope=col>BioprojectID</th><th scope=col>PubmedID</th><th scope=col>project_name</th><th scope=col>creation_date</th><th scope=col>⋯</th><th scope=col>quality_above_30_SRA</th><th scope=col>mean_quality_SRA</th><th scope=col>source_database</th><th scope=col>average_length</th><th scope=col>assembled</th><th scope=col>n_samples</th><th scope=col>n_recs</th><th scope=col>num_seqs</th><th scope=col>avg_len</th><th scope=col>Q30...</th></tr>\n",
       "\t<tr><th scope=col>&lt;chr&gt;</th><th scope=col>&lt;chr&gt;</th><th scope=col>&lt;chr&gt;</th><th scope=col>&lt;lgl&gt;</th><th scope=col>&lt;chr&gt;</th><th scope=col>&lt;chr&gt;</th><th scope=col>&lt;int&gt;</th><th scope=col>&lt;chr&gt;</th><th scope=col>&lt;chr&gt;</th><th scope=col>&lt;date&gt;</th><th scope=col>⋯</th><th scope=col>&lt;int&gt;</th><th scope=col>&lt;dbl&gt;</th><th scope=col>&lt;chr&gt;</th><th scope=col>&lt;int&gt;</th><th scope=col>&lt;chr&gt;</th><th scope=col>&lt;int&gt;</th><th scope=col>&lt;int&gt;</th><th scope=col>&lt;int&gt;</th><th scope=col>&lt;dbl&gt;</th><th scope=col>&lt;dbl&gt;</th></tr>\n",
       "</thead>\n",
       "<tbody>\n",
       "\t<tr><td>SRS992687</td><td>/ebio/abt3_projects/databases_no-backup/DeepMAsED/version2/real_data_eval/marmdb/LLMGQC/final/SRS992687/R1_final.fq.gz</td><td>/ebio/abt3_projects/databases_no-backup/DeepMAsED/version2/real_data_eval/marmdb/LLMGQC/final/SRS992687/R2_final.fq.gz</td><td>NA</td><td>SRR2103001</td><td>SRX1097582</td><td>289734</td><td>27377622,27</td><td>Red Sea metagenomes</td><td>2015-12-31</td><td>⋯</td><td>85</td><td>34.08</td><td>SRA</td><td>186</td><td>No</td><td>40</td><td>1</td><td>4217898</td><td>92.2</td><td>92.32</td></tr>\n",
       "\t<tr><td>SRS992704</td><td>/ebio/abt3_projects/databases_no-backup/DeepMAsED/version2/real_data_eval/marmdb/LLMGQC/final/SRS992704/R1_final.fq.gz</td><td>/ebio/abt3_projects/databases_no-backup/DeepMAsED/version2/real_data_eval/marmdb/LLMGQC/final/SRS992704/R2_final.fq.gz</td><td>NA</td><td>SRR2103016</td><td>SRX1097597</td><td>289734</td><td>27377622,27</td><td>Red Sea metagenomes</td><td>2015-12-31</td><td>⋯</td><td>86</td><td>34.30</td><td>SRA</td><td>186</td><td>No</td><td>40</td><td>1</td><td>4211206</td><td>92.3</td><td>92.92</td></tr>\n",
       "\t<tr><td>⋮</td><td>⋮</td><td>⋮</td><td>⋮</td><td>⋮</td><td>⋮</td><td>⋮</td><td>⋮</td><td>⋮</td><td>⋮</td><td>⋱</td><td>⋮</td><td>⋮</td><td>⋮</td><td>⋮</td><td>⋮</td><td>⋮</td><td>⋮</td><td>⋮</td><td>⋮</td><td>⋮</td></tr>\n",
       "\t<tr><td>SRS2329824</td><td>/ebio/abt3_projects/databases_no-backup/DeepMAsED/version2/real_data_eval/marmdb/LLMGQC/final/SRS2329824/R1_final.fq.gz</td><td>/ebio/abt3_projects/databases_no-backup/DeepMAsED/version2/real_data_eval/marmdb/LLMGQC/final/SRS2329824/R2_final.fq.gz</td><td>NA</td><td>SRR5788396</td><td>SRX2974816</td><td>385854</td><td></td><td>Marine metagenomes from the bioGEOTRACES project</td><td>2018-05-01</td><td>⋯</td><td>85</td><td>32.69</td><td>SRA</td><td>300</td><td>No</td><td>40</td><td>1</td><td>3759562</td><td>148.5</td><td>90.54</td></tr>\n",
       "\t<tr><td>SRS2329594</td><td>/ebio/abt3_projects/databases_no-backup/DeepMAsED/version2/real_data_eval/marmdb/LLMGQC/final/SRS2329594/R1_final.fq.gz</td><td>/ebio/abt3_projects/databases_no-backup/DeepMAsED/version2/real_data_eval/marmdb/LLMGQC/final/SRS2329594/R2_final.fq.gz</td><td>NA</td><td>SRR5788145</td><td>SRX2974587</td><td>385854</td><td></td><td>Marine metagenomes from the bioGEOTRACES project</td><td>2018-05-01</td><td>⋯</td><td>75</td><td>31.55</td><td>SRA</td><td>300</td><td>No</td><td>40</td><td>1</td><td>3632756</td><td>147.8</td><td>76.93</td></tr>\n",
       "</tbody>\n",
       "</table>\n"
      ],
      "text/latex": [
       "A data.table: 104 × 49\n",
       "\\begin{tabular}{lllllllllllllllllllll}\n",
       " Sample & Read1 & Read2 & Notes & library\\_id & project\\_id & BioprojectID & PubmedID & project\\_name & creation\\_date & ⋯ & quality\\_above\\_30\\_SRA & mean\\_quality\\_SRA & source\\_database & average\\_length & assembled & n\\_samples & n\\_recs & num\\_seqs & avg\\_len & Q30...\\\\\n",
       " <chr> & <chr> & <chr> & <lgl> & <chr> & <chr> & <int> & <chr> & <chr> & <date> & ⋯ & <int> & <dbl> & <chr> & <int> & <chr> & <int> & <int> & <int> & <dbl> & <dbl>\\\\\n",
       "\\hline\n",
       "\t SRS992687 & /ebio/abt3\\_projects/databases\\_no-backup/DeepMAsED/version2/real\\_data\\_eval/marmdb/LLMGQC/final/SRS992687/R1\\_final.fq.gz & /ebio/abt3\\_projects/databases\\_no-backup/DeepMAsED/version2/real\\_data\\_eval/marmdb/LLMGQC/final/SRS992687/R2\\_final.fq.gz & NA & SRR2103001 & SRX1097582 & 289734 & 27377622,27 & Red Sea metagenomes & 2015-12-31 & ⋯ & 85 & 34.08 & SRA & 186 & No & 40 & 1 & 4217898 & 92.2 & 92.32\\\\\n",
       "\t SRS992704 & /ebio/abt3\\_projects/databases\\_no-backup/DeepMAsED/version2/real\\_data\\_eval/marmdb/LLMGQC/final/SRS992704/R1\\_final.fq.gz & /ebio/abt3\\_projects/databases\\_no-backup/DeepMAsED/version2/real\\_data\\_eval/marmdb/LLMGQC/final/SRS992704/R2\\_final.fq.gz & NA & SRR2103016 & SRX1097597 & 289734 & 27377622,27 & Red Sea metagenomes & 2015-12-31 & ⋯ & 86 & 34.30 & SRA & 186 & No & 40 & 1 & 4211206 & 92.3 & 92.92\\\\\n",
       "\t ⋮ & ⋮ & ⋮ & ⋮ & ⋮ & ⋮ & ⋮ & ⋮ & ⋮ & ⋮ & ⋱ & ⋮ & ⋮ & ⋮ & ⋮ & ⋮ & ⋮ & ⋮ & ⋮ & ⋮ & ⋮\\\\\n",
       "\t SRS2329824 & /ebio/abt3\\_projects/databases\\_no-backup/DeepMAsED/version2/real\\_data\\_eval/marmdb/LLMGQC/final/SRS2329824/R1\\_final.fq.gz & /ebio/abt3\\_projects/databases\\_no-backup/DeepMAsED/version2/real\\_data\\_eval/marmdb/LLMGQC/final/SRS2329824/R2\\_final.fq.gz & NA & SRR5788396 & SRX2974816 & 385854 &  & Marine metagenomes from the bioGEOTRACES project & 2018-05-01 & ⋯ & 85 & 32.69 & SRA & 300 & No & 40 & 1 & 3759562 & 148.5 & 90.54\\\\\n",
       "\t SRS2329594 & /ebio/abt3\\_projects/databases\\_no-backup/DeepMAsED/version2/real\\_data\\_eval/marmdb/LLMGQC/final/SRS2329594/R1\\_final.fq.gz & /ebio/abt3\\_projects/databases\\_no-backup/DeepMAsED/version2/real\\_data\\_eval/marmdb/LLMGQC/final/SRS2329594/R2\\_final.fq.gz & NA & SRR5788145 & SRX2974587 & 385854 &  & Marine metagenomes from the bioGEOTRACES project & 2018-05-01 & ⋯ & 75 & 31.55 & SRA & 300 & No & 40 & 1 & 3632756 & 147.8 & 76.93\\\\\n",
       "\\end{tabular}\n"
      ],
      "text/markdown": [
       "\n",
       "A data.table: 104 × 49\n",
       "\n",
       "| Sample &lt;chr&gt; | Read1 &lt;chr&gt; | Read2 &lt;chr&gt; | Notes &lt;lgl&gt; | library_id &lt;chr&gt; | project_id &lt;chr&gt; | BioprojectID &lt;int&gt; | PubmedID &lt;chr&gt; | project_name &lt;chr&gt; | creation_date &lt;date&gt; | ⋯ ⋯ | quality_above_30_SRA &lt;int&gt; | mean_quality_SRA &lt;dbl&gt; | source_database &lt;chr&gt; | average_length &lt;int&gt; | assembled &lt;chr&gt; | n_samples &lt;int&gt; | n_recs &lt;int&gt; | num_seqs &lt;int&gt; | avg_len &lt;dbl&gt; | Q30... &lt;dbl&gt; |\n",
       "|---|---|---|---|---|---|---|---|---|---|---|---|---|---|---|---|---|---|---|---|---|\n",
       "| SRS992687 | /ebio/abt3_projects/databases_no-backup/DeepMAsED/version2/real_data_eval/marmdb/LLMGQC/final/SRS992687/R1_final.fq.gz | /ebio/abt3_projects/databases_no-backup/DeepMAsED/version2/real_data_eval/marmdb/LLMGQC/final/SRS992687/R2_final.fq.gz | NA | SRR2103001 | SRX1097582 | 289734 | 27377622,27 | Red Sea metagenomes | 2015-12-31 | ⋯ | 85 | 34.08 | SRA | 186 | No | 40 | 1 | 4217898 | 92.2 | 92.32 |\n",
       "| SRS992704 | /ebio/abt3_projects/databases_no-backup/DeepMAsED/version2/real_data_eval/marmdb/LLMGQC/final/SRS992704/R1_final.fq.gz | /ebio/abt3_projects/databases_no-backup/DeepMAsED/version2/real_data_eval/marmdb/LLMGQC/final/SRS992704/R2_final.fq.gz | NA | SRR2103016 | SRX1097597 | 289734 | 27377622,27 | Red Sea metagenomes | 2015-12-31 | ⋯ | 86 | 34.30 | SRA | 186 | No | 40 | 1 | 4211206 | 92.3 | 92.92 |\n",
       "| ⋮ | ⋮ | ⋮ | ⋮ | ⋮ | ⋮ | ⋮ | ⋮ | ⋮ | ⋮ | ⋱ | ⋮ | ⋮ | ⋮ | ⋮ | ⋮ | ⋮ | ⋮ | ⋮ | ⋮ | ⋮ |\n",
       "| SRS2329824 | /ebio/abt3_projects/databases_no-backup/DeepMAsED/version2/real_data_eval/marmdb/LLMGQC/final/SRS2329824/R1_final.fq.gz | /ebio/abt3_projects/databases_no-backup/DeepMAsED/version2/real_data_eval/marmdb/LLMGQC/final/SRS2329824/R2_final.fq.gz | NA | SRR5788396 | SRX2974816 | 385854 | <!----> | Marine metagenomes from the bioGEOTRACES project | 2018-05-01 | ⋯ | 85 | 32.69 | SRA | 300 | No | 40 | 1 | 3759562 | 148.5 | 90.54 |\n",
       "| SRS2329594 | /ebio/abt3_projects/databases_no-backup/DeepMAsED/version2/real_data_eval/marmdb/LLMGQC/final/SRS2329594/R1_final.fq.gz | /ebio/abt3_projects/databases_no-backup/DeepMAsED/version2/real_data_eval/marmdb/LLMGQC/final/SRS2329594/R2_final.fq.gz | NA | SRR5788145 | SRX2974587 | 385854 | <!----> | Marine metagenomes from the bioGEOTRACES project | 2018-05-01 | ⋯ | 75 | 31.55 | SRA | 300 | No | 40 | 1 | 3632756 | 147.8 | 76.93 |\n",
       "\n"
      ],
      "text/plain": [
       "    Sample    \n",
       "1   SRS992687 \n",
       "2   SRS992704 \n",
       "⋮   ⋮         \n",
       "103 SRS2329824\n",
       "104 SRS2329594\n",
       "    Read1                                                                                                                  \n",
       "1   /ebio/abt3_projects/databases_no-backup/DeepMAsED/version2/real_data_eval/marmdb/LLMGQC/final/SRS992687/R1_final.fq.gz \n",
       "2   /ebio/abt3_projects/databases_no-backup/DeepMAsED/version2/real_data_eval/marmdb/LLMGQC/final/SRS992704/R1_final.fq.gz \n",
       "⋮   ⋮                                                                                                                      \n",
       "103 /ebio/abt3_projects/databases_no-backup/DeepMAsED/version2/real_data_eval/marmdb/LLMGQC/final/SRS2329824/R1_final.fq.gz\n",
       "104 /ebio/abt3_projects/databases_no-backup/DeepMAsED/version2/real_data_eval/marmdb/LLMGQC/final/SRS2329594/R1_final.fq.gz\n",
       "    Read2                                                                                                                  \n",
       "1   /ebio/abt3_projects/databases_no-backup/DeepMAsED/version2/real_data_eval/marmdb/LLMGQC/final/SRS992687/R2_final.fq.gz \n",
       "2   /ebio/abt3_projects/databases_no-backup/DeepMAsED/version2/real_data_eval/marmdb/LLMGQC/final/SRS992704/R2_final.fq.gz \n",
       "⋮   ⋮                                                                                                                      \n",
       "103 /ebio/abt3_projects/databases_no-backup/DeepMAsED/version2/real_data_eval/marmdb/LLMGQC/final/SRS2329824/R2_final.fq.gz\n",
       "104 /ebio/abt3_projects/databases_no-backup/DeepMAsED/version2/real_data_eval/marmdb/LLMGQC/final/SRS2329594/R2_final.fq.gz\n",
       "    Notes library_id project_id BioprojectID PubmedID   \n",
       "1   NA    SRR2103001 SRX1097582 289734       27377622,27\n",
       "2   NA    SRR2103016 SRX1097597 289734       27377622,27\n",
       "⋮   ⋮     ⋮          ⋮          ⋮            ⋮          \n",
       "103 NA    SRR5788396 SRX2974816 385854                  \n",
       "104 NA    SRR5788145 SRX2974587 385854                  \n",
       "    project_name                                     creation_date ⋯\n",
       "1   Red Sea metagenomes                              2015-12-31    ⋯\n",
       "2   Red Sea metagenomes                              2015-12-31    ⋯\n",
       "⋮   ⋮                                                ⋮             ⋱\n",
       "103 Marine metagenomes from the bioGEOTRACES project 2018-05-01    ⋯\n",
       "104 Marine metagenomes from the bioGEOTRACES project 2018-05-01    ⋯\n",
       "    quality_above_30_SRA mean_quality_SRA source_database average_length\n",
       "1   85                   34.08            SRA             186           \n",
       "2   86                   34.30            SRA             186           \n",
       "⋮   ⋮                    ⋮                ⋮               ⋮             \n",
       "103 85                   32.69            SRA             300           \n",
       "104 75                   31.55            SRA             300           \n",
       "    assembled n_samples n_recs num_seqs avg_len Q30...\n",
       "1   No        40        1      4217898  92.2    92.32 \n",
       "2   No        40        1      4211206  92.3    92.92 \n",
       "⋮   ⋮         ⋮         ⋮      ⋮        ⋮       ⋮     \n",
       "103 No        40        1      3759562  148.5   90.54 \n",
       "104 No        40        1      3632756  147.8   76.93 "
      ]
     },
     "metadata": {},
     "output_type": "display_data"
    }
   ],
   "source": [
    "# read files\n",
    "reads = Fread(samps_file)\n",
    "reads"
   ]
  },
  {
   "cell_type": "code",
   "execution_count": 13,
   "metadata": {
    "ExecuteTime": {
     "end_time": "2022-09-21T15:13:51.639418Z",
     "start_time": "2022-09-21T15:13:51.439Z"
    }
   },
   "outputs": [
    {
     "data": {
      "text/html": [
       "<table class=\"dataframe\">\n",
       "<caption>A tidytable: 104 × 66</caption>\n",
       "<thead>\n",
       "\t<tr><th scope=col>Sample</th><th scope=col>Fasta</th><th scope=col>file</th><th scope=col>format</th><th scope=col>type</th><th scope=col>num_seqs</th><th scope=col>sum_len</th><th scope=col>min_len</th><th scope=col>avg_len</th><th scope=col>max_len</th><th scope=col>⋯</th><th scope=col>mean_quality_SRA</th><th scope=col>source_database</th><th scope=col>average_length</th><th scope=col>assembled</th><th scope=col>n_samples</th><th scope=col>n_recs</th><th scope=col>i.num_seqs</th><th scope=col>i.avg_len</th><th scope=col>i.Q30...</th><th scope=col>Taxon</th></tr>\n",
       "\t<tr><th scope=col>&lt;chr&gt;</th><th scope=col>&lt;chr&gt;</th><th scope=col>&lt;chr&gt;</th><th scope=col>&lt;chr&gt;</th><th scope=col>&lt;chr&gt;</th><th scope=col>&lt;int&gt;</th><th scope=col>&lt;int&gt;</th><th scope=col>&lt;int&gt;</th><th scope=col>&lt;dbl&gt;</th><th scope=col>&lt;int&gt;</th><th scope=col>⋯</th><th scope=col>&lt;dbl&gt;</th><th scope=col>&lt;chr&gt;</th><th scope=col>&lt;int&gt;</th><th scope=col>&lt;chr&gt;</th><th scope=col>&lt;int&gt;</th><th scope=col>&lt;int&gt;</th><th scope=col>&lt;int&gt;</th><th scope=col>&lt;dbl&gt;</th><th scope=col>&lt;dbl&gt;</th><th scope=col>&lt;chr&gt;</th></tr>\n",
       "</thead>\n",
       "<tbody>\n",
       "\t<tr><td>SRS992687</td><td>/ebio/abt3_projects/databases_no-backup/DeepMAsED/version2/real_data_eval/marmdb/LLMGA/final_contigs/SRS992687/contigs.fna.gz</td><td>/ebio/abt3_scratch/nyoungblut/LLMGA_122597181487/all_contigs/SRS992687/contigs_final.fasta</td><td>FASTA</td><td>DNA</td><td>3603</td><td> 7077329</td><td>1000</td><td>1964.3</td><td>24925</td><td>⋯</td><td>34.08</td><td>SRA</td><td>186</td><td>No</td><td>40</td><td>1</td><td>4217898</td><td>92.2</td><td>92.32</td><td>SRS992687</td></tr>\n",
       "\t<tr><td>SRS992704</td><td>/ebio/abt3_projects/databases_no-backup/DeepMAsED/version2/real_data_eval/marmdb/LLMGA/final_contigs/SRS992704/contigs.fna.gz</td><td>/ebio/abt3_scratch/nyoungblut/LLMGA_122597181487/all_contigs/SRS992704/contigs_final.fasta</td><td>FASTA</td><td>DNA</td><td>6844</td><td>13170319</td><td>1000</td><td>1924.4</td><td>89078</td><td>⋯</td><td>34.30</td><td>SRA</td><td>186</td><td>No</td><td>40</td><td>1</td><td>4211206</td><td>92.3</td><td>92.92</td><td>SRS992704</td></tr>\n",
       "\t<tr><td>⋮</td><td>⋮</td><td>⋮</td><td>⋮</td><td>⋮</td><td>⋮</td><td>⋮</td><td>⋮</td><td>⋮</td><td>⋮</td><td>⋱</td><td>⋮</td><td>⋮</td><td>⋮</td><td>⋮</td><td>⋮</td><td>⋮</td><td>⋮</td><td>⋮</td><td>⋮</td><td>⋮</td></tr>\n",
       "\t<tr><td>SRS2329824</td><td>/ebio/abt3_projects/databases_no-backup/DeepMAsED/version2/real_data_eval/marmdb/LLMGA/final_contigs/SRS2329824/contigs.fna.gz</td><td>/ebio/abt3_scratch/nyoungblut/LLMGA_122597181487/all_contigs/SRS2329824/contigs_final.fasta</td><td>FASTA</td><td>DNA</td><td>4090</td><td>7497499</td><td>1000</td><td>1833.1</td><td>31286</td><td>⋯</td><td>32.69</td><td>SRA</td><td>300</td><td>No</td><td>40</td><td>1</td><td>3759562</td><td>148.5</td><td>90.54</td><td>SRS2329824</td></tr>\n",
       "\t<tr><td>SRS2329594</td><td>/ebio/abt3_projects/databases_no-backup/DeepMAsED/version2/real_data_eval/marmdb/LLMGA/final_contigs/SRS2329594/contigs.fna.gz</td><td>/ebio/abt3_scratch/nyoungblut/LLMGA_122597181487/all_contigs/SRS2329594/contigs_final.fasta</td><td>FASTA</td><td>DNA</td><td>1618</td><td>2266401</td><td>1000</td><td>1400.7</td><td>16359</td><td>⋯</td><td>31.55</td><td>SRA</td><td>300</td><td>No</td><td>40</td><td>1</td><td>3632756</td><td>147.8</td><td>76.93</td><td>SRS2329594</td></tr>\n",
       "</tbody>\n",
       "</table>\n"
      ],
      "text/latex": [
       "A tidytable: 104 × 66\n",
       "\\begin{tabular}{lllllllllllllllllllll}\n",
       " Sample & Fasta & file & format & type & num\\_seqs & sum\\_len & min\\_len & avg\\_len & max\\_len & ⋯ & mean\\_quality\\_SRA & source\\_database & average\\_length & assembled & n\\_samples & n\\_recs & i.num\\_seqs & i.avg\\_len & i.Q30... & Taxon\\\\\n",
       " <chr> & <chr> & <chr> & <chr> & <chr> & <int> & <int> & <int> & <dbl> & <int> & ⋯ & <dbl> & <chr> & <int> & <chr> & <int> & <int> & <int> & <dbl> & <dbl> & <chr>\\\\\n",
       "\\hline\n",
       "\t SRS992687 & /ebio/abt3\\_projects/databases\\_no-backup/DeepMAsED/version2/real\\_data\\_eval/marmdb/LLMGA/final\\_contigs/SRS992687/contigs.fna.gz & /ebio/abt3\\_scratch/nyoungblut/LLMGA\\_122597181487/all\\_contigs/SRS992687/contigs\\_final.fasta & FASTA & DNA & 3603 &  7077329 & 1000 & 1964.3 & 24925 & ⋯ & 34.08 & SRA & 186 & No & 40 & 1 & 4217898 & 92.2 & 92.32 & SRS992687\\\\\n",
       "\t SRS992704 & /ebio/abt3\\_projects/databases\\_no-backup/DeepMAsED/version2/real\\_data\\_eval/marmdb/LLMGA/final\\_contigs/SRS992704/contigs.fna.gz & /ebio/abt3\\_scratch/nyoungblut/LLMGA\\_122597181487/all\\_contigs/SRS992704/contigs\\_final.fasta & FASTA & DNA & 6844 & 13170319 & 1000 & 1924.4 & 89078 & ⋯ & 34.30 & SRA & 186 & No & 40 & 1 & 4211206 & 92.3 & 92.92 & SRS992704\\\\\n",
       "\t ⋮ & ⋮ & ⋮ & ⋮ & ⋮ & ⋮ & ⋮ & ⋮ & ⋮ & ⋮ & ⋱ & ⋮ & ⋮ & ⋮ & ⋮ & ⋮ & ⋮ & ⋮ & ⋮ & ⋮ & ⋮\\\\\n",
       "\t SRS2329824 & /ebio/abt3\\_projects/databases\\_no-backup/DeepMAsED/version2/real\\_data\\_eval/marmdb/LLMGA/final\\_contigs/SRS2329824/contigs.fna.gz & /ebio/abt3\\_scratch/nyoungblut/LLMGA\\_122597181487/all\\_contigs/SRS2329824/contigs\\_final.fasta & FASTA & DNA & 4090 & 7497499 & 1000 & 1833.1 & 31286 & ⋯ & 32.69 & SRA & 300 & No & 40 & 1 & 3759562 & 148.5 & 90.54 & SRS2329824\\\\\n",
       "\t SRS2329594 & /ebio/abt3\\_projects/databases\\_no-backup/DeepMAsED/version2/real\\_data\\_eval/marmdb/LLMGA/final\\_contigs/SRS2329594/contigs.fna.gz & /ebio/abt3\\_scratch/nyoungblut/LLMGA\\_122597181487/all\\_contigs/SRS2329594/contigs\\_final.fasta & FASTA & DNA & 1618 & 2266401 & 1000 & 1400.7 & 16359 & ⋯ & 31.55 & SRA & 300 & No & 40 & 1 & 3632756 & 147.8 & 76.93 & SRS2329594\\\\\n",
       "\\end{tabular}\n"
      ],
      "text/markdown": [
       "\n",
       "A tidytable: 104 × 66\n",
       "\n",
       "| Sample &lt;chr&gt; | Fasta &lt;chr&gt; | file &lt;chr&gt; | format &lt;chr&gt; | type &lt;chr&gt; | num_seqs &lt;int&gt; | sum_len &lt;int&gt; | min_len &lt;int&gt; | avg_len &lt;dbl&gt; | max_len &lt;int&gt; | ⋯ ⋯ | mean_quality_SRA &lt;dbl&gt; | source_database &lt;chr&gt; | average_length &lt;int&gt; | assembled &lt;chr&gt; | n_samples &lt;int&gt; | n_recs &lt;int&gt; | i.num_seqs &lt;int&gt; | i.avg_len &lt;dbl&gt; | i.Q30... &lt;dbl&gt; | Taxon &lt;chr&gt; |\n",
       "|---|---|---|---|---|---|---|---|---|---|---|---|---|---|---|---|---|---|---|---|---|\n",
       "| SRS992687 | /ebio/abt3_projects/databases_no-backup/DeepMAsED/version2/real_data_eval/marmdb/LLMGA/final_contigs/SRS992687/contigs.fna.gz | /ebio/abt3_scratch/nyoungblut/LLMGA_122597181487/all_contigs/SRS992687/contigs_final.fasta | FASTA | DNA | 3603 |  7077329 | 1000 | 1964.3 | 24925 | ⋯ | 34.08 | SRA | 186 | No | 40 | 1 | 4217898 | 92.2 | 92.32 | SRS992687 |\n",
       "| SRS992704 | /ebio/abt3_projects/databases_no-backup/DeepMAsED/version2/real_data_eval/marmdb/LLMGA/final_contigs/SRS992704/contigs.fna.gz | /ebio/abt3_scratch/nyoungblut/LLMGA_122597181487/all_contigs/SRS992704/contigs_final.fasta | FASTA | DNA | 6844 | 13170319 | 1000 | 1924.4 | 89078 | ⋯ | 34.30 | SRA | 186 | No | 40 | 1 | 4211206 | 92.3 | 92.92 | SRS992704 |\n",
       "| ⋮ | ⋮ | ⋮ | ⋮ | ⋮ | ⋮ | ⋮ | ⋮ | ⋮ | ⋮ | ⋱ | ⋮ | ⋮ | ⋮ | ⋮ | ⋮ | ⋮ | ⋮ | ⋮ | ⋮ | ⋮ |\n",
       "| SRS2329824 | /ebio/abt3_projects/databases_no-backup/DeepMAsED/version2/real_data_eval/marmdb/LLMGA/final_contigs/SRS2329824/contigs.fna.gz | /ebio/abt3_scratch/nyoungblut/LLMGA_122597181487/all_contigs/SRS2329824/contigs_final.fasta | FASTA | DNA | 4090 | 7497499 | 1000 | 1833.1 | 31286 | ⋯ | 32.69 | SRA | 300 | No | 40 | 1 | 3759562 | 148.5 | 90.54 | SRS2329824 |\n",
       "| SRS2329594 | /ebio/abt3_projects/databases_no-backup/DeepMAsED/version2/real_data_eval/marmdb/LLMGA/final_contigs/SRS2329594/contigs.fna.gz | /ebio/abt3_scratch/nyoungblut/LLMGA_122597181487/all_contigs/SRS2329594/contigs_final.fasta | FASTA | DNA | 1618 | 2266401 | 1000 | 1400.7 | 16359 | ⋯ | 31.55 | SRA | 300 | No | 40 | 1 | 3632756 | 147.8 | 76.93 | SRS2329594 |\n",
       "\n"
      ],
      "text/plain": [
       "    Sample    \n",
       "1   SRS992687 \n",
       "2   SRS992704 \n",
       "⋮   ⋮         \n",
       "103 SRS2329824\n",
       "104 SRS2329594\n",
       "    Fasta                                                                                                                         \n",
       "1   /ebio/abt3_projects/databases_no-backup/DeepMAsED/version2/real_data_eval/marmdb/LLMGA/final_contigs/SRS992687/contigs.fna.gz \n",
       "2   /ebio/abt3_projects/databases_no-backup/DeepMAsED/version2/real_data_eval/marmdb/LLMGA/final_contigs/SRS992704/contigs.fna.gz \n",
       "⋮   ⋮                                                                                                                             \n",
       "103 /ebio/abt3_projects/databases_no-backup/DeepMAsED/version2/real_data_eval/marmdb/LLMGA/final_contigs/SRS2329824/contigs.fna.gz\n",
       "104 /ebio/abt3_projects/databases_no-backup/DeepMAsED/version2/real_data_eval/marmdb/LLMGA/final_contigs/SRS2329594/contigs.fna.gz\n",
       "    file                                                                                       \n",
       "1   /ebio/abt3_scratch/nyoungblut/LLMGA_122597181487/all_contigs/SRS992687/contigs_final.fasta \n",
       "2   /ebio/abt3_scratch/nyoungblut/LLMGA_122597181487/all_contigs/SRS992704/contigs_final.fasta \n",
       "⋮   ⋮                                                                                          \n",
       "103 /ebio/abt3_scratch/nyoungblut/LLMGA_122597181487/all_contigs/SRS2329824/contigs_final.fasta\n",
       "104 /ebio/abt3_scratch/nyoungblut/LLMGA_122597181487/all_contigs/SRS2329594/contigs_final.fasta\n",
       "    format type num_seqs sum_len  min_len avg_len max_len ⋯ mean_quality_SRA\n",
       "1   FASTA  DNA  3603      7077329 1000    1964.3  24925   ⋯ 34.08           \n",
       "2   FASTA  DNA  6844     13170319 1000    1924.4  89078   ⋯ 34.30           \n",
       "⋮   ⋮      ⋮    ⋮        ⋮        ⋮       ⋮       ⋮       ⋱ ⋮               \n",
       "103 FASTA  DNA  4090     7497499  1000    1833.1  31286   ⋯ 32.69           \n",
       "104 FASTA  DNA  1618     2266401  1000    1400.7  16359   ⋯ 31.55           \n",
       "    source_database average_length assembled n_samples n_recs i.num_seqs\n",
       "1   SRA             186            No        40        1      4217898   \n",
       "2   SRA             186            No        40        1      4211206   \n",
       "⋮   ⋮               ⋮              ⋮         ⋮         ⋮      ⋮         \n",
       "103 SRA             300            No        40        1      3759562   \n",
       "104 SRA             300            No        40        1      3632756   \n",
       "    i.avg_len i.Q30... Taxon     \n",
       "1   92.2      92.32    SRS992687 \n",
       "2   92.3      92.92    SRS992704 \n",
       "⋮   ⋮         ⋮        ⋮         \n",
       "103 148.5     90.54    SRS2329824\n",
       "104 147.8     76.93    SRS2329594"
      ]
     },
     "metadata": {},
     "output_type": "display_data"
    }
   ],
   "source": [
    "# joining\n",
    "contigs = contigs %>%\n",
    "    inner_join.(reads, c('Sample')) %>%\n",
    "    mutate.(Taxon = Sample)\n",
    "contigs"
   ]
  },
  {
   "cell_type": "code",
   "execution_count": 14,
   "metadata": {
    "ExecuteTime": {
     "end_time": "2022-09-21T15:13:53.580661Z",
     "start_time": "2022-09-21T15:13:53.411Z"
    }
   },
   "outputs": [
    {
     "data": {
      "text/html": [
       "<table class=\"dataframe\">\n",
       "<caption>A tidytable: 3 × 2</caption>\n",
       "<thead>\n",
       "\t<tr><th scope=col>project_name</th><th scope=col>n</th></tr>\n",
       "\t<tr><th scope=col>&lt;chr&gt;</th><th scope=col>&lt;int&gt;</th></tr>\n",
       "</thead>\n",
       "<tbody>\n",
       "\t<tr><td>Red Sea metagenomes                             </td><td>40</td></tr>\n",
       "\t<tr><td>HOT ALOHA metagenomic time and depth series     </td><td>24</td></tr>\n",
       "\t<tr><td>Marine metagenomes from the bioGEOTRACES project</td><td>40</td></tr>\n",
       "</tbody>\n",
       "</table>\n"
      ],
      "text/latex": [
       "A tidytable: 3 × 2\n",
       "\\begin{tabular}{ll}\n",
       " project\\_name & n\\\\\n",
       " <chr> & <int>\\\\\n",
       "\\hline\n",
       "\t Red Sea metagenomes                              & 40\\\\\n",
       "\t HOT ALOHA metagenomic time and depth series      & 24\\\\\n",
       "\t Marine metagenomes from the bioGEOTRACES project & 40\\\\\n",
       "\\end{tabular}\n"
      ],
      "text/markdown": [
       "\n",
       "A tidytable: 3 × 2\n",
       "\n",
       "| project_name &lt;chr&gt; | n &lt;int&gt; |\n",
       "|---|---|\n",
       "| Red Sea metagenomes                              | 40 |\n",
       "| HOT ALOHA metagenomic time and depth series      | 24 |\n",
       "| Marine metagenomes from the bioGEOTRACES project | 40 |\n",
       "\n"
      ],
      "text/plain": [
       "  project_name                                     n \n",
       "1 Red Sea metagenomes                              40\n",
       "2 HOT ALOHA metagenomic time and depth series      24\n",
       "3 Marine metagenomes from the bioGEOTRACES project 40"
      ]
     },
     "metadata": {},
     "output_type": "display_data"
    }
   ],
   "source": [
    "# metagenomes per project\n",
    "contigs %>%\n",
    "    summarize.(n = n.(), .by = c(project_name))"
   ]
  },
  {
   "cell_type": "markdown",
   "metadata": {},
   "source": [
    "### Writing samples table"
   ]
  },
  {
   "cell_type": "code",
   "execution_count": 15,
   "metadata": {
    "ExecuteTime": {
     "end_time": "2022-09-21T15:14:00.307642Z",
     "start_time": "2022-09-21T15:14:00.126Z"
    }
   },
   "outputs": [
    {
     "name": "stdout",
     "output_type": "stream",
     "text": [
      "Created directory: /ebio/abt3_projects/databases_no-backup/DeepMAsED/version2/real_data_eval/marmdb/LLMGA//final_contigs/resmico-sm \n",
      "File written: /ebio/abt3_projects/databases_no-backup/DeepMAsED/version2/real_data_eval/marmdb/LLMGA//final_contigs/resmico-sm/samples.tsv \n"
     ]
    }
   ],
   "source": [
    "resmico_dir = file.path(work_dir, 'final_contigs', 'resmico-sm')\n",
    "make_dir(resmico_dir)\n",
    "F = file.path(resmico_dir, 'samples.tsv')\n",
    "write_table(contigs, F)"
   ]
  },
  {
   "cell_type": "markdown",
   "metadata": {},
   "source": [
    "### Config"
   ]
  },
  {
   "cell_type": "code",
   "execution_count": 16,
   "metadata": {
    "ExecuteTime": {
     "end_time": "2022-09-21T15:14:41.074278Z",
     "start_time": "2022-09-21T15:14:40.835Z"
    }
   },
   "outputs": [
    {
     "name": "stdout",
     "output_type": "stream",
     "text": [
      "# Input table\n",
      "## Table of genomes\n",
      "genomes_file: /ebio/abt3_projects/databases_no-backup/DeepMAsED/version2/real_data_eval/marmdb/LLMGA/final_contigs/resmico-sm/samples.tsv\n",
      "\n",
      "# Output directory\n",
      "output_dir: /ebio/abt3_projects/databases_no-backup/DeepMAsED/version2/real_data_eval/marmdb/LLMGA/final_contigs/resmico-sm/\n",
      "\n",
      "# Temporary output directory (use /dev/shm/ for shared memory)\n",
      "tmp_dir: /ebio/abt3_scratch/nyoungblut/resmico_dev/\n",
      "\n",
      "# Email for notifications (\"Skip\" to skip)\n",
      "email: nyoungblut@tuebingen.mpg.de\n",
      "\n",
      "# software parameters for data simulations\n",
      "## Use \"Skip\" to skip  steps. If no params for rule, use \"\"\n",
      "## `reps:` is the number of replicate simulations\n",
      "## If `keep_reads: True`, then simulated reads are kept\n",
      "params:\n",
      "  ionice: -c 3\n",
      "  # simulating metagenomes\n",
      "  MGSIM:\n",
      "    sim_reps: 1\n",
      "    community:\n",
      "      richness:\n",
      "        - 0.5\n",
      "        - 0.8\n",
      "      abundance_distribution:\n",
      "        - \"mean:10,sigma:1\"\n",
      "        - \"mean:10,sigma:2\"\n",
      "      random_seed: Skip #8192\n",
      "      other_sim_params: --group-bias 0\n",
      "    reads: \n",
      "      length:\n",
      "        - 100\n",
      "        - 150\n",
      "      depth:\n",
      "        - 1000000\n",
      "        - 4000000\n",
      "      other_sim_params: --art-paired --art-mflen 270 --art-sdev 50 --rndSeed 8712\n",
      "                        --art-qprof1 data/art_error_profiles/HiSeq2500L150R1.txt\n",
      "                        --art-qprof2 data/art_error_profiles/HiSeq2500L150R2.txt\n",
      "      skewer: -n -l 70 -q 25 --format sanger\n",
      "      keep_reads: False\n",
      "  # coverage\n",
      "  nonpareil:\n",
      "    params: -T kmer\n",
      "    summary: 1e9   # this is target seq. depth\n",
      "  # assemblying metagenomes\n",
      "  assemblers:\n",
      "    metaspades: -k auto --only-assembler\n",
      "    megahit: --min-count 1 --min-contig-len 1000\n",
      "  # assembly filtering\n",
      "  contigs:\n",
      "    length_cutoff: 1000       # length in bp \n",
      "  # assessing assembly errors\n",
      "  asmbl_errors:\n",
      "    metaquast: --max-ref-number 0 --min-contig 1000 --min-identity 95 --extensive-mis-size 100\n",
      "               --no-html --no-plots --no-icarus --no-gc --no-snps --no-sv\n",
      "    keep_genomes: False\n",
      "  # mapping reads to contigs\n",
      "  map:\n",
      "    contig_frac:\n",
      "      - 1000\n",
      "    samtools: \"\"\n",
      "    bowtie2: \"\"\n",
      "    max_coverage: 20\n",
      "    keep_bam: False\n",
      "    keep_faidx: False\n",
      "    create_bigwig: False\n",
      "  # creating ResMiCo feature tables\n",
      "  feature_table:\n",
      "    make: --window 6\n",
      "  # state-of-the-art\n",
      "  SotA:\n",
      "    ALE: Skip\n",
      "    VALET: Skip\n",
      "    metaMIC:\n",
      "      extract: Skip #--mlen 1000\n",
      "      predict: --mlen 1000 --slen 500 -a MEGAHIT\n",
      "  # misc\n",
      "  real_contigs_simulated_reads: False\n",
      "\n",
      "# params just for creating feature tables for non-simulated data\n",
      "nonsim_params:\n",
      "  # max number of reads to use\n",
      "  subsample_reads: Skip #1000000\n",
      "\n",
      "# snakemake pipeline\n",
      "pipeline:\n",
      "  snakemake_folder: ./\n",
      "  script_folder: ./bin/scripts/\n",
      "  name: ResMiCo-SM"
     ]
    }
   ],
   "source": [
    "F = file.path(resmico_dir, 'config.yaml')\n",
    "cat_file(F)"
   ]
  },
  {
   "cell_type": "markdown",
   "metadata": {},
   "source": [
    "### Run"
   ]
  },
  {
   "cell_type": "markdown",
   "metadata": {},
   "source": [
    "```\n",
    "(snakemake) rick: /ebio/abt3_projects/DeepMAsED/version2/deepmased/ResMiCo-SM\n",
    "$ screen -L -S rmc-sm-marmdb ./snakemake_sge.sh /ebio/abt3_projects/databases_no-backup/DeepMAsED/version2/real_data_eval/marmdb/LLMGA/final_contigs/resmico-sm/config.yaml 30 -F\n",
    "```"
   ]
  },
  {
   "cell_type": "markdown",
   "metadata": {},
   "source": [
    "## Summary"
   ]
  },
  {
   "cell_type": "code",
   "execution_count": 17,
   "metadata": {
    "ExecuteTime": {
     "end_time": "2022-09-21T18:00:17.300693Z",
     "start_time": "2022-09-21T18:00:17.149Z"
    }
   },
   "outputs": [
    {
     "data": {
      "text/html": [
       "<table class=\"dataframe\">\n",
       "<caption>A data.table: 104 × 4</caption>\n",
       "<thead>\n",
       "\t<tr><th scope=col>sample</th><th scope=col>taxon</th><th scope=col>contig_frac</th><th scope=col>feature_file</th></tr>\n",
       "\t<tr><th scope=col>&lt;chr&gt;</th><th scope=col>&lt;chr&gt;</th><th scope=col>&lt;int&gt;</th><th scope=col>&lt;chr&gt;</th></tr>\n",
       "</thead>\n",
       "<tbody>\n",
       "\t<tr><td>SRS992687</td><td>SRS992687</td><td>1000</td><td>SRS992687/SRS992687/1000/features.tsv.gz</td></tr>\n",
       "\t<tr><td>SRS992704</td><td>SRS992704</td><td>1000</td><td>SRS992704/SRS992704/1000/features.tsv.gz</td></tr>\n",
       "\t<tr><td>⋮</td><td>⋮</td><td>⋮</td><td>⋮</td></tr>\n",
       "\t<tr><td>SRS2329824</td><td>SRS2329824</td><td>1000</td><td>SRS2329824/SRS2329824/1000/features.tsv.gz</td></tr>\n",
       "\t<tr><td>SRS2329594</td><td>SRS2329594</td><td>1000</td><td>SRS2329594/SRS2329594/1000/features.tsv.gz</td></tr>\n",
       "</tbody>\n",
       "</table>\n"
      ],
      "text/latex": [
       "A data.table: 104 × 4\n",
       "\\begin{tabular}{llll}\n",
       " sample & taxon & contig\\_frac & feature\\_file\\\\\n",
       " <chr> & <chr> & <int> & <chr>\\\\\n",
       "\\hline\n",
       "\t SRS992687 & SRS992687 & 1000 & SRS992687/SRS992687/1000/features.tsv.gz\\\\\n",
       "\t SRS992704 & SRS992704 & 1000 & SRS992704/SRS992704/1000/features.tsv.gz\\\\\n",
       "\t ⋮ & ⋮ & ⋮ & ⋮\\\\\n",
       "\t SRS2329824 & SRS2329824 & 1000 & SRS2329824/SRS2329824/1000/features.tsv.gz\\\\\n",
       "\t SRS2329594 & SRS2329594 & 1000 & SRS2329594/SRS2329594/1000/features.tsv.gz\\\\\n",
       "\\end{tabular}\n"
      ],
      "text/markdown": [
       "\n",
       "A data.table: 104 × 4\n",
       "\n",
       "| sample &lt;chr&gt; | taxon &lt;chr&gt; | contig_frac &lt;int&gt; | feature_file &lt;chr&gt; |\n",
       "|---|---|---|---|\n",
       "| SRS992687 | SRS992687 | 1000 | SRS992687/SRS992687/1000/features.tsv.gz |\n",
       "| SRS992704 | SRS992704 | 1000 | SRS992704/SRS992704/1000/features.tsv.gz |\n",
       "| ⋮ | ⋮ | ⋮ | ⋮ |\n",
       "| SRS2329824 | SRS2329824 | 1000 | SRS2329824/SRS2329824/1000/features.tsv.gz |\n",
       "| SRS2329594 | SRS2329594 | 1000 | SRS2329594/SRS2329594/1000/features.tsv.gz |\n",
       "\n"
      ],
      "text/plain": [
       "    sample     taxon      contig_frac\n",
       "1   SRS992687  SRS992687  1000       \n",
       "2   SRS992704  SRS992704  1000       \n",
       "⋮   ⋮          ⋮          ⋮          \n",
       "103 SRS2329824 SRS2329824 1000       \n",
       "104 SRS2329594 SRS2329594 1000       \n",
       "    feature_file                              \n",
       "1   SRS992687/SRS992687/1000/features.tsv.gz  \n",
       "2   SRS992704/SRS992704/1000/features.tsv.gz  \n",
       "⋮   ⋮                                         \n",
       "103 SRS2329824/SRS2329824/1000/features.tsv.gz\n",
       "104 SRS2329594/SRS2329594/1000/features.tsv.gz"
      ]
     },
     "metadata": {},
     "output_type": "display_data"
    }
   ],
   "source": [
    "F = file.path(resmico_dir, 'features', 'feature_files.tsv')\n",
    "Fread(F)"
   ]
  },
  {
   "cell_type": "markdown",
   "metadata": {},
   "source": [
    "# sessionInfo"
   ]
  },
  {
   "cell_type": "code",
   "execution_count": 18,
   "metadata": {
    "ExecuteTime": {
     "end_time": "2022-09-21T18:00:19.297928Z",
     "start_time": "2022-09-21T18:00:19.073Z"
    }
   },
   "outputs": [
    {
     "data": {
      "text/plain": [
       "R version 4.1.1 (2021-08-10)\n",
       "Platform: x86_64-conda-linux-gnu (64-bit)\n",
       "Running under: Ubuntu 20.04.5 LTS\n",
       "\n",
       "Matrix products: default\n",
       "BLAS/LAPACK: /tmp/global2/nyoungblut/code/general/conda_envs/general-tidyverse/lib/libopenblasp-r0.3.18.so\n",
       "\n",
       "locale:\n",
       " [1] LC_CTYPE=en_US.UTF-8       LC_NUMERIC=C              \n",
       " [3] LC_TIME=en_US.UTF-8        LC_COLLATE=en_US.UTF-8    \n",
       " [5] LC_MONETARY=en_US.UTF-8    LC_MESSAGES=en_US.UTF-8   \n",
       " [7] LC_PAPER=en_US.UTF-8       LC_NAME=C                 \n",
       " [9] LC_ADDRESS=C               LC_TELEPHONE=C            \n",
       "[11] LC_MEASUREMENT=en_US.UTF-8 LC_IDENTIFICATION=C       \n",
       "\n",
       "attached base packages:\n",
       "[1] stats     graphics  grDevices utils     datasets  methods   base     \n",
       "\n",
       "other attached packages:\n",
       "[1] clustermq_0.8.95.2 LeyLabRMisc_0.2.1  tidytable_0.6.6    data.table_1.14.2 \n",
       "[5] ggplot2_3.3.5      tidyr_1.1.4        dplyr_1.0.7       \n",
       "\n",
       "loaded via a namespace (and not attached):\n",
       " [1] Rcpp_1.0.7       plyr_1.8.6       pillar_1.6.4     compiler_4.1.1  \n",
       " [5] base64enc_0.1-3  tools_4.1.1      bit_4.0.4        digest_0.6.29   \n",
       " [9] uuid_1.0-3       jsonlite_1.7.2   evaluate_0.14    lifecycle_1.0.1 \n",
       "[13] tibble_3.1.6     gtable_0.3.0     pkgconfig_2.0.3  rlang_0.4.12    \n",
       "[17] IRdisplay_1.1    IRkernel_1.3     fastmap_1.1.0    repr_1.1.4      \n",
       "[21] withr_2.4.3      generics_0.1.1   vctrs_0.3.8      bit64_4.0.5     \n",
       "[25] grid_4.1.1       tidyselect_1.1.1 glue_1.6.0       R6_2.5.1        \n",
       "[29] fansi_1.0.0      pbdZMQ_0.3-6     purrr_0.3.4      magrittr_2.0.1  \n",
       "[33] codetools_0.2-18 scales_1.1.1     ellipsis_0.3.2   htmltools_0.5.2 \n",
       "[37] colorspace_2.0-2 utf8_1.2.2       munsell_0.5.0    crayon_1.4.2    "
      ]
     },
     "metadata": {},
     "output_type": "display_data"
    }
   ],
   "source": [
    "sessionInfo()"
   ]
  },
  {
   "cell_type": "code",
   "execution_count": null,
   "metadata": {},
   "outputs": [],
   "source": []
  }
 ],
 "metadata": {
  "kernelspec": {
   "display_name": "R [conda env:general-tidyverse]",
   "language": "R",
   "name": "conda-env-general-tidyverse-r"
  },
  "language_info": {
   "codemirror_mode": "r",
   "file_extension": ".r",
   "mimetype": "text/x-r-source",
   "name": "R",
   "pygments_lexer": "r",
   "version": "4.1.1"
  },
  "toc": {
   "base_numbering": 1,
   "nav_menu": {},
   "number_sections": true,
   "sideBar": true,
   "skip_h1_title": false,
   "title_cell": "Table of Contents",
   "title_sidebar": "Contents",
   "toc_cell": true,
   "toc_position": {},
   "toc_section_display": true,
   "toc_window_display": true
  }
 },
 "nbformat": 4,
 "nbformat_minor": 4
}
