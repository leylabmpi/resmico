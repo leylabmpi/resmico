{
 "cells": [
  {
   "cell_type": "markdown",
   "metadata": {
    "toc": true
   },
   "source": [
    "<h1>Table of Contents<span class=\"tocSkip\"></span></h1>\n",
    "<div class=\"toc\"><ul class=\"toc-item\"><li><span><a href=\"#Goal\" data-toc-modified-id=\"Goal-1\"><span class=\"toc-item-num\">1&nbsp;&nbsp;</span>Goal</a></span></li><li><span><a href=\"#Var\" data-toc-modified-id=\"Var-2\"><span class=\"toc-item-num\">2&nbsp;&nbsp;</span>Var</a></span></li><li><span><a href=\"#Init\" data-toc-modified-id=\"Init-3\"><span class=\"toc-item-num\">3&nbsp;&nbsp;</span>Init</a></span></li><li><span><a href=\"#Load\" data-toc-modified-id=\"Load-4\"><span class=\"toc-item-num\">4&nbsp;&nbsp;</span>Load</a></span></li><li><span><a href=\"#Filter\" data-toc-modified-id=\"Filter-5\"><span class=\"toc-item-num\">5&nbsp;&nbsp;</span>Filter</a></span><ul class=\"toc-item\"><li><ul class=\"toc-item\"><li><span><a href=\"#Note-on-projects-(studies)\" data-toc-modified-id=\"Note-on-projects-(studies)-5.0.1\"><span class=\"toc-item-num\">5.0.1&nbsp;&nbsp;</span>Note on projects (studies)</a></span></li><li><span><a href=\"#Writing-samples-table\" data-toc-modified-id=\"Writing-samples-table-5.0.2\"><span class=\"toc-item-num\">5.0.2&nbsp;&nbsp;</span>Writing samples table</a></span></li></ul></li></ul></li><li><span><a href=\"#Sequence-download-&amp;-QC\" data-toc-modified-id=\"Sequence-download-&amp;-QC-6\"><span class=\"toc-item-num\">6&nbsp;&nbsp;</span>Sequence download &amp; QC</a></span><ul class=\"toc-item\"><li><span><a href=\"#LLMGQC-pipeline\" data-toc-modified-id=\"LLMGQC-pipeline-6.1\"><span class=\"toc-item-num\">6.1&nbsp;&nbsp;</span>LLMGQC pipeline</a></span><ul class=\"toc-item\"><li><span><a href=\"#Config\" data-toc-modified-id=\"Config-6.1.1\"><span class=\"toc-item-num\">6.1.1&nbsp;&nbsp;</span>Config</a></span></li><li><span><a href=\"#Run\" data-toc-modified-id=\"Run-6.1.2\"><span class=\"toc-item-num\">6.1.2&nbsp;&nbsp;</span>Run</a></span></li></ul></li><li><span><a href=\"#Summary\" data-toc-modified-id=\"Summary-6.2\"><span class=\"toc-item-num\">6.2&nbsp;&nbsp;</span>Summary</a></span><ul class=\"toc-item\"><li><span><a href=\"#Seq.-quality\" data-toc-modified-id=\"Seq.-quality-6.2.1\"><span class=\"toc-item-num\">6.2.1&nbsp;&nbsp;</span>Seq. quality</a></span></li></ul></li><li><span><a href=\"#Writing-table\" data-toc-modified-id=\"Writing-table-6.3\"><span class=\"toc-item-num\">6.3&nbsp;&nbsp;</span>Writing table</a></span></li></ul></li><li><span><a href=\"#sessionInfo\" data-toc-modified-id=\"sessionInfo-7\"><span class=\"toc-item-num\">7&nbsp;&nbsp;</span>sessionInfo</a></span></li></ul></div>"
   ]
  },
  {
   "cell_type": "markdown",
   "metadata": {},
   "source": [
    "# Goal\n",
    "\n",
    "* Metagenomes from the [MarineMetagenomeDB](https://webapp.ufz.de/marmdb/)\n",
    "* The metagenomes will be used to evalulate resmico"
   ]
  },
  {
   "cell_type": "markdown",
   "metadata": {},
   "source": [
    "# Var"
   ]
  },
  {
   "cell_type": "code",
   "execution_count": 1,
   "metadata": {
    "ExecuteTime": {
     "end_time": "2022-08-27T13:55:15.214484Z",
     "start_time": "2022-08-27T13:55:15.069Z"
    }
   },
   "outputs": [],
   "source": [
    "work_dir = '/ebio/abt3_projects/databases_no-backup/DeepMAsED/version2/real_data_eval/marmdb/'\n",
    "metadata_file = file.path(work_dir, '2022-08-25_marmdb_marine.csv')"
   ]
  },
  {
   "cell_type": "markdown",
   "metadata": {},
   "source": [
    "# Init"
   ]
  },
  {
   "cell_type": "code",
   "execution_count": 2,
   "metadata": {
    "ExecuteTime": {
     "end_time": "2022-08-27T13:55:16.096488Z",
     "start_time": "2022-08-27T13:55:15.070Z"
    }
   },
   "outputs": [
    {
     "name": "stderr",
     "output_type": "stream",
     "text": [
      "\n",
      "Attaching package: ‘dplyr’\n",
      "\n",
      "\n",
      "The following objects are masked from ‘package:stats’:\n",
      "\n",
      "    filter, lag\n",
      "\n",
      "\n",
      "The following objects are masked from ‘package:base’:\n",
      "\n",
      "    intersect, setdiff, setequal, union\n",
      "\n",
      "\n",
      "\n",
      "Attaching package: ‘data.table’\n",
      "\n",
      "\n",
      "The following objects are masked from ‘package:dplyr’:\n",
      "\n",
      "    between, first, last\n",
      "\n",
      "\n",
      "\n",
      "Attaching package: ‘tidytable’\n",
      "\n",
      "\n",
      "The following object is masked from ‘package:stats’:\n",
      "\n",
      "    dt\n",
      "\n",
      "\n",
      "Loading required package: clustermq\n",
      "\n"
     ]
    }
   ],
   "source": [
    "library(dplyr)\n",
    "library(tidyr)\n",
    "library(ggplot2)\n",
    "library(data.table)\n",
    "library(tidytable)\n",
    "library(LeyLabRMisc)\n",
    "Init()"
   ]
  },
  {
   "cell_type": "code",
   "execution_count": 3,
   "metadata": {
    "ExecuteTime": {
     "end_time": "2022-08-27T13:55:16.112736Z",
     "start_time": "2022-08-27T13:55:15.070Z"
    }
   },
   "outputs": [],
   "source": [
    "set.seed(8281)"
   ]
  },
  {
   "cell_type": "markdown",
   "metadata": {},
   "source": [
    "# Load"
   ]
  },
  {
   "cell_type": "code",
   "execution_count": 4,
   "metadata": {
    "ExecuteTime": {
     "end_time": "2022-08-27T13:55:16.205891Z",
     "start_time": "2022-08-27T13:55:15.071Z"
    }
   },
   "outputs": [
    {
     "data": {
      "text/html": [
       "<table class=\"dataframe\">\n",
       "<caption>A data.table: 2834 × 41</caption>\n",
       "<thead>\n",
       "\t<tr><th scope=col>library_id</th><th scope=col>project_id</th><th scope=col>sample_id</th><th scope=col>BioprojectID</th><th scope=col>PubmedID</th><th scope=col>project_name</th><th scope=col>creation_date</th><th scope=col>seq_platform</th><th scope=col>sequence_count</th><th scope=col>basepairs_count</th><th scope=col>⋯</th><th scope=col>MarMDB_marine_ecosystem</th><th scope=col>MarMDB_marine_water_body</th><th scope=col>MarMDB_oceanic_zone</th><th scope=col>MarMDB_oceanographic_phenomena</th><th scope=col>MarMDB_host_name</th><th scope=col>quality_above_30_SRA</th><th scope=col>mean_quality_SRA</th><th scope=col>source_database</th><th scope=col>average_length</th><th scope=col>assembled</th></tr>\n",
       "\t<tr><th scope=col>&lt;chr&gt;</th><th scope=col>&lt;chr&gt;</th><th scope=col>&lt;chr&gt;</th><th scope=col>&lt;chr&gt;</th><th scope=col>&lt;chr&gt;</th><th scope=col>&lt;chr&gt;</th><th scope=col>&lt;date&gt;</th><th scope=col>&lt;chr&gt;</th><th scope=col>&lt;dbl&gt;</th><th scope=col>&lt;dbl&gt;</th><th scope=col>⋯</th><th scope=col>&lt;chr&gt;</th><th scope=col>&lt;chr&gt;</th><th scope=col>&lt;chr&gt;</th><th scope=col>&lt;chr&gt;</th><th scope=col>&lt;chr&gt;</th><th scope=col>&lt;int&gt;</th><th scope=col>&lt;dbl&gt;</th><th scope=col>&lt;chr&gt;</th><th scope=col>&lt;int&gt;</th><th scope=col>&lt;chr&gt;</th></tr>\n",
       "</thead>\n",
       "<tbody>\n",
       "\t<tr><td>DRR086604</td><td>DRX080433</td><td>DRS095491</td><td>544441</td><td>NA</td><td>Development of prediction and control technology for coastal fishery damage by marine microbial analysis</td><td>2019-05-22</td><td>ILLUMINA</td><td>1522491</td><td> 605177743</td><td>⋯</td><td>NA</td><td>coastal water body</td><td>NA</td><td>NA</td><td>NA</td><td>94</td><td>36.35</td><td>SRA</td><td>397</td><td>No</td></tr>\n",
       "\t<tr><td>DRR086605</td><td>DRX080434</td><td>DRS095492</td><td>544441</td><td>NA</td><td>Development of prediction and control technology for coastal fishery damage by marine microbial analysis</td><td>2019-05-22</td><td>ILLUMINA</td><td>2683839</td><td>1045253097</td><td>⋯</td><td>NA</td><td>coastal water body</td><td>NA</td><td>NA</td><td>NA</td><td>94</td><td>36.19</td><td>SRA</td><td>389</td><td>No</td></tr>\n",
       "\t<tr><td>⋮</td><td>⋮</td><td>⋮</td><td>⋮</td><td>⋮</td><td>⋮</td><td>⋮</td><td>⋮</td><td>⋮</td><td>⋮</td><td>⋱</td><td>⋮</td><td>⋮</td><td>⋮</td><td>⋮</td><td>⋮</td><td>⋮</td><td>⋮</td><td>⋮</td><td>⋮</td><td>⋮</td></tr>\n",
       "\t<tr><td>SRR7226204</td><td>SRX4132707</td><td>SRS3346794</td><td>471489</td><td>NA      </td><td>Lophelia pertusa Metagenomes</td><td>2018-12-31</td><td>ILLUMINA</td><td> 1204127</td><td> 243233654</td><td>⋯</td><td>NA</td><td>NA</td><td>NA</td><td>NA</td><td>Desmophyllum pertusum</td><td>90</td><td>35.33</td><td>SRA</td><td>202</td><td>No</td></tr>\n",
       "\t<tr><td>SRR863225 </td><td>SRX283655 </td><td>SRS426871 </td><td>201031</td><td>23320838</td><td>HOT212 DCM Metagenome       </td><td>2013-07-16</td><td>ILLUMINA</td><td>14791817</td><td>4260043296</td><td>⋯</td><td>NA</td><td>NA</td><td>NA</td><td>NA</td><td>NA                   </td><td>52</td><td>21.26</td><td>SRA</td><td>288</td><td>No</td></tr>\n",
       "</tbody>\n",
       "</table>\n"
      ],
      "text/latex": [
       "A data.table: 2834 × 41\n",
       "\\begin{tabular}{lllllllllllllllllllll}\n",
       " library\\_id & project\\_id & sample\\_id & BioprojectID & PubmedID & project\\_name & creation\\_date & seq\\_platform & sequence\\_count & basepairs\\_count & ⋯ & MarMDB\\_marine\\_ecosystem & MarMDB\\_marine\\_water\\_body & MarMDB\\_oceanic\\_zone & MarMDB\\_oceanographic\\_phenomena & MarMDB\\_host\\_name & quality\\_above\\_30\\_SRA & mean\\_quality\\_SRA & source\\_database & average\\_length & assembled\\\\\n",
       " <chr> & <chr> & <chr> & <chr> & <chr> & <chr> & <date> & <chr> & <dbl> & <dbl> & ⋯ & <chr> & <chr> & <chr> & <chr> & <chr> & <int> & <dbl> & <chr> & <int> & <chr>\\\\\n",
       "\\hline\n",
       "\t DRR086604 & DRX080433 & DRS095491 & 544441 & NA & Development of prediction and control technology for coastal fishery damage by marine microbial analysis & 2019-05-22 & ILLUMINA & 1522491 &  605177743 & ⋯ & NA & coastal water body & NA & NA & NA & 94 & 36.35 & SRA & 397 & No\\\\\n",
       "\t DRR086605 & DRX080434 & DRS095492 & 544441 & NA & Development of prediction and control technology for coastal fishery damage by marine microbial analysis & 2019-05-22 & ILLUMINA & 2683839 & 1045253097 & ⋯ & NA & coastal water body & NA & NA & NA & 94 & 36.19 & SRA & 389 & No\\\\\n",
       "\t ⋮ & ⋮ & ⋮ & ⋮ & ⋮ & ⋮ & ⋮ & ⋮ & ⋮ & ⋮ & ⋱ & ⋮ & ⋮ & ⋮ & ⋮ & ⋮ & ⋮ & ⋮ & ⋮ & ⋮ & ⋮\\\\\n",
       "\t SRR7226204 & SRX4132707 & SRS3346794 & 471489 & NA       & Lophelia pertusa Metagenomes & 2018-12-31 & ILLUMINA &  1204127 &  243233654 & ⋯ & NA & NA & NA & NA & Desmophyllum pertusum & 90 & 35.33 & SRA & 202 & No\\\\\n",
       "\t SRR863225  & SRX283655  & SRS426871  & 201031 & 23320838 & HOT212 DCM Metagenome        & 2013-07-16 & ILLUMINA & 14791817 & 4260043296 & ⋯ & NA & NA & NA & NA & NA                    & 52 & 21.26 & SRA & 288 & No\\\\\n",
       "\\end{tabular}\n"
      ],
      "text/markdown": [
       "\n",
       "A data.table: 2834 × 41\n",
       "\n",
       "| library_id &lt;chr&gt; | project_id &lt;chr&gt; | sample_id &lt;chr&gt; | BioprojectID &lt;chr&gt; | PubmedID &lt;chr&gt; | project_name &lt;chr&gt; | creation_date &lt;date&gt; | seq_platform &lt;chr&gt; | sequence_count &lt;dbl&gt; | basepairs_count &lt;dbl&gt; | ⋯ ⋯ | MarMDB_marine_ecosystem &lt;chr&gt; | MarMDB_marine_water_body &lt;chr&gt; | MarMDB_oceanic_zone &lt;chr&gt; | MarMDB_oceanographic_phenomena &lt;chr&gt; | MarMDB_host_name &lt;chr&gt; | quality_above_30_SRA &lt;int&gt; | mean_quality_SRA &lt;dbl&gt; | source_database &lt;chr&gt; | average_length &lt;int&gt; | assembled &lt;chr&gt; |\n",
       "|---|---|---|---|---|---|---|---|---|---|---|---|---|---|---|---|---|---|---|---|---|\n",
       "| DRR086604 | DRX080433 | DRS095491 | 544441 | NA | Development of prediction and control technology for coastal fishery damage by marine microbial analysis | 2019-05-22 | ILLUMINA | 1522491 |  605177743 | ⋯ | NA | coastal water body | NA | NA | NA | 94 | 36.35 | SRA | 397 | No |\n",
       "| DRR086605 | DRX080434 | DRS095492 | 544441 | NA | Development of prediction and control technology for coastal fishery damage by marine microbial analysis | 2019-05-22 | ILLUMINA | 2683839 | 1045253097 | ⋯ | NA | coastal water body | NA | NA | NA | 94 | 36.19 | SRA | 389 | No |\n",
       "| ⋮ | ⋮ | ⋮ | ⋮ | ⋮ | ⋮ | ⋮ | ⋮ | ⋮ | ⋮ | ⋱ | ⋮ | ⋮ | ⋮ | ⋮ | ⋮ | ⋮ | ⋮ | ⋮ | ⋮ | ⋮ |\n",
       "| SRR7226204 | SRX4132707 | SRS3346794 | 471489 | NA       | Lophelia pertusa Metagenomes | 2018-12-31 | ILLUMINA |  1204127 |  243233654 | ⋯ | NA | NA | NA | NA | Desmophyllum pertusum | 90 | 35.33 | SRA | 202 | No |\n",
       "| SRR863225  | SRX283655  | SRS426871  | 201031 | 23320838 | HOT212 DCM Metagenome        | 2013-07-16 | ILLUMINA | 14791817 | 4260043296 | ⋯ | NA | NA | NA | NA | NA                    | 52 | 21.26 | SRA | 288 | No |\n",
       "\n"
      ],
      "text/plain": [
       "     library_id project_id sample_id  BioprojectID PubmedID\n",
       "1    DRR086604  DRX080433  DRS095491  544441       NA      \n",
       "2    DRR086605  DRX080434  DRS095492  544441       NA      \n",
       "⋮    ⋮          ⋮          ⋮          ⋮            ⋮       \n",
       "2833 SRR7226204 SRX4132707 SRS3346794 471489       NA      \n",
       "2834 SRR863225  SRX283655  SRS426871  201031       23320838\n",
       "     project_name                                                                                            \n",
       "1    Development of prediction and control technology for coastal fishery damage by marine microbial analysis\n",
       "2    Development of prediction and control technology for coastal fishery damage by marine microbial analysis\n",
       "⋮    ⋮                                                                                                       \n",
       "2833 Lophelia pertusa Metagenomes                                                                            \n",
       "2834 HOT212 DCM Metagenome                                                                                   \n",
       "     creation_date seq_platform sequence_count basepairs_count ⋯\n",
       "1    2019-05-22    ILLUMINA     1522491         605177743      ⋯\n",
       "2    2019-05-22    ILLUMINA     2683839        1045253097      ⋯\n",
       "⋮    ⋮             ⋮            ⋮              ⋮               ⋱\n",
       "2833 2018-12-31    ILLUMINA      1204127        243233654      ⋯\n",
       "2834 2013-07-16    ILLUMINA     14791817       4260043296      ⋯\n",
       "     MarMDB_marine_ecosystem MarMDB_marine_water_body MarMDB_oceanic_zone\n",
       "1    NA                      coastal water body       NA                 \n",
       "2    NA                      coastal water body       NA                 \n",
       "⋮    ⋮                       ⋮                        ⋮                  \n",
       "2833 NA                      NA                       NA                 \n",
       "2834 NA                      NA                       NA                 \n",
       "     MarMDB_oceanographic_phenomena MarMDB_host_name      quality_above_30_SRA\n",
       "1    NA                             NA                    94                  \n",
       "2    NA                             NA                    94                  \n",
       "⋮    ⋮                              ⋮                     ⋮                   \n",
       "2833 NA                             Desmophyllum pertusum 90                  \n",
       "2834 NA                             NA                    52                  \n",
       "     mean_quality_SRA source_database average_length assembled\n",
       "1    36.35            SRA             397            No       \n",
       "2    36.19            SRA             389            No       \n",
       "⋮    ⋮                ⋮               ⋮              ⋮        \n",
       "2833 35.33            SRA             202            No       \n",
       "2834 21.26            SRA             288            No       "
      ]
     },
     "metadata": {},
     "output_type": "display_data"
    }
   ],
   "source": [
    "meta = Fread(metadata_file, sep=',') \n",
    "meta"
   ]
  },
  {
   "cell_type": "markdown",
   "metadata": {},
   "source": [
    "# Filter"
   ]
  },
  {
   "cell_type": "code",
   "execution_count": 5,
   "metadata": {
    "ExecuteTime": {
     "end_time": "2022-08-27T13:55:16.288024Z",
     "start_time": "2022-08-27T13:55:15.072Z"
    }
   },
   "outputs": [
    {
     "data": {
      "text/html": [
       "<table class=\"dataframe\">\n",
       "<caption>A tidytable: 12 × 4</caption>\n",
       "<thead>\n",
       "\t<tr><th scope=col>project_name</th><th scope=col>n_samples</th><th scope=col>MarMDB_biome</th><th scope=col>MarMDB_material</th></tr>\n",
       "\t<tr><th scope=col>&lt;chr&gt;</th><th scope=col>&lt;int&gt;</th><th scope=col>&lt;chr&gt;</th><th scope=col>&lt;chr&gt;</th></tr>\n",
       "</thead>\n",
       "<tbody>\n",
       "\t<tr><td>Marine metagenomes from the bioGEOTRACES project                                                                             </td><td>471</td><td>ocean</td><td>NA</td></tr>\n",
       "\t<tr><td>Development of prediction and control technology for coastal fishery damage by marine microbial analysis                     </td><td>248</td><td>ocean</td><td>NA</td></tr>\n",
       "\t<tr><td>Ocean Sampling Day (OSD) 2014: AUTHORITY-RAW amplicon and metagenome sequencing study from the June solstice in the year 2014</td><td>137</td><td>ocean</td><td>NA</td></tr>\n",
       "\t<tr><td>Arctic Ocean metagenomes from HLY1502                                                                                        </td><td>130</td><td>ocean</td><td>NA</td></tr>\n",
       "\t<tr><td>Meta-genomic and -transcriptomic samples from the HOE Legacy 2 expedition                                                    </td><td> 86</td><td>ocean</td><td>NA</td></tr>\n",
       "\t<tr><td>HOT ALOHA metagenomic time and depth series                                                                                  </td><td> 76</td><td>ocean</td><td>NA</td></tr>\n",
       "\t<tr><td>Ecological Genomics of a Seasonally Anoxic Fjord; Saanich Inlet                                                              </td><td> 62</td><td>ocean</td><td>NA</td></tr>\n",
       "\t<tr><td>Marine water Metagenome                                                                                                      </td><td> 47</td><td>ocean</td><td>NA</td></tr>\n",
       "\t<tr><td>Red Sea metagenomes                                                                                                          </td><td> 45</td><td>ocean</td><td>NA</td></tr>\n",
       "\t<tr><td>Genomic basis of differential aerosolization of bacteria and viruses in sea spray                                            </td><td> 44</td><td>ocean</td><td>NA</td></tr>\n",
       "\t<tr><td>Amazon Continuum Metagenomes                                                                                                 </td><td> 38</td><td>ocean</td><td>NA</td></tr>\n",
       "\t<tr><td>Shotgun Sequencing of Tara Oceans Polar Circle DNA samples corresponding to size fractions for  small DNA viruses.           </td><td> 25</td><td>ocean</td><td>NA</td></tr>\n",
       "</tbody>\n",
       "</table>\n"
      ],
      "text/latex": [
       "A tidytable: 12 × 4\n",
       "\\begin{tabular}{llll}\n",
       " project\\_name & n\\_samples & MarMDB\\_biome & MarMDB\\_material\\\\\n",
       " <chr> & <int> & <chr> & <chr>\\\\\n",
       "\\hline\n",
       "\t Marine metagenomes from the bioGEOTRACES project                                                                              & 471 & ocean & NA\\\\\n",
       "\t Development of prediction and control technology for coastal fishery damage by marine microbial analysis                      & 248 & ocean & NA\\\\\n",
       "\t Ocean Sampling Day (OSD) 2014: AUTHORITY-RAW amplicon and metagenome sequencing study from the June solstice in the year 2014 & 137 & ocean & NA\\\\\n",
       "\t Arctic Ocean metagenomes from HLY1502                                                                                         & 130 & ocean & NA\\\\\n",
       "\t Meta-genomic and -transcriptomic samples from the HOE Legacy 2 expedition                                                     &  86 & ocean & NA\\\\\n",
       "\t HOT ALOHA metagenomic time and depth series                                                                                   &  76 & ocean & NA\\\\\n",
       "\t Ecological Genomics of a Seasonally Anoxic Fjord; Saanich Inlet                                                               &  62 & ocean & NA\\\\\n",
       "\t Marine water Metagenome                                                                                                       &  47 & ocean & NA\\\\\n",
       "\t Red Sea metagenomes                                                                                                           &  45 & ocean & NA\\\\\n",
       "\t Genomic basis of differential aerosolization of bacteria and viruses in sea spray                                             &  44 & ocean & NA\\\\\n",
       "\t Amazon Continuum Metagenomes                                                                                                  &  38 & ocean & NA\\\\\n",
       "\t Shotgun Sequencing of Tara Oceans Polar Circle DNA samples corresponding to size fractions for  small DNA viruses.            &  25 & ocean & NA\\\\\n",
       "\\end{tabular}\n"
      ],
      "text/markdown": [
       "\n",
       "A tidytable: 12 × 4\n",
       "\n",
       "| project_name &lt;chr&gt; | n_samples &lt;int&gt; | MarMDB_biome &lt;chr&gt; | MarMDB_material &lt;chr&gt; |\n",
       "|---|---|---|---|\n",
       "| Marine metagenomes from the bioGEOTRACES project                                                                              | 471 | ocean | NA |\n",
       "| Development of prediction and control technology for coastal fishery damage by marine microbial analysis                      | 248 | ocean | NA |\n",
       "| Ocean Sampling Day (OSD) 2014: AUTHORITY-RAW amplicon and metagenome sequencing study from the June solstice in the year 2014 | 137 | ocean | NA |\n",
       "| Arctic Ocean metagenomes from HLY1502                                                                                         | 130 | ocean | NA |\n",
       "| Meta-genomic and -transcriptomic samples from the HOE Legacy 2 expedition                                                     |  86 | ocean | NA |\n",
       "| HOT ALOHA metagenomic time and depth series                                                                                   |  76 | ocean | NA |\n",
       "| Ecological Genomics of a Seasonally Anoxic Fjord; Saanich Inlet                                                               |  62 | ocean | NA |\n",
       "| Marine water Metagenome                                                                                                       |  47 | ocean | NA |\n",
       "| Red Sea metagenomes                                                                                                           |  45 | ocean | NA |\n",
       "| Genomic basis of differential aerosolization of bacteria and viruses in sea spray                                             |  44 | ocean | NA |\n",
       "| Amazon Continuum Metagenomes                                                                                                  |  38 | ocean | NA |\n",
       "| Shotgun Sequencing of Tara Oceans Polar Circle DNA samples corresponding to size fractions for  small DNA viruses.            |  25 | ocean | NA |\n",
       "\n"
      ],
      "text/plain": [
       "   project_name                                                                                                                 \n",
       "1  Marine metagenomes from the bioGEOTRACES project                                                                             \n",
       "2  Development of prediction and control technology for coastal fishery damage by marine microbial analysis                     \n",
       "3  Ocean Sampling Day (OSD) 2014: AUTHORITY-RAW amplicon and metagenome sequencing study from the June solstice in the year 2014\n",
       "4  Arctic Ocean metagenomes from HLY1502                                                                                        \n",
       "5  Meta-genomic and -transcriptomic samples from the HOE Legacy 2 expedition                                                    \n",
       "6  HOT ALOHA metagenomic time and depth series                                                                                  \n",
       "7  Ecological Genomics of a Seasonally Anoxic Fjord; Saanich Inlet                                                              \n",
       "8  Marine water Metagenome                                                                                                      \n",
       "9  Red Sea metagenomes                                                                                                          \n",
       "10 Genomic basis of differential aerosolization of bacteria and viruses in sea spray                                            \n",
       "11 Amazon Continuum Metagenomes                                                                                                 \n",
       "12 Shotgun Sequencing of Tara Oceans Polar Circle DNA samples corresponding to size fractions for  small DNA viruses.           \n",
       "   n_samples MarMDB_biome MarMDB_material\n",
       "1  471       ocean        NA             \n",
       "2  248       ocean        NA             \n",
       "3  137       ocean        NA             \n",
       "4  130       ocean        NA             \n",
       "5   86       ocean        NA             \n",
       "6   76       ocean        NA             \n",
       "7   62       ocean        NA             \n",
       "8   47       ocean        NA             \n",
       "9   45       ocean        NA             \n",
       "10  44       ocean        NA             \n",
       "11  38       ocean        NA             \n",
       "12  25       ocean        NA             "
      ]
     },
     "metadata": {},
     "output_type": "display_data"
    }
   ],
   "source": [
    "meta_f = meta %>%\n",
    "    mutate.(n_samples = sample_id %>% unique %>% length, \n",
    "            .by = c(project_name)) %>%\n",
    "    filter.(n_samples >= 20) %>%\n",
    "    filter.(average_length <= 300,\n",
    "            average_length >= 100)\n",
    "\n",
    "df.dims(20)\n",
    "meta_f %>%\n",
    "    distinct.(project_name, n_samples, MarMDB_biome, MarMDB_material) %>%\n",
    "    arrange.(-n_samples)\n",
    "df.dims()"
   ]
  },
  {
   "cell_type": "markdown",
   "metadata": {},
   "source": [
    "### Note on projects (studies)\n",
    "\n",
    "* Development of prediction and control technology for coastal fishery damage by marine microbial analysis\t\n",
    "  * study_id: PRJDB5504\n",
    "  * study_desc: Development of prediction and control technology for coastal fishery damage by marine microbial analysis\n",
    "  * doi: None\n",
    "* Arctic Ocean metagenomes from HLY1502\n",
    "  * study_id: PRJEB14154\n",
    "  * study_desc: Arctic Ocean metagenomes sampled aboard CGC Healy during the 2015 GEOTRACES Arctic research cruise\n",
    "* Genomic basis of differential aerosolization of bacteria and viruses in sea spray\n",
    "  * study_id: PRJEB20421\n",
    "  * study_desc: Airborne bacteria and viruses\n",
    "  * doi: https://www.nature.com/articles/s41467-018-04409-z\n",
    "  * seq: HiSeq 4000 \n",
    "    * paired-end\n",
    "* Shotgun Sequencing of Tara Oceans Polar Circle DNA samples corresponding to size fractions for small DNA viruses.\t\n",
    "  * study_id: PRJEB9742\n",
    "  * study_desc: Analysis of the genes and genomes present in Tara Oceans Polar Circle virus size\n",
    "  * doi: https://journals.asm.org/doi/10.1128/mSphere.00334-20\n",
    "* Ocean Sampling Day (OSD) 2014: AUTHORITY-RAW amplicon and metagenome sequencing study from the June solstice in the year 2014\t\n",
    "  * study_id: \n",
    "  * study_desc: Illumina MiSeq paired end sequencing; Metagenome Shotgun Sequencing\n",
    "  * doi: None\n",
    "  * seq: MiSeq\n",
    "* Amazon Continuum Metagenomes\n",
    "  * study_id: PRJNA237344\n",
    "  * study_desc:  Amazon River-to-tropical Atlantic Ocean continuu\n",
    "  * doi: https://microbiomejournal.biomedcentral.com/articles/10.1186/s40168-015-0099-0\n",
    "  * seq: Illumina HiSeq 2500\n",
    "    * 2 x 150 bp\n",
    "* Red Sea metagenomes\n",
    "  * study_id: PRJNA289734\n",
    "  * study_desc: An expedition spanning nearly the entire eastern Red Sea. We sampled at eight stations along this route\n",
    "  * doi: https://doi.org/10.1111/1462-2920.15182\n",
    "  * seq: HiSeq 2000\n",
    "    * 2 x 100 bp\n",
    "* Marine water Metagenome\n",
    "  * study_id: PRJNA291491\n",
    "  * study_desc: Examine viral communities in ballast and harbor waters\n",
    "  * doi: https://doi.org/10.1371/journal.pone.0152671\n",
    "  * seq:  HiSeq 2500\n",
    "    * 2 x 100 bp\n",
    "* Ecological Genomics of a Seasonally Anoxic Fjord; Saanich Inlet\t\n",
    "  * study_id: PRJNA247822\n",
    "  * study_desc: Saanich Inlet is a seasonally anoxic fjord\n",
    "  * doi: None\n",
    "* HOT ALOHA metagenomic time and depth series\n",
    "  * study_id: PRJNA352737\n",
    "  * study_desc: A time-resolved deep metagenomic survey of bacterioplankton from the ocean's surface to a depth of 1,000 m\n",
    "  * doi: https://doi.org/10.1038/s41564-017-0008-3\n",
    "  * seq: Illumina MiSeq and NextSeq 500\n",
    "* Meta-genomic and -transcriptomic samples from the HOE Legacy 2 expedition\n",
    "  * study_id: PRJNA358725\n",
    "  * study_desc: Meta-genomic and -transcriptomic samples from the HOE Legacy 2 expedition.\n",
    "  * doi: https://doi.org/10.1073/pnas.1714821114\n",
    "  * seq: Nextseq500\n",
    "* Marine metagenomes from the bioGEOTRACES project\n",
    "  * study_id: PRJNA385854\n",
    "  * study_desc: Marine metagenomes from the bioGEOTRACES project Metagenome\n",
    "  * doi: https://doi.org/10.1038/sdata.2018.176\n",
    "  * seq: Illumina NextSeq\n",
    "    * 2 x 150 bp"
   ]
  },
  {
   "cell_type": "code",
   "execution_count": 6,
   "metadata": {
    "ExecuteTime": {
     "end_time": "2022-08-27T13:55:16.332922Z",
     "start_time": "2022-08-27T13:55:15.073Z"
    }
   },
   "outputs": [
    {
     "data": {
      "text/html": [
       "<table class=\"dataframe\">\n",
       "<caption>A tidytable: 12 × 4</caption>\n",
       "<thead>\n",
       "\t<tr><th scope=col>project_name</th><th scope=col>project_id</th><th scope=col>BioprojectID</th><th scope=col>PubmedID</th></tr>\n",
       "\t<tr><th scope=col>&lt;chr&gt;</th><th scope=col>&lt;chr&gt;</th><th scope=col>&lt;chr&gt;</th><th scope=col>&lt;chr&gt;</th></tr>\n",
       "</thead>\n",
       "<tbody>\n",
       "\t<tr><td>Development of prediction and control technology for coastal fishery damage by marine microbial analysis                     </td><td>DRX080447 </td><td>544441     </td><td>NA         </td></tr>\n",
       "\t<tr><td>Arctic Ocean metagenomes from HLY1502                                                                                        </td><td>ERX1495486</td><td>324018     </td><td>NA         </td></tr>\n",
       "\t<tr><td>Genomic basis of differential aerosolization of bacteria and viruses in sea spray                                            </td><td>ERX2062252</td><td>389695     </td><td>NA         </td></tr>\n",
       "\t<tr><td>Shotgun Sequencing of Tara Oceans Polar Circle DNA samples corresponding to size fractions for  small DNA viruses.           </td><td>ERX2775056</td><td>288560     </td><td>NA         </td></tr>\n",
       "\t<tr><td>Ocean Sampling Day (OSD) 2014: AUTHORITY-RAW amplicon and metagenome sequencing study from the June solstice in the year 2014</td><td>ERX714336 </td><td>276999     </td><td>NA         </td></tr>\n",
       "\t<tr><td>Amazon Continuum Metagenomes                                                                                                 </td><td>SRX480925 </td><td>348753,2373</td><td>28894102   </td></tr>\n",
       "\t<tr><td>Red Sea metagenomes                                                                                                          </td><td>SRX1097575</td><td>289734     </td><td>27377622,27</td></tr>\n",
       "\t<tr><td>Marine water Metagenome                                                                                                      </td><td>SRX1162759</td><td>291491     </td><td>NA         </td></tr>\n",
       "\t<tr><td>Ecological Genomics of a Seasonally Anoxic Fjord; Saanich Inlet                                                              </td><td>SRX1878046</td><td>247822     </td><td>NA         </td></tr>\n",
       "\t<tr><td>HOT ALOHA metagenomic time and depth series                                                                                  </td><td>SRX2334616</td><td>352737     </td><td>28808230   </td></tr>\n",
       "\t<tr><td>Meta-genomic and -transcriptomic samples from the HOE Legacy 2 expedition                                                    </td><td>SRX2445715</td><td>358725     </td><td>NA         </td></tr>\n",
       "\t<tr><td>Marine metagenomes from the bioGEOTRACES project                                                                             </td><td>SRX2974743</td><td>385854     </td><td>NA         </td></tr>\n",
       "</tbody>\n",
       "</table>\n"
      ],
      "text/latex": [
       "A tidytable: 12 × 4\n",
       "\\begin{tabular}{llll}\n",
       " project\\_name & project\\_id & BioprojectID & PubmedID\\\\\n",
       " <chr> & <chr> & <chr> & <chr>\\\\\n",
       "\\hline\n",
       "\t Development of prediction and control technology for coastal fishery damage by marine microbial analysis                      & DRX080447  & 544441      & NA         \\\\\n",
       "\t Arctic Ocean metagenomes from HLY1502                                                                                         & ERX1495486 & 324018      & NA         \\\\\n",
       "\t Genomic basis of differential aerosolization of bacteria and viruses in sea spray                                             & ERX2062252 & 389695      & NA         \\\\\n",
       "\t Shotgun Sequencing of Tara Oceans Polar Circle DNA samples corresponding to size fractions for  small DNA viruses.            & ERX2775056 & 288560      & NA         \\\\\n",
       "\t Ocean Sampling Day (OSD) 2014: AUTHORITY-RAW amplicon and metagenome sequencing study from the June solstice in the year 2014 & ERX714336  & 276999      & NA         \\\\\n",
       "\t Amazon Continuum Metagenomes                                                                                                  & SRX480925  & 348753,2373 & 28894102   \\\\\n",
       "\t Red Sea metagenomes                                                                                                           & SRX1097575 & 289734      & 27377622,27\\\\\n",
       "\t Marine water Metagenome                                                                                                       & SRX1162759 & 291491      & NA         \\\\\n",
       "\t Ecological Genomics of a Seasonally Anoxic Fjord; Saanich Inlet                                                               & SRX1878046 & 247822      & NA         \\\\\n",
       "\t HOT ALOHA metagenomic time and depth series                                                                                   & SRX2334616 & 352737      & 28808230   \\\\\n",
       "\t Meta-genomic and -transcriptomic samples from the HOE Legacy 2 expedition                                                     & SRX2445715 & 358725      & NA         \\\\\n",
       "\t Marine metagenomes from the bioGEOTRACES project                                                                              & SRX2974743 & 385854      & NA         \\\\\n",
       "\\end{tabular}\n"
      ],
      "text/markdown": [
       "\n",
       "A tidytable: 12 × 4\n",
       "\n",
       "| project_name &lt;chr&gt; | project_id &lt;chr&gt; | BioprojectID &lt;chr&gt; | PubmedID &lt;chr&gt; |\n",
       "|---|---|---|---|\n",
       "| Development of prediction and control technology for coastal fishery damage by marine microbial analysis                      | DRX080447  | 544441      | NA          |\n",
       "| Arctic Ocean metagenomes from HLY1502                                                                                         | ERX1495486 | 324018      | NA          |\n",
       "| Genomic basis of differential aerosolization of bacteria and viruses in sea spray                                             | ERX2062252 | 389695      | NA          |\n",
       "| Shotgun Sequencing of Tara Oceans Polar Circle DNA samples corresponding to size fractions for  small DNA viruses.            | ERX2775056 | 288560      | NA          |\n",
       "| Ocean Sampling Day (OSD) 2014: AUTHORITY-RAW amplicon and metagenome sequencing study from the June solstice in the year 2014 | ERX714336  | 276999      | NA          |\n",
       "| Amazon Continuum Metagenomes                                                                                                  | SRX480925  | 348753,2373 | 28894102    |\n",
       "| Red Sea metagenomes                                                                                                           | SRX1097575 | 289734      | 27377622,27 |\n",
       "| Marine water Metagenome                                                                                                       | SRX1162759 | 291491      | NA          |\n",
       "| Ecological Genomics of a Seasonally Anoxic Fjord; Saanich Inlet                                                               | SRX1878046 | 247822      | NA          |\n",
       "| HOT ALOHA metagenomic time and depth series                                                                                   | SRX2334616 | 352737      | 28808230    |\n",
       "| Meta-genomic and -transcriptomic samples from the HOE Legacy 2 expedition                                                     | SRX2445715 | 358725      | NA          |\n",
       "| Marine metagenomes from the bioGEOTRACES project                                                                              | SRX2974743 | 385854      | NA          |\n",
       "\n"
      ],
      "text/plain": [
       "   project_name                                                                                                                 \n",
       "1  Development of prediction and control technology for coastal fishery damage by marine microbial analysis                     \n",
       "2  Arctic Ocean metagenomes from HLY1502                                                                                        \n",
       "3  Genomic basis of differential aerosolization of bacteria and viruses in sea spray                                            \n",
       "4  Shotgun Sequencing of Tara Oceans Polar Circle DNA samples corresponding to size fractions for  small DNA viruses.           \n",
       "5  Ocean Sampling Day (OSD) 2014: AUTHORITY-RAW amplicon and metagenome sequencing study from the June solstice in the year 2014\n",
       "6  Amazon Continuum Metagenomes                                                                                                 \n",
       "7  Red Sea metagenomes                                                                                                          \n",
       "8  Marine water Metagenome                                                                                                      \n",
       "9  Ecological Genomics of a Seasonally Anoxic Fjord; Saanich Inlet                                                              \n",
       "10 HOT ALOHA metagenomic time and depth series                                                                                  \n",
       "11 Meta-genomic and -transcriptomic samples from the HOE Legacy 2 expedition                                                    \n",
       "12 Marine metagenomes from the bioGEOTRACES project                                                                             \n",
       "   project_id BioprojectID PubmedID   \n",
       "1  DRX080447  544441       NA         \n",
       "2  ERX1495486 324018       NA         \n",
       "3  ERX2062252 389695       NA         \n",
       "4  ERX2775056 288560       NA         \n",
       "5  ERX714336  276999       NA         \n",
       "6  SRX480925  348753,2373  28894102   \n",
       "7  SRX1097575 289734       27377622,27\n",
       "8  SRX1162759 291491       NA         \n",
       "9  SRX1878046 247822       NA         \n",
       "10 SRX2334616 352737       28808230   \n",
       "11 SRX2445715 358725       NA         \n",
       "12 SRX2974743 385854       NA         "
      ]
     },
     "metadata": {},
     "output_type": "display_data"
    }
   ],
   "source": [
    "df.dims(20)\n",
    "meta_f %>%\n",
    "    summarize.(project_id = first(project_id),\n",
    "               BioprojectID = first(BioprojectID),\n",
    "               PubmedID = first(PubmedID),\n",
    "               .by = c(project_name))\n",
    "df.dims()"
   ]
  },
  {
   "cell_type": "code",
   "execution_count": 7,
   "metadata": {
    "ExecuteTime": {
     "end_time": "2022-08-27T13:55:16.390960Z",
     "start_time": "2022-08-27T13:55:15.073Z"
    }
   },
   "outputs": [
    {
     "data": {
      "text/html": [
       "<table class=\"dataframe\">\n",
       "<caption>A tidytable: 3 × 4</caption>\n",
       "<thead>\n",
       "\t<tr><th scope=col>project_name</th><th scope=col>n_samples</th><th scope=col>MarMDB_biome</th><th scope=col>MarMDB_material</th></tr>\n",
       "\t<tr><th scope=col>&lt;chr&gt;</th><th scope=col>&lt;int&gt;</th><th scope=col>&lt;chr&gt;</th><th scope=col>&lt;chr&gt;</th></tr>\n",
       "</thead>\n",
       "<tbody>\n",
       "\t<tr><td>Marine metagenomes from the bioGEOTRACES project</td><td>471</td><td>ocean</td><td>NA</td></tr>\n",
       "\t<tr><td>HOT ALOHA metagenomic time and depth series     </td><td> 76</td><td>ocean</td><td>NA</td></tr>\n",
       "\t<tr><td>Red Sea metagenomes                             </td><td> 45</td><td>ocean</td><td>NA</td></tr>\n",
       "</tbody>\n",
       "</table>\n"
      ],
      "text/latex": [
       "A tidytable: 3 × 4\n",
       "\\begin{tabular}{llll}\n",
       " project\\_name & n\\_samples & MarMDB\\_biome & MarMDB\\_material\\\\\n",
       " <chr> & <int> & <chr> & <chr>\\\\\n",
       "\\hline\n",
       "\t Marine metagenomes from the bioGEOTRACES project & 471 & ocean & NA\\\\\n",
       "\t HOT ALOHA metagenomic time and depth series      &  76 & ocean & NA\\\\\n",
       "\t Red Sea metagenomes                              &  45 & ocean & NA\\\\\n",
       "\\end{tabular}\n"
      ],
      "text/markdown": [
       "\n",
       "A tidytable: 3 × 4\n",
       "\n",
       "| project_name &lt;chr&gt; | n_samples &lt;int&gt; | MarMDB_biome &lt;chr&gt; | MarMDB_material &lt;chr&gt; |\n",
       "|---|---|---|---|\n",
       "| Marine metagenomes from the bioGEOTRACES project | 471 | ocean | NA |\n",
       "| HOT ALOHA metagenomic time and depth series      |  76 | ocean | NA |\n",
       "| Red Sea metagenomes                              |  45 | ocean | NA |\n",
       "\n"
      ],
      "text/plain": [
       "  project_name                                     n_samples MarMDB_biome\n",
       "1 Marine metagenomes from the bioGEOTRACES project 471       ocean       \n",
       "2 HOT ALOHA metagenomic time and depth series       76       ocean       \n",
       "3 Red Sea metagenomes                               45       ocean       \n",
       "  MarMDB_material\n",
       "1 NA             \n",
       "2 NA             \n",
       "3 NA             "
      ]
     },
     "metadata": {},
     "output_type": "display_data"
    }
   ],
   "source": [
    "to_keep = c(\n",
    "    #'Genomic basis of differential aerosolization of bacteria and viruses in sea spray',\n",
    "    #'Amazon Continuum Metagenomes',\n",
    "    'Red Sea metagenomes',\n",
    "    'HOT ALOHA metagenomic time and depth series',\n",
    "    #'Meta-genomic and -transcriptomic samples from the HOE Legacy 2 expedition',\n",
    "    'Marine metagenomes from the bioGEOTRACES project'    \n",
    ")\n",
    "meta_f = meta_f %>%\n",
    "    filter.(project_name %in% to_keep)\n",
    "\n",
    "df.dims(20)\n",
    "meta_f %>%\n",
    "    distinct.(project_name, n_samples, MarMDB_biome, MarMDB_material) %>%\n",
    "    arrange.(-n_samples)\n",
    "df.dims()"
   ]
  },
  {
   "cell_type": "code",
   "execution_count": 8,
   "metadata": {
    "ExecuteTime": {
     "end_time": "2022-08-27T13:55:16.416910Z",
     "start_time": "2022-08-27T13:55:15.074Z"
    }
   },
   "outputs": [
    {
     "data": {
      "text/plain": [
       ".\n",
       "ILLUMINA \n",
       "     544 "
      ]
     },
     "metadata": {},
     "output_type": "display_data"
    },
    {
     "data": {
      "text/plain": [
       ".\n",
       " No \n",
       "544 "
      ]
     },
     "metadata": {},
     "output_type": "display_data"
    }
   ],
   "source": [
    "# platform\n",
    "meta_f$seq_platform %>% table\n",
    "meta_f$assembled %>% table"
   ]
  },
  {
   "cell_type": "code",
   "execution_count": 9,
   "metadata": {
    "ExecuteTime": {
     "end_time": "2022-08-27T13:55:16.461858Z",
     "start_time": "2022-08-27T13:55:15.075Z"
    }
   },
   "outputs": [
    {
     "data": {
      "text/html": [
       "<table class=\"dataframe\">\n",
       "<caption>A matrix: 1 × 8 of type dbl</caption>\n",
       "<thead>\n",
       "\t<tr><th></th><th scope=col>Min.</th><th scope=col>1st Qu.</th><th scope=col>Median</th><th scope=col>Mean</th><th scope=col>3rd Qu.</th><th scope=col>Max.</th><th scope=col>sd</th><th scope=col>sd_err_of_mean</th></tr>\n",
       "</thead>\n",
       "<tbody>\n",
       "\t<tr><th scope=row>sequence_count</th><td>859190</td><td>18641506</td><td>23607075</td><td>23840375</td><td>28478476</td><td>49713939</td><td>8556800</td><td>3493299</td></tr>\n",
       "</tbody>\n",
       "</table>\n"
      ],
      "text/latex": [
       "A matrix: 1 × 8 of type dbl\n",
       "\\begin{tabular}{r|llllllll}\n",
       "  & Min. & 1st Qu. & Median & Mean & 3rd Qu. & Max. & sd & sd\\_err\\_of\\_mean\\\\\n",
       "\\hline\n",
       "\tsequence\\_count & 859190 & 18641506 & 23607075 & 23840375 & 28478476 & 49713939 & 8556800 & 3493299\\\\\n",
       "\\end{tabular}\n"
      ],
      "text/markdown": [
       "\n",
       "A matrix: 1 × 8 of type dbl\n",
       "\n",
       "| <!--/--> | Min. | 1st Qu. | Median | Mean | 3rd Qu. | Max. | sd | sd_err_of_mean |\n",
       "|---|---|---|---|---|---|---|---|---|\n",
       "| sequence_count | 859190 | 18641506 | 23607075 | 23840375 | 28478476 | 49713939 | 8556800 | 3493299 |\n",
       "\n"
      ],
      "text/plain": [
       "               Min.   1st Qu.  Median   Mean     3rd Qu.  Max.     sd     \n",
       "sequence_count 859190 18641506 23607075 23840375 28478476 49713939 8556800\n",
       "               sd_err_of_mean\n",
       "sequence_count 3493299       "
      ]
     },
     "metadata": {},
     "output_type": "display_data"
    },
    {
     "data": {
      "text/html": [
       "<table class=\"dataframe\">\n",
       "<caption>A matrix: 1 × 8 of type dbl</caption>\n",
       "<thead>\n",
       "\t<tr><th></th><th scope=col>Min.</th><th scope=col>1st Qu.</th><th scope=col>Median</th><th scope=col>Mean</th><th scope=col>3rd Qu.</th><th scope=col>Max.</th><th scope=col>sd</th><th scope=col>sd_err_of_mean</th></tr>\n",
       "</thead>\n",
       "<tbody>\n",
       "\t<tr><th scope=row>average_length</th><td>186</td><td>300</td><td>300</td><td>290.5202</td><td>300</td><td>300</td><td>31.424</td><td>12.829</td></tr>\n",
       "</tbody>\n",
       "</table>\n"
      ],
      "text/latex": [
       "A matrix: 1 × 8 of type dbl\n",
       "\\begin{tabular}{r|llllllll}\n",
       "  & Min. & 1st Qu. & Median & Mean & 3rd Qu. & Max. & sd & sd\\_err\\_of\\_mean\\\\\n",
       "\\hline\n",
       "\taverage\\_length & 186 & 300 & 300 & 290.5202 & 300 & 300 & 31.424 & 12.829\\\\\n",
       "\\end{tabular}\n"
      ],
      "text/markdown": [
       "\n",
       "A matrix: 1 × 8 of type dbl\n",
       "\n",
       "| <!--/--> | Min. | 1st Qu. | Median | Mean | 3rd Qu. | Max. | sd | sd_err_of_mean |\n",
       "|---|---|---|---|---|---|---|---|---|\n",
       "| average_length | 186 | 300 | 300 | 290.5202 | 300 | 300 | 31.424 | 12.829 |\n",
       "\n"
      ],
      "text/plain": [
       "               Min. 1st Qu. Median Mean     3rd Qu. Max. sd     sd_err_of_mean\n",
       "average_length 186  300     300    290.5202 300     300  31.424 12.829        "
      ]
     },
     "metadata": {},
     "output_type": "display_data"
    }
   ],
   "source": [
    "# sequences\n",
    "summary_x(meta_f$sequence_count)\n",
    "summary_x(meta_f$average_length)"
   ]
  },
  {
   "cell_type": "code",
   "execution_count": 10,
   "metadata": {
    "ExecuteTime": {
     "end_time": "2022-08-27T13:55:16.510354Z",
     "start_time": "2022-08-27T13:55:15.076Z"
    }
   },
   "outputs": [
    {
     "data": {
      "text/html": [
       "<table class=\"dataframe\">\n",
       "<caption>A tidytable: 3 × 4</caption>\n",
       "<thead>\n",
       "\t<tr><th scope=col>project_name</th><th scope=col>n_samples</th><th scope=col>MarMDB_biome</th><th scope=col>MarMDB_material</th></tr>\n",
       "\t<tr><th scope=col>&lt;chr&gt;</th><th scope=col>&lt;int&gt;</th><th scope=col>&lt;chr&gt;</th><th scope=col>&lt;chr&gt;</th></tr>\n",
       "</thead>\n",
       "<tbody>\n",
       "\t<tr><td>Marine metagenomes from the bioGEOTRACES project</td><td>471</td><td>ocean</td><td>NA</td></tr>\n",
       "\t<tr><td>HOT ALOHA metagenomic time and depth series     </td><td> 76</td><td>ocean</td><td>NA</td></tr>\n",
       "\t<tr><td>Red Sea metagenomes                             </td><td> 45</td><td>ocean</td><td>NA</td></tr>\n",
       "</tbody>\n",
       "</table>\n"
      ],
      "text/latex": [
       "A tidytable: 3 × 4\n",
       "\\begin{tabular}{llll}\n",
       " project\\_name & n\\_samples & MarMDB\\_biome & MarMDB\\_material\\\\\n",
       " <chr> & <int> & <chr> & <chr>\\\\\n",
       "\\hline\n",
       "\t Marine metagenomes from the bioGEOTRACES project & 471 & ocean & NA\\\\\n",
       "\t HOT ALOHA metagenomic time and depth series      &  76 & ocean & NA\\\\\n",
       "\t Red Sea metagenomes                              &  45 & ocean & NA\\\\\n",
       "\\end{tabular}\n"
      ],
      "text/markdown": [
       "\n",
       "A tidytable: 3 × 4\n",
       "\n",
       "| project_name &lt;chr&gt; | n_samples &lt;int&gt; | MarMDB_biome &lt;chr&gt; | MarMDB_material &lt;chr&gt; |\n",
       "|---|---|---|---|\n",
       "| Marine metagenomes from the bioGEOTRACES project | 471 | ocean | NA |\n",
       "| HOT ALOHA metagenomic time and depth series      |  76 | ocean | NA |\n",
       "| Red Sea metagenomes                              |  45 | ocean | NA |\n",
       "\n"
      ],
      "text/plain": [
       "  project_name                                     n_samples MarMDB_biome\n",
       "1 Marine metagenomes from the bioGEOTRACES project 471       ocean       \n",
       "2 HOT ALOHA metagenomic time and depth series       76       ocean       \n",
       "3 Red Sea metagenomes                               45       ocean       \n",
       "  MarMDB_material\n",
       "1 NA             \n",
       "2 NA             \n",
       "3 NA             "
      ]
     },
     "metadata": {},
     "output_type": "display_data"
    }
   ],
   "source": [
    "# filtering by seq count\n",
    "meta_f = meta_f %>%\n",
    "    filter.(sequence_count < 5e8)\n",
    "\n",
    "df.dims(20)\n",
    "meta_f %>%\n",
    "    distinct.(project_name, n_samples, MarMDB_biome, MarMDB_material) %>%\n",
    "    arrange.(-n_samples)\n",
    "df.dims()"
   ]
  },
  {
   "cell_type": "code",
   "execution_count": 11,
   "metadata": {
    "ExecuteTime": {
     "end_time": "2022-08-27T13:55:16.578735Z",
     "start_time": "2022-08-27T13:55:15.077Z"
    }
   },
   "outputs": [
    {
     "data": {
      "text/html": [
       "<table class=\"dataframe\">\n",
       "<caption>A tidytable: 542 × 43</caption>\n",
       "<thead>\n",
       "\t<tr><th scope=col>library_id</th><th scope=col>project_id</th><th scope=col>sample_id</th><th scope=col>BioprojectID</th><th scope=col>PubmedID</th><th scope=col>project_name</th><th scope=col>creation_date</th><th scope=col>seq_platform</th><th scope=col>sequence_count</th><th scope=col>basepairs_count</th><th scope=col>⋯</th><th scope=col>MarMDB_oceanic_zone</th><th scope=col>MarMDB_oceanographic_phenomena</th><th scope=col>MarMDB_host_name</th><th scope=col>quality_above_30_SRA</th><th scope=col>mean_quality_SRA</th><th scope=col>source_database</th><th scope=col>average_length</th><th scope=col>assembled</th><th scope=col>n_samples</th><th scope=col>n_recs</th></tr>\n",
       "\t<tr><th scope=col>&lt;chr&gt;</th><th scope=col>&lt;chr&gt;</th><th scope=col>&lt;chr&gt;</th><th scope=col>&lt;chr&gt;</th><th scope=col>&lt;chr&gt;</th><th scope=col>&lt;chr&gt;</th><th scope=col>&lt;date&gt;</th><th scope=col>&lt;chr&gt;</th><th scope=col>&lt;dbl&gt;</th><th scope=col>&lt;dbl&gt;</th><th scope=col>⋯</th><th scope=col>&lt;chr&gt;</th><th scope=col>&lt;chr&gt;</th><th scope=col>&lt;chr&gt;</th><th scope=col>&lt;int&gt;</th><th scope=col>&lt;dbl&gt;</th><th scope=col>&lt;chr&gt;</th><th scope=col>&lt;int&gt;</th><th scope=col>&lt;chr&gt;</th><th scope=col>&lt;int&gt;</th><th scope=col>&lt;int&gt;</th></tr>\n",
       "</thead>\n",
       "<tbody>\n",
       "\t<tr><td>SRR2102994</td><td>SRX1097575</td><td>SRS992694</td><td>289734</td><td>27377622,27</td><td>Red Sea metagenomes</td><td>2015-12-31</td><td>ILLUMINA</td><td> 9560317</td><td>1778218962</td><td>⋯</td><td>NA</td><td>NA</td><td>NA</td><td>88</td><td>34.88</td><td>SRA</td><td>186</td><td>No</td><td>45</td><td>1</td></tr>\n",
       "\t<tr><td>SRR2102995</td><td>SRX1097576</td><td>SRS992693</td><td>289734</td><td>27377622,27</td><td>Red Sea metagenomes</td><td>2015-12-31</td><td>ILLUMINA</td><td>13471221</td><td>2505647106</td><td>⋯</td><td>NA</td><td>NA</td><td>NA</td><td>88</td><td>34.90</td><td>SRA</td><td>186</td><td>No</td><td>45</td><td>1</td></tr>\n",
       "\t<tr><td>⋮</td><td>⋮</td><td>⋮</td><td>⋮</td><td>⋮</td><td>⋮</td><td>⋮</td><td>⋮</td><td>⋮</td><td>⋮</td><td>⋱</td><td>⋮</td><td>⋮</td><td>⋮</td><td>⋮</td><td>⋮</td><td>⋮</td><td>⋮</td><td>⋮</td><td>⋮</td><td>⋮</td></tr>\n",
       "\t<tr><td>SRR5788467</td><td>SRX2974745</td><td>SRS2329754</td><td>385854</td><td>NA</td><td>Marine metagenomes from the bioGEOTRACES project</td><td>2018-05-01</td><td>ILLUMINA</td><td>18234842</td><td>5470452600</td><td>⋯</td><td>NA</td><td>NA</td><td>NA</td><td>83</td><td>32.34</td><td>SRA</td><td>300</td><td>No</td><td>471</td><td>1</td></tr>\n",
       "\t<tr><td>SRR5788468</td><td>SRX2974744</td><td>SRS2329753</td><td>385854</td><td>NA</td><td>Marine metagenomes from the bioGEOTRACES project</td><td>2018-05-01</td><td>ILLUMINA</td><td>23750415</td><td>7125124500</td><td>⋯</td><td>NA</td><td>NA</td><td>NA</td><td>82</td><td>32.14</td><td>SRA</td><td>300</td><td>No</td><td>471</td><td>1</td></tr>\n",
       "</tbody>\n",
       "</table>\n"
      ],
      "text/latex": [
       "A tidytable: 542 × 43\n",
       "\\begin{tabular}{lllllllllllllllllllll}\n",
       " library\\_id & project\\_id & sample\\_id & BioprojectID & PubmedID & project\\_name & creation\\_date & seq\\_platform & sequence\\_count & basepairs\\_count & ⋯ & MarMDB\\_oceanic\\_zone & MarMDB\\_oceanographic\\_phenomena & MarMDB\\_host\\_name & quality\\_above\\_30\\_SRA & mean\\_quality\\_SRA & source\\_database & average\\_length & assembled & n\\_samples & n\\_recs\\\\\n",
       " <chr> & <chr> & <chr> & <chr> & <chr> & <chr> & <date> & <chr> & <dbl> & <dbl> & ⋯ & <chr> & <chr> & <chr> & <int> & <dbl> & <chr> & <int> & <chr> & <int> & <int>\\\\\n",
       "\\hline\n",
       "\t SRR2102994 & SRX1097575 & SRS992694 & 289734 & 27377622,27 & Red Sea metagenomes & 2015-12-31 & ILLUMINA &  9560317 & 1778218962 & ⋯ & NA & NA & NA & 88 & 34.88 & SRA & 186 & No & 45 & 1\\\\\n",
       "\t SRR2102995 & SRX1097576 & SRS992693 & 289734 & 27377622,27 & Red Sea metagenomes & 2015-12-31 & ILLUMINA & 13471221 & 2505647106 & ⋯ & NA & NA & NA & 88 & 34.90 & SRA & 186 & No & 45 & 1\\\\\n",
       "\t ⋮ & ⋮ & ⋮ & ⋮ & ⋮ & ⋮ & ⋮ & ⋮ & ⋮ & ⋮ & ⋱ & ⋮ & ⋮ & ⋮ & ⋮ & ⋮ & ⋮ & ⋮ & ⋮ & ⋮ & ⋮\\\\\n",
       "\t SRR5788467 & SRX2974745 & SRS2329754 & 385854 & NA & Marine metagenomes from the bioGEOTRACES project & 2018-05-01 & ILLUMINA & 18234842 & 5470452600 & ⋯ & NA & NA & NA & 83 & 32.34 & SRA & 300 & No & 471 & 1\\\\\n",
       "\t SRR5788468 & SRX2974744 & SRS2329753 & 385854 & NA & Marine metagenomes from the bioGEOTRACES project & 2018-05-01 & ILLUMINA & 23750415 & 7125124500 & ⋯ & NA & NA & NA & 82 & 32.14 & SRA & 300 & No & 471 & 1\\\\\n",
       "\\end{tabular}\n"
      ],
      "text/markdown": [
       "\n",
       "A tidytable: 542 × 43\n",
       "\n",
       "| library_id &lt;chr&gt; | project_id &lt;chr&gt; | sample_id &lt;chr&gt; | BioprojectID &lt;chr&gt; | PubmedID &lt;chr&gt; | project_name &lt;chr&gt; | creation_date &lt;date&gt; | seq_platform &lt;chr&gt; | sequence_count &lt;dbl&gt; | basepairs_count &lt;dbl&gt; | ⋯ ⋯ | MarMDB_oceanic_zone &lt;chr&gt; | MarMDB_oceanographic_phenomena &lt;chr&gt; | MarMDB_host_name &lt;chr&gt; | quality_above_30_SRA &lt;int&gt; | mean_quality_SRA &lt;dbl&gt; | source_database &lt;chr&gt; | average_length &lt;int&gt; | assembled &lt;chr&gt; | n_samples &lt;int&gt; | n_recs &lt;int&gt; |\n",
       "|---|---|---|---|---|---|---|---|---|---|---|---|---|---|---|---|---|---|---|---|---|\n",
       "| SRR2102994 | SRX1097575 | SRS992694 | 289734 | 27377622,27 | Red Sea metagenomes | 2015-12-31 | ILLUMINA |  9560317 | 1778218962 | ⋯ | NA | NA | NA | 88 | 34.88 | SRA | 186 | No | 45 | 1 |\n",
       "| SRR2102995 | SRX1097576 | SRS992693 | 289734 | 27377622,27 | Red Sea metagenomes | 2015-12-31 | ILLUMINA | 13471221 | 2505647106 | ⋯ | NA | NA | NA | 88 | 34.90 | SRA | 186 | No | 45 | 1 |\n",
       "| ⋮ | ⋮ | ⋮ | ⋮ | ⋮ | ⋮ | ⋮ | ⋮ | ⋮ | ⋮ | ⋱ | ⋮ | ⋮ | ⋮ | ⋮ | ⋮ | ⋮ | ⋮ | ⋮ | ⋮ | ⋮ |\n",
       "| SRR5788467 | SRX2974745 | SRS2329754 | 385854 | NA | Marine metagenomes from the bioGEOTRACES project | 2018-05-01 | ILLUMINA | 18234842 | 5470452600 | ⋯ | NA | NA | NA | 83 | 32.34 | SRA | 300 | No | 471 | 1 |\n",
       "| SRR5788468 | SRX2974744 | SRS2329753 | 385854 | NA | Marine metagenomes from the bioGEOTRACES project | 2018-05-01 | ILLUMINA | 23750415 | 7125124500 | ⋯ | NA | NA | NA | 82 | 32.14 | SRA | 300 | No | 471 | 1 |\n",
       "\n"
      ],
      "text/plain": [
       "    library_id project_id sample_id  BioprojectID PubmedID   \n",
       "1   SRR2102994 SRX1097575 SRS992694  289734       27377622,27\n",
       "2   SRR2102995 SRX1097576 SRS992693  289734       27377622,27\n",
       "⋮   ⋮          ⋮          ⋮          ⋮            ⋮          \n",
       "541 SRR5788467 SRX2974745 SRS2329754 385854       NA         \n",
       "542 SRR5788468 SRX2974744 SRS2329753 385854       NA         \n",
       "    project_name                                     creation_date seq_platform\n",
       "1   Red Sea metagenomes                              2015-12-31    ILLUMINA    \n",
       "2   Red Sea metagenomes                              2015-12-31    ILLUMINA    \n",
       "⋮   ⋮                                                ⋮             ⋮           \n",
       "541 Marine metagenomes from the bioGEOTRACES project 2018-05-01    ILLUMINA    \n",
       "542 Marine metagenomes from the bioGEOTRACES project 2018-05-01    ILLUMINA    \n",
       "    sequence_count basepairs_count ⋯ MarMDB_oceanic_zone\n",
       "1    9560317       1778218962      ⋯ NA                 \n",
       "2   13471221       2505647106      ⋯ NA                 \n",
       "⋮   ⋮              ⋮               ⋱ ⋮                  \n",
       "541 18234842       5470452600      ⋯ NA                 \n",
       "542 23750415       7125124500      ⋯ NA                 \n",
       "    MarMDB_oceanographic_phenomena MarMDB_host_name quality_above_30_SRA\n",
       "1   NA                             NA               88                  \n",
       "2   NA                             NA               88                  \n",
       "⋮   ⋮                              ⋮                ⋮                   \n",
       "541 NA                             NA               83                  \n",
       "542 NA                             NA               82                  \n",
       "    mean_quality_SRA source_database average_length assembled n_samples n_recs\n",
       "1   34.88            SRA             186            No        45        1     \n",
       "2   34.90            SRA             186            No        45        1     \n",
       "⋮   ⋮                ⋮               ⋮              ⋮         ⋮         ⋮     \n",
       "541 32.34            SRA             300            No        471       1     \n",
       "542 32.14            SRA             300            No        471       1     "
      ]
     },
     "metadata": {},
     "output_type": "display_data"
    }
   ],
   "source": [
    "# filtering by unique sample ID\n",
    "meta_f = meta_f %>%\n",
    "    mutate.(n_recs = n.(), .by = c(sample_id)) %>%\n",
    "    filter.(n_recs == 1)\n",
    "meta_f"
   ]
  },
  {
   "cell_type": "code",
   "execution_count": 12,
   "metadata": {
    "ExecuteTime": {
     "end_time": "2022-08-27T13:55:16.628278Z",
     "start_time": "2022-08-27T13:55:15.077Z"
    }
   },
   "outputs": [
    {
     "data": {
      "text/html": [
       "<table class=\"dataframe\">\n",
       "<caption>A tidytable: 3 × 4</caption>\n",
       "<thead>\n",
       "\t<tr><th scope=col>project_name</th><th scope=col>n_samples</th><th scope=col>MarMDB_biome</th><th scope=col>MarMDB_material</th></tr>\n",
       "\t<tr><th scope=col>&lt;chr&gt;</th><th scope=col>&lt;int&gt;</th><th scope=col>&lt;chr&gt;</th><th scope=col>&lt;chr&gt;</th></tr>\n",
       "</thead>\n",
       "<tbody>\n",
       "\t<tr><td>Red Sea metagenomes                             </td><td>40</td><td>ocean</td><td>NA</td></tr>\n",
       "\t<tr><td>Marine metagenomes from the bioGEOTRACES project</td><td>40</td><td>ocean</td><td>NA</td></tr>\n",
       "\t<tr><td>HOT ALOHA metagenomic time and depth series     </td><td>26</td><td>ocean</td><td>NA</td></tr>\n",
       "</tbody>\n",
       "</table>\n"
      ],
      "text/latex": [
       "A tidytable: 3 × 4\n",
       "\\begin{tabular}{llll}\n",
       " project\\_name & n\\_samples & MarMDB\\_biome & MarMDB\\_material\\\\\n",
       " <chr> & <int> & <chr> & <chr>\\\\\n",
       "\\hline\n",
       "\t Red Sea metagenomes                              & 40 & ocean & NA\\\\\n",
       "\t Marine metagenomes from the bioGEOTRACES project & 40 & ocean & NA\\\\\n",
       "\t HOT ALOHA metagenomic time and depth series      & 26 & ocean & NA\\\\\n",
       "\\end{tabular}\n"
      ],
      "text/markdown": [
       "\n",
       "A tidytable: 3 × 4\n",
       "\n",
       "| project_name &lt;chr&gt; | n_samples &lt;int&gt; | MarMDB_biome &lt;chr&gt; | MarMDB_material &lt;chr&gt; |\n",
       "|---|---|---|---|\n",
       "| Red Sea metagenomes                              | 40 | ocean | NA |\n",
       "| Marine metagenomes from the bioGEOTRACES project | 40 | ocean | NA |\n",
       "| HOT ALOHA metagenomic time and depth series      | 26 | ocean | NA |\n",
       "\n"
      ],
      "text/plain": [
       "  project_name                                     n_samples MarMDB_biome\n",
       "1 Red Sea metagenomes                              40        ocean       \n",
       "2 Marine metagenomes from the bioGEOTRACES project 40        ocean       \n",
       "3 HOT ALOHA metagenomic time and depth series      26        ocean       \n",
       "  MarMDB_material\n",
       "1 NA             \n",
       "2 NA             \n",
       "3 NA             "
      ]
     },
     "metadata": {},
     "output_type": "display_data"
    }
   ],
   "source": [
    "# subsampling\n",
    "meta_f = meta_f %>%\n",
    "    slice_sample.(40, .by = c(project_name)) %>%\n",
    "    mutate.(n_samples = sample_id %>% unique %>% length, \n",
    "            .by = c(project_name)) \n",
    "\n",
    "df.dims(20)\n",
    "meta_f %>%\n",
    "    distinct.(project_name, n_samples, MarMDB_biome, MarMDB_material) %>%\n",
    "    arrange.(-n_samples)\n",
    "df.dims()"
   ]
  },
  {
   "cell_type": "markdown",
   "metadata": {
    "ExecuteTime": {
     "end_time": "2022-08-27T13:49:32.275606Z",
     "start_time": "2022-08-27T13:49:32.050Z"
    }
   },
   "source": [
    "### Writing samples table"
   ]
  },
  {
   "cell_type": "code",
   "execution_count": 13,
   "metadata": {
    "ExecuteTime": {
     "end_time": "2022-08-27T13:55:16.704056Z",
     "start_time": "2022-08-27T13:55:15.078Z"
    }
   },
   "outputs": [
    {
     "data": {
      "text/html": [
       "<table class=\"dataframe\">\n",
       "<caption>A tidytable: 106 × 48</caption>\n",
       "<thead>\n",
       "\t<tr><th scope=col>Project</th><th scope=col>Sample</th><th scope=col>Remote</th><th scope=col>Run</th><th scope=col>Lane</th><th scope=col>library_id</th><th scope=col>project_id</th><th scope=col>sample_id</th><th scope=col>BioprojectID</th><th scope=col>PubmedID</th><th scope=col>⋯</th><th scope=col>MarMDB_oceanic_zone</th><th scope=col>MarMDB_oceanographic_phenomena</th><th scope=col>MarMDB_host_name</th><th scope=col>quality_above_30_SRA</th><th scope=col>mean_quality_SRA</th><th scope=col>source_database</th><th scope=col>average_length</th><th scope=col>assembled</th><th scope=col>n_samples</th><th scope=col>n_recs</th></tr>\n",
       "\t<tr><th scope=col>&lt;chr&gt;</th><th scope=col>&lt;chr&gt;</th><th scope=col>&lt;chr&gt;</th><th scope=col>&lt;dbl&gt;</th><th scope=col>&lt;dbl&gt;</th><th scope=col>&lt;chr&gt;</th><th scope=col>&lt;chr&gt;</th><th scope=col>&lt;chr&gt;</th><th scope=col>&lt;chr&gt;</th><th scope=col>&lt;chr&gt;</th><th scope=col>⋯</th><th scope=col>&lt;chr&gt;</th><th scope=col>&lt;chr&gt;</th><th scope=col>&lt;chr&gt;</th><th scope=col>&lt;int&gt;</th><th scope=col>&lt;dbl&gt;</th><th scope=col>&lt;chr&gt;</th><th scope=col>&lt;int&gt;</th><th scope=col>&lt;chr&gt;</th><th scope=col>&lt;int&gt;</th><th scope=col>&lt;int&gt;</th></tr>\n",
       "</thead>\n",
       "<tbody>\n",
       "\t<tr><td>Red_Sea_metagenomes</td><td>SRS992687</td><td>SRR2103001</td><td>1</td><td>1</td><td>SRR2103001</td><td>SRX1097582</td><td>SRS992687</td><td>289734</td><td>27377622,27</td><td>⋯</td><td>NA</td><td>NA</td><td>NA</td><td>85</td><td>34.08</td><td>SRA</td><td>186</td><td>No</td><td>40</td><td>1</td></tr>\n",
       "\t<tr><td>Red_Sea_metagenomes</td><td>SRS992704</td><td>SRR2103016</td><td>1</td><td>1</td><td>SRR2103016</td><td>SRX1097597</td><td>SRS992704</td><td>289734</td><td>27377622,27</td><td>⋯</td><td>NA</td><td>NA</td><td>NA</td><td>86</td><td>34.30</td><td>SRA</td><td>186</td><td>No</td><td>40</td><td>1</td></tr>\n",
       "\t<tr><td>⋮</td><td>⋮</td><td>⋮</td><td>⋮</td><td>⋮</td><td>⋮</td><td>⋮</td><td>⋮</td><td>⋮</td><td>⋮</td><td>⋱</td><td>⋮</td><td>⋮</td><td>⋮</td><td>⋮</td><td>⋮</td><td>⋮</td><td>⋮</td><td>⋮</td><td>⋮</td><td>⋮</td></tr>\n",
       "\t<tr><td>Marine_metagenomes_from_the_bioGEOTRACES_project</td><td>SRS2329824</td><td>SRR5788396</td><td>1</td><td>1</td><td>SRR5788396</td><td>SRX2974816</td><td>SRS2329824</td><td>385854</td><td>NA</td><td>⋯</td><td>NA</td><td>NA</td><td>NA</td><td>85</td><td>32.69</td><td>SRA</td><td>300</td><td>No</td><td>40</td><td>1</td></tr>\n",
       "\t<tr><td>Marine_metagenomes_from_the_bioGEOTRACES_project</td><td>SRS2329594</td><td>SRR5788145</td><td>1</td><td>1</td><td>SRR5788145</td><td>SRX2974587</td><td>SRS2329594</td><td>385854</td><td>NA</td><td>⋯</td><td>NA</td><td>NA</td><td>NA</td><td>75</td><td>31.55</td><td>SRA</td><td>300</td><td>No</td><td>40</td><td>1</td></tr>\n",
       "</tbody>\n",
       "</table>\n"
      ],
      "text/latex": [
       "A tidytable: 106 × 48\n",
       "\\begin{tabular}{lllllllllllllllllllll}\n",
       " Project & Sample & Remote & Run & Lane & library\\_id & project\\_id & sample\\_id & BioprojectID & PubmedID & ⋯ & MarMDB\\_oceanic\\_zone & MarMDB\\_oceanographic\\_phenomena & MarMDB\\_host\\_name & quality\\_above\\_30\\_SRA & mean\\_quality\\_SRA & source\\_database & average\\_length & assembled & n\\_samples & n\\_recs\\\\\n",
       " <chr> & <chr> & <chr> & <dbl> & <dbl> & <chr> & <chr> & <chr> & <chr> & <chr> & ⋯ & <chr> & <chr> & <chr> & <int> & <dbl> & <chr> & <int> & <chr> & <int> & <int>\\\\\n",
       "\\hline\n",
       "\t Red\\_Sea\\_metagenomes & SRS992687 & SRR2103001 & 1 & 1 & SRR2103001 & SRX1097582 & SRS992687 & 289734 & 27377622,27 & ⋯ & NA & NA & NA & 85 & 34.08 & SRA & 186 & No & 40 & 1\\\\\n",
       "\t Red\\_Sea\\_metagenomes & SRS992704 & SRR2103016 & 1 & 1 & SRR2103016 & SRX1097597 & SRS992704 & 289734 & 27377622,27 & ⋯ & NA & NA & NA & 86 & 34.30 & SRA & 186 & No & 40 & 1\\\\\n",
       "\t ⋮ & ⋮ & ⋮ & ⋮ & ⋮ & ⋮ & ⋮ & ⋮ & ⋮ & ⋮ & ⋱ & ⋮ & ⋮ & ⋮ & ⋮ & ⋮ & ⋮ & ⋮ & ⋮ & ⋮ & ⋮\\\\\n",
       "\t Marine\\_metagenomes\\_from\\_the\\_bioGEOTRACES\\_project & SRS2329824 & SRR5788396 & 1 & 1 & SRR5788396 & SRX2974816 & SRS2329824 & 385854 & NA & ⋯ & NA & NA & NA & 85 & 32.69 & SRA & 300 & No & 40 & 1\\\\\n",
       "\t Marine\\_metagenomes\\_from\\_the\\_bioGEOTRACES\\_project & SRS2329594 & SRR5788145 & 1 & 1 & SRR5788145 & SRX2974587 & SRS2329594 & 385854 & NA & ⋯ & NA & NA & NA & 75 & 31.55 & SRA & 300 & No & 40 & 1\\\\\n",
       "\\end{tabular}\n"
      ],
      "text/markdown": [
       "\n",
       "A tidytable: 106 × 48\n",
       "\n",
       "| Project &lt;chr&gt; | Sample &lt;chr&gt; | Remote &lt;chr&gt; | Run &lt;dbl&gt; | Lane &lt;dbl&gt; | library_id &lt;chr&gt; | project_id &lt;chr&gt; | sample_id &lt;chr&gt; | BioprojectID &lt;chr&gt; | PubmedID &lt;chr&gt; | ⋯ ⋯ | MarMDB_oceanic_zone &lt;chr&gt; | MarMDB_oceanographic_phenomena &lt;chr&gt; | MarMDB_host_name &lt;chr&gt; | quality_above_30_SRA &lt;int&gt; | mean_quality_SRA &lt;dbl&gt; | source_database &lt;chr&gt; | average_length &lt;int&gt; | assembled &lt;chr&gt; | n_samples &lt;int&gt; | n_recs &lt;int&gt; |\n",
       "|---|---|---|---|---|---|---|---|---|---|---|---|---|---|---|---|---|---|---|---|---|\n",
       "| Red_Sea_metagenomes | SRS992687 | SRR2103001 | 1 | 1 | SRR2103001 | SRX1097582 | SRS992687 | 289734 | 27377622,27 | ⋯ | NA | NA | NA | 85 | 34.08 | SRA | 186 | No | 40 | 1 |\n",
       "| Red_Sea_metagenomes | SRS992704 | SRR2103016 | 1 | 1 | SRR2103016 | SRX1097597 | SRS992704 | 289734 | 27377622,27 | ⋯ | NA | NA | NA | 86 | 34.30 | SRA | 186 | No | 40 | 1 |\n",
       "| ⋮ | ⋮ | ⋮ | ⋮ | ⋮ | ⋮ | ⋮ | ⋮ | ⋮ | ⋮ | ⋱ | ⋮ | ⋮ | ⋮ | ⋮ | ⋮ | ⋮ | ⋮ | ⋮ | ⋮ | ⋮ |\n",
       "| Marine_metagenomes_from_the_bioGEOTRACES_project | SRS2329824 | SRR5788396 | 1 | 1 | SRR5788396 | SRX2974816 | SRS2329824 | 385854 | NA | ⋯ | NA | NA | NA | 85 | 32.69 | SRA | 300 | No | 40 | 1 |\n",
       "| Marine_metagenomes_from_the_bioGEOTRACES_project | SRS2329594 | SRR5788145 | 1 | 1 | SRR5788145 | SRX2974587 | SRS2329594 | 385854 | NA | ⋯ | NA | NA | NA | 75 | 31.55 | SRA | 300 | No | 40 | 1 |\n",
       "\n"
      ],
      "text/plain": [
       "    Project                                          Sample     Remote     Run\n",
       "1   Red_Sea_metagenomes                              SRS992687  SRR2103001 1  \n",
       "2   Red_Sea_metagenomes                              SRS992704  SRR2103016 1  \n",
       "⋮   ⋮                                                ⋮          ⋮          ⋮  \n",
       "105 Marine_metagenomes_from_the_bioGEOTRACES_project SRS2329824 SRR5788396 1  \n",
       "106 Marine_metagenomes_from_the_bioGEOTRACES_project SRS2329594 SRR5788145 1  \n",
       "    Lane library_id project_id sample_id  BioprojectID PubmedID    ⋯\n",
       "1   1    SRR2103001 SRX1097582 SRS992687  289734       27377622,27 ⋯\n",
       "2   1    SRR2103016 SRX1097597 SRS992704  289734       27377622,27 ⋯\n",
       "⋮   ⋮    ⋮          ⋮          ⋮          ⋮            ⋮           ⋱\n",
       "105 1    SRR5788396 SRX2974816 SRS2329824 385854       NA          ⋯\n",
       "106 1    SRR5788145 SRX2974587 SRS2329594 385854       NA          ⋯\n",
       "    MarMDB_oceanic_zone MarMDB_oceanographic_phenomena MarMDB_host_name\n",
       "1   NA                  NA                             NA              \n",
       "2   NA                  NA                             NA              \n",
       "⋮   ⋮                   ⋮                              ⋮               \n",
       "105 NA                  NA                             NA              \n",
       "106 NA                  NA                             NA              \n",
       "    quality_above_30_SRA mean_quality_SRA source_database average_length\n",
       "1   85                   34.08            SRA             186           \n",
       "2   86                   34.30            SRA             186           \n",
       "⋮   ⋮                    ⋮                ⋮               ⋮             \n",
       "105 85                   32.69            SRA             300           \n",
       "106 75                   31.55            SRA             300           \n",
       "    assembled n_samples n_recs\n",
       "1   No        40        1     \n",
       "2   No        40        1     \n",
       "⋮   ⋮         ⋮         ⋮     \n",
       "105 No        40        1     \n",
       "106 No        40        1     "
      ]
     },
     "metadata": {},
     "output_type": "display_data"
    }
   ],
   "source": [
    "# formatting\n",
    "samps = meta_f %>%\n",
    "    mutate.(Project = gsub('[^A-Za-z0-9_-]+', '_', project_name)) %>%\n",
    "    mutate.(Sample = sample_id,\n",
    "            Remote = library_id, \n",
    "            Run = 1,\n",
    "            Lane = 1) %>%\n",
    "    relocate(Lane) %>%\n",
    "    relocate(Run) %>%\n",
    "    relocate(Remote)%>%\n",
    "    relocate(Sample)%>%\n",
    "    relocate(Project)\n",
    "samps"
   ]
  },
  {
   "cell_type": "code",
   "execution_count": 17,
   "metadata": {
    "ExecuteTime": {
     "end_time": "2022-08-27T13:55:19.905205Z",
     "start_time": "2022-08-27T13:55:19.755Z"
    }
   },
   "outputs": [
    {
     "data": {
      "text/html": [
       "<table class=\"dataframe\">\n",
       "<caption>A matrix: 1 × 8 of type dbl</caption>\n",
       "<thead>\n",
       "\t<tr><th></th><th scope=col>Min.</th><th scope=col>1st Qu.</th><th scope=col>Median</th><th scope=col>Mean</th><th scope=col>3rd Qu.</th><th scope=col>Max.</th><th scope=col>sd</th><th scope=col>sd_err_of_mean</th></tr>\n",
       "</thead>\n",
       "<tbody>\n",
       "\t<tr><th scope=row>No. of records per sample_id</th><td>1</td><td>1</td><td>1</td><td>1</td><td>1</td><td>1</td><td>0</td><td>0</td></tr>\n",
       "</tbody>\n",
       "</table>\n"
      ],
      "text/latex": [
       "A matrix: 1 × 8 of type dbl\n",
       "\\begin{tabular}{r|llllllll}\n",
       "  & Min. & 1st Qu. & Median & Mean & 3rd Qu. & Max. & sd & sd\\_err\\_of\\_mean\\\\\n",
       "\\hline\n",
       "\tNo. of records per sample\\_id & 1 & 1 & 1 & 1 & 1 & 1 & 0 & 0\\\\\n",
       "\\end{tabular}\n"
      ],
      "text/markdown": [
       "\n",
       "A matrix: 1 × 8 of type dbl\n",
       "\n",
       "| <!--/--> | Min. | 1st Qu. | Median | Mean | 3rd Qu. | Max. | sd | sd_err_of_mean |\n",
       "|---|---|---|---|---|---|---|---|---|\n",
       "| No. of records per sample_id | 1 | 1 | 1 | 1 | 1 | 1 | 0 | 0 |\n",
       "\n"
      ],
      "text/plain": [
       "                             Min. 1st Qu. Median Mean 3rd Qu. Max. sd\n",
       "No. of records per sample_id 1    1       1      1    1       1    0 \n",
       "                             sd_err_of_mean\n",
       "No. of records per sample_id 0             "
      ]
     },
     "metadata": {},
     "output_type": "display_data"
    },
    {
     "data": {
      "text/html": [
       "<table class=\"dataframe\">\n",
       "<caption>A matrix: 1 × 8 of type dbl</caption>\n",
       "<thead>\n",
       "\t<tr><th></th><th scope=col>Min.</th><th scope=col>1st Qu.</th><th scope=col>Median</th><th scope=col>Mean</th><th scope=col>3rd Qu.</th><th scope=col>Max.</th><th scope=col>sd</th><th scope=col>sd_err_of_mean</th></tr>\n",
       "</thead>\n",
       "<tbody>\n",
       "\t<tr><th scope=row>No. of records per library_id</th><td>1</td><td>1</td><td>1</td><td>1</td><td>1</td><td>1</td><td>0</td><td>0</td></tr>\n",
       "</tbody>\n",
       "</table>\n"
      ],
      "text/latex": [
       "A matrix: 1 × 8 of type dbl\n",
       "\\begin{tabular}{r|llllllll}\n",
       "  & Min. & 1st Qu. & Median & Mean & 3rd Qu. & Max. & sd & sd\\_err\\_of\\_mean\\\\\n",
       "\\hline\n",
       "\tNo. of records per library\\_id & 1 & 1 & 1 & 1 & 1 & 1 & 0 & 0\\\\\n",
       "\\end{tabular}\n"
      ],
      "text/markdown": [
       "\n",
       "A matrix: 1 × 8 of type dbl\n",
       "\n",
       "| <!--/--> | Min. | 1st Qu. | Median | Mean | 3rd Qu. | Max. | sd | sd_err_of_mean |\n",
       "|---|---|---|---|---|---|---|---|---|\n",
       "| No. of records per library_id | 1 | 1 | 1 | 1 | 1 | 1 | 0 | 0 |\n",
       "\n"
      ],
      "text/plain": [
       "                              Min. 1st Qu. Median Mean 3rd Qu. Max. sd\n",
       "No. of records per library_id 1    1       1      1    1       1    0 \n",
       "                              sd_err_of_mean\n",
       "No. of records per library_id 0             "
      ]
     },
     "metadata": {},
     "output_type": "display_data"
    }
   ],
   "source": [
    "# unique records?\n",
    "samps %>%\n",
    "    summarize.(n_recs = n.(), .by = c(sample_id)) %>%\n",
    "    .$n_recs %>% summary_x('No. of records per sample_id')\n",
    "\n",
    "# unique records?\n",
    "samps %>%\n",
    "    summarize.(n_recs = n.(), .by = c(library_id)) %>%\n",
    "    .$n_recs %>% summary_x('No. of records per library_id')"
   ]
  },
  {
   "cell_type": "code",
   "execution_count": 15,
   "metadata": {
    "ExecuteTime": {
     "end_time": "2022-08-27T13:55:16.804771Z",
     "start_time": "2022-08-27T13:55:15.079Z"
    }
   },
   "outputs": [
    {
     "name": "stdout",
     "output_type": "stream",
     "text": [
      "Directory already exists: /ebio/abt3_projects/databases_no-backup/DeepMAsED/version2/real_data_eval/marmdb//LLMGQC \n",
      "File written: /ebio/abt3_projects/databases_no-backup/DeepMAsED/version2/real_data_eval/marmdb//LLMGQC/samples.tsv \n"
     ]
    }
   ],
   "source": [
    "# writing\n",
    "D = file.path(work_dir, 'LLMGQC')\n",
    "make_dir(D)\n",
    "F = file.path(D, 'samples.tsv')\n",
    "write_table(samps, F)"
   ]
  },
  {
   "cell_type": "markdown",
   "metadata": {},
   "source": [
    "# Sequence download & QC"
   ]
  },
  {
   "cell_type": "markdown",
   "metadata": {
    "ExecuteTime": {
     "end_time": "2022-08-27T13:52:30.272249Z",
     "start_time": "2022-08-27T13:52:30.156Z"
    }
   },
   "source": [
    "## LLMGQC pipeline"
   ]
  },
  {
   "cell_type": "markdown",
   "metadata": {},
   "source": [
    "### Config"
   ]
  },
  {
   "cell_type": "code",
   "execution_count": 23,
   "metadata": {
    "ExecuteTime": {
     "end_time": "2022-09-19T15:25:36.650352Z",
     "start_time": "2022-09-19T15:25:36.514Z"
    }
   },
   "outputs": [
    {
     "name": "stdout",
     "output_type": "stream",
     "text": [
      "#-- I/O --#\n",
      "# table with sample --> read_file information\n",
      "samples_file: /ebio/abt3_projects/databases_no-backup/DeepMAsED/version2/real_data_eval/marmdb/LLMGQC/samples.tsv\n",
      "\n",
      "# output location\n",
      "output_dir: /ebio/abt3_projects/databases_no-backup/DeepMAsED/version2/real_data_eval/marmdb/LLMGQC/\n",
      "\n",
      "# temporary file directory (your username will be added automatically)\n",
      "tmp_dir: /ebio/abt3_scratch/\n",
      "\n",
      "# ionice for reducing I/O load (use \"-c 2\" for noraml I/O usage) \n",
      "ionice: -c 3 \n",
      "\n",
      "#-- Software parameters --#\n",
      "# See the README for info on all major parameters\n",
      "# Use \"Skip\" to skip any of these steps. If no params for rule, use: \"\"\n",
      "params:\n",
      "  just_read1: False\n",
      "  download:\n",
      "    dump: --dump-method fasterq-dump --use-prefetch --bufsize 50M\n",
      "  initial_checks:\n",
      "    validate_reads: \"\"\n",
      "    convert_fastq_to_1.8: \"\"\n",
      "  subsample:\n",
      "    num_reads: 5000000\n",
      "  raw:\n",
      "    seqkit: \"\"\n",
      "    fastqc: \"\"\n",
      "  deduplication:\n",
      "    clumpify: Skip #dedupe=t dupedist=40 optical=t spany=t adjacent=t\n",
      "    seqkit: \"\"\n",
      "    fastqc: \"\"\n",
      "  quality:      \n",
      "    bbduk: ref=./adapters/bbmap_adapters.fa fastawrap=300 k=23 qin=33\n",
      "    skewer: -x ./adapters/PE_all.fa -n -l 80 -q 25\n",
      "    seqkit: \"\"\n",
      "    fastqc: \"\"\n",
      "  filter:       \n",
      "    bbmap: minratio=0.9 maxindel=1 bwr=0.16 bw=12 fast minhits=2 qtrim=r trimq=10 untrim\n",
      "           idtag printunmappedcount kfilter=25 maxsites=1 k=14 pairlen=1000 rescuedist=1000\n",
      "    ikraken2: Skip #--confidence 0.7\n",
      "    seqkit: \"\"\n",
      "    fastqc: \"\"\n",
      "  final:\n",
      "    seqkit: \"\"\n",
      "    fastqc: \"\"\n",
      "  coverage:\n",
      "    nonpareil: -T kmer\n",
      "    nonpareil_summary: 1e9      \n",
      "  skip_all:\n",
      "    seqkit: False\n",
      "    fastqc: False\n",
      "    QC: False\n",
      "\n",
      "#-- Databases --#\n",
      "databases:\n",
      "  ## hg19 = human genome database for filtering out human reads\n",
      "  bbmap: /ebio/abt3_projects/databases_no-backup/Homo_sapiens/hg19/hg19\n",
      "  # ikraken2 (iterative kraken2-based read filtering)\n",
      "  ikraken2:  \n",
      "    animal_genomes: /ebio/abt3_projects/databases_no-backup/kraken2/animal_gut_microbiome_200908_db/kraken2/\n",
      "    vertebrate_all_nt: /ebio/abt3_projects/databases_no-backup/kraken2/vertebrata-all_nt_db/\n",
      "    plant: /ebio/abt3_projects/databases_no-backup/kraken2/plant_db/\n",
      "    fungi:  /ebio/abt3_projects/databases_no-backup/kraken2/fungi_db/\n",
      "    protozoa: /ebio/abt3_projects/databases_no-backup/kraken2/protozoa_db/\n",
      "    human: /ebio/abt3_projects/databases_no-backup/kraken2/human_db/\n",
      "    univec: /ebio/abt3_projects/databases_no-backup/kraken2/UniVec_Core_db/\n",
      "\n",
      "#-- Snakemake pipeline --#\n",
      "pipeline:\n",
      "  snakemake_folder: ./\n",
      "  script_folder: ./bin/scripts/\n",
      "  run_skip_locally: True        # trivial \"skip\" steps run locally (not qsub)\n",
      "  export_conda: True\n",
      "  name: LLMGQC"
     ]
    }
   ],
   "source": [
    "F = file.path(D, 'config.yaml')\n",
    "cat_file(F)"
   ]
  },
  {
   "cell_type": "markdown",
   "metadata": {},
   "source": [
    "### Run"
   ]
  },
  {
   "cell_type": "markdown",
   "metadata": {},
   "source": [
    "```\n",
    "(snakemake) rick: /tmp/global2/nyoungblut/code/dev/ll_pipelines/llmgqc\n",
    "$ screen -L -S llmgqc-marmdb ./snakemake_sge.sh /ebio/abt3_projects/databases_no-backup/DeepMAsED/version2/real_data_eval/marmdb/LLMGQC/config.yaml 30 -F --keep-going\n",
    "```"
   ]
  },
  {
   "cell_type": "markdown",
   "metadata": {},
   "source": [
    "## Summary"
   ]
  },
  {
   "cell_type": "code",
   "execution_count": 26,
   "metadata": {
    "ExecuteTime": {
     "end_time": "2022-09-20T22:30:46.034931Z",
     "start_time": "2022-09-20T22:30:45.881Z"
    }
   },
   "outputs": [
    {
     "data": {
      "text/html": [
       "<table class=\"dataframe\">\n",
       "<caption>A data.table: 106 × 4</caption>\n",
       "<thead>\n",
       "\t<tr><th scope=col>Sample</th><th scope=col>Read1</th><th scope=col>Read2</th><th scope=col>Notes</th></tr>\n",
       "\t<tr><th scope=col>&lt;chr&gt;</th><th scope=col>&lt;chr&gt;</th><th scope=col>&lt;chr&gt;</th><th scope=col>&lt;lgl&gt;</th></tr>\n",
       "</thead>\n",
       "<tbody>\n",
       "\t<tr><td>SRS1788338</td><td>/ebio/abt3_projects/databases_no-backup/DeepMAsED/version2/real_data_eval/marmdb/LLMGQC/final/SRS1788338/R1_final.fq.gz</td><td>/ebio/abt3_projects/databases_no-backup/DeepMAsED/version2/real_data_eval/marmdb/LLMGQC/final/SRS1788338/R2_final.fq.gz</td><td>NA</td></tr>\n",
       "\t<tr><td>SRS1788339</td><td>/ebio/abt3_projects/databases_no-backup/DeepMAsED/version2/real_data_eval/marmdb/LLMGQC/final/SRS1788339/R1_final.fq.gz</td><td>/ebio/abt3_projects/databases_no-backup/DeepMAsED/version2/real_data_eval/marmdb/LLMGQC/final/SRS1788339/R2_final.fq.gz</td><td>NA</td></tr>\n",
       "\t<tr><td>⋮</td><td>⋮</td><td>⋮</td><td>⋮</td></tr>\n",
       "\t<tr><td>SRS992730</td><td>/ebio/abt3_projects/databases_no-backup/DeepMAsED/version2/real_data_eval/marmdb/LLMGQC/final/SRS992730/R1_final.fq.gz</td><td>/ebio/abt3_projects/databases_no-backup/DeepMAsED/version2/real_data_eval/marmdb/LLMGQC/final/SRS992730/R2_final.fq.gz</td><td>NA</td></tr>\n",
       "\t<tr><td>SRS992731</td><td>/ebio/abt3_projects/databases_no-backup/DeepMAsED/version2/real_data_eval/marmdb/LLMGQC/final/SRS992731/R1_final.fq.gz</td><td>/ebio/abt3_projects/databases_no-backup/DeepMAsED/version2/real_data_eval/marmdb/LLMGQC/final/SRS992731/R2_final.fq.gz</td><td>NA</td></tr>\n",
       "</tbody>\n",
       "</table>\n"
      ],
      "text/latex": [
       "A data.table: 106 × 4\n",
       "\\begin{tabular}{llll}\n",
       " Sample & Read1 & Read2 & Notes\\\\\n",
       " <chr> & <chr> & <chr> & <lgl>\\\\\n",
       "\\hline\n",
       "\t SRS1788338 & /ebio/abt3\\_projects/databases\\_no-backup/DeepMAsED/version2/real\\_data\\_eval/marmdb/LLMGQC/final/SRS1788338/R1\\_final.fq.gz & /ebio/abt3\\_projects/databases\\_no-backup/DeepMAsED/version2/real\\_data\\_eval/marmdb/LLMGQC/final/SRS1788338/R2\\_final.fq.gz & NA\\\\\n",
       "\t SRS1788339 & /ebio/abt3\\_projects/databases\\_no-backup/DeepMAsED/version2/real\\_data\\_eval/marmdb/LLMGQC/final/SRS1788339/R1\\_final.fq.gz & /ebio/abt3\\_projects/databases\\_no-backup/DeepMAsED/version2/real\\_data\\_eval/marmdb/LLMGQC/final/SRS1788339/R2\\_final.fq.gz & NA\\\\\n",
       "\t ⋮ & ⋮ & ⋮ & ⋮\\\\\n",
       "\t SRS992730 & /ebio/abt3\\_projects/databases\\_no-backup/DeepMAsED/version2/real\\_data\\_eval/marmdb/LLMGQC/final/SRS992730/R1\\_final.fq.gz & /ebio/abt3\\_projects/databases\\_no-backup/DeepMAsED/version2/real\\_data\\_eval/marmdb/LLMGQC/final/SRS992730/R2\\_final.fq.gz & NA\\\\\n",
       "\t SRS992731 & /ebio/abt3\\_projects/databases\\_no-backup/DeepMAsED/version2/real\\_data\\_eval/marmdb/LLMGQC/final/SRS992731/R1\\_final.fq.gz & /ebio/abt3\\_projects/databases\\_no-backup/DeepMAsED/version2/real\\_data\\_eval/marmdb/LLMGQC/final/SRS992731/R2\\_final.fq.gz & NA\\\\\n",
       "\\end{tabular}\n"
      ],
      "text/markdown": [
       "\n",
       "A data.table: 106 × 4\n",
       "\n",
       "| Sample &lt;chr&gt; | Read1 &lt;chr&gt; | Read2 &lt;chr&gt; | Notes &lt;lgl&gt; |\n",
       "|---|---|---|---|\n",
       "| SRS1788338 | /ebio/abt3_projects/databases_no-backup/DeepMAsED/version2/real_data_eval/marmdb/LLMGQC/final/SRS1788338/R1_final.fq.gz | /ebio/abt3_projects/databases_no-backup/DeepMAsED/version2/real_data_eval/marmdb/LLMGQC/final/SRS1788338/R2_final.fq.gz | NA |\n",
       "| SRS1788339 | /ebio/abt3_projects/databases_no-backup/DeepMAsED/version2/real_data_eval/marmdb/LLMGQC/final/SRS1788339/R1_final.fq.gz | /ebio/abt3_projects/databases_no-backup/DeepMAsED/version2/real_data_eval/marmdb/LLMGQC/final/SRS1788339/R2_final.fq.gz | NA |\n",
       "| ⋮ | ⋮ | ⋮ | ⋮ |\n",
       "| SRS992730 | /ebio/abt3_projects/databases_no-backup/DeepMAsED/version2/real_data_eval/marmdb/LLMGQC/final/SRS992730/R1_final.fq.gz | /ebio/abt3_projects/databases_no-backup/DeepMAsED/version2/real_data_eval/marmdb/LLMGQC/final/SRS992730/R2_final.fq.gz | NA |\n",
       "| SRS992731 | /ebio/abt3_projects/databases_no-backup/DeepMAsED/version2/real_data_eval/marmdb/LLMGQC/final/SRS992731/R1_final.fq.gz | /ebio/abt3_projects/databases_no-backup/DeepMAsED/version2/real_data_eval/marmdb/LLMGQC/final/SRS992731/R2_final.fq.gz | NA |\n",
       "\n"
      ],
      "text/plain": [
       "    Sample    \n",
       "1   SRS1788338\n",
       "2   SRS1788339\n",
       "⋮   ⋮         \n",
       "105 SRS992730 \n",
       "106 SRS992731 \n",
       "    Read1                                                                                                                  \n",
       "1   /ebio/abt3_projects/databases_no-backup/DeepMAsED/version2/real_data_eval/marmdb/LLMGQC/final/SRS1788338/R1_final.fq.gz\n",
       "2   /ebio/abt3_projects/databases_no-backup/DeepMAsED/version2/real_data_eval/marmdb/LLMGQC/final/SRS1788339/R1_final.fq.gz\n",
       "⋮   ⋮                                                                                                                      \n",
       "105 /ebio/abt3_projects/databases_no-backup/DeepMAsED/version2/real_data_eval/marmdb/LLMGQC/final/SRS992730/R1_final.fq.gz \n",
       "106 /ebio/abt3_projects/databases_no-backup/DeepMAsED/version2/real_data_eval/marmdb/LLMGQC/final/SRS992731/R1_final.fq.gz \n",
       "    Read2                                                                                                                  \n",
       "1   /ebio/abt3_projects/databases_no-backup/DeepMAsED/version2/real_data_eval/marmdb/LLMGQC/final/SRS1788338/R2_final.fq.gz\n",
       "2   /ebio/abt3_projects/databases_no-backup/DeepMAsED/version2/real_data_eval/marmdb/LLMGQC/final/SRS1788339/R2_final.fq.gz\n",
       "⋮   ⋮                                                                                                                      \n",
       "105 /ebio/abt3_projects/databases_no-backup/DeepMAsED/version2/real_data_eval/marmdb/LLMGQC/final/SRS992730/R2_final.fq.gz \n",
       "106 /ebio/abt3_projects/databases_no-backup/DeepMAsED/version2/real_data_eval/marmdb/LLMGQC/final/SRS992731/R2_final.fq.gz \n",
       "    Notes\n",
       "1   NA   \n",
       "2   NA   \n",
       "⋮   ⋮    \n",
       "105 NA   \n",
       "106 NA   "
      ]
     },
     "metadata": {},
     "output_type": "display_data"
    }
   ],
   "source": [
    "F = file.path(D, 'final', 'samples.txt')\n",
    "samps = Fread(F)\n",
    "samps"
   ]
  },
  {
   "cell_type": "code",
   "execution_count": 27,
   "metadata": {
    "ExecuteTime": {
     "end_time": "2022-09-20T22:30:47.028093Z",
     "start_time": "2022-09-20T22:30:46.850Z"
    }
   },
   "outputs": [
    {
     "name": "stdout",
     "output_type": "stream",
     "text": [
      "intersect(x,y): 106 \n",
      "setdiff(x,y): 0 \n",
      "setdiff(y,x): 0 \n",
      "union(x,y): 106 \n"
     ]
    },
    {
     "data": {
      "text/html": [
       "<table class=\"dataframe\">\n",
       "<caption>A tidytable: 106 × 46</caption>\n",
       "<thead>\n",
       "\t<tr><th scope=col>Sample</th><th scope=col>Read1</th><th scope=col>Read2</th><th scope=col>Notes</th><th scope=col>library_id</th><th scope=col>project_id</th><th scope=col>BioprojectID</th><th scope=col>PubmedID</th><th scope=col>project_name</th><th scope=col>creation_date</th><th scope=col>⋯</th><th scope=col>MarMDB_oceanic_zone</th><th scope=col>MarMDB_oceanographic_phenomena</th><th scope=col>MarMDB_host_name</th><th scope=col>quality_above_30_SRA</th><th scope=col>mean_quality_SRA</th><th scope=col>source_database</th><th scope=col>average_length</th><th scope=col>assembled</th><th scope=col>n_samples</th><th scope=col>n_recs</th></tr>\n",
       "\t<tr><th scope=col>&lt;chr&gt;</th><th scope=col>&lt;chr&gt;</th><th scope=col>&lt;chr&gt;</th><th scope=col>&lt;lgl&gt;</th><th scope=col>&lt;chr&gt;</th><th scope=col>&lt;chr&gt;</th><th scope=col>&lt;chr&gt;</th><th scope=col>&lt;chr&gt;</th><th scope=col>&lt;chr&gt;</th><th scope=col>&lt;date&gt;</th><th scope=col>⋯</th><th scope=col>&lt;chr&gt;</th><th scope=col>&lt;chr&gt;</th><th scope=col>&lt;chr&gt;</th><th scope=col>&lt;int&gt;</th><th scope=col>&lt;dbl&gt;</th><th scope=col>&lt;chr&gt;</th><th scope=col>&lt;int&gt;</th><th scope=col>&lt;chr&gt;</th><th scope=col>&lt;int&gt;</th><th scope=col>&lt;int&gt;</th></tr>\n",
       "</thead>\n",
       "<tbody>\n",
       "\t<tr><td>SRS992687</td><td>/ebio/abt3_projects/databases_no-backup/DeepMAsED/version2/real_data_eval/marmdb/LLMGQC/final/SRS992687/R1_final.fq.gz</td><td>/ebio/abt3_projects/databases_no-backup/DeepMAsED/version2/real_data_eval/marmdb/LLMGQC/final/SRS992687/R2_final.fq.gz</td><td>NA</td><td>SRR2103001</td><td>SRX1097582</td><td>289734</td><td>27377622,27</td><td>Red Sea metagenomes</td><td>2015-12-31</td><td>⋯</td><td>NA</td><td>NA</td><td>NA</td><td>85</td><td>34.08</td><td>SRA</td><td>186</td><td>No</td><td>40</td><td>1</td></tr>\n",
       "\t<tr><td>SRS992704</td><td>/ebio/abt3_projects/databases_no-backup/DeepMAsED/version2/real_data_eval/marmdb/LLMGQC/final/SRS992704/R1_final.fq.gz</td><td>/ebio/abt3_projects/databases_no-backup/DeepMAsED/version2/real_data_eval/marmdb/LLMGQC/final/SRS992704/R2_final.fq.gz</td><td>NA</td><td>SRR2103016</td><td>SRX1097597</td><td>289734</td><td>27377622,27</td><td>Red Sea metagenomes</td><td>2015-12-31</td><td>⋯</td><td>NA</td><td>NA</td><td>NA</td><td>86</td><td>34.30</td><td>SRA</td><td>186</td><td>No</td><td>40</td><td>1</td></tr>\n",
       "\t<tr><td>⋮</td><td>⋮</td><td>⋮</td><td>⋮</td><td>⋮</td><td>⋮</td><td>⋮</td><td>⋮</td><td>⋮</td><td>⋮</td><td>⋱</td><td>⋮</td><td>⋮</td><td>⋮</td><td>⋮</td><td>⋮</td><td>⋮</td><td>⋮</td><td>⋮</td><td>⋮</td><td>⋮</td></tr>\n",
       "\t<tr><td>SRS2329824</td><td>/ebio/abt3_projects/databases_no-backup/DeepMAsED/version2/real_data_eval/marmdb/LLMGQC/final/SRS2329824/R1_final.fq.gz</td><td>/ebio/abt3_projects/databases_no-backup/DeepMAsED/version2/real_data_eval/marmdb/LLMGQC/final/SRS2329824/R2_final.fq.gz</td><td>NA</td><td>SRR5788396</td><td>SRX2974816</td><td>385854</td><td>NA</td><td>Marine metagenomes from the bioGEOTRACES project</td><td>2018-05-01</td><td>⋯</td><td>NA</td><td>NA</td><td>NA</td><td>85</td><td>32.69</td><td>SRA</td><td>300</td><td>No</td><td>40</td><td>1</td></tr>\n",
       "\t<tr><td>SRS2329594</td><td>/ebio/abt3_projects/databases_no-backup/DeepMAsED/version2/real_data_eval/marmdb/LLMGQC/final/SRS2329594/R1_final.fq.gz</td><td>/ebio/abt3_projects/databases_no-backup/DeepMAsED/version2/real_data_eval/marmdb/LLMGQC/final/SRS2329594/R2_final.fq.gz</td><td>NA</td><td>SRR5788145</td><td>SRX2974587</td><td>385854</td><td>NA</td><td>Marine metagenomes from the bioGEOTRACES project</td><td>2018-05-01</td><td>⋯</td><td>NA</td><td>NA</td><td>NA</td><td>75</td><td>31.55</td><td>SRA</td><td>300</td><td>No</td><td>40</td><td>1</td></tr>\n",
       "</tbody>\n",
       "</table>\n"
      ],
      "text/latex": [
       "A tidytable: 106 × 46\n",
       "\\begin{tabular}{lllllllllllllllllllll}\n",
       " Sample & Read1 & Read2 & Notes & library\\_id & project\\_id & BioprojectID & PubmedID & project\\_name & creation\\_date & ⋯ & MarMDB\\_oceanic\\_zone & MarMDB\\_oceanographic\\_phenomena & MarMDB\\_host\\_name & quality\\_above\\_30\\_SRA & mean\\_quality\\_SRA & source\\_database & average\\_length & assembled & n\\_samples & n\\_recs\\\\\n",
       " <chr> & <chr> & <chr> & <lgl> & <chr> & <chr> & <chr> & <chr> & <chr> & <date> & ⋯ & <chr> & <chr> & <chr> & <int> & <dbl> & <chr> & <int> & <chr> & <int> & <int>\\\\\n",
       "\\hline\n",
       "\t SRS992687 & /ebio/abt3\\_projects/databases\\_no-backup/DeepMAsED/version2/real\\_data\\_eval/marmdb/LLMGQC/final/SRS992687/R1\\_final.fq.gz & /ebio/abt3\\_projects/databases\\_no-backup/DeepMAsED/version2/real\\_data\\_eval/marmdb/LLMGQC/final/SRS992687/R2\\_final.fq.gz & NA & SRR2103001 & SRX1097582 & 289734 & 27377622,27 & Red Sea metagenomes & 2015-12-31 & ⋯ & NA & NA & NA & 85 & 34.08 & SRA & 186 & No & 40 & 1\\\\\n",
       "\t SRS992704 & /ebio/abt3\\_projects/databases\\_no-backup/DeepMAsED/version2/real\\_data\\_eval/marmdb/LLMGQC/final/SRS992704/R1\\_final.fq.gz & /ebio/abt3\\_projects/databases\\_no-backup/DeepMAsED/version2/real\\_data\\_eval/marmdb/LLMGQC/final/SRS992704/R2\\_final.fq.gz & NA & SRR2103016 & SRX1097597 & 289734 & 27377622,27 & Red Sea metagenomes & 2015-12-31 & ⋯ & NA & NA & NA & 86 & 34.30 & SRA & 186 & No & 40 & 1\\\\\n",
       "\t ⋮ & ⋮ & ⋮ & ⋮ & ⋮ & ⋮ & ⋮ & ⋮ & ⋮ & ⋮ & ⋱ & ⋮ & ⋮ & ⋮ & ⋮ & ⋮ & ⋮ & ⋮ & ⋮ & ⋮ & ⋮\\\\\n",
       "\t SRS2329824 & /ebio/abt3\\_projects/databases\\_no-backup/DeepMAsED/version2/real\\_data\\_eval/marmdb/LLMGQC/final/SRS2329824/R1\\_final.fq.gz & /ebio/abt3\\_projects/databases\\_no-backup/DeepMAsED/version2/real\\_data\\_eval/marmdb/LLMGQC/final/SRS2329824/R2\\_final.fq.gz & NA & SRR5788396 & SRX2974816 & 385854 & NA & Marine metagenomes from the bioGEOTRACES project & 2018-05-01 & ⋯ & NA & NA & NA & 85 & 32.69 & SRA & 300 & No & 40 & 1\\\\\n",
       "\t SRS2329594 & /ebio/abt3\\_projects/databases\\_no-backup/DeepMAsED/version2/real\\_data\\_eval/marmdb/LLMGQC/final/SRS2329594/R1\\_final.fq.gz & /ebio/abt3\\_projects/databases\\_no-backup/DeepMAsED/version2/real\\_data\\_eval/marmdb/LLMGQC/final/SRS2329594/R2\\_final.fq.gz & NA & SRR5788145 & SRX2974587 & 385854 & NA & Marine metagenomes from the bioGEOTRACES project & 2018-05-01 & ⋯ & NA & NA & NA & 75 & 31.55 & SRA & 300 & No & 40 & 1\\\\\n",
       "\\end{tabular}\n"
      ],
      "text/markdown": [
       "\n",
       "A tidytable: 106 × 46\n",
       "\n",
       "| Sample &lt;chr&gt; | Read1 &lt;chr&gt; | Read2 &lt;chr&gt; | Notes &lt;lgl&gt; | library_id &lt;chr&gt; | project_id &lt;chr&gt; | BioprojectID &lt;chr&gt; | PubmedID &lt;chr&gt; | project_name &lt;chr&gt; | creation_date &lt;date&gt; | ⋯ ⋯ | MarMDB_oceanic_zone &lt;chr&gt; | MarMDB_oceanographic_phenomena &lt;chr&gt; | MarMDB_host_name &lt;chr&gt; | quality_above_30_SRA &lt;int&gt; | mean_quality_SRA &lt;dbl&gt; | source_database &lt;chr&gt; | average_length &lt;int&gt; | assembled &lt;chr&gt; | n_samples &lt;int&gt; | n_recs &lt;int&gt; |\n",
       "|---|---|---|---|---|---|---|---|---|---|---|---|---|---|---|---|---|---|---|---|---|\n",
       "| SRS992687 | /ebio/abt3_projects/databases_no-backup/DeepMAsED/version2/real_data_eval/marmdb/LLMGQC/final/SRS992687/R1_final.fq.gz | /ebio/abt3_projects/databases_no-backup/DeepMAsED/version2/real_data_eval/marmdb/LLMGQC/final/SRS992687/R2_final.fq.gz | NA | SRR2103001 | SRX1097582 | 289734 | 27377622,27 | Red Sea metagenomes | 2015-12-31 | ⋯ | NA | NA | NA | 85 | 34.08 | SRA | 186 | No | 40 | 1 |\n",
       "| SRS992704 | /ebio/abt3_projects/databases_no-backup/DeepMAsED/version2/real_data_eval/marmdb/LLMGQC/final/SRS992704/R1_final.fq.gz | /ebio/abt3_projects/databases_no-backup/DeepMAsED/version2/real_data_eval/marmdb/LLMGQC/final/SRS992704/R2_final.fq.gz | NA | SRR2103016 | SRX1097597 | 289734 | 27377622,27 | Red Sea metagenomes | 2015-12-31 | ⋯ | NA | NA | NA | 86 | 34.30 | SRA | 186 | No | 40 | 1 |\n",
       "| ⋮ | ⋮ | ⋮ | ⋮ | ⋮ | ⋮ | ⋮ | ⋮ | ⋮ | ⋮ | ⋱ | ⋮ | ⋮ | ⋮ | ⋮ | ⋮ | ⋮ | ⋮ | ⋮ | ⋮ | ⋮ |\n",
       "| SRS2329824 | /ebio/abt3_projects/databases_no-backup/DeepMAsED/version2/real_data_eval/marmdb/LLMGQC/final/SRS2329824/R1_final.fq.gz | /ebio/abt3_projects/databases_no-backup/DeepMAsED/version2/real_data_eval/marmdb/LLMGQC/final/SRS2329824/R2_final.fq.gz | NA | SRR5788396 | SRX2974816 | 385854 | NA | Marine metagenomes from the bioGEOTRACES project | 2018-05-01 | ⋯ | NA | NA | NA | 85 | 32.69 | SRA | 300 | No | 40 | 1 |\n",
       "| SRS2329594 | /ebio/abt3_projects/databases_no-backup/DeepMAsED/version2/real_data_eval/marmdb/LLMGQC/final/SRS2329594/R1_final.fq.gz | /ebio/abt3_projects/databases_no-backup/DeepMAsED/version2/real_data_eval/marmdb/LLMGQC/final/SRS2329594/R2_final.fq.gz | NA | SRR5788145 | SRX2974587 | 385854 | NA | Marine metagenomes from the bioGEOTRACES project | 2018-05-01 | ⋯ | NA | NA | NA | 75 | 31.55 | SRA | 300 | No | 40 | 1 |\n",
       "\n"
      ],
      "text/plain": [
       "    Sample    \n",
       "1   SRS992687 \n",
       "2   SRS992704 \n",
       "⋮   ⋮         \n",
       "105 SRS2329824\n",
       "106 SRS2329594\n",
       "    Read1                                                                                                                  \n",
       "1   /ebio/abt3_projects/databases_no-backup/DeepMAsED/version2/real_data_eval/marmdb/LLMGQC/final/SRS992687/R1_final.fq.gz \n",
       "2   /ebio/abt3_projects/databases_no-backup/DeepMAsED/version2/real_data_eval/marmdb/LLMGQC/final/SRS992704/R1_final.fq.gz \n",
       "⋮   ⋮                                                                                                                      \n",
       "105 /ebio/abt3_projects/databases_no-backup/DeepMAsED/version2/real_data_eval/marmdb/LLMGQC/final/SRS2329824/R1_final.fq.gz\n",
       "106 /ebio/abt3_projects/databases_no-backup/DeepMAsED/version2/real_data_eval/marmdb/LLMGQC/final/SRS2329594/R1_final.fq.gz\n",
       "    Read2                                                                                                                  \n",
       "1   /ebio/abt3_projects/databases_no-backup/DeepMAsED/version2/real_data_eval/marmdb/LLMGQC/final/SRS992687/R2_final.fq.gz \n",
       "2   /ebio/abt3_projects/databases_no-backup/DeepMAsED/version2/real_data_eval/marmdb/LLMGQC/final/SRS992704/R2_final.fq.gz \n",
       "⋮   ⋮                                                                                                                      \n",
       "105 /ebio/abt3_projects/databases_no-backup/DeepMAsED/version2/real_data_eval/marmdb/LLMGQC/final/SRS2329824/R2_final.fq.gz\n",
       "106 /ebio/abt3_projects/databases_no-backup/DeepMAsED/version2/real_data_eval/marmdb/LLMGQC/final/SRS2329594/R2_final.fq.gz\n",
       "    Notes library_id project_id BioprojectID PubmedID   \n",
       "1   NA    SRR2103001 SRX1097582 289734       27377622,27\n",
       "2   NA    SRR2103016 SRX1097597 289734       27377622,27\n",
       "⋮   ⋮     ⋮          ⋮          ⋮            ⋮          \n",
       "105 NA    SRR5788396 SRX2974816 385854       NA         \n",
       "106 NA    SRR5788145 SRX2974587 385854       NA         \n",
       "    project_name                                     creation_date ⋯\n",
       "1   Red Sea metagenomes                              2015-12-31    ⋯\n",
       "2   Red Sea metagenomes                              2015-12-31    ⋯\n",
       "⋮   ⋮                                                ⋮             ⋱\n",
       "105 Marine metagenomes from the bioGEOTRACES project 2018-05-01    ⋯\n",
       "106 Marine metagenomes from the bioGEOTRACES project 2018-05-01    ⋯\n",
       "    MarMDB_oceanic_zone MarMDB_oceanographic_phenomena MarMDB_host_name\n",
       "1   NA                  NA                             NA              \n",
       "2   NA                  NA                             NA              \n",
       "⋮   ⋮                   ⋮                              ⋮               \n",
       "105 NA                  NA                             NA              \n",
       "106 NA                  NA                             NA              \n",
       "    quality_above_30_SRA mean_quality_SRA source_database average_length\n",
       "1   85                   34.08            SRA             186           \n",
       "2   86                   34.30            SRA             186           \n",
       "⋮   ⋮                    ⋮                ⋮               ⋮             \n",
       "105 85                   32.69            SRA             300           \n",
       "106 75                   31.55            SRA             300           \n",
       "    assembled n_samples n_recs\n",
       "1   No        40        1     \n",
       "2   No        40        1     \n",
       "⋮   ⋮         ⋮         ⋮     \n",
       "105 No        40        1     \n",
       "106 No        40        1     "
      ]
     },
     "metadata": {},
     "output_type": "display_data"
    }
   ],
   "source": [
    "# adding metadata\n",
    "overlap(samps$Sample, meta_f$sample_id)\n",
    "samps = samps %>%\n",
    "    inner_join.(meta_f, c('Sample'='sample_id'))\n",
    "samps"
   ]
  },
  {
   "cell_type": "code",
   "execution_count": 28,
   "metadata": {
    "ExecuteTime": {
     "end_time": "2022-09-20T22:30:49.572450Z",
     "start_time": "2022-09-20T22:30:49.418Z"
    }
   },
   "outputs": [
    {
     "data": {
      "text/html": [
       "<table class=\"dataframe\">\n",
       "<caption>A tidytable: 1 × 3</caption>\n",
       "<thead>\n",
       "\t<tr><th scope=col>Sample</th><th scope=col>Read1</th><th scope=col>Read2</th></tr>\n",
       "\t<tr><th scope=col>&lt;chr&gt;</th><th scope=col>&lt;chr&gt;</th><th scope=col>&lt;chr&gt;</th></tr>\n",
       "</thead>\n",
       "<tbody>\n",
       "\t<tr><td>SRS1788404</td><td></td><td></td></tr>\n",
       "</tbody>\n",
       "</table>\n"
      ],
      "text/latex": [
       "A tidytable: 1 × 3\n",
       "\\begin{tabular}{lll}\n",
       " Sample & Read1 & Read2\\\\\n",
       " <chr> & <chr> & <chr>\\\\\n",
       "\\hline\n",
       "\t SRS1788404 &  & \\\\\n",
       "\\end{tabular}\n"
      ],
      "text/markdown": [
       "\n",
       "A tidytable: 1 × 3\n",
       "\n",
       "| Sample &lt;chr&gt; | Read1 &lt;chr&gt; | Read2 &lt;chr&gt; |\n",
       "|---|---|---|\n",
       "| SRS1788404 | <!----> | <!----> |\n",
       "\n"
      ],
      "text/plain": [
       "  Sample     Read1 Read2\n",
       "1 SRS1788404            "
      ]
     },
     "metadata": {},
     "output_type": "display_data"
    }
   ],
   "source": [
    "# samples lacking post-qc reads\n",
    "samps %>%\n",
    "    filter.(Read1 == '' | Read2 == '') %>%\n",
    "    select.(Sample, Read1, Read2)"
   ]
  },
  {
   "cell_type": "code",
   "execution_count": 29,
   "metadata": {
    "ExecuteTime": {
     "end_time": "2022-09-20T22:30:50.583212Z",
     "start_time": "2022-09-20T22:30:50.399Z"
    }
   },
   "outputs": [
    {
     "data": {
      "text/html": [
       "<table class=\"dataframe\">\n",
       "<caption>A tidytable: 105 × 46</caption>\n",
       "<thead>\n",
       "\t<tr><th scope=col>Sample</th><th scope=col>Read1</th><th scope=col>Read2</th><th scope=col>Notes</th><th scope=col>library_id</th><th scope=col>project_id</th><th scope=col>BioprojectID</th><th scope=col>PubmedID</th><th scope=col>project_name</th><th scope=col>creation_date</th><th scope=col>⋯</th><th scope=col>MarMDB_oceanic_zone</th><th scope=col>MarMDB_oceanographic_phenomena</th><th scope=col>MarMDB_host_name</th><th scope=col>quality_above_30_SRA</th><th scope=col>mean_quality_SRA</th><th scope=col>source_database</th><th scope=col>average_length</th><th scope=col>assembled</th><th scope=col>n_samples</th><th scope=col>n_recs</th></tr>\n",
       "\t<tr><th scope=col>&lt;chr&gt;</th><th scope=col>&lt;chr&gt;</th><th scope=col>&lt;chr&gt;</th><th scope=col>&lt;lgl&gt;</th><th scope=col>&lt;chr&gt;</th><th scope=col>&lt;chr&gt;</th><th scope=col>&lt;chr&gt;</th><th scope=col>&lt;chr&gt;</th><th scope=col>&lt;chr&gt;</th><th scope=col>&lt;date&gt;</th><th scope=col>⋯</th><th scope=col>&lt;chr&gt;</th><th scope=col>&lt;chr&gt;</th><th scope=col>&lt;chr&gt;</th><th scope=col>&lt;int&gt;</th><th scope=col>&lt;dbl&gt;</th><th scope=col>&lt;chr&gt;</th><th scope=col>&lt;int&gt;</th><th scope=col>&lt;chr&gt;</th><th scope=col>&lt;int&gt;</th><th scope=col>&lt;int&gt;</th></tr>\n",
       "</thead>\n",
       "<tbody>\n",
       "\t<tr><td>SRS992687</td><td>/ebio/abt3_projects/databases_no-backup/DeepMAsED/version2/real_data_eval/marmdb/LLMGQC/final/SRS992687/R1_final.fq.gz</td><td>/ebio/abt3_projects/databases_no-backup/DeepMAsED/version2/real_data_eval/marmdb/LLMGQC/final/SRS992687/R2_final.fq.gz</td><td>NA</td><td>SRR2103001</td><td>SRX1097582</td><td>289734</td><td>27377622,27</td><td>Red Sea metagenomes</td><td>2015-12-31</td><td>⋯</td><td>NA</td><td>NA</td><td>NA</td><td>85</td><td>34.08</td><td>SRA</td><td>186</td><td>No</td><td>40</td><td>1</td></tr>\n",
       "\t<tr><td>SRS992704</td><td>/ebio/abt3_projects/databases_no-backup/DeepMAsED/version2/real_data_eval/marmdb/LLMGQC/final/SRS992704/R1_final.fq.gz</td><td>/ebio/abt3_projects/databases_no-backup/DeepMAsED/version2/real_data_eval/marmdb/LLMGQC/final/SRS992704/R2_final.fq.gz</td><td>NA</td><td>SRR2103016</td><td>SRX1097597</td><td>289734</td><td>27377622,27</td><td>Red Sea metagenomes</td><td>2015-12-31</td><td>⋯</td><td>NA</td><td>NA</td><td>NA</td><td>86</td><td>34.30</td><td>SRA</td><td>186</td><td>No</td><td>40</td><td>1</td></tr>\n",
       "\t<tr><td>⋮</td><td>⋮</td><td>⋮</td><td>⋮</td><td>⋮</td><td>⋮</td><td>⋮</td><td>⋮</td><td>⋮</td><td>⋮</td><td>⋱</td><td>⋮</td><td>⋮</td><td>⋮</td><td>⋮</td><td>⋮</td><td>⋮</td><td>⋮</td><td>⋮</td><td>⋮</td><td>⋮</td></tr>\n",
       "\t<tr><td>SRS2329824</td><td>/ebio/abt3_projects/databases_no-backup/DeepMAsED/version2/real_data_eval/marmdb/LLMGQC/final/SRS2329824/R1_final.fq.gz</td><td>/ebio/abt3_projects/databases_no-backup/DeepMAsED/version2/real_data_eval/marmdb/LLMGQC/final/SRS2329824/R2_final.fq.gz</td><td>NA</td><td>SRR5788396</td><td>SRX2974816</td><td>385854</td><td>NA</td><td>Marine metagenomes from the bioGEOTRACES project</td><td>2018-05-01</td><td>⋯</td><td>NA</td><td>NA</td><td>NA</td><td>85</td><td>32.69</td><td>SRA</td><td>300</td><td>No</td><td>40</td><td>1</td></tr>\n",
       "\t<tr><td>SRS2329594</td><td>/ebio/abt3_projects/databases_no-backup/DeepMAsED/version2/real_data_eval/marmdb/LLMGQC/final/SRS2329594/R1_final.fq.gz</td><td>/ebio/abt3_projects/databases_no-backup/DeepMAsED/version2/real_data_eval/marmdb/LLMGQC/final/SRS2329594/R2_final.fq.gz</td><td>NA</td><td>SRR5788145</td><td>SRX2974587</td><td>385854</td><td>NA</td><td>Marine metagenomes from the bioGEOTRACES project</td><td>2018-05-01</td><td>⋯</td><td>NA</td><td>NA</td><td>NA</td><td>75</td><td>31.55</td><td>SRA</td><td>300</td><td>No</td><td>40</td><td>1</td></tr>\n",
       "</tbody>\n",
       "</table>\n"
      ],
      "text/latex": [
       "A tidytable: 105 × 46\n",
       "\\begin{tabular}{lllllllllllllllllllll}\n",
       " Sample & Read1 & Read2 & Notes & library\\_id & project\\_id & BioprojectID & PubmedID & project\\_name & creation\\_date & ⋯ & MarMDB\\_oceanic\\_zone & MarMDB\\_oceanographic\\_phenomena & MarMDB\\_host\\_name & quality\\_above\\_30\\_SRA & mean\\_quality\\_SRA & source\\_database & average\\_length & assembled & n\\_samples & n\\_recs\\\\\n",
       " <chr> & <chr> & <chr> & <lgl> & <chr> & <chr> & <chr> & <chr> & <chr> & <date> & ⋯ & <chr> & <chr> & <chr> & <int> & <dbl> & <chr> & <int> & <chr> & <int> & <int>\\\\\n",
       "\\hline\n",
       "\t SRS992687 & /ebio/abt3\\_projects/databases\\_no-backup/DeepMAsED/version2/real\\_data\\_eval/marmdb/LLMGQC/final/SRS992687/R1\\_final.fq.gz & /ebio/abt3\\_projects/databases\\_no-backup/DeepMAsED/version2/real\\_data\\_eval/marmdb/LLMGQC/final/SRS992687/R2\\_final.fq.gz & NA & SRR2103001 & SRX1097582 & 289734 & 27377622,27 & Red Sea metagenomes & 2015-12-31 & ⋯ & NA & NA & NA & 85 & 34.08 & SRA & 186 & No & 40 & 1\\\\\n",
       "\t SRS992704 & /ebio/abt3\\_projects/databases\\_no-backup/DeepMAsED/version2/real\\_data\\_eval/marmdb/LLMGQC/final/SRS992704/R1\\_final.fq.gz & /ebio/abt3\\_projects/databases\\_no-backup/DeepMAsED/version2/real\\_data\\_eval/marmdb/LLMGQC/final/SRS992704/R2\\_final.fq.gz & NA & SRR2103016 & SRX1097597 & 289734 & 27377622,27 & Red Sea metagenomes & 2015-12-31 & ⋯ & NA & NA & NA & 86 & 34.30 & SRA & 186 & No & 40 & 1\\\\\n",
       "\t ⋮ & ⋮ & ⋮ & ⋮ & ⋮ & ⋮ & ⋮ & ⋮ & ⋮ & ⋮ & ⋱ & ⋮ & ⋮ & ⋮ & ⋮ & ⋮ & ⋮ & ⋮ & ⋮ & ⋮ & ⋮\\\\\n",
       "\t SRS2329824 & /ebio/abt3\\_projects/databases\\_no-backup/DeepMAsED/version2/real\\_data\\_eval/marmdb/LLMGQC/final/SRS2329824/R1\\_final.fq.gz & /ebio/abt3\\_projects/databases\\_no-backup/DeepMAsED/version2/real\\_data\\_eval/marmdb/LLMGQC/final/SRS2329824/R2\\_final.fq.gz & NA & SRR5788396 & SRX2974816 & 385854 & NA & Marine metagenomes from the bioGEOTRACES project & 2018-05-01 & ⋯ & NA & NA & NA & 85 & 32.69 & SRA & 300 & No & 40 & 1\\\\\n",
       "\t SRS2329594 & /ebio/abt3\\_projects/databases\\_no-backup/DeepMAsED/version2/real\\_data\\_eval/marmdb/LLMGQC/final/SRS2329594/R1\\_final.fq.gz & /ebio/abt3\\_projects/databases\\_no-backup/DeepMAsED/version2/real\\_data\\_eval/marmdb/LLMGQC/final/SRS2329594/R2\\_final.fq.gz & NA & SRR5788145 & SRX2974587 & 385854 & NA & Marine metagenomes from the bioGEOTRACES project & 2018-05-01 & ⋯ & NA & NA & NA & 75 & 31.55 & SRA & 300 & No & 40 & 1\\\\\n",
       "\\end{tabular}\n"
      ],
      "text/markdown": [
       "\n",
       "A tidytable: 105 × 46\n",
       "\n",
       "| Sample &lt;chr&gt; | Read1 &lt;chr&gt; | Read2 &lt;chr&gt; | Notes &lt;lgl&gt; | library_id &lt;chr&gt; | project_id &lt;chr&gt; | BioprojectID &lt;chr&gt; | PubmedID &lt;chr&gt; | project_name &lt;chr&gt; | creation_date &lt;date&gt; | ⋯ ⋯ | MarMDB_oceanic_zone &lt;chr&gt; | MarMDB_oceanographic_phenomena &lt;chr&gt; | MarMDB_host_name &lt;chr&gt; | quality_above_30_SRA &lt;int&gt; | mean_quality_SRA &lt;dbl&gt; | source_database &lt;chr&gt; | average_length &lt;int&gt; | assembled &lt;chr&gt; | n_samples &lt;int&gt; | n_recs &lt;int&gt; |\n",
       "|---|---|---|---|---|---|---|---|---|---|---|---|---|---|---|---|---|---|---|---|---|\n",
       "| SRS992687 | /ebio/abt3_projects/databases_no-backup/DeepMAsED/version2/real_data_eval/marmdb/LLMGQC/final/SRS992687/R1_final.fq.gz | /ebio/abt3_projects/databases_no-backup/DeepMAsED/version2/real_data_eval/marmdb/LLMGQC/final/SRS992687/R2_final.fq.gz | NA | SRR2103001 | SRX1097582 | 289734 | 27377622,27 | Red Sea metagenomes | 2015-12-31 | ⋯ | NA | NA | NA | 85 | 34.08 | SRA | 186 | No | 40 | 1 |\n",
       "| SRS992704 | /ebio/abt3_projects/databases_no-backup/DeepMAsED/version2/real_data_eval/marmdb/LLMGQC/final/SRS992704/R1_final.fq.gz | /ebio/abt3_projects/databases_no-backup/DeepMAsED/version2/real_data_eval/marmdb/LLMGQC/final/SRS992704/R2_final.fq.gz | NA | SRR2103016 | SRX1097597 | 289734 | 27377622,27 | Red Sea metagenomes | 2015-12-31 | ⋯ | NA | NA | NA | 86 | 34.30 | SRA | 186 | No | 40 | 1 |\n",
       "| ⋮ | ⋮ | ⋮ | ⋮ | ⋮ | ⋮ | ⋮ | ⋮ | ⋮ | ⋮ | ⋱ | ⋮ | ⋮ | ⋮ | ⋮ | ⋮ | ⋮ | ⋮ | ⋮ | ⋮ | ⋮ |\n",
       "| SRS2329824 | /ebio/abt3_projects/databases_no-backup/DeepMAsED/version2/real_data_eval/marmdb/LLMGQC/final/SRS2329824/R1_final.fq.gz | /ebio/abt3_projects/databases_no-backup/DeepMAsED/version2/real_data_eval/marmdb/LLMGQC/final/SRS2329824/R2_final.fq.gz | NA | SRR5788396 | SRX2974816 | 385854 | NA | Marine metagenomes from the bioGEOTRACES project | 2018-05-01 | ⋯ | NA | NA | NA | 85 | 32.69 | SRA | 300 | No | 40 | 1 |\n",
       "| SRS2329594 | /ebio/abt3_projects/databases_no-backup/DeepMAsED/version2/real_data_eval/marmdb/LLMGQC/final/SRS2329594/R1_final.fq.gz | /ebio/abt3_projects/databases_no-backup/DeepMAsED/version2/real_data_eval/marmdb/LLMGQC/final/SRS2329594/R2_final.fq.gz | NA | SRR5788145 | SRX2974587 | 385854 | NA | Marine metagenomes from the bioGEOTRACES project | 2018-05-01 | ⋯ | NA | NA | NA | 75 | 31.55 | SRA | 300 | No | 40 | 1 |\n",
       "\n"
      ],
      "text/plain": [
       "    Sample    \n",
       "1   SRS992687 \n",
       "2   SRS992704 \n",
       "⋮   ⋮         \n",
       "104 SRS2329824\n",
       "105 SRS2329594\n",
       "    Read1                                                                                                                  \n",
       "1   /ebio/abt3_projects/databases_no-backup/DeepMAsED/version2/real_data_eval/marmdb/LLMGQC/final/SRS992687/R1_final.fq.gz \n",
       "2   /ebio/abt3_projects/databases_no-backup/DeepMAsED/version2/real_data_eval/marmdb/LLMGQC/final/SRS992704/R1_final.fq.gz \n",
       "⋮   ⋮                                                                                                                      \n",
       "104 /ebio/abt3_projects/databases_no-backup/DeepMAsED/version2/real_data_eval/marmdb/LLMGQC/final/SRS2329824/R1_final.fq.gz\n",
       "105 /ebio/abt3_projects/databases_no-backup/DeepMAsED/version2/real_data_eval/marmdb/LLMGQC/final/SRS2329594/R1_final.fq.gz\n",
       "    Read2                                                                                                                  \n",
       "1   /ebio/abt3_projects/databases_no-backup/DeepMAsED/version2/real_data_eval/marmdb/LLMGQC/final/SRS992687/R2_final.fq.gz \n",
       "2   /ebio/abt3_projects/databases_no-backup/DeepMAsED/version2/real_data_eval/marmdb/LLMGQC/final/SRS992704/R2_final.fq.gz \n",
       "⋮   ⋮                                                                                                                      \n",
       "104 /ebio/abt3_projects/databases_no-backup/DeepMAsED/version2/real_data_eval/marmdb/LLMGQC/final/SRS2329824/R2_final.fq.gz\n",
       "105 /ebio/abt3_projects/databases_no-backup/DeepMAsED/version2/real_data_eval/marmdb/LLMGQC/final/SRS2329594/R2_final.fq.gz\n",
       "    Notes library_id project_id BioprojectID PubmedID   \n",
       "1   NA    SRR2103001 SRX1097582 289734       27377622,27\n",
       "2   NA    SRR2103016 SRX1097597 289734       27377622,27\n",
       "⋮   ⋮     ⋮          ⋮          ⋮            ⋮          \n",
       "104 NA    SRR5788396 SRX2974816 385854       NA         \n",
       "105 NA    SRR5788145 SRX2974587 385854       NA         \n",
       "    project_name                                     creation_date ⋯\n",
       "1   Red Sea metagenomes                              2015-12-31    ⋯\n",
       "2   Red Sea metagenomes                              2015-12-31    ⋯\n",
       "⋮   ⋮                                                ⋮             ⋱\n",
       "104 Marine metagenomes from the bioGEOTRACES project 2018-05-01    ⋯\n",
       "105 Marine metagenomes from the bioGEOTRACES project 2018-05-01    ⋯\n",
       "    MarMDB_oceanic_zone MarMDB_oceanographic_phenomena MarMDB_host_name\n",
       "1   NA                  NA                             NA              \n",
       "2   NA                  NA                             NA              \n",
       "⋮   ⋮                   ⋮                              ⋮               \n",
       "104 NA                  NA                             NA              \n",
       "105 NA                  NA                             NA              \n",
       "    quality_above_30_SRA mean_quality_SRA source_database average_length\n",
       "1   85                   34.08            SRA             186           \n",
       "2   86                   34.30            SRA             186           \n",
       "⋮   ⋮                    ⋮                ⋮               ⋮             \n",
       "104 85                   32.69            SRA             300           \n",
       "105 75                   31.55            SRA             300           \n",
       "    assembled n_samples n_recs\n",
       "1   No        40        1     \n",
       "2   No        40        1     \n",
       "⋮   ⋮         ⋮         ⋮     \n",
       "104 No        40        1     \n",
       "105 No        40        1     "
      ]
     },
     "metadata": {},
     "output_type": "display_data"
    }
   ],
   "source": [
    "# filtering to just reads with output\n",
    "samps_f = samps %>%\n",
    "    filter.(Read1 != '', Read2 != '')\n",
    "samps_f"
   ]
  },
  {
   "cell_type": "code",
   "execution_count": 30,
   "metadata": {
    "ExecuteTime": {
     "end_time": "2022-09-20T22:30:52.906184Z",
     "start_time": "2022-09-20T22:30:52.759Z"
    }
   },
   "outputs": [
    {
     "data": {
      "text/plain": [
       ".\n",
       "     HOT ALOHA metagenomic time and depth series \n",
       "                                              25 \n",
       "Marine metagenomes from the bioGEOTRACES project \n",
       "                                              40 \n",
       "                             Red Sea metagenomes \n",
       "                                              40 "
      ]
     },
     "metadata": {},
     "output_type": "display_data"
    }
   ],
   "source": [
    "# samples per project \n",
    "samps_f$project_name %>% table"
   ]
  },
  {
   "cell_type": "markdown",
   "metadata": {},
   "source": [
    "### Seq. quality"
   ]
  },
  {
   "cell_type": "code",
   "execution_count": 31,
   "metadata": {
    "ExecuteTime": {
     "end_time": "2022-09-20T22:33:13.237435Z",
     "start_time": "2022-09-20T22:33:13.100Z"
    }
   },
   "outputs": [],
   "source": [
    "base_dir = file.path(work_dir, 'LLMGQC', 'reports', 'final')"
   ]
  },
  {
   "cell_type": "code",
   "execution_count": 32,
   "metadata": {
    "ExecuteTime": {
     "end_time": "2022-09-20T22:33:16.897383Z",
     "start_time": "2022-09-20T22:33:16.660Z"
    }
   },
   "outputs": [
    {
     "data": {
      "text/html": [
       "<table class=\"dataframe\">\n",
       "<caption>A tidytable: 210 × 18</caption>\n",
       "<thead>\n",
       "\t<tr><th scope=col>Sample</th><th scope=col>Read</th><th scope=col>file</th><th scope=col>format</th><th scope=col>type</th><th scope=col>num_seqs</th><th scope=col>sum_len</th><th scope=col>min_len</th><th scope=col>avg_len</th><th scope=col>max_len</th><th scope=col>Q1</th><th scope=col>Q2</th><th scope=col>Q3</th><th scope=col>sum_gap</th><th scope=col>N50</th><th scope=col>Q20...</th><th scope=col>Q30...</th><th scope=col>GC...</th></tr>\n",
       "\t<tr><th scope=col>&lt;chr&gt;</th><th scope=col>&lt;int&gt;</th><th scope=col>&lt;chr&gt;</th><th scope=col>&lt;chr&gt;</th><th scope=col>&lt;chr&gt;</th><th scope=col>&lt;int&gt;</th><th scope=col>&lt;int&gt;</th><th scope=col>&lt;int&gt;</th><th scope=col>&lt;dbl&gt;</th><th scope=col>&lt;int&gt;</th><th scope=col>&lt;dbl&gt;</th><th scope=col>&lt;dbl&gt;</th><th scope=col>&lt;dbl&gt;</th><th scope=col>&lt;int&gt;</th><th scope=col>&lt;int&gt;</th><th scope=col>&lt;dbl&gt;</th><th scope=col>&lt;dbl&gt;</th><th scope=col>&lt;dbl&gt;</th></tr>\n",
       "</thead>\n",
       "<tbody>\n",
       "\t<tr><td>SRS992687</td><td>1</td><td>/ebio/abt3_projects/databases_no-backup/DeepMAsED/version2/real_data_eval/marmdb/LLMGQC/final/SRS992687/R1_final.fq.gz</td><td>FASTQ</td><td>DNA</td><td>4217898</td><td>389054891</td><td>80</td><td>92.2</td><td>93</td><td>92</td><td>93</td><td>93</td><td>0</td><td>93</td><td>98.19</td><td>92.32</td><td>32.24</td></tr>\n",
       "\t<tr><td>SRS992687</td><td>2</td><td>/ebio/abt3_projects/databases_no-backup/DeepMAsED/version2/real_data_eval/marmdb/LLMGQC/final/SRS992687/R2_final.fq.gz</td><td>FASTQ</td><td>DNA</td><td>4217898</td><td>387091260</td><td>80</td><td>91.8</td><td>93</td><td>92</td><td>93</td><td>93</td><td>0</td><td>93</td><td>97.81</td><td>90.77</td><td>32.23</td></tr>\n",
       "\t<tr><td>⋮</td><td>⋮</td><td>⋮</td><td>⋮</td><td>⋮</td><td>⋮</td><td>⋮</td><td>⋮</td><td>⋮</td><td>⋮</td><td>⋮</td><td>⋮</td><td>⋮</td><td>⋮</td><td>⋮</td><td>⋮</td><td>⋮</td><td>⋮</td></tr>\n",
       "\t<tr><td>SRS2329594</td><td>1</td><td>/ebio/abt3_projects/databases_no-backup/DeepMAsED/version2/real_data_eval/marmdb/LLMGQC/final/SRS2329594/R1_final.fq.gz</td><td>FASTQ</td><td>DNA</td><td>3632756</td><td>536835661</td><td>80</td><td>147.8</td><td>150</td><td>149</td><td>150</td><td>150</td><td>0</td><td>150</td><td>87.91</td><td>76.93</td><td>45.17</td></tr>\n",
       "\t<tr><td>SRS2329594</td><td>2</td><td>/ebio/abt3_projects/databases_no-backup/DeepMAsED/version2/real_data_eval/marmdb/LLMGQC/final/SRS2329594/R2_final.fq.gz</td><td>FASTQ</td><td>DNA</td><td>3632756</td><td>536068126</td><td>80</td><td>147.6</td><td>150</td><td>148</td><td>150</td><td>150</td><td>0</td><td>150</td><td>85.18</td><td>73.03</td><td>44.84</td></tr>\n",
       "</tbody>\n",
       "</table>\n"
      ],
      "text/latex": [
       "A tidytable: 210 × 18\n",
       "\\begin{tabular}{llllllllllllllllll}\n",
       " Sample & Read & file & format & type & num\\_seqs & sum\\_len & min\\_len & avg\\_len & max\\_len & Q1 & Q2 & Q3 & sum\\_gap & N50 & Q20... & Q30... & GC...\\\\\n",
       " <chr> & <int> & <chr> & <chr> & <chr> & <int> & <int> & <int> & <dbl> & <int> & <dbl> & <dbl> & <dbl> & <int> & <int> & <dbl> & <dbl> & <dbl>\\\\\n",
       "\\hline\n",
       "\t SRS992687 & 1 & /ebio/abt3\\_projects/databases\\_no-backup/DeepMAsED/version2/real\\_data\\_eval/marmdb/LLMGQC/final/SRS992687/R1\\_final.fq.gz & FASTQ & DNA & 4217898 & 389054891 & 80 & 92.2 & 93 & 92 & 93 & 93 & 0 & 93 & 98.19 & 92.32 & 32.24\\\\\n",
       "\t SRS992687 & 2 & /ebio/abt3\\_projects/databases\\_no-backup/DeepMAsED/version2/real\\_data\\_eval/marmdb/LLMGQC/final/SRS992687/R2\\_final.fq.gz & FASTQ & DNA & 4217898 & 387091260 & 80 & 91.8 & 93 & 92 & 93 & 93 & 0 & 93 & 97.81 & 90.77 & 32.23\\\\\n",
       "\t ⋮ & ⋮ & ⋮ & ⋮ & ⋮ & ⋮ & ⋮ & ⋮ & ⋮ & ⋮ & ⋮ & ⋮ & ⋮ & ⋮ & ⋮ & ⋮ & ⋮ & ⋮\\\\\n",
       "\t SRS2329594 & 1 & /ebio/abt3\\_projects/databases\\_no-backup/DeepMAsED/version2/real\\_data\\_eval/marmdb/LLMGQC/final/SRS2329594/R1\\_final.fq.gz & FASTQ & DNA & 3632756 & 536835661 & 80 & 147.8 & 150 & 149 & 150 & 150 & 0 & 150 & 87.91 & 76.93 & 45.17\\\\\n",
       "\t SRS2329594 & 2 & /ebio/abt3\\_projects/databases\\_no-backup/DeepMAsED/version2/real\\_data\\_eval/marmdb/LLMGQC/final/SRS2329594/R2\\_final.fq.gz & FASTQ & DNA & 3632756 & 536068126 & 80 & 147.6 & 150 & 148 & 150 & 150 & 0 & 150 & 85.18 & 73.03 & 44.84\\\\\n",
       "\\end{tabular}\n"
      ],
      "text/markdown": [
       "\n",
       "A tidytable: 210 × 18\n",
       "\n",
       "| Sample &lt;chr&gt; | Read &lt;int&gt; | file &lt;chr&gt; | format &lt;chr&gt; | type &lt;chr&gt; | num_seqs &lt;int&gt; | sum_len &lt;int&gt; | min_len &lt;int&gt; | avg_len &lt;dbl&gt; | max_len &lt;int&gt; | Q1 &lt;dbl&gt; | Q2 &lt;dbl&gt; | Q3 &lt;dbl&gt; | sum_gap &lt;int&gt; | N50 &lt;int&gt; | Q20... &lt;dbl&gt; | Q30... &lt;dbl&gt; | GC... &lt;dbl&gt; |\n",
       "|---|---|---|---|---|---|---|---|---|---|---|---|---|---|---|---|---|---|\n",
       "| SRS992687 | 1 | /ebio/abt3_projects/databases_no-backup/DeepMAsED/version2/real_data_eval/marmdb/LLMGQC/final/SRS992687/R1_final.fq.gz | FASTQ | DNA | 4217898 | 389054891 | 80 | 92.2 | 93 | 92 | 93 | 93 | 0 | 93 | 98.19 | 92.32 | 32.24 |\n",
       "| SRS992687 | 2 | /ebio/abt3_projects/databases_no-backup/DeepMAsED/version2/real_data_eval/marmdb/LLMGQC/final/SRS992687/R2_final.fq.gz | FASTQ | DNA | 4217898 | 387091260 | 80 | 91.8 | 93 | 92 | 93 | 93 | 0 | 93 | 97.81 | 90.77 | 32.23 |\n",
       "| ⋮ | ⋮ | ⋮ | ⋮ | ⋮ | ⋮ | ⋮ | ⋮ | ⋮ | ⋮ | ⋮ | ⋮ | ⋮ | ⋮ | ⋮ | ⋮ | ⋮ | ⋮ |\n",
       "| SRS2329594 | 1 | /ebio/abt3_projects/databases_no-backup/DeepMAsED/version2/real_data_eval/marmdb/LLMGQC/final/SRS2329594/R1_final.fq.gz | FASTQ | DNA | 3632756 | 536835661 | 80 | 147.8 | 150 | 149 | 150 | 150 | 0 | 150 | 87.91 | 76.93 | 45.17 |\n",
       "| SRS2329594 | 2 | /ebio/abt3_projects/databases_no-backup/DeepMAsED/version2/real_data_eval/marmdb/LLMGQC/final/SRS2329594/R2_final.fq.gz | FASTQ | DNA | 3632756 | 536068126 | 80 | 147.6 | 150 | 148 | 150 | 150 | 0 | 150 | 85.18 | 73.03 | 44.84 |\n",
       "\n"
      ],
      "text/plain": [
       "    Sample     Read\n",
       "1   SRS992687  1   \n",
       "2   SRS992687  2   \n",
       "⋮   ⋮          ⋮   \n",
       "209 SRS2329594 1   \n",
       "210 SRS2329594 2   \n",
       "    file                                                                                                                   \n",
       "1   /ebio/abt3_projects/databases_no-backup/DeepMAsED/version2/real_data_eval/marmdb/LLMGQC/final/SRS992687/R1_final.fq.gz \n",
       "2   /ebio/abt3_projects/databases_no-backup/DeepMAsED/version2/real_data_eval/marmdb/LLMGQC/final/SRS992687/R2_final.fq.gz \n",
       "⋮   ⋮                                                                                                                      \n",
       "209 /ebio/abt3_projects/databases_no-backup/DeepMAsED/version2/real_data_eval/marmdb/LLMGQC/final/SRS2329594/R1_final.fq.gz\n",
       "210 /ebio/abt3_projects/databases_no-backup/DeepMAsED/version2/real_data_eval/marmdb/LLMGQC/final/SRS2329594/R2_final.fq.gz\n",
       "    format type num_seqs sum_len   min_len avg_len max_len Q1  Q2  Q3  sum_gap\n",
       "1   FASTQ  DNA  4217898  389054891 80      92.2    93      92  93  93  0      \n",
       "2   FASTQ  DNA  4217898  387091260 80      91.8    93      92  93  93  0      \n",
       "⋮   ⋮      ⋮    ⋮        ⋮         ⋮       ⋮       ⋮       ⋮   ⋮   ⋮   ⋮      \n",
       "209 FASTQ  DNA  3632756  536835661 80      147.8   150     149 150 150 0      \n",
       "210 FASTQ  DNA  3632756  536068126 80      147.6   150     148 150 150 0      \n",
       "    N50 Q20... Q30... GC...\n",
       "1   93  98.19  92.32  32.24\n",
       "2   93  97.81  90.77  32.23\n",
       "⋮   ⋮   ⋮      ⋮      ⋮    \n",
       "209 150 87.91  76.93  45.17\n",
       "210 150 85.18  73.03  44.84"
      ]
     },
     "metadata": {},
     "output_type": "display_data"
    }
   ],
   "source": [
    "F = file.path(base_dir, 'seqkit_stats.tsv')\n",
    "seqkit = Fread(F) %>%\n",
    "    semi_join.(samps_f, c('Sample'))\n",
    "seqkit"
   ]
  },
  {
   "cell_type": "code",
   "execution_count": 33,
   "metadata": {
    "ExecuteTime": {
     "end_time": "2022-09-20T22:33:23.854610Z",
     "start_time": "2022-09-20T22:33:23.665Z"
    }
   },
   "outputs": [
    {
     "data": {
      "text/html": [
       "<table class=\"dataframe\">\n",
       "<caption>A matrix: 1 × 8 of type dbl</caption>\n",
       "<thead>\n",
       "\t<tr><th></th><th scope=col>Min.</th><th scope=col>1st Qu.</th><th scope=col>Median</th><th scope=col>Mean</th><th scope=col>3rd Qu.</th><th scope=col>Max.</th><th scope=col>sd</th><th scope=col>sd_err_of_mean</th></tr>\n",
       "</thead>\n",
       "<tbody>\n",
       "\t<tr><th scope=row>num_seqs</th><td>849764</td><td>3759562</td><td>4107982</td><td>4110241</td><td>4488653</td><td>4979920</td><td>681682.2</td><td>278295.6</td></tr>\n",
       "</tbody>\n",
       "</table>\n"
      ],
      "text/latex": [
       "A matrix: 1 × 8 of type dbl\n",
       "\\begin{tabular}{r|llllllll}\n",
       "  & Min. & 1st Qu. & Median & Mean & 3rd Qu. & Max. & sd & sd\\_err\\_of\\_mean\\\\\n",
       "\\hline\n",
       "\tnum\\_seqs & 849764 & 3759562 & 4107982 & 4110241 & 4488653 & 4979920 & 681682.2 & 278295.6\\\\\n",
       "\\end{tabular}\n"
      ],
      "text/markdown": [
       "\n",
       "A matrix: 1 × 8 of type dbl\n",
       "\n",
       "| <!--/--> | Min. | 1st Qu. | Median | Mean | 3rd Qu. | Max. | sd | sd_err_of_mean |\n",
       "|---|---|---|---|---|---|---|---|---|\n",
       "| num_seqs | 849764 | 3759562 | 4107982 | 4110241 | 4488653 | 4979920 | 681682.2 | 278295.6 |\n",
       "\n"
      ],
      "text/plain": [
       "         Min.   1st Qu. Median  Mean    3rd Qu. Max.    sd       sd_err_of_mean\n",
       "num_seqs 849764 3759562 4107982 4110241 4488653 4979920 681682.2 278295.6      "
      ]
     },
     "metadata": {},
     "output_type": "display_data"
    },
    {
     "data": {
      "text/html": [
       "<table class=\"dataframe\">\n",
       "<caption>A matrix: 1 × 8 of type dbl</caption>\n",
       "<thead>\n",
       "\t<tr><th></th><th scope=col>Min.</th><th scope=col>1st Qu.</th><th scope=col>Median</th><th scope=col>Mean</th><th scope=col>3rd Qu.</th><th scope=col>Max.</th><th scope=col>sd</th><th scope=col>sd_err_of_mean</th></tr>\n",
       "</thead>\n",
       "<tbody>\n",
       "\t<tr><th scope=row>min_len</th><td>80</td><td>80</td><td>80</td><td>80</td><td>80</td><td>80</td><td>0</td><td>0</td></tr>\n",
       "</tbody>\n",
       "</table>\n"
      ],
      "text/latex": [
       "A matrix: 1 × 8 of type dbl\n",
       "\\begin{tabular}{r|llllllll}\n",
       "  & Min. & 1st Qu. & Median & Mean & 3rd Qu. & Max. & sd & sd\\_err\\_of\\_mean\\\\\n",
       "\\hline\n",
       "\tmin\\_len & 80 & 80 & 80 & 80 & 80 & 80 & 0 & 0\\\\\n",
       "\\end{tabular}\n"
      ],
      "text/markdown": [
       "\n",
       "A matrix: 1 × 8 of type dbl\n",
       "\n",
       "| <!--/--> | Min. | 1st Qu. | Median | Mean | 3rd Qu. | Max. | sd | sd_err_of_mean |\n",
       "|---|---|---|---|---|---|---|---|---|\n",
       "| min_len | 80 | 80 | 80 | 80 | 80 | 80 | 0 | 0 |\n",
       "\n"
      ],
      "text/plain": [
       "        Min. 1st Qu. Median Mean 3rd Qu. Max. sd sd_err_of_mean\n",
       "min_len 80   80      80     80   80      80   0  0             "
      ]
     },
     "metadata": {},
     "output_type": "display_data"
    },
    {
     "data": {
      "text/html": [
       "<table class=\"dataframe\">\n",
       "<caption>A matrix: 1 × 8 of type dbl</caption>\n",
       "<thead>\n",
       "\t<tr><th></th><th scope=col>Min.</th><th scope=col>1st Qu.</th><th scope=col>Median</th><th scope=col>Mean</th><th scope=col>3rd Qu.</th><th scope=col>Max.</th><th scope=col>sd</th><th scope=col>sd_err_of_mean</th></tr>\n",
       "</thead>\n",
       "<tbody>\n",
       "\t<tr><th scope=row>avg_len</th><td>91.5</td><td>92.225</td><td>147.85</td><td>127.0252</td><td>148.5</td><td>150.3</td><td>27.515</td><td>11.233</td></tr>\n",
       "</tbody>\n",
       "</table>\n"
      ],
      "text/latex": [
       "A matrix: 1 × 8 of type dbl\n",
       "\\begin{tabular}{r|llllllll}\n",
       "  & Min. & 1st Qu. & Median & Mean & 3rd Qu. & Max. & sd & sd\\_err\\_of\\_mean\\\\\n",
       "\\hline\n",
       "\tavg\\_len & 91.5 & 92.225 & 147.85 & 127.0252 & 148.5 & 150.3 & 27.515 & 11.233\\\\\n",
       "\\end{tabular}\n"
      ],
      "text/markdown": [
       "\n",
       "A matrix: 1 × 8 of type dbl\n",
       "\n",
       "| <!--/--> | Min. | 1st Qu. | Median | Mean | 3rd Qu. | Max. | sd | sd_err_of_mean |\n",
       "|---|---|---|---|---|---|---|---|---|\n",
       "| avg_len | 91.5 | 92.225 | 147.85 | 127.0252 | 148.5 | 150.3 | 27.515 | 11.233 |\n",
       "\n"
      ],
      "text/plain": [
       "        Min. 1st Qu. Median Mean     3rd Qu. Max.  sd     sd_err_of_mean\n",
       "avg_len 91.5 92.225  147.85 127.0252 148.5   150.3 27.515 11.233        "
      ]
     },
     "metadata": {},
     "output_type": "display_data"
    },
    {
     "data": {
      "text/html": [
       "<table class=\"dataframe\">\n",
       "<caption>A matrix: 1 × 8 of type dbl</caption>\n",
       "<thead>\n",
       "\t<tr><th></th><th scope=col>Min.</th><th scope=col>1st Qu.</th><th scope=col>Median</th><th scope=col>Mean</th><th scope=col>3rd Qu.</th><th scope=col>Max.</th><th scope=col>sd</th><th scope=col>sd_err_of_mean</th></tr>\n",
       "</thead>\n",
       "<tbody>\n",
       "\t<tr><th scope=row>max_len</th><td>93</td><td>93</td><td>150</td><td>128.5238</td><td>150</td><td>151</td><td>27.936</td><td>11.405</td></tr>\n",
       "</tbody>\n",
       "</table>\n"
      ],
      "text/latex": [
       "A matrix: 1 × 8 of type dbl\n",
       "\\begin{tabular}{r|llllllll}\n",
       "  & Min. & 1st Qu. & Median & Mean & 3rd Qu. & Max. & sd & sd\\_err\\_of\\_mean\\\\\n",
       "\\hline\n",
       "\tmax\\_len & 93 & 93 & 150 & 128.5238 & 150 & 151 & 27.936 & 11.405\\\\\n",
       "\\end{tabular}\n"
      ],
      "text/markdown": [
       "\n",
       "A matrix: 1 × 8 of type dbl\n",
       "\n",
       "| <!--/--> | Min. | 1st Qu. | Median | Mean | 3rd Qu. | Max. | sd | sd_err_of_mean |\n",
       "|---|---|---|---|---|---|---|---|---|\n",
       "| max_len | 93 | 93 | 150 | 128.5238 | 150 | 151 | 27.936 | 11.405 |\n",
       "\n"
      ],
      "text/plain": [
       "        Min. 1st Qu. Median Mean     3rd Qu. Max. sd     sd_err_of_mean\n",
       "max_len 93   93      150    128.5238 150     151  27.936 11.405        "
      ]
     },
     "metadata": {},
     "output_type": "display_data"
    },
    {
     "data": {
      "text/html": [
       "<table class=\"dataframe\">\n",
       "<caption>A matrix: 1 × 8 of type dbl</caption>\n",
       "<thead>\n",
       "\t<tr><th></th><th scope=col>Min.</th><th scope=col>1st Qu.</th><th scope=col>Median</th><th scope=col>Mean</th><th scope=col>3rd Qu.</th><th scope=col>Max.</th><th scope=col>sd</th><th scope=col>sd_err_of_mean</th></tr>\n",
       "</thead>\n",
       "<tbody>\n",
       "\t<tr><th scope=row>Q30...</th><td>65.6</td><td>79.715</td><td>89.02</td><td>86.17638</td><td>92.5525</td><td>96.55</td><td>7.704</td><td>3.145</td></tr>\n",
       "</tbody>\n",
       "</table>\n"
      ],
      "text/latex": [
       "A matrix: 1 × 8 of type dbl\n",
       "\\begin{tabular}{r|llllllll}\n",
       "  & Min. & 1st Qu. & Median & Mean & 3rd Qu. & Max. & sd & sd\\_err\\_of\\_mean\\\\\n",
       "\\hline\n",
       "\tQ30... & 65.6 & 79.715 & 89.02 & 86.17638 & 92.5525 & 96.55 & 7.704 & 3.145\\\\\n",
       "\\end{tabular}\n"
      ],
      "text/markdown": [
       "\n",
       "A matrix: 1 × 8 of type dbl\n",
       "\n",
       "| <!--/--> | Min. | 1st Qu. | Median | Mean | 3rd Qu. | Max. | sd | sd_err_of_mean |\n",
       "|---|---|---|---|---|---|---|---|---|\n",
       "| Q30... | 65.6 | 79.715 | 89.02 | 86.17638 | 92.5525 | 96.55 | 7.704 | 3.145 |\n",
       "\n"
      ],
      "text/plain": [
       "       Min. 1st Qu. Median Mean     3rd Qu. Max.  sd    sd_err_of_mean\n",
       "Q30... 65.6 79.715  89.02  86.17638 92.5525 96.55 7.704 3.145         "
      ]
     },
     "metadata": {},
     "output_type": "display_data"
    }
   ],
   "source": [
    "# stats\n",
    "summary_x(seqkit$num_seqs)\n",
    "summary_x(seqkit$min_len)\n",
    "summary_x(seqkit$avg_len)\n",
    "summary_x(seqkit$max_len)\n",
    "summary_x(seqkit$Q30...)"
   ]
  },
  {
   "cell_type": "code",
   "execution_count": 34,
   "metadata": {
    "ExecuteTime": {
     "end_time": "2022-09-20T22:33:42.333101Z",
     "start_time": "2022-09-20T22:33:42.169Z"
    }
   },
   "outputs": [
    {
     "data": {
      "text/html": [
       "<table class=\"dataframe\">\n",
       "<caption>A tidytable: 104 × 4</caption>\n",
       "<thead>\n",
       "\t<tr><th scope=col>Sample</th><th scope=col>num_seqs</th><th scope=col>avg_len</th><th scope=col>Q30...</th></tr>\n",
       "\t<tr><th scope=col>&lt;chr&gt;</th><th scope=col>&lt;int&gt;</th><th scope=col>&lt;dbl&gt;</th><th scope=col>&lt;dbl&gt;</th></tr>\n",
       "</thead>\n",
       "<tbody>\n",
       "\t<tr><td>SRS992687</td><td>4217898</td><td>92.2</td><td>92.32</td></tr>\n",
       "\t<tr><td>SRS992704</td><td>4211206</td><td>92.3</td><td>92.92</td></tr>\n",
       "\t<tr><td>⋮</td><td>⋮</td><td>⋮</td><td>⋮</td></tr>\n",
       "\t<tr><td>SRS2329824</td><td>3759562</td><td>148.5</td><td>90.54</td></tr>\n",
       "\t<tr><td>SRS2329594</td><td>3632756</td><td>147.8</td><td>76.93</td></tr>\n",
       "</tbody>\n",
       "</table>\n"
      ],
      "text/latex": [
       "A tidytable: 104 × 4\n",
       "\\begin{tabular}{llll}\n",
       " Sample & num\\_seqs & avg\\_len & Q30...\\\\\n",
       " <chr> & <int> & <dbl> & <dbl>\\\\\n",
       "\\hline\n",
       "\t SRS992687 & 4217898 & 92.2 & 92.32\\\\\n",
       "\t SRS992704 & 4211206 & 92.3 & 92.92\\\\\n",
       "\t ⋮ & ⋮ & ⋮ & ⋮\\\\\n",
       "\t SRS2329824 & 3759562 & 148.5 & 90.54\\\\\n",
       "\t SRS2329594 & 3632756 & 147.8 & 76.93\\\\\n",
       "\\end{tabular}\n"
      ],
      "text/markdown": [
       "\n",
       "A tidytable: 104 × 4\n",
       "\n",
       "| Sample &lt;chr&gt; | num_seqs &lt;int&gt; | avg_len &lt;dbl&gt; | Q30... &lt;dbl&gt; |\n",
       "|---|---|---|---|\n",
       "| SRS992687 | 4217898 | 92.2 | 92.32 |\n",
       "| SRS992704 | 4211206 | 92.3 | 92.92 |\n",
       "| ⋮ | ⋮ | ⋮ | ⋮ |\n",
       "| SRS2329824 | 3759562 | 148.5 | 90.54 |\n",
       "| SRS2329594 | 3632756 | 147.8 | 76.93 |\n",
       "\n"
      ],
      "text/plain": [
       "    Sample     num_seqs avg_len Q30...\n",
       "1   SRS992687  4217898  92.2    92.32 \n",
       "2   SRS992704  4211206  92.3    92.92 \n",
       "⋮   ⋮          ⋮        ⋮       ⋮     \n",
       "103 SRS2329824 3759562  148.5   90.54 \n",
       "104 SRS2329594 3632756  147.8   76.93 "
      ]
     },
     "metadata": {},
     "output_type": "display_data"
    }
   ],
   "source": [
    "# filtering to >=1 million paired reads\n",
    "seqkit_f = seqkit %>%\n",
    "    filter.(num_seqs >= 1e6) %>%\n",
    "    filter.(Read == 1) %>%\n",
    "    select.(Sample, num_seqs, avg_len, Q30...)\n",
    "seqkit_f"
   ]
  },
  {
   "cell_type": "code",
   "execution_count": 35,
   "metadata": {
    "ExecuteTime": {
     "end_time": "2022-09-20T22:33:48.051032Z",
     "start_time": "2022-09-20T22:33:47.873Z"
    }
   },
   "outputs": [
    {
     "data": {
      "text/html": [
       "<table class=\"dataframe\">\n",
       "<caption>A tidytable: 104 × 49</caption>\n",
       "<thead>\n",
       "\t<tr><th scope=col>Sample</th><th scope=col>Read1</th><th scope=col>Read2</th><th scope=col>Notes</th><th scope=col>library_id</th><th scope=col>project_id</th><th scope=col>BioprojectID</th><th scope=col>PubmedID</th><th scope=col>project_name</th><th scope=col>creation_date</th><th scope=col>⋯</th><th scope=col>quality_above_30_SRA</th><th scope=col>mean_quality_SRA</th><th scope=col>source_database</th><th scope=col>average_length</th><th scope=col>assembled</th><th scope=col>n_samples</th><th scope=col>n_recs</th><th scope=col>num_seqs</th><th scope=col>avg_len</th><th scope=col>Q30...</th></tr>\n",
       "\t<tr><th scope=col>&lt;chr&gt;</th><th scope=col>&lt;chr&gt;</th><th scope=col>&lt;chr&gt;</th><th scope=col>&lt;lgl&gt;</th><th scope=col>&lt;chr&gt;</th><th scope=col>&lt;chr&gt;</th><th scope=col>&lt;chr&gt;</th><th scope=col>&lt;chr&gt;</th><th scope=col>&lt;chr&gt;</th><th scope=col>&lt;date&gt;</th><th scope=col>⋯</th><th scope=col>&lt;int&gt;</th><th scope=col>&lt;dbl&gt;</th><th scope=col>&lt;chr&gt;</th><th scope=col>&lt;int&gt;</th><th scope=col>&lt;chr&gt;</th><th scope=col>&lt;int&gt;</th><th scope=col>&lt;int&gt;</th><th scope=col>&lt;int&gt;</th><th scope=col>&lt;dbl&gt;</th><th scope=col>&lt;dbl&gt;</th></tr>\n",
       "</thead>\n",
       "<tbody>\n",
       "\t<tr><td>SRS992687</td><td>/ebio/abt3_projects/databases_no-backup/DeepMAsED/version2/real_data_eval/marmdb/LLMGQC/final/SRS992687/R1_final.fq.gz</td><td>/ebio/abt3_projects/databases_no-backup/DeepMAsED/version2/real_data_eval/marmdb/LLMGQC/final/SRS992687/R2_final.fq.gz</td><td>NA</td><td>SRR2103001</td><td>SRX1097582</td><td>289734</td><td>27377622,27</td><td>Red Sea metagenomes</td><td>2015-12-31</td><td>⋯</td><td>85</td><td>34.08</td><td>SRA</td><td>186</td><td>No</td><td>40</td><td>1</td><td>4217898</td><td>92.2</td><td>92.32</td></tr>\n",
       "\t<tr><td>SRS992704</td><td>/ebio/abt3_projects/databases_no-backup/DeepMAsED/version2/real_data_eval/marmdb/LLMGQC/final/SRS992704/R1_final.fq.gz</td><td>/ebio/abt3_projects/databases_no-backup/DeepMAsED/version2/real_data_eval/marmdb/LLMGQC/final/SRS992704/R2_final.fq.gz</td><td>NA</td><td>SRR2103016</td><td>SRX1097597</td><td>289734</td><td>27377622,27</td><td>Red Sea metagenomes</td><td>2015-12-31</td><td>⋯</td><td>86</td><td>34.30</td><td>SRA</td><td>186</td><td>No</td><td>40</td><td>1</td><td>4211206</td><td>92.3</td><td>92.92</td></tr>\n",
       "\t<tr><td>⋮</td><td>⋮</td><td>⋮</td><td>⋮</td><td>⋮</td><td>⋮</td><td>⋮</td><td>⋮</td><td>⋮</td><td>⋮</td><td>⋱</td><td>⋮</td><td>⋮</td><td>⋮</td><td>⋮</td><td>⋮</td><td>⋮</td><td>⋮</td><td>⋮</td><td>⋮</td><td>⋮</td></tr>\n",
       "\t<tr><td>SRS2329824</td><td>/ebio/abt3_projects/databases_no-backup/DeepMAsED/version2/real_data_eval/marmdb/LLMGQC/final/SRS2329824/R1_final.fq.gz</td><td>/ebio/abt3_projects/databases_no-backup/DeepMAsED/version2/real_data_eval/marmdb/LLMGQC/final/SRS2329824/R2_final.fq.gz</td><td>NA</td><td>SRR5788396</td><td>SRX2974816</td><td>385854</td><td>NA</td><td>Marine metagenomes from the bioGEOTRACES project</td><td>2018-05-01</td><td>⋯</td><td>85</td><td>32.69</td><td>SRA</td><td>300</td><td>No</td><td>40</td><td>1</td><td>3759562</td><td>148.5</td><td>90.54</td></tr>\n",
       "\t<tr><td>SRS2329594</td><td>/ebio/abt3_projects/databases_no-backup/DeepMAsED/version2/real_data_eval/marmdb/LLMGQC/final/SRS2329594/R1_final.fq.gz</td><td>/ebio/abt3_projects/databases_no-backup/DeepMAsED/version2/real_data_eval/marmdb/LLMGQC/final/SRS2329594/R2_final.fq.gz</td><td>NA</td><td>SRR5788145</td><td>SRX2974587</td><td>385854</td><td>NA</td><td>Marine metagenomes from the bioGEOTRACES project</td><td>2018-05-01</td><td>⋯</td><td>75</td><td>31.55</td><td>SRA</td><td>300</td><td>No</td><td>40</td><td>1</td><td>3632756</td><td>147.8</td><td>76.93</td></tr>\n",
       "</tbody>\n",
       "</table>\n"
      ],
      "text/latex": [
       "A tidytable: 104 × 49\n",
       "\\begin{tabular}{lllllllllllllllllllll}\n",
       " Sample & Read1 & Read2 & Notes & library\\_id & project\\_id & BioprojectID & PubmedID & project\\_name & creation\\_date & ⋯ & quality\\_above\\_30\\_SRA & mean\\_quality\\_SRA & source\\_database & average\\_length & assembled & n\\_samples & n\\_recs & num\\_seqs & avg\\_len & Q30...\\\\\n",
       " <chr> & <chr> & <chr> & <lgl> & <chr> & <chr> & <chr> & <chr> & <chr> & <date> & ⋯ & <int> & <dbl> & <chr> & <int> & <chr> & <int> & <int> & <int> & <dbl> & <dbl>\\\\\n",
       "\\hline\n",
       "\t SRS992687 & /ebio/abt3\\_projects/databases\\_no-backup/DeepMAsED/version2/real\\_data\\_eval/marmdb/LLMGQC/final/SRS992687/R1\\_final.fq.gz & /ebio/abt3\\_projects/databases\\_no-backup/DeepMAsED/version2/real\\_data\\_eval/marmdb/LLMGQC/final/SRS992687/R2\\_final.fq.gz & NA & SRR2103001 & SRX1097582 & 289734 & 27377622,27 & Red Sea metagenomes & 2015-12-31 & ⋯ & 85 & 34.08 & SRA & 186 & No & 40 & 1 & 4217898 & 92.2 & 92.32\\\\\n",
       "\t SRS992704 & /ebio/abt3\\_projects/databases\\_no-backup/DeepMAsED/version2/real\\_data\\_eval/marmdb/LLMGQC/final/SRS992704/R1\\_final.fq.gz & /ebio/abt3\\_projects/databases\\_no-backup/DeepMAsED/version2/real\\_data\\_eval/marmdb/LLMGQC/final/SRS992704/R2\\_final.fq.gz & NA & SRR2103016 & SRX1097597 & 289734 & 27377622,27 & Red Sea metagenomes & 2015-12-31 & ⋯ & 86 & 34.30 & SRA & 186 & No & 40 & 1 & 4211206 & 92.3 & 92.92\\\\\n",
       "\t ⋮ & ⋮ & ⋮ & ⋮ & ⋮ & ⋮ & ⋮ & ⋮ & ⋮ & ⋮ & ⋱ & ⋮ & ⋮ & ⋮ & ⋮ & ⋮ & ⋮ & ⋮ & ⋮ & ⋮ & ⋮\\\\\n",
       "\t SRS2329824 & /ebio/abt3\\_projects/databases\\_no-backup/DeepMAsED/version2/real\\_data\\_eval/marmdb/LLMGQC/final/SRS2329824/R1\\_final.fq.gz & /ebio/abt3\\_projects/databases\\_no-backup/DeepMAsED/version2/real\\_data\\_eval/marmdb/LLMGQC/final/SRS2329824/R2\\_final.fq.gz & NA & SRR5788396 & SRX2974816 & 385854 & NA & Marine metagenomes from the bioGEOTRACES project & 2018-05-01 & ⋯ & 85 & 32.69 & SRA & 300 & No & 40 & 1 & 3759562 & 148.5 & 90.54\\\\\n",
       "\t SRS2329594 & /ebio/abt3\\_projects/databases\\_no-backup/DeepMAsED/version2/real\\_data\\_eval/marmdb/LLMGQC/final/SRS2329594/R1\\_final.fq.gz & /ebio/abt3\\_projects/databases\\_no-backup/DeepMAsED/version2/real\\_data\\_eval/marmdb/LLMGQC/final/SRS2329594/R2\\_final.fq.gz & NA & SRR5788145 & SRX2974587 & 385854 & NA & Marine metagenomes from the bioGEOTRACES project & 2018-05-01 & ⋯ & 75 & 31.55 & SRA & 300 & No & 40 & 1 & 3632756 & 147.8 & 76.93\\\\\n",
       "\\end{tabular}\n"
      ],
      "text/markdown": [
       "\n",
       "A tidytable: 104 × 49\n",
       "\n",
       "| Sample &lt;chr&gt; | Read1 &lt;chr&gt; | Read2 &lt;chr&gt; | Notes &lt;lgl&gt; | library_id &lt;chr&gt; | project_id &lt;chr&gt; | BioprojectID &lt;chr&gt; | PubmedID &lt;chr&gt; | project_name &lt;chr&gt; | creation_date &lt;date&gt; | ⋯ ⋯ | quality_above_30_SRA &lt;int&gt; | mean_quality_SRA &lt;dbl&gt; | source_database &lt;chr&gt; | average_length &lt;int&gt; | assembled &lt;chr&gt; | n_samples &lt;int&gt; | n_recs &lt;int&gt; | num_seqs &lt;int&gt; | avg_len &lt;dbl&gt; | Q30... &lt;dbl&gt; |\n",
       "|---|---|---|---|---|---|---|---|---|---|---|---|---|---|---|---|---|---|---|---|---|\n",
       "| SRS992687 | /ebio/abt3_projects/databases_no-backup/DeepMAsED/version2/real_data_eval/marmdb/LLMGQC/final/SRS992687/R1_final.fq.gz | /ebio/abt3_projects/databases_no-backup/DeepMAsED/version2/real_data_eval/marmdb/LLMGQC/final/SRS992687/R2_final.fq.gz | NA | SRR2103001 | SRX1097582 | 289734 | 27377622,27 | Red Sea metagenomes | 2015-12-31 | ⋯ | 85 | 34.08 | SRA | 186 | No | 40 | 1 | 4217898 | 92.2 | 92.32 |\n",
       "| SRS992704 | /ebio/abt3_projects/databases_no-backup/DeepMAsED/version2/real_data_eval/marmdb/LLMGQC/final/SRS992704/R1_final.fq.gz | /ebio/abt3_projects/databases_no-backup/DeepMAsED/version2/real_data_eval/marmdb/LLMGQC/final/SRS992704/R2_final.fq.gz | NA | SRR2103016 | SRX1097597 | 289734 | 27377622,27 | Red Sea metagenomes | 2015-12-31 | ⋯ | 86 | 34.30 | SRA | 186 | No | 40 | 1 | 4211206 | 92.3 | 92.92 |\n",
       "| ⋮ | ⋮ | ⋮ | ⋮ | ⋮ | ⋮ | ⋮ | ⋮ | ⋮ | ⋮ | ⋱ | ⋮ | ⋮ | ⋮ | ⋮ | ⋮ | ⋮ | ⋮ | ⋮ | ⋮ | ⋮ |\n",
       "| SRS2329824 | /ebio/abt3_projects/databases_no-backup/DeepMAsED/version2/real_data_eval/marmdb/LLMGQC/final/SRS2329824/R1_final.fq.gz | /ebio/abt3_projects/databases_no-backup/DeepMAsED/version2/real_data_eval/marmdb/LLMGQC/final/SRS2329824/R2_final.fq.gz | NA | SRR5788396 | SRX2974816 | 385854 | NA | Marine metagenomes from the bioGEOTRACES project | 2018-05-01 | ⋯ | 85 | 32.69 | SRA | 300 | No | 40 | 1 | 3759562 | 148.5 | 90.54 |\n",
       "| SRS2329594 | /ebio/abt3_projects/databases_no-backup/DeepMAsED/version2/real_data_eval/marmdb/LLMGQC/final/SRS2329594/R1_final.fq.gz | /ebio/abt3_projects/databases_no-backup/DeepMAsED/version2/real_data_eval/marmdb/LLMGQC/final/SRS2329594/R2_final.fq.gz | NA | SRR5788145 | SRX2974587 | 385854 | NA | Marine metagenomes from the bioGEOTRACES project | 2018-05-01 | ⋯ | 75 | 31.55 | SRA | 300 | No | 40 | 1 | 3632756 | 147.8 | 76.93 |\n",
       "\n"
      ],
      "text/plain": [
       "    Sample    \n",
       "1   SRS992687 \n",
       "2   SRS992704 \n",
       "⋮   ⋮         \n",
       "103 SRS2329824\n",
       "104 SRS2329594\n",
       "    Read1                                                                                                                  \n",
       "1   /ebio/abt3_projects/databases_no-backup/DeepMAsED/version2/real_data_eval/marmdb/LLMGQC/final/SRS992687/R1_final.fq.gz \n",
       "2   /ebio/abt3_projects/databases_no-backup/DeepMAsED/version2/real_data_eval/marmdb/LLMGQC/final/SRS992704/R1_final.fq.gz \n",
       "⋮   ⋮                                                                                                                      \n",
       "103 /ebio/abt3_projects/databases_no-backup/DeepMAsED/version2/real_data_eval/marmdb/LLMGQC/final/SRS2329824/R1_final.fq.gz\n",
       "104 /ebio/abt3_projects/databases_no-backup/DeepMAsED/version2/real_data_eval/marmdb/LLMGQC/final/SRS2329594/R1_final.fq.gz\n",
       "    Read2                                                                                                                  \n",
       "1   /ebio/abt3_projects/databases_no-backup/DeepMAsED/version2/real_data_eval/marmdb/LLMGQC/final/SRS992687/R2_final.fq.gz \n",
       "2   /ebio/abt3_projects/databases_no-backup/DeepMAsED/version2/real_data_eval/marmdb/LLMGQC/final/SRS992704/R2_final.fq.gz \n",
       "⋮   ⋮                                                                                                                      \n",
       "103 /ebio/abt3_projects/databases_no-backup/DeepMAsED/version2/real_data_eval/marmdb/LLMGQC/final/SRS2329824/R2_final.fq.gz\n",
       "104 /ebio/abt3_projects/databases_no-backup/DeepMAsED/version2/real_data_eval/marmdb/LLMGQC/final/SRS2329594/R2_final.fq.gz\n",
       "    Notes library_id project_id BioprojectID PubmedID   \n",
       "1   NA    SRR2103001 SRX1097582 289734       27377622,27\n",
       "2   NA    SRR2103016 SRX1097597 289734       27377622,27\n",
       "⋮   ⋮     ⋮          ⋮          ⋮            ⋮          \n",
       "103 NA    SRR5788396 SRX2974816 385854       NA         \n",
       "104 NA    SRR5788145 SRX2974587 385854       NA         \n",
       "    project_name                                     creation_date ⋯\n",
       "1   Red Sea metagenomes                              2015-12-31    ⋯\n",
       "2   Red Sea metagenomes                              2015-12-31    ⋯\n",
       "⋮   ⋮                                                ⋮             ⋱\n",
       "103 Marine metagenomes from the bioGEOTRACES project 2018-05-01    ⋯\n",
       "104 Marine metagenomes from the bioGEOTRACES project 2018-05-01    ⋯\n",
       "    quality_above_30_SRA mean_quality_SRA source_database average_length\n",
       "1   85                   34.08            SRA             186           \n",
       "2   86                   34.30            SRA             186           \n",
       "⋮   ⋮                    ⋮                ⋮               ⋮             \n",
       "103 85                   32.69            SRA             300           \n",
       "104 75                   31.55            SRA             300           \n",
       "    assembled n_samples n_recs num_seqs avg_len Q30...\n",
       "1   No        40        1      4217898  92.2    92.32 \n",
       "2   No        40        1      4211206  92.3    92.92 \n",
       "⋮   ⋮         ⋮         ⋮      ⋮        ⋮       ⋮     \n",
       "103 No        40        1      3759562  148.5   90.54 \n",
       "104 No        40        1      3632756  147.8   76.93 "
      ]
     },
     "metadata": {},
     "output_type": "display_data"
    }
   ],
   "source": [
    "# joining samps & quality\n",
    "samps_fj = samps_f %>%\n",
    "    inner_join.(seqkit_f, c('Sample'))\n",
    "samps_fj"
   ]
  },
  {
   "cell_type": "code",
   "execution_count": 36,
   "metadata": {
    "ExecuteTime": {
     "end_time": "2022-09-20T22:33:54.662054Z",
     "start_time": "2022-09-20T22:33:54.512Z"
    }
   },
   "outputs": [
    {
     "data": {
      "text/plain": [
       ".\n",
       "     HOT ALOHA metagenomic time and depth series \n",
       "                                              24 \n",
       "Marine metagenomes from the bioGEOTRACES project \n",
       "                                              40 \n",
       "                             Red Sea metagenomes \n",
       "                                              40 "
      ]
     },
     "metadata": {},
     "output_type": "display_data"
    }
   ],
   "source": [
    "# projects\n",
    "samps_fj$project_name %>% table"
   ]
  },
  {
   "cell_type": "markdown",
   "metadata": {},
   "source": [
    "## Writing table"
   ]
  },
  {
   "cell_type": "code",
   "execution_count": 37,
   "metadata": {
    "ExecuteTime": {
     "end_time": "2022-09-20T22:34:01.928603Z",
     "start_time": "2022-09-20T22:34:01.786Z"
    }
   },
   "outputs": [
    {
     "name": "stdout",
     "output_type": "stream",
     "text": [
      "File written: /ebio/abt3_projects/databases_no-backup/DeepMAsED/version2/real_data_eval/marmdb//LLMGQC/final/samples_final.tsv \n"
     ]
    }
   ],
   "source": [
    "F = file.path(work_dir, 'LLMGQC', 'final', 'samples_final.tsv')\n",
    "write_table(samps_fj, F)"
   ]
  },
  {
   "cell_type": "markdown",
   "metadata": {},
   "source": [
    "# sessionInfo"
   ]
  },
  {
   "cell_type": "code",
   "execution_count": 38,
   "metadata": {
    "ExecuteTime": {
     "end_time": "2022-09-20T22:34:10.320757Z",
     "start_time": "2022-09-20T22:34:10.124Z"
    }
   },
   "outputs": [
    {
     "data": {
      "text/plain": [
       "R version 4.1.1 (2021-08-10)\n",
       "Platform: x86_64-conda-linux-gnu (64-bit)\n",
       "Running under: Ubuntu 20.04.4 LTS\n",
       "\n",
       "Matrix products: default\n",
       "BLAS/LAPACK: /tmp/global2/nyoungblut/code/general/conda_envs/general-tidyverse/lib/libopenblasp-r0.3.18.so\n",
       "\n",
       "locale:\n",
       " [1] LC_CTYPE=en_US.UTF-8       LC_NUMERIC=C              \n",
       " [3] LC_TIME=en_US.UTF-8        LC_COLLATE=en_US.UTF-8    \n",
       " [5] LC_MONETARY=en_US.UTF-8    LC_MESSAGES=en_US.UTF-8   \n",
       " [7] LC_PAPER=en_US.UTF-8       LC_NAME=C                 \n",
       " [9] LC_ADDRESS=C               LC_TELEPHONE=C            \n",
       "[11] LC_MEASUREMENT=en_US.UTF-8 LC_IDENTIFICATION=C       \n",
       "\n",
       "attached base packages:\n",
       "[1] stats     graphics  grDevices utils     datasets  methods   base     \n",
       "\n",
       "other attached packages:\n",
       "[1] clustermq_0.8.95.2 LeyLabRMisc_0.2.1  tidytable_0.6.6    data.table_1.14.2 \n",
       "[5] ggplot2_3.3.5      tidyr_1.1.4        dplyr_1.0.7       \n",
       "\n",
       "loaded via a namespace (and not attached):\n",
       " [1] Rcpp_1.0.7       plyr_1.8.6       pillar_1.6.4     compiler_4.1.1  \n",
       " [5] base64enc_0.1-3  tools_4.1.1      digest_0.6.29    uuid_1.0-3      \n",
       " [9] jsonlite_1.7.2   evaluate_0.14    lifecycle_1.0.1  tibble_3.1.6    \n",
       "[13] gtable_0.3.0     pkgconfig_2.0.3  rlang_0.4.12     IRdisplay_1.1   \n",
       "[17] IRkernel_1.3     fastmap_1.1.0    repr_1.1.4       withr_2.4.3     \n",
       "[21] generics_0.1.1   vctrs_0.3.8      grid_4.1.1       tidyselect_1.1.1\n",
       "[25] glue_1.6.0       R6_2.5.1         fansi_1.0.0      pbdZMQ_0.3-6    \n",
       "[29] purrr_0.3.4      magrittr_2.0.1   codetools_0.2-18 scales_1.1.1    \n",
       "[33] ellipsis_0.3.2   htmltools_0.5.2  colorspace_2.0-2 utf8_1.2.2      \n",
       "[37] munsell_0.5.0    crayon_1.4.2    "
      ]
     },
     "metadata": {},
     "output_type": "display_data"
    }
   ],
   "source": [
    "sessionInfo()"
   ]
  }
 ],
 "metadata": {
  "kernelspec": {
   "display_name": "R [conda env:general-tidyverse]",
   "language": "R",
   "name": "conda-env-general-tidyverse-r"
  },
  "language_info": {
   "codemirror_mode": "r",
   "file_extension": ".r",
   "mimetype": "text/x-r-source",
   "name": "R",
   "pygments_lexer": "r",
   "version": "4.1.1"
  },
  "toc": {
   "base_numbering": 1,
   "nav_menu": {},
   "number_sections": true,
   "sideBar": true,
   "skip_h1_title": false,
   "title_cell": "Table of Contents",
   "title_sidebar": "Contents",
   "toc_cell": true,
   "toc_position": {},
   "toc_section_display": true,
   "toc_window_display": true
  }
 },
 "nbformat": 4,
 "nbformat_minor": 4
}
